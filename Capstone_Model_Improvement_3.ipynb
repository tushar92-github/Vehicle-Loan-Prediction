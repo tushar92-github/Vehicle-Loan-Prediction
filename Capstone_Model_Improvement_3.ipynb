{
 "cells": [
  {
   "cell_type": "code",
   "execution_count": 127,
   "metadata": {},
   "outputs": [],
   "source": [
    "import numpy as np\n",
    "import pandas as pd\n",
    "import matplotlib.pyplot as plt\n",
    "import seaborn as sns"
   ]
  },
  {
   "cell_type": "code",
   "execution_count": 357,
   "metadata": {},
   "outputs": [
    {
     "data": {
      "text/html": [
       "<div>\n",
       "<style scoped>\n",
       "    .dataframe tbody tr th:only-of-type {\n",
       "        vertical-align: middle;\n",
       "    }\n",
       "\n",
       "    .dataframe tbody tr th {\n",
       "        vertical-align: top;\n",
       "    }\n",
       "\n",
       "    .dataframe thead th {\n",
       "        text-align: right;\n",
       "    }\n",
       "</style>\n",
       "<table border=\"1\" class=\"dataframe\">\n",
       "  <thead>\n",
       "    <tr style=\"text-align: right;\">\n",
       "      <th></th>\n",
       "      <th>Unnamed: 0</th>\n",
       "      <th>disbursed_amount</th>\n",
       "      <th>asset_cost</th>\n",
       "      <th>ltv</th>\n",
       "      <th>Aadhar_flag</th>\n",
       "      <th>VoterID_flag</th>\n",
       "      <th>PERFORM_CNS.SCORE</th>\n",
       "      <th>PERFORM_CNS.SCORE.DESCRIPTION</th>\n",
       "      <th>PRI.NO.OF.ACCTS</th>\n",
       "      <th>PRI.ACTIVE.ACCTS</th>\n",
       "      <th>...</th>\n",
       "      <th>Salaried</th>\n",
       "      <th>Self employed</th>\n",
       "      <th>ATLEAST.ONE.PRI.OVERDUE.ACCTS</th>\n",
       "      <th>ZERO.PRI.OVERDUE.ACCTS</th>\n",
       "      <th>ATLEAST.ONE.NEW.ACCTS.IN.LAST.SIX.MONTHS</th>\n",
       "      <th>ZERO.NEW.ACCTS.IN.LAST.SIX.MONTHS</th>\n",
       "      <th>ATLEAST.ONE.DELINQUENT.ACCTS.IN.LAST.SIX.MONTHS</th>\n",
       "      <th>ZERO.DELINQUENT.ACCTS.IN.LAST.SIX.MONTHS</th>\n",
       "      <th>ATLEAST.ONE.NO.OF_INQUIRIES</th>\n",
       "      <th>ZERO.NO.OF_INQUIRIES</th>\n",
       "    </tr>\n",
       "  </thead>\n",
       "  <tbody>\n",
       "    <tr>\n",
       "      <th>0</th>\n",
       "      <td>0</td>\n",
       "      <td>50578</td>\n",
       "      <td>58400</td>\n",
       "      <td>89.55</td>\n",
       "      <td>1</td>\n",
       "      <td>0</td>\n",
       "      <td>0</td>\n",
       "      <td>116950</td>\n",
       "      <td>0</td>\n",
       "      <td>0</td>\n",
       "      <td>...</td>\n",
       "      <td>1</td>\n",
       "      <td>0</td>\n",
       "      <td>0</td>\n",
       "      <td>1</td>\n",
       "      <td>0</td>\n",
       "      <td>1</td>\n",
       "      <td>0</td>\n",
       "      <td>1</td>\n",
       "      <td>0</td>\n",
       "      <td>1</td>\n",
       "    </tr>\n",
       "    <tr>\n",
       "      <th>1</th>\n",
       "      <td>1</td>\n",
       "      <td>47145</td>\n",
       "      <td>65550</td>\n",
       "      <td>73.23</td>\n",
       "      <td>1</td>\n",
       "      <td>0</td>\n",
       "      <td>1</td>\n",
       "      <td>5557</td>\n",
       "      <td>1</td>\n",
       "      <td>1</td>\n",
       "      <td>...</td>\n",
       "      <td>0</td>\n",
       "      <td>1</td>\n",
       "      <td>1</td>\n",
       "      <td>0</td>\n",
       "      <td>0</td>\n",
       "      <td>1</td>\n",
       "      <td>1</td>\n",
       "      <td>0</td>\n",
       "      <td>0</td>\n",
       "      <td>1</td>\n",
       "    </tr>\n",
       "    <tr>\n",
       "      <th>2</th>\n",
       "      <td>2</td>\n",
       "      <td>53278</td>\n",
       "      <td>61360</td>\n",
       "      <td>89.63</td>\n",
       "      <td>1</td>\n",
       "      <td>0</td>\n",
       "      <td>0</td>\n",
       "      <td>116950</td>\n",
       "      <td>0</td>\n",
       "      <td>0</td>\n",
       "      <td>...</td>\n",
       "      <td>0</td>\n",
       "      <td>1</td>\n",
       "      <td>0</td>\n",
       "      <td>1</td>\n",
       "      <td>0</td>\n",
       "      <td>1</td>\n",
       "      <td>0</td>\n",
       "      <td>1</td>\n",
       "      <td>0</td>\n",
       "      <td>1</td>\n",
       "    </tr>\n",
       "    <tr>\n",
       "      <th>3</th>\n",
       "      <td>3</td>\n",
       "      <td>57513</td>\n",
       "      <td>66113</td>\n",
       "      <td>88.48</td>\n",
       "      <td>1</td>\n",
       "      <td>0</td>\n",
       "      <td>1</td>\n",
       "      <td>1134</td>\n",
       "      <td>3</td>\n",
       "      <td>0</td>\n",
       "      <td>...</td>\n",
       "      <td>0</td>\n",
       "      <td>1</td>\n",
       "      <td>0</td>\n",
       "      <td>1</td>\n",
       "      <td>0</td>\n",
       "      <td>1</td>\n",
       "      <td>0</td>\n",
       "      <td>1</td>\n",
       "      <td>1</td>\n",
       "      <td>0</td>\n",
       "    </tr>\n",
       "    <tr>\n",
       "      <th>4</th>\n",
       "      <td>4</td>\n",
       "      <td>52378</td>\n",
       "      <td>60300</td>\n",
       "      <td>88.39</td>\n",
       "      <td>1</td>\n",
       "      <td>0</td>\n",
       "      <td>0</td>\n",
       "      <td>116950</td>\n",
       "      <td>0</td>\n",
       "      <td>0</td>\n",
       "      <td>...</td>\n",
       "      <td>0</td>\n",
       "      <td>1</td>\n",
       "      <td>0</td>\n",
       "      <td>1</td>\n",
       "      <td>0</td>\n",
       "      <td>1</td>\n",
       "      <td>0</td>\n",
       "      <td>1</td>\n",
       "      <td>1</td>\n",
       "      <td>0</td>\n",
       "    </tr>\n",
       "  </tbody>\n",
       "</table>\n",
       "<p>5 rows × 27 columns</p>\n",
       "</div>"
      ],
      "text/plain": [
       "   Unnamed: 0  disbursed_amount  asset_cost    ltv  Aadhar_flag  VoterID_flag  \\\n",
       "0           0             50578       58400  89.55            1             0   \n",
       "1           1             47145       65550  73.23            1             0   \n",
       "2           2             53278       61360  89.63            1             0   \n",
       "3           3             57513       66113  88.48            1             0   \n",
       "4           4             52378       60300  88.39            1             0   \n",
       "\n",
       "   PERFORM_CNS.SCORE  PERFORM_CNS.SCORE.DESCRIPTION  PRI.NO.OF.ACCTS  \\\n",
       "0                  0                         116950                0   \n",
       "1                  1                           5557                1   \n",
       "2                  0                         116950                0   \n",
       "3                  1                           1134                3   \n",
       "4                  0                         116950                0   \n",
       "\n",
       "   PRI.ACTIVE.ACCTS  ...  Salaried  Self employed  \\\n",
       "0                 0  ...         1              0   \n",
       "1                 1  ...         0              1   \n",
       "2                 0  ...         0              1   \n",
       "3                 0  ...         0              1   \n",
       "4                 0  ...         0              1   \n",
       "\n",
       "   ATLEAST.ONE.PRI.OVERDUE.ACCTS  ZERO.PRI.OVERDUE.ACCTS  \\\n",
       "0                              0                       1   \n",
       "1                              1                       0   \n",
       "2                              0                       1   \n",
       "3                              0                       1   \n",
       "4                              0                       1   \n",
       "\n",
       "   ATLEAST.ONE.NEW.ACCTS.IN.LAST.SIX.MONTHS  \\\n",
       "0                                         0   \n",
       "1                                         0   \n",
       "2                                         0   \n",
       "3                                         0   \n",
       "4                                         0   \n",
       "\n",
       "   ZERO.NEW.ACCTS.IN.LAST.SIX.MONTHS  \\\n",
       "0                                  1   \n",
       "1                                  1   \n",
       "2                                  1   \n",
       "3                                  1   \n",
       "4                                  1   \n",
       "\n",
       "   ATLEAST.ONE.DELINQUENT.ACCTS.IN.LAST.SIX.MONTHS  \\\n",
       "0                                                0   \n",
       "1                                                1   \n",
       "2                                                0   \n",
       "3                                                0   \n",
       "4                                                0   \n",
       "\n",
       "   ZERO.DELINQUENT.ACCTS.IN.LAST.SIX.MONTHS  ATLEAST.ONE.NO.OF_INQUIRIES  \\\n",
       "0                                         1                            0   \n",
       "1                                         0                            0   \n",
       "2                                         1                            0   \n",
       "3                                         1                            1   \n",
       "4                                         1                            1   \n",
       "\n",
       "   ZERO.NO.OF_INQUIRIES  \n",
       "0                     1  \n",
       "1                     1  \n",
       "2                     1  \n",
       "3                     0  \n",
       "4                     0  \n",
       "\n",
       "[5 rows x 27 columns]"
      ]
     },
     "execution_count": 357,
     "metadata": {},
     "output_type": "execute_result"
    }
   ],
   "source": [
    "df = pd.read_csv('C:/Users/Tusha/OneDrive/Desktop/GL - DSE/capstone/Model Improvement/Final datasets/final_data.csv')\n",
    "df.head()"
   ]
  },
  {
   "cell_type": "code",
   "execution_count": 358,
   "metadata": {},
   "outputs": [],
   "source": [
    "df.drop('Unnamed: 0', axis = 1, inplace = True)"
   ]
  },
  {
   "cell_type": "code",
   "execution_count": 451,
   "metadata": {},
   "outputs": [
    {
     "data": {
      "text/html": [
       "<div>\n",
       "<style scoped>\n",
       "    .dataframe tbody tr th:only-of-type {\n",
       "        vertical-align: middle;\n",
       "    }\n",
       "\n",
       "    .dataframe tbody tr th {\n",
       "        vertical-align: top;\n",
       "    }\n",
       "\n",
       "    .dataframe thead th {\n",
       "        text-align: right;\n",
       "    }\n",
       "</style>\n",
       "<table border=\"1\" class=\"dataframe\">\n",
       "  <thead>\n",
       "    <tr style=\"text-align: right;\">\n",
       "      <th></th>\n",
       "      <th>disbursed_amount</th>\n",
       "      <th>asset_cost</th>\n",
       "      <th>ltv</th>\n",
       "      <th>Aadhar_flag</th>\n",
       "      <th>VoterID_flag</th>\n",
       "      <th>PERFORM_CNS.SCORE</th>\n",
       "      <th>PERFORM_CNS.SCORE.DESCRIPTION</th>\n",
       "      <th>PRI.NO.OF.ACCTS</th>\n",
       "      <th>PRI.ACTIVE.ACCTS</th>\n",
       "      <th>PRI.CURRENT.BALANCE</th>\n",
       "      <th>...</th>\n",
       "      <th>Self employed</th>\n",
       "      <th>ATLEAST.ONE.PRI.OVERDUE.ACCTS</th>\n",
       "      <th>ZERO.PRI.OVERDUE.ACCTS</th>\n",
       "      <th>ATLEAST.ONE.NEW.ACCTS.IN.LAST.SIX.MONTHS</th>\n",
       "      <th>ZERO.NEW.ACCTS.IN.LAST.SIX.MONTHS</th>\n",
       "      <th>ATLEAST.ONE.DELINQUENT.ACCTS.IN.LAST.SIX.MONTHS</th>\n",
       "      <th>ZERO.DELINQUENT.ACCTS.IN.LAST.SIX.MONTHS</th>\n",
       "      <th>ATLEAST.ONE.NO.OF_INQUIRIES</th>\n",
       "      <th>ZERO.NO.OF_INQUIRIES</th>\n",
       "      <th>PRI.ACTIVE.ACCTS.CATEGORY</th>\n",
       "    </tr>\n",
       "  </thead>\n",
       "  <tbody>\n",
       "    <tr>\n",
       "      <th>0</th>\n",
       "      <td>50578</td>\n",
       "      <td>58400</td>\n",
       "      <td>89.55</td>\n",
       "      <td>1</td>\n",
       "      <td>0</td>\n",
       "      <td>0</td>\n",
       "      <td>116950</td>\n",
       "      <td>0</td>\n",
       "      <td>0</td>\n",
       "      <td>0</td>\n",
       "      <td>...</td>\n",
       "      <td>0</td>\n",
       "      <td>0</td>\n",
       "      <td>1</td>\n",
       "      <td>0</td>\n",
       "      <td>1</td>\n",
       "      <td>0</td>\n",
       "      <td>1</td>\n",
       "      <td>0</td>\n",
       "      <td>1</td>\n",
       "      <td>2.0</td>\n",
       "    </tr>\n",
       "    <tr>\n",
       "      <th>1</th>\n",
       "      <td>47145</td>\n",
       "      <td>65550</td>\n",
       "      <td>73.23</td>\n",
       "      <td>1</td>\n",
       "      <td>0</td>\n",
       "      <td>1</td>\n",
       "      <td>5557</td>\n",
       "      <td>1</td>\n",
       "      <td>1</td>\n",
       "      <td>27600</td>\n",
       "      <td>...</td>\n",
       "      <td>1</td>\n",
       "      <td>1</td>\n",
       "      <td>0</td>\n",
       "      <td>0</td>\n",
       "      <td>1</td>\n",
       "      <td>1</td>\n",
       "      <td>0</td>\n",
       "      <td>0</td>\n",
       "      <td>1</td>\n",
       "      <td>6.0</td>\n",
       "    </tr>\n",
       "    <tr>\n",
       "      <th>2</th>\n",
       "      <td>53278</td>\n",
       "      <td>61360</td>\n",
       "      <td>89.63</td>\n",
       "      <td>1</td>\n",
       "      <td>0</td>\n",
       "      <td>0</td>\n",
       "      <td>116950</td>\n",
       "      <td>0</td>\n",
       "      <td>0</td>\n",
       "      <td>0</td>\n",
       "      <td>...</td>\n",
       "      <td>1</td>\n",
       "      <td>0</td>\n",
       "      <td>1</td>\n",
       "      <td>0</td>\n",
       "      <td>1</td>\n",
       "      <td>0</td>\n",
       "      <td>1</td>\n",
       "      <td>0</td>\n",
       "      <td>1</td>\n",
       "      <td>2.0</td>\n",
       "    </tr>\n",
       "    <tr>\n",
       "      <th>3</th>\n",
       "      <td>57513</td>\n",
       "      <td>66113</td>\n",
       "      <td>88.48</td>\n",
       "      <td>1</td>\n",
       "      <td>0</td>\n",
       "      <td>1</td>\n",
       "      <td>1134</td>\n",
       "      <td>3</td>\n",
       "      <td>0</td>\n",
       "      <td>0</td>\n",
       "      <td>...</td>\n",
       "      <td>1</td>\n",
       "      <td>0</td>\n",
       "      <td>1</td>\n",
       "      <td>0</td>\n",
       "      <td>1</td>\n",
       "      <td>0</td>\n",
       "      <td>1</td>\n",
       "      <td>1</td>\n",
       "      <td>0</td>\n",
       "      <td>2.0</td>\n",
       "    </tr>\n",
       "    <tr>\n",
       "      <th>4</th>\n",
       "      <td>52378</td>\n",
       "      <td>60300</td>\n",
       "      <td>88.39</td>\n",
       "      <td>1</td>\n",
       "      <td>0</td>\n",
       "      <td>0</td>\n",
       "      <td>116950</td>\n",
       "      <td>0</td>\n",
       "      <td>0</td>\n",
       "      <td>0</td>\n",
       "      <td>...</td>\n",
       "      <td>1</td>\n",
       "      <td>0</td>\n",
       "      <td>1</td>\n",
       "      <td>0</td>\n",
       "      <td>1</td>\n",
       "      <td>0</td>\n",
       "      <td>1</td>\n",
       "      <td>1</td>\n",
       "      <td>0</td>\n",
       "      <td>2.0</td>\n",
       "    </tr>\n",
       "  </tbody>\n",
       "</table>\n",
       "<p>5 rows × 27 columns</p>\n",
       "</div>"
      ],
      "text/plain": [
       "   disbursed_amount  asset_cost    ltv  Aadhar_flag  VoterID_flag  \\\n",
       "0             50578       58400  89.55            1             0   \n",
       "1             47145       65550  73.23            1             0   \n",
       "2             53278       61360  89.63            1             0   \n",
       "3             57513       66113  88.48            1             0   \n",
       "4             52378       60300  88.39            1             0   \n",
       "\n",
       "   PERFORM_CNS.SCORE  PERFORM_CNS.SCORE.DESCRIPTION  PRI.NO.OF.ACCTS  \\\n",
       "0                  0                         116950                0   \n",
       "1                  1                           5557                1   \n",
       "2                  0                         116950                0   \n",
       "3                  1                           1134                3   \n",
       "4                  0                         116950                0   \n",
       "\n",
       "   PRI.ACTIVE.ACCTS  PRI.CURRENT.BALANCE  ...  Self employed  \\\n",
       "0                 0                    0  ...              0   \n",
       "1                 1                27600  ...              1   \n",
       "2                 0                    0  ...              1   \n",
       "3                 0                    0  ...              1   \n",
       "4                 0                    0  ...              1   \n",
       "\n",
       "   ATLEAST.ONE.PRI.OVERDUE.ACCTS  ZERO.PRI.OVERDUE.ACCTS  \\\n",
       "0                              0                       1   \n",
       "1                              1                       0   \n",
       "2                              0                       1   \n",
       "3                              0                       1   \n",
       "4                              0                       1   \n",
       "\n",
       "   ATLEAST.ONE.NEW.ACCTS.IN.LAST.SIX.MONTHS  \\\n",
       "0                                         0   \n",
       "1                                         0   \n",
       "2                                         0   \n",
       "3                                         0   \n",
       "4                                         0   \n",
       "\n",
       "   ZERO.NEW.ACCTS.IN.LAST.SIX.MONTHS  \\\n",
       "0                                  1   \n",
       "1                                  1   \n",
       "2                                  1   \n",
       "3                                  1   \n",
       "4                                  1   \n",
       "\n",
       "   ATLEAST.ONE.DELINQUENT.ACCTS.IN.LAST.SIX.MONTHS  \\\n",
       "0                                                0   \n",
       "1                                                1   \n",
       "2                                                0   \n",
       "3                                                0   \n",
       "4                                                0   \n",
       "\n",
       "   ZERO.DELINQUENT.ACCTS.IN.LAST.SIX.MONTHS  ATLEAST.ONE.NO.OF_INQUIRIES  \\\n",
       "0                                         1                            0   \n",
       "1                                         0                            0   \n",
       "2                                         1                            0   \n",
       "3                                         1                            1   \n",
       "4                                         1                            1   \n",
       "\n",
       "   ZERO.NO.OF_INQUIRIES  PRI.ACTIVE.ACCTS.CATEGORY  \n",
       "0                     1                        2.0  \n",
       "1                     1                        6.0  \n",
       "2                     1                        2.0  \n",
       "3                     0                        2.0  \n",
       "4                     0                        2.0  \n",
       "\n",
       "[5 rows x 27 columns]"
      ]
     },
     "execution_count": 451,
     "metadata": {},
     "output_type": "execute_result"
    }
   ],
   "source": [
    "df.head()"
   ]
  },
  {
   "cell_type": "code",
   "execution_count": 192,
   "metadata": {},
   "outputs": [
    {
     "data": {
      "text/html": [
       "<div>\n",
       "<style scoped>\n",
       "    .dataframe tbody tr th:only-of-type {\n",
       "        vertical-align: middle;\n",
       "    }\n",
       "\n",
       "    .dataframe tbody tr th {\n",
       "        vertical-align: top;\n",
       "    }\n",
       "\n",
       "    .dataframe thead th {\n",
       "        text-align: right;\n",
       "    }\n",
       "</style>\n",
       "<table border=\"1\" class=\"dataframe\">\n",
       "  <thead>\n",
       "    <tr style=\"text-align: right;\">\n",
       "      <th></th>\n",
       "      <th>UNIQUEID</th>\n",
       "      <th>DISBURSED_AMOUNT</th>\n",
       "      <th>ASSET_COST</th>\n",
       "      <th>LTV</th>\n",
       "      <th>BRANCH_ID</th>\n",
       "      <th>SUPPLIER_ID</th>\n",
       "      <th>MANUFACTURER_ID</th>\n",
       "      <th>CURRENT_PINCODE_ID</th>\n",
       "      <th>DATE_OF_BIRTH</th>\n",
       "      <th>EMPLOYMENT_TYPE</th>\n",
       "      <th>...</th>\n",
       "      <th>SEC_SANCTIONED_AMOUNT</th>\n",
       "      <th>SEC_DISBURSED_AMOUNT</th>\n",
       "      <th>PRIMARY_INSTAL_AMT</th>\n",
       "      <th>SEC_INSTAL_AMT</th>\n",
       "      <th>NEW_ACCTS_IN_LAST_SIX_MONTHS</th>\n",
       "      <th>DELINQUENT_ACCTS_IN_LAST_SIX_MONTHS</th>\n",
       "      <th>AVERAGE_ACCT_AGE</th>\n",
       "      <th>CREDIT_HISTORY_LENGTH</th>\n",
       "      <th>NO_OF_INQUIRIES</th>\n",
       "      <th>LOAN_DEFAULT</th>\n",
       "    </tr>\n",
       "  </thead>\n",
       "  <tbody>\n",
       "    <tr>\n",
       "      <th>0</th>\n",
       "      <td>420825</td>\n",
       "      <td>50578</td>\n",
       "      <td>58400</td>\n",
       "      <td>89.55</td>\n",
       "      <td>67</td>\n",
       "      <td>22807</td>\n",
       "      <td>45</td>\n",
       "      <td>1441</td>\n",
       "      <td>01-01-1984</td>\n",
       "      <td>Salaried</td>\n",
       "      <td>...</td>\n",
       "      <td>0</td>\n",
       "      <td>0</td>\n",
       "      <td>0</td>\n",
       "      <td>0</td>\n",
       "      <td>0</td>\n",
       "      <td>0</td>\n",
       "      <td>0yrs 0mon</td>\n",
       "      <td>0yrs 0mon</td>\n",
       "      <td>0</td>\n",
       "      <td>0</td>\n",
       "    </tr>\n",
       "    <tr>\n",
       "      <th>1</th>\n",
       "      <td>537409</td>\n",
       "      <td>47145</td>\n",
       "      <td>65550</td>\n",
       "      <td>73.23</td>\n",
       "      <td>67</td>\n",
       "      <td>22807</td>\n",
       "      <td>45</td>\n",
       "      <td>1502</td>\n",
       "      <td>31-07-1985</td>\n",
       "      <td>Self employed</td>\n",
       "      <td>...</td>\n",
       "      <td>0</td>\n",
       "      <td>0</td>\n",
       "      <td>1991</td>\n",
       "      <td>0</td>\n",
       "      <td>0</td>\n",
       "      <td>1</td>\n",
       "      <td>1yrs 11mon</td>\n",
       "      <td>1yrs 11mon</td>\n",
       "      <td>0</td>\n",
       "      <td>1</td>\n",
       "    </tr>\n",
       "    <tr>\n",
       "      <th>2</th>\n",
       "      <td>417566</td>\n",
       "      <td>53278</td>\n",
       "      <td>61360</td>\n",
       "      <td>89.63</td>\n",
       "      <td>67</td>\n",
       "      <td>22807</td>\n",
       "      <td>45</td>\n",
       "      <td>1497</td>\n",
       "      <td>24-08-1985</td>\n",
       "      <td>Self employed</td>\n",
       "      <td>...</td>\n",
       "      <td>0</td>\n",
       "      <td>0</td>\n",
       "      <td>0</td>\n",
       "      <td>0</td>\n",
       "      <td>0</td>\n",
       "      <td>0</td>\n",
       "      <td>0yrs 0mon</td>\n",
       "      <td>0yrs 0mon</td>\n",
       "      <td>0</td>\n",
       "      <td>0</td>\n",
       "    </tr>\n",
       "    <tr>\n",
       "      <th>3</th>\n",
       "      <td>624493</td>\n",
       "      <td>57513</td>\n",
       "      <td>66113</td>\n",
       "      <td>88.48</td>\n",
       "      <td>67</td>\n",
       "      <td>22807</td>\n",
       "      <td>45</td>\n",
       "      <td>1501</td>\n",
       "      <td>30-12-1993</td>\n",
       "      <td>Self employed</td>\n",
       "      <td>...</td>\n",
       "      <td>0</td>\n",
       "      <td>0</td>\n",
       "      <td>31</td>\n",
       "      <td>0</td>\n",
       "      <td>0</td>\n",
       "      <td>0</td>\n",
       "      <td>0yrs 8mon</td>\n",
       "      <td>1yrs 3mon</td>\n",
       "      <td>1</td>\n",
       "      <td>1</td>\n",
       "    </tr>\n",
       "    <tr>\n",
       "      <th>4</th>\n",
       "      <td>539055</td>\n",
       "      <td>52378</td>\n",
       "      <td>60300</td>\n",
       "      <td>88.39</td>\n",
       "      <td>67</td>\n",
       "      <td>22807</td>\n",
       "      <td>45</td>\n",
       "      <td>1495</td>\n",
       "      <td>09-12-1977</td>\n",
       "      <td>Self employed</td>\n",
       "      <td>...</td>\n",
       "      <td>0</td>\n",
       "      <td>0</td>\n",
       "      <td>0</td>\n",
       "      <td>0</td>\n",
       "      <td>0</td>\n",
       "      <td>0</td>\n",
       "      <td>0yrs 0mon</td>\n",
       "      <td>0yrs 0mon</td>\n",
       "      <td>1</td>\n",
       "      <td>1</td>\n",
       "    </tr>\n",
       "  </tbody>\n",
       "</table>\n",
       "<p>5 rows × 41 columns</p>\n",
       "</div>"
      ],
      "text/plain": [
       "   UNIQUEID  DISBURSED_AMOUNT  ASSET_COST    LTV  BRANCH_ID  SUPPLIER_ID  \\\n",
       "0    420825             50578       58400  89.55         67        22807   \n",
       "1    537409             47145       65550  73.23         67        22807   \n",
       "2    417566             53278       61360  89.63         67        22807   \n",
       "3    624493             57513       66113  88.48         67        22807   \n",
       "4    539055             52378       60300  88.39         67        22807   \n",
       "\n",
       "   MANUFACTURER_ID  CURRENT_PINCODE_ID DATE_OF_BIRTH EMPLOYMENT_TYPE  ...  \\\n",
       "0               45                1441    01-01-1984        Salaried  ...   \n",
       "1               45                1502    31-07-1985   Self employed  ...   \n",
       "2               45                1497    24-08-1985   Self employed  ...   \n",
       "3               45                1501    30-12-1993   Self employed  ...   \n",
       "4               45                1495    09-12-1977   Self employed  ...   \n",
       "\n",
       "  SEC_SANCTIONED_AMOUNT  SEC_DISBURSED_AMOUNT  PRIMARY_INSTAL_AMT  \\\n",
       "0                     0                     0                   0   \n",
       "1                     0                     0                1991   \n",
       "2                     0                     0                   0   \n",
       "3                     0                     0                  31   \n",
       "4                     0                     0                   0   \n",
       "\n",
       "   SEC_INSTAL_AMT  NEW_ACCTS_IN_LAST_SIX_MONTHS  \\\n",
       "0               0                             0   \n",
       "1               0                             0   \n",
       "2               0                             0   \n",
       "3               0                             0   \n",
       "4               0                             0   \n",
       "\n",
       "   DELINQUENT_ACCTS_IN_LAST_SIX_MONTHS  AVERAGE_ACCT_AGE  \\\n",
       "0                                    0         0yrs 0mon   \n",
       "1                                    1        1yrs 11mon   \n",
       "2                                    0         0yrs 0mon   \n",
       "3                                    0         0yrs 8mon   \n",
       "4                                    0         0yrs 0mon   \n",
       "\n",
       "   CREDIT_HISTORY_LENGTH  NO_OF_INQUIRIES  LOAN_DEFAULT  \n",
       "0              0yrs 0mon                0             0  \n",
       "1             1yrs 11mon                0             1  \n",
       "2              0yrs 0mon                0             0  \n",
       "3              1yrs 3mon                1             1  \n",
       "4              0yrs 0mon                1             1  \n",
       "\n",
       "[5 rows x 41 columns]"
      ]
     },
     "execution_count": 192,
     "metadata": {},
     "output_type": "execute_result"
    }
   ],
   "source": [
    "df2 = pd.read_csv('C:/Users/Tusha/OneDrive/Desktop/GL - DSE/capstone/train.csv')\n",
    "df2.head()"
   ]
  },
  {
   "cell_type": "code",
   "execution_count": 9,
   "metadata": {},
   "outputs": [
    {
     "data": {
      "image/png": "[encoded data removed]",
      "text/plain": [
       "<Figure size 1200x1000 with 2 Axes>"
      ]
     },
     "metadata": {
      "needs_background": "light"
     },
     "output_type": "display_data"
    }
   ],
   "source": [
    "plt.figure(figsize = (12,10), dpi = 100)\n",
    "sns.heatmap(df2.corr()[df2.corr() > 0.5], annot = True)\n",
    "plt.show()"
   ]
  },
  {
   "cell_type": "code",
   "execution_count": 452,
   "metadata": {},
   "outputs": [
    {
     "data": {
      "image/png": "[encoded data removed]",
      "text/plain": [
       "<Figure size 1200x1000 with 2 Axes>"
      ]
     },
     "metadata": {
      "needs_background": "light"
     },
     "output_type": "display_data"
    }
   ],
   "source": [
    "plt.figure(figsize = (12,10), dpi = 100)\n",
    "sns.heatmap(df.corr()[df.corr() > 0.5], annot = True)\n",
    "plt.show()"
   ]
  },
  {
   "cell_type": "code",
   "execution_count": 453,
   "metadata": {},
   "outputs": [],
   "source": [
    "df_new = df.copy()"
   ]
  },
  {
   "cell_type": "code",
   "execution_count": null,
   "metadata": {},
   "outputs": [],
   "source": [
    "df_new.drop(['disbursed_amount','PRI.SANCTIONED.AMOUNT'])"
   ]
  },
  {
   "cell_type": "code",
   "execution_count": 360,
   "metadata": {},
   "outputs": [
    {
     "data": {
      "text/plain": [
       "Index(['disbursed_amount', 'asset_cost', 'ltv', 'Aadhar_flag', 'VoterID_flag',\n",
       "       'PERFORM_CNS.SCORE', 'PERFORM_CNS.SCORE.DESCRIPTION', 'PRI.NO.OF.ACCTS',\n",
       "       'PRI.ACTIVE.ACCTS', 'PRI.CURRENT.BALANCE', 'PRI.SANCTIONED.AMOUNT',\n",
       "       'PRI.DISBURSED.AMOUNT', 'PRIMARY.INSTAL.AMT', 'AVERAGE.ACCT.AGE',\n",
       "       'CREDIT.HISTORY.LENGTH', 'loan_default', 'Salaried', 'Self employed',\n",
       "       'ATLEAST.ONE.PRI.OVERDUE.ACCTS', 'ZERO.PRI.OVERDUE.ACCTS',\n",
       "       'ATLEAST.ONE.NEW.ACCTS.IN.LAST.SIX.MONTHS',\n",
       "       'ZERO.NEW.ACCTS.IN.LAST.SIX.MONTHS',\n",
       "       'ATLEAST.ONE.DELINQUENT.ACCTS.IN.LAST.SIX.MONTHS',\n",
       "       'ZERO.DELINQUENT.ACCTS.IN.LAST.SIX.MONTHS',\n",
       "       'ATLEAST.ONE.NO.OF_INQUIRIES', 'ZERO.NO.OF_INQUIRIES'],\n",
       "      dtype='object')"
      ]
     },
     "execution_count": 360,
     "metadata": {},
     "output_type": "execute_result"
    }
   ],
   "source": [
    "df.columns"
   ]
  },
  {
   "cell_type": "code",
   "execution_count": 13,
   "metadata": {},
   "outputs": [
    {
     "data": {
      "text/plain": [
       "Index(['UNIQUEID', 'DISBURSED_AMOUNT', 'ASSET_COST', 'LTV', 'BRANCH_ID',\n",
       "       'SUPPLIER_ID', 'MANUFACTURER_ID', 'CURRENT_PINCODE_ID', 'DATE_OF_BIRTH',\n",
       "       'EMPLOYMENT_TYPE', 'DISBURSAL_DATE', 'STATE_ID', 'EMPLOYEE_CODE_ID',\n",
       "       'MOBILENO_AVL_FLAG', 'AADHAR_FLAG', 'PAN_FLAG', 'VOTERID_FLAG',\n",
       "       'DRIVING_FLAG', 'PASSPORT_FLAG', 'PERFORM_CNS_SCORE',\n",
       "       'PERFORM_CNS_SCORE_DESCRIPTION', 'PRI_NO_OF_ACCTS', 'PRI_ACTIVE_ACCTS',\n",
       "       'PRI_OVERDUE_ACCTS', 'PRI_CURRENT_BALANCE', 'PRI_SANCTIONED_AMOUNT',\n",
       "       'PRI_DISBURSED_AMOUNT', 'SEC_NO_OF_ACCTS', 'SEC_ACTIVE_ACCTS',\n",
       "       'SEC_OVERDUE_ACCTS', 'SEC_CURRENT_BALANCE', 'SEC_SANCTIONED_AMOUNT',\n",
       "       'SEC_DISBURSED_AMOUNT', 'PRIMARY_INSTAL_AMT', 'SEC_INSTAL_AMT',\n",
       "       'NEW_ACCTS_IN_LAST_SIX_MONTHS', 'DELINQUENT_ACCTS_IN_LAST_SIX_MONTHS',\n",
       "       'AVERAGE_ACCT_AGE', 'CREDIT_HISTORY_LENGTH', 'NO_OF_INQUIRIES',\n",
       "       'LOAN_DEFAULT'],\n",
       "      dtype='object')"
      ]
     },
     "execution_count": 13,
     "metadata": {},
     "output_type": "execute_result"
    }
   ],
   "source": [
    "df2.columns"
   ]
  },
  {
   "cell_type": "code",
   "execution_count": 194,
   "metadata": {},
   "outputs": [
    {
     "data": {
      "text/plain": [
       "(233154, 41)"
      ]
     },
     "execution_count": 194,
     "metadata": {},
     "output_type": "execute_result"
    }
   ],
   "source": [
    "df2.shape"
   ]
  },
  {
   "cell_type": "code",
   "execution_count": 7,
   "metadata": {},
   "outputs": [
    {
     "data": {
      "text/plain": [
       "0    0.782929\n",
       "1    0.217071\n",
       "Name: LOAN_DEFAULT, dtype: float64"
      ]
     },
     "execution_count": 7,
     "metadata": {},
     "output_type": "execute_result"
    }
   ],
   "source": [
    "df2['LOAN_DEFAULT'].value_counts(normalize = True)"
   ]
  },
  {
   "cell_type": "code",
   "execution_count": 41,
   "metadata": {},
   "outputs": [
    {
     "data": {
      "text/plain": [
       "0     0.384131\n",
       "1     0.116400\n",
       "2     0.066381\n",
       "3     0.044341\n",
       "4     0.032197\n",
       "5     0.024860\n",
       "6     0.019220\n",
       "7     0.015272\n",
       "8     0.012396\n",
       "9     0.010029\n",
       "10    0.008260\n",
       "11    0.006785\n",
       "12    0.005491\n",
       "13    0.004914\n",
       "14    0.003999\n",
       "15    0.003363\n",
       "16    0.002863\n",
       "17    0.002307\n",
       "18    0.002038\n",
       "19    0.001820\n",
       "Name: PRI_NO_OF_ACCTS, dtype: float64"
      ]
     },
     "execution_count": 41,
     "metadata": {},
     "output_type": "execute_result"
    }
   ],
   "source": [
    "(df2[df2['LOAN_DEFAULT'] == 0]['PRI_NO_OF_ACCTS'].value_counts(normalize = True)[0:20]*0.78)"
   ]
  },
  {
   "cell_type": "code",
   "execution_count": 432,
   "metadata": {},
   "outputs": [
    {
     "data": {
      "text/plain": [
       "0      45.278482\n",
       "1      14.046521\n",
       "2       7.277715\n",
       "3       4.182806\n",
       "4       2.600100\n",
       "5       1.613899\n",
       "6       0.987482\n",
       "7       0.653764\n",
       "8       0.439261\n",
       "9       0.279879\n",
       "10      0.190574\n",
       "11      0.122207\n",
       "12      0.086741\n",
       "13      0.065804\n",
       "14      0.044866\n",
       "15      0.035466\n",
       "16      0.020083\n",
       "17      0.018801\n",
       "18      0.013246\n",
       "19      0.010682\n",
       "20      0.005128\n",
       "21      0.003846\n",
       "23      0.003418\n",
       "22      0.002991\n",
       "26      0.002564\n",
       "28      0.002136\n",
       "24      0.002136\n",
       "25      0.002136\n",
       "27      0.001282\n",
       "31      0.000855\n",
       "34      0.000855\n",
       "37      0.000855\n",
       "52      0.000427\n",
       "144     0.000427\n",
       "32      0.000427\n",
       "35      0.000427\n",
       "39      0.000427\n",
       "42      0.000427\n",
       "43      0.000427\n",
       "65      0.000427\n",
       "Name: PRI_ACTIVE_ACCTS, dtype: float64"
      ]
     },
     "execution_count": 432,
     "metadata": {},
     "output_type": "execute_result"
    }
   ],
   "source": [
    "((df2[df2['LOAN_DEFAULT'] == 0]['PRI_ACTIVE_ACCTS'].value_counts(normalize = True))*100)/100*78"
   ]
  },
  {
   "cell_type": "code",
   "execution_count": 9,
   "metadata": {},
   "outputs": [
    {
     "data": {
      "text/plain": [
       "0    0.134975\n",
       "1    0.039913\n",
       "2    0.019635\n",
       "3    0.010776\n",
       "4    0.005977\n",
       "5    0.003325\n",
       "6    0.002073\n",
       "7    0.001152\n",
       "8    0.000756\n",
       "9    0.000439\n",
       "Name: PRI_ACTIVE_ACCTS, dtype: float64"
      ]
     },
     "execution_count": 9,
     "metadata": {},
     "output_type": "execute_result"
    }
   ],
   "source": [
    "(df2[df2['LOAN_DEFAULT'] == 1]['PRI_ACTIVE_ACCTS'].value_counts(normalize = True)[0:10]*0.22)"
   ]
  },
  {
   "cell_type": "code",
   "execution_count": 361,
   "metadata": {},
   "outputs": [],
   "source": [
    "a = df[df['loan_default'] == 0].index\n",
    "a = list(a)"
   ]
  },
  {
   "cell_type": "code",
   "execution_count": 362,
   "metadata": {},
   "outputs": [],
   "source": [
    "b = df[df['loan_default'] == 1].index\n",
    "b = list(b)\n"
   ]
  },
  {
   "cell_type": "code",
   "execution_count": 363,
   "metadata": {},
   "outputs": [
    {
     "data": {
      "text/plain": [
       "182543"
      ]
     },
     "execution_count": 363,
     "metadata": {},
     "output_type": "execute_result"
    }
   ],
   "source": [
    "len(a)"
   ]
  },
  {
   "cell_type": "code",
   "execution_count": 364,
   "metadata": {},
   "outputs": [
    {
     "data": {
      "text/plain": [
       "50611"
      ]
     },
     "execution_count": 364,
     "metadata": {},
     "output_type": "execute_result"
    }
   ],
   "source": [
    "len(b)"
   ]
  },
  {
   "cell_type": "code",
   "execution_count": 365,
   "metadata": {},
   "outputs": [
    {
     "data": {
      "text/plain": [
       "RangeIndex(start=0, stop=233154, step=1)"
      ]
     },
     "execution_count": 365,
     "metadata": {},
     "output_type": "execute_result"
    }
   ],
   "source": [
    "df.index"
   ]
  },
  {
   "cell_type": "code",
   "execution_count": 366,
   "metadata": {},
   "outputs": [
    {
     "data": {
      "text/plain": [
       "(233154, 26)"
      ]
     },
     "execution_count": 366,
     "metadata": {},
     "output_type": "execute_result"
    }
   ],
   "source": [
    "df.shape"
   ]
  },
  {
   "cell_type": "code",
   "execution_count": 367,
   "metadata": {},
   "outputs": [],
   "source": [
    "df['PRI.ACTIVE.ACCTS.CAT'] = df['PRI.ACTIVE.ACCTS'].iloc[a].apply(lambda x: 2 if x< 1 else 3 if (x>=1 and x<=2) else 4 if (x >=3 and x <=4) else 5)"
   ]
  },
  {
   "cell_type": "code",
   "execution_count": 368,
   "metadata": {},
   "outputs": [],
   "source": [
    "df['PRI.ACTIVE.ACCTS.CAT2'] = df['PRI.ACTIVE.ACCTS'].iloc[b].apply(lambda x: 2 if x< 1 else 6 if (x>= 1 and x<=2) else 7)"
   ]
  },
  {
   "cell_type": "code",
   "execution_count": 369,
   "metadata": {},
   "outputs": [
    {
     "data": {
      "text/plain": [
       "disbursed_amount                                        0\n",
       "asset_cost                                              0\n",
       "ltv                                                     0\n",
       "Aadhar_flag                                             0\n",
       "VoterID_flag                                            0\n",
       "PERFORM_CNS.SCORE                                       0\n",
       "PERFORM_CNS.SCORE.DESCRIPTION                           0\n",
       "PRI.NO.OF.ACCTS                                         0\n",
       "PRI.ACTIVE.ACCTS                                        0\n",
       "PRI.CURRENT.BALANCE                                     0\n",
       "PRI.SANCTIONED.AMOUNT                                   0\n",
       "PRI.DISBURSED.AMOUNT                                    0\n",
       "PRIMARY.INSTAL.AMT                                      0\n",
       "AVERAGE.ACCT.AGE                                        0\n",
       "CREDIT.HISTORY.LENGTH                                   0\n",
       "loan_default                                            0\n",
       "Salaried                                                0\n",
       "Self employed                                           0\n",
       "ATLEAST.ONE.PRI.OVERDUE.ACCTS                           0\n",
       "ZERO.PRI.OVERDUE.ACCTS                                  0\n",
       "ATLEAST.ONE.NEW.ACCTS.IN.LAST.SIX.MONTHS                0\n",
       "ZERO.NEW.ACCTS.IN.LAST.SIX.MONTHS                       0\n",
       "ATLEAST.ONE.DELINQUENT.ACCTS.IN.LAST.SIX.MONTHS         0\n",
       "ZERO.DELINQUENT.ACCTS.IN.LAST.SIX.MONTHS                0\n",
       "ATLEAST.ONE.NO.OF_INQUIRIES                             0\n",
       "ZERO.NO.OF_INQUIRIES                                    0\n",
       "PRI.ACTIVE.ACCTS.CAT                                50611\n",
       "PRI.ACTIVE.ACCTS.CAT2                              182543\n",
       "dtype: int64"
      ]
     },
     "execution_count": 369,
     "metadata": {},
     "output_type": "execute_result"
    }
   ],
   "source": [
    "df.isnull().sum()"
   ]
  },
  {
   "cell_type": "code",
   "execution_count": 370,
   "metadata": {},
   "outputs": [],
   "source": [
    "df['PRI.ACTIVE.ACCTS.CAT'] = df['PRI.ACTIVE.ACCTS.CAT'].fillna(0)\n",
    "df['PRI.ACTIVE.ACCTS.CAT2'] = df['PRI.ACTIVE.ACCTS.CAT2'].fillna(0)"
   ]
  },
  {
   "cell_type": "code",
   "execution_count": 371,
   "metadata": {},
   "outputs": [],
   "source": [
    "df['PRI.ACTIVE.ACCTS.CATEGORY'] = df['PRI.ACTIVE.ACCTS.CAT'] + df['PRI.ACTIVE.ACCTS.CAT2']"
   ]
  },
  {
   "cell_type": "code",
   "execution_count": 372,
   "metadata": {},
   "outputs": [
    {
     "data": {
      "text/plain": [
       "2.0    137016\n",
       "3.0     49905\n",
       "4.0     15874\n",
       "6.0     13699\n",
       "5.0     10799\n",
       "7.0      5861\n",
       "Name: PRI.ACTIVE.ACCTS.CATEGORY, dtype: int64"
      ]
     },
     "execution_count": 372,
     "metadata": {},
     "output_type": "execute_result"
    }
   ],
   "source": [
    "df['PRI.ACTIVE.ACCTS.CATEGORY'].value_counts()"
   ]
  },
  {
   "cell_type": "code",
   "execution_count": 373,
   "metadata": {},
   "outputs": [
    {
     "data": {
      "text/plain": [
       "2.0    0.452785\n",
       "3.0    0.213242\n",
       "4.0    0.067829\n",
       "5.0    0.046144\n",
       "Name: PRI.ACTIVE.ACCTS.CATEGORY, dtype: float64"
      ]
     },
     "execution_count": 373,
     "metadata": {},
     "output_type": "execute_result"
    }
   ],
   "source": [
    "df[df['loan_default'] == 0]['PRI.ACTIVE.ACCTS.CATEGORY'].value_counts(normalize = True)*0.78"
   ]
  },
  {
   "cell_type": "code",
   "execution_count": 374,
   "metadata": {},
   "outputs": [
    {
     "data": {
      "text/plain": [
       "2.0    0.134975\n",
       "6.0    0.059548\n",
       "7.0    0.025477\n",
       "Name: PRI.ACTIVE.ACCTS.CATEGORY, dtype: float64"
      ]
     },
     "execution_count": 374,
     "metadata": {},
     "output_type": "execute_result"
    }
   ],
   "source": [
    "df[df['loan_default'] == 1]['PRI.ACTIVE.ACCTS.CATEGORY'].value_counts(normalize = True)*0.22"
   ]
  },
  {
   "cell_type": "code",
   "execution_count": 375,
   "metadata": {},
   "outputs": [],
   "source": [
    "df.drop(['PRI.ACTIVE.ACCTS.CAT','PRI.ACTIVE.ACCTS.CAT2'], axis = 1, inplace = True)"
   ]
  },
  {
   "cell_type": "code",
   "execution_count": 376,
   "metadata": {},
   "outputs": [
    {
     "data": {
      "text/plain": [
       "(233154, 27)"
      ]
     },
     "execution_count": 376,
     "metadata": {},
     "output_type": "execute_result"
    }
   ],
   "source": [
    "df.shape"
   ]
  },
  {
   "cell_type": "code",
   "execution_count": 206,
   "metadata": {},
   "outputs": [
    {
     "data": {
      "text/html": [
       "<div>\n",
       "<style scoped>\n",
       "    .dataframe tbody tr th:only-of-type {\n",
       "        vertical-align: middle;\n",
       "    }\n",
       "\n",
       "    .dataframe tbody tr th {\n",
       "        vertical-align: top;\n",
       "    }\n",
       "\n",
       "    .dataframe thead th {\n",
       "        text-align: right;\n",
       "    }\n",
       "</style>\n",
       "<table border=\"1\" class=\"dataframe\">\n",
       "  <thead>\n",
       "    <tr style=\"text-align: right;\">\n",
       "      <th></th>\n",
       "      <th>loan_default</th>\n",
       "      <th>PRI.ACTIVE.ACCTS.CATEGORY</th>\n",
       "    </tr>\n",
       "  </thead>\n",
       "  <tbody>\n",
       "    <tr>\n",
       "      <th>loan_default</th>\n",
       "      <td>1.000000</td>\n",
       "      <td>-0.969312</td>\n",
       "    </tr>\n",
       "    <tr>\n",
       "      <th>PRI.ACTIVE.ACCTS.CATEGORY</th>\n",
       "      <td>-0.969312</td>\n",
       "      <td>1.000000</td>\n",
       "    </tr>\n",
       "  </tbody>\n",
       "</table>\n",
       "</div>"
      ],
      "text/plain": [
       "                           loan_default  PRI.ACTIVE.ACCTS.CATEGORY\n",
       "loan_default                   1.000000                  -0.969312\n",
       "PRI.ACTIVE.ACCTS.CATEGORY     -0.969312                   1.000000"
      ]
     },
     "execution_count": 206,
     "metadata": {},
     "output_type": "execute_result"
    }
   ],
   "source": [
    "df[['loan_default', 'PRI.ACTIVE.ACCTS.CATEGORY']].corr() "
   ]
  },
  {
   "cell_type": "code",
   "execution_count": 254,
   "metadata": {},
   "outputs": [
    {
     "data": {
      "text/html": [
       "<div>\n",
       "<style scoped>\n",
       "    .dataframe tbody tr th:only-of-type {\n",
       "        vertical-align: middle;\n",
       "    }\n",
       "\n",
       "    .dataframe tbody tr th {\n",
       "        vertical-align: top;\n",
       "    }\n",
       "\n",
       "    .dataframe thead th {\n",
       "        text-align: right;\n",
       "    }\n",
       "</style>\n",
       "<table border=\"1\" class=\"dataframe\">\n",
       "  <thead>\n",
       "    <tr style=\"text-align: right;\">\n",
       "      <th></th>\n",
       "      <th>loan_default</th>\n",
       "      <th>PRI.ACTIVE.ACCTS.CATEGORY</th>\n",
       "    </tr>\n",
       "  </thead>\n",
       "  <tbody>\n",
       "    <tr>\n",
       "      <th>loan_default</th>\n",
       "      <td>1.000000</td>\n",
       "      <td>-0.909914</td>\n",
       "    </tr>\n",
       "    <tr>\n",
       "      <th>PRI.ACTIVE.ACCTS.CATEGORY</th>\n",
       "      <td>-0.909914</td>\n",
       "      <td>1.000000</td>\n",
       "    </tr>\n",
       "  </tbody>\n",
       "</table>\n",
       "</div>"
      ],
      "text/plain": [
       "                           loan_default  PRI.ACTIVE.ACCTS.CATEGORY\n",
       "loan_default                   1.000000                  -0.909914\n",
       "PRI.ACTIVE.ACCTS.CATEGORY     -0.909914                   1.000000"
      ]
     },
     "execution_count": 254,
     "metadata": {},
     "output_type": "execute_result"
    }
   ],
   "source": [
    "df[['loan_default', 'PRI.ACTIVE.ACCTS.CATEGORY']].corr() "
   ]
  },
  {
   "cell_type": "code",
   "execution_count": 291,
   "metadata": {},
   "outputs": [
    {
     "data": {
      "text/html": [
       "<div>\n",
       "<style scoped>\n",
       "    .dataframe tbody tr th:only-of-type {\n",
       "        vertical-align: middle;\n",
       "    }\n",
       "\n",
       "    .dataframe tbody tr th {\n",
       "        vertical-align: top;\n",
       "    }\n",
       "\n",
       "    .dataframe thead th {\n",
       "        text-align: right;\n",
       "    }\n",
       "</style>\n",
       "<table border=\"1\" class=\"dataframe\">\n",
       "  <thead>\n",
       "    <tr style=\"text-align: right;\">\n",
       "      <th></th>\n",
       "      <th>loan_default</th>\n",
       "      <th>PRI.ACTIVE.ACCTS.CATEGORY</th>\n",
       "    </tr>\n",
       "  </thead>\n",
       "  <tbody>\n",
       "    <tr>\n",
       "      <th>loan_default</th>\n",
       "      <td>1.000000</td>\n",
       "      <td>-0.862359</td>\n",
       "    </tr>\n",
       "    <tr>\n",
       "      <th>PRI.ACTIVE.ACCTS.CATEGORY</th>\n",
       "      <td>-0.862359</td>\n",
       "      <td>1.000000</td>\n",
       "    </tr>\n",
       "  </tbody>\n",
       "</table>\n",
       "</div>"
      ],
      "text/plain": [
       "                           loan_default  PRI.ACTIVE.ACCTS.CATEGORY\n",
       "loan_default                   1.000000                  -0.862359\n",
       "PRI.ACTIVE.ACCTS.CATEGORY     -0.862359                   1.000000"
      ]
     },
     "execution_count": 291,
     "metadata": {},
     "output_type": "execute_result"
    }
   ],
   "source": [
    "df[['loan_default', 'PRI.ACTIVE.ACCTS.CATEGORY']].corr()"
   ]
  },
  {
   "cell_type": "code",
   "execution_count": 38,
   "metadata": {},
   "outputs": [
    {
     "data": {
      "text/html": [
       "<div>\n",
       "<style scoped>\n",
       "    .dataframe tbody tr th:only-of-type {\n",
       "        vertical-align: middle;\n",
       "    }\n",
       "\n",
       "    .dataframe tbody tr th {\n",
       "        vertical-align: top;\n",
       "    }\n",
       "\n",
       "    .dataframe thead th {\n",
       "        text-align: right;\n",
       "    }\n",
       "</style>\n",
       "<table border=\"1\" class=\"dataframe\">\n",
       "  <thead>\n",
       "    <tr style=\"text-align: right;\">\n",
       "      <th></th>\n",
       "      <th>loan_default</th>\n",
       "      <th>PRI.ACTIVE.ACCTS.CATEGORY</th>\n",
       "    </tr>\n",
       "  </thead>\n",
       "  <tbody>\n",
       "    <tr>\n",
       "      <th>loan_default</th>\n",
       "      <td>1.000000</td>\n",
       "      <td>-0.838078</td>\n",
       "    </tr>\n",
       "    <tr>\n",
       "      <th>PRI.ACTIVE.ACCTS.CATEGORY</th>\n",
       "      <td>-0.838078</td>\n",
       "      <td>1.000000</td>\n",
       "    </tr>\n",
       "  </tbody>\n",
       "</table>\n",
       "</div>"
      ],
      "text/plain": [
       "                           loan_default  PRI.ACTIVE.ACCTS.CATEGORY\n",
       "loan_default                   1.000000                  -0.838078\n",
       "PRI.ACTIVE.ACCTS.CATEGORY     -0.838078                   1.000000"
      ]
     },
     "execution_count": 38,
     "metadata": {},
     "output_type": "execute_result"
    }
   ],
   "source": [
    "df[['loan_default', 'PRI.ACTIVE.ACCTS.CATEGORY']].corr()"
   ]
  },
  {
   "cell_type": "code",
   "execution_count": 79,
   "metadata": {},
   "outputs": [
    {
     "data": {
      "text/html": [
       "<div>\n",
       "<style scoped>\n",
       "    .dataframe tbody tr th:only-of-type {\n",
       "        vertical-align: middle;\n",
       "    }\n",
       "\n",
       "    .dataframe tbody tr th {\n",
       "        vertical-align: top;\n",
       "    }\n",
       "\n",
       "    .dataframe thead th {\n",
       "        text-align: right;\n",
       "    }\n",
       "</style>\n",
       "<table border=\"1\" class=\"dataframe\">\n",
       "  <thead>\n",
       "    <tr style=\"text-align: right;\">\n",
       "      <th></th>\n",
       "      <th>loan_default</th>\n",
       "      <th>PRI.ACTIVE.ACCTS.CATEGORY</th>\n",
       "    </tr>\n",
       "  </thead>\n",
       "  <tbody>\n",
       "    <tr>\n",
       "      <th>loan_default</th>\n",
       "      <td>1.000000</td>\n",
       "      <td>-0.060159</td>\n",
       "    </tr>\n",
       "    <tr>\n",
       "      <th>PRI.ACTIVE.ACCTS.CATEGORY</th>\n",
       "      <td>-0.060159</td>\n",
       "      <td>1.000000</td>\n",
       "    </tr>\n",
       "  </tbody>\n",
       "</table>\n",
       "</div>"
      ],
      "text/plain": [
       "                           loan_default  PRI.ACTIVE.ACCTS.CATEGORY\n",
       "loan_default                   1.000000                  -0.060159\n",
       "PRI.ACTIVE.ACCTS.CATEGORY     -0.060159                   1.000000"
      ]
     },
     "execution_count": 79,
     "metadata": {},
     "output_type": "execute_result"
    }
   ],
   "source": [
    "df[['loan_default', 'PRI.ACTIVE.ACCTS.CATEGORY']].corr() #2,3,4,5"
   ]
  },
  {
   "cell_type": "code",
   "execution_count": 114,
   "metadata": {},
   "outputs": [
    {
     "data": {
      "text/html": [
       "<div>\n",
       "<style scoped>\n",
       "    .dataframe tbody tr th:only-of-type {\n",
       "        vertical-align: middle;\n",
       "    }\n",
       "\n",
       "    .dataframe tbody tr th {\n",
       "        vertical-align: top;\n",
       "    }\n",
       "\n",
       "    .dataframe thead th {\n",
       "        text-align: right;\n",
       "    }\n",
       "</style>\n",
       "<table border=\"1\" class=\"dataframe\">\n",
       "  <thead>\n",
       "    <tr style=\"text-align: right;\">\n",
       "      <th></th>\n",
       "      <th>loan_default</th>\n",
       "      <th>PRI.ACTIVE.ACCTS.CATEGORY</th>\n",
       "    </tr>\n",
       "  </thead>\n",
       "  <tbody>\n",
       "    <tr>\n",
       "      <th>loan_default</th>\n",
       "      <td>1.000000</td>\n",
       "      <td>-0.100284</td>\n",
       "    </tr>\n",
       "    <tr>\n",
       "      <th>PRI.ACTIVE.ACCTS.CATEGORY</th>\n",
       "      <td>-0.100284</td>\n",
       "      <td>1.000000</td>\n",
       "    </tr>\n",
       "  </tbody>\n",
       "</table>\n",
       "</div>"
      ],
      "text/plain": [
       "                           loan_default  PRI.ACTIVE.ACCTS.CATEGORY\n",
       "loan_default                   1.000000                  -0.100284\n",
       "PRI.ACTIVE.ACCTS.CATEGORY     -0.100284                   1.000000"
      ]
     },
     "execution_count": 114,
     "metadata": {},
     "output_type": "execute_result"
    }
   ],
   "source": [
    "df[['loan_default', 'PRI.ACTIVE.ACCTS.CATEGORY']].corr() #2,3,5,6"
   ]
  },
  {
   "cell_type": "code",
   "execution_count": 148,
   "metadata": {},
   "outputs": [
    {
     "data": {
      "text/html": [
       "<div>\n",
       "<style scoped>\n",
       "    .dataframe tbody tr th:only-of-type {\n",
       "        vertical-align: middle;\n",
       "    }\n",
       "\n",
       "    .dataframe tbody tr th {\n",
       "        vertical-align: top;\n",
       "    }\n",
       "\n",
       "    .dataframe thead th {\n",
       "        text-align: right;\n",
       "    }\n",
       "</style>\n",
       "<table border=\"1\" class=\"dataframe\">\n",
       "  <thead>\n",
       "    <tr style=\"text-align: right;\">\n",
       "      <th></th>\n",
       "      <th>loan_default</th>\n",
       "      <th>PRI.ACTIVE.ACCTS.CATEGORY</th>\n",
       "    </tr>\n",
       "  </thead>\n",
       "  <tbody>\n",
       "    <tr>\n",
       "      <th>loan_default</th>\n",
       "      <td>1.000000</td>\n",
       "      <td>-0.238694</td>\n",
       "    </tr>\n",
       "    <tr>\n",
       "      <th>PRI.ACTIVE.ACCTS.CATEGORY</th>\n",
       "      <td>-0.238694</td>\n",
       "      <td>1.000000</td>\n",
       "    </tr>\n",
       "  </tbody>\n",
       "</table>\n",
       "</div>"
      ],
      "text/plain": [
       "                           loan_default  PRI.ACTIVE.ACCTS.CATEGORY\n",
       "loan_default                   1.000000                  -0.238694\n",
       "PRI.ACTIVE.ACCTS.CATEGORY     -0.238694                   1.000000"
      ]
     },
     "execution_count": 148,
     "metadata": {},
     "output_type": "execute_result"
    }
   ],
   "source": [
    "df[['loan_default', 'PRI.ACTIVE.ACCTS.CATEGORY']].corr() #2,5,6,7"
   ]
  },
  {
   "cell_type": "code",
   "execution_count": 181,
   "metadata": {},
   "outputs": [
    {
     "data": {
      "text/html": [
       "<div>\n",
       "<style scoped>\n",
       "    .dataframe tbody tr th:only-of-type {\n",
       "        vertical-align: middle;\n",
       "    }\n",
       "\n",
       "    .dataframe tbody tr th {\n",
       "        vertical-align: top;\n",
       "    }\n",
       "\n",
       "    .dataframe thead th {\n",
       "        text-align: right;\n",
       "    }\n",
       "</style>\n",
       "<table border=\"1\" class=\"dataframe\">\n",
       "  <thead>\n",
       "    <tr style=\"text-align: right;\">\n",
       "      <th></th>\n",
       "      <th>loan_default</th>\n",
       "      <th>PRI.ACTIVE.ACCTS.CATEGORY</th>\n",
       "    </tr>\n",
       "  </thead>\n",
       "  <tbody>\n",
       "    <tr>\n",
       "      <th>loan_default</th>\n",
       "      <td>1.000000</td>\n",
       "      <td>-0.722236</td>\n",
       "    </tr>\n",
       "    <tr>\n",
       "      <th>PRI.ACTIVE.ACCTS.CATEGORY</th>\n",
       "      <td>-0.722236</td>\n",
       "      <td>1.000000</td>\n",
       "    </tr>\n",
       "  </tbody>\n",
       "</table>\n",
       "</div>"
      ],
      "text/plain": [
       "                           loan_default  PRI.ACTIVE.ACCTS.CATEGORY\n",
       "loan_default                   1.000000                  -0.722236\n",
       "PRI.ACTIVE.ACCTS.CATEGORY     -0.722236                   1.000000"
      ]
     },
     "execution_count": 181,
     "metadata": {},
     "output_type": "execute_result"
    }
   ],
   "source": [
    "df[['loan_default', 'PRI.ACTIVE.ACCTS.CATEGORY']].corr() # 4,5,6,7"
   ]
  },
  {
   "cell_type": "code",
   "execution_count": 211,
   "metadata": {},
   "outputs": [
    {
     "data": {
      "text/html": [
       "<div>\n",
       "<style scoped>\n",
       "    .dataframe tbody tr th:only-of-type {\n",
       "        vertical-align: middle;\n",
       "    }\n",
       "\n",
       "    .dataframe tbody tr th {\n",
       "        vertical-align: top;\n",
       "    }\n",
       "\n",
       "    .dataframe thead th {\n",
       "        text-align: right;\n",
       "    }\n",
       "</style>\n",
       "<table border=\"1\" class=\"dataframe\">\n",
       "  <thead>\n",
       "    <tr style=\"text-align: right;\">\n",
       "      <th></th>\n",
       "      <th>loan_default</th>\n",
       "      <th>PRI.ACTIVE.ACCTS.CATEGORY</th>\n",
       "    </tr>\n",
       "  </thead>\n",
       "  <tbody>\n",
       "    <tr>\n",
       "      <th>loan_default</th>\n",
       "      <td>1.00000</td>\n",
       "      <td>-0.46551</td>\n",
       "    </tr>\n",
       "    <tr>\n",
       "      <th>PRI.ACTIVE.ACCTS.CATEGORY</th>\n",
       "      <td>-0.46551</td>\n",
       "      <td>1.00000</td>\n",
       "    </tr>\n",
       "  </tbody>\n",
       "</table>\n",
       "</div>"
      ],
      "text/plain": [
       "                           loan_default  PRI.ACTIVE.ACCTS.CATEGORY\n",
       "loan_default                    1.00000                   -0.46551\n",
       "PRI.ACTIVE.ACCTS.CATEGORY      -0.46551                    1.00000"
      ]
     },
     "execution_count": 211,
     "metadata": {},
     "output_type": "execute_result"
    }
   ],
   "source": [
    "df[['loan_default', 'PRI.ACTIVE.ACCTS.CATEGORY']].corr() #3,5,6,7"
   ]
  },
  {
   "cell_type": "code",
   "execution_count": 239,
   "metadata": {},
   "outputs": [
    {
     "data": {
      "text/html": [
       "<div>\n",
       "<style scoped>\n",
       "    .dataframe tbody tr th:only-of-type {\n",
       "        vertical-align: middle;\n",
       "    }\n",
       "\n",
       "    .dataframe tbody tr th {\n",
       "        vertical-align: top;\n",
       "    }\n",
       "\n",
       "    .dataframe thead th {\n",
       "        text-align: right;\n",
       "    }\n",
       "</style>\n",
       "<table border=\"1\" class=\"dataframe\">\n",
       "  <thead>\n",
       "    <tr style=\"text-align: right;\">\n",
       "      <th></th>\n",
       "      <th>loan_default</th>\n",
       "      <th>PRI.ACTIVE.ACCTS.CATEGORY</th>\n",
       "    </tr>\n",
       "  </thead>\n",
       "  <tbody>\n",
       "    <tr>\n",
       "      <th>loan_default</th>\n",
       "      <td>1.000000</td>\n",
       "      <td>-0.483428</td>\n",
       "    </tr>\n",
       "    <tr>\n",
       "      <th>PRI.ACTIVE.ACCTS.CATEGORY</th>\n",
       "      <td>-0.483428</td>\n",
       "      <td>1.000000</td>\n",
       "    </tr>\n",
       "  </tbody>\n",
       "</table>\n",
       "</div>"
      ],
      "text/plain": [
       "                           loan_default  PRI.ACTIVE.ACCTS.CATEGORY\n",
       "loan_default                   1.000000                  -0.483428\n",
       "PRI.ACTIVE.ACCTS.CATEGORY     -0.483428                   1.000000"
      ]
     },
     "execution_count": 239,
     "metadata": {},
     "output_type": "execute_result"
    }
   ],
   "source": [
    "df[['loan_default', 'PRI.ACTIVE.ACCTS.CATEGORY']].corr() #3,4,5,6"
   ]
  },
  {
   "cell_type": "code",
   "execution_count": 269,
   "metadata": {},
   "outputs": [
    {
     "data": {
      "text/html": [
       "<div>\n",
       "<style scoped>\n",
       "    .dataframe tbody tr th:only-of-type {\n",
       "        vertical-align: middle;\n",
       "    }\n",
       "\n",
       "    .dataframe tbody tr th {\n",
       "        vertical-align: top;\n",
       "    }\n",
       "\n",
       "    .dataframe thead th {\n",
       "        text-align: right;\n",
       "    }\n",
       "</style>\n",
       "<table border=\"1\" class=\"dataframe\">\n",
       "  <thead>\n",
       "    <tr style=\"text-align: right;\">\n",
       "      <th></th>\n",
       "      <th>loan_default</th>\n",
       "      <th>PRI.ACTIVE.ACCTS.CATEGORY</th>\n",
       "    </tr>\n",
       "  </thead>\n",
       "  <tbody>\n",
       "    <tr>\n",
       "      <th>loan_default</th>\n",
       "      <td>1.000000</td>\n",
       "      <td>-0.181797</td>\n",
       "    </tr>\n",
       "    <tr>\n",
       "      <th>PRI.ACTIVE.ACCTS.CATEGORY</th>\n",
       "      <td>-0.181797</td>\n",
       "      <td>1.000000</td>\n",
       "    </tr>\n",
       "  </tbody>\n",
       "</table>\n",
       "</div>"
      ],
      "text/plain": [
       "                           loan_default  PRI.ACTIVE.ACCTS.CATEGORY\n",
       "loan_default                   1.000000                  -0.181797\n",
       "PRI.ACTIVE.ACCTS.CATEGORY     -0.181797                   1.000000"
      ]
     },
     "execution_count": 269,
     "metadata": {},
     "output_type": "execute_result"
    }
   ],
   "source": [
    "df[['loan_default', 'PRI.ACTIVE.ACCTS.CATEGORY']].corr() #2,4,5,6"
   ]
  },
  {
   "cell_type": "code",
   "execution_count": 377,
   "metadata": {},
   "outputs": [
    {
     "data": {
      "text/html": [
       "<div>\n",
       "<style scoped>\n",
       "    .dataframe tbody tr th:only-of-type {\n",
       "        vertical-align: middle;\n",
       "    }\n",
       "\n",
       "    .dataframe tbody tr th {\n",
       "        vertical-align: top;\n",
       "    }\n",
       "\n",
       "    .dataframe thead th {\n",
       "        text-align: right;\n",
       "    }\n",
       "</style>\n",
       "<table border=\"1\" class=\"dataframe\">\n",
       "  <thead>\n",
       "    <tr style=\"text-align: right;\">\n",
       "      <th></th>\n",
       "      <th>loan_default</th>\n",
       "      <th>PRI.ACTIVE.ACCTS.CATEGORY</th>\n",
       "    </tr>\n",
       "  </thead>\n",
       "  <tbody>\n",
       "    <tr>\n",
       "      <th>loan_default</th>\n",
       "      <td>1.000000</td>\n",
       "      <td>0.323189</td>\n",
       "    </tr>\n",
       "    <tr>\n",
       "      <th>PRI.ACTIVE.ACCTS.CATEGORY</th>\n",
       "      <td>0.323189</td>\n",
       "      <td>1.000000</td>\n",
       "    </tr>\n",
       "  </tbody>\n",
       "</table>\n",
       "</div>"
      ],
      "text/plain": [
       "                           loan_default  PRI.ACTIVE.ACCTS.CATEGORY\n",
       "loan_default                   1.000000                   0.323189\n",
       "PRI.ACTIVE.ACCTS.CATEGORY      0.323189                   1.000000"
      ]
     },
     "execution_count": 377,
     "metadata": {},
     "output_type": "execute_result"
    }
   ],
   "source": [
    "df[['loan_default', 'PRI.ACTIVE.ACCTS.CATEGORY']].corr() #2,3,4,5,(0) - 2,6,7(1)"
   ]
  },
  {
   "cell_type": "code",
   "execution_count": 56,
   "metadata": {},
   "outputs": [
    {
     "name": "stderr",
     "output_type": "stream",
     "text": [
      "C:\\Users\\Tusha\\Anaconda3\\lib\\site-packages\\seaborn\\_decorators.py:43: FutureWarning: Pass the following variables as keyword args: x, y. From version 0.12, the only valid positional argument will be `data`, and passing other arguments without an explicit keyword will result in an error or misinterpretation.\n",
      "  FutureWarning\n"
     ]
    },
    {
     "data": {
      "image/png": "[encoded data removed]",
      "text/plain": [
       "<Figure size 432x288 with 1 Axes>"
      ]
     },
     "metadata": {
      "needs_background": "light"
     },
     "output_type": "display_data"
    }
   ],
   "source": [
    "sns.scatterplot(df['loan_default'], df['PRI.ACTIVE.ACCTS.CATEGORY'])\n",
    "plt.show()"
   ]
  },
  {
   "cell_type": "code",
   "execution_count": 80,
   "metadata": {},
   "outputs": [
    {
     "name": "stderr",
     "output_type": "stream",
     "text": [
      "C:\\Users\\Tusha\\Anaconda3\\lib\\site-packages\\seaborn\\_decorators.py:43: FutureWarning: Pass the following variables as keyword args: x, y. From version 0.12, the only valid positional argument will be `data`, and passing other arguments without an explicit keyword will result in an error or misinterpretation.\n",
      "  FutureWarning\n"
     ]
    },
    {
     "data": {
      "image/png": "[encoded data removed]",
      "text/plain": [
       "<Figure size 432x288 with 1 Axes>"
      ]
     },
     "metadata": {
      "needs_background": "light"
     },
     "output_type": "display_data"
    }
   ],
   "source": [
    "sns.scatterplot(df['loan_default'], df['PRI.ACTIVE.ACCTS.CATEGORY'])\n",
    "plt.show()"
   ]
  },
  {
   "cell_type": "code",
   "execution_count": 115,
   "metadata": {},
   "outputs": [
    {
     "name": "stderr",
     "output_type": "stream",
     "text": [
      "C:\\Users\\Tusha\\Anaconda3\\lib\\site-packages\\seaborn\\_decorators.py:43: FutureWarning: Pass the following variables as keyword args: x, y. From version 0.12, the only valid positional argument will be `data`, and passing other arguments without an explicit keyword will result in an error or misinterpretation.\n",
      "  FutureWarning\n"
     ]
    },
    {
     "data": {
      "image/png": "[encoded data removed]",
      "text/plain": [
       "<Figure size 432x288 with 1 Axes>"
      ]
     },
     "metadata": {
      "needs_background": "light"
     },
     "output_type": "display_data"
    }
   ],
   "source": [
    "sns.scatterplot(df['loan_default'], df['PRI.ACTIVE.ACCTS.CATEGORY'])\n",
    "plt.show()"
   ]
  },
  {
   "cell_type": "code",
   "execution_count": 149,
   "metadata": {},
   "outputs": [
    {
     "name": "stderr",
     "output_type": "stream",
     "text": [
      "C:\\Users\\Tusha\\Anaconda3\\lib\\site-packages\\seaborn\\_decorators.py:43: FutureWarning: Pass the following variables as keyword args: x, y. From version 0.12, the only valid positional argument will be `data`, and passing other arguments without an explicit keyword will result in an error or misinterpretation.\n",
      "  FutureWarning\n"
     ]
    },
    {
     "data": {
      "image/png": "[encoded data removed]",
      "text/plain": [
       "<Figure size 432x288 with 1 Axes>"
      ]
     },
     "metadata": {
      "needs_background": "light"
     },
     "output_type": "display_data"
    }
   ],
   "source": [
    "sns.scatterplot(df['loan_default'], df['PRI.ACTIVE.ACCTS.CATEGORY'])\n",
    "plt.show()"
   ]
  },
  {
   "cell_type": "code",
   "execution_count": 188,
   "metadata": {},
   "outputs": [
    {
     "name": "stderr",
     "output_type": "stream",
     "text": [
      "C:\\Users\\Tusha\\Anaconda3\\lib\\site-packages\\seaborn\\_decorators.py:43: FutureWarning: Pass the following variables as keyword args: x, y. From version 0.12, the only valid positional argument will be `data`, and passing other arguments without an explicit keyword will result in an error or misinterpretation.\n",
      "  FutureWarning\n"
     ]
    },
    {
     "data": {
      "image/png": "[encoded data removed]",
      "text/plain": [
       "<Figure size 432x288 with 1 Axes>"
      ]
     },
     "metadata": {
      "needs_background": "light"
     },
     "output_type": "display_data"
    }
   ],
   "source": [
    "sns.scatterplot(df['loan_default'], df['PRI.ACTIVE.ACCTS.CATEGORY'])\n",
    "plt.show()"
   ]
  },
  {
   "cell_type": "code",
   "execution_count": 212,
   "metadata": {},
   "outputs": [
    {
     "name": "stderr",
     "output_type": "stream",
     "text": [
      "C:\\Users\\Tusha\\Anaconda3\\lib\\site-packages\\seaborn\\_decorators.py:43: FutureWarning: Pass the following variables as keyword args: x, y. From version 0.12, the only valid positional argument will be `data`, and passing other arguments without an explicit keyword will result in an error or misinterpretation.\n",
      "  FutureWarning\n"
     ]
    },
    {
     "data": {
      "image/png": "[encoded data removed]",
      "text/plain": [
       "<Figure size 432x288 with 1 Axes>"
      ]
     },
     "metadata": {
      "needs_background": "light"
     },
     "output_type": "display_data"
    }
   ],
   "source": [
    "sns.scatterplot(df['loan_default'], df['PRI.ACTIVE.ACCTS.CATEGORY'])\n",
    "plt.show()"
   ]
  },
  {
   "cell_type": "code",
   "execution_count": 240,
   "metadata": {},
   "outputs": [
    {
     "name": "stderr",
     "output_type": "stream",
     "text": [
      "C:\\Users\\Tusha\\Anaconda3\\lib\\site-packages\\seaborn\\_decorators.py:43: FutureWarning: Pass the following variables as keyword args: x, y. From version 0.12, the only valid positional argument will be `data`, and passing other arguments without an explicit keyword will result in an error or misinterpretation.\n",
      "  FutureWarning\n"
     ]
    },
    {
     "data": {
      "image/png": "[encoded data removed]",
      "text/plain": [
       "<Figure size 432x288 with 1 Axes>"
      ]
     },
     "metadata": {
      "needs_background": "light"
     },
     "output_type": "display_data"
    }
   ],
   "source": [
    "sns.scatterplot(df['loan_default'], df['PRI.ACTIVE.ACCTS.CATEGORY'])\n",
    "plt.show()"
   ]
  },
  {
   "cell_type": "code",
   "execution_count": 270,
   "metadata": {},
   "outputs": [
    {
     "name": "stderr",
     "output_type": "stream",
     "text": [
      "C:\\Users\\Tusha\\Anaconda3\\lib\\site-packages\\seaborn\\_decorators.py:43: FutureWarning: Pass the following variables as keyword args: x, y. From version 0.12, the only valid positional argument will be `data`, and passing other arguments without an explicit keyword will result in an error or misinterpretation.\n",
      "  FutureWarning\n"
     ]
    },
    {
     "data": {
      "image/png": "[encoded data removed]",
      "text/plain": [
       "<Figure size 432x288 with 1 Axes>"
      ]
     },
     "metadata": {
      "needs_background": "light"
     },
     "output_type": "display_data"
    }
   ],
   "source": [
    "sns.scatterplot(df['loan_default'], df['PRI.ACTIVE.ACCTS.CATEGORY'])\n",
    "plt.show()"
   ]
  },
  {
   "cell_type": "code",
   "execution_count": 378,
   "metadata": {},
   "outputs": [
    {
     "name": "stderr",
     "output_type": "stream",
     "text": [
      "C:\\Users\\Tusha\\Anaconda3\\lib\\site-packages\\seaborn\\_decorators.py:43: FutureWarning: Pass the following variables as keyword args: x, y. From version 0.12, the only valid positional argument will be `data`, and passing other arguments without an explicit keyword will result in an error or misinterpretation.\n",
      "  FutureWarning\n"
     ]
    },
    {
     "data": {
      "image/png": "[encoded data removed]",
      "text/plain": [
       "<Figure size 432x288 with 1 Axes>"
      ]
     },
     "metadata": {
      "needs_background": "light"
     },
     "output_type": "display_data"
    }
   ],
   "source": [
    "sns.scatterplot(df['loan_default'], df['PRI.ACTIVE.ACCTS.CATEGORY'])\n",
    "plt.show()"
   ]
  },
  {
   "cell_type": "markdown",
   "metadata": {},
   "source": [
    "### Before SMOTE"
   ]
  },
  {
   "cell_type": "code",
   "execution_count": 327,
   "metadata": {},
   "outputs": [],
   "source": [
    "from sklearn.ensemble import RandomForestClassifier"
   ]
  },
  {
   "cell_type": "code",
   "execution_count": 379,
   "metadata": {},
   "outputs": [],
   "source": [
    "rf = RandomForestClassifier()"
   ]
  },
  {
   "cell_type": "code",
   "execution_count": 380,
   "metadata": {},
   "outputs": [],
   "source": [
    "x = df.drop('loan_default', axis = 1)\n",
    "y = df['loan_default']"
   ]
  },
  {
   "cell_type": "code",
   "execution_count": 381,
   "metadata": {},
   "outputs": [],
   "source": [
    "from sklearn.model_selection import train_test_split"
   ]
  },
  {
   "cell_type": "code",
   "execution_count": 382,
   "metadata": {},
   "outputs": [],
   "source": [
    "trainx, testx, trainy, testy = train_test_split(x,y, test_size = 0.3, random_state = 10)"
   ]
  },
  {
   "cell_type": "code",
   "execution_count": 383,
   "metadata": {},
   "outputs": [],
   "source": [
    "pred_test_rf = rf.fit(trainx, trainy).predict(testx)"
   ]
  },
  {
   "cell_type": "code",
   "execution_count": 86,
   "metadata": {},
   "outputs": [],
   "source": [
    "from sklearn.metrics import classification_report"
   ]
  },
  {
   "cell_type": "code",
   "execution_count": 87,
   "metadata": {},
   "outputs": [
    {
     "name": "stdout",
     "output_type": "stream",
     "text": [
      "              precision    recall  f1-score   support\n",
      "\n",
      "           0       0.80      0.95      0.87     54757\n",
      "           1       0.41      0.12      0.18     15190\n",
      "\n",
      "    accuracy                           0.77     69947\n",
      "   macro avg       0.60      0.54      0.53     69947\n",
      "weighted avg       0.71      0.77      0.72     69947\n",
      "\n"
     ]
    }
   ],
   "source": [
    "print(classification_report(testy, pred_test_rf))"
   ]
  },
  {
   "cell_type": "code",
   "execution_count": 121,
   "metadata": {},
   "outputs": [
    {
     "name": "stdout",
     "output_type": "stream",
     "text": [
      "              precision    recall  f1-score   support\n",
      "\n",
      "           0       0.81      0.95      0.88     54757\n",
      "           1       0.53      0.19      0.28     15190\n",
      "\n",
      "    accuracy                           0.79     69947\n",
      "   macro avg       0.67      0.57      0.58     69947\n",
      "weighted avg       0.75      0.79      0.75     69947\n",
      "\n"
     ]
    }
   ],
   "source": [
    "print(classification_report(testy, pred_test_rf))"
   ]
  },
  {
   "cell_type": "code",
   "execution_count": 155,
   "metadata": {},
   "outputs": [
    {
     "name": "stdout",
     "output_type": "stream",
     "text": [
      "              precision    recall  f1-score   support\n",
      "\n",
      "           0       0.86      0.95      0.91     54757\n",
      "           1       0.74      0.45      0.56     15190\n",
      "\n",
      "    accuracy                           0.85     69947\n",
      "   macro avg       0.80      0.70      0.73     69947\n",
      "weighted avg       0.84      0.85      0.83     69947\n",
      "\n"
     ]
    }
   ],
   "source": [
    "print(classification_report(testy, pred_test_rf))"
   ]
  },
  {
   "cell_type": "code",
   "execution_count": 187,
   "metadata": {},
   "outputs": [
    {
     "name": "stdout",
     "output_type": "stream",
     "text": [
      "              precision    recall  f1-score   support\n",
      "\n",
      "           0       1.00      1.00      1.00     54757\n",
      "           1       1.00      1.00      1.00     15190\n",
      "\n",
      "    accuracy                           1.00     69947\n",
      "   macro avg       1.00      1.00      1.00     69947\n",
      "weighted avg       1.00      1.00      1.00     69947\n",
      "\n"
     ]
    }
   ],
   "source": [
    "print(classification_report(testy, pred_test_rf))"
   ]
  },
  {
   "cell_type": "code",
   "execution_count": 218,
   "metadata": {},
   "outputs": [
    {
     "name": "stdout",
     "output_type": "stream",
     "text": [
      "              precision    recall  f1-score   support\n",
      "\n",
      "           0       1.00      1.00      1.00     54757\n",
      "           1       1.00      1.00      1.00     15190\n",
      "\n",
      "    accuracy                           1.00     69947\n",
      "   macro avg       1.00      1.00      1.00     69947\n",
      "weighted avg       1.00      1.00      1.00     69947\n",
      "\n"
     ]
    }
   ],
   "source": [
    "print(classification_report(testy, pred_test_rf))"
   ]
  },
  {
   "cell_type": "code",
   "execution_count": 246,
   "metadata": {},
   "outputs": [
    {
     "name": "stdout",
     "output_type": "stream",
     "text": [
      "              precision    recall  f1-score   support\n",
      "\n",
      "           0       1.00      1.00      1.00     54757\n",
      "           1       1.00      1.00      1.00     15190\n",
      "\n",
      "    accuracy                           1.00     69947\n",
      "   macro avg       1.00      1.00      1.00     69947\n",
      "weighted avg       1.00      1.00      1.00     69947\n",
      "\n"
     ]
    }
   ],
   "source": [
    "print(classification_report(testy, pred_test_rf))"
   ]
  },
  {
   "cell_type": "code",
   "execution_count": 277,
   "metadata": {},
   "outputs": [
    {
     "name": "stdout",
     "output_type": "stream",
     "text": [
      "              precision    recall  f1-score   support\n",
      "\n",
      "           0       0.86      0.96      0.91     54757\n",
      "           1       0.74      0.45      0.56     15190\n",
      "\n",
      "    accuracy                           0.85     69947\n",
      "   macro avg       0.80      0.70      0.73     69947\n",
      "weighted avg       0.84      0.85      0.83     69947\n",
      "\n"
     ]
    }
   ],
   "source": [
    "print(classification_report(testy, pred_test_rf)) #default"
   ]
  },
  {
   "cell_type": "code",
   "execution_count": 286,
   "metadata": {},
   "outputs": [
    {
     "name": "stdout",
     "output_type": "stream",
     "text": [
      "              precision    recall  f1-score   support\n",
      "\n",
      "           0       0.86      0.96      0.91     54757\n",
      "           1       0.74      0.45      0.56     15190\n",
      "\n",
      "    accuracy                           0.85     69947\n",
      "   macro avg       0.80      0.70      0.73     69947\n",
      "weighted avg       0.84      0.85      0.83     69947\n",
      "\n"
     ]
    }
   ],
   "source": [
    "print(classification_report(testy, pred_test_rf)) #n_est = 200"
   ]
  },
  {
   "cell_type": "code",
   "execution_count": 292,
   "metadata": {},
   "outputs": [
    {
     "name": "stdout",
     "output_type": "stream",
     "text": [
      "              precision    recall  f1-score   support\n",
      "\n",
      "           0       0.85      1.00      0.92     54757\n",
      "           1       1.00      0.34      0.51     15190\n",
      "\n",
      "    accuracy                           0.86     69947\n",
      "   macro avg       0.92      0.67      0.71     69947\n",
      "weighted avg       0.88      0.86      0.83     69947\n",
      "\n"
     ]
    }
   ],
   "source": [
    "print(classification_report(testy, pred_test_rf)) #n_est = 200, max_depth = 9"
   ]
  },
  {
   "cell_type": "code",
   "execution_count": 298,
   "metadata": {},
   "outputs": [
    {
     "name": "stdout",
     "output_type": "stream",
     "text": [
      "              precision    recall  f1-score   support\n",
      "\n",
      "           0       0.83      1.00      0.91     54757\n",
      "           1       1.00      0.29      0.44     15190\n",
      "\n",
      "    accuracy                           0.84     69947\n",
      "   macro avg       0.92      0.64      0.68     69947\n",
      "weighted avg       0.87      0.84      0.81     69947\n",
      "\n"
     ]
    }
   ],
   "source": [
    "print(classification_report(testy, pred_test_rf)) #n_est = 200, max_depth = 7"
   ]
  },
  {
   "cell_type": "code",
   "execution_count": 333,
   "metadata": {},
   "outputs": [
    {
     "name": "stdout",
     "output_type": "stream",
     "text": [
      "              precision    recall  f1-score   support\n",
      "\n",
      "           0       0.86      0.96      0.91     54757\n",
      "           1       0.74      0.45      0.56     15190\n",
      "\n",
      "    accuracy                           0.85     69947\n",
      "   macro avg       0.80      0.70      0.73     69947\n",
      "weighted avg       0.84      0.85      0.83     69947\n",
      "\n"
     ]
    }
   ],
   "source": [
    "print(classification_report(testy, pred_test_rf))"
   ]
  },
  {
   "cell_type": "code",
   "execution_count": 384,
   "metadata": {},
   "outputs": [
    {
     "name": "stdout",
     "output_type": "stream",
     "text": [
      "              precision    recall  f1-score   support\n",
      "\n",
      "           0       0.86      0.96      0.91     54757\n",
      "           1       0.74      0.45      0.56     15190\n",
      "\n",
      "    accuracy                           0.85     69947\n",
      "   macro avg       0.80      0.70      0.73     69947\n",
      "weighted avg       0.84      0.85      0.83     69947\n",
      "\n"
     ]
    }
   ],
   "source": [
    "print(classification_report(testy, pred_test_rf))"
   ]
  },
  {
   "cell_type": "code",
   "execution_count": 339,
   "metadata": {},
   "outputs": [],
   "source": [
    "#xgbboost"
   ]
  },
  {
   "cell_type": "code",
   "execution_count": 385,
   "metadata": {},
   "outputs": [],
   "source": [
    "from xgboost import XGBClassifier"
   ]
  },
  {
   "cell_type": "code",
   "execution_count": 386,
   "metadata": {},
   "outputs": [],
   "source": [
    "xg = XGBClassifier(use_label_encoder=False)"
   ]
  },
  {
   "cell_type": "code",
   "execution_count": 387,
   "metadata": {},
   "outputs": [
    {
     "name": "stdout",
     "output_type": "stream",
     "text": [
      "[14:09:51] WARNING: C:/Users/Administrator/workspace/xgboost-win64_release_1.4.0/src/learner.cc:1095: Starting in XGBoost 1.3.0, the default evaluation metric used with the objective 'binary:logistic' was changed from 'error' to 'logloss'. Explicitly set eval_metric if you'd like to restore the old behavior.\n"
     ]
    }
   ],
   "source": [
    "xg_pred_test = xg.fit(trainx, trainy).predict(testx)"
   ]
  },
  {
   "cell_type": "code",
   "execution_count": 388,
   "metadata": {},
   "outputs": [
    {
     "name": "stdout",
     "output_type": "stream",
     "text": [
      "              precision    recall  f1-score   support\n",
      "\n",
      "           0       0.85      1.00      0.92     54757\n",
      "           1       0.98      0.39      0.56     15190\n",
      "\n",
      "    accuracy                           0.87     69947\n",
      "   macro avg       0.92      0.69      0.74     69947\n",
      "weighted avg       0.88      0.87      0.84     69947\n",
      "\n"
     ]
    }
   ],
   "source": [
    "print(classification_report(testy, xg_pred_test))"
   ]
  },
  {
   "cell_type": "code",
   "execution_count": 346,
   "metadata": {},
   "outputs": [],
   "source": [
    "#GBboost"
   ]
  },
  {
   "cell_type": "code",
   "execution_count": 348,
   "metadata": {},
   "outputs": [],
   "source": [
    "from sklearn.ensemble import GradientBoostingClassifier"
   ]
  },
  {
   "cell_type": "code",
   "execution_count": 400,
   "metadata": {},
   "outputs": [],
   "source": [
    "gb = GradientBoostingClassifier()"
   ]
  },
  {
   "cell_type": "code",
   "execution_count": 350,
   "metadata": {},
   "outputs": [],
   "source": [
    "gb_pred_test = gb.fit(trainx, trainy).predict(testx)"
   ]
  },
  {
   "cell_type": "code",
   "execution_count": 351,
   "metadata": {},
   "outputs": [
    {
     "name": "stdout",
     "output_type": "stream",
     "text": [
      "              precision    recall  f1-score   support\n",
      "\n",
      "           0       0.85      1.00      0.92     54757\n",
      "           1       0.98      0.39      0.56     15190\n",
      "\n",
      "    accuracy                           0.87     69947\n",
      "   macro avg       0.92      0.69      0.74     69947\n",
      "weighted avg       0.88      0.87      0.84     69947\n",
      "\n"
     ]
    }
   ],
   "source": [
    "print(classification_report(testy, xg_pred_test))"
   ]
  },
  {
   "cell_type": "code",
   "execution_count": 352,
   "metadata": {},
   "outputs": [],
   "source": [
    "#adaboost"
   ]
  },
  {
   "cell_type": "code",
   "execution_count": 353,
   "metadata": {},
   "outputs": [],
   "source": [
    "from sklearn.ensemble import AdaBoostClassifier"
   ]
  },
  {
   "cell_type": "code",
   "execution_count": 396,
   "metadata": {},
   "outputs": [],
   "source": [
    "ad = AdaBoostClassifier()"
   ]
  },
  {
   "cell_type": "code",
   "execution_count": 355,
   "metadata": {},
   "outputs": [],
   "source": [
    "ad_pred_test = ad.fit(trainx, trainy).predict(testx)"
   ]
  },
  {
   "cell_type": "code",
   "execution_count": 356,
   "metadata": {},
   "outputs": [
    {
     "name": "stdout",
     "output_type": "stream",
     "text": [
      "              precision    recall  f1-score   support\n",
      "\n",
      "           0       0.85      1.00      0.92     54757\n",
      "           1       0.98      0.39      0.56     15190\n",
      "\n",
      "    accuracy                           0.87     69947\n",
      "   macro avg       0.92      0.69      0.74     69947\n",
      "weighted avg       0.88      0.87      0.84     69947\n",
      "\n"
     ]
    }
   ],
   "source": [
    "print(classification_report(testy, xg_pred_test))"
   ]
  },
  {
   "cell_type": "code",
   "execution_count": 405,
   "metadata": {},
   "outputs": [],
   "source": [
    "#SGD"
   ]
  },
  {
   "cell_type": "code",
   "execution_count": 406,
   "metadata": {},
   "outputs": [],
   "source": [
    "from sklearn.linear_model import SGDClassifier"
   ]
  },
  {
   "cell_type": "code",
   "execution_count": 407,
   "metadata": {},
   "outputs": [],
   "source": [
    "sgd = SGDClassifier()"
   ]
  },
  {
   "cell_type": "code",
   "execution_count": 408,
   "metadata": {},
   "outputs": [],
   "source": [
    "sgd_pred_test = sgd.fit(trainx, trainy).predict(testx)"
   ]
  },
  {
   "cell_type": "code",
   "execution_count": 409,
   "metadata": {},
   "outputs": [
    {
     "name": "stdout",
     "output_type": "stream",
     "text": [
      "              precision    recall  f1-score   support\n",
      "\n",
      "           0       0.85      1.00      0.92     54757\n",
      "           1       0.98      0.39      0.56     15190\n",
      "\n",
      "    accuracy                           0.87     69947\n",
      "   macro avg       0.92      0.69      0.74     69947\n",
      "weighted avg       0.88      0.87      0.84     69947\n",
      "\n"
     ]
    }
   ],
   "source": [
    "print(classification_report(testy, xg_pred_test))"
   ]
  },
  {
   "cell_type": "markdown",
   "metadata": {},
   "source": [
    "### After SMOTE"
   ]
  },
  {
   "cell_type": "code",
   "execution_count": 47,
   "metadata": {},
   "outputs": [],
   "source": [
    "from imblearn.over_sampling import SMOTE"
   ]
  },
  {
   "cell_type": "code",
   "execution_count": 389,
   "metadata": {},
   "outputs": [],
   "source": [
    "sm = SMOTE()\n",
    "\n",
    "train_x_sm, train_y_sm = sm.fit_resample(trainx, trainy.astype('int'))"
   ]
  },
  {
   "cell_type": "code",
   "execution_count": 335,
   "metadata": {},
   "outputs": [
    {
     "data": {
      "text/plain": [
       "(255572, 26)"
      ]
     },
     "execution_count": 335,
     "metadata": {},
     "output_type": "execute_result"
    }
   ],
   "source": [
    "train_x_sm.shape"
   ]
  },
  {
   "cell_type": "code",
   "execution_count": 336,
   "metadata": {},
   "outputs": [
    {
     "data": {
      "text/plain": [
       "1    127786\n",
       "0    127786\n",
       "Name: loan_default, dtype: int64"
      ]
     },
     "execution_count": 336,
     "metadata": {},
     "output_type": "execute_result"
    }
   ],
   "source": [
    "train_y_sm.value_counts()"
   ]
  },
  {
   "cell_type": "code",
   "execution_count": 337,
   "metadata": {},
   "outputs": [],
   "source": [
    "pred_test_rf_sm = rf.fit(train_x_sm, train_y_sm).predict(testx)"
   ]
  },
  {
   "cell_type": "code",
   "execution_count": 92,
   "metadata": {},
   "outputs": [
    {
     "name": "stdout",
     "output_type": "stream",
     "text": [
      "              precision    recall  f1-score   support\n",
      "\n",
      "           0       0.80      0.88      0.84     54757\n",
      "           1       0.32      0.21      0.25     15190\n",
      "\n",
      "    accuracy                           0.73     69947\n",
      "   macro avg       0.56      0.54      0.55     69947\n",
      "weighted avg       0.70      0.73      0.71     69947\n",
      "\n"
     ]
    }
   ],
   "source": [
    "print(classification_report(testy, pred_test_rf_sm))"
   ]
  },
  {
   "cell_type": "code",
   "execution_count": 126,
   "metadata": {},
   "outputs": [
    {
     "name": "stdout",
     "output_type": "stream",
     "text": [
      "              precision    recall  f1-score   support\n",
      "\n",
      "           0       0.81      0.88      0.85     54757\n",
      "           1       0.39      0.28      0.32     15190\n",
      "\n",
      "    accuracy                           0.75     69947\n",
      "   macro avg       0.60      0.58      0.59     69947\n",
      "weighted avg       0.72      0.75      0.73     69947\n",
      "\n"
     ]
    }
   ],
   "source": [
    "print(classification_report(testy, pred_test_rf_sm))"
   ]
  },
  {
   "cell_type": "code",
   "execution_count": 160,
   "metadata": {},
   "outputs": [
    {
     "name": "stdout",
     "output_type": "stream",
     "text": [
      "              precision    recall  f1-score   support\n",
      "\n",
      "           0       0.87      0.90      0.88     54757\n",
      "           1       0.58      0.52      0.55     15190\n",
      "\n",
      "    accuracy                           0.81     69947\n",
      "   macro avg       0.72      0.71      0.71     69947\n",
      "weighted avg       0.81      0.81      0.81     69947\n",
      "\n"
     ]
    }
   ],
   "source": [
    "print(classification_report(testy, pred_test_rf_sm))"
   ]
  },
  {
   "cell_type": "code",
   "execution_count": 248,
   "metadata": {},
   "outputs": [
    {
     "name": "stdout",
     "output_type": "stream",
     "text": [
      "              precision    recall  f1-score   support\n",
      "\n",
      "           0       0.65      0.24      0.35     54757\n",
      "           1       0.16      0.52      0.24     15190\n",
      "\n",
      "    accuracy                           0.30     69947\n",
      "   macro avg       0.40      0.38      0.30     69947\n",
      "weighted avg       0.54      0.30      0.33     69947\n",
      "\n"
     ]
    }
   ],
   "source": [
    "print(classification_report(testy, pred_test_rf_sm))"
   ]
  },
  {
   "cell_type": "code",
   "execution_count": 280,
   "metadata": {},
   "outputs": [
    {
     "name": "stdout",
     "output_type": "stream",
     "text": [
      "              precision    recall  f1-score   support\n",
      "\n",
      "           0       0.87      0.89      0.88     54757\n",
      "           1       0.58      0.52      0.55     15190\n",
      "\n",
      "    accuracy                           0.81     69947\n",
      "   macro avg       0.72      0.71      0.72     69947\n",
      "weighted avg       0.81      0.81      0.81     69947\n",
      "\n"
     ]
    }
   ],
   "source": [
    "print(classification_report(testy, pred_test_rf_sm))"
   ]
  },
  {
   "cell_type": "code",
   "execution_count": 338,
   "metadata": {},
   "outputs": [
    {
     "name": "stdout",
     "output_type": "stream",
     "text": [
      "              precision    recall  f1-score   support\n",
      "\n",
      "           0       0.87      0.90      0.88     54757\n",
      "           1       0.58      0.52      0.55     15190\n",
      "\n",
      "    accuracy                           0.81     69947\n",
      "   macro avg       0.72      0.71      0.72     69947\n",
      "weighted avg       0.81      0.81      0.81     69947\n",
      "\n"
     ]
    }
   ],
   "source": [
    "print(classification_report(testy, pred_test_rf_sm))"
   ]
  },
  {
   "cell_type": "code",
   "execution_count": 390,
   "metadata": {},
   "outputs": [],
   "source": [
    "#Xgboost"
   ]
  },
  {
   "cell_type": "code",
   "execution_count": 393,
   "metadata": {},
   "outputs": [
    {
     "name": "stdout",
     "output_type": "stream",
     "text": [
      "[14:19:24] WARNING: C:/Users/Administrator/workspace/xgboost-win64_release_1.4.0/src/learner.cc:1095: Starting in XGBoost 1.3.0, the default evaluation metric used with the objective 'binary:logistic' was changed from 'error' to 'logloss'. Explicitly set eval_metric if you'd like to restore the old behavior.\n"
     ]
    }
   ],
   "source": [
    "pred_test_xg_sm = xg.fit(train_x_sm, train_y_sm).predict(testx)"
   ]
  },
  {
   "cell_type": "code",
   "execution_count": 394,
   "metadata": {},
   "outputs": [
    {
     "name": "stdout",
     "output_type": "stream",
     "text": [
      "              precision    recall  f1-score   support\n",
      "\n",
      "           0       0.86      0.95      0.90     54757\n",
      "           1       0.71      0.45      0.55     15190\n",
      "\n",
      "    accuracy                           0.84     69947\n",
      "   macro avg       0.78      0.70      0.73     69947\n",
      "weighted avg       0.83      0.84      0.83     69947\n",
      "\n"
     ]
    }
   ],
   "source": [
    "print(classification_report(testy, pred_test_xg_sm))"
   ]
  },
  {
   "cell_type": "code",
   "execution_count": 395,
   "metadata": {},
   "outputs": [],
   "source": [
    "#adaboost"
   ]
  },
  {
   "cell_type": "code",
   "execution_count": null,
   "metadata": {},
   "outputs": [],
   "source": [
    "ad = AdaBoostClassifier()"
   ]
  },
  {
   "cell_type": "code",
   "execution_count": 397,
   "metadata": {},
   "outputs": [],
   "source": [
    "pred_test_ad_sm = ad.fit(train_x_sm, train_y_sm).predict(testx)"
   ]
  },
  {
   "cell_type": "code",
   "execution_count": 404,
   "metadata": {},
   "outputs": [
    {
     "name": "stdout",
     "output_type": "stream",
     "text": [
      "              precision    recall  f1-score   support\n",
      "\n",
      "           0       0.86      0.94      0.90     54757\n",
      "           1       0.69      0.47      0.56     15190\n",
      "\n",
      "    accuracy                           0.84     69947\n",
      "   macro avg       0.78      0.71      0.73     69947\n",
      "weighted avg       0.83      0.84      0.83     69947\n",
      "\n"
     ]
    }
   ],
   "source": [
    "print(classification_report(testy, pred_test_ad_sm))"
   ]
  },
  {
   "cell_type": "code",
   "execution_count": 414,
   "metadata": {},
   "outputs": [],
   "source": [
    "from sklearn.metrics import roc_auc_score"
   ]
  },
  {
   "cell_type": "code",
   "execution_count": 415,
   "metadata": {},
   "outputs": [
    {
     "name": "stdout",
     "output_type": "stream",
     "text": [
      "0.7053005947649512\n"
     ]
    }
   ],
   "source": [
    "print(roc_auc_score(testy, pred_test_ad_sm))"
   ]
  },
  {
   "cell_type": "code",
   "execution_count": 416,
   "metadata": {},
   "outputs": [],
   "source": [
    "pred_train_ad_sm = ad.fit(train_x_sm, train_y_sm).predict(trainx)"
   ]
  },
  {
   "cell_type": "code",
   "execution_count": 417,
   "metadata": {},
   "outputs": [
    {
     "name": "stdout",
     "output_type": "stream",
     "text": [
      "              precision    recall  f1-score   support\n",
      "\n",
      "           0       0.86      0.94      0.90    127786\n",
      "           1       0.68      0.47      0.56     35421\n",
      "\n",
      "    accuracy                           0.84    163207\n",
      "   macro avg       0.77      0.70      0.73    163207\n",
      "weighted avg       0.83      0.84      0.83    163207\n",
      "\n"
     ]
    }
   ],
   "source": [
    "print(classification_report(trainy, pred_train_ad_sm))"
   ]
  },
  {
   "cell_type": "code",
   "execution_count": 418,
   "metadata": {},
   "outputs": [
    {
     "name": "stdout",
     "output_type": "stream",
     "text": [
      "0.7044533261365803\n"
     ]
    }
   ],
   "source": [
    "print(roc_auc_score(trainy, pred_train_ad_sm))"
   ]
  },
  {
   "cell_type": "code",
   "execution_count": 419,
   "metadata": {},
   "outputs": [
    {
     "name": "stdout",
     "output_type": "stream",
     "text": [
      "Collecting parfit\n",
      "  Downloading https://files.pythonhosted.org/packages/08/60/8090b25f914c91914e8bb5c87819bfe52cead06b6d1a557f20afbe62c1ec/parfit-0.220.tar.gz\n",
      "Requirement already satisfied: joblib in c:\\users\\tusha\\anaconda3\\lib\\site-packages (from parfit) (0.13.2)\n",
      "Requirement already satisfied: matplotlib in c:\\users\\tusha\\anaconda3\\lib\\site-packages (from parfit) (3.4.3)\n",
      "Collecting sklearn (from parfit)\n",
      "  Downloading https://files.pythonhosted.org/packages/1e/7a/dbb3be0ce9bd5c8b7e3d87328e79063f8b263b2b1bfa4774cb1147bfcd3f/sklearn-0.0.tar.gz\n",
      "Requirement already satisfied: numpy in c:\\users\\tusha\\anaconda3\\lib\\site-packages (from parfit) (1.16.5)\n",
      "Requirement already satisfied: pillow>=6.2.0 in c:\\users\\tusha\\anaconda3\\lib\\site-packages (from matplotlib->parfit) (6.2.0)\n",
      "Requirement already satisfied: python-dateutil>=2.7 in c:\\users\\tusha\\anaconda3\\lib\\site-packages (from matplotlib->parfit) (2.8.0)\n",
      "Requirement already satisfied: pyparsing>=2.2.1 in c:\\users\\tusha\\anaconda3\\lib\\site-packages (from matplotlib->parfit) (2.4.2)\n",
      "Requirement already satisfied: kiwisolver>=1.0.1 in c:\\users\\tusha\\anaconda3\\lib\\site-packages (from matplotlib->parfit) (1.1.0)\n",
      "Requirement already satisfied: cycler>=0.10 in c:\\users\\tusha\\anaconda3\\lib\\site-packages (from matplotlib->parfit) (0.10.0)\n",
      "Requirement already satisfied: scikit-learn in c:\\users\\tusha\\anaconda3\\lib\\site-packages (from sklearn->parfit) (0.24.2)\n",
      "Requirement already satisfied: six>=1.5 in c:\\users\\tusha\\anaconda3\\lib\\site-packages (from python-dateutil>=2.7->matplotlib->parfit) (1.12.0)\n",
      "Requirement already satisfied: setuptools in c:\\users\\tusha\\anaconda3\\lib\\site-packages (from kiwisolver>=1.0.1->matplotlib->parfit) (41.4.0)\n",
      "Requirement already satisfied: scipy>=0.19.1 in c:\\users\\tusha\\anaconda3\\lib\\site-packages (from scikit-learn->sklearn->parfit) (1.7.1)\n",
      "Requirement already satisfied: threadpoolctl>=2.0.0 in c:\\users\\tusha\\anaconda3\\lib\\site-packages (from scikit-learn->sklearn->parfit) (2.2.0)\n",
      "Building wheels for collected packages: parfit, sklearn\n",
      "  Building wheel for parfit (setup.py): started\n",
      "  Building wheel for parfit (setup.py): finished with status 'done'\n",
      "  Created wheel for parfit: filename=parfit-0.220-cp37-none-any.whl size=8665 sha256=23c543b648cbf3e6bec1825c4e4292bf564cef427cc939191fb173c125b5d4c8\n",
      "  Stored in directory: C:\\Users\\Tusha\\AppData\\Local\\pip\\Cache\\wheels\\d9\\8a\\c9\\ed86e85ad0cb41ce2fdcb6bc215902dc475bd3fb1fef7c742d\n",
      "  Building wheel for sklearn (setup.py): started\n",
      "  Building wheel for sklearn (setup.py): finished with status 'done'\n",
      "  Created wheel for sklearn: filename=sklearn-0.0-py2.py3-none-any.whl size=1321 sha256=b14cd08088d8ae3749da3ac485755880c45457e0ee2ecb735bb168535a98e4f4\n",
      "  Stored in directory: C:\\Users\\Tusha\\AppData\\Local\\pip\\Cache\\wheels\\76\\03\\bb\\589d421d27431bcd2c6da284d5f2286c8e3b2ea3cf1594c074\n",
      "Successfully built parfit sklearn\n",
      "Installing collected packages: sklearn, parfit\n",
      "Successfully installed parfit-0.220 sklearn-0.0\n"
     ]
    }
   ],
   "source": [
    "! pip install parfit"
   ]
  },
  {
   "cell_type": "code",
   "execution_count": 420,
   "metadata": {},
   "outputs": [],
   "source": [
    "from sklearn.model_selection import ParameterGrid"
   ]
  },
  {
   "cell_type": "code",
   "execution_count": 424,
   "metadata": {},
   "outputs": [],
   "source": [
    "import parfit.parfit as pf"
   ]
  },
  {
   "cell_type": "code",
   "execution_count": null,
   "metadata": {},
   "outputs": [],
   "source": [
    "ad = AdaBoostClassifier()"
   ]
  },
  {
   "cell_type": "code",
   "execution_count": 422,
   "metadata": {},
   "outputs": [],
   "source": [
    "paramGrid = ParameterGrid({\n",
    "    'n_estimators': [100,150,175,200,250],\n",
    "    'learning_rate': [0.1,0.3,0.5,0.7,0.9]\n",
    "    \n",
    "    \n",
    "})\n"
   ]
  },
  {
   "cell_type": "code",
   "execution_count": 433,
   "metadata": {},
   "outputs": [
    {
     "name": "stdout",
     "output_type": "stream",
     "text": [
      "-------------FITTING MODELS-------------\n"
     ]
    },
    {
     "name": "stderr",
     "output_type": "stream",
     "text": [
      "[Parallel(n_jobs=-1)]: Using backend LokyBackend with 4 concurrent workers.\n",
      "[Parallel(n_jobs=-1)]: Done   5 tasks      | elapsed:  2.1min\n",
      "[Parallel(n_jobs=-1)]: Done  10 tasks      | elapsed:  6.2min\n",
      "[Parallel(n_jobs=-1)]: Done  17 tasks      | elapsed: 14.8min\n",
      "[Parallel(n_jobs=-1)]: Done  21 out of  25 | elapsed: 20.2min remaining:  3.9min\n",
      "[Parallel(n_jobs=-1)]: Done  25 out of  25 | elapsed: 23.4min finished\n",
      "[Parallel(n_jobs=-1)]: Using backend LokyBackend with 4 concurrent workers.\n"
     ]
    },
    {
     "name": "stdout",
     "output_type": "stream",
     "text": [
      "-------------SCORING MODELS-------------\n"
     ]
    },
    {
     "name": "stderr",
     "output_type": "stream",
     "text": [
      "[Parallel(n_jobs=-1)]: Done  25 out of  25 | elapsed:   33.9s finished\n"
     ]
    },
    {
     "data": {
      "image/png": "[encoded data removed]",
      "text/plain": [
       "<Figure size 288x288 with 2 Axes>"
      ]
     },
     "metadata": {
      "needs_background": "light"
     },
     "output_type": "display_data"
    }
   ],
   "source": [
    "best_model, best_score, all_models, all_scores = pf.bestFit(ad, paramGrid, \n",
    "     trainx, trainy, testx, testy, \n",
    "     metric=roc_auc_score, scoreLabel='AUC')"
   ]
  },
  {
   "cell_type": "code",
   "execution_count": 435,
   "metadata": {},
   "outputs": [
    {
     "name": "stdout",
     "output_type": "stream",
     "text": [
      "AdaBoostClassifier(learning_rate=0.3, n_estimators=175) 0.8628995865303889\n"
     ]
    }
   ],
   "source": [
    "print(best_model, best_score)"
   ]
  },
  {
   "cell_type": "code",
   "execution_count": 436,
   "metadata": {},
   "outputs": [],
   "source": [
    "ad_tune = AdaBoostClassifier(learning_rate=0.3, n_estimators=175)"
   ]
  },
  {
   "cell_type": "code",
   "execution_count": 437,
   "metadata": {},
   "outputs": [],
   "source": [
    "pred_test_ad_sm = ad_tune.fit(train_x_sm, train_y_sm).predict(testx)"
   ]
  },
  {
   "cell_type": "code",
   "execution_count": 438,
   "metadata": {},
   "outputs": [
    {
     "name": "stdout",
     "output_type": "stream",
     "text": [
      "              precision    recall  f1-score   support\n",
      "\n",
      "           0       0.86      0.95      0.90     54757\n",
      "           1       0.71      0.45      0.55     15190\n",
      "\n",
      "    accuracy                           0.84     69947\n",
      "   macro avg       0.79      0.70      0.73     69947\n",
      "weighted avg       0.83      0.84      0.83     69947\n",
      "\n"
     ]
    }
   ],
   "source": [
    "print(classification_report(testy, pred_test_ad_sm))"
   ]
  },
  {
   "cell_type": "code",
   "execution_count": 439,
   "metadata": {},
   "outputs": [
    {
     "name": "stdout",
     "output_type": "stream",
     "text": [
      "0.699904477118686\n"
     ]
    }
   ],
   "source": [
    "print(roc_auc_score(testy, pred_test_ad_sm))"
   ]
  },
  {
   "cell_type": "code",
   "execution_count": 440,
   "metadata": {},
   "outputs": [],
   "source": [
    "from sklearn.metrics import roc_curve"
   ]
  },
  {
   "cell_type": "code",
   "execution_count": 450,
   "metadata": {},
   "outputs": [
    {
     "data": {
      "image/png": "[encoded data removed]",
      "text/plain": [
       "<Figure size 432x288 with 1 Axes>"
      ]
     },
     "metadata": {
      "needs_background": "light"
     },
     "output_type": "display_data"
    }
   ],
   "source": [
    "y_pred_prob = ad_tune.predict_proba(testx)[:,1]\n",
    "    \n",
    "    # the roc_curve() returns the values for false positive rate, true positive rate and threshold\n",
    "    # pass the actual target values and predicted probabilities to the function\n",
    "fpr, tpr, thresholds = roc_curve(testy, y_pred_prob)\n",
    "\n",
    "    # plot the ROC curve\n",
    "plt.plot(fpr, tpr)\n",
    "\n",
    "    # set limits for x and y axes\n",
    "plt.xlim([0.0, 1.0])\n",
    "plt.ylim([0.0, 1.0])\n",
    "\n",
    "    # plot the straight line showing worst prediction for the model\n",
    "plt.plot([0, 1], [0, 1],'r--')\n",
    "plt.title('ROC curve for Loan Default Prediction Classifier on Test Data', fontsize = 15)\n",
    "plt.xlabel('False positive rate (1-Specificity)', fontsize = 15)\n",
    "plt.ylabel('True positive rate (Sensitivity)', fontsize = 15)\n",
    "\n",
    "    # add the AUC score to the plot\n",
    "    # 'x' and 'y' gives position of the text\n",
    "    # 's' is the text \n",
    "    # use round() to round-off the AUC score upto 4 digits\n",
    "plt.text(x = 0.02, y = 0.9, s = ('AUC Score:',round(roc_auc_score(testy, pred_test_ad_sm),4)))\n",
    "\n",
    "    # plot the grid\n",
    "plt.grid(True)"
   ]
  },
  {
   "cell_type": "code",
   "execution_count": 443,
   "metadata": {},
   "outputs": [],
   "source": [
    "#Traindata"
   ]
  },
  {
   "cell_type": "code",
   "execution_count": 444,
   "metadata": {},
   "outputs": [],
   "source": [
    "pred_train_ad_sm = ad_tune.fit(train_x_sm, train_y_sm).predict(train_x_sm)"
   ]
  },
  {
   "cell_type": "code",
   "execution_count": 445,
   "metadata": {},
   "outputs": [
    {
     "name": "stdout",
     "output_type": "stream",
     "text": [
      "              precision    recall  f1-score   support\n",
      "\n",
      "           0       0.77      0.95      0.85    127786\n",
      "           1       0.93      0.72      0.81    127786\n",
      "\n",
      "    accuracy                           0.83    255572\n",
      "   macro avg       0.85      0.83      0.83    255572\n",
      "weighted avg       0.85      0.83      0.83    255572\n",
      "\n"
     ]
    }
   ],
   "source": [
    "print(classification_report(train_y_sm, pred_train_ad_sm))"
   ]
  },
  {
   "cell_type": "code",
   "execution_count": 447,
   "metadata": {},
   "outputs": [
    {
     "name": "stdout",
     "output_type": "stream",
     "text": [
      "0.8348919286932841\n"
     ]
    }
   ],
   "source": [
    "print(roc_auc_score(train_y_sm, pred_train_ad_sm))"
   ]
  },
  {
   "cell_type": "code",
   "execution_count": 449,
   "metadata": {},
   "outputs": [
    {
     "data": {
      "image/png": "[encoded data removed]",
      "text/plain": [
       "<Figure size 432x288 with 1 Axes>"
      ]
     },
     "metadata": {
      "needs_background": "light"
     },
     "output_type": "display_data"
    }
   ],
   "source": [
    "y_pred_prob_train = ad_tune.predict_proba(train_x_sm)[:,1]\n",
    "    \n",
    "    # the roc_curve() returns the values for false positive rate, true positive rate and threshold\n",
    "    # pass the actual target values and predicted probabilities to the function\n",
    "fpr, tpr, thresholds = roc_curve(train_y_sm, y_pred_prob_train)\n",
    "\n",
    "    # plot the ROC curve\n",
    "plt.plot(fpr, tpr)\n",
    "\n",
    "    # set limits for x and y axes\n",
    "plt.xlim([0.0, 1.0])\n",
    "plt.ylim([0.0, 1.0])\n",
    "\n",
    "    # plot the straight line showing worst prediction for the model\n",
    "plt.plot([0, 1], [0, 1],'r--')\n",
    "plt.title('ROC curve for Loan Default Prediction Classifier on Train Data', fontsize = 15)\n",
    "plt.xlabel('False positive rate (1-Specificity)', fontsize = 15)\n",
    "plt.ylabel('True positive rate (Sensitivity)', fontsize = 15)\n",
    "\n",
    "    # add the AUC score to the plot\n",
    "    # 'x' and 'y' gives position of the text\n",
    "    # 's' is the text \n",
    "    # use round() to round-off the AUC score upto 4 digits\n",
    "plt.text(x = 0.02, y = 0.9, s = ('AUC Score:',round(roc_auc_score(train_y_sm, pred_train_ad_sm),4)))\n",
    "\n",
    "    # plot the grid\n",
    "plt.grid(True)"
   ]
  },
  {
   "cell_type": "code",
   "execution_count": null,
   "metadata": {},
   "outputs": [],
   "source": []
  },
  {
   "cell_type": "code",
   "execution_count": 398,
   "metadata": {},
   "outputs": [],
   "source": [
    "#GBBoost"
   ]
  },
  {
   "cell_type": "code",
   "execution_count": 401,
   "metadata": {},
   "outputs": [],
   "source": [
    "pred_test_gb_sm = gb.fit(train_x_sm, train_y_sm).predict(testx)"
   ]
  },
  {
   "cell_type": "code",
   "execution_count": 403,
   "metadata": {},
   "outputs": [
    {
     "name": "stdout",
     "output_type": "stream",
     "text": [
      "              precision    recall  f1-score   support\n",
      "\n",
      "           0       0.86      0.96      0.91     54757\n",
      "           1       0.75      0.43      0.55     15190\n",
      "\n",
      "    accuracy                           0.85     69947\n",
      "   macro avg       0.81      0.69      0.73     69947\n",
      "weighted avg       0.84      0.85      0.83     69947\n",
      "\n"
     ]
    }
   ],
   "source": [
    "print(classification_report(testy, pred_test_gb_sm))"
   ]
  },
  {
   "cell_type": "code",
   "execution_count": 410,
   "metadata": {},
   "outputs": [],
   "source": [
    "#sgd"
   ]
  },
  {
   "cell_type": "code",
   "execution_count": 411,
   "metadata": {},
   "outputs": [],
   "source": [
    "pred_test_sgd_sm = sgd.fit(train_x_sm, train_y_sm).predict(testx)"
   ]
  },
  {
   "cell_type": "code",
   "execution_count": 412,
   "metadata": {},
   "outputs": [
    {
     "name": "stdout",
     "output_type": "stream",
     "text": [
      "              precision    recall  f1-score   support\n",
      "\n",
      "           0       0.78      0.52      0.62     54757\n",
      "           1       0.21      0.46      0.29     15190\n",
      "\n",
      "    accuracy                           0.51     69947\n",
      "   macro avg       0.49      0.49      0.46     69947\n",
      "weighted avg       0.65      0.51      0.55     69947\n",
      "\n"
     ]
    }
   ],
   "source": [
    "print(classification_report(testy, pred_test_sgd_sm))"
   ]
  },
  {
   "cell_type": "code",
   "execution_count": null,
   "metadata": {},
   "outputs": [],
   "source": []
  }
 ],
 "metadata": {
  "kernelspec": {
   "display_name": "Python 3",
   "language": "python",
   "name": "python3"
  },
  "language_info": {
   "codemirror_mode": {
    "name": "ipython",
    "version": 3
   },
   "file_extension": ".py",
   "mimetype": "text/x-python",
   "name": "python",
   "nbconvert_exporter": "python",
   "pygments_lexer": "ipython3",
   "version": "3.7.4"
  }
 },
 "nbformat": 4,
 "nbformat_minor": 2
}
