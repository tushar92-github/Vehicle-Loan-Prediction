{
 "cells": [
  {
   "cell_type": "code",
   "execution_count": 1,
   "metadata": {
    "_cell_guid": "b1076dfc-b9ad-4769-8c92-a6c4dae69d19",
    "_uuid": "8f2839f25d086af736a60e9eeb907d3b93b6e0e5",
    "execution": {
     "iopub.execute_input": "2021-11-03T08:28:35.529722Z",
     "iopub.status.busy": "2021-11-03T08:28:35.529327Z",
     "iopub.status.idle": "2021-11-03T08:28:36.528063Z",
     "shell.execute_reply": "2021-11-03T08:28:36.526986Z",
     "shell.execute_reply.started": "2021-11-03T08:28:35.529691Z"
    }
   },
   "outputs": [],
   "source": [
    "import numpy as np\n",
    "import pandas as pd\n",
    "import matplotlib.pyplot as plt\n",
    "import seaborn as sns"
   ]
  },
  {
   "cell_type": "code",
   "execution_count": 8,
   "metadata": {
    "execution": {
     "iopub.execute_input": "2021-11-03T08:28:36.530240Z",
     "iopub.status.busy": "2021-11-03T08:28:36.529925Z",
     "iopub.status.idle": "2021-11-03T08:28:36.553054Z",
     "shell.execute_reply": "2021-11-03T08:28:36.552325Z",
     "shell.execute_reply.started": "2021-11-03T08:28:36.530197Z"
    }
   },
   "outputs": [],
   "source": [
    "pd.plotting.register_matplotlib_converters()\n",
    "print('setup completed')"
   ]
  },
  {
   "cell_type": "code",
   "execution_count": 9,
   "metadata": {
    "execution": {
     "iopub.execute_input": "2021-11-03T08:28:36.556437Z",
     "iopub.status.busy": "2021-11-03T08:28:36.554165Z",
     "iopub.status.idle": "2021-11-03T08:28:36.559997Z",
     "shell.execute_reply": "2021-11-03T08:28:36.559195Z",
     "shell.execute_reply.started": "2021-11-03T08:28:36.556394Z"
    }
   },
   "outputs": [],
   "source": [
    "#filepath = '../input/vehicle-data/train.csv'"
   ]
  },
  {
   "cell_type": "code",
   "execution_count": 258,
   "metadata": {
    "execution": {
     "iopub.execute_input": "2021-11-03T08:28:36.562741Z",
     "iopub.status.busy": "2021-11-03T08:28:36.562351Z",
     "iopub.status.idle": "2021-11-03T08:28:38.024878Z",
     "shell.execute_reply": "2021-11-03T08:28:38.023827Z",
     "shell.execute_reply.started": "2021-11-03T08:28:36.562697Z"
    }
   },
   "outputs": [],
   "source": [
    "df = pd.read_csv('C:/Users/Tusha/OneDrive/Desktop/GL - DSE/capstone/Vehicle/train.csv')"
   ]
  },
  {
   "cell_type": "code",
   "execution_count": 259,
   "metadata": {
    "execution": {
     "iopub.execute_input": "2021-11-03T08:28:38.026375Z",
     "iopub.status.busy": "2021-11-03T08:28:38.026115Z",
     "iopub.status.idle": "2021-11-03T08:28:38.062081Z",
     "shell.execute_reply": "2021-11-03T08:28:38.061069Z",
     "shell.execute_reply.started": "2021-11-03T08:28:38.026344Z"
    }
   },
   "outputs": [
    {
     "data": {
      "text/html": [
       "<div>\n",
       "<style scoped>\n",
       "    .dataframe tbody tr th:only-of-type {\n",
       "        vertical-align: middle;\n",
       "    }\n",
       "\n",
       "    .dataframe tbody tr th {\n",
       "        vertical-align: top;\n",
       "    }\n",
       "\n",
       "    .dataframe thead th {\n",
       "        text-align: right;\n",
       "    }\n",
       "</style>\n",
       "<table border=\"1\" class=\"dataframe\">\n",
       "  <thead>\n",
       "    <tr style=\"text-align: right;\">\n",
       "      <th></th>\n",
       "      <th>UniqueID</th>\n",
       "      <th>disbursed_amount</th>\n",
       "      <th>asset_cost</th>\n",
       "      <th>ltv</th>\n",
       "      <th>branch_id</th>\n",
       "      <th>supplier_id</th>\n",
       "      <th>manufacturer_id</th>\n",
       "      <th>Current_pincode_ID</th>\n",
       "      <th>Date.of.Birth</th>\n",
       "      <th>Employment.Type</th>\n",
       "      <th>...</th>\n",
       "      <th>SEC.SANCTIONED.AMOUNT</th>\n",
       "      <th>SEC.DISBURSED.AMOUNT</th>\n",
       "      <th>PRIMARY.INSTAL.AMT</th>\n",
       "      <th>SEC.INSTAL.AMT</th>\n",
       "      <th>NEW.ACCTS.IN.LAST.SIX.MONTHS</th>\n",
       "      <th>DELINQUENT.ACCTS.IN.LAST.SIX.MONTHS</th>\n",
       "      <th>AVERAGE.ACCT.AGE</th>\n",
       "      <th>CREDIT.HISTORY.LENGTH</th>\n",
       "      <th>NO.OF_INQUIRIES</th>\n",
       "      <th>loan_default</th>\n",
       "    </tr>\n",
       "  </thead>\n",
       "  <tbody>\n",
       "    <tr>\n",
       "      <th>0</th>\n",
       "      <td>420825</td>\n",
       "      <td>50578</td>\n",
       "      <td>58400</td>\n",
       "      <td>89.55</td>\n",
       "      <td>67</td>\n",
       "      <td>22807</td>\n",
       "      <td>45</td>\n",
       "      <td>1441</td>\n",
       "      <td>01-01-84</td>\n",
       "      <td>Salaried</td>\n",
       "      <td>...</td>\n",
       "      <td>0</td>\n",
       "      <td>0</td>\n",
       "      <td>0</td>\n",
       "      <td>0</td>\n",
       "      <td>0</td>\n",
       "      <td>0</td>\n",
       "      <td>0yrs 0mon</td>\n",
       "      <td>0yrs 0mon</td>\n",
       "      <td>0</td>\n",
       "      <td>0</td>\n",
       "    </tr>\n",
       "    <tr>\n",
       "      <th>1</th>\n",
       "      <td>537409</td>\n",
       "      <td>47145</td>\n",
       "      <td>65550</td>\n",
       "      <td>73.23</td>\n",
       "      <td>67</td>\n",
       "      <td>22807</td>\n",
       "      <td>45</td>\n",
       "      <td>1502</td>\n",
       "      <td>31-07-85</td>\n",
       "      <td>Self employed</td>\n",
       "      <td>...</td>\n",
       "      <td>0</td>\n",
       "      <td>0</td>\n",
       "      <td>1991</td>\n",
       "      <td>0</td>\n",
       "      <td>0</td>\n",
       "      <td>1</td>\n",
       "      <td>1yrs 11mon</td>\n",
       "      <td>1yrs 11mon</td>\n",
       "      <td>0</td>\n",
       "      <td>1</td>\n",
       "    </tr>\n",
       "    <tr>\n",
       "      <th>2</th>\n",
       "      <td>417566</td>\n",
       "      <td>53278</td>\n",
       "      <td>61360</td>\n",
       "      <td>89.63</td>\n",
       "      <td>67</td>\n",
       "      <td>22807</td>\n",
       "      <td>45</td>\n",
       "      <td>1497</td>\n",
       "      <td>24-08-85</td>\n",
       "      <td>Self employed</td>\n",
       "      <td>...</td>\n",
       "      <td>0</td>\n",
       "      <td>0</td>\n",
       "      <td>0</td>\n",
       "      <td>0</td>\n",
       "      <td>0</td>\n",
       "      <td>0</td>\n",
       "      <td>0yrs 0mon</td>\n",
       "      <td>0yrs 0mon</td>\n",
       "      <td>0</td>\n",
       "      <td>0</td>\n",
       "    </tr>\n",
       "    <tr>\n",
       "      <th>3</th>\n",
       "      <td>624493</td>\n",
       "      <td>57513</td>\n",
       "      <td>66113</td>\n",
       "      <td>88.48</td>\n",
       "      <td>67</td>\n",
       "      <td>22807</td>\n",
       "      <td>45</td>\n",
       "      <td>1501</td>\n",
       "      <td>30-12-93</td>\n",
       "      <td>Self employed</td>\n",
       "      <td>...</td>\n",
       "      <td>0</td>\n",
       "      <td>0</td>\n",
       "      <td>31</td>\n",
       "      <td>0</td>\n",
       "      <td>0</td>\n",
       "      <td>0</td>\n",
       "      <td>0yrs 8mon</td>\n",
       "      <td>1yrs 3mon</td>\n",
       "      <td>1</td>\n",
       "      <td>1</td>\n",
       "    </tr>\n",
       "    <tr>\n",
       "      <th>4</th>\n",
       "      <td>539055</td>\n",
       "      <td>52378</td>\n",
       "      <td>60300</td>\n",
       "      <td>88.39</td>\n",
       "      <td>67</td>\n",
       "      <td>22807</td>\n",
       "      <td>45</td>\n",
       "      <td>1495</td>\n",
       "      <td>09-12-77</td>\n",
       "      <td>Self employed</td>\n",
       "      <td>...</td>\n",
       "      <td>0</td>\n",
       "      <td>0</td>\n",
       "      <td>0</td>\n",
       "      <td>0</td>\n",
       "      <td>0</td>\n",
       "      <td>0</td>\n",
       "      <td>0yrs 0mon</td>\n",
       "      <td>0yrs 0mon</td>\n",
       "      <td>1</td>\n",
       "      <td>1</td>\n",
       "    </tr>\n",
       "  </tbody>\n",
       "</table>\n",
       "<p>5 rows × 41 columns</p>\n",
       "</div>"
      ],
      "text/plain": [
       "   UniqueID  disbursed_amount  asset_cost    ltv  branch_id  supplier_id  \\\n",
       "0    420825             50578       58400  89.55         67        22807   \n",
       "1    537409             47145       65550  73.23         67        22807   \n",
       "2    417566             53278       61360  89.63         67        22807   \n",
       "3    624493             57513       66113  88.48         67        22807   \n",
       "4    539055             52378       60300  88.39         67        22807   \n",
       "\n",
       "   manufacturer_id  Current_pincode_ID Date.of.Birth Employment.Type  ...  \\\n",
       "0               45                1441      01-01-84        Salaried  ...   \n",
       "1               45                1502      31-07-85   Self employed  ...   \n",
       "2               45                1497      24-08-85   Self employed  ...   \n",
       "3               45                1501      30-12-93   Self employed  ...   \n",
       "4               45                1495      09-12-77   Self employed  ...   \n",
       "\n",
       "  SEC.SANCTIONED.AMOUNT  SEC.DISBURSED.AMOUNT  PRIMARY.INSTAL.AMT  \\\n",
       "0                     0                     0                   0   \n",
       "1                     0                     0                1991   \n",
       "2                     0                     0                   0   \n",
       "3                     0                     0                  31   \n",
       "4                     0                     0                   0   \n",
       "\n",
       "   SEC.INSTAL.AMT  NEW.ACCTS.IN.LAST.SIX.MONTHS  \\\n",
       "0               0                             0   \n",
       "1               0                             0   \n",
       "2               0                             0   \n",
       "3               0                             0   \n",
       "4               0                             0   \n",
       "\n",
       "   DELINQUENT.ACCTS.IN.LAST.SIX.MONTHS  AVERAGE.ACCT.AGE  \\\n",
       "0                                    0         0yrs 0mon   \n",
       "1                                    1        1yrs 11mon   \n",
       "2                                    0         0yrs 0mon   \n",
       "3                                    0         0yrs 8mon   \n",
       "4                                    0         0yrs 0mon   \n",
       "\n",
       "   CREDIT.HISTORY.LENGTH  NO.OF_INQUIRIES  loan_default  \n",
       "0              0yrs 0mon                0             0  \n",
       "1             1yrs 11mon                0             1  \n",
       "2              0yrs 0mon                0             0  \n",
       "3              1yrs 3mon                1             1  \n",
       "4              0yrs 0mon                1             1  \n",
       "\n",
       "[5 rows x 41 columns]"
      ]
     },
     "execution_count": 259,
     "metadata": {},
     "output_type": "execute_result"
    }
   ],
   "source": [
    "df.head()"
   ]
  },
  {
   "cell_type": "code",
   "execution_count": 260,
   "metadata": {
    "execution": {
     "iopub.execute_input": "2021-11-03T08:28:38.063860Z",
     "iopub.status.busy": "2021-11-03T08:28:38.063531Z",
     "iopub.status.idle": "2021-11-03T08:28:38.070090Z",
     "shell.execute_reply": "2021-11-03T08:28:38.069236Z",
     "shell.execute_reply.started": "2021-11-03T08:28:38.063814Z"
    }
   },
   "outputs": [
    {
     "data": {
      "text/plain": [
       "(233154, 41)"
      ]
     },
     "execution_count": 260,
     "metadata": {},
     "output_type": "execute_result"
    }
   ],
   "source": [
    "df.shape"
   ]
  },
  {
   "cell_type": "code",
   "execution_count": 261,
   "metadata": {
    "execution": {
     "iopub.execute_input": "2021-11-03T08:28:38.072380Z",
     "iopub.status.busy": "2021-11-03T08:28:38.072019Z",
     "iopub.status.idle": "2021-11-03T08:28:38.269236Z",
     "shell.execute_reply": "2021-11-03T08:28:38.268327Z",
     "shell.execute_reply.started": "2021-11-03T08:28:38.072333Z"
    }
   },
   "outputs": [
    {
     "name": "stdout",
     "output_type": "stream",
     "text": [
      "<class 'pandas.core.frame.DataFrame'>\n",
      "RangeIndex: 233154 entries, 0 to 233153\n",
      "Data columns (total 41 columns):\n",
      " #   Column                               Non-Null Count   Dtype  \n",
      "---  ------                               --------------   -----  \n",
      " 0   UniqueID                             233154 non-null  int64  \n",
      " 1   disbursed_amount                     233154 non-null  int64  \n",
      " 2   asset_cost                           233154 non-null  int64  \n",
      " 3   ltv                                  233154 non-null  float64\n",
      " 4   branch_id                            233154 non-null  int64  \n",
      " 5   supplier_id                          233154 non-null  int64  \n",
      " 6   manufacturer_id                      233154 non-null  int64  \n",
      " 7   Current_pincode_ID                   233154 non-null  int64  \n",
      " 8   Date.of.Birth                        233154 non-null  object \n",
      " 9   Employment.Type                      225493 non-null  object \n",
      " 10  DisbursalDate                        233154 non-null  object \n",
      " 11  State_ID                             233154 non-null  int64  \n",
      " 12  Employee_code_ID                     233154 non-null  int64  \n",
      " 13  MobileNo_Avl_Flag                    233154 non-null  int64  \n",
      " 14  Aadhar_flag                          233154 non-null  int64  \n",
      " 15  PAN_flag                             233154 non-null  int64  \n",
      " 16  VoterID_flag                         233154 non-null  int64  \n",
      " 17  Driving_flag                         233154 non-null  int64  \n",
      " 18  Passport_flag                        233154 non-null  int64  \n",
      " 19  PERFORM_CNS.SCORE                    233154 non-null  int64  \n",
      " 20  PERFORM_CNS.SCORE.DESCRIPTION        233154 non-null  object \n",
      " 21  PRI.NO.OF.ACCTS                      233154 non-null  int64  \n",
      " 22  PRI.ACTIVE.ACCTS                     233154 non-null  int64  \n",
      " 23  PRI.OVERDUE.ACCTS                    233154 non-null  int64  \n",
      " 24  PRI.CURRENT.BALANCE                  233154 non-null  int64  \n",
      " 25  PRI.SANCTIONED.AMOUNT                233154 non-null  int64  \n",
      " 26  PRI.DISBURSED.AMOUNT                 233154 non-null  int64  \n",
      " 27  SEC.NO.OF.ACCTS                      233154 non-null  int64  \n",
      " 28  SEC.ACTIVE.ACCTS                     233154 non-null  int64  \n",
      " 29  SEC.OVERDUE.ACCTS                    233154 non-null  int64  \n",
      " 30  SEC.CURRENT.BALANCE                  233154 non-null  int64  \n",
      " 31  SEC.SANCTIONED.AMOUNT                233154 non-null  int64  \n",
      " 32  SEC.DISBURSED.AMOUNT                 233154 non-null  int64  \n",
      " 33  PRIMARY.INSTAL.AMT                   233154 non-null  int64  \n",
      " 34  SEC.INSTAL.AMT                       233154 non-null  int64  \n",
      " 35  NEW.ACCTS.IN.LAST.SIX.MONTHS         233154 non-null  int64  \n",
      " 36  DELINQUENT.ACCTS.IN.LAST.SIX.MONTHS  233154 non-null  int64  \n",
      " 37  AVERAGE.ACCT.AGE                     233154 non-null  object \n",
      " 38  CREDIT.HISTORY.LENGTH                233154 non-null  object \n",
      " 39  NO.OF_INQUIRIES                      233154 non-null  int64  \n",
      " 40  loan_default                         233154 non-null  int64  \n",
      "dtypes: float64(1), int64(34), object(6)\n",
      "memory usage: 72.9+ MB\n"
     ]
    }
   ],
   "source": [
    "df.info()"
   ]
  },
  {
   "cell_type": "code",
   "execution_count": 262,
   "metadata": {
    "execution": {
     "iopub.execute_input": "2021-11-03T08:28:38.271216Z",
     "iopub.status.busy": "2021-11-03T08:28:38.271005Z",
     "iopub.status.idle": "2021-11-03T08:28:38.307476Z",
     "shell.execute_reply": "2021-11-03T08:28:38.306289Z",
     "shell.execute_reply.started": "2021-11-03T08:28:38.271189Z"
    }
   },
   "outputs": [],
   "source": [
    "dfc = df.copy()"
   ]
  },
  {
   "cell_type": "markdown",
   "metadata": {},
   "source": [
    "### Feature Transformation"
   ]
  },
  {
   "cell_type": "code",
   "execution_count": 263,
   "metadata": {
    "execution": {
     "iopub.execute_input": "2021-11-03T08:28:38.309148Z",
     "iopub.status.busy": "2021-11-03T08:28:38.308845Z",
     "iopub.status.idle": "2021-11-03T08:28:38.313568Z",
     "shell.execute_reply": "2021-11-03T08:28:38.312591Z",
     "shell.execute_reply.started": "2021-11-03T08:28:38.309109Z"
    }
   },
   "outputs": [],
   "source": [
    "# Transform AVERAGE.ACCT.AGE and CREDIT.HISTORY.LENGTH features"
   ]
  },
  {
   "cell_type": "code",
   "execution_count": 264,
   "metadata": {
    "execution": {
     "iopub.execute_input": "2021-11-03T08:28:38.318749Z",
     "iopub.status.busy": "2021-11-03T08:28:38.318366Z",
     "iopub.status.idle": "2021-11-03T08:28:38.329994Z",
     "shell.execute_reply": "2021-11-03T08:28:38.329105Z",
     "shell.execute_reply.started": "2021-11-03T08:28:38.318711Z"
    }
   },
   "outputs": [
    {
     "data": {
      "text/plain": [
       "0     0yrs 0mon\n",
       "1    1yrs 11mon\n",
       "2     0yrs 0mon\n",
       "3     0yrs 8mon\n",
       "4     0yrs 0mon\n",
       "Name: AVERAGE.ACCT.AGE, dtype: object"
      ]
     },
     "execution_count": 264,
     "metadata": {},
     "output_type": "execute_result"
    }
   ],
   "source": [
    "dfc['AVERAGE.ACCT.AGE'].head()"
   ]
  },
  {
   "cell_type": "code",
   "execution_count": 265,
   "metadata": {
    "execution": {
     "iopub.execute_input": "2021-11-03T08:28:38.334015Z",
     "iopub.status.busy": "2021-11-03T08:28:38.333582Z",
     "iopub.status.idle": "2021-11-03T08:28:39.895474Z",
     "shell.execute_reply": "2021-11-03T08:28:39.894666Z",
     "shell.execute_reply.started": "2021-11-03T08:28:38.333973Z"
    }
   },
   "outputs": [],
   "source": [
    "dfc[['AVERAGE_ACCT_Year','AVERAGE_ACCT_Month']] = dfc['AVERAGE.ACCT.AGE'].str.split(\"yrs\",expand=True)\n",
    "dfc[['AVERAGE_ACCT_Month','AVERAGE_ACCT_newMonth']] = dfc['AVERAGE_ACCT_Month'].str.split(\"mon\",expand=True)\n",
    "dfc[\"AVERAGE.ACCT.AGE\"]= dfc[\"AVERAGE_ACCT_Year\"].astype(str).astype(int)+((dfc[\"AVERAGE_ACCT_Month\"].astype(str).astype(int))/12)\n",
    "dfc = dfc.drop(columns= [\"AVERAGE_ACCT_Year\",\"AVERAGE_ACCT_Month\",'AVERAGE_ACCT_newMonth'])"
   ]
  },
  {
   "cell_type": "code",
   "execution_count": 266,
   "metadata": {
    "execution": {
     "iopub.execute_input": "2021-11-03T08:28:39.897114Z",
     "iopub.status.busy": "2021-11-03T08:28:39.896792Z",
     "iopub.status.idle": "2021-11-03T08:28:39.905939Z",
     "shell.execute_reply": "2021-11-03T08:28:39.905218Z",
     "shell.execute_reply.started": "2021-11-03T08:28:39.897074Z"
    }
   },
   "outputs": [],
   "source": [
    "dfc['AVERAGE.ACCT.AGE'] = round(dfc['AVERAGE.ACCT.AGE'],2)"
   ]
  },
  {
   "cell_type": "code",
   "execution_count": 267,
   "metadata": {
    "execution": {
     "iopub.execute_input": "2021-11-03T08:28:39.907694Z",
     "iopub.status.busy": "2021-11-03T08:28:39.907464Z",
     "iopub.status.idle": "2021-11-03T08:28:39.917377Z",
     "shell.execute_reply": "2021-11-03T08:28:39.916740Z",
     "shell.execute_reply.started": "2021-11-03T08:28:39.907666Z"
    }
   },
   "outputs": [
    {
     "data": {
      "text/plain": [
       "0    0.00\n",
       "1    1.92\n",
       "2    0.00\n",
       "3    0.67\n",
       "4    0.00\n",
       "Name: AVERAGE.ACCT.AGE, dtype: float64"
      ]
     },
     "execution_count": 267,
     "metadata": {},
     "output_type": "execute_result"
    }
   ],
   "source": [
    "dfc['AVERAGE.ACCT.AGE'].head()"
   ]
  },
  {
   "cell_type": "code",
   "execution_count": 268,
   "metadata": {
    "execution": {
     "iopub.execute_input": "2021-11-03T08:28:39.918479Z",
     "iopub.status.busy": "2021-11-03T08:28:39.918202Z",
     "iopub.status.idle": "2021-11-03T08:28:41.462591Z",
     "shell.execute_reply": "2021-11-03T08:28:41.461910Z",
     "shell.execute_reply.started": "2021-11-03T08:28:39.918451Z"
    }
   },
   "outputs": [],
   "source": [
    "dfc[['CREDIT_HISTORY_LENGTH_Year','CREDIT_HISTORY_LENGTH_Month']] = dfc['CREDIT.HISTORY.LENGTH'].str.split(\"yrs\",expand=True)\n",
    "dfc[['CREDIT_HISTORY_LENGTH_Month','CREDIT_HISTORY_LENGTH_Month1']] = dfc['CREDIT_HISTORY_LENGTH_Month'].str.split(\"mon\",expand=True)\n",
    "dfc[\"CREDIT.HISTORY.LENGTH\"]= dfc[\"CREDIT_HISTORY_LENGTH_Year\"].astype(str).astype(int)+((dfc[\"CREDIT_HISTORY_LENGTH_Month\"].astype(str).astype(int))/12)\n",
    "dfc = dfc.drop(columns= [\"CREDIT_HISTORY_LENGTH_Year\",\"CREDIT_HISTORY_LENGTH_Month\",'CREDIT_HISTORY_LENGTH_Month1'])"
   ]
  },
  {
   "cell_type": "code",
   "execution_count": 269,
   "metadata": {
    "execution": {
     "iopub.execute_input": "2021-11-03T08:28:41.464044Z",
     "iopub.status.busy": "2021-11-03T08:28:41.463526Z",
     "iopub.status.idle": "2021-11-03T08:28:41.469903Z",
     "shell.execute_reply": "2021-11-03T08:28:41.469327Z",
     "shell.execute_reply.started": "2021-11-03T08:28:41.464008Z"
    }
   },
   "outputs": [],
   "source": [
    "dfc['CREDIT.HISTORY.LENGTH'] = round(dfc['CREDIT.HISTORY.LENGTH'],2)"
   ]
  },
  {
   "cell_type": "code",
   "execution_count": 270,
   "metadata": {
    "execution": {
     "iopub.execute_input": "2021-11-03T08:28:41.471534Z",
     "iopub.status.busy": "2021-11-03T08:28:41.470805Z",
     "iopub.status.idle": "2021-11-03T08:28:41.484691Z",
     "shell.execute_reply": "2021-11-03T08:28:41.483967Z",
     "shell.execute_reply.started": "2021-11-03T08:28:41.471488Z"
    }
   },
   "outputs": [
    {
     "data": {
      "text/plain": [
       "0    0.00\n",
       "1    1.92\n",
       "2    0.00\n",
       "3    1.25\n",
       "4    0.00\n",
       "Name: CREDIT.HISTORY.LENGTH, dtype: float64"
      ]
     },
     "execution_count": 270,
     "metadata": {},
     "output_type": "execute_result"
    }
   ],
   "source": [
    "dfc['CREDIT.HISTORY.LENGTH'].head()"
   ]
  },
  {
   "cell_type": "code",
   "execution_count": 271,
   "metadata": {
    "execution": {
     "iopub.execute_input": "2021-11-03T08:28:41.486044Z",
     "iopub.status.busy": "2021-11-03T08:28:41.485771Z",
     "iopub.status.idle": "2021-11-03T08:28:41.496751Z",
     "shell.execute_reply": "2021-11-03T08:28:41.496040Z",
     "shell.execute_reply.started": "2021-11-03T08:28:41.486002Z"
    }
   },
   "outputs": [],
   "source": [
    "# change PERFORM_CNS.SCORE.DESCRIPTION with its frequency"
   ]
  },
  {
   "cell_type": "code",
   "execution_count": 272,
   "metadata": {
    "execution": {
     "iopub.execute_input": "2021-11-03T08:28:41.499086Z",
     "iopub.status.busy": "2021-11-03T08:28:41.498498Z",
     "iopub.status.idle": "2021-11-03T08:28:41.590921Z",
     "shell.execute_reply": "2021-11-03T08:28:41.590058Z",
     "shell.execute_reply.started": "2021-11-03T08:28:41.499034Z"
    }
   },
   "outputs": [
    {
     "data": {
      "text/plain": [
       "{'No Bureau History Available': 116950,\n",
       " 'C-Very Low Risk': 16045,\n",
       " 'A-Very Low Risk': 14124,\n",
       " 'D-Very Low Risk': 11358,\n",
       " 'B-Very Low Risk': 9201,\n",
       " 'M-Very High Risk': 8776,\n",
       " 'F-Low Risk': 8485,\n",
       " 'K-High Risk': 8277,\n",
       " 'H-Medium Risk': 6855,\n",
       " 'E-Low Risk': 5821,\n",
       " 'I-Medium Risk': 5557,\n",
       " 'G-Low Risk': 3988,\n",
       " 'Not Scored: Sufficient History Not Available': 3765,\n",
       " 'J-High Risk': 3748,\n",
       " 'Not Scored: Not Enough Info available on the customer': 3672,\n",
       " 'Not Scored: No Activity seen on the customer (Inactive)': 2885,\n",
       " 'Not Scored: No Updates available in last 36 months': 1534,\n",
       " 'L-Very High Risk': 1134,\n",
       " 'Not Scored: Only a Guarantor': 976,\n",
       " 'Not Scored: More than 50 active Accounts found': 3}"
      ]
     },
     "execution_count": 272,
     "metadata": {},
     "output_type": "execute_result"
    }
   ],
   "source": [
    "k = dfc['PERFORM_CNS.SCORE.DESCRIPTION'].value_counts().index\n",
    "v = dfc['PERFORM_CNS.SCORE.DESCRIPTION'].value_counts().values\n",
    "dt = {}\n",
    "dt.update(zip(k,v)) \n",
    "dt"
   ]
  },
  {
   "cell_type": "code",
   "execution_count": 273,
   "metadata": {
    "execution": {
     "iopub.execute_input": "2021-11-03T08:28:41.592744Z",
     "iopub.status.busy": "2021-11-03T08:28:41.592443Z",
     "iopub.status.idle": "2021-11-03T08:28:41.632122Z",
     "shell.execute_reply": "2021-11-03T08:28:41.631182Z",
     "shell.execute_reply.started": "2021-11-03T08:28:41.592702Z"
    }
   },
   "outputs": [],
   "source": [
    "dfc['PERFORM_CNS.SCORE.DESCRIPTION'] = dfc['PERFORM_CNS.SCORE.DESCRIPTION'].map(dt)"
   ]
  },
  {
   "cell_type": "code",
   "execution_count": 274,
   "metadata": {
    "execution": {
     "iopub.execute_input": "2021-11-03T08:28:41.636198Z",
     "iopub.status.busy": "2021-11-03T08:28:41.635960Z",
     "iopub.status.idle": "2021-11-03T08:28:41.640038Z",
     "shell.execute_reply": "2021-11-03T08:28:41.639023Z",
     "shell.execute_reply.started": "2021-11-03T08:28:41.636170Z"
    }
   },
   "outputs": [],
   "source": [
    "# Bin PERFORM_CNS.SCORE with 6 categories and later use label encoding to encode it"
   ]
  },
  {
   "cell_type": "code",
   "execution_count": 275,
   "metadata": {
    "execution": {
     "iopub.execute_input": "2021-11-03T08:28:41.642388Z",
     "iopub.status.busy": "2021-11-03T08:28:41.641794Z",
     "iopub.status.idle": "2021-11-03T08:28:41.655605Z",
     "shell.execute_reply": "2021-11-03T08:28:41.654871Z",
     "shell.execute_reply.started": "2021-11-03T08:28:41.642339Z"
    }
   },
   "outputs": [
    {
     "data": {
      "text/plain": [
       "0      0\n",
       "1    598\n",
       "2      0\n",
       "3    305\n",
       "4      0\n",
       "Name: PERFORM_CNS.SCORE, dtype: int64"
      ]
     },
     "execution_count": 275,
     "metadata": {},
     "output_type": "execute_result"
    }
   ],
   "source": [
    "dfc['PERFORM_CNS.SCORE'].head()"
   ]
  },
  {
   "cell_type": "code",
   "execution_count": 276,
   "metadata": {
    "execution": {
     "iopub.execute_input": "2021-11-03T08:28:41.657351Z",
     "iopub.status.busy": "2021-11-03T08:28:41.656922Z",
     "iopub.status.idle": "2021-11-03T08:28:41.794586Z",
     "shell.execute_reply": "2021-11-03T08:28:41.793884Z",
     "shell.execute_reply.started": "2021-11-03T08:28:41.657310Z"
    }
   },
   "outputs": [],
   "source": [
    "dfc['PERFORM_CNS.SCORE'] = dfc['PERFORM_CNS.SCORE'].apply(lambda x: 'Risky' if (x>= 0) & (x <= 300) else 'Low' if (x>= 301) & (x <= 600) else 'Fair' if (x>= 601) & (x <= 700) else 'Good' if (x>= 701) & (x <= 760) else 'Better' if (x>= 761) & (x <= 800) else 'Exgood')"
   ]
  },
  {
   "cell_type": "code",
   "execution_count": 277,
   "metadata": {
    "execution": {
     "iopub.execute_input": "2021-11-03T08:28:41.796744Z",
     "iopub.status.busy": "2021-11-03T08:28:41.795823Z",
     "iopub.status.idle": "2021-11-03T08:28:41.832031Z",
     "shell.execute_reply": "2021-11-03T08:28:41.830958Z",
     "shell.execute_reply.started": "2021-11-03T08:28:41.796705Z"
    }
   },
   "outputs": [
    {
     "data": {
      "text/plain": [
       "Index(['Risky', 'Good', 'Fair', 'Low', 'Exgood', 'Better'], dtype='object')"
      ]
     },
     "execution_count": 277,
     "metadata": {},
     "output_type": "execute_result"
    }
   ],
   "source": [
    "dfc['PERFORM_CNS.SCORE'].value_counts().index"
   ]
  },
  {
   "cell_type": "code",
   "execution_count": 278,
   "metadata": {
    "execution": {
     "iopub.execute_input": "2021-11-03T08:28:41.834411Z",
     "iopub.status.busy": "2021-11-03T08:28:41.833642Z",
     "iopub.status.idle": "2021-11-03T08:28:41.874029Z",
     "shell.execute_reply": "2021-11-03T08:28:41.873326Z",
     "shell.execute_reply.started": "2021-11-03T08:28:41.834364Z"
    }
   },
   "outputs": [
    {
     "data": {
      "text/plain": [
       "{'Risky': 0, 'Good': 3, 'Fair': 2, 'Low': 1, 'Exgood': 5, 'Better': 4}"
      ]
     },
     "execution_count": 278,
     "metadata": {},
     "output_type": "execute_result"
    }
   ],
   "source": [
    "dt1 = {}\n",
    "k1 = dfc['PERFORM_CNS.SCORE'].value_counts().index\n",
    "v1 = [0,3,2,1,5,4]\n",
    "dt1.update(zip(k1,v1))\n",
    "dt1"
   ]
  },
  {
   "cell_type": "code",
   "execution_count": 279,
   "metadata": {
    "execution": {
     "iopub.execute_input": "2021-11-03T08:28:41.875676Z",
     "iopub.status.busy": "2021-11-03T08:28:41.875032Z",
     "iopub.status.idle": "2021-11-03T08:28:41.908913Z",
     "shell.execute_reply": "2021-11-03T08:28:41.908322Z",
     "shell.execute_reply.started": "2021-11-03T08:28:41.875637Z"
    }
   },
   "outputs": [
    {
     "data": {
      "text/plain": [
       "0    138561\n",
       "3     28252\n",
       "2     24300\n",
       "1     18716\n",
       "5     14373\n",
       "4      8952\n",
       "Name: PERFORM_CNS.SCORE, dtype: int64"
      ]
     },
     "execution_count": 279,
     "metadata": {},
     "output_type": "execute_result"
    }
   ],
   "source": [
    "dfc['PERFORM_CNS.SCORE'] = dfc['PERFORM_CNS.SCORE'].map(dt1)\n",
    "dfc['PERFORM_CNS.SCORE'].value_counts()"
   ]
  },
  {
   "cell_type": "code",
   "execution_count": 280,
   "metadata": {
    "execution": {
     "iopub.execute_input": "2021-11-03T08:28:41.910889Z",
     "iopub.status.busy": "2021-11-03T08:28:41.910174Z",
     "iopub.status.idle": "2021-11-03T08:28:41.914186Z",
     "shell.execute_reply": "2021-11-03T08:28:41.913524Z",
     "shell.execute_reply.started": "2021-11-03T08:28:41.910854Z"
    }
   },
   "outputs": [],
   "source": [
    "# Drop Unnecessary columns"
   ]
  },
  {
   "cell_type": "code",
   "execution_count": 281,
   "metadata": {
    "execution": {
     "iopub.execute_input": "2021-11-03T08:28:41.915877Z",
     "iopub.status.busy": "2021-11-03T08:28:41.915136Z",
     "iopub.status.idle": "2021-11-03T08:28:42.010813Z",
     "shell.execute_reply": "2021-11-03T08:28:42.009950Z",
     "shell.execute_reply.started": "2021-11-03T08:28:41.915842Z"
    }
   },
   "outputs": [],
   "source": [
    "dfc = dfc.drop(['UniqueID','branch_id','supplier_id', 'manufacturer_id', 'Current_pincode_ID','State_ID','Employee_code_ID','Date.of.Birth','DisbursalDate'],axis = 1)"
   ]
  },
  {
   "cell_type": "code",
   "execution_count": 282,
   "metadata": {
    "execution": {
     "iopub.execute_input": "2021-11-03T08:28:42.014704Z",
     "iopub.status.busy": "2021-11-03T08:28:42.014454Z",
     "iopub.status.idle": "2021-11-03T08:28:42.019222Z",
     "shell.execute_reply": "2021-11-03T08:28:42.018612Z",
     "shell.execute_reply.started": "2021-11-03T08:28:42.014674Z"
    }
   },
   "outputs": [
    {
     "name": "stdout",
     "output_type": "stream",
     "text": [
      "(233154, 32)\n"
     ]
    }
   ],
   "source": [
    "print(dfc.shape)"
   ]
  },
  {
   "cell_type": "markdown",
   "metadata": {},
   "source": [
    "### Data Type Conversion"
   ]
  },
  {
   "cell_type": "code",
   "execution_count": 283,
   "metadata": {
    "execution": {
     "iopub.execute_input": "2021-11-03T08:28:42.021007Z",
     "iopub.status.busy": "2021-11-03T08:28:42.020516Z",
     "iopub.status.idle": "2021-11-03T08:28:42.178318Z",
     "shell.execute_reply": "2021-11-03T08:28:42.177590Z",
     "shell.execute_reply.started": "2021-11-03T08:28:42.020972Z"
    }
   },
   "outputs": [],
   "source": [
    "dfc['Passport_flag'] = dfc['Passport_flag'].astype('object')\n",
    "dfc['MobileNo_Avl_Flag'] = dfc['MobileNo_Avl_Flag'].astype('object')\n",
    "dfc['Aadhar_flag'] = dfc['Aadhar_flag'].astype('object')\n",
    "dfc['PAN_flag'] = dfc['PAN_flag'].astype('object')\n",
    "dfc['VoterID_flag'] = dfc['VoterID_flag'].astype('object')\n",
    "dfc['Driving_flag'] = dfc['Driving_flag'].astype('object')\n",
    "dfc['PERFORM_CNS.SCORE'] = dfc['PERFORM_CNS.SCORE'].astype('object')"
   ]
  },
  {
   "cell_type": "code",
   "execution_count": 284,
   "metadata": {
    "execution": {
     "iopub.execute_input": "2021-11-03T08:28:42.180245Z",
     "iopub.status.busy": "2021-11-03T08:28:42.179574Z",
     "iopub.status.idle": "2021-11-03T08:28:42.407323Z",
     "shell.execute_reply": "2021-11-03T08:28:42.406471Z",
     "shell.execute_reply.started": "2021-11-03T08:28:42.180212Z"
    }
   },
   "outputs": [
    {
     "name": "stdout",
     "output_type": "stream",
     "text": [
      "<class 'pandas.core.frame.DataFrame'>\n",
      "RangeIndex: 233154 entries, 0 to 233153\n",
      "Data columns (total 32 columns):\n",
      " #   Column                               Non-Null Count   Dtype  \n",
      "---  ------                               --------------   -----  \n",
      " 0   disbursed_amount                     233154 non-null  int64  \n",
      " 1   asset_cost                           233154 non-null  int64  \n",
      " 2   ltv                                  233154 non-null  float64\n",
      " 3   Employment.Type                      225493 non-null  object \n",
      " 4   MobileNo_Avl_Flag                    233154 non-null  object \n",
      " 5   Aadhar_flag                          233154 non-null  object \n",
      " 6   PAN_flag                             233154 non-null  object \n",
      " 7   VoterID_flag                         233154 non-null  object \n",
      " 8   Driving_flag                         233154 non-null  object \n",
      " 9   Passport_flag                        233154 non-null  object \n",
      " 10  PERFORM_CNS.SCORE                    233154 non-null  object \n",
      " 11  PERFORM_CNS.SCORE.DESCRIPTION        233154 non-null  int64  \n",
      " 12  PRI.NO.OF.ACCTS                      233154 non-null  int64  \n",
      " 13  PRI.ACTIVE.ACCTS                     233154 non-null  int64  \n",
      " 14  PRI.OVERDUE.ACCTS                    233154 non-null  int64  \n",
      " 15  PRI.CURRENT.BALANCE                  233154 non-null  int64  \n",
      " 16  PRI.SANCTIONED.AMOUNT                233154 non-null  int64  \n",
      " 17  PRI.DISBURSED.AMOUNT                 233154 non-null  int64  \n",
      " 18  SEC.NO.OF.ACCTS                      233154 non-null  int64  \n",
      " 19  SEC.ACTIVE.ACCTS                     233154 non-null  int64  \n",
      " 20  SEC.OVERDUE.ACCTS                    233154 non-null  int64  \n",
      " 21  SEC.CURRENT.BALANCE                  233154 non-null  int64  \n",
      " 22  SEC.SANCTIONED.AMOUNT                233154 non-null  int64  \n",
      " 23  SEC.DISBURSED.AMOUNT                 233154 non-null  int64  \n",
      " 24  PRIMARY.INSTAL.AMT                   233154 non-null  int64  \n",
      " 25  SEC.INSTAL.AMT                       233154 non-null  int64  \n",
      " 26  NEW.ACCTS.IN.LAST.SIX.MONTHS         233154 non-null  int64  \n",
      " 27  DELINQUENT.ACCTS.IN.LAST.SIX.MONTHS  233154 non-null  int64  \n",
      " 28  AVERAGE.ACCT.AGE                     233154 non-null  float64\n",
      " 29  CREDIT.HISTORY.LENGTH                233154 non-null  float64\n",
      " 30  NO.OF_INQUIRIES                      233154 non-null  int64  \n",
      " 31  loan_default                         233154 non-null  int64  \n",
      "dtypes: float64(3), int64(21), object(8)\n",
      "memory usage: 56.9+ MB\n"
     ]
    }
   ],
   "source": [
    "dfc.info()"
   ]
  },
  {
   "cell_type": "markdown",
   "metadata": {},
   "source": [
    "### Handling Missing Values"
   ]
  },
  {
   "cell_type": "code",
   "execution_count": 285,
   "metadata": {
    "execution": {
     "iopub.execute_input": "2021-11-03T08:28:42.408762Z",
     "iopub.status.busy": "2021-11-03T08:28:42.408521Z",
     "iopub.status.idle": "2021-11-03T08:28:42.628584Z",
     "shell.execute_reply": "2021-11-03T08:28:42.627727Z",
     "shell.execute_reply.started": "2021-11-03T08:28:42.408733Z"
    }
   },
   "outputs": [
    {
     "data": {
      "text/plain": [
       "disbursed_amount                          0\n",
       "asset_cost                                0\n",
       "ltv                                       0\n",
       "Employment.Type                        7661\n",
       "MobileNo_Avl_Flag                         0\n",
       "Aadhar_flag                               0\n",
       "PAN_flag                                  0\n",
       "VoterID_flag                              0\n",
       "Driving_flag                              0\n",
       "Passport_flag                             0\n",
       "PERFORM_CNS.SCORE                         0\n",
       "PERFORM_CNS.SCORE.DESCRIPTION             0\n",
       "PRI.NO.OF.ACCTS                           0\n",
       "PRI.ACTIVE.ACCTS                          0\n",
       "PRI.OVERDUE.ACCTS                         0\n",
       "PRI.CURRENT.BALANCE                       0\n",
       "PRI.SANCTIONED.AMOUNT                     0\n",
       "PRI.DISBURSED.AMOUNT                      0\n",
       "SEC.NO.OF.ACCTS                           0\n",
       "SEC.ACTIVE.ACCTS                          0\n",
       "SEC.OVERDUE.ACCTS                         0\n",
       "SEC.CURRENT.BALANCE                       0\n",
       "SEC.SANCTIONED.AMOUNT                     0\n",
       "SEC.DISBURSED.AMOUNT                      0\n",
       "PRIMARY.INSTAL.AMT                        0\n",
       "SEC.INSTAL.AMT                            0\n",
       "NEW.ACCTS.IN.LAST.SIX.MONTHS              0\n",
       "DELINQUENT.ACCTS.IN.LAST.SIX.MONTHS       0\n",
       "AVERAGE.ACCT.AGE                          0\n",
       "CREDIT.HISTORY.LENGTH                     0\n",
       "NO.OF_INQUIRIES                           0\n",
       "loan_default                              0\n",
       "dtype: int64"
      ]
     },
     "execution_count": 285,
     "metadata": {},
     "output_type": "execute_result"
    }
   ],
   "source": [
    "dfc.isnull().sum()"
   ]
  },
  {
   "cell_type": "code",
   "execution_count": 286,
   "metadata": {
    "execution": {
     "iopub.execute_input": "2021-11-03T08:28:42.630880Z",
     "iopub.status.busy": "2021-11-03T08:28:42.629885Z",
     "iopub.status.idle": "2021-11-03T08:28:42.910875Z",
     "shell.execute_reply": "2021-11-03T08:28:42.909770Z",
     "shell.execute_reply.started": "2021-11-03T08:28:42.630832Z"
    }
   },
   "outputs": [],
   "source": [
    "dfc.dropna(axis = 0, inplace = True)"
   ]
  },
  {
   "cell_type": "code",
   "execution_count": 287,
   "metadata": {
    "execution": {
     "iopub.execute_input": "2021-11-03T08:28:42.913205Z",
     "iopub.status.busy": "2021-11-03T08:28:42.912431Z",
     "iopub.status.idle": "2021-11-03T08:28:42.922414Z",
     "shell.execute_reply": "2021-11-03T08:28:42.921466Z",
     "shell.execute_reply.started": "2021-11-03T08:28:42.913156Z"
    }
   },
   "outputs": [
    {
     "data": {
      "text/plain": [
       "(225493, 32)"
      ]
     },
     "execution_count": 287,
     "metadata": {},
     "output_type": "execute_result"
    }
   ],
   "source": [
    "dfc.shape"
   ]
  },
  {
   "cell_type": "markdown",
   "metadata": {
    "execution": {
     "iopub.execute_input": "2021-11-03T08:28:42.924408Z",
     "iopub.status.busy": "2021-11-03T08:28:42.923743Z",
     "iopub.status.idle": "2021-11-03T08:28:42.932603Z",
     "shell.execute_reply": "2021-11-03T08:28:42.931632Z",
     "shell.execute_reply.started": "2021-11-03T08:28:42.924364Z"
    }
   },
   "source": [
    "### Feature Generation"
   ]
  },
  {
   "cell_type": "code",
   "execution_count": 288,
   "metadata": {
    "execution": {
     "iopub.execute_input": "2021-11-03T08:28:42.935939Z",
     "iopub.status.busy": "2021-11-03T08:28:42.935228Z",
     "iopub.status.idle": "2021-11-03T08:28:42.985645Z",
     "shell.execute_reply": "2021-11-03T08:28:42.984825Z",
     "shell.execute_reply.started": "2021-11-03T08:28:42.935888Z"
    }
   },
   "outputs": [
    {
     "data": {
      "text/plain": [
       "Self employed    127635\n",
       "Salaried          97858\n",
       "Name: Employment.Type, dtype: int64"
      ]
     },
     "execution_count": 288,
     "metadata": {},
     "output_type": "execute_result"
    }
   ],
   "source": [
    "# changing Employment.Type column\n",
    "dfc['Employment.Type'].value_counts()"
   ]
  },
  {
   "cell_type": "code",
   "execution_count": 289,
   "metadata": {
    "execution": {
     "iopub.execute_input": "2021-11-03T08:29:46.266334Z",
     "iopub.status.busy": "2021-11-03T08:29:46.266038Z",
     "iopub.status.idle": "2021-11-03T08:29:46.299499Z",
     "shell.execute_reply": "2021-11-03T08:29:46.298755Z",
     "shell.execute_reply.started": "2021-11-03T08:29:46.266303Z"
    }
   },
   "outputs": [
    {
     "data": {
      "text/html": [
       "<div>\n",
       "<style scoped>\n",
       "    .dataframe tbody tr th:only-of-type {\n",
       "        vertical-align: middle;\n",
       "    }\n",
       "\n",
       "    .dataframe tbody tr th {\n",
       "        vertical-align: top;\n",
       "    }\n",
       "\n",
       "    .dataframe thead th {\n",
       "        text-align: right;\n",
       "    }\n",
       "</style>\n",
       "<table border=\"1\" class=\"dataframe\">\n",
       "  <thead>\n",
       "    <tr style=\"text-align: right;\">\n",
       "      <th></th>\n",
       "      <th>Salaried</th>\n",
       "      <th>Self employed</th>\n",
       "    </tr>\n",
       "  </thead>\n",
       "  <tbody>\n",
       "    <tr>\n",
       "      <th>0</th>\n",
       "      <td>1</td>\n",
       "      <td>0</td>\n",
       "    </tr>\n",
       "    <tr>\n",
       "      <th>1</th>\n",
       "      <td>0</td>\n",
       "      <td>1</td>\n",
       "    </tr>\n",
       "    <tr>\n",
       "      <th>2</th>\n",
       "      <td>0</td>\n",
       "      <td>1</td>\n",
       "    </tr>\n",
       "    <tr>\n",
       "      <th>3</th>\n",
       "      <td>0</td>\n",
       "      <td>1</td>\n",
       "    </tr>\n",
       "    <tr>\n",
       "      <th>4</th>\n",
       "      <td>0</td>\n",
       "      <td>1</td>\n",
       "    </tr>\n",
       "  </tbody>\n",
       "</table>\n",
       "</div>"
      ],
      "text/plain": [
       "   Salaried  Self employed\n",
       "0         1              0\n",
       "1         0              1\n",
       "2         0              1\n",
       "3         0              1\n",
       "4         0              1"
      ]
     },
     "execution_count": 289,
     "metadata": {},
     "output_type": "execute_result"
    }
   ],
   "source": [
    "temp = pd.get_dummies(dfc['Employment.Type'])\n",
    "temp.head()"
   ]
  },
  {
   "cell_type": "code",
   "execution_count": 290,
   "metadata": {
    "execution": {
     "iopub.execute_input": "2021-11-03T08:30:12.998471Z",
     "iopub.status.busy": "2021-11-03T08:30:12.997799Z",
     "iopub.status.idle": "2021-11-03T08:30:13.036286Z",
     "shell.execute_reply": "2021-11-03T08:30:13.035344Z",
     "shell.execute_reply.started": "2021-11-03T08:30:12.998438Z"
    }
   },
   "outputs": [],
   "source": [
    "dfc[['Salaried', 'Self employed']] = temp[['Salaried', 'Self employed']]\n",
    "dfc.drop('Employment.Type', axis = 1, inplace = True)"
   ]
  },
  {
   "cell_type": "code",
   "execution_count": 291,
   "metadata": {},
   "outputs": [],
   "source": [
    "#secondary account values"
   ]
  },
  {
   "cell_type": "code",
   "execution_count": 292,
   "metadata": {},
   "outputs": [],
   "source": [
    "dfc_new = dfc.copy()"
   ]
  },
  {
   "cell_type": "code",
   "execution_count": 293,
   "metadata": {},
   "outputs": [
    {
     "data": {
      "text/plain": [
       "0    97.444710\n",
       "1     1.506033\n",
       "Name: SEC.NO.OF.ACCTS, dtype: float64"
      ]
     },
     "execution_count": 293,
     "metadata": {},
     "output_type": "execute_result"
    }
   ],
   "source": [
    "dfc_new['SEC.NO.OF.ACCTS'].value_counts(normalize = True)[0:2]*100"
   ]
  },
  {
   "cell_type": "code",
   "execution_count": 294,
   "metadata": {},
   "outputs": [
    {
     "data": {
      "text/plain": [
       "0    98.334316\n",
       "1     1.169438\n",
       "Name: SEC.ACTIVE.ACCTS, dtype: float64"
      ]
     },
     "execution_count": 294,
     "metadata": {},
     "output_type": "execute_result"
    }
   ],
   "source": [
    "dfc_new['SEC.ACTIVE.ACCTS'].value_counts(normalize = True)[0:2]*100"
   ]
  },
  {
   "cell_type": "code",
   "execution_count": 295,
   "metadata": {},
   "outputs": [
    {
     "data": {
      "text/plain": [
       "0    99.419051\n",
       "1     0.489594\n",
       "Name: SEC.OVERDUE.ACCTS, dtype: float64"
      ]
     },
     "execution_count": 295,
     "metadata": {},
     "output_type": "execute_result"
    }
   ],
   "source": [
    "dfc_new['SEC.OVERDUE.ACCTS'].value_counts(normalize = True)[0:2]*100"
   ]
  },
  {
   "cell_type": "code",
   "execution_count": 296,
   "metadata": {},
   "outputs": [
    {
     "data": {
      "text/plain": [
       "0      98.531662\n",
       "800     0.004435\n",
       "Name: SEC.CURRENT.BALANCE, dtype: float64"
      ]
     },
     "execution_count": 296,
     "metadata": {},
     "output_type": "execute_result"
    }
   ],
   "source": [
    "dfc_new['SEC.CURRENT.BALANCE'].value_counts(normalize = True)[0:2]*100"
   ]
  },
  {
   "cell_type": "code",
   "execution_count": 297,
   "metadata": {},
   "outputs": [
    {
     "data": {
      "text/plain": [
       "0        98.369351\n",
       "50000     0.036365\n",
       "Name: SEC.SANCTIONED.AMOUNT, dtype: float64"
      ]
     },
     "execution_count": 297,
     "metadata": {},
     "output_type": "execute_result"
    }
   ],
   "source": [
    "dfc_new['SEC.SANCTIONED.AMOUNT'].value_counts(normalize = True)[0:2]*100"
   ]
  },
  {
   "cell_type": "code",
   "execution_count": 298,
   "metadata": {},
   "outputs": [
    {
     "data": {
      "text/plain": [
       "0        98.382655\n",
       "50000     0.025721\n",
       "Name: SEC.DISBURSED.AMOUNT, dtype: float64"
      ]
     },
     "execution_count": 298,
     "metadata": {},
     "output_type": "execute_result"
    }
   ],
   "source": [
    "dfc_new['SEC.DISBURSED.AMOUNT'].value_counts(normalize = True)[0:2]*100"
   ]
  },
  {
   "cell_type": "code",
   "execution_count": 299,
   "metadata": {},
   "outputs": [
    {
     "data": {
      "text/plain": [
       "0       99.033229\n",
       "2100     0.003104\n",
       "Name: SEC.INSTAL.AMT, dtype: float64"
      ]
     },
     "execution_count": 299,
     "metadata": {},
     "output_type": "execute_result"
    }
   ],
   "source": [
    "dfc_new['SEC.INSTAL.AMT'].value_counts(normalize = True)[0:2]*100"
   ]
  },
  {
   "cell_type": "code",
   "execution_count": 300,
   "metadata": {},
   "outputs": [],
   "source": [
    "# we can see that in whole secondary account features, every feature has more then 98% zero values in them.\n",
    "# therefore, it's better to drop these columns.Because these columns won't help in improving our predictions"
   ]
  },
  {
   "cell_type": "code",
   "execution_count": 301,
   "metadata": {},
   "outputs": [],
   "source": [
    "dfc_new.drop(['SEC.NO.OF.ACCTS', 'SEC.ACTIVE.ACCTS', 'SEC.OVERDUE.ACCTS',\n",
    "       'SEC.CURRENT.BALANCE', 'SEC.SANCTIONED.AMOUNT', 'SEC.DISBURSED.AMOUNT',\n",
    "              'SEC.INSTAL.AMT'], axis = 1, inplace = True)"
   ]
  },
  {
   "cell_type": "code",
   "execution_count": 302,
   "metadata": {},
   "outputs": [
    {
     "data": {
      "text/plain": [
       "(225493, 26)"
      ]
     },
     "execution_count": 302,
     "metadata": {},
     "output_type": "execute_result"
    }
   ],
   "source": [
    "dfc_new.shape"
   ]
  },
  {
   "cell_type": "code",
   "execution_count": 303,
   "metadata": {},
   "outputs": [],
   "source": [
    "#primary account values"
   ]
  },
  {
   "cell_type": "code",
   "execution_count": 304,
   "metadata": {},
   "outputs": [
    {
     "data": {
      "text/plain": [
       "98.6287822681857"
      ]
     },
     "execution_count": 304,
     "metadata": {},
     "output_type": "execute_result"
    }
   ],
   "source": [
    "dfc_new['PRI.NO.OF.ACCTS'].value_counts(normalize = True)[0:21].sum()*100"
   ]
  },
  {
   "cell_type": "code",
   "execution_count": 305,
   "metadata": {},
   "outputs": [
    {
     "data": {
      "text/plain": [
       "99.24831369488189"
      ]
     },
     "execution_count": 305,
     "metadata": {},
     "output_type": "execute_result"
    }
   ],
   "source": [
    "dfc_new['PRI.ACTIVE.ACCTS'].value_counts(normalize = True)[0:10].sum()*100"
   ]
  },
  {
   "cell_type": "code",
   "execution_count": 306,
   "metadata": {},
   "outputs": [
    {
     "data": {
      "text/plain": [
       "99.1272456351195"
      ]
     },
     "execution_count": 306,
     "metadata": {},
     "output_type": "execute_result"
    }
   ],
   "source": [
    "dfc_new['PRI.OVERDUE.ACCTS'].value_counts(normalize = True)[0:3].sum()*100"
   ]
  },
  {
   "cell_type": "code",
   "execution_count": 307,
   "metadata": {},
   "outputs": [
    {
     "data": {
      "text/plain": [
       "61.699476258686516"
      ]
     },
     "execution_count": 307,
     "metadata": {},
     "output_type": "execute_result"
    }
   ],
   "source": [
    "dfc_new['PRI.CURRENT.BALANCE'].value_counts(normalize = True)[0:100].sum()*100"
   ]
  },
  {
   "cell_type": "code",
   "execution_count": 308,
   "metadata": {},
   "outputs": [
    {
     "data": {
      "text/plain": [
       "68.94759482556"
      ]
     },
     "execution_count": 308,
     "metadata": {},
     "output_type": "execute_result"
    }
   ],
   "source": [
    "dfc_new['PRI.SANCTIONED.AMOUNT'].value_counts(normalize = True)[0:100].sum()*100"
   ]
  },
  {
   "cell_type": "code",
   "execution_count": 309,
   "metadata": {},
   "outputs": [
    {
     "data": {
      "text/plain": [
       "68.10544008017985"
      ]
     },
     "execution_count": 309,
     "metadata": {},
     "output_type": "execute_result"
    }
   ],
   "source": [
    "dfc_new['PRI.DISBURSED.AMOUNT'].value_counts(normalize = True)[0:100].sum()*100"
   ]
  },
  {
   "cell_type": "code",
   "execution_count": 310,
   "metadata": {},
   "outputs": [
    {
     "data": {
      "text/plain": [
       "70.61283498822579"
      ]
     },
     "execution_count": 310,
     "metadata": {},
     "output_type": "execute_result"
    }
   ],
   "source": [
    "dfc_new['PRIMARY.INSTAL.AMT'].value_counts(normalize = True)[0:100].sum()*100"
   ]
  },
  {
   "cell_type": "code",
   "execution_count": 311,
   "metadata": {},
   "outputs": [],
   "source": [
    "# Generating column from PRI.OVERDUE.ACCTS"
   ]
  },
  {
   "cell_type": "code",
   "execution_count": 312,
   "metadata": {},
   "outputs": [
    {
     "data": {
      "text/plain": [
       "0     0.885628\n",
       "1     0.086903\n",
       "2     0.018741\n",
       "3     0.005211\n",
       "4     0.001769\n",
       "5     0.000732\n",
       "6     0.000426\n",
       "7     0.000169\n",
       "8     0.000115\n",
       "9     0.000106\n",
       "11    0.000053\n",
       "12    0.000035\n",
       "10    0.000027\n",
       "13    0.000022\n",
       "14    0.000022\n",
       "17    0.000009\n",
       "18    0.000009\n",
       "23    0.000004\n",
       "15    0.000004\n",
       "16    0.000004\n",
       "19    0.000004\n",
       "25    0.000004\n",
       "Name: PRI.OVERDUE.ACCTS, dtype: float64"
      ]
     },
     "execution_count": 312,
     "metadata": {},
     "output_type": "execute_result"
    }
   ],
   "source": [
    "dfc_new['PRI.OVERDUE.ACCTS'].value_counts(normalize = True)"
   ]
  },
  {
   "cell_type": "code",
   "execution_count": 313,
   "metadata": {},
   "outputs": [],
   "source": [
    "dfc_new['PRI.OVERDUE.ACCTS'] = dfc_new['PRI.OVERDUE.ACCTS'].apply(lambda x: 'ZERO.PRI.OVERDUE.ACCTS' if x ==0 else 'ATLEAST.ONE.PRI.OVERDUE.ACCTS')"
   ]
  },
  {
   "cell_type": "code",
   "execution_count": 314,
   "metadata": {},
   "outputs": [
    {
     "data": {
      "text/plain": [
       "ZERO.PRI.OVERDUE.ACCTS           0.885628\n",
       "ATLEAST.ONE.PRI.OVERDUE.ACCTS    0.114372\n",
       "Name: PRI.OVERDUE.ACCTS, dtype: float64"
      ]
     },
     "execution_count": 314,
     "metadata": {},
     "output_type": "execute_result"
    }
   ],
   "source": [
    "dfc_new['PRI.OVERDUE.ACCTS'].value_counts(normalize = True)"
   ]
  },
  {
   "cell_type": "code",
   "execution_count": 315,
   "metadata": {},
   "outputs": [
    {
     "data": {
      "text/html": [
       "<div>\n",
       "<style scoped>\n",
       "    .dataframe tbody tr th:only-of-type {\n",
       "        vertical-align: middle;\n",
       "    }\n",
       "\n",
       "    .dataframe tbody tr th {\n",
       "        vertical-align: top;\n",
       "    }\n",
       "\n",
       "    .dataframe thead th {\n",
       "        text-align: right;\n",
       "    }\n",
       "</style>\n",
       "<table border=\"1\" class=\"dataframe\">\n",
       "  <thead>\n",
       "    <tr style=\"text-align: right;\">\n",
       "      <th></th>\n",
       "      <th>ATLEAST.ONE.PRI.OVERDUE.ACCTS</th>\n",
       "      <th>ZERO.PRI.OVERDUE.ACCTS</th>\n",
       "    </tr>\n",
       "  </thead>\n",
       "  <tbody>\n",
       "    <tr>\n",
       "      <th>0</th>\n",
       "      <td>0</td>\n",
       "      <td>1</td>\n",
       "    </tr>\n",
       "    <tr>\n",
       "      <th>1</th>\n",
       "      <td>1</td>\n",
       "      <td>0</td>\n",
       "    </tr>\n",
       "    <tr>\n",
       "      <th>2</th>\n",
       "      <td>0</td>\n",
       "      <td>1</td>\n",
       "    </tr>\n",
       "    <tr>\n",
       "      <th>3</th>\n",
       "      <td>0</td>\n",
       "      <td>1</td>\n",
       "    </tr>\n",
       "    <tr>\n",
       "      <th>4</th>\n",
       "      <td>0</td>\n",
       "      <td>1</td>\n",
       "    </tr>\n",
       "  </tbody>\n",
       "</table>\n",
       "</div>"
      ],
      "text/plain": [
       "   ATLEAST.ONE.PRI.OVERDUE.ACCTS  ZERO.PRI.OVERDUE.ACCTS\n",
       "0                              0                       1\n",
       "1                              1                       0\n",
       "2                              0                       1\n",
       "3                              0                       1\n",
       "4                              0                       1"
      ]
     },
     "execution_count": 315,
     "metadata": {},
     "output_type": "execute_result"
    }
   ],
   "source": [
    "temp = pd.get_dummies(dfc_new['PRI.OVERDUE.ACCTS'])\n",
    "temp.head()"
   ]
  },
  {
   "cell_type": "code",
   "execution_count": 316,
   "metadata": {},
   "outputs": [],
   "source": [
    "dfc_new[['ATLEAST.ONE.PRI.OVERDUE.ACCTS', 'ZERO.PRI.OVERDUE.ACCTS']] = temp[['ATLEAST.ONE.PRI.OVERDUE.ACCTS', 'ZERO.PRI.OVERDUE.ACCTS']]"
   ]
  },
  {
   "cell_type": "code",
   "execution_count": 317,
   "metadata": {},
   "outputs": [
    {
     "data": {
      "text/html": [
       "<div>\n",
       "<style scoped>\n",
       "    .dataframe tbody tr th:only-of-type {\n",
       "        vertical-align: middle;\n",
       "    }\n",
       "\n",
       "    .dataframe tbody tr th {\n",
       "        vertical-align: top;\n",
       "    }\n",
       "\n",
       "    .dataframe thead th {\n",
       "        text-align: right;\n",
       "    }\n",
       "</style>\n",
       "<table border=\"1\" class=\"dataframe\">\n",
       "  <thead>\n",
       "    <tr style=\"text-align: right;\">\n",
       "      <th></th>\n",
       "      <th>disbursed_amount</th>\n",
       "      <th>asset_cost</th>\n",
       "      <th>ltv</th>\n",
       "      <th>MobileNo_Avl_Flag</th>\n",
       "      <th>Aadhar_flag</th>\n",
       "      <th>PAN_flag</th>\n",
       "      <th>VoterID_flag</th>\n",
       "      <th>Driving_flag</th>\n",
       "      <th>Passport_flag</th>\n",
       "      <th>PERFORM_CNS.SCORE</th>\n",
       "      <th>...</th>\n",
       "      <th>NEW.ACCTS.IN.LAST.SIX.MONTHS</th>\n",
       "      <th>DELINQUENT.ACCTS.IN.LAST.SIX.MONTHS</th>\n",
       "      <th>AVERAGE.ACCT.AGE</th>\n",
       "      <th>CREDIT.HISTORY.LENGTH</th>\n",
       "      <th>NO.OF_INQUIRIES</th>\n",
       "      <th>loan_default</th>\n",
       "      <th>Salaried</th>\n",
       "      <th>Self employed</th>\n",
       "      <th>ATLEAST.ONE.PRI.OVERDUE.ACCTS</th>\n",
       "      <th>ZERO.PRI.OVERDUE.ACCTS</th>\n",
       "    </tr>\n",
       "  </thead>\n",
       "  <tbody>\n",
       "    <tr>\n",
       "      <th>0</th>\n",
       "      <td>50578</td>\n",
       "      <td>58400</td>\n",
       "      <td>89.55</td>\n",
       "      <td>1</td>\n",
       "      <td>1</td>\n",
       "      <td>0</td>\n",
       "      <td>0</td>\n",
       "      <td>0</td>\n",
       "      <td>0</td>\n",
       "      <td>0</td>\n",
       "      <td>...</td>\n",
       "      <td>0</td>\n",
       "      <td>0</td>\n",
       "      <td>0.00</td>\n",
       "      <td>0.00</td>\n",
       "      <td>0</td>\n",
       "      <td>0</td>\n",
       "      <td>1</td>\n",
       "      <td>0</td>\n",
       "      <td>0</td>\n",
       "      <td>1</td>\n",
       "    </tr>\n",
       "    <tr>\n",
       "      <th>1</th>\n",
       "      <td>47145</td>\n",
       "      <td>65550</td>\n",
       "      <td>73.23</td>\n",
       "      <td>1</td>\n",
       "      <td>1</td>\n",
       "      <td>0</td>\n",
       "      <td>0</td>\n",
       "      <td>0</td>\n",
       "      <td>0</td>\n",
       "      <td>1</td>\n",
       "      <td>...</td>\n",
       "      <td>0</td>\n",
       "      <td>1</td>\n",
       "      <td>1.92</td>\n",
       "      <td>1.92</td>\n",
       "      <td>0</td>\n",
       "      <td>1</td>\n",
       "      <td>0</td>\n",
       "      <td>1</td>\n",
       "      <td>1</td>\n",
       "      <td>0</td>\n",
       "    </tr>\n",
       "    <tr>\n",
       "      <th>2</th>\n",
       "      <td>53278</td>\n",
       "      <td>61360</td>\n",
       "      <td>89.63</td>\n",
       "      <td>1</td>\n",
       "      <td>1</td>\n",
       "      <td>0</td>\n",
       "      <td>0</td>\n",
       "      <td>0</td>\n",
       "      <td>0</td>\n",
       "      <td>0</td>\n",
       "      <td>...</td>\n",
       "      <td>0</td>\n",
       "      <td>0</td>\n",
       "      <td>0.00</td>\n",
       "      <td>0.00</td>\n",
       "      <td>0</td>\n",
       "      <td>0</td>\n",
       "      <td>0</td>\n",
       "      <td>1</td>\n",
       "      <td>0</td>\n",
       "      <td>1</td>\n",
       "    </tr>\n",
       "    <tr>\n",
       "      <th>3</th>\n",
       "      <td>57513</td>\n",
       "      <td>66113</td>\n",
       "      <td>88.48</td>\n",
       "      <td>1</td>\n",
       "      <td>1</td>\n",
       "      <td>0</td>\n",
       "      <td>0</td>\n",
       "      <td>0</td>\n",
       "      <td>0</td>\n",
       "      <td>1</td>\n",
       "      <td>...</td>\n",
       "      <td>0</td>\n",
       "      <td>0</td>\n",
       "      <td>0.67</td>\n",
       "      <td>1.25</td>\n",
       "      <td>1</td>\n",
       "      <td>1</td>\n",
       "      <td>0</td>\n",
       "      <td>1</td>\n",
       "      <td>0</td>\n",
       "      <td>1</td>\n",
       "    </tr>\n",
       "    <tr>\n",
       "      <th>4</th>\n",
       "      <td>52378</td>\n",
       "      <td>60300</td>\n",
       "      <td>88.39</td>\n",
       "      <td>1</td>\n",
       "      <td>1</td>\n",
       "      <td>0</td>\n",
       "      <td>0</td>\n",
       "      <td>0</td>\n",
       "      <td>0</td>\n",
       "      <td>0</td>\n",
       "      <td>...</td>\n",
       "      <td>0</td>\n",
       "      <td>0</td>\n",
       "      <td>0.00</td>\n",
       "      <td>0.00</td>\n",
       "      <td>1</td>\n",
       "      <td>1</td>\n",
       "      <td>0</td>\n",
       "      <td>1</td>\n",
       "      <td>0</td>\n",
       "      <td>1</td>\n",
       "    </tr>\n",
       "  </tbody>\n",
       "</table>\n",
       "<p>5 rows × 28 columns</p>\n",
       "</div>"
      ],
      "text/plain": [
       "   disbursed_amount  asset_cost    ltv MobileNo_Avl_Flag Aadhar_flag PAN_flag  \\\n",
       "0             50578       58400  89.55                 1           1        0   \n",
       "1             47145       65550  73.23                 1           1        0   \n",
       "2             53278       61360  89.63                 1           1        0   \n",
       "3             57513       66113  88.48                 1           1        0   \n",
       "4             52378       60300  88.39                 1           1        0   \n",
       "\n",
       "  VoterID_flag Driving_flag Passport_flag PERFORM_CNS.SCORE  ...  \\\n",
       "0            0            0             0                 0  ...   \n",
       "1            0            0             0                 1  ...   \n",
       "2            0            0             0                 0  ...   \n",
       "3            0            0             0                 1  ...   \n",
       "4            0            0             0                 0  ...   \n",
       "\n",
       "   NEW.ACCTS.IN.LAST.SIX.MONTHS  DELINQUENT.ACCTS.IN.LAST.SIX.MONTHS  \\\n",
       "0                             0                                    0   \n",
       "1                             0                                    1   \n",
       "2                             0                                    0   \n",
       "3                             0                                    0   \n",
       "4                             0                                    0   \n",
       "\n",
       "   AVERAGE.ACCT.AGE CREDIT.HISTORY.LENGTH  NO.OF_INQUIRIES  loan_default  \\\n",
       "0              0.00                  0.00                0             0   \n",
       "1              1.92                  1.92                0             1   \n",
       "2              0.00                  0.00                0             0   \n",
       "3              0.67                  1.25                1             1   \n",
       "4              0.00                  0.00                1             1   \n",
       "\n",
       "   Salaried  Self employed  ATLEAST.ONE.PRI.OVERDUE.ACCTS  \\\n",
       "0         1              0                              0   \n",
       "1         0              1                              1   \n",
       "2         0              1                              0   \n",
       "3         0              1                              0   \n",
       "4         0              1                              0   \n",
       "\n",
       "   ZERO.PRI.OVERDUE.ACCTS  \n",
       "0                       1  \n",
       "1                       0  \n",
       "2                       1  \n",
       "3                       1  \n",
       "4                       1  \n",
       "\n",
       "[5 rows x 28 columns]"
      ]
     },
     "execution_count": 317,
     "metadata": {},
     "output_type": "execute_result"
    }
   ],
   "source": [
    "dfc_new.head()"
   ]
  },
  {
   "cell_type": "code",
   "execution_count": 318,
   "metadata": {},
   "outputs": [],
   "source": [
    "dfc_new.drop('PRI.OVERDUE.ACCTS', axis = 1, inplace = True)"
   ]
  },
  {
   "cell_type": "code",
   "execution_count": 319,
   "metadata": {},
   "outputs": [
    {
     "data": {
      "text/plain": [
       "(225493, 27)"
      ]
     },
     "execution_count": 319,
     "metadata": {},
     "output_type": "execute_result"
    }
   ],
   "source": [
    "dfc_new.shape"
   ]
  },
  {
   "cell_type": "code",
   "execution_count": 320,
   "metadata": {},
   "outputs": [],
   "source": [
    "# Generating column from #NEW.ACCTS.IN.LAST.SIX.MONTHS"
   ]
  },
  {
   "cell_type": "code",
   "execution_count": 321,
   "metadata": {},
   "outputs": [
    {
     "data": {
      "text/plain": [
       "91.49064494241507"
      ]
     },
     "execution_count": 321,
     "metadata": {},
     "output_type": "execute_result"
    }
   ],
   "source": [
    "dfc_new['NEW.ACCTS.IN.LAST.SIX.MONTHS'].value_counts(normalize = True)[0:2].sum()*100"
   ]
  },
  {
   "cell_type": "code",
   "execution_count": 322,
   "metadata": {},
   "outputs": [
    {
     "data": {
      "text/plain": [
       "0     0.775829\n",
       "1     0.139077\n",
       "2     0.047922\n",
       "3     0.019402\n",
       "4     0.008506\n",
       "5     0.004200\n",
       "6     0.002098\n",
       "7     0.001299\n",
       "8     0.000634\n",
       "9     0.000346\n",
       "10    0.000239\n",
       "11    0.000133\n",
       "12    0.000089\n",
       "13    0.000067\n",
       "14    0.000049\n",
       "16    0.000027\n",
       "17    0.000022\n",
       "15    0.000009\n",
       "18    0.000009\n",
       "19    0.000009\n",
       "20    0.000009\n",
       "23    0.000009\n",
       "28    0.000004\n",
       "21    0.000004\n",
       "22    0.000004\n",
       "35    0.000004\n",
       "Name: NEW.ACCTS.IN.LAST.SIX.MONTHS, dtype: float64"
      ]
     },
     "execution_count": 322,
     "metadata": {},
     "output_type": "execute_result"
    }
   ],
   "source": [
    "dfc_new['NEW.ACCTS.IN.LAST.SIX.MONTHS'].value_counts(normalize = True)"
   ]
  },
  {
   "cell_type": "code",
   "execution_count": 323,
   "metadata": {},
   "outputs": [],
   "source": [
    "dfc_new['NEW.ACCTS.IN.LAST.SIX.MONTHS'] = dfc_new['NEW.ACCTS.IN.LAST.SIX.MONTHS'].apply(lambda x: 'ZERO.NEW.ACCTS.IN.LAST.SIX.MONTHS' if x ==0 else 'ATLEAST.ONE.NEW.ACCTS.IN.LAST.SIX.MONTHS')"
   ]
  },
  {
   "cell_type": "code",
   "execution_count": 324,
   "metadata": {},
   "outputs": [
    {
     "data": {
      "text/plain": [
       "ZERO.NEW.ACCTS.IN.LAST.SIX.MONTHS           0.775829\n",
       "ATLEAST.ONE.NEW.ACCTS.IN.LAST.SIX.MONTHS    0.224171\n",
       "Name: NEW.ACCTS.IN.LAST.SIX.MONTHS, dtype: float64"
      ]
     },
     "execution_count": 324,
     "metadata": {},
     "output_type": "execute_result"
    }
   ],
   "source": [
    "dfc_new['NEW.ACCTS.IN.LAST.SIX.MONTHS'].value_counts(normalize = True)"
   ]
  },
  {
   "cell_type": "code",
   "execution_count": 325,
   "metadata": {},
   "outputs": [
    {
     "data": {
      "text/html": [
       "<div>\n",
       "<style scoped>\n",
       "    .dataframe tbody tr th:only-of-type {\n",
       "        vertical-align: middle;\n",
       "    }\n",
       "\n",
       "    .dataframe tbody tr th {\n",
       "        vertical-align: top;\n",
       "    }\n",
       "\n",
       "    .dataframe thead th {\n",
       "        text-align: right;\n",
       "    }\n",
       "</style>\n",
       "<table border=\"1\" class=\"dataframe\">\n",
       "  <thead>\n",
       "    <tr style=\"text-align: right;\">\n",
       "      <th></th>\n",
       "      <th>ATLEAST.ONE.NEW.ACCTS.IN.LAST.SIX.MONTHS</th>\n",
       "      <th>ZERO.NEW.ACCTS.IN.LAST.SIX.MONTHS</th>\n",
       "    </tr>\n",
       "  </thead>\n",
       "  <tbody>\n",
       "    <tr>\n",
       "      <th>0</th>\n",
       "      <td>0</td>\n",
       "      <td>1</td>\n",
       "    </tr>\n",
       "    <tr>\n",
       "      <th>1</th>\n",
       "      <td>0</td>\n",
       "      <td>1</td>\n",
       "    </tr>\n",
       "    <tr>\n",
       "      <th>2</th>\n",
       "      <td>0</td>\n",
       "      <td>1</td>\n",
       "    </tr>\n",
       "    <tr>\n",
       "      <th>3</th>\n",
       "      <td>0</td>\n",
       "      <td>1</td>\n",
       "    </tr>\n",
       "    <tr>\n",
       "      <th>4</th>\n",
       "      <td>0</td>\n",
       "      <td>1</td>\n",
       "    </tr>\n",
       "  </tbody>\n",
       "</table>\n",
       "</div>"
      ],
      "text/plain": [
       "   ATLEAST.ONE.NEW.ACCTS.IN.LAST.SIX.MONTHS  ZERO.NEW.ACCTS.IN.LAST.SIX.MONTHS\n",
       "0                                         0                                  1\n",
       "1                                         0                                  1\n",
       "2                                         0                                  1\n",
       "3                                         0                                  1\n",
       "4                                         0                                  1"
      ]
     },
     "execution_count": 325,
     "metadata": {},
     "output_type": "execute_result"
    }
   ],
   "source": [
    "temp2 = pd.get_dummies(dfc_new['NEW.ACCTS.IN.LAST.SIX.MONTHS'])\n",
    "temp2.head()\n"
   ]
  },
  {
   "cell_type": "code",
   "execution_count": 326,
   "metadata": {},
   "outputs": [],
   "source": [
    "dfc_new[['ATLEAST.ONE.NEW.ACCTS.IN.LAST.SIX.MONTHS', 'ZERO.NEW.ACCTS.IN.LAST.SIX.MONTHS']] = temp2[['ATLEAST.ONE.NEW.ACCTS.IN.LAST.SIX.MONTHS', 'ZERO.NEW.ACCTS.IN.LAST.SIX.MONTHS']]"
   ]
  },
  {
   "cell_type": "code",
   "execution_count": 327,
   "metadata": {},
   "outputs": [],
   "source": [
    "dfc_new.drop('NEW.ACCTS.IN.LAST.SIX.MONTHS', axis = 1, inplace = True)"
   ]
  },
  {
   "cell_type": "code",
   "execution_count": 328,
   "metadata": {},
   "outputs": [
    {
     "data": {
      "text/plain": [
       "(225493, 28)"
      ]
     },
     "execution_count": 328,
     "metadata": {},
     "output_type": "execute_result"
    }
   ],
   "source": [
    "dfc_new.shape"
   ]
  },
  {
   "cell_type": "code",
   "execution_count": 329,
   "metadata": {},
   "outputs": [],
   "source": [
    "# Generating column from #DELINQUENT.ACCTS.IN.LAST.SIX.MONTHS"
   ]
  },
  {
   "cell_type": "code",
   "execution_count": 330,
   "metadata": {},
   "outputs": [
    {
     "data": {
      "text/plain": [
       "0    0.920858\n",
       "1    0.065102\n",
       "Name: DELINQUENT.ACCTS.IN.LAST.SIX.MONTHS, dtype: float64"
      ]
     },
     "execution_count": 330,
     "metadata": {},
     "output_type": "execute_result"
    }
   ],
   "source": [
    "dfc_new['DELINQUENT.ACCTS.IN.LAST.SIX.MONTHS'].value_counts(normalize = True)[0:2]"
   ]
  },
  {
   "cell_type": "code",
   "execution_count": 331,
   "metadata": {},
   "outputs": [
    {
     "data": {
      "text/plain": [
       "0     0.920858\n",
       "1     0.065102\n",
       "2     0.010666\n",
       "3     0.002302\n",
       "4     0.000603\n",
       "5     0.000248\n",
       "6     0.000089\n",
       "7     0.000053\n",
       "8     0.000031\n",
       "12    0.000013\n",
       "11    0.000013\n",
       "10    0.000009\n",
       "9     0.000009\n",
       "20    0.000004\n",
       "Name: DELINQUENT.ACCTS.IN.LAST.SIX.MONTHS, dtype: float64"
      ]
     },
     "execution_count": 331,
     "metadata": {},
     "output_type": "execute_result"
    }
   ],
   "source": [
    "dfc_new['DELINQUENT.ACCTS.IN.LAST.SIX.MONTHS'].value_counts(normalize = True)"
   ]
  },
  {
   "cell_type": "code",
   "execution_count": 332,
   "metadata": {},
   "outputs": [],
   "source": [
    "dfc_new['DELINQUENT.ACCTS.IN.LAST.SIX.MONTHS'] = dfc_new['DELINQUENT.ACCTS.IN.LAST.SIX.MONTHS'].apply(lambda x: 'ZERO.DELINQUENT.ACCTS.IN.LAST.SIX.MONTHS' if x ==0 else 'ATLEAST.ONE.DELINQUENT.ACCTS.IN.LAST.SIX.MONTHS')"
   ]
  },
  {
   "cell_type": "code",
   "execution_count": 333,
   "metadata": {},
   "outputs": [
    {
     "data": {
      "text/plain": [
       "ZERO.DELINQUENT.ACCTS.IN.LAST.SIX.MONTHS           0.920858\n",
       "ATLEAST.ONE.DELINQUENT.ACCTS.IN.LAST.SIX.MONTHS    0.079142\n",
       "Name: DELINQUENT.ACCTS.IN.LAST.SIX.MONTHS, dtype: float64"
      ]
     },
     "execution_count": 333,
     "metadata": {},
     "output_type": "execute_result"
    }
   ],
   "source": [
    "dfc_new['DELINQUENT.ACCTS.IN.LAST.SIX.MONTHS'].value_counts(normalize = True)"
   ]
  },
  {
   "cell_type": "code",
   "execution_count": 334,
   "metadata": {},
   "outputs": [
    {
     "data": {
      "text/html": [
       "<div>\n",
       "<style scoped>\n",
       "    .dataframe tbody tr th:only-of-type {\n",
       "        vertical-align: middle;\n",
       "    }\n",
       "\n",
       "    .dataframe tbody tr th {\n",
       "        vertical-align: top;\n",
       "    }\n",
       "\n",
       "    .dataframe thead th {\n",
       "        text-align: right;\n",
       "    }\n",
       "</style>\n",
       "<table border=\"1\" class=\"dataframe\">\n",
       "  <thead>\n",
       "    <tr style=\"text-align: right;\">\n",
       "      <th></th>\n",
       "      <th>ATLEAST.ONE.DELINQUENT.ACCTS.IN.LAST.SIX.MONTHS</th>\n",
       "      <th>ZERO.DELINQUENT.ACCTS.IN.LAST.SIX.MONTHS</th>\n",
       "    </tr>\n",
       "  </thead>\n",
       "  <tbody>\n",
       "    <tr>\n",
       "      <th>0</th>\n",
       "      <td>0</td>\n",
       "      <td>1</td>\n",
       "    </tr>\n",
       "    <tr>\n",
       "      <th>1</th>\n",
       "      <td>1</td>\n",
       "      <td>0</td>\n",
       "    </tr>\n",
       "    <tr>\n",
       "      <th>2</th>\n",
       "      <td>0</td>\n",
       "      <td>1</td>\n",
       "    </tr>\n",
       "    <tr>\n",
       "      <th>3</th>\n",
       "      <td>0</td>\n",
       "      <td>1</td>\n",
       "    </tr>\n",
       "    <tr>\n",
       "      <th>4</th>\n",
       "      <td>0</td>\n",
       "      <td>1</td>\n",
       "    </tr>\n",
       "  </tbody>\n",
       "</table>\n",
       "</div>"
      ],
      "text/plain": [
       "   ATLEAST.ONE.DELINQUENT.ACCTS.IN.LAST.SIX.MONTHS  \\\n",
       "0                                                0   \n",
       "1                                                1   \n",
       "2                                                0   \n",
       "3                                                0   \n",
       "4                                                0   \n",
       "\n",
       "   ZERO.DELINQUENT.ACCTS.IN.LAST.SIX.MONTHS  \n",
       "0                                         1  \n",
       "1                                         0  \n",
       "2                                         1  \n",
       "3                                         1  \n",
       "4                                         1  "
      ]
     },
     "execution_count": 334,
     "metadata": {},
     "output_type": "execute_result"
    }
   ],
   "source": [
    "temp3 = pd.get_dummies(dfc_new['DELINQUENT.ACCTS.IN.LAST.SIX.MONTHS'])\n",
    "temp3.head()\n"
   ]
  },
  {
   "cell_type": "code",
   "execution_count": 335,
   "metadata": {},
   "outputs": [],
   "source": [
    "dfc_new[['ATLEAST.ONE.DELINQUENT.ACCTS.IN.LAST.SIX.MONTHS', 'ZERO.DELINQUENT.ACCTS.IN.LAST.SIX.MONTHS']] = temp3[['ATLEAST.ONE.DELINQUENT.ACCTS.IN.LAST.SIX.MONTHS', 'ZERO.DELINQUENT.ACCTS.IN.LAST.SIX.MONTHS']]\n",
    "\n",
    "dfc_new.drop('DELINQUENT.ACCTS.IN.LAST.SIX.MONTHS', axis = 1, inplace = True)"
   ]
  },
  {
   "cell_type": "code",
   "execution_count": 336,
   "metadata": {},
   "outputs": [
    {
     "data": {
      "text/plain": [
       "(225493, 29)"
      ]
     },
     "execution_count": 336,
     "metadata": {},
     "output_type": "execute_result"
    }
   ],
   "source": [
    "dfc_new.shape"
   ]
  },
  {
   "cell_type": "code",
   "execution_count": 337,
   "metadata": {},
   "outputs": [],
   "source": [
    "# Generating columns from NO.OF_INQUIRIES'"
   ]
  },
  {
   "cell_type": "code",
   "execution_count": 338,
   "metadata": {},
   "outputs": [
    {
     "data": {
      "text/plain": [
       "0    0.864728\n",
       "1    0.096650\n",
       "2    0.023477\n",
       "Name: NO.OF_INQUIRIES, dtype: float64"
      ]
     },
     "execution_count": 338,
     "metadata": {},
     "output_type": "execute_result"
    }
   ],
   "source": [
    "dfc_new['NO.OF_INQUIRIES'].value_counts(normalize = True)[0:3]"
   ]
  },
  {
   "cell_type": "code",
   "execution_count": 339,
   "metadata": {},
   "outputs": [],
   "source": [
    "dfc_new['NO.OF_INQUIRIES'] = dfc_new['NO.OF_INQUIRIES'].apply(lambda x: 'ZERO.NO.OF_INQUIRIES' if x ==0 else 'ATLEAST.ONE.NO.OF_INQUIRIES')\n"
   ]
  },
  {
   "cell_type": "code",
   "execution_count": 340,
   "metadata": {},
   "outputs": [
    {
     "data": {
      "text/plain": [
       "ZERO.NO.OF_INQUIRIES           0.864728\n",
       "ATLEAST.ONE.NO.OF_INQUIRIES    0.135272\n",
       "Name: NO.OF_INQUIRIES, dtype: float64"
      ]
     },
     "execution_count": 340,
     "metadata": {},
     "output_type": "execute_result"
    }
   ],
   "source": [
    "dfc_new['NO.OF_INQUIRIES'].value_counts(normalize = True)"
   ]
  },
  {
   "cell_type": "code",
   "execution_count": 341,
   "metadata": {},
   "outputs": [
    {
     "data": {
      "text/html": [
       "<div>\n",
       "<style scoped>\n",
       "    .dataframe tbody tr th:only-of-type {\n",
       "        vertical-align: middle;\n",
       "    }\n",
       "\n",
       "    .dataframe tbody tr th {\n",
       "        vertical-align: top;\n",
       "    }\n",
       "\n",
       "    .dataframe thead th {\n",
       "        text-align: right;\n",
       "    }\n",
       "</style>\n",
       "<table border=\"1\" class=\"dataframe\">\n",
       "  <thead>\n",
       "    <tr style=\"text-align: right;\">\n",
       "      <th></th>\n",
       "      <th>ATLEAST.ONE.NO.OF_INQUIRIES</th>\n",
       "      <th>ZERO.NO.OF_INQUIRIES</th>\n",
       "    </tr>\n",
       "  </thead>\n",
       "  <tbody>\n",
       "    <tr>\n",
       "      <th>0</th>\n",
       "      <td>0</td>\n",
       "      <td>1</td>\n",
       "    </tr>\n",
       "    <tr>\n",
       "      <th>1</th>\n",
       "      <td>0</td>\n",
       "      <td>1</td>\n",
       "    </tr>\n",
       "    <tr>\n",
       "      <th>2</th>\n",
       "      <td>0</td>\n",
       "      <td>1</td>\n",
       "    </tr>\n",
       "    <tr>\n",
       "      <th>3</th>\n",
       "      <td>1</td>\n",
       "      <td>0</td>\n",
       "    </tr>\n",
       "    <tr>\n",
       "      <th>4</th>\n",
       "      <td>1</td>\n",
       "      <td>0</td>\n",
       "    </tr>\n",
       "  </tbody>\n",
       "</table>\n",
       "</div>"
      ],
      "text/plain": [
       "   ATLEAST.ONE.NO.OF_INQUIRIES  ZERO.NO.OF_INQUIRIES\n",
       "0                            0                     1\n",
       "1                            0                     1\n",
       "2                            0                     1\n",
       "3                            1                     0\n",
       "4                            1                     0"
      ]
     },
     "execution_count": 341,
     "metadata": {},
     "output_type": "execute_result"
    }
   ],
   "source": [
    "temp5 = pd.get_dummies(dfc_new['NO.OF_INQUIRIES'])\n",
    "temp5.head()"
   ]
  },
  {
   "cell_type": "code",
   "execution_count": 342,
   "metadata": {},
   "outputs": [],
   "source": [
    "dfc_new[['ATLEAST.ONE.NO.OF_INQUIRIES', 'ZERO.NO.OF_INQUIRIES']] = temp5[['ATLEAST.ONE.NO.OF_INQUIRIES', 'ZERO.NO.OF_INQUIRIES']]\n"
   ]
  },
  {
   "cell_type": "code",
   "execution_count": 343,
   "metadata": {},
   "outputs": [],
   "source": [
    "\n",
    "dfc_new.drop('NO.OF_INQUIRIES', axis = 1, inplace = True)"
   ]
  },
  {
   "cell_type": "code",
   "execution_count": 344,
   "metadata": {},
   "outputs": [
    {
     "data": {
      "text/html": [
       "<div>\n",
       "<style scoped>\n",
       "    .dataframe tbody tr th:only-of-type {\n",
       "        vertical-align: middle;\n",
       "    }\n",
       "\n",
       "    .dataframe tbody tr th {\n",
       "        vertical-align: top;\n",
       "    }\n",
       "\n",
       "    .dataframe thead th {\n",
       "        text-align: right;\n",
       "    }\n",
       "</style>\n",
       "<table border=\"1\" class=\"dataframe\">\n",
       "  <thead>\n",
       "    <tr style=\"text-align: right;\">\n",
       "      <th></th>\n",
       "      <th>disbursed_amount</th>\n",
       "      <th>asset_cost</th>\n",
       "      <th>ltv</th>\n",
       "      <th>MobileNo_Avl_Flag</th>\n",
       "      <th>Aadhar_flag</th>\n",
       "      <th>PAN_flag</th>\n",
       "      <th>VoterID_flag</th>\n",
       "      <th>Driving_flag</th>\n",
       "      <th>Passport_flag</th>\n",
       "      <th>PERFORM_CNS.SCORE</th>\n",
       "      <th>...</th>\n",
       "      <th>Salaried</th>\n",
       "      <th>Self employed</th>\n",
       "      <th>ATLEAST.ONE.PRI.OVERDUE.ACCTS</th>\n",
       "      <th>ZERO.PRI.OVERDUE.ACCTS</th>\n",
       "      <th>ATLEAST.ONE.NEW.ACCTS.IN.LAST.SIX.MONTHS</th>\n",
       "      <th>ZERO.NEW.ACCTS.IN.LAST.SIX.MONTHS</th>\n",
       "      <th>ATLEAST.ONE.DELINQUENT.ACCTS.IN.LAST.SIX.MONTHS</th>\n",
       "      <th>ZERO.DELINQUENT.ACCTS.IN.LAST.SIX.MONTHS</th>\n",
       "      <th>ATLEAST.ONE.NO.OF_INQUIRIES</th>\n",
       "      <th>ZERO.NO.OF_INQUIRIES</th>\n",
       "    </tr>\n",
       "  </thead>\n",
       "  <tbody>\n",
       "    <tr>\n",
       "      <th>0</th>\n",
       "      <td>50578</td>\n",
       "      <td>58400</td>\n",
       "      <td>89.55</td>\n",
       "      <td>1</td>\n",
       "      <td>1</td>\n",
       "      <td>0</td>\n",
       "      <td>0</td>\n",
       "      <td>0</td>\n",
       "      <td>0</td>\n",
       "      <td>0</td>\n",
       "      <td>...</td>\n",
       "      <td>1</td>\n",
       "      <td>0</td>\n",
       "      <td>0</td>\n",
       "      <td>1</td>\n",
       "      <td>0</td>\n",
       "      <td>1</td>\n",
       "      <td>0</td>\n",
       "      <td>1</td>\n",
       "      <td>0</td>\n",
       "      <td>1</td>\n",
       "    </tr>\n",
       "    <tr>\n",
       "      <th>1</th>\n",
       "      <td>47145</td>\n",
       "      <td>65550</td>\n",
       "      <td>73.23</td>\n",
       "      <td>1</td>\n",
       "      <td>1</td>\n",
       "      <td>0</td>\n",
       "      <td>0</td>\n",
       "      <td>0</td>\n",
       "      <td>0</td>\n",
       "      <td>1</td>\n",
       "      <td>...</td>\n",
       "      <td>0</td>\n",
       "      <td>1</td>\n",
       "      <td>1</td>\n",
       "      <td>0</td>\n",
       "      <td>0</td>\n",
       "      <td>1</td>\n",
       "      <td>1</td>\n",
       "      <td>0</td>\n",
       "      <td>0</td>\n",
       "      <td>1</td>\n",
       "    </tr>\n",
       "    <tr>\n",
       "      <th>2</th>\n",
       "      <td>53278</td>\n",
       "      <td>61360</td>\n",
       "      <td>89.63</td>\n",
       "      <td>1</td>\n",
       "      <td>1</td>\n",
       "      <td>0</td>\n",
       "      <td>0</td>\n",
       "      <td>0</td>\n",
       "      <td>0</td>\n",
       "      <td>0</td>\n",
       "      <td>...</td>\n",
       "      <td>0</td>\n",
       "      <td>1</td>\n",
       "      <td>0</td>\n",
       "      <td>1</td>\n",
       "      <td>0</td>\n",
       "      <td>1</td>\n",
       "      <td>0</td>\n",
       "      <td>1</td>\n",
       "      <td>0</td>\n",
       "      <td>1</td>\n",
       "    </tr>\n",
       "    <tr>\n",
       "      <th>3</th>\n",
       "      <td>57513</td>\n",
       "      <td>66113</td>\n",
       "      <td>88.48</td>\n",
       "      <td>1</td>\n",
       "      <td>1</td>\n",
       "      <td>0</td>\n",
       "      <td>0</td>\n",
       "      <td>0</td>\n",
       "      <td>0</td>\n",
       "      <td>1</td>\n",
       "      <td>...</td>\n",
       "      <td>0</td>\n",
       "      <td>1</td>\n",
       "      <td>0</td>\n",
       "      <td>1</td>\n",
       "      <td>0</td>\n",
       "      <td>1</td>\n",
       "      <td>0</td>\n",
       "      <td>1</td>\n",
       "      <td>1</td>\n",
       "      <td>0</td>\n",
       "    </tr>\n",
       "    <tr>\n",
       "      <th>4</th>\n",
       "      <td>52378</td>\n",
       "      <td>60300</td>\n",
       "      <td>88.39</td>\n",
       "      <td>1</td>\n",
       "      <td>1</td>\n",
       "      <td>0</td>\n",
       "      <td>0</td>\n",
       "      <td>0</td>\n",
       "      <td>0</td>\n",
       "      <td>0</td>\n",
       "      <td>...</td>\n",
       "      <td>0</td>\n",
       "      <td>1</td>\n",
       "      <td>0</td>\n",
       "      <td>1</td>\n",
       "      <td>0</td>\n",
       "      <td>1</td>\n",
       "      <td>0</td>\n",
       "      <td>1</td>\n",
       "      <td>1</td>\n",
       "      <td>0</td>\n",
       "    </tr>\n",
       "  </tbody>\n",
       "</table>\n",
       "<p>5 rows × 30 columns</p>\n",
       "</div>"
      ],
      "text/plain": [
       "   disbursed_amount  asset_cost    ltv MobileNo_Avl_Flag Aadhar_flag PAN_flag  \\\n",
       "0             50578       58400  89.55                 1           1        0   \n",
       "1             47145       65550  73.23                 1           1        0   \n",
       "2             53278       61360  89.63                 1           1        0   \n",
       "3             57513       66113  88.48                 1           1        0   \n",
       "4             52378       60300  88.39                 1           1        0   \n",
       "\n",
       "  VoterID_flag Driving_flag Passport_flag PERFORM_CNS.SCORE  ...  Salaried  \\\n",
       "0            0            0             0                 0  ...         1   \n",
       "1            0            0             0                 1  ...         0   \n",
       "2            0            0             0                 0  ...         0   \n",
       "3            0            0             0                 1  ...         0   \n",
       "4            0            0             0                 0  ...         0   \n",
       "\n",
       "   Self employed  ATLEAST.ONE.PRI.OVERDUE.ACCTS  ZERO.PRI.OVERDUE.ACCTS  \\\n",
       "0              0                              0                       1   \n",
       "1              1                              1                       0   \n",
       "2              1                              0                       1   \n",
       "3              1                              0                       1   \n",
       "4              1                              0                       1   \n",
       "\n",
       "   ATLEAST.ONE.NEW.ACCTS.IN.LAST.SIX.MONTHS  \\\n",
       "0                                         0   \n",
       "1                                         0   \n",
       "2                                         0   \n",
       "3                                         0   \n",
       "4                                         0   \n",
       "\n",
       "   ZERO.NEW.ACCTS.IN.LAST.SIX.MONTHS  \\\n",
       "0                                  1   \n",
       "1                                  1   \n",
       "2                                  1   \n",
       "3                                  1   \n",
       "4                                  1   \n",
       "\n",
       "   ATLEAST.ONE.DELINQUENT.ACCTS.IN.LAST.SIX.MONTHS  \\\n",
       "0                                                0   \n",
       "1                                                1   \n",
       "2                                                0   \n",
       "3                                                0   \n",
       "4                                                0   \n",
       "\n",
       "   ZERO.DELINQUENT.ACCTS.IN.LAST.SIX.MONTHS  ATLEAST.ONE.NO.OF_INQUIRIES  \\\n",
       "0                                         1                            0   \n",
       "1                                         0                            0   \n",
       "2                                         1                            0   \n",
       "3                                         1                            1   \n",
       "4                                         1                            1   \n",
       "\n",
       "   ZERO.NO.OF_INQUIRIES  \n",
       "0                     1  \n",
       "1                     1  \n",
       "2                     1  \n",
       "3                     0  \n",
       "4                     0  \n",
       "\n",
       "[5 rows x 30 columns]"
      ]
     },
     "execution_count": 344,
     "metadata": {},
     "output_type": "execute_result"
    }
   ],
   "source": [
    "dfc_new.head()"
   ]
  },
  {
   "cell_type": "code",
   "execution_count": 345,
   "metadata": {},
   "outputs": [],
   "source": [
    "# other features"
   ]
  },
  {
   "cell_type": "code",
   "execution_count": 346,
   "metadata": {},
   "outputs": [
    {
     "data": {
      "text/plain": [
       "0    0.997862\n",
       "1    0.002138\n",
       "Name: Passport_flag, dtype: float64"
      ]
     },
     "execution_count": 346,
     "metadata": {},
     "output_type": "execute_result"
    }
   ],
   "source": [
    "dfc_new['Passport_flag'].value_counts(normalize = True)[0:2]"
   ]
  },
  {
   "cell_type": "code",
   "execution_count": 347,
   "metadata": {},
   "outputs": [],
   "source": [
    "# as ~99% values are 0. It's better to drop this feature"
   ]
  },
  {
   "cell_type": "code",
   "execution_count": 348,
   "metadata": {},
   "outputs": [
    {
     "data": {
      "text/plain": [
       "0    0.976314\n",
       "1    0.023686\n",
       "Name: Driving_flag, dtype: float64"
      ]
     },
     "execution_count": 348,
     "metadata": {},
     "output_type": "execute_result"
    }
   ],
   "source": [
    "dfc_new['Driving_flag'].value_counts(normalize = True)[0:2]"
   ]
  },
  {
   "cell_type": "code",
   "execution_count": 349,
   "metadata": {},
   "outputs": [],
   "source": [
    "# as ~97% values are 0. It's better to drop this feature"
   ]
  },
  {
   "cell_type": "code",
   "execution_count": 350,
   "metadata": {},
   "outputs": [
    {
     "data": {
      "text/plain": [
       "0    0.852873\n",
       "1    0.147127\n",
       "Name: VoterID_flag, dtype: float64"
      ]
     },
     "execution_count": 350,
     "metadata": {},
     "output_type": "execute_result"
    }
   ],
   "source": [
    "dfc_new['VoterID_flag'].value_counts(normalize = True)[0:2]"
   ]
  },
  {
   "cell_type": "code",
   "execution_count": 351,
   "metadata": {},
   "outputs": [
    {
     "data": {
      "text/plain": [
       "0    0.922614\n",
       "1    0.077386\n",
       "Name: PAN_flag, dtype: float64"
      ]
     },
     "execution_count": 351,
     "metadata": {},
     "output_type": "execute_result"
    }
   ],
   "source": [
    "dfc_new['PAN_flag'].value_counts(normalize = True)[0:2]"
   ]
  },
  {
   "cell_type": "code",
   "execution_count": 352,
   "metadata": {},
   "outputs": [],
   "source": [
    "# as ~92% values are 0. It's better to drop this feature"
   ]
  },
  {
   "cell_type": "code",
   "execution_count": 353,
   "metadata": {},
   "outputs": [
    {
     "data": {
      "text/plain": [
       "1    0.83772\n",
       "0    0.16228\n",
       "Name: Aadhar_flag, dtype: float64"
      ]
     },
     "execution_count": 353,
     "metadata": {},
     "output_type": "execute_result"
    }
   ],
   "source": [
    "dfc_new['Aadhar_flag'].value_counts(normalize = True)[0:2]"
   ]
  },
  {
   "cell_type": "code",
   "execution_count": 354,
   "metadata": {},
   "outputs": [
    {
     "data": {
      "text/plain": [
       "1    1.0\n",
       "Name: MobileNo_Avl_Flag, dtype: float64"
      ]
     },
     "execution_count": 354,
     "metadata": {},
     "output_type": "execute_result"
    }
   ],
   "source": [
    "dfc_new['MobileNo_Avl_Flag'].value_counts(normalize = True)[0:2]"
   ]
  },
  {
   "cell_type": "code",
   "execution_count": 355,
   "metadata": {},
   "outputs": [],
   "source": [
    "# as all values are 1. It's better to drop this feature"
   ]
  },
  {
   "cell_type": "code",
   "execution_count": 356,
   "metadata": {},
   "outputs": [],
   "source": [
    "dfc_new.drop(['MobileNo_Avl_Flag','PAN_flag', 'Driving_flag', 'Passport_flag'], axis = 1, inplace = True)"
   ]
  },
  {
   "cell_type": "code",
   "execution_count": 357,
   "metadata": {},
   "outputs": [
    {
     "data": {
      "text/plain": [
       "(225493, 26)"
      ]
     },
     "execution_count": 357,
     "metadata": {},
     "output_type": "execute_result"
    }
   ],
   "source": [
    "dfc_new.shape"
   ]
  },
  {
   "cell_type": "code",
   "execution_count": 358,
   "metadata": {},
   "outputs": [
    {
     "name": "stdout",
     "output_type": "stream",
     "text": [
      "<class 'pandas.core.frame.DataFrame'>\n",
      "Int64Index: 225493 entries, 0 to 233153\n",
      "Data columns (total 26 columns):\n",
      " #   Column                                           Non-Null Count   Dtype  \n",
      "---  ------                                           --------------   -----  \n",
      " 0   disbursed_amount                                 225493 non-null  int64  \n",
      " 1   asset_cost                                       225493 non-null  int64  \n",
      " 2   ltv                                              225493 non-null  float64\n",
      " 3   Aadhar_flag                                      225493 non-null  object \n",
      " 4   VoterID_flag                                     225493 non-null  object \n",
      " 5   PERFORM_CNS.SCORE                                225493 non-null  object \n",
      " 6   PERFORM_CNS.SCORE.DESCRIPTION                    225493 non-null  int64  \n",
      " 7   PRI.NO.OF.ACCTS                                  225493 non-null  int64  \n",
      " 8   PRI.ACTIVE.ACCTS                                 225493 non-null  int64  \n",
      " 9   PRI.CURRENT.BALANCE                              225493 non-null  int64  \n",
      " 10  PRI.SANCTIONED.AMOUNT                            225493 non-null  int64  \n",
      " 11  PRI.DISBURSED.AMOUNT                             225493 non-null  int64  \n",
      " 12  PRIMARY.INSTAL.AMT                               225493 non-null  int64  \n",
      " 13  AVERAGE.ACCT.AGE                                 225493 non-null  float64\n",
      " 14  CREDIT.HISTORY.LENGTH                            225493 non-null  float64\n",
      " 15  loan_default                                     225493 non-null  int64  \n",
      " 16  Salaried                                         225493 non-null  uint8  \n",
      " 17  Self employed                                    225493 non-null  uint8  \n",
      " 18  ATLEAST.ONE.PRI.OVERDUE.ACCTS                    225493 non-null  uint8  \n",
      " 19  ZERO.PRI.OVERDUE.ACCTS                           225493 non-null  uint8  \n",
      " 20  ATLEAST.ONE.NEW.ACCTS.IN.LAST.SIX.MONTHS         225493 non-null  uint8  \n",
      " 21  ZERO.NEW.ACCTS.IN.LAST.SIX.MONTHS                225493 non-null  uint8  \n",
      " 22  ATLEAST.ONE.DELINQUENT.ACCTS.IN.LAST.SIX.MONTHS  225493 non-null  uint8  \n",
      " 23  ZERO.DELINQUENT.ACCTS.IN.LAST.SIX.MONTHS         225493 non-null  uint8  \n",
      " 24  ATLEAST.ONE.NO.OF_INQUIRIES                      225493 non-null  uint8  \n",
      " 25  ZERO.NO.OF_INQUIRIES                             225493 non-null  uint8  \n",
      "dtypes: float64(3), int64(10), object(3), uint8(10)\n",
      "memory usage: 31.4+ MB\n"
     ]
    }
   ],
   "source": [
    "dfc_new.info()"
   ]
  },
  {
   "cell_type": "markdown",
   "metadata": {},
   "source": [
    "### Outliers Detection"
   ]
  },
  {
   "cell_type": "code",
   "execution_count": 359,
   "metadata": {},
   "outputs": [
    {
     "data": {
      "image/png": "[encoded data removed]",
      "text/plain": [
       "<Figure size 432x288 with 1 Axes>"
      ]
     },
     "metadata": {
      "needs_background": "light"
     },
     "output_type": "display_data"
    }
   ],
   "source": [
    "dfc_new.boxplot()\n",
    "plt.xticks(rotation = 90)\n",
    "plt.show()"
   ]
  },
  {
   "cell_type": "code",
   "execution_count": 360,
   "metadata": {},
   "outputs": [],
   "source": [
    "# As there are only few features that have outliers, also outliers here seems to be important for further \n",
    "# analysis and feature selection. Hence, we are not dropping outliers."
   ]
  },
  {
   "cell_type": "code",
   "execution_count": 361,
   "metadata": {},
   "outputs": [],
   "source": [
    "df_new = dfc_new.copy()"
   ]
  },
  {
   "cell_type": "code",
   "execution_count": 362,
   "metadata": {},
   "outputs": [
    {
     "data": {
      "text/plain": [
       "0    0.782845\n",
       "1    0.217155\n",
       "Name: loan_default, dtype: float64"
      ]
     },
     "execution_count": 362,
     "metadata": {},
     "output_type": "execute_result"
    }
   ],
   "source": [
    "df_new['loan_default'].value_counts(normalize = True)"
   ]
  },
  {
   "cell_type": "code",
   "execution_count": 363,
   "metadata": {},
   "outputs": [
    {
     "data": {
      "text/plain": [
       "0     0.379223\n",
       "1     0.117619\n",
       "2     0.067441\n",
       "3     0.045074\n",
       "4     0.032733\n",
       "5     0.025217\n",
       "6     0.019508\n",
       "7     0.015492\n",
       "8     0.012522\n",
       "9     0.010110\n",
       "10    0.008320\n",
       "11    0.006836\n",
       "12    0.005537\n",
       "13    0.004936\n",
       "14    0.004008\n",
       "15    0.003385\n",
       "16    0.002890\n",
       "17    0.002320\n",
       "18    0.002050\n",
       "19    0.001825\n",
       "Name: PRI.NO.OF.ACCTS, dtype: float64"
      ]
     },
     "execution_count": 363,
     "metadata": {},
     "output_type": "execute_result"
    }
   ],
   "source": [
    "(df_new[df_new['loan_default'] == 0]['PRI.NO.OF.ACCTS'].value_counts(normalize = True)[0:20]*0.78)"
   ]
  },
  {
   "cell_type": "code",
   "execution_count": 364,
   "metadata": {},
   "outputs": [],
   "source": [
    "#checking proportion of Primary active accounts with respect to defaulters and non defaulters separately"
   ]
  },
  {
   "cell_type": "code",
   "execution_count": 365,
   "metadata": {},
   "outputs": [
    {
     "data": {
      "text/plain": [
       "0      44.866592\n",
       "1      14.185956\n",
       "2       7.387920\n",
       "3       4.246287\n",
       "4       2.632609\n",
       "5       1.634887\n",
       "6       1.003025\n",
       "7       0.665001\n",
       "8       0.442745\n",
       "9       0.282791\n",
       "10      0.193977\n",
       "11      0.124605\n",
       "12      0.087930\n",
       "13      0.067163\n",
       "14      0.045954\n",
       "15      0.036233\n",
       "16      0.020326\n",
       "17      0.019442\n",
       "18      0.013256\n",
       "19      0.011047\n",
       "20      0.005302\n",
       "21      0.003977\n",
       "23      0.003535\n",
       "22      0.003093\n",
       "26      0.002651\n",
       "24      0.002209\n",
       "25      0.002209\n",
       "28      0.001767\n",
       "27      0.001326\n",
       "31      0.000884\n",
       "34      0.000884\n",
       "37      0.000884\n",
       "52      0.000442\n",
       "144     0.000442\n",
       "32      0.000442\n",
       "35      0.000442\n",
       "39      0.000442\n",
       "42      0.000442\n",
       "43      0.000442\n",
       "65      0.000442\n",
       "Name: PRI.ACTIVE.ACCTS, dtype: float64"
      ]
     },
     "execution_count": 365,
     "metadata": {},
     "output_type": "execute_result"
    }
   ],
   "source": [
    "((df_new[df_new['loan_default'] == 0]['PRI.ACTIVE.ACCTS'].value_counts(normalize = True))*100)/100*78"
   ]
  },
  {
   "cell_type": "code",
   "execution_count": 366,
   "metadata": {},
   "outputs": [
    {
     "data": {
      "text/plain": [
       "0    0.134133\n",
       "1    0.040188\n",
       "2    0.019849\n",
       "3    0.010936\n",
       "4    0.006056\n",
       "5    0.003356\n",
       "6    0.002116\n",
       "7    0.001173\n",
       "8    0.000759\n",
       "9    0.000449\n",
       "Name: PRI.ACTIVE.ACCTS, dtype: float64"
      ]
     },
     "execution_count": 366,
     "metadata": {},
     "output_type": "execute_result"
    }
   ],
   "source": [
    "(df_new[df_new['loan_default'] == 1]['PRI.ACTIVE.ACCTS'].value_counts(normalize = True)[0:10]*0.22)"
   ]
  },
  {
   "cell_type": "code",
   "execution_count": 367,
   "metadata": {},
   "outputs": [],
   "source": [
    "a = df_new[df_new['loan_default'] == 0].index\n",
    "a = list(a)\n",
    "\n",
    "b = df_new[df_new['loan_default'] == 1].index\n",
    "b = list(b)\n"
   ]
  },
  {
   "cell_type": "code",
   "execution_count": 405,
   "metadata": {},
   "outputs": [
    {
     "data": {
      "text/html": [
       "<div>\n",
       "<style scoped>\n",
       "    .dataframe tbody tr th:only-of-type {\n",
       "        vertical-align: middle;\n",
       "    }\n",
       "\n",
       "    .dataframe tbody tr th {\n",
       "        vertical-align: top;\n",
       "    }\n",
       "\n",
       "    .dataframe thead th {\n",
       "        text-align: right;\n",
       "    }\n",
       "</style>\n",
       "<table border=\"1\" class=\"dataframe\">\n",
       "  <thead>\n",
       "    <tr style=\"text-align: right;\">\n",
       "      <th></th>\n",
       "      <th>disbursed_amount</th>\n",
       "      <th>asset_cost</th>\n",
       "      <th>ltv</th>\n",
       "      <th>Aadhar_flag</th>\n",
       "      <th>VoterID_flag</th>\n",
       "      <th>PERFORM_CNS.SCORE</th>\n",
       "      <th>PERFORM_CNS.SCORE.DESCRIPTION</th>\n",
       "      <th>PRI.NO.OF.ACCTS</th>\n",
       "      <th>PRI.ACTIVE.ACCTS</th>\n",
       "      <th>PRI.CURRENT.BALANCE</th>\n",
       "      <th>...</th>\n",
       "      <th>Salaried</th>\n",
       "      <th>Self employed</th>\n",
       "      <th>ATLEAST.ONE.PRI.OVERDUE.ACCTS</th>\n",
       "      <th>ZERO.PRI.OVERDUE.ACCTS</th>\n",
       "      <th>ATLEAST.ONE.NEW.ACCTS.IN.LAST.SIX.MONTHS</th>\n",
       "      <th>ZERO.NEW.ACCTS.IN.LAST.SIX.MONTHS</th>\n",
       "      <th>ATLEAST.ONE.DELINQUENT.ACCTS.IN.LAST.SIX.MONTHS</th>\n",
       "      <th>ZERO.DELINQUENT.ACCTS.IN.LAST.SIX.MONTHS</th>\n",
       "      <th>ATLEAST.ONE.NO.OF_INQUIRIES</th>\n",
       "      <th>ZERO.NO.OF_INQUIRIES</th>\n",
       "    </tr>\n",
       "  </thead>\n",
       "  <tbody>\n",
       "    <tr>\n",
       "      <th>0</th>\n",
       "      <td>50578</td>\n",
       "      <td>58400</td>\n",
       "      <td>89.55</td>\n",
       "      <td>1</td>\n",
       "      <td>0</td>\n",
       "      <td>0</td>\n",
       "      <td>116950</td>\n",
       "      <td>0</td>\n",
       "      <td>0</td>\n",
       "      <td>0</td>\n",
       "      <td>...</td>\n",
       "      <td>1</td>\n",
       "      <td>0</td>\n",
       "      <td>0</td>\n",
       "      <td>1</td>\n",
       "      <td>0</td>\n",
       "      <td>1</td>\n",
       "      <td>0</td>\n",
       "      <td>1</td>\n",
       "      <td>0</td>\n",
       "      <td>1</td>\n",
       "    </tr>\n",
       "    <tr>\n",
       "      <th>2</th>\n",
       "      <td>53278</td>\n",
       "      <td>61360</td>\n",
       "      <td>89.63</td>\n",
       "      <td>1</td>\n",
       "      <td>0</td>\n",
       "      <td>0</td>\n",
       "      <td>116950</td>\n",
       "      <td>0</td>\n",
       "      <td>0</td>\n",
       "      <td>0</td>\n",
       "      <td>...</td>\n",
       "      <td>0</td>\n",
       "      <td>1</td>\n",
       "      <td>0</td>\n",
       "      <td>1</td>\n",
       "      <td>0</td>\n",
       "      <td>1</td>\n",
       "      <td>0</td>\n",
       "      <td>1</td>\n",
       "      <td>0</td>\n",
       "      <td>1</td>\n",
       "    </tr>\n",
       "    <tr>\n",
       "      <th>5</th>\n",
       "      <td>54513</td>\n",
       "      <td>61900</td>\n",
       "      <td>89.66</td>\n",
       "      <td>1</td>\n",
       "      <td>0</td>\n",
       "      <td>5</td>\n",
       "      <td>14124</td>\n",
       "      <td>2</td>\n",
       "      <td>0</td>\n",
       "      <td>0</td>\n",
       "      <td>...</td>\n",
       "      <td>0</td>\n",
       "      <td>1</td>\n",
       "      <td>0</td>\n",
       "      <td>1</td>\n",
       "      <td>0</td>\n",
       "      <td>1</td>\n",
       "      <td>0</td>\n",
       "      <td>1</td>\n",
       "      <td>0</td>\n",
       "      <td>1</td>\n",
       "    </tr>\n",
       "    <tr>\n",
       "      <th>6</th>\n",
       "      <td>46349</td>\n",
       "      <td>61500</td>\n",
       "      <td>76.42</td>\n",
       "      <td>1</td>\n",
       "      <td>0</td>\n",
       "      <td>0</td>\n",
       "      <td>116950</td>\n",
       "      <td>0</td>\n",
       "      <td>0</td>\n",
       "      <td>0</td>\n",
       "      <td>...</td>\n",
       "      <td>1</td>\n",
       "      <td>0</td>\n",
       "      <td>0</td>\n",
       "      <td>1</td>\n",
       "      <td>0</td>\n",
       "      <td>1</td>\n",
       "      <td>0</td>\n",
       "      <td>1</td>\n",
       "      <td>0</td>\n",
       "      <td>1</td>\n",
       "    </tr>\n",
       "    <tr>\n",
       "      <th>7</th>\n",
       "      <td>43894</td>\n",
       "      <td>61900</td>\n",
       "      <td>71.89</td>\n",
       "      <td>1</td>\n",
       "      <td>0</td>\n",
       "      <td>0</td>\n",
       "      <td>3672</td>\n",
       "      <td>1</td>\n",
       "      <td>1</td>\n",
       "      <td>72879</td>\n",
       "      <td>...</td>\n",
       "      <td>1</td>\n",
       "      <td>0</td>\n",
       "      <td>0</td>\n",
       "      <td>1</td>\n",
       "      <td>0</td>\n",
       "      <td>1</td>\n",
       "      <td>0</td>\n",
       "      <td>1</td>\n",
       "      <td>0</td>\n",
       "      <td>1</td>\n",
       "    </tr>\n",
       "  </tbody>\n",
       "</table>\n",
       "<p>5 rows × 26 columns</p>\n",
       "</div>"
      ],
      "text/plain": [
       "   disbursed_amount  asset_cost    ltv Aadhar_flag VoterID_flag  \\\n",
       "0             50578       58400  89.55           1            0   \n",
       "2             53278       61360  89.63           1            0   \n",
       "5             54513       61900  89.66           1            0   \n",
       "6             46349       61500  76.42           1            0   \n",
       "7             43894       61900  71.89           1            0   \n",
       "\n",
       "  PERFORM_CNS.SCORE  PERFORM_CNS.SCORE.DESCRIPTION  PRI.NO.OF.ACCTS  \\\n",
       "0                 0                         116950                0   \n",
       "2                 0                         116950                0   \n",
       "5                 5                          14124                2   \n",
       "6                 0                         116950                0   \n",
       "7                 0                           3672                1   \n",
       "\n",
       "   PRI.ACTIVE.ACCTS  PRI.CURRENT.BALANCE  ...  Salaried  Self employed  \\\n",
       "0                 0                    0  ...         1              0   \n",
       "2                 0                    0  ...         0              1   \n",
       "5                 0                    0  ...         0              1   \n",
       "6                 0                    0  ...         1              0   \n",
       "7                 1                72879  ...         1              0   \n",
       "\n",
       "   ATLEAST.ONE.PRI.OVERDUE.ACCTS  ZERO.PRI.OVERDUE.ACCTS  \\\n",
       "0                              0                       1   \n",
       "2                              0                       1   \n",
       "5                              0                       1   \n",
       "6                              0                       1   \n",
       "7                              0                       1   \n",
       "\n",
       "   ATLEAST.ONE.NEW.ACCTS.IN.LAST.SIX.MONTHS  \\\n",
       "0                                         0   \n",
       "2                                         0   \n",
       "5                                         0   \n",
       "6                                         0   \n",
       "7                                         0   \n",
       "\n",
       "   ZERO.NEW.ACCTS.IN.LAST.SIX.MONTHS  \\\n",
       "0                                  1   \n",
       "2                                  1   \n",
       "5                                  1   \n",
       "6                                  1   \n",
       "7                                  1   \n",
       "\n",
       "   ATLEAST.ONE.DELINQUENT.ACCTS.IN.LAST.SIX.MONTHS  \\\n",
       "0                                                0   \n",
       "2                                                0   \n",
       "5                                                0   \n",
       "6                                                0   \n",
       "7                                                0   \n",
       "\n",
       "   ZERO.DELINQUENT.ACCTS.IN.LAST.SIX.MONTHS  ATLEAST.ONE.NO.OF_INQUIRIES  \\\n",
       "0                                         1                            0   \n",
       "2                                         1                            0   \n",
       "5                                         1                            0   \n",
       "6                                         1                            0   \n",
       "7                                         1                            0   \n",
       "\n",
       "   ZERO.NO.OF_INQUIRIES  \n",
       "0                     1  \n",
       "2                     1  \n",
       "5                     1  \n",
       "6                     1  \n",
       "7                     1  \n",
       "\n",
       "[5 rows x 26 columns]"
      ]
     },
     "execution_count": 405,
     "metadata": {},
     "output_type": "execute_result"
    }
   ],
   "source": [
    "s_nd = df_new[df_new['loan_default'] == 0][df_new[df_new['loan_default'] == 0].index == a]\n",
    "s_nd.head()"
   ]
  },
  {
   "cell_type": "code",
   "execution_count": 406,
   "metadata": {},
   "outputs": [],
   "source": [
    "df_new['PRI.ACTIVE.ACCTS.CAT'] = s_nd['PRI.ACTIVE.ACCTS'].apply(lambda x: 2 if x< 1 else 3 if (x>=1 and x<=2) else 4 if (x >=3 and x <=4) else 5)"
   ]
  },
  {
   "cell_type": "code",
   "execution_count": 407,
   "metadata": {},
   "outputs": [
    {
     "data": {
      "text/html": [
       "<div>\n",
       "<style scoped>\n",
       "    .dataframe tbody tr th:only-of-type {\n",
       "        vertical-align: middle;\n",
       "    }\n",
       "\n",
       "    .dataframe tbody tr th {\n",
       "        vertical-align: top;\n",
       "    }\n",
       "\n",
       "    .dataframe thead th {\n",
       "        text-align: right;\n",
       "    }\n",
       "</style>\n",
       "<table border=\"1\" class=\"dataframe\">\n",
       "  <thead>\n",
       "    <tr style=\"text-align: right;\">\n",
       "      <th></th>\n",
       "      <th>disbursed_amount</th>\n",
       "      <th>asset_cost</th>\n",
       "      <th>ltv</th>\n",
       "      <th>Aadhar_flag</th>\n",
       "      <th>VoterID_flag</th>\n",
       "      <th>PERFORM_CNS.SCORE</th>\n",
       "      <th>PERFORM_CNS.SCORE.DESCRIPTION</th>\n",
       "      <th>PRI.NO.OF.ACCTS</th>\n",
       "      <th>PRI.ACTIVE.ACCTS</th>\n",
       "      <th>PRI.CURRENT.BALANCE</th>\n",
       "      <th>...</th>\n",
       "      <th>Self employed</th>\n",
       "      <th>ATLEAST.ONE.PRI.OVERDUE.ACCTS</th>\n",
       "      <th>ZERO.PRI.OVERDUE.ACCTS</th>\n",
       "      <th>ATLEAST.ONE.NEW.ACCTS.IN.LAST.SIX.MONTHS</th>\n",
       "      <th>ZERO.NEW.ACCTS.IN.LAST.SIX.MONTHS</th>\n",
       "      <th>ATLEAST.ONE.DELINQUENT.ACCTS.IN.LAST.SIX.MONTHS</th>\n",
       "      <th>ZERO.DELINQUENT.ACCTS.IN.LAST.SIX.MONTHS</th>\n",
       "      <th>ATLEAST.ONE.NO.OF_INQUIRIES</th>\n",
       "      <th>ZERO.NO.OF_INQUIRIES</th>\n",
       "      <th>PRI.ACTIVE.ACCTS.CAT</th>\n",
       "    </tr>\n",
       "  </thead>\n",
       "  <tbody>\n",
       "    <tr>\n",
       "      <th>1</th>\n",
       "      <td>47145</td>\n",
       "      <td>65550</td>\n",
       "      <td>73.23</td>\n",
       "      <td>1</td>\n",
       "      <td>0</td>\n",
       "      <td>1</td>\n",
       "      <td>5557</td>\n",
       "      <td>1</td>\n",
       "      <td>1</td>\n",
       "      <td>27600</td>\n",
       "      <td>...</td>\n",
       "      <td>1</td>\n",
       "      <td>1</td>\n",
       "      <td>0</td>\n",
       "      <td>0</td>\n",
       "      <td>1</td>\n",
       "      <td>1</td>\n",
       "      <td>0</td>\n",
       "      <td>0</td>\n",
       "      <td>1</td>\n",
       "      <td>NaN</td>\n",
       "    </tr>\n",
       "    <tr>\n",
       "      <th>3</th>\n",
       "      <td>57513</td>\n",
       "      <td>66113</td>\n",
       "      <td>88.48</td>\n",
       "      <td>1</td>\n",
       "      <td>0</td>\n",
       "      <td>1</td>\n",
       "      <td>1134</td>\n",
       "      <td>3</td>\n",
       "      <td>0</td>\n",
       "      <td>0</td>\n",
       "      <td>...</td>\n",
       "      <td>1</td>\n",
       "      <td>0</td>\n",
       "      <td>1</td>\n",
       "      <td>0</td>\n",
       "      <td>1</td>\n",
       "      <td>0</td>\n",
       "      <td>1</td>\n",
       "      <td>1</td>\n",
       "      <td>0</td>\n",
       "      <td>NaN</td>\n",
       "    </tr>\n",
       "    <tr>\n",
       "      <th>4</th>\n",
       "      <td>52378</td>\n",
       "      <td>60300</td>\n",
       "      <td>88.39</td>\n",
       "      <td>1</td>\n",
       "      <td>0</td>\n",
       "      <td>0</td>\n",
       "      <td>116950</td>\n",
       "      <td>0</td>\n",
       "      <td>0</td>\n",
       "      <td>0</td>\n",
       "      <td>...</td>\n",
       "      <td>1</td>\n",
       "      <td>0</td>\n",
       "      <td>1</td>\n",
       "      <td>0</td>\n",
       "      <td>1</td>\n",
       "      <td>0</td>\n",
       "      <td>1</td>\n",
       "      <td>1</td>\n",
       "      <td>0</td>\n",
       "      <td>NaN</td>\n",
       "    </tr>\n",
       "    <tr>\n",
       "      <th>10</th>\n",
       "      <td>53278</td>\n",
       "      <td>61230</td>\n",
       "      <td>89.83</td>\n",
       "      <td>1</td>\n",
       "      <td>0</td>\n",
       "      <td>0</td>\n",
       "      <td>8776</td>\n",
       "      <td>1</td>\n",
       "      <td>0</td>\n",
       "      <td>0</td>\n",
       "      <td>...</td>\n",
       "      <td>1</td>\n",
       "      <td>0</td>\n",
       "      <td>1</td>\n",
       "      <td>0</td>\n",
       "      <td>1</td>\n",
       "      <td>0</td>\n",
       "      <td>1</td>\n",
       "      <td>0</td>\n",
       "      <td>1</td>\n",
       "      <td>NaN</td>\n",
       "    </tr>\n",
       "    <tr>\n",
       "      <th>12</th>\n",
       "      <td>53278</td>\n",
       "      <td>61330</td>\n",
       "      <td>89.68</td>\n",
       "      <td>0</td>\n",
       "      <td>1</td>\n",
       "      <td>0</td>\n",
       "      <td>8776</td>\n",
       "      <td>7</td>\n",
       "      <td>2</td>\n",
       "      <td>0</td>\n",
       "      <td>...</td>\n",
       "      <td>0</td>\n",
       "      <td>1</td>\n",
       "      <td>0</td>\n",
       "      <td>0</td>\n",
       "      <td>1</td>\n",
       "      <td>0</td>\n",
       "      <td>1</td>\n",
       "      <td>0</td>\n",
       "      <td>1</td>\n",
       "      <td>NaN</td>\n",
       "    </tr>\n",
       "  </tbody>\n",
       "</table>\n",
       "<p>5 rows × 27 columns</p>\n",
       "</div>"
      ],
      "text/plain": [
       "    disbursed_amount  asset_cost    ltv Aadhar_flag VoterID_flag  \\\n",
       "1              47145       65550  73.23           1            0   \n",
       "3              57513       66113  88.48           1            0   \n",
       "4              52378       60300  88.39           1            0   \n",
       "10             53278       61230  89.83           1            0   \n",
       "12             53278       61330  89.68           0            1   \n",
       "\n",
       "   PERFORM_CNS.SCORE  PERFORM_CNS.SCORE.DESCRIPTION  PRI.NO.OF.ACCTS  \\\n",
       "1                  1                           5557                1   \n",
       "3                  1                           1134                3   \n",
       "4                  0                         116950                0   \n",
       "10                 0                           8776                1   \n",
       "12                 0                           8776                7   \n",
       "\n",
       "    PRI.ACTIVE.ACCTS  PRI.CURRENT.BALANCE  ...  Self employed  \\\n",
       "1                  1                27600  ...              1   \n",
       "3                  0                    0  ...              1   \n",
       "4                  0                    0  ...              1   \n",
       "10                 0                    0  ...              1   \n",
       "12                 2                    0  ...              0   \n",
       "\n",
       "    ATLEAST.ONE.PRI.OVERDUE.ACCTS  ZERO.PRI.OVERDUE.ACCTS  \\\n",
       "1                               1                       0   \n",
       "3                               0                       1   \n",
       "4                               0                       1   \n",
       "10                              0                       1   \n",
       "12                              1                       0   \n",
       "\n",
       "    ATLEAST.ONE.NEW.ACCTS.IN.LAST.SIX.MONTHS  \\\n",
       "1                                          0   \n",
       "3                                          0   \n",
       "4                                          0   \n",
       "10                                         0   \n",
       "12                                         0   \n",
       "\n",
       "    ZERO.NEW.ACCTS.IN.LAST.SIX.MONTHS  \\\n",
       "1                                   1   \n",
       "3                                   1   \n",
       "4                                   1   \n",
       "10                                  1   \n",
       "12                                  1   \n",
       "\n",
       "    ATLEAST.ONE.DELINQUENT.ACCTS.IN.LAST.SIX.MONTHS  \\\n",
       "1                                                 1   \n",
       "3                                                 0   \n",
       "4                                                 0   \n",
       "10                                                0   \n",
       "12                                                0   \n",
       "\n",
       "    ZERO.DELINQUENT.ACCTS.IN.LAST.SIX.MONTHS  ATLEAST.ONE.NO.OF_INQUIRIES  \\\n",
       "1                                          0                            0   \n",
       "3                                          1                            1   \n",
       "4                                          1                            1   \n",
       "10                                         1                            0   \n",
       "12                                         1                            0   \n",
       "\n",
       "    ZERO.NO.OF_INQUIRIES  PRI.ACTIVE.ACCTS.CAT  \n",
       "1                      1                   NaN  \n",
       "3                      0                   NaN  \n",
       "4                      0                   NaN  \n",
       "10                     1                   NaN  \n",
       "12                     1                   NaN  \n",
       "\n",
       "[5 rows x 27 columns]"
      ]
     },
     "execution_count": 407,
     "metadata": {},
     "output_type": "execute_result"
    }
   ],
   "source": [
    "s_d = df_new[df_new['loan_default'] == 1][df_new[df_new['loan_default'] == 1].index == b]\n",
    "s_d.head()"
   ]
  },
  {
   "cell_type": "code",
   "execution_count": 408,
   "metadata": {},
   "outputs": [],
   "source": [
    "df_new['PRI.ACTIVE.ACCTS.CAT2'] = s_d['PRI.ACTIVE.ACCTS'].apply(lambda x: 2 if x< 1 else 6 if (x>= 1 and x<=2) else 7)"
   ]
  },
  {
   "cell_type": "code",
   "execution_count": 409,
   "metadata": {},
   "outputs": [
    {
     "data": {
      "text/plain": [
       "disbursed_amount                                        0\n",
       "asset_cost                                              0\n",
       "ltv                                                     0\n",
       "Aadhar_flag                                             0\n",
       "VoterID_flag                                            0\n",
       "PERFORM_CNS.SCORE                                       0\n",
       "PERFORM_CNS.SCORE.DESCRIPTION                           0\n",
       "PRI.NO.OF.ACCTS                                         0\n",
       "PRI.ACTIVE.ACCTS                                        0\n",
       "PRI.CURRENT.BALANCE                                     0\n",
       "PRI.SANCTIONED.AMOUNT                                   0\n",
       "PRI.DISBURSED.AMOUNT                                    0\n",
       "PRIMARY.INSTAL.AMT                                      0\n",
       "AVERAGE.ACCT.AGE                                        0\n",
       "CREDIT.HISTORY.LENGTH                                   0\n",
       "loan_default                                            0\n",
       "Salaried                                                0\n",
       "Self employed                                           0\n",
       "ATLEAST.ONE.PRI.OVERDUE.ACCTS                           0\n",
       "ZERO.PRI.OVERDUE.ACCTS                                  0\n",
       "ATLEAST.ONE.NEW.ACCTS.IN.LAST.SIX.MONTHS                0\n",
       "ZERO.NEW.ACCTS.IN.LAST.SIX.MONTHS                       0\n",
       "ATLEAST.ONE.DELINQUENT.ACCTS.IN.LAST.SIX.MONTHS         0\n",
       "ZERO.DELINQUENT.ACCTS.IN.LAST.SIX.MONTHS                0\n",
       "ATLEAST.ONE.NO.OF_INQUIRIES                             0\n",
       "ZERO.NO.OF_INQUIRIES                                    0\n",
       "PRI.ACTIVE.ACCTS.CAT                                48967\n",
       "PRI.ACTIVE.ACCTS.CAT2                              176526\n",
       "dtype: int64"
      ]
     },
     "execution_count": 409,
     "metadata": {},
     "output_type": "execute_result"
    }
   ],
   "source": [
    "df_new.isnull().sum()"
   ]
  },
  {
   "cell_type": "code",
   "execution_count": 410,
   "metadata": {},
   "outputs": [],
   "source": [
    "df_new['PRI.ACTIVE.ACCTS.CAT'] = df_new['PRI.ACTIVE.ACCTS.CAT'].fillna(0)\n",
    "df_new['PRI.ACTIVE.ACCTS.CAT2'] = df_new['PRI.ACTIVE.ACCTS.CAT2'].fillna(0)"
   ]
  },
  {
   "cell_type": "code",
   "execution_count": 411,
   "metadata": {},
   "outputs": [],
   "source": [
    "df_new['PRI.ACTIVE.ACCTS.CATEGORY'] = df_new['PRI.ACTIVE.ACCTS.CAT'] + df_new['PRI.ACTIVE.ACCTS.CAT2']"
   ]
  },
  {
   "cell_type": "code",
   "execution_count": 412,
   "metadata": {},
   "outputs": [
    {
     "data": {
      "text/plain": [
       "2.0    131395\n",
       "3.0     48825\n",
       "4.0     15568\n",
       "6.0     13363\n",
       "5.0     10593\n",
       "7.0      5749\n",
       "Name: PRI.ACTIVE.ACCTS.CATEGORY, dtype: int64"
      ]
     },
     "execution_count": 412,
     "metadata": {},
     "output_type": "execute_result"
    }
   ],
   "source": [
    "df_new['PRI.ACTIVE.ACCTS.CATEGORY'].value_counts()"
   ]
  },
  {
   "cell_type": "code",
   "execution_count": 413,
   "metadata": {},
   "outputs": [
    {
     "data": {
      "text/plain": [
       "2.0    0.448666\n",
       "3.0    0.215739\n",
       "4.0    0.068789\n",
       "5.0    0.046806\n",
       "Name: PRI.ACTIVE.ACCTS.CATEGORY, dtype: float64"
      ]
     },
     "execution_count": 413,
     "metadata": {},
     "output_type": "execute_result"
    }
   ],
   "source": [
    "df_new[df_new['loan_default'] == 0]['PRI.ACTIVE.ACCTS.CATEGORY'].value_counts(normalize = True)*0.78"
   ]
  },
  {
   "cell_type": "code",
   "execution_count": 415,
   "metadata": {},
   "outputs": [
    {
     "data": {
      "text/plain": [
       "2.0    0.134133\n",
       "6.0    0.060038\n",
       "7.0    0.025829\n",
       "Name: PRI.ACTIVE.ACCTS.CATEGORY, dtype: float64"
      ]
     },
     "execution_count": 415,
     "metadata": {},
     "output_type": "execute_result"
    }
   ],
   "source": [
    "df_new[df_new['loan_default'] == 1]['PRI.ACTIVE.ACCTS.CATEGORY'].value_counts(normalize = True)*0.22"
   ]
  },
  {
   "cell_type": "code",
   "execution_count": 416,
   "metadata": {},
   "outputs": [],
   "source": [
    "df_new.drop(['PRI.ACTIVE.ACCTS.CAT','PRI.ACTIVE.ACCTS.CAT2'], axis = 1, inplace = True)"
   ]
  },
  {
   "cell_type": "code",
   "execution_count": 417,
   "metadata": {},
   "outputs": [
    {
     "data": {
      "text/plain": [
       "(225493, 27)"
      ]
     },
     "execution_count": 417,
     "metadata": {},
     "output_type": "execute_result"
    }
   ],
   "source": [
    "df_new.shape"
   ]
  },
  {
   "cell_type": "code",
   "execution_count": 418,
   "metadata": {},
   "outputs": [
    {
     "data": {
      "text/html": [
       "<div>\n",
       "<style scoped>\n",
       "    .dataframe tbody tr th:only-of-type {\n",
       "        vertical-align: middle;\n",
       "    }\n",
       "\n",
       "    .dataframe tbody tr th {\n",
       "        vertical-align: top;\n",
       "    }\n",
       "\n",
       "    .dataframe thead th {\n",
       "        text-align: right;\n",
       "    }\n",
       "</style>\n",
       "<table border=\"1\" class=\"dataframe\">\n",
       "  <thead>\n",
       "    <tr style=\"text-align: right;\">\n",
       "      <th></th>\n",
       "      <th>loan_default</th>\n",
       "      <th>PRI.ACTIVE.ACCTS.CATEGORY</th>\n",
       "    </tr>\n",
       "  </thead>\n",
       "  <tbody>\n",
       "    <tr>\n",
       "      <th>loan_default</th>\n",
       "      <td>1.000000</td>\n",
       "      <td>0.324846</td>\n",
       "    </tr>\n",
       "    <tr>\n",
       "      <th>PRI.ACTIVE.ACCTS.CATEGORY</th>\n",
       "      <td>0.324846</td>\n",
       "      <td>1.000000</td>\n",
       "    </tr>\n",
       "  </tbody>\n",
       "</table>\n",
       "</div>"
      ],
      "text/plain": [
       "                           loan_default  PRI.ACTIVE.ACCTS.CATEGORY\n",
       "loan_default                   1.000000                   0.324846\n",
       "PRI.ACTIVE.ACCTS.CATEGORY      0.324846                   1.000000"
      ]
     },
     "execution_count": 418,
     "metadata": {},
     "output_type": "execute_result"
    }
   ],
   "source": [
    "df_new[['loan_default', 'PRI.ACTIVE.ACCTS.CATEGORY']].corr() "
   ]
  },
  {
   "cell_type": "code",
   "execution_count": 419,
   "metadata": {},
   "outputs": [],
   "source": [
    "# as you can see we have created a new feature which have 0.32 correlation value with the target"
   ]
  },
  {
   "cell_type": "markdown",
   "metadata": {},
   "source": [
    "### Checking Multicollinearity"
   ]
  },
  {
   "cell_type": "code",
   "execution_count": 425,
   "metadata": {},
   "outputs": [
    {
     "data": {
      "image/png": "[encoded data removed]",
      "text/plain": [
       "<Figure size 1200x1000 with 2 Axes>"
      ]
     },
     "metadata": {
      "needs_background": "light"
     },
     "output_type": "display_data"
    }
   ],
   "source": [
    "plt.figure(figsize = (12,10), dpi = 100)\n",
    "sns.heatmap(df_new.corr()[df_new.corr() > 0.5], annot = True)\n",
    "plt.show()"
   ]
  },
  {
   "cell_type": "code",
   "execution_count": 426,
   "metadata": {},
   "outputs": [],
   "source": [
    "# we can see some features have high positive correlation among them. Therefore, let's drop these features also"
   ]
  },
  {
   "cell_type": "code",
   "execution_count": 428,
   "metadata": {},
   "outputs": [],
   "source": [
    "df2 = df_new.copy()"
   ]
  },
  {
   "cell_type": "code",
   "execution_count": 429,
   "metadata": {},
   "outputs": [],
   "source": [
    "df2.drop(['disbursed_amount','PRI.SANCTIONED.AMOUNT', 'PRI.NO.OF.ACCTS', 'AVERAGE.ACCT.AGE'], axis= 1, inplace = True)"
   ]
  },
  {
   "cell_type": "code",
   "execution_count": 430,
   "metadata": {},
   "outputs": [
    {
     "data": {
      "image/png": "[encoded data removed]",
      "text/plain": [
       "<Figure size 1200x1000 with 2 Axes>"
      ]
     },
     "metadata": {
      "needs_background": "light"
     },
     "output_type": "display_data"
    }
   ],
   "source": [
    "plt.figure(figsize = (12,10), dpi = 100)\n",
    "sns.heatmap(df2.corr()[df2.corr() > 0.5], annot = True)\n",
    "plt.show()"
   ]
  },
  {
   "cell_type": "code",
   "execution_count": 431,
   "metadata": {},
   "outputs": [],
   "source": [
    "# as you can see multicollinearity is geartly reduced."
   ]
  },
  {
   "cell_type": "code",
   "execution_count": 459,
   "metadata": {},
   "outputs": [
    {
     "name": "stdout",
     "output_type": "stream",
     "text": [
      "<class 'pandas.core.frame.DataFrame'>\n",
      "Int64Index: 225493 entries, 0 to 233153\n",
      "Data columns (total 23 columns):\n",
      " #   Column                                           Non-Null Count   Dtype  \n",
      "---  ------                                           --------------   -----  \n",
      " 0   asset_cost                                       225493 non-null  int64  \n",
      " 1   ltv                                              225493 non-null  float64\n",
      " 2   Aadhar_flag                                      225493 non-null  object \n",
      " 3   VoterID_flag                                     225493 non-null  object \n",
      " 4   PERFORM_CNS.SCORE                                225493 non-null  object \n",
      " 5   PERFORM_CNS.SCORE.DESCRIPTION                    225493 non-null  int64  \n",
      " 6   PRI.ACTIVE.ACCTS                                 225493 non-null  int64  \n",
      " 7   PRI.CURRENT.BALANCE                              225493 non-null  int64  \n",
      " 8   PRI.DISBURSED.AMOUNT                             225493 non-null  int64  \n",
      " 9   PRIMARY.INSTAL.AMT                               225493 non-null  int64  \n",
      " 10  CREDIT.HISTORY.LENGTH                            225493 non-null  float64\n",
      " 11  loan_default                                     225493 non-null  int64  \n",
      " 12  Salaried                                         225493 non-null  uint8  \n",
      " 13  Self employed                                    225493 non-null  uint8  \n",
      " 14  ATLEAST.ONE.PRI.OVERDUE.ACCTS                    225493 non-null  uint8  \n",
      " 15  ZERO.PRI.OVERDUE.ACCTS                           225493 non-null  uint8  \n",
      " 16  ATLEAST.ONE.NEW.ACCTS.IN.LAST.SIX.MONTHS         225493 non-null  uint8  \n",
      " 17  ZERO.NEW.ACCTS.IN.LAST.SIX.MONTHS                225493 non-null  uint8  \n",
      " 18  ATLEAST.ONE.DELINQUENT.ACCTS.IN.LAST.SIX.MONTHS  225493 non-null  uint8  \n",
      " 19  ZERO.DELINQUENT.ACCTS.IN.LAST.SIX.MONTHS         225493 non-null  uint8  \n",
      " 20  ATLEAST.ONE.NO.OF_INQUIRIES                      225493 non-null  uint8  \n",
      " 21  ZERO.NO.OF_INQUIRIES                             225493 non-null  uint8  \n",
      " 22  PRI.ACTIVE.ACCTS.CATEGORY                        225493 non-null  float64\n",
      "dtypes: float64(3), int64(7), object(3), uint8(10)\n",
      "memory usage: 36.2+ MB\n"
     ]
    }
   ],
   "source": [
    "df2.info()"
   ]
  },
  {
   "cell_type": "code",
   "execution_count": 460,
   "metadata": {},
   "outputs": [],
   "source": [
    "df2[['Aadhar_flag', 'VoterID_flag', 'PERFORM_CNS.SCORE']] = df2[['Aadhar_flag', 'VoterID_flag', 'PERFORM_CNS.SCORE']].astype('int')"
   ]
  },
  {
   "cell_type": "markdown",
   "metadata": {},
   "source": [
    "### Creating train and test sets"
   ]
  },
  {
   "cell_type": "code",
   "execution_count": 461,
   "metadata": {},
   "outputs": [],
   "source": [
    "x = df2.drop('loan_default', axis = 1)\n",
    "y = df2['loan_default']"
   ]
  },
  {
   "cell_type": "code",
   "execution_count": 462,
   "metadata": {},
   "outputs": [],
   "source": [
    "from sklearn.model_selection import train_test_split"
   ]
  },
  {
   "cell_type": "code",
   "execution_count": 463,
   "metadata": {},
   "outputs": [],
   "source": [
    "trainx, testx, trainy, testy = train_test_split(x,y, test_size = 0.3, random_state = 10)"
   ]
  },
  {
   "cell_type": "markdown",
   "metadata": {},
   "source": [
    "### Balance Class Distributions in the Target class using SMOTE Oversampling technique"
   ]
  },
  {
   "cell_type": "code",
   "execution_count": 464,
   "metadata": {},
   "outputs": [],
   "source": [
    "from imblearn.over_sampling import SMOTE"
   ]
  },
  {
   "cell_type": "code",
   "execution_count": 465,
   "metadata": {},
   "outputs": [],
   "source": [
    "sm = SMOTE()\n",
    "\n",
    "train_x_sm, train_y_sm = sm.fit_resample(trainx, trainy.astype('int'))"
   ]
  },
  {
   "cell_type": "code",
   "execution_count": 466,
   "metadata": {},
   "outputs": [
    {
     "data": {
      "text/plain": [
       "(246878, 22)"
      ]
     },
     "execution_count": 466,
     "metadata": {},
     "output_type": "execute_result"
    }
   ],
   "source": [
    "train_x_sm.shape"
   ]
  },
  {
   "cell_type": "code",
   "execution_count": 467,
   "metadata": {},
   "outputs": [
    {
     "data": {
      "text/plain": [
       "1    123439\n",
       "0    123439\n",
       "Name: loan_default, dtype: int64"
      ]
     },
     "execution_count": 467,
     "metadata": {},
     "output_type": "execute_result"
    }
   ],
   "source": [
    "train_y_sm.value_counts()"
   ]
  },
  {
   "cell_type": "markdown",
   "metadata": {},
   "source": [
    "### Creating Different estimators"
   ]
  },
  {
   "cell_type": "code",
   "execution_count": 468,
   "metadata": {},
   "outputs": [],
   "source": [
    "#Random Forest"
   ]
  },
  {
   "cell_type": "code",
   "execution_count": 469,
   "metadata": {},
   "outputs": [],
   "source": [
    "from sklearn.ensemble import RandomForestClassifier"
   ]
  },
  {
   "cell_type": "code",
   "execution_count": 470,
   "metadata": {},
   "outputs": [],
   "source": [
    "rf = RandomForestClassifier()"
   ]
  },
  {
   "cell_type": "code",
   "execution_count": 471,
   "metadata": {},
   "outputs": [],
   "source": [
    "pred_test_rf_sm = rf.fit(train_x_sm, train_y_sm).predict(testx)"
   ]
  },
  {
   "cell_type": "code",
   "execution_count": 43,
   "metadata": {},
   "outputs": [],
   "source": [
    "from sklearn.metrics import accuracy_score, classification_report, roc_auc_score, roc_curve"
   ]
  },
  {
   "cell_type": "code",
   "execution_count": 473,
   "metadata": {},
   "outputs": [
    {
     "name": "stdout",
     "output_type": "stream",
     "text": [
      "0.8109182828760644\n"
     ]
    }
   ],
   "source": [
    "print(accuracy_score(testy, pred_test_rf_sm))"
   ]
  },
  {
   "cell_type": "code",
   "execution_count": 474,
   "metadata": {},
   "outputs": [
    {
     "name": "stdout",
     "output_type": "stream",
     "text": [
      "              precision    recall  f1-score   support\n",
      "\n",
      "           0       0.88      0.88      0.88     53087\n",
      "           1       0.56      0.55      0.55     14561\n",
      "\n",
      "    accuracy                           0.81     67648\n",
      "   macro avg       0.72      0.71      0.72     67648\n",
      "weighted avg       0.81      0.81      0.81     67648\n",
      "\n"
     ]
    }
   ],
   "source": [
    "print(classification_report(testy, pred_test_rf_sm))"
   ]
  },
  {
   "cell_type": "code",
   "execution_count": 448,
   "metadata": {},
   "outputs": [],
   "source": [
    "#GradientBoosting"
   ]
  },
  {
   "cell_type": "code",
   "execution_count": 475,
   "metadata": {},
   "outputs": [],
   "source": [
    "from sklearn.ensemble import GradientBoostingClassifier"
   ]
  },
  {
   "cell_type": "code",
   "execution_count": 476,
   "metadata": {},
   "outputs": [],
   "source": [
    "gb = GradientBoostingClassifier()"
   ]
  },
  {
   "cell_type": "code",
   "execution_count": 477,
   "metadata": {},
   "outputs": [],
   "source": [
    "pred_test_gb_sm = gb.fit(train_x_sm, train_y_sm).predict(testx)"
   ]
  },
  {
   "cell_type": "code",
   "execution_count": 478,
   "metadata": {},
   "outputs": [
    {
     "name": "stdout",
     "output_type": "stream",
     "text": [
      "0.8608975875118259\n"
     ]
    }
   ],
   "source": [
    "print(accuracy_score(testy, pred_test_gb_sm.astype('int')))"
   ]
  },
  {
   "cell_type": "code",
   "execution_count": 479,
   "metadata": {},
   "outputs": [
    {
     "name": "stdout",
     "output_type": "stream",
     "text": [
      "              precision    recall  f1-score   support\n",
      "\n",
      "           0       0.86      0.98      0.92     53087\n",
      "           1       0.87      0.41      0.56     14561\n",
      "\n",
      "    accuracy                           0.86     67648\n",
      "   macro avg       0.87      0.70      0.74     67648\n",
      "weighted avg       0.86      0.86      0.84     67648\n",
      "\n"
     ]
    }
   ],
   "source": [
    "print(classification_report(testy, pred_test_gb_sm.astype('int')))"
   ]
  },
  {
   "cell_type": "code",
   "execution_count": 453,
   "metadata": {},
   "outputs": [],
   "source": [
    "#Xgboost"
   ]
  },
  {
   "cell_type": "code",
   "execution_count": 4,
   "metadata": {},
   "outputs": [],
   "source": [
    "from xgboost import XGBClassifier"
   ]
  },
  {
   "cell_type": "code",
   "execution_count": 481,
   "metadata": {},
   "outputs": [],
   "source": [
    "xg = XGBClassifier()"
   ]
  },
  {
   "cell_type": "code",
   "execution_count": 482,
   "metadata": {},
   "outputs": [
    {
     "name": "stderr",
     "output_type": "stream",
     "text": [
      "C:\\Users\\Tusha\\Anaconda3\\lib\\site-packages\\xgboost\\sklearn.py:1146: UserWarning: The use of label encoder in XGBClassifier is deprecated and will be removed in a future release. To remove this warning, do the following: 1) Pass option use_label_encoder=False when constructing XGBClassifier object; and 2) Encode your labels (y) as integers starting with 0, i.e. 0, 1, 2, ..., [num_class - 1].\n",
      "  warnings.warn(label_encoder_deprecation_msg, UserWarning)\n"
     ]
    },
    {
     "name": "stdout",
     "output_type": "stream",
     "text": [
      "[16:10:25] WARNING: C:/Users/Administrator/workspace/xgboost-win64_release_1.4.0/src/learner.cc:1095: Starting in XGBoost 1.3.0, the default evaluation metric used with the objective 'binary:logistic' was changed from 'error' to 'logloss'. Explicitly set eval_metric if you'd like to restore the old behavior.\n"
     ]
    }
   ],
   "source": [
    "pred_test_xg_sm = xg.fit(train_x_sm, train_y_sm).predict(testx)"
   ]
  },
  {
   "cell_type": "code",
   "execution_count": 483,
   "metadata": {},
   "outputs": [
    {
     "name": "stdout",
     "output_type": "stream",
     "text": [
      "0.8477412488174078\n"
     ]
    }
   ],
   "source": [
    "print(accuracy_score(testy, pred_test_xg_sm.astype('int')))"
   ]
  },
  {
   "cell_type": "code",
   "execution_count": 484,
   "metadata": {},
   "outputs": [
    {
     "name": "stdout",
     "output_type": "stream",
     "text": [
      "              precision    recall  f1-score   support\n",
      "\n",
      "           0       0.87      0.95      0.91     53087\n",
      "           1       0.74      0.46      0.56     14561\n",
      "\n",
      "    accuracy                           0.85     67648\n",
      "   macro avg       0.80      0.71      0.74     67648\n",
      "weighted avg       0.84      0.85      0.83     67648\n",
      "\n"
     ]
    }
   ],
   "source": [
    "print(classification_report(testy, pred_test_xg_sm.astype('int')))"
   ]
  },
  {
   "cell_type": "code",
   "execution_count": 485,
   "metadata": {},
   "outputs": [],
   "source": [
    "#Adaboost"
   ]
  },
  {
   "cell_type": "code",
   "execution_count": 33,
   "metadata": {},
   "outputs": [],
   "source": [
    "from sklearn.ensemble import AdaBoostClassifier"
   ]
  },
  {
   "cell_type": "code",
   "execution_count": 487,
   "metadata": {},
   "outputs": [],
   "source": [
    "ad = AdaBoostClassifier()"
   ]
  },
  {
   "cell_type": "code",
   "execution_count": 488,
   "metadata": {},
   "outputs": [],
   "source": [
    "pred_test_ad_sm = ad.fit(train_x_sm, train_y_sm).predict(testx)"
   ]
  },
  {
   "cell_type": "code",
   "execution_count": 489,
   "metadata": {},
   "outputs": [
    {
     "name": "stdout",
     "output_type": "stream",
     "text": [
      "0.8277554399243141\n"
     ]
    }
   ],
   "source": [
    "print(accuracy_score(testy, pred_test_ad_sm))"
   ]
  },
  {
   "cell_type": "code",
   "execution_count": 490,
   "metadata": {},
   "outputs": [
    {
     "name": "stdout",
     "output_type": "stream",
     "text": [
      "              precision    recall  f1-score   support\n",
      "\n",
      "           0       0.87      0.92      0.89     53087\n",
      "           1       0.63      0.50      0.55     14561\n",
      "\n",
      "    accuracy                           0.83     67648\n",
      "   macro avg       0.75      0.71      0.72     67648\n",
      "weighted avg       0.82      0.83      0.82     67648\n",
      "\n"
     ]
    }
   ],
   "source": [
    "print(classification_report(testy, pred_test_ad_sm))"
   ]
  },
  {
   "cell_type": "code",
   "execution_count": 491,
   "metadata": {},
   "outputs": [],
   "source": [
    "# we can see realtively higher recall and good precison is given by Adaboost model"
   ]
  },
  {
   "cell_type": "markdown",
   "metadata": {},
   "source": [
    "### Hypertuning the parameters"
   ]
  },
  {
   "cell_type": "code",
   "execution_count": 3,
   "metadata": {},
   "outputs": [],
   "source": [
    "from sklearn.model_selection import ParameterGrid\n",
    "\n",
    "import parfit.parfit as pf\n",
    "\n",
    "from sklearn.metrics import roc_auc_score, recall_score\n"
   ]
  },
  {
   "cell_type": "code",
   "execution_count": 28,
   "metadata": {},
   "outputs": [],
   "source": [
    "#Check first with Adaboost"
   ]
  },
  {
   "cell_type": "code",
   "execution_count": 34,
   "metadata": {},
   "outputs": [],
   "source": [
    "ad = AdaBoostClassifier()\n",
    "\n",
    "paramGrid = ParameterGrid({\n",
    "    'n_estimators': [100,150,175,200,250],\n",
    "    'learning_rate': [0.1,0.3,0.5,0.7,0.9]    \n",
    "})\n",
    "\n"
   ]
  },
  {
   "cell_type": "code",
   "execution_count": 498,
   "metadata": {},
   "outputs": [
    {
     "name": "stdout",
     "output_type": "stream",
     "text": [
      "-------------FITTING MODELS-------------\n"
     ]
    },
    {
     "name": "stderr",
     "output_type": "stream",
     "text": [
      "[Parallel(n_jobs=-1)]: Using backend LokyBackend with 4 concurrent workers.\n",
      "[Parallel(n_jobs=-1)]: Done   5 tasks      | elapsed:  3.0min\n",
      "[Parallel(n_jobs=-1)]: Done  10 tasks      | elapsed:  4.9min\n",
      "[Parallel(n_jobs=-1)]: Done  17 tasks      | elapsed:  8.4min\n",
      "[Parallel(n_jobs=-1)]: Done  21 out of  25 | elapsed: 10.9min remaining:  2.1min\n",
      "[Parallel(n_jobs=-1)]: Done  25 out of  25 | elapsed: 12.7min finished\n"
     ]
    },
    {
     "name": "stdout",
     "output_type": "stream",
     "text": [
      "-------------SCORING MODELS-------------\n"
     ]
    },
    {
     "name": "stderr",
     "output_type": "stream",
     "text": [
      "[Parallel(n_jobs=-1)]: Using backend LokyBackend with 4 concurrent workers.\n",
      "[Parallel(n_jobs=-1)]: Done  25 out of  25 | elapsed:  1.4min finished\n"
     ]
    },
    {
     "data": {
      "image/png": "[encoded data removed]",
      "text/plain": [
       "<Figure size 288x288 with 2 Axes>"
      ]
     },
     "metadata": {
      "needs_background": "light"
     },
     "output_type": "display_data"
    }
   ],
   "source": [
    "best_model, best_score, all_models, all_scores = pf.bestFit(ad, paramGrid, \n",
    "     trainx, trainy, testx, testy, \n",
    "     metric=recall_score, scoreLabel='recall')\n"
   ]
  },
  {
   "cell_type": "code",
   "execution_count": 499,
   "metadata": {},
   "outputs": [
    {
     "name": "stdout",
     "output_type": "stream",
     "text": [
      "AdaBoostClassifier(learning_rate=0.9, n_estimators=150) 0.3900830986882769\n"
     ]
    }
   ],
   "source": [
    "print(best_model, best_score)"
   ]
  },
  {
   "cell_type": "code",
   "execution_count": 35,
   "metadata": {},
   "outputs": [],
   "source": [
    "ad_tune = AdaBoostClassifier(learning_rate=0.9, n_estimators=150)"
   ]
  },
  {
   "cell_type": "code",
   "execution_count": 36,
   "metadata": {},
   "outputs": [],
   "source": [
    "pred_test_ad_sm = ad_tune.fit(train_x_sm, train_y_sm).predict(testx)"
   ]
  },
  {
   "cell_type": "code",
   "execution_count": 37,
   "metadata": {},
   "outputs": [
    {
     "name": "stdout",
     "output_type": "stream",
     "text": [
      "0.8466177861873226\n"
     ]
    }
   ],
   "source": [
    "print(accuracy_score(testy, pred_test_ad_sm))"
   ]
  },
  {
   "cell_type": "code",
   "execution_count": 38,
   "metadata": {},
   "outputs": [
    {
     "name": "stdout",
     "output_type": "stream",
     "text": [
      "0.7079739516674938\n"
     ]
    }
   ],
   "source": [
    "print(roc_auc_score(testy, pred_test_ad_sm))"
   ]
  },
  {
   "cell_type": "code",
   "execution_count": 30,
   "metadata": {},
   "outputs": [],
   "source": [
    "#Check with xgboost"
   ]
  },
  {
   "cell_type": "code",
   "execution_count": 14,
   "metadata": {},
   "outputs": [],
   "source": [
    "xg = XGBClassifier()\n",
    "\n",
    "paramGrid = ParameterGrid({\n",
    "    'n_estimators': [100,150,175,200,250],\n",
    "    'learning_rate': [0.1,0.3,0.5,0.7,0.9],\n",
    "    \n",
    "})\n",
    "\n"
   ]
  },
  {
   "cell_type": "code",
   "execution_count": 16,
   "metadata": {},
   "outputs": [
    {
     "name": "stdout",
     "output_type": "stream",
     "text": [
      "-------------FITTING MODELS-------------\n"
     ]
    },
    {
     "name": "stderr",
     "output_type": "stream",
     "text": [
      "[Parallel(n_jobs=-1)]: Using backend LokyBackend with 4 concurrent workers.\n",
      "[Parallel(n_jobs=-1)]: Done   5 tasks      | elapsed:  4.5min\n",
      "[Parallel(n_jobs=-1)]: Done  10 tasks      | elapsed:  7.9min\n",
      "[Parallel(n_jobs=-1)]: Done  17 tasks      | elapsed: 13.4min\n",
      "[Parallel(n_jobs=-1)]: Done  21 out of  25 | elapsed: 17.0min remaining:  3.2min\n",
      "[Parallel(n_jobs=-1)]: Done  25 out of  25 | elapsed: 19.1min finished\n",
      "[Parallel(n_jobs=-1)]: Using backend LokyBackend with 4 concurrent workers.\n"
     ]
    },
    {
     "name": "stdout",
     "output_type": "stream",
     "text": [
      "-------------SCORING MODELS-------------\n"
     ]
    },
    {
     "name": "stderr",
     "output_type": "stream",
     "text": [
      "[Parallel(n_jobs=-1)]: Done  25 out of  25 | elapsed:   10.0s finished\n"
     ]
    },
    {
     "data": {
      "image/png": "[encoded data removed]",
      "text/plain": [
       "<Figure size 288x288 with 2 Axes>"
      ]
     },
     "metadata": {
      "needs_background": "light"
     },
     "output_type": "display_data"
    }
   ],
   "source": [
    "best_model, best_score, all_models, all_scores = pf.bestFit(xg, paramGrid, \n",
    "     train_x_sm, train_y_sm, testx, testy, \n",
    "     metric=recall_score, scoreLabel='recall')\n"
   ]
  },
  {
   "cell_type": "code",
   "execution_count": 17,
   "metadata": {},
   "outputs": [
    {
     "name": "stdout",
     "output_type": "stream",
     "text": [
      "XGBClassifier(base_score=0.5, booster='gbtree', colsample_bylevel=1,\n",
      "              colsample_bynode=1, colsample_bytree=1, gamma=0, gpu_id=-1,\n",
      "              importance_type='gain', interaction_constraints='',\n",
      "              learning_rate=0.9, max_delta_step=0, max_depth=6,\n",
      "              min_child_weight=1, missing=nan, monotone_constraints='()',\n",
      "              n_estimators=250, n_jobs=4, num_parallel_tree=1, random_state=0,\n",
      "              reg_alpha=0, reg_lambda=1, scale_pos_weight=1, subsample=1,\n",
      "              tree_method='exact', validate_parameters=1, verbosity=None) 0.5202252592541721\n"
     ]
    }
   ],
   "source": [
    "print(best_model, best_score)"
   ]
  },
  {
   "cell_type": "code",
   "execution_count": 22,
   "metadata": {},
   "outputs": [],
   "source": [
    "xgb_tune = XGBClassifier(base_score=0.5, booster='gbtree', colsample_bylevel=1,\n",
    "              colsample_bynode=1, colsample_bytree=1, gamma=0, gpu_id=-1,\n",
    "              importance_type='gain', interaction_constraints='',\n",
    "              learning_rate=0.9, max_delta_step=0, max_depth=6,\n",
    "              min_child_weight=1, missing=np.nan, monotone_constraints='()',\n",
    "              n_estimators=250, n_jobs=4, num_parallel_tree=1, random_state=0,\n",
    "              reg_alpha=0, reg_lambda=1, scale_pos_weight=1, subsample=1, tree_method='exact', validate_parameters=1, verbosity=None)\n"
   ]
  },
  {
   "cell_type": "code",
   "execution_count": 23,
   "metadata": {},
   "outputs": [
    {
     "name": "stdout",
     "output_type": "stream",
     "text": [
      "[12:26:17] WARNING: C:/Users/Administrator/workspace/xgboost-win64_release_1.4.0/src/learner.cc:1095: Starting in XGBoost 1.3.0, the default evaluation metric used with the objective 'binary:logistic' was changed from 'error' to 'logloss'. Explicitly set eval_metric if you'd like to restore the old behavior.\n"
     ]
    }
   ],
   "source": [
    "pred_test_xg_sm = xgb_tune.fit(train_x_sm, train_y_sm).predict(testx)"
   ]
  },
  {
   "cell_type": "code",
   "execution_count": 26,
   "metadata": {},
   "outputs": [
    {
     "name": "stdout",
     "output_type": "stream",
     "text": [
      "0.8223450804162725\n"
     ]
    }
   ],
   "source": [
    "print(accuracy_score(testy, pred_test_xg_sm))"
   ]
  },
  {
   "cell_type": "code",
   "execution_count": 31,
   "metadata": {},
   "outputs": [
    {
     "name": "stdout",
     "output_type": "stream",
     "text": [
      "0.7127187290487901\n"
     ]
    }
   ],
   "source": [
    "print(roc_auc_score(testy, pred_test_xg_sm))"
   ]
  },
  {
   "cell_type": "code",
   "execution_count": 40,
   "metadata": {},
   "outputs": [],
   "source": [
    "#as we can see Adaboost gives high accuracy than xgboost"
   ]
  },
  {
   "cell_type": "markdown",
   "metadata": {},
   "source": [
    "### Model Evaluation"
   ]
  },
  {
   "cell_type": "code",
   "execution_count": 41,
   "metadata": {},
   "outputs": [],
   "source": [
    "#Test performance (roc_auc_score)"
   ]
  },
  {
   "cell_type": "code",
   "execution_count": 56,
   "metadata": {},
   "outputs": [
    {
     "name": "stdout",
     "output_type": "stream",
     "text": [
      "0.8466177861873226\n"
     ]
    }
   ],
   "source": [
    "print(accuracy_score(testy, pred_test_ad_sm))"
   ]
  },
  {
   "cell_type": "code",
   "execution_count": 44,
   "metadata": {},
   "outputs": [
    {
     "data": {
      "image/png": "[encoded data removed]",
      "text/plain": [
       "<Figure size 432x288 with 1 Axes>"
      ]
     },
     "metadata": {
      "needs_background": "light"
     },
     "output_type": "display_data"
    }
   ],
   "source": [
    "y_pred_prob = ad_tune.predict_proba(testx)[:,1]\n",
    "    \n",
    "    # the roc_curve() returns the values for false positive rate, true positive rate and threshold\n",
    "    # pass the actual target values and predicted probabilities to the function\n",
    "fpr, tpr, thresholds = roc_curve(testy, y_pred_prob)\n",
    "\n",
    "    # plot the ROC curve\n",
    "plt.plot(fpr, tpr)\n",
    "\n",
    "    # set limits for x and y axes\n",
    "plt.xlim([0.0, 1.0])\n",
    "plt.ylim([0.0, 1.0])\n",
    "\n",
    "    # plot the straight line showing worst prediction for the model\n",
    "plt.plot([0, 1], [0, 1],'r--')\n",
    "plt.title('ROC curve for Loan Default Prediction Classifier on Test Data', fontsize = 12)\n",
    "plt.xlabel('False positive rate (1-Specificity)', fontsize = 12)\n",
    "plt.ylabel('True positive rate (Sensitivity)', fontsize = 12)\n",
    "\n",
    "    # add the AUC score to the plot\n",
    "    # 'x' and 'y' gives position of the text\n",
    "    # 's' is the text \n",
    "    # use round() to round-off the AUC score upto 4 digits\n",
    "plt.text(x = 0.02, y = 0.9, s = ('AUC Score:',round(roc_auc_score(testy, pred_test_ad_sm),4)))\n",
    "\n",
    "    # plot the grid\n",
    "plt.grid(True)"
   ]
  },
  {
   "cell_type": "code",
   "execution_count": 45,
   "metadata": {},
   "outputs": [],
   "source": [
    "#Train performance (roc_auc_score)"
   ]
  },
  {
   "cell_type": "code",
   "execution_count": 46,
   "metadata": {},
   "outputs": [],
   "source": [
    "pred_train_ad_sm = ad_tune.fit(train_x_sm, train_y_sm).predict(train_x_sm)"
   ]
  },
  {
   "cell_type": "code",
   "execution_count": 47,
   "metadata": {},
   "outputs": [
    {
     "name": "stdout",
     "output_type": "stream",
     "text": [
      "0.8377660220837823\n"
     ]
    }
   ],
   "source": [
    "print(accuracy_score(train_y_sm, pred_train_ad_sm))"
   ]
  },
  {
   "cell_type": "code",
   "execution_count": 48,
   "metadata": {},
   "outputs": [
    {
     "data": {
      "image/png": "[encoded data removed]",
      "text/plain": [
       "<Figure size 432x288 with 1 Axes>"
      ]
     },
     "metadata": {
      "needs_background": "light"
     },
     "output_type": "display_data"
    }
   ],
   "source": [
    "y_pred_prob_train = ad_tune.predict_proba(train_x_sm)[:,1]\n",
    "    \n",
    "    # the roc_curve() returns the values for false positive rate, true positive rate and threshold\n",
    "    # pass the actual target values and predicted probabilities to the function\n",
    "fpr, tpr, thresholds = roc_curve(train_y_sm, y_pred_prob_train)\n",
    "\n",
    "    # plot the ROC curve\n",
    "plt.plot(fpr, tpr)\n",
    "\n",
    "    # set limits for x and y axes\n",
    "plt.xlim([0.0, 1.0])\n",
    "plt.ylim([0.0, 1.0])\n",
    "\n",
    "    # plot the straight line showing worst prediction for the model\n",
    "plt.plot([0, 1], [0, 1],'r--')\n",
    "plt.title('ROC curve for Loan Default Prediction Classifier on Train Data', fontsize = 12)\n",
    "plt.xlabel('False positive rate (1-Specificity)', fontsize = 12)\n",
    "plt.ylabel('True positive rate (Sensitivity)', fontsize = 12)\n",
    "\n",
    "    # add the AUC score to the plot\n",
    "    # 'x' and 'y' gives position of the text\n",
    "    # 's' is the text \n",
    "    # use round() to round-off the AUC score upto 4 digits\n",
    "plt.text(x = 0.02, y = 0.9, s = ('AUC Score:',round(roc_auc_score(train_y_sm, pred_train_ad_sm),4)))\n",
    "\n",
    "    # plot the grid\n",
    "plt.grid(True)"
   ]
  },
  {
   "cell_type": "code",
   "execution_count": 49,
   "metadata": {},
   "outputs": [],
   "source": [
    "#Mean_cross_validation_recall_score"
   ]
  },
  {
   "cell_type": "code",
   "execution_count": 50,
   "metadata": {},
   "outputs": [],
   "source": [
    "from sklearn.model_selection import cross_val_score"
   ]
  },
  {
   "cell_type": "code",
   "execution_count": 51,
   "metadata": {},
   "outputs": [],
   "source": [
    "score_val = cross_val_score(ad, train_x_sm, train_y_sm, cv = 5, scoring = 'recall')"
   ]
  },
  {
   "cell_type": "code",
   "execution_count": 52,
   "metadata": {},
   "outputs": [
    {
     "data": {
      "text/plain": [
       "array([0.41595107, 0.71796014, 0.84352722, 0.8538097 , 0.84830687])"
      ]
     },
     "execution_count": 52,
     "metadata": {},
     "output_type": "execute_result"
    }
   ],
   "source": [
    "score_val"
   ]
  },
  {
   "cell_type": "code",
   "execution_count": 53,
   "metadata": {},
   "outputs": [],
   "source": [
    "fold = ['F1', 'F2', 'F3', 'F4', 'F5']"
   ]
  },
  {
   "cell_type": "code",
   "execution_count": 54,
   "metadata": {},
   "outputs": [
    {
     "name": "stderr",
     "output_type": "stream",
     "text": [
      "C:\\Users\\Tusha\\Anaconda3\\lib\\site-packages\\seaborn\\_decorators.py:43: FutureWarning: Pass the following variables as keyword args: x, y. From version 0.12, the only valid positional argument will be `data`, and passing other arguments without an explicit keyword will result in an error or misinterpretation.\n",
      "  FutureWarning\n"
     ]
    },
    {
     "data": {
      "image/png": "[encoded data removed]",
      "text/plain": [
       "<Figure size 432x288 with 1 Axes>"
      ]
     },
     "metadata": {
      "needs_background": "light"
     },
     "output_type": "display_data"
    }
   ],
   "source": [
    "sns.barplot(score_val, fold)\n",
    "plt.xlabel('Recall Score')\n",
    "plt.ylabel('Folds')\n",
    "plt.show()"
   ]
  },
  {
   "cell_type": "code",
   "execution_count": 55,
   "metadata": {},
   "outputs": [
    {
     "name": "stdout",
     "output_type": "stream",
     "text": [
      "0.7359109997545156\n"
     ]
    }
   ],
   "source": [
    "print(score_val.mean())"
   ]
  },
  {
   "cell_type": "markdown",
   "metadata": {},
   "source": [
    "### Feature Selection"
   ]
  },
  {
   "cell_type": "code",
   "execution_count": 57,
   "metadata": {},
   "outputs": [
    {
     "data": {
      "image/png": "[encoded data removed]",
      "text/plain": [
       "<Figure size 576x432 with 1 Axes>"
      ]
     },
     "metadata": {
      "needs_background": "light"
     },
     "output_type": "display_data"
    }
   ],
   "source": [
    "# create a dataframe that stores the feature names and their importance\n",
    "# 'feature_importances_' returns the features based on the gini importance\n",
    "important_features = pd.DataFrame({'Features': train_x_sm.columns, \n",
    "                                   'Importance': ad_tune.feature_importances_})\n",
    "\n",
    "# sort the dataframe in the descending order according to the feature importance\n",
    "important_features = important_features.sort_values('Importance', ascending = False)\n",
    "\n",
    "plt.figure(figsize = (8,6))\n",
    "# create a barplot to visualize the features based on their importance\n",
    "sns.barplot(x = 'Importance', y = 'Features', data = important_features)\n",
    "\n",
    "# add plot and axes labels\n",
    "# set text size using 'fontsize'\n",
    "plt.title('Feature Importance', fontsize = 15)\n",
    "plt.xlabel('Importance', fontsize = 15)\n",
    "plt.ylabel('Features', fontsize = 15)\n",
    "\n",
    "# display the plot\n",
    "plt.show()\n"
   ]
  },
  {
   "cell_type": "code",
   "execution_count": 58,
   "metadata": {},
   "outputs": [],
   "source": [
    "# We can finally see that there's no overfitting issue in our model, as after using SMOTE, the accuracy score\n",
    "# of both train and test set is very much close to each other.\n",
    "# We also see that our Adaboost model attains a significant high roc auc score of 70.8% on test set and a mean cross validation recall score of 73.5% on the validation set."
   ]
  },
  {
   "cell_type": "code",
   "execution_count": null,
   "metadata": {},
   "outputs": [],
   "source": []
  }
 ],
 "metadata": {
  "kernelspec": {
   "display_name": "Python 3",
   "language": "python",
   "name": "python3"
  },
  "language_info": {
   "codemirror_mode": {
    "name": "ipython",
    "version": 3
   },
   "file_extension": ".py",
   "mimetype": "text/x-python",
   "name": "python",
   "nbconvert_exporter": "python",
   "pygments_lexer": "ipython3",
   "version": "3.7.4"
  }
 },
 "nbformat": 4,
 "nbformat_minor": 4
}
