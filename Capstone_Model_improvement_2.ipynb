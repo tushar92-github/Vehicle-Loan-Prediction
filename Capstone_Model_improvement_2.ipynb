{
 "cells": [
  {
   "cell_type": "code",
   "execution_count": 2,
   "metadata": {},
   "outputs": [],
   "source": [
    "import numpy as np\n",
    "import pandas as pd\n",
    "import matplotlib.pyplot as plt\n",
    "import seaborn as sns"
   ]
  },
  {
   "cell_type": "code",
   "execution_count": 53,
   "metadata": {},
   "outputs": [
    {
     "data": {
      "text/html": [
       "<div>\n",
       "<style scoped>\n",
       "    .dataframe tbody tr th:only-of-type {\n",
       "        vertical-align: middle;\n",
       "    }\n",
       "\n",
       "    .dataframe tbody tr th {\n",
       "        vertical-align: top;\n",
       "    }\n",
       "\n",
       "    .dataframe thead th {\n",
       "        text-align: right;\n",
       "    }\n",
       "</style>\n",
       "<table border=\"1\" class=\"dataframe\">\n",
       "  <thead>\n",
       "    <tr style=\"text-align: right;\">\n",
       "      <th></th>\n",
       "      <th>UniqueID</th>\n",
       "      <th>disbursed_amount</th>\n",
       "      <th>asset_cost</th>\n",
       "      <th>ltv</th>\n",
       "      <th>branch_id</th>\n",
       "      <th>supplier_id</th>\n",
       "      <th>manufacturer_id</th>\n",
       "      <th>Current_pincode_ID</th>\n",
       "      <th>Date.of.Birth</th>\n",
       "      <th>Employment.Type</th>\n",
       "      <th>...</th>\n",
       "      <th>SEC.SANCTIONED.AMOUNT</th>\n",
       "      <th>SEC.DISBURSED.AMOUNT</th>\n",
       "      <th>PRIMARY.INSTAL.AMT</th>\n",
       "      <th>SEC.INSTAL.AMT</th>\n",
       "      <th>NEW.ACCTS.IN.LAST.SIX.MONTHS</th>\n",
       "      <th>DELINQUENT.ACCTS.IN.LAST.SIX.MONTHS</th>\n",
       "      <th>AVERAGE.ACCT.AGE</th>\n",
       "      <th>CREDIT.HISTORY.LENGTH</th>\n",
       "      <th>NO.OF_INQUIRIES</th>\n",
       "      <th>loan_default</th>\n",
       "    </tr>\n",
       "  </thead>\n",
       "  <tbody>\n",
       "    <tr>\n",
       "      <th>0</th>\n",
       "      <td>420825</td>\n",
       "      <td>50578</td>\n",
       "      <td>58400</td>\n",
       "      <td>89.55</td>\n",
       "      <td>67</td>\n",
       "      <td>22807</td>\n",
       "      <td>45</td>\n",
       "      <td>1441</td>\n",
       "      <td>01-01-84</td>\n",
       "      <td>Salaried</td>\n",
       "      <td>...</td>\n",
       "      <td>0</td>\n",
       "      <td>0</td>\n",
       "      <td>0</td>\n",
       "      <td>0</td>\n",
       "      <td>0</td>\n",
       "      <td>0</td>\n",
       "      <td>0yrs 0mon</td>\n",
       "      <td>0yrs 0mon</td>\n",
       "      <td>0</td>\n",
       "      <td>0</td>\n",
       "    </tr>\n",
       "    <tr>\n",
       "      <th>1</th>\n",
       "      <td>537409</td>\n",
       "      <td>47145</td>\n",
       "      <td>65550</td>\n",
       "      <td>73.23</td>\n",
       "      <td>67</td>\n",
       "      <td>22807</td>\n",
       "      <td>45</td>\n",
       "      <td>1502</td>\n",
       "      <td>31-07-85</td>\n",
       "      <td>Self employed</td>\n",
       "      <td>...</td>\n",
       "      <td>0</td>\n",
       "      <td>0</td>\n",
       "      <td>1991</td>\n",
       "      <td>0</td>\n",
       "      <td>0</td>\n",
       "      <td>1</td>\n",
       "      <td>1yrs 11mon</td>\n",
       "      <td>1yrs 11mon</td>\n",
       "      <td>0</td>\n",
       "      <td>1</td>\n",
       "    </tr>\n",
       "    <tr>\n",
       "      <th>2</th>\n",
       "      <td>417566</td>\n",
       "      <td>53278</td>\n",
       "      <td>61360</td>\n",
       "      <td>89.63</td>\n",
       "      <td>67</td>\n",
       "      <td>22807</td>\n",
       "      <td>45</td>\n",
       "      <td>1497</td>\n",
       "      <td>24-08-85</td>\n",
       "      <td>Self employed</td>\n",
       "      <td>...</td>\n",
       "      <td>0</td>\n",
       "      <td>0</td>\n",
       "      <td>0</td>\n",
       "      <td>0</td>\n",
       "      <td>0</td>\n",
       "      <td>0</td>\n",
       "      <td>0yrs 0mon</td>\n",
       "      <td>0yrs 0mon</td>\n",
       "      <td>0</td>\n",
       "      <td>0</td>\n",
       "    </tr>\n",
       "    <tr>\n",
       "      <th>3</th>\n",
       "      <td>624493</td>\n",
       "      <td>57513</td>\n",
       "      <td>66113</td>\n",
       "      <td>88.48</td>\n",
       "      <td>67</td>\n",
       "      <td>22807</td>\n",
       "      <td>45</td>\n",
       "      <td>1501</td>\n",
       "      <td>30-12-93</td>\n",
       "      <td>Self employed</td>\n",
       "      <td>...</td>\n",
       "      <td>0</td>\n",
       "      <td>0</td>\n",
       "      <td>31</td>\n",
       "      <td>0</td>\n",
       "      <td>0</td>\n",
       "      <td>0</td>\n",
       "      <td>0yrs 8mon</td>\n",
       "      <td>1yrs 3mon</td>\n",
       "      <td>1</td>\n",
       "      <td>1</td>\n",
       "    </tr>\n",
       "    <tr>\n",
       "      <th>4</th>\n",
       "      <td>539055</td>\n",
       "      <td>52378</td>\n",
       "      <td>60300</td>\n",
       "      <td>88.39</td>\n",
       "      <td>67</td>\n",
       "      <td>22807</td>\n",
       "      <td>45</td>\n",
       "      <td>1495</td>\n",
       "      <td>09-12-77</td>\n",
       "      <td>Self employed</td>\n",
       "      <td>...</td>\n",
       "      <td>0</td>\n",
       "      <td>0</td>\n",
       "      <td>0</td>\n",
       "      <td>0</td>\n",
       "      <td>0</td>\n",
       "      <td>0</td>\n",
       "      <td>0yrs 0mon</td>\n",
       "      <td>0yrs 0mon</td>\n",
       "      <td>1</td>\n",
       "      <td>1</td>\n",
       "    </tr>\n",
       "  </tbody>\n",
       "</table>\n",
       "<p>5 rows × 41 columns</p>\n",
       "</div>"
      ],
      "text/plain": [
       "   UniqueID  disbursed_amount  asset_cost    ltv  branch_id  supplier_id  \\\n",
       "0    420825             50578       58400  89.55         67        22807   \n",
       "1    537409             47145       65550  73.23         67        22807   \n",
       "2    417566             53278       61360  89.63         67        22807   \n",
       "3    624493             57513       66113  88.48         67        22807   \n",
       "4    539055             52378       60300  88.39         67        22807   \n",
       "\n",
       "   manufacturer_id  Current_pincode_ID Date.of.Birth Employment.Type  ...  \\\n",
       "0               45                1441      01-01-84        Salaried  ...   \n",
       "1               45                1502      31-07-85   Self employed  ...   \n",
       "2               45                1497      24-08-85   Self employed  ...   \n",
       "3               45                1501      30-12-93   Self employed  ...   \n",
       "4               45                1495      09-12-77   Self employed  ...   \n",
       "\n",
       "  SEC.SANCTIONED.AMOUNT  SEC.DISBURSED.AMOUNT  PRIMARY.INSTAL.AMT  \\\n",
       "0                     0                     0                   0   \n",
       "1                     0                     0                1991   \n",
       "2                     0                     0                   0   \n",
       "3                     0                     0                  31   \n",
       "4                     0                     0                   0   \n",
       "\n",
       "   SEC.INSTAL.AMT  NEW.ACCTS.IN.LAST.SIX.MONTHS  \\\n",
       "0               0                             0   \n",
       "1               0                             0   \n",
       "2               0                             0   \n",
       "3               0                             0   \n",
       "4               0                             0   \n",
       "\n",
       "   DELINQUENT.ACCTS.IN.LAST.SIX.MONTHS  AVERAGE.ACCT.AGE  \\\n",
       "0                                    0         0yrs 0mon   \n",
       "1                                    1        1yrs 11mon   \n",
       "2                                    0         0yrs 0mon   \n",
       "3                                    0         0yrs 8mon   \n",
       "4                                    0         0yrs 0mon   \n",
       "\n",
       "   CREDIT.HISTORY.LENGTH  NO.OF_INQUIRIES  loan_default  \n",
       "0              0yrs 0mon                0             0  \n",
       "1             1yrs 11mon                0             1  \n",
       "2              0yrs 0mon                0             0  \n",
       "3              1yrs 3mon                1             1  \n",
       "4              0yrs 0mon                1             1  \n",
       "\n",
       "[5 rows x 41 columns]"
      ]
     },
     "execution_count": 53,
     "metadata": {},
     "output_type": "execute_result"
    }
   ],
   "source": [
    "df = pd.read_csv('C:/Users/Tusha/OneDrive/Desktop/GL - DSE/capstone/Vehicle/train.csv')\n",
    "df.head()"
   ]
  },
  {
   "cell_type": "code",
   "execution_count": 54,
   "metadata": {},
   "outputs": [
    {
     "data": {
      "text/plain": [
       "(233154, 41)"
      ]
     },
     "execution_count": 54,
     "metadata": {},
     "output_type": "execute_result"
    }
   ],
   "source": [
    "df.shape"
   ]
  },
  {
   "cell_type": "code",
   "execution_count": 55,
   "metadata": {},
   "outputs": [
    {
     "name": "stdout",
     "output_type": "stream",
     "text": [
      "<class 'pandas.core.frame.DataFrame'>\n",
      "RangeIndex: 233154 entries, 0 to 233153\n",
      "Data columns (total 41 columns):\n",
      " #   Column                               Non-Null Count   Dtype  \n",
      "---  ------                               --------------   -----  \n",
      " 0   UniqueID                             233154 non-null  int64  \n",
      " 1   disbursed_amount                     233154 non-null  int64  \n",
      " 2   asset_cost                           233154 non-null  int64  \n",
      " 3   ltv                                  233154 non-null  float64\n",
      " 4   branch_id                            233154 non-null  int64  \n",
      " 5   supplier_id                          233154 non-null  int64  \n",
      " 6   manufacturer_id                      233154 non-null  int64  \n",
      " 7   Current_pincode_ID                   233154 non-null  int64  \n",
      " 8   Date.of.Birth                        233154 non-null  object \n",
      " 9   Employment.Type                      225493 non-null  object \n",
      " 10  DisbursalDate                        233154 non-null  object \n",
      " 11  State_ID                             233154 non-null  int64  \n",
      " 12  Employee_code_ID                     233154 non-null  int64  \n",
      " 13  MobileNo_Avl_Flag                    233154 non-null  int64  \n",
      " 14  Aadhar_flag                          233154 non-null  int64  \n",
      " 15  PAN_flag                             233154 non-null  int64  \n",
      " 16  VoterID_flag                         233154 non-null  int64  \n",
      " 17  Driving_flag                         233154 non-null  int64  \n",
      " 18  Passport_flag                        233154 non-null  int64  \n",
      " 19  PERFORM_CNS.SCORE                    233154 non-null  int64  \n",
      " 20  PERFORM_CNS.SCORE.DESCRIPTION        233154 non-null  object \n",
      " 21  PRI.NO.OF.ACCTS                      233154 non-null  int64  \n",
      " 22  PRI.ACTIVE.ACCTS                     233154 non-null  int64  \n",
      " 23  PRI.OVERDUE.ACCTS                    233154 non-null  int64  \n",
      " 24  PRI.CURRENT.BALANCE                  233154 non-null  int64  \n",
      " 25  PRI.SANCTIONED.AMOUNT                233154 non-null  int64  \n",
      " 26  PRI.DISBURSED.AMOUNT                 233154 non-null  int64  \n",
      " 27  SEC.NO.OF.ACCTS                      233154 non-null  int64  \n",
      " 28  SEC.ACTIVE.ACCTS                     233154 non-null  int64  \n",
      " 29  SEC.OVERDUE.ACCTS                    233154 non-null  int64  \n",
      " 30  SEC.CURRENT.BALANCE                  233154 non-null  int64  \n",
      " 31  SEC.SANCTIONED.AMOUNT                233154 non-null  int64  \n",
      " 32  SEC.DISBURSED.AMOUNT                 233154 non-null  int64  \n",
      " 33  PRIMARY.INSTAL.AMT                   233154 non-null  int64  \n",
      " 34  SEC.INSTAL.AMT                       233154 non-null  int64  \n",
      " 35  NEW.ACCTS.IN.LAST.SIX.MONTHS         233154 non-null  int64  \n",
      " 36  DELINQUENT.ACCTS.IN.LAST.SIX.MONTHS  233154 non-null  int64  \n",
      " 37  AVERAGE.ACCT.AGE                     233154 non-null  object \n",
      " 38  CREDIT.HISTORY.LENGTH                233154 non-null  object \n",
      " 39  NO.OF_INQUIRIES                      233154 non-null  int64  \n",
      " 40  loan_default                         233154 non-null  int64  \n",
      "dtypes: float64(1), int64(34), object(6)\n",
      "memory usage: 72.9+ MB\n"
     ]
    }
   ],
   "source": [
    "df.info()"
   ]
  },
  {
   "cell_type": "code",
   "execution_count": 56,
   "metadata": {},
   "outputs": [],
   "source": [
    "dfc = df.copy()"
   ]
  },
  {
   "cell_type": "code",
   "execution_count": 57,
   "metadata": {},
   "outputs": [],
   "source": [
    "#Data Transform"
   ]
  },
  {
   "cell_type": "code",
   "execution_count": 58,
   "metadata": {},
   "outputs": [
    {
     "data": {
      "text/plain": [
       "0     0yrs 0mon\n",
       "1    1yrs 11mon\n",
       "2     0yrs 0mon\n",
       "3     0yrs 8mon\n",
       "4     0yrs 0mon\n",
       "Name: AVERAGE.ACCT.AGE, dtype: object"
      ]
     },
     "execution_count": 58,
     "metadata": {},
     "output_type": "execute_result"
    }
   ],
   "source": [
    "dfc['AVERAGE.ACCT.AGE'].head()"
   ]
  },
  {
   "cell_type": "code",
   "execution_count": 59,
   "metadata": {},
   "outputs": [],
   "source": [
    "dfc[['AVERAGE_ACCT_Year','AVERAGE_ACCT_Month']] = dfc['AVERAGE.ACCT.AGE'].str.split(\"yrs\",expand=True)\n",
    "dfc[['AVERAGE_ACCT_Month','AVERAGE_ACCT_newMonth']] = dfc['AVERAGE_ACCT_Month'].str.split(\"mon\",expand=True)\n",
    "dfc[\"AVERAGE.ACCT.AGE\"]= dfc[\"AVERAGE_ACCT_Year\"].astype(str).astype(int)+((dfc[\"AVERAGE_ACCT_Month\"].astype(str).astype(int))/12)\n",
    "dfc = dfc.drop(columns= [\"AVERAGE_ACCT_Year\",\"AVERAGE_ACCT_Month\",'AVERAGE_ACCT_newMonth'])"
   ]
  },
  {
   "cell_type": "code",
   "execution_count": 60,
   "metadata": {},
   "outputs": [],
   "source": [
    "dfc['AVERAGE.ACCT.AGE'] = round(dfc['AVERAGE.ACCT.AGE'],2)"
   ]
  },
  {
   "cell_type": "code",
   "execution_count": 61,
   "metadata": {},
   "outputs": [
    {
     "data": {
      "text/plain": [
       "0    0.00\n",
       "1    1.92\n",
       "2    0.00\n",
       "3    0.67\n",
       "4    0.00\n",
       "Name: AVERAGE.ACCT.AGE, dtype: float64"
      ]
     },
     "execution_count": 61,
     "metadata": {},
     "output_type": "execute_result"
    }
   ],
   "source": [
    "dfc['AVERAGE.ACCT.AGE'].head()"
   ]
  },
  {
   "cell_type": "code",
   "execution_count": 62,
   "metadata": {},
   "outputs": [],
   "source": [
    "dfc[['CREDIT_HISTORY_LENGTH_Year','CREDIT_HISTORY_LENGTH_Month']] = dfc['CREDIT.HISTORY.LENGTH'].str.split(\"yrs\",expand=True)\n",
    "dfc[['CREDIT_HISTORY_LENGTH_Month','CREDIT_HISTORY_LENGTH_Month1']] = dfc['CREDIT_HISTORY_LENGTH_Month'].str.split(\"mon\",expand=True)\n",
    "dfc[\"CREDIT.HISTORY.LENGTH\"]= dfc[\"CREDIT_HISTORY_LENGTH_Year\"].astype(str).astype(int)+((dfc[\"CREDIT_HISTORY_LENGTH_Month\"].astype(str).astype(int))/12)\n",
    "dfc = dfc.drop(columns= [\"CREDIT_HISTORY_LENGTH_Year\",\"CREDIT_HISTORY_LENGTH_Month\",'CREDIT_HISTORY_LENGTH_Month1'])\n"
   ]
  },
  {
   "cell_type": "code",
   "execution_count": 63,
   "metadata": {},
   "outputs": [],
   "source": [
    "dfc['CREDIT.HISTORY.LENGTH'] = round(dfc['CREDIT.HISTORY.LENGTH'],2)"
   ]
  },
  {
   "cell_type": "code",
   "execution_count": 64,
   "metadata": {},
   "outputs": [
    {
     "data": {
      "text/plain": [
       "0    0.00\n",
       "1    1.92\n",
       "2    0.00\n",
       "3    1.25\n",
       "4    0.00\n",
       "Name: CREDIT.HISTORY.LENGTH, dtype: float64"
      ]
     },
     "execution_count": 64,
     "metadata": {},
     "output_type": "execute_result"
    }
   ],
   "source": [
    "dfc['CREDIT.HISTORY.LENGTH'].head()"
   ]
  },
  {
   "cell_type": "code",
   "execution_count": 65,
   "metadata": {},
   "outputs": [],
   "source": [
    "#data type conversion"
   ]
  },
  {
   "cell_type": "code",
   "execution_count": 66,
   "metadata": {},
   "outputs": [],
   "source": [
    "dfc['Passport_flag'] = dfc['Passport_flag'].astype('object')\n",
    "dfc['MobileNo_Avl_Flag'] = dfc['MobileNo_Avl_Flag'].astype('object')\n",
    "dfc['Aadhar_flag'] = dfc['Aadhar_flag'].astype('object')\n",
    "dfc['PAN_flag'] = dfc['PAN_flag'].astype('object')\n",
    "dfc['VoterID_flag'] = dfc['VoterID_flag'].astype('object')\n",
    "dfc['Driving_flag'] = dfc['Driving_flag'].astype('object')"
   ]
  },
  {
   "cell_type": "code",
   "execution_count": 67,
   "metadata": {},
   "outputs": [],
   "source": [
    "# change PERFORM_CNS.SCORE.DESCRIPTION with its frequency"
   ]
  },
  {
   "cell_type": "code",
   "execution_count": 68,
   "metadata": {},
   "outputs": [
    {
     "data": {
      "text/plain": [
       "{'No Bureau History Available': 116950,\n",
       " 'C-Very Low Risk': 16045,\n",
       " 'A-Very Low Risk': 14124,\n",
       " 'D-Very Low Risk': 11358,\n",
       " 'B-Very Low Risk': 9201,\n",
       " 'M-Very High Risk': 8776,\n",
       " 'F-Low Risk': 8485,\n",
       " 'K-High Risk': 8277,\n",
       " 'H-Medium Risk': 6855,\n",
       " 'E-Low Risk': 5821,\n",
       " 'I-Medium Risk': 5557,\n",
       " 'G-Low Risk': 3988,\n",
       " 'Not Scored: Sufficient History Not Available': 3765,\n",
       " 'J-High Risk': 3748,\n",
       " 'Not Scored: Not Enough Info available on the customer': 3672,\n",
       " 'Not Scored: No Activity seen on the customer (Inactive)': 2885,\n",
       " 'Not Scored: No Updates available in last 36 months': 1534,\n",
       " 'L-Very High Risk': 1134,\n",
       " 'Not Scored: Only a Guarantor': 976,\n",
       " 'Not Scored: More than 50 active Accounts found': 3}"
      ]
     },
     "execution_count": 68,
     "metadata": {},
     "output_type": "execute_result"
    }
   ],
   "source": [
    "k = dfc['PERFORM_CNS.SCORE.DESCRIPTION'].value_counts().index\n",
    "v = dfc['PERFORM_CNS.SCORE.DESCRIPTION'].value_counts().values\n",
    "dt = {}\n",
    "dt.update(zip(k,v)) \n",
    "dt"
   ]
  },
  {
   "cell_type": "code",
   "execution_count": 69,
   "metadata": {},
   "outputs": [],
   "source": [
    "dfc['PERFORM_CNS.SCORE.DESCRIPTION'] = dfc['PERFORM_CNS.SCORE.DESCRIPTION'].map(dt)"
   ]
  },
  {
   "cell_type": "code",
   "execution_count": 70,
   "metadata": {},
   "outputs": [],
   "source": [
    "# Bin PERFORM_CNS.SCORE with 6 categories and later use label encoding to encode it"
   ]
  },
  {
   "cell_type": "code",
   "execution_count": 71,
   "metadata": {},
   "outputs": [
    {
     "data": {
      "text/plain": [
       "0      0\n",
       "1    598\n",
       "2      0\n",
       "3    305\n",
       "4      0\n",
       "Name: PERFORM_CNS.SCORE, dtype: int64"
      ]
     },
     "execution_count": 71,
     "metadata": {},
     "output_type": "execute_result"
    }
   ],
   "source": [
    "dfc['PERFORM_CNS.SCORE'].head()"
   ]
  },
  {
   "cell_type": "code",
   "execution_count": 73,
   "metadata": {},
   "outputs": [],
   "source": [
    "dfc['PERFORM_CNS.SCORE'] = dfc['PERFORM_CNS.SCORE'].apply(lambda x: 'Risky' if (x>= 0) & (x <= 300) else 'Low' if (x>= 301) & (x <= 600) else 'Fair' if (x>= 601) & (x <= 700) else 'Good' if (x>= 701) & (x <= 760) else 'Better' if (x>= 761) & (x <= 800) else 'Exgood')"
   ]
  },
  {
   "cell_type": "code",
   "execution_count": 75,
   "metadata": {},
   "outputs": [
    {
     "data": {
      "text/plain": [
       "Index(['Risky', 'Good', 'Fair', 'Low', 'Exgood', 'Better'], dtype='object')"
      ]
     },
     "execution_count": 75,
     "metadata": {},
     "output_type": "execute_result"
    }
   ],
   "source": [
    "dfc['PERFORM_CNS.SCORE'].value_counts().index"
   ]
  },
  {
   "cell_type": "code",
   "execution_count": 76,
   "metadata": {},
   "outputs": [
    {
     "data": {
      "text/plain": [
       "{'Risky': 0, 'Good': 3, 'Fair': 2, 'Low': 1, 'Exgood': 5, 'Better': 4}"
      ]
     },
     "execution_count": 76,
     "metadata": {},
     "output_type": "execute_result"
    }
   ],
   "source": [
    "dt1 = {}\n",
    "k1 = dfc['PERFORM_CNS.SCORE'].value_counts().index\n",
    "v1 = [0,3,2,1,5,4]\n",
    "dt1.update(zip(k1,v1))\n",
    "dt1"
   ]
  },
  {
   "cell_type": "code",
   "execution_count": 77,
   "metadata": {},
   "outputs": [],
   "source": [
    "dfc['PERFORM_CNS.SCORE'] = dfc['PERFORM_CNS.SCORE'].map(dt1)"
   ]
  },
  {
   "cell_type": "code",
   "execution_count": 78,
   "metadata": {},
   "outputs": [
    {
     "data": {
      "text/plain": [
       "0    138561\n",
       "3     28252\n",
       "2     24300\n",
       "1     18716\n",
       "5     14373\n",
       "4      8952\n",
       "Name: PERFORM_CNS.SCORE, dtype: int64"
      ]
     },
     "execution_count": 78,
     "metadata": {},
     "output_type": "execute_result"
    }
   ],
   "source": [
    "dfc['PERFORM_CNS.SCORE'].value_counts()"
   ]
  },
  {
   "cell_type": "code",
   "execution_count": 80,
   "metadata": {},
   "outputs": [
    {
     "name": "stdout",
     "output_type": "stream",
     "text": [
      "(233154, 41)\n"
     ]
    }
   ],
   "source": [
    "print(dfc.shape)"
   ]
  },
  {
   "cell_type": "code",
   "execution_count": 79,
   "metadata": {},
   "outputs": [],
   "source": [
    "# Drop Unnecessary columns"
   ]
  },
  {
   "cell_type": "code",
   "execution_count": 81,
   "metadata": {},
   "outputs": [],
   "source": [
    "dfc = dfc.drop(['UniqueID','branch_id','supplier_id', 'manufacturer_id', 'Current_pincode_ID','State_ID','Employee_code_ID','Date.of.Birth','DisbursalDate'],axis = 1)"
   ]
  },
  {
   "cell_type": "code",
   "execution_count": 82,
   "metadata": {},
   "outputs": [
    {
     "name": "stdout",
     "output_type": "stream",
     "text": [
      "(233154, 32)\n"
     ]
    }
   ],
   "source": [
    "print(dfc.shape)"
   ]
  },
  {
   "cell_type": "code",
   "execution_count": 84,
   "metadata": {},
   "outputs": [],
   "source": [
    "dfc['PERFORM_CNS.SCORE'] = dfc['PERFORM_CNS.SCORE'].astype('object')"
   ]
  },
  {
   "cell_type": "code",
   "execution_count": 85,
   "metadata": {},
   "outputs": [
    {
     "name": "stdout",
     "output_type": "stream",
     "text": [
      "<class 'pandas.core.frame.DataFrame'>\n",
      "RangeIndex: 233154 entries, 0 to 233153\n",
      "Data columns (total 32 columns):\n",
      " #   Column                               Non-Null Count   Dtype  \n",
      "---  ------                               --------------   -----  \n",
      " 0   disbursed_amount                     233154 non-null  int64  \n",
      " 1   asset_cost                           233154 non-null  int64  \n",
      " 2   ltv                                  233154 non-null  float64\n",
      " 3   Employment.Type                      225493 non-null  object \n",
      " 4   MobileNo_Avl_Flag                    233154 non-null  object \n",
      " 5   Aadhar_flag                          233154 non-null  object \n",
      " 6   PAN_flag                             233154 non-null  object \n",
      " 7   VoterID_flag                         233154 non-null  object \n",
      " 8   Driving_flag                         233154 non-null  object \n",
      " 9   Passport_flag                        233154 non-null  object \n",
      " 10  PERFORM_CNS.SCORE                    233154 non-null  object \n",
      " 11  PERFORM_CNS.SCORE.DESCRIPTION        233154 non-null  int64  \n",
      " 12  PRI.NO.OF.ACCTS                      233154 non-null  int64  \n",
      " 13  PRI.ACTIVE.ACCTS                     233154 non-null  int64  \n",
      " 14  PRI.OVERDUE.ACCTS                    233154 non-null  int64  \n",
      " 15  PRI.CURRENT.BALANCE                  233154 non-null  int64  \n",
      " 16  PRI.SANCTIONED.AMOUNT                233154 non-null  int64  \n",
      " 17  PRI.DISBURSED.AMOUNT                 233154 non-null  int64  \n",
      " 18  SEC.NO.OF.ACCTS                      233154 non-null  int64  \n",
      " 19  SEC.ACTIVE.ACCTS                     233154 non-null  int64  \n",
      " 20  SEC.OVERDUE.ACCTS                    233154 non-null  int64  \n",
      " 21  SEC.CURRENT.BALANCE                  233154 non-null  int64  \n",
      " 22  SEC.SANCTIONED.AMOUNT                233154 non-null  int64  \n",
      " 23  SEC.DISBURSED.AMOUNT                 233154 non-null  int64  \n",
      " 24  PRIMARY.INSTAL.AMT                   233154 non-null  int64  \n",
      " 25  SEC.INSTAL.AMT                       233154 non-null  int64  \n",
      " 26  NEW.ACCTS.IN.LAST.SIX.MONTHS         233154 non-null  int64  \n",
      " 27  DELINQUENT.ACCTS.IN.LAST.SIX.MONTHS  233154 non-null  int64  \n",
      " 28  AVERAGE.ACCT.AGE                     233154 non-null  float64\n",
      " 29  CREDIT.HISTORY.LENGTH                233154 non-null  float64\n",
      " 30  NO.OF_INQUIRIES                      233154 non-null  int64  \n",
      " 31  loan_default                         233154 non-null  int64  \n",
      "dtypes: float64(3), int64(21), object(8)\n",
      "memory usage: 56.9+ MB\n"
     ]
    }
   ],
   "source": [
    "dfc.info()"
   ]
  },
  {
   "cell_type": "code",
   "execution_count": 86,
   "metadata": {},
   "outputs": [],
   "source": [
    "#using DFS (Deep Feature Synthesis)"
   ]
  },
  {
   "cell_type": "code",
   "execution_count": 87,
   "metadata": {},
   "outputs": [],
   "source": [
    "import featuretools as ft"
   ]
  },
  {
   "cell_type": "code",
   "execution_count": 88,
   "metadata": {},
   "outputs": [
    {
     "data": {
      "text/plain": [
       "Entityset: Loan_Prediction\n",
       "  Entities:\n",
       "  Relationships:\n",
       "    No relationships"
      ]
     },
     "execution_count": 88,
     "metadata": {},
     "output_type": "execute_result"
    }
   ],
   "source": [
    "es = ft.EntitySet(id = 'Loan_Prediction')\n",
    "es"
   ]
  },
  {
   "cell_type": "code",
   "execution_count": 89,
   "metadata": {},
   "outputs": [],
   "source": [
    "features = dfc.drop('loan_default', axis = 1)\n",
    "y = dfc['loan_default']"
   ]
  },
  {
   "cell_type": "code",
   "execution_count": 90,
   "metadata": {},
   "outputs": [
    {
     "data": {
      "text/plain": [
       "Entityset: Loan_Prediction\n",
       "  Entities:\n",
       "    data_1 [Rows: 233154, Columns: 32]\n",
       "  Relationships:\n",
       "    No relationships"
      ]
     },
     "execution_count": 90,
     "metadata": {},
     "output_type": "execute_result"
    }
   ],
   "source": [
    "es.entity_from_dataframe(entity_id = 'data_1', dataframe = features, make_index = True, index = 'Index')"
   ]
  },
  {
   "cell_type": "code",
   "execution_count": 92,
   "metadata": {},
   "outputs": [],
   "source": [
    "feature_matrix, feature_defs = ft.dfs(entityset = es, target_entity = 'data_1', max_depth = 1, \n",
    "                                     trans_primitives = ['add_numeric', 'multiply_numeric'])"
   ]
  },
  {
   "cell_type": "code",
   "execution_count": 93,
   "metadata": {},
   "outputs": [
    {
     "data": {
      "text/html": [
       "<div>\n",
       "<style scoped>\n",
       "    .dataframe tbody tr th:only-of-type {\n",
       "        vertical-align: middle;\n",
       "    }\n",
       "\n",
       "    .dataframe tbody tr th {\n",
       "        vertical-align: top;\n",
       "    }\n",
       "\n",
       "    .dataframe thead th {\n",
       "        text-align: right;\n",
       "    }\n",
       "</style>\n",
       "<table border=\"1\" class=\"dataframe\">\n",
       "  <thead>\n",
       "    <tr style=\"text-align: right;\">\n",
       "      <th></th>\n",
       "      <th>disbursed_amount</th>\n",
       "      <th>asset_cost</th>\n",
       "      <th>ltv</th>\n",
       "      <th>Employment.Type</th>\n",
       "      <th>MobileNo_Avl_Flag</th>\n",
       "      <th>Aadhar_flag</th>\n",
       "      <th>PAN_flag</th>\n",
       "      <th>VoterID_flag</th>\n",
       "      <th>Driving_flag</th>\n",
       "      <th>Passport_flag</th>\n",
       "      <th>...</th>\n",
       "      <th>ltv * PRI.OVERDUE.ACCTS</th>\n",
       "      <th>ltv * PRI.SANCTIONED.AMOUNT</th>\n",
       "      <th>ltv * PRIMARY.INSTAL.AMT</th>\n",
       "      <th>ltv * SEC.ACTIVE.ACCTS</th>\n",
       "      <th>ltv * SEC.CURRENT.BALANCE</th>\n",
       "      <th>ltv * SEC.DISBURSED.AMOUNT</th>\n",
       "      <th>ltv * SEC.INSTAL.AMT</th>\n",
       "      <th>ltv * SEC.NO.OF.ACCTS</th>\n",
       "      <th>ltv * SEC.OVERDUE.ACCTS</th>\n",
       "      <th>ltv * SEC.SANCTIONED.AMOUNT</th>\n",
       "    </tr>\n",
       "    <tr>\n",
       "      <th>Index</th>\n",
       "      <th></th>\n",
       "      <th></th>\n",
       "      <th></th>\n",
       "      <th></th>\n",
       "      <th></th>\n",
       "      <th></th>\n",
       "      <th></th>\n",
       "      <th></th>\n",
       "      <th></th>\n",
       "      <th></th>\n",
       "      <th></th>\n",
       "      <th></th>\n",
       "      <th></th>\n",
       "      <th></th>\n",
       "      <th></th>\n",
       "      <th></th>\n",
       "      <th></th>\n",
       "      <th></th>\n",
       "      <th></th>\n",
       "      <th></th>\n",
       "      <th></th>\n",
       "    </tr>\n",
       "  </thead>\n",
       "  <tbody>\n",
       "    <tr>\n",
       "      <th>0</th>\n",
       "      <td>50578</td>\n",
       "      <td>58400</td>\n",
       "      <td>89.55</td>\n",
       "      <td>Salaried</td>\n",
       "      <td>1</td>\n",
       "      <td>1</td>\n",
       "      <td>0</td>\n",
       "      <td>0</td>\n",
       "      <td>0</td>\n",
       "      <td>0</td>\n",
       "      <td>...</td>\n",
       "      <td>0.00</td>\n",
       "      <td>0.0</td>\n",
       "      <td>0.00</td>\n",
       "      <td>0.0</td>\n",
       "      <td>0.0</td>\n",
       "      <td>0.0</td>\n",
       "      <td>0.0</td>\n",
       "      <td>0.0</td>\n",
       "      <td>0.0</td>\n",
       "      <td>0.0</td>\n",
       "    </tr>\n",
       "    <tr>\n",
       "      <th>1</th>\n",
       "      <td>47145</td>\n",
       "      <td>65550</td>\n",
       "      <td>73.23</td>\n",
       "      <td>Self employed</td>\n",
       "      <td>1</td>\n",
       "      <td>1</td>\n",
       "      <td>0</td>\n",
       "      <td>0</td>\n",
       "      <td>0</td>\n",
       "      <td>0</td>\n",
       "      <td>...</td>\n",
       "      <td>73.23</td>\n",
       "      <td>3676146.0</td>\n",
       "      <td>145800.93</td>\n",
       "      <td>0.0</td>\n",
       "      <td>0.0</td>\n",
       "      <td>0.0</td>\n",
       "      <td>0.0</td>\n",
       "      <td>0.0</td>\n",
       "      <td>0.0</td>\n",
       "      <td>0.0</td>\n",
       "    </tr>\n",
       "    <tr>\n",
       "      <th>2</th>\n",
       "      <td>53278</td>\n",
       "      <td>61360</td>\n",
       "      <td>89.63</td>\n",
       "      <td>Self employed</td>\n",
       "      <td>1</td>\n",
       "      <td>1</td>\n",
       "      <td>0</td>\n",
       "      <td>0</td>\n",
       "      <td>0</td>\n",
       "      <td>0</td>\n",
       "      <td>...</td>\n",
       "      <td>0.00</td>\n",
       "      <td>0.0</td>\n",
       "      <td>0.00</td>\n",
       "      <td>0.0</td>\n",
       "      <td>0.0</td>\n",
       "      <td>0.0</td>\n",
       "      <td>0.0</td>\n",
       "      <td>0.0</td>\n",
       "      <td>0.0</td>\n",
       "      <td>0.0</td>\n",
       "    </tr>\n",
       "    <tr>\n",
       "      <th>3</th>\n",
       "      <td>57513</td>\n",
       "      <td>66113</td>\n",
       "      <td>88.48</td>\n",
       "      <td>Self employed</td>\n",
       "      <td>1</td>\n",
       "      <td>1</td>\n",
       "      <td>0</td>\n",
       "      <td>0</td>\n",
       "      <td>0</td>\n",
       "      <td>0</td>\n",
       "      <td>...</td>\n",
       "      <td>0.00</td>\n",
       "      <td>0.0</td>\n",
       "      <td>2742.88</td>\n",
       "      <td>0.0</td>\n",
       "      <td>0.0</td>\n",
       "      <td>0.0</td>\n",
       "      <td>0.0</td>\n",
       "      <td>0.0</td>\n",
       "      <td>0.0</td>\n",
       "      <td>0.0</td>\n",
       "    </tr>\n",
       "    <tr>\n",
       "      <th>4</th>\n",
       "      <td>52378</td>\n",
       "      <td>60300</td>\n",
       "      <td>88.39</td>\n",
       "      <td>Self employed</td>\n",
       "      <td>1</td>\n",
       "      <td>1</td>\n",
       "      <td>0</td>\n",
       "      <td>0</td>\n",
       "      <td>0</td>\n",
       "      <td>0</td>\n",
       "      <td>...</td>\n",
       "      <td>0.00</td>\n",
       "      <td>0.0</td>\n",
       "      <td>0.00</td>\n",
       "      <td>0.0</td>\n",
       "      <td>0.0</td>\n",
       "      <td>0.0</td>\n",
       "      <td>0.0</td>\n",
       "      <td>0.0</td>\n",
       "      <td>0.0</td>\n",
       "      <td>0.0</td>\n",
       "    </tr>\n",
       "  </tbody>\n",
       "</table>\n",
       "<p>5 rows × 537 columns</p>\n",
       "</div>"
      ],
      "text/plain": [
       "       disbursed_amount  asset_cost    ltv Employment.Type MobileNo_Avl_Flag  \\\n",
       "Index                                                                          \n",
       "0                 50578       58400  89.55        Salaried                 1   \n",
       "1                 47145       65550  73.23   Self employed                 1   \n",
       "2                 53278       61360  89.63   Self employed                 1   \n",
       "3                 57513       66113  88.48   Self employed                 1   \n",
       "4                 52378       60300  88.39   Self employed                 1   \n",
       "\n",
       "      Aadhar_flag PAN_flag VoterID_flag Driving_flag Passport_flag  ...  \\\n",
       "Index                                                               ...   \n",
       "0               1        0            0            0             0  ...   \n",
       "1               1        0            0            0             0  ...   \n",
       "2               1        0            0            0             0  ...   \n",
       "3               1        0            0            0             0  ...   \n",
       "4               1        0            0            0             0  ...   \n",
       "\n",
       "      ltv * PRI.OVERDUE.ACCTS  ltv * PRI.SANCTIONED.AMOUNT  \\\n",
       "Index                                                        \n",
       "0                        0.00                          0.0   \n",
       "1                       73.23                    3676146.0   \n",
       "2                        0.00                          0.0   \n",
       "3                        0.00                          0.0   \n",
       "4                        0.00                          0.0   \n",
       "\n",
       "       ltv * PRIMARY.INSTAL.AMT  ltv * SEC.ACTIVE.ACCTS  \\\n",
       "Index                                                     \n",
       "0                          0.00                     0.0   \n",
       "1                     145800.93                     0.0   \n",
       "2                          0.00                     0.0   \n",
       "3                       2742.88                     0.0   \n",
       "4                          0.00                     0.0   \n",
       "\n",
       "       ltv * SEC.CURRENT.BALANCE  ltv * SEC.DISBURSED.AMOUNT  \\\n",
       "Index                                                          \n",
       "0                            0.0                         0.0   \n",
       "1                            0.0                         0.0   \n",
       "2                            0.0                         0.0   \n",
       "3                            0.0                         0.0   \n",
       "4                            0.0                         0.0   \n",
       "\n",
       "       ltv * SEC.INSTAL.AMT  ltv * SEC.NO.OF.ACCTS  ltv * SEC.OVERDUE.ACCTS  \\\n",
       "Index                                                                         \n",
       "0                       0.0                    0.0                      0.0   \n",
       "1                       0.0                    0.0                      0.0   \n",
       "2                       0.0                    0.0                      0.0   \n",
       "3                       0.0                    0.0                      0.0   \n",
       "4                       0.0                    0.0                      0.0   \n",
       "\n",
       "       ltv * SEC.SANCTIONED.AMOUNT  \n",
       "Index                               \n",
       "0                              0.0  \n",
       "1                              0.0  \n",
       "2                              0.0  \n",
       "3                              0.0  \n",
       "4                              0.0  \n",
       "\n",
       "[5 rows x 537 columns]"
      ]
     },
     "execution_count": 93,
     "metadata": {},
     "output_type": "execute_result"
    }
   ],
   "source": [
    "feature_matrix.head()"
   ]
  },
  {
   "cell_type": "code",
   "execution_count": 94,
   "metadata": {},
   "outputs": [
    {
     "data": {
      "text/plain": [
       "[<Feature: disbursed_amount>,\n",
       " <Feature: asset_cost>,\n",
       " <Feature: ltv>,\n",
       " <Feature: Employment.Type>,\n",
       " <Feature: MobileNo_Avl_Flag>,\n",
       " <Feature: Aadhar_flag>,\n",
       " <Feature: PAN_flag>,\n",
       " <Feature: VoterID_flag>,\n",
       " <Feature: Driving_flag>,\n",
       " <Feature: Passport_flag>,\n",
       " <Feature: PERFORM_CNS.SCORE>,\n",
       " <Feature: PERFORM_CNS.SCORE.DESCRIPTION>,\n",
       " <Feature: PRI.NO.OF.ACCTS>,\n",
       " <Feature: PRI.ACTIVE.ACCTS>,\n",
       " <Feature: PRI.OVERDUE.ACCTS>,\n",
       " <Feature: PRI.CURRENT.BALANCE>,\n",
       " <Feature: PRI.SANCTIONED.AMOUNT>,\n",
       " <Feature: PRI.DISBURSED.AMOUNT>,\n",
       " <Feature: SEC.NO.OF.ACCTS>,\n",
       " <Feature: SEC.ACTIVE.ACCTS>,\n",
       " <Feature: SEC.OVERDUE.ACCTS>,\n",
       " <Feature: SEC.CURRENT.BALANCE>,\n",
       " <Feature: SEC.SANCTIONED.AMOUNT>,\n",
       " <Feature: SEC.DISBURSED.AMOUNT>,\n",
       " <Feature: PRIMARY.INSTAL.AMT>,\n",
       " <Feature: SEC.INSTAL.AMT>,\n",
       " <Feature: NEW.ACCTS.IN.LAST.SIX.MONTHS>,\n",
       " <Feature: DELINQUENT.ACCTS.IN.LAST.SIX.MONTHS>,\n",
       " <Feature: AVERAGE.ACCT.AGE>,\n",
       " <Feature: CREDIT.HISTORY.LENGTH>,\n",
       " <Feature: NO.OF_INQUIRIES>,\n",
       " <Feature: AVERAGE.ACCT.AGE + CREDIT.HISTORY.LENGTH>,\n",
       " <Feature: AVERAGE.ACCT.AGE + DELINQUENT.ACCTS.IN.LAST.SIX.MONTHS>,\n",
       " <Feature: AVERAGE.ACCT.AGE + NEW.ACCTS.IN.LAST.SIX.MONTHS>,\n",
       " <Feature: AVERAGE.ACCT.AGE + NO.OF_INQUIRIES>,\n",
       " <Feature: AVERAGE.ACCT.AGE + PERFORM_CNS.SCORE.DESCRIPTION>,\n",
       " <Feature: AVERAGE.ACCT.AGE + PRI.ACTIVE.ACCTS>,\n",
       " <Feature: AVERAGE.ACCT.AGE + PRI.CURRENT.BALANCE>,\n",
       " <Feature: AVERAGE.ACCT.AGE + PRI.DISBURSED.AMOUNT>,\n",
       " <Feature: AVERAGE.ACCT.AGE + PRI.NO.OF.ACCTS>,\n",
       " <Feature: AVERAGE.ACCT.AGE + PRI.OVERDUE.ACCTS>,\n",
       " <Feature: AVERAGE.ACCT.AGE + PRI.SANCTIONED.AMOUNT>,\n",
       " <Feature: AVERAGE.ACCT.AGE + PRIMARY.INSTAL.AMT>,\n",
       " <Feature: AVERAGE.ACCT.AGE + SEC.ACTIVE.ACCTS>,\n",
       " <Feature: AVERAGE.ACCT.AGE + SEC.CURRENT.BALANCE>,\n",
       " <Feature: AVERAGE.ACCT.AGE + SEC.DISBURSED.AMOUNT>,\n",
       " <Feature: AVERAGE.ACCT.AGE + SEC.INSTAL.AMT>,\n",
       " <Feature: AVERAGE.ACCT.AGE + SEC.NO.OF.ACCTS>,\n",
       " <Feature: AVERAGE.ACCT.AGE + SEC.OVERDUE.ACCTS>,\n",
       " <Feature: AVERAGE.ACCT.AGE + SEC.SANCTIONED.AMOUNT>,\n",
       " <Feature: AVERAGE.ACCT.AGE + disbursed_amount>,\n",
       " <Feature: AVERAGE.ACCT.AGE + ltv>,\n",
       " <Feature: CREDIT.HISTORY.LENGTH + DELINQUENT.ACCTS.IN.LAST.SIX.MONTHS>,\n",
       " <Feature: CREDIT.HISTORY.LENGTH + NEW.ACCTS.IN.LAST.SIX.MONTHS>,\n",
       " <Feature: CREDIT.HISTORY.LENGTH + NO.OF_INQUIRIES>,\n",
       " <Feature: CREDIT.HISTORY.LENGTH + PERFORM_CNS.SCORE.DESCRIPTION>,\n",
       " <Feature: CREDIT.HISTORY.LENGTH + PRI.ACTIVE.ACCTS>,\n",
       " <Feature: CREDIT.HISTORY.LENGTH + PRI.CURRENT.BALANCE>,\n",
       " <Feature: CREDIT.HISTORY.LENGTH + PRI.DISBURSED.AMOUNT>,\n",
       " <Feature: CREDIT.HISTORY.LENGTH + PRI.NO.OF.ACCTS>,\n",
       " <Feature: CREDIT.HISTORY.LENGTH + PRI.OVERDUE.ACCTS>,\n",
       " <Feature: CREDIT.HISTORY.LENGTH + PRI.SANCTIONED.AMOUNT>,\n",
       " <Feature: CREDIT.HISTORY.LENGTH + PRIMARY.INSTAL.AMT>,\n",
       " <Feature: CREDIT.HISTORY.LENGTH + SEC.ACTIVE.ACCTS>,\n",
       " <Feature: CREDIT.HISTORY.LENGTH + SEC.CURRENT.BALANCE>,\n",
       " <Feature: CREDIT.HISTORY.LENGTH + SEC.DISBURSED.AMOUNT>,\n",
       " <Feature: CREDIT.HISTORY.LENGTH + SEC.INSTAL.AMT>,\n",
       " <Feature: CREDIT.HISTORY.LENGTH + SEC.NO.OF.ACCTS>,\n",
       " <Feature: CREDIT.HISTORY.LENGTH + SEC.OVERDUE.ACCTS>,\n",
       " <Feature: CREDIT.HISTORY.LENGTH + SEC.SANCTIONED.AMOUNT>,\n",
       " <Feature: CREDIT.HISTORY.LENGTH + disbursed_amount>,\n",
       " <Feature: CREDIT.HISTORY.LENGTH + ltv>,\n",
       " <Feature: DELINQUENT.ACCTS.IN.LAST.SIX.MONTHS + NEW.ACCTS.IN.LAST.SIX.MONTHS>,\n",
       " <Feature: DELINQUENT.ACCTS.IN.LAST.SIX.MONTHS + NO.OF_INQUIRIES>,\n",
       " <Feature: DELINQUENT.ACCTS.IN.LAST.SIX.MONTHS + PERFORM_CNS.SCORE.DESCRIPTION>,\n",
       " <Feature: DELINQUENT.ACCTS.IN.LAST.SIX.MONTHS + PRI.ACTIVE.ACCTS>,\n",
       " <Feature: DELINQUENT.ACCTS.IN.LAST.SIX.MONTHS + PRI.CURRENT.BALANCE>,\n",
       " <Feature: DELINQUENT.ACCTS.IN.LAST.SIX.MONTHS + PRI.DISBURSED.AMOUNT>,\n",
       " <Feature: DELINQUENT.ACCTS.IN.LAST.SIX.MONTHS + PRI.NO.OF.ACCTS>,\n",
       " <Feature: DELINQUENT.ACCTS.IN.LAST.SIX.MONTHS + PRI.OVERDUE.ACCTS>,\n",
       " <Feature: DELINQUENT.ACCTS.IN.LAST.SIX.MONTHS + PRI.SANCTIONED.AMOUNT>,\n",
       " <Feature: DELINQUENT.ACCTS.IN.LAST.SIX.MONTHS + PRIMARY.INSTAL.AMT>,\n",
       " <Feature: DELINQUENT.ACCTS.IN.LAST.SIX.MONTHS + SEC.ACTIVE.ACCTS>,\n",
       " <Feature: DELINQUENT.ACCTS.IN.LAST.SIX.MONTHS + SEC.CURRENT.BALANCE>,\n",
       " <Feature: DELINQUENT.ACCTS.IN.LAST.SIX.MONTHS + SEC.DISBURSED.AMOUNT>,\n",
       " <Feature: DELINQUENT.ACCTS.IN.LAST.SIX.MONTHS + SEC.INSTAL.AMT>,\n",
       " <Feature: DELINQUENT.ACCTS.IN.LAST.SIX.MONTHS + SEC.NO.OF.ACCTS>,\n",
       " <Feature: DELINQUENT.ACCTS.IN.LAST.SIX.MONTHS + SEC.OVERDUE.ACCTS>,\n",
       " <Feature: DELINQUENT.ACCTS.IN.LAST.SIX.MONTHS + SEC.SANCTIONED.AMOUNT>,\n",
       " <Feature: DELINQUENT.ACCTS.IN.LAST.SIX.MONTHS + disbursed_amount>,\n",
       " <Feature: DELINQUENT.ACCTS.IN.LAST.SIX.MONTHS + ltv>,\n",
       " <Feature: NEW.ACCTS.IN.LAST.SIX.MONTHS + NO.OF_INQUIRIES>,\n",
       " <Feature: NEW.ACCTS.IN.LAST.SIX.MONTHS + PERFORM_CNS.SCORE.DESCRIPTION>,\n",
       " <Feature: NEW.ACCTS.IN.LAST.SIX.MONTHS + PRI.ACTIVE.ACCTS>,\n",
       " <Feature: NEW.ACCTS.IN.LAST.SIX.MONTHS + PRI.CURRENT.BALANCE>,\n",
       " <Feature: NEW.ACCTS.IN.LAST.SIX.MONTHS + PRI.DISBURSED.AMOUNT>,\n",
       " <Feature: NEW.ACCTS.IN.LAST.SIX.MONTHS + PRI.NO.OF.ACCTS>,\n",
       " <Feature: NEW.ACCTS.IN.LAST.SIX.MONTHS + PRI.OVERDUE.ACCTS>,\n",
       " <Feature: NEW.ACCTS.IN.LAST.SIX.MONTHS + PRI.SANCTIONED.AMOUNT>,\n",
       " <Feature: NEW.ACCTS.IN.LAST.SIX.MONTHS + PRIMARY.INSTAL.AMT>,\n",
       " <Feature: NEW.ACCTS.IN.LAST.SIX.MONTHS + SEC.ACTIVE.ACCTS>,\n",
       " <Feature: NEW.ACCTS.IN.LAST.SIX.MONTHS + SEC.CURRENT.BALANCE>,\n",
       " <Feature: NEW.ACCTS.IN.LAST.SIX.MONTHS + SEC.DISBURSED.AMOUNT>,\n",
       " <Feature: NEW.ACCTS.IN.LAST.SIX.MONTHS + SEC.INSTAL.AMT>,\n",
       " <Feature: NEW.ACCTS.IN.LAST.SIX.MONTHS + SEC.NO.OF.ACCTS>,\n",
       " <Feature: NEW.ACCTS.IN.LAST.SIX.MONTHS + SEC.OVERDUE.ACCTS>,\n",
       " <Feature: NEW.ACCTS.IN.LAST.SIX.MONTHS + SEC.SANCTIONED.AMOUNT>,\n",
       " <Feature: NO.OF_INQUIRIES + PERFORM_CNS.SCORE.DESCRIPTION>,\n",
       " <Feature: NO.OF_INQUIRIES + PRI.ACTIVE.ACCTS>,\n",
       " <Feature: NO.OF_INQUIRIES + PRI.CURRENT.BALANCE>,\n",
       " <Feature: NO.OF_INQUIRIES + PRI.DISBURSED.AMOUNT>,\n",
       " <Feature: NO.OF_INQUIRIES + PRI.NO.OF.ACCTS>,\n",
       " <Feature: NO.OF_INQUIRIES + PRI.OVERDUE.ACCTS>,\n",
       " <Feature: NO.OF_INQUIRIES + PRI.SANCTIONED.AMOUNT>,\n",
       " <Feature: NO.OF_INQUIRIES + PRIMARY.INSTAL.AMT>,\n",
       " <Feature: NO.OF_INQUIRIES + SEC.ACTIVE.ACCTS>,\n",
       " <Feature: NO.OF_INQUIRIES + SEC.CURRENT.BALANCE>,\n",
       " <Feature: NO.OF_INQUIRIES + SEC.DISBURSED.AMOUNT>,\n",
       " <Feature: NO.OF_INQUIRIES + SEC.INSTAL.AMT>,\n",
       " <Feature: NO.OF_INQUIRIES + SEC.NO.OF.ACCTS>,\n",
       " <Feature: NO.OF_INQUIRIES + SEC.OVERDUE.ACCTS>,\n",
       " <Feature: NO.OF_INQUIRIES + SEC.SANCTIONED.AMOUNT>,\n",
       " <Feature: PERFORM_CNS.SCORE.DESCRIPTION + PRI.ACTIVE.ACCTS>,\n",
       " <Feature: PERFORM_CNS.SCORE.DESCRIPTION + PRI.CURRENT.BALANCE>,\n",
       " <Feature: PERFORM_CNS.SCORE.DESCRIPTION + PRI.DISBURSED.AMOUNT>,\n",
       " <Feature: PERFORM_CNS.SCORE.DESCRIPTION + PRI.NO.OF.ACCTS>,\n",
       " <Feature: PERFORM_CNS.SCORE.DESCRIPTION + PRI.OVERDUE.ACCTS>,\n",
       " <Feature: PERFORM_CNS.SCORE.DESCRIPTION + PRI.SANCTIONED.AMOUNT>,\n",
       " <Feature: PERFORM_CNS.SCORE.DESCRIPTION + PRIMARY.INSTAL.AMT>,\n",
       " <Feature: PERFORM_CNS.SCORE.DESCRIPTION + SEC.ACTIVE.ACCTS>,\n",
       " <Feature: PERFORM_CNS.SCORE.DESCRIPTION + SEC.CURRENT.BALANCE>,\n",
       " <Feature: PERFORM_CNS.SCORE.DESCRIPTION + SEC.DISBURSED.AMOUNT>,\n",
       " <Feature: PERFORM_CNS.SCORE.DESCRIPTION + SEC.INSTAL.AMT>,\n",
       " <Feature: PERFORM_CNS.SCORE.DESCRIPTION + SEC.NO.OF.ACCTS>,\n",
       " <Feature: PERFORM_CNS.SCORE.DESCRIPTION + SEC.OVERDUE.ACCTS>,\n",
       " <Feature: PERFORM_CNS.SCORE.DESCRIPTION + SEC.SANCTIONED.AMOUNT>,\n",
       " <Feature: PRI.ACTIVE.ACCTS + PRI.CURRENT.BALANCE>,\n",
       " <Feature: PRI.ACTIVE.ACCTS + PRI.DISBURSED.AMOUNT>,\n",
       " <Feature: PRI.ACTIVE.ACCTS + PRI.NO.OF.ACCTS>,\n",
       " <Feature: PRI.ACTIVE.ACCTS + PRI.OVERDUE.ACCTS>,\n",
       " <Feature: PRI.ACTIVE.ACCTS + PRI.SANCTIONED.AMOUNT>,\n",
       " <Feature: PRI.ACTIVE.ACCTS + PRIMARY.INSTAL.AMT>,\n",
       " <Feature: PRI.ACTIVE.ACCTS + SEC.ACTIVE.ACCTS>,\n",
       " <Feature: PRI.ACTIVE.ACCTS + SEC.CURRENT.BALANCE>,\n",
       " <Feature: PRI.ACTIVE.ACCTS + SEC.DISBURSED.AMOUNT>,\n",
       " <Feature: PRI.ACTIVE.ACCTS + SEC.INSTAL.AMT>,\n",
       " <Feature: PRI.ACTIVE.ACCTS + SEC.NO.OF.ACCTS>,\n",
       " <Feature: PRI.ACTIVE.ACCTS + SEC.OVERDUE.ACCTS>,\n",
       " <Feature: PRI.ACTIVE.ACCTS + SEC.SANCTIONED.AMOUNT>,\n",
       " <Feature: PRI.CURRENT.BALANCE + PRI.DISBURSED.AMOUNT>,\n",
       " <Feature: PRI.CURRENT.BALANCE + PRI.NO.OF.ACCTS>,\n",
       " <Feature: PRI.CURRENT.BALANCE + PRI.OVERDUE.ACCTS>,\n",
       " <Feature: PRI.CURRENT.BALANCE + PRI.SANCTIONED.AMOUNT>,\n",
       " <Feature: PRI.CURRENT.BALANCE + PRIMARY.INSTAL.AMT>,\n",
       " <Feature: PRI.CURRENT.BALANCE + SEC.ACTIVE.ACCTS>,\n",
       " <Feature: PRI.CURRENT.BALANCE + SEC.CURRENT.BALANCE>,\n",
       " <Feature: PRI.CURRENT.BALANCE + SEC.DISBURSED.AMOUNT>,\n",
       " <Feature: PRI.CURRENT.BALANCE + SEC.INSTAL.AMT>,\n",
       " <Feature: PRI.CURRENT.BALANCE + SEC.NO.OF.ACCTS>,\n",
       " <Feature: PRI.CURRENT.BALANCE + SEC.OVERDUE.ACCTS>,\n",
       " <Feature: PRI.CURRENT.BALANCE + SEC.SANCTIONED.AMOUNT>,\n",
       " <Feature: PRI.DISBURSED.AMOUNT + PRI.NO.OF.ACCTS>,\n",
       " <Feature: PRI.DISBURSED.AMOUNT + PRI.OVERDUE.ACCTS>,\n",
       " <Feature: PRI.DISBURSED.AMOUNT + PRI.SANCTIONED.AMOUNT>,\n",
       " <Feature: PRI.DISBURSED.AMOUNT + PRIMARY.INSTAL.AMT>,\n",
       " <Feature: PRI.DISBURSED.AMOUNT + SEC.ACTIVE.ACCTS>,\n",
       " <Feature: PRI.DISBURSED.AMOUNT + SEC.CURRENT.BALANCE>,\n",
       " <Feature: PRI.DISBURSED.AMOUNT + SEC.DISBURSED.AMOUNT>,\n",
       " <Feature: PRI.DISBURSED.AMOUNT + SEC.INSTAL.AMT>,\n",
       " <Feature: PRI.DISBURSED.AMOUNT + SEC.NO.OF.ACCTS>,\n",
       " <Feature: PRI.DISBURSED.AMOUNT + SEC.OVERDUE.ACCTS>,\n",
       " <Feature: PRI.DISBURSED.AMOUNT + SEC.SANCTIONED.AMOUNT>,\n",
       " <Feature: PRI.NO.OF.ACCTS + PRI.OVERDUE.ACCTS>,\n",
       " <Feature: PRI.NO.OF.ACCTS + PRI.SANCTIONED.AMOUNT>,\n",
       " <Feature: PRI.NO.OF.ACCTS + PRIMARY.INSTAL.AMT>,\n",
       " <Feature: PRI.NO.OF.ACCTS + SEC.ACTIVE.ACCTS>,\n",
       " <Feature: PRI.NO.OF.ACCTS + SEC.CURRENT.BALANCE>,\n",
       " <Feature: PRI.NO.OF.ACCTS + SEC.DISBURSED.AMOUNT>,\n",
       " <Feature: PRI.NO.OF.ACCTS + SEC.INSTAL.AMT>,\n",
       " <Feature: PRI.NO.OF.ACCTS + SEC.NO.OF.ACCTS>,\n",
       " <Feature: PRI.NO.OF.ACCTS + SEC.OVERDUE.ACCTS>,\n",
       " <Feature: PRI.NO.OF.ACCTS + SEC.SANCTIONED.AMOUNT>,\n",
       " <Feature: PRI.OVERDUE.ACCTS + PRI.SANCTIONED.AMOUNT>,\n",
       " <Feature: PRI.OVERDUE.ACCTS + PRIMARY.INSTAL.AMT>,\n",
       " <Feature: PRI.OVERDUE.ACCTS + SEC.ACTIVE.ACCTS>,\n",
       " <Feature: PRI.OVERDUE.ACCTS + SEC.CURRENT.BALANCE>,\n",
       " <Feature: PRI.OVERDUE.ACCTS + SEC.DISBURSED.AMOUNT>,\n",
       " <Feature: PRI.OVERDUE.ACCTS + SEC.INSTAL.AMT>,\n",
       " <Feature: PRI.OVERDUE.ACCTS + SEC.NO.OF.ACCTS>,\n",
       " <Feature: PRI.OVERDUE.ACCTS + SEC.OVERDUE.ACCTS>,\n",
       " <Feature: PRI.OVERDUE.ACCTS + SEC.SANCTIONED.AMOUNT>,\n",
       " <Feature: PRI.SANCTIONED.AMOUNT + PRIMARY.INSTAL.AMT>,\n",
       " <Feature: PRI.SANCTIONED.AMOUNT + SEC.ACTIVE.ACCTS>,\n",
       " <Feature: PRI.SANCTIONED.AMOUNT + SEC.CURRENT.BALANCE>,\n",
       " <Feature: PRI.SANCTIONED.AMOUNT + SEC.DISBURSED.AMOUNT>,\n",
       " <Feature: PRI.SANCTIONED.AMOUNT + SEC.INSTAL.AMT>,\n",
       " <Feature: PRI.SANCTIONED.AMOUNT + SEC.NO.OF.ACCTS>,\n",
       " <Feature: PRI.SANCTIONED.AMOUNT + SEC.OVERDUE.ACCTS>,\n",
       " <Feature: PRI.SANCTIONED.AMOUNT + SEC.SANCTIONED.AMOUNT>,\n",
       " <Feature: PRIMARY.INSTAL.AMT + SEC.ACTIVE.ACCTS>,\n",
       " <Feature: PRIMARY.INSTAL.AMT + SEC.CURRENT.BALANCE>,\n",
       " <Feature: PRIMARY.INSTAL.AMT + SEC.DISBURSED.AMOUNT>,\n",
       " <Feature: PRIMARY.INSTAL.AMT + SEC.INSTAL.AMT>,\n",
       " <Feature: PRIMARY.INSTAL.AMT + SEC.NO.OF.ACCTS>,\n",
       " <Feature: PRIMARY.INSTAL.AMT + SEC.OVERDUE.ACCTS>,\n",
       " <Feature: PRIMARY.INSTAL.AMT + SEC.SANCTIONED.AMOUNT>,\n",
       " <Feature: SEC.ACTIVE.ACCTS + SEC.CURRENT.BALANCE>,\n",
       " <Feature: SEC.ACTIVE.ACCTS + SEC.DISBURSED.AMOUNT>,\n",
       " <Feature: SEC.ACTIVE.ACCTS + SEC.INSTAL.AMT>,\n",
       " <Feature: SEC.ACTIVE.ACCTS + SEC.NO.OF.ACCTS>,\n",
       " <Feature: SEC.ACTIVE.ACCTS + SEC.OVERDUE.ACCTS>,\n",
       " <Feature: SEC.ACTIVE.ACCTS + SEC.SANCTIONED.AMOUNT>,\n",
       " <Feature: SEC.CURRENT.BALANCE + SEC.DISBURSED.AMOUNT>,\n",
       " <Feature: SEC.CURRENT.BALANCE + SEC.INSTAL.AMT>,\n",
       " <Feature: SEC.CURRENT.BALANCE + SEC.NO.OF.ACCTS>,\n",
       " <Feature: SEC.CURRENT.BALANCE + SEC.OVERDUE.ACCTS>,\n",
       " <Feature: SEC.CURRENT.BALANCE + SEC.SANCTIONED.AMOUNT>,\n",
       " <Feature: SEC.DISBURSED.AMOUNT + SEC.INSTAL.AMT>,\n",
       " <Feature: SEC.DISBURSED.AMOUNT + SEC.NO.OF.ACCTS>,\n",
       " <Feature: SEC.DISBURSED.AMOUNT + SEC.OVERDUE.ACCTS>,\n",
       " <Feature: SEC.DISBURSED.AMOUNT + SEC.SANCTIONED.AMOUNT>,\n",
       " <Feature: SEC.INSTAL.AMT + SEC.NO.OF.ACCTS>,\n",
       " <Feature: SEC.INSTAL.AMT + SEC.OVERDUE.ACCTS>,\n",
       " <Feature: SEC.INSTAL.AMT + SEC.SANCTIONED.AMOUNT>,\n",
       " <Feature: SEC.NO.OF.ACCTS + SEC.OVERDUE.ACCTS>,\n",
       " <Feature: SEC.NO.OF.ACCTS + SEC.SANCTIONED.AMOUNT>,\n",
       " <Feature: SEC.OVERDUE.ACCTS + SEC.SANCTIONED.AMOUNT>,\n",
       " <Feature: asset_cost + AVERAGE.ACCT.AGE>,\n",
       " <Feature: asset_cost + CREDIT.HISTORY.LENGTH>,\n",
       " <Feature: asset_cost + DELINQUENT.ACCTS.IN.LAST.SIX.MONTHS>,\n",
       " <Feature: asset_cost + NEW.ACCTS.IN.LAST.SIX.MONTHS>,\n",
       " <Feature: asset_cost + NO.OF_INQUIRIES>,\n",
       " <Feature: asset_cost + PERFORM_CNS.SCORE.DESCRIPTION>,\n",
       " <Feature: asset_cost + PRI.ACTIVE.ACCTS>,\n",
       " <Feature: asset_cost + PRI.CURRENT.BALANCE>,\n",
       " <Feature: asset_cost + PRI.DISBURSED.AMOUNT>,\n",
       " <Feature: asset_cost + PRI.NO.OF.ACCTS>,\n",
       " <Feature: asset_cost + PRI.OVERDUE.ACCTS>,\n",
       " <Feature: asset_cost + PRI.SANCTIONED.AMOUNT>,\n",
       " <Feature: asset_cost + PRIMARY.INSTAL.AMT>,\n",
       " <Feature: asset_cost + SEC.ACTIVE.ACCTS>,\n",
       " <Feature: asset_cost + SEC.CURRENT.BALANCE>,\n",
       " <Feature: asset_cost + SEC.DISBURSED.AMOUNT>,\n",
       " <Feature: asset_cost + SEC.INSTAL.AMT>,\n",
       " <Feature: asset_cost + SEC.NO.OF.ACCTS>,\n",
       " <Feature: asset_cost + SEC.OVERDUE.ACCTS>,\n",
       " <Feature: asset_cost + SEC.SANCTIONED.AMOUNT>,\n",
       " <Feature: asset_cost + disbursed_amount>,\n",
       " <Feature: asset_cost + ltv>,\n",
       " <Feature: disbursed_amount + NEW.ACCTS.IN.LAST.SIX.MONTHS>,\n",
       " <Feature: disbursed_amount + NO.OF_INQUIRIES>,\n",
       " <Feature: disbursed_amount + PERFORM_CNS.SCORE.DESCRIPTION>,\n",
       " <Feature: disbursed_amount + PRI.ACTIVE.ACCTS>,\n",
       " <Feature: disbursed_amount + PRI.CURRENT.BALANCE>,\n",
       " <Feature: disbursed_amount + PRI.DISBURSED.AMOUNT>,\n",
       " <Feature: disbursed_amount + PRI.NO.OF.ACCTS>,\n",
       " <Feature: disbursed_amount + PRI.OVERDUE.ACCTS>,\n",
       " <Feature: disbursed_amount + PRI.SANCTIONED.AMOUNT>,\n",
       " <Feature: disbursed_amount + PRIMARY.INSTAL.AMT>,\n",
       " <Feature: disbursed_amount + SEC.ACTIVE.ACCTS>,\n",
       " <Feature: disbursed_amount + SEC.CURRENT.BALANCE>,\n",
       " <Feature: disbursed_amount + SEC.DISBURSED.AMOUNT>,\n",
       " <Feature: disbursed_amount + SEC.INSTAL.AMT>,\n",
       " <Feature: disbursed_amount + SEC.NO.OF.ACCTS>,\n",
       " <Feature: disbursed_amount + SEC.OVERDUE.ACCTS>,\n",
       " <Feature: disbursed_amount + SEC.SANCTIONED.AMOUNT>,\n",
       " <Feature: disbursed_amount + ltv>,\n",
       " <Feature: ltv + NEW.ACCTS.IN.LAST.SIX.MONTHS>,\n",
       " <Feature: ltv + NO.OF_INQUIRIES>,\n",
       " <Feature: ltv + PERFORM_CNS.SCORE.DESCRIPTION>,\n",
       " <Feature: ltv + PRI.ACTIVE.ACCTS>,\n",
       " <Feature: ltv + PRI.CURRENT.BALANCE>,\n",
       " <Feature: ltv + PRI.DISBURSED.AMOUNT>,\n",
       " <Feature: ltv + PRI.NO.OF.ACCTS>,\n",
       " <Feature: ltv + PRI.OVERDUE.ACCTS>,\n",
       " <Feature: ltv + PRI.SANCTIONED.AMOUNT>,\n",
       " <Feature: ltv + PRIMARY.INSTAL.AMT>,\n",
       " <Feature: ltv + SEC.ACTIVE.ACCTS>,\n",
       " <Feature: ltv + SEC.CURRENT.BALANCE>,\n",
       " <Feature: ltv + SEC.DISBURSED.AMOUNT>,\n",
       " <Feature: ltv + SEC.INSTAL.AMT>,\n",
       " <Feature: ltv + SEC.NO.OF.ACCTS>,\n",
       " <Feature: ltv + SEC.OVERDUE.ACCTS>,\n",
       " <Feature: ltv + SEC.SANCTIONED.AMOUNT>,\n",
       " <Feature: AVERAGE.ACCT.AGE * CREDIT.HISTORY.LENGTH>,\n",
       " <Feature: AVERAGE.ACCT.AGE * DELINQUENT.ACCTS.IN.LAST.SIX.MONTHS>,\n",
       " <Feature: AVERAGE.ACCT.AGE * NEW.ACCTS.IN.LAST.SIX.MONTHS>,\n",
       " <Feature: AVERAGE.ACCT.AGE * NO.OF_INQUIRIES>,\n",
       " <Feature: AVERAGE.ACCT.AGE * PERFORM_CNS.SCORE.DESCRIPTION>,\n",
       " <Feature: AVERAGE.ACCT.AGE * PRI.ACTIVE.ACCTS>,\n",
       " <Feature: AVERAGE.ACCT.AGE * PRI.CURRENT.BALANCE>,\n",
       " <Feature: AVERAGE.ACCT.AGE * PRI.DISBURSED.AMOUNT>,\n",
       " <Feature: AVERAGE.ACCT.AGE * PRI.NO.OF.ACCTS>,\n",
       " <Feature: AVERAGE.ACCT.AGE * PRI.OVERDUE.ACCTS>,\n",
       " <Feature: AVERAGE.ACCT.AGE * PRI.SANCTIONED.AMOUNT>,\n",
       " <Feature: AVERAGE.ACCT.AGE * PRIMARY.INSTAL.AMT>,\n",
       " <Feature: AVERAGE.ACCT.AGE * SEC.ACTIVE.ACCTS>,\n",
       " <Feature: AVERAGE.ACCT.AGE * SEC.CURRENT.BALANCE>,\n",
       " <Feature: AVERAGE.ACCT.AGE * SEC.DISBURSED.AMOUNT>,\n",
       " <Feature: AVERAGE.ACCT.AGE * SEC.INSTAL.AMT>,\n",
       " <Feature: AVERAGE.ACCT.AGE * SEC.NO.OF.ACCTS>,\n",
       " <Feature: AVERAGE.ACCT.AGE * SEC.OVERDUE.ACCTS>,\n",
       " <Feature: AVERAGE.ACCT.AGE * SEC.SANCTIONED.AMOUNT>,\n",
       " <Feature: AVERAGE.ACCT.AGE * disbursed_amount>,\n",
       " <Feature: AVERAGE.ACCT.AGE * ltv>,\n",
       " <Feature: CREDIT.HISTORY.LENGTH * DELINQUENT.ACCTS.IN.LAST.SIX.MONTHS>,\n",
       " <Feature: CREDIT.HISTORY.LENGTH * NEW.ACCTS.IN.LAST.SIX.MONTHS>,\n",
       " <Feature: CREDIT.HISTORY.LENGTH * NO.OF_INQUIRIES>,\n",
       " <Feature: CREDIT.HISTORY.LENGTH * PERFORM_CNS.SCORE.DESCRIPTION>,\n",
       " <Feature: CREDIT.HISTORY.LENGTH * PRI.ACTIVE.ACCTS>,\n",
       " <Feature: CREDIT.HISTORY.LENGTH * PRI.CURRENT.BALANCE>,\n",
       " <Feature: CREDIT.HISTORY.LENGTH * PRI.DISBURSED.AMOUNT>,\n",
       " <Feature: CREDIT.HISTORY.LENGTH * PRI.NO.OF.ACCTS>,\n",
       " <Feature: CREDIT.HISTORY.LENGTH * PRI.OVERDUE.ACCTS>,\n",
       " <Feature: CREDIT.HISTORY.LENGTH * PRI.SANCTIONED.AMOUNT>,\n",
       " <Feature: CREDIT.HISTORY.LENGTH * PRIMARY.INSTAL.AMT>,\n",
       " <Feature: CREDIT.HISTORY.LENGTH * SEC.ACTIVE.ACCTS>,\n",
       " <Feature: CREDIT.HISTORY.LENGTH * SEC.CURRENT.BALANCE>,\n",
       " <Feature: CREDIT.HISTORY.LENGTH * SEC.DISBURSED.AMOUNT>,\n",
       " <Feature: CREDIT.HISTORY.LENGTH * SEC.INSTAL.AMT>,\n",
       " <Feature: CREDIT.HISTORY.LENGTH * SEC.NO.OF.ACCTS>,\n",
       " <Feature: CREDIT.HISTORY.LENGTH * SEC.OVERDUE.ACCTS>,\n",
       " <Feature: CREDIT.HISTORY.LENGTH * SEC.SANCTIONED.AMOUNT>,\n",
       " <Feature: CREDIT.HISTORY.LENGTH * disbursed_amount>,\n",
       " <Feature: CREDIT.HISTORY.LENGTH * ltv>,\n",
       " <Feature: DELINQUENT.ACCTS.IN.LAST.SIX.MONTHS * NEW.ACCTS.IN.LAST.SIX.MONTHS>,\n",
       " <Feature: DELINQUENT.ACCTS.IN.LAST.SIX.MONTHS * NO.OF_INQUIRIES>,\n",
       " <Feature: DELINQUENT.ACCTS.IN.LAST.SIX.MONTHS * PERFORM_CNS.SCORE.DESCRIPTION>,\n",
       " <Feature: DELINQUENT.ACCTS.IN.LAST.SIX.MONTHS * PRI.ACTIVE.ACCTS>,\n",
       " <Feature: DELINQUENT.ACCTS.IN.LAST.SIX.MONTHS * PRI.CURRENT.BALANCE>,\n",
       " <Feature: DELINQUENT.ACCTS.IN.LAST.SIX.MONTHS * PRI.DISBURSED.AMOUNT>,\n",
       " <Feature: DELINQUENT.ACCTS.IN.LAST.SIX.MONTHS * PRI.NO.OF.ACCTS>,\n",
       " <Feature: DELINQUENT.ACCTS.IN.LAST.SIX.MONTHS * PRI.OVERDUE.ACCTS>,\n",
       " <Feature: DELINQUENT.ACCTS.IN.LAST.SIX.MONTHS * PRI.SANCTIONED.AMOUNT>,\n",
       " <Feature: DELINQUENT.ACCTS.IN.LAST.SIX.MONTHS * PRIMARY.INSTAL.AMT>,\n",
       " <Feature: DELINQUENT.ACCTS.IN.LAST.SIX.MONTHS * SEC.ACTIVE.ACCTS>,\n",
       " <Feature: DELINQUENT.ACCTS.IN.LAST.SIX.MONTHS * SEC.CURRENT.BALANCE>,\n",
       " <Feature: DELINQUENT.ACCTS.IN.LAST.SIX.MONTHS * SEC.DISBURSED.AMOUNT>,\n",
       " <Feature: DELINQUENT.ACCTS.IN.LAST.SIX.MONTHS * SEC.INSTAL.AMT>,\n",
       " <Feature: DELINQUENT.ACCTS.IN.LAST.SIX.MONTHS * SEC.NO.OF.ACCTS>,\n",
       " <Feature: DELINQUENT.ACCTS.IN.LAST.SIX.MONTHS * SEC.OVERDUE.ACCTS>,\n",
       " <Feature: DELINQUENT.ACCTS.IN.LAST.SIX.MONTHS * SEC.SANCTIONED.AMOUNT>,\n",
       " <Feature: DELINQUENT.ACCTS.IN.LAST.SIX.MONTHS * disbursed_amount>,\n",
       " <Feature: DELINQUENT.ACCTS.IN.LAST.SIX.MONTHS * ltv>,\n",
       " <Feature: NEW.ACCTS.IN.LAST.SIX.MONTHS * NO.OF_INQUIRIES>,\n",
       " <Feature: NEW.ACCTS.IN.LAST.SIX.MONTHS * PERFORM_CNS.SCORE.DESCRIPTION>,\n",
       " <Feature: NEW.ACCTS.IN.LAST.SIX.MONTHS * PRI.ACTIVE.ACCTS>,\n",
       " <Feature: NEW.ACCTS.IN.LAST.SIX.MONTHS * PRI.CURRENT.BALANCE>,\n",
       " <Feature: NEW.ACCTS.IN.LAST.SIX.MONTHS * PRI.DISBURSED.AMOUNT>,\n",
       " <Feature: NEW.ACCTS.IN.LAST.SIX.MONTHS * PRI.NO.OF.ACCTS>,\n",
       " <Feature: NEW.ACCTS.IN.LAST.SIX.MONTHS * PRI.OVERDUE.ACCTS>,\n",
       " <Feature: NEW.ACCTS.IN.LAST.SIX.MONTHS * PRI.SANCTIONED.AMOUNT>,\n",
       " <Feature: NEW.ACCTS.IN.LAST.SIX.MONTHS * PRIMARY.INSTAL.AMT>,\n",
       " <Feature: NEW.ACCTS.IN.LAST.SIX.MONTHS * SEC.ACTIVE.ACCTS>,\n",
       " <Feature: NEW.ACCTS.IN.LAST.SIX.MONTHS * SEC.CURRENT.BALANCE>,\n",
       " <Feature: NEW.ACCTS.IN.LAST.SIX.MONTHS * SEC.DISBURSED.AMOUNT>,\n",
       " <Feature: NEW.ACCTS.IN.LAST.SIX.MONTHS * SEC.INSTAL.AMT>,\n",
       " <Feature: NEW.ACCTS.IN.LAST.SIX.MONTHS * SEC.NO.OF.ACCTS>,\n",
       " <Feature: NEW.ACCTS.IN.LAST.SIX.MONTHS * SEC.OVERDUE.ACCTS>,\n",
       " <Feature: NEW.ACCTS.IN.LAST.SIX.MONTHS * SEC.SANCTIONED.AMOUNT>,\n",
       " <Feature: NO.OF_INQUIRIES * PERFORM_CNS.SCORE.DESCRIPTION>,\n",
       " <Feature: NO.OF_INQUIRIES * PRI.ACTIVE.ACCTS>,\n",
       " <Feature: NO.OF_INQUIRIES * PRI.CURRENT.BALANCE>,\n",
       " <Feature: NO.OF_INQUIRIES * PRI.DISBURSED.AMOUNT>,\n",
       " <Feature: NO.OF_INQUIRIES * PRI.NO.OF.ACCTS>,\n",
       " <Feature: NO.OF_INQUIRIES * PRI.OVERDUE.ACCTS>,\n",
       " <Feature: NO.OF_INQUIRIES * PRI.SANCTIONED.AMOUNT>,\n",
       " <Feature: NO.OF_INQUIRIES * PRIMARY.INSTAL.AMT>,\n",
       " <Feature: NO.OF_INQUIRIES * SEC.ACTIVE.ACCTS>,\n",
       " <Feature: NO.OF_INQUIRIES * SEC.CURRENT.BALANCE>,\n",
       " <Feature: NO.OF_INQUIRIES * SEC.DISBURSED.AMOUNT>,\n",
       " <Feature: NO.OF_INQUIRIES * SEC.INSTAL.AMT>,\n",
       " <Feature: NO.OF_INQUIRIES * SEC.NO.OF.ACCTS>,\n",
       " <Feature: NO.OF_INQUIRIES * SEC.OVERDUE.ACCTS>,\n",
       " <Feature: NO.OF_INQUIRIES * SEC.SANCTIONED.AMOUNT>,\n",
       " <Feature: PERFORM_CNS.SCORE.DESCRIPTION * PRI.ACTIVE.ACCTS>,\n",
       " <Feature: PERFORM_CNS.SCORE.DESCRIPTION * PRI.CURRENT.BALANCE>,\n",
       " <Feature: PERFORM_CNS.SCORE.DESCRIPTION * PRI.DISBURSED.AMOUNT>,\n",
       " <Feature: PERFORM_CNS.SCORE.DESCRIPTION * PRI.NO.OF.ACCTS>,\n",
       " <Feature: PERFORM_CNS.SCORE.DESCRIPTION * PRI.OVERDUE.ACCTS>,\n",
       " <Feature: PERFORM_CNS.SCORE.DESCRIPTION * PRI.SANCTIONED.AMOUNT>,\n",
       " <Feature: PERFORM_CNS.SCORE.DESCRIPTION * PRIMARY.INSTAL.AMT>,\n",
       " <Feature: PERFORM_CNS.SCORE.DESCRIPTION * SEC.ACTIVE.ACCTS>,\n",
       " <Feature: PERFORM_CNS.SCORE.DESCRIPTION * SEC.CURRENT.BALANCE>,\n",
       " <Feature: PERFORM_CNS.SCORE.DESCRIPTION * SEC.DISBURSED.AMOUNT>,\n",
       " <Feature: PERFORM_CNS.SCORE.DESCRIPTION * SEC.INSTAL.AMT>,\n",
       " <Feature: PERFORM_CNS.SCORE.DESCRIPTION * SEC.NO.OF.ACCTS>,\n",
       " <Feature: PERFORM_CNS.SCORE.DESCRIPTION * SEC.OVERDUE.ACCTS>,\n",
       " <Feature: PERFORM_CNS.SCORE.DESCRIPTION * SEC.SANCTIONED.AMOUNT>,\n",
       " <Feature: PRI.ACTIVE.ACCTS * PRI.CURRENT.BALANCE>,\n",
       " <Feature: PRI.ACTIVE.ACCTS * PRI.DISBURSED.AMOUNT>,\n",
       " <Feature: PRI.ACTIVE.ACCTS * PRI.NO.OF.ACCTS>,\n",
       " <Feature: PRI.ACTIVE.ACCTS * PRI.OVERDUE.ACCTS>,\n",
       " <Feature: PRI.ACTIVE.ACCTS * PRI.SANCTIONED.AMOUNT>,\n",
       " <Feature: PRI.ACTIVE.ACCTS * PRIMARY.INSTAL.AMT>,\n",
       " <Feature: PRI.ACTIVE.ACCTS * SEC.ACTIVE.ACCTS>,\n",
       " <Feature: PRI.ACTIVE.ACCTS * SEC.CURRENT.BALANCE>,\n",
       " <Feature: PRI.ACTIVE.ACCTS * SEC.DISBURSED.AMOUNT>,\n",
       " <Feature: PRI.ACTIVE.ACCTS * SEC.INSTAL.AMT>,\n",
       " <Feature: PRI.ACTIVE.ACCTS * SEC.NO.OF.ACCTS>,\n",
       " <Feature: PRI.ACTIVE.ACCTS * SEC.OVERDUE.ACCTS>,\n",
       " <Feature: PRI.ACTIVE.ACCTS * SEC.SANCTIONED.AMOUNT>,\n",
       " <Feature: PRI.CURRENT.BALANCE * PRI.DISBURSED.AMOUNT>,\n",
       " <Feature: PRI.CURRENT.BALANCE * PRI.NO.OF.ACCTS>,\n",
       " <Feature: PRI.CURRENT.BALANCE * PRI.OVERDUE.ACCTS>,\n",
       " <Feature: PRI.CURRENT.BALANCE * PRI.SANCTIONED.AMOUNT>,\n",
       " <Feature: PRI.CURRENT.BALANCE * PRIMARY.INSTAL.AMT>,\n",
       " <Feature: PRI.CURRENT.BALANCE * SEC.ACTIVE.ACCTS>,\n",
       " <Feature: PRI.CURRENT.BALANCE * SEC.CURRENT.BALANCE>,\n",
       " <Feature: PRI.CURRENT.BALANCE * SEC.DISBURSED.AMOUNT>,\n",
       " <Feature: PRI.CURRENT.BALANCE * SEC.INSTAL.AMT>,\n",
       " <Feature: PRI.CURRENT.BALANCE * SEC.NO.OF.ACCTS>,\n",
       " <Feature: PRI.CURRENT.BALANCE * SEC.OVERDUE.ACCTS>,\n",
       " <Feature: PRI.CURRENT.BALANCE * SEC.SANCTIONED.AMOUNT>,\n",
       " <Feature: PRI.DISBURSED.AMOUNT * PRI.NO.OF.ACCTS>,\n",
       " <Feature: PRI.DISBURSED.AMOUNT * PRI.OVERDUE.ACCTS>,\n",
       " <Feature: PRI.DISBURSED.AMOUNT * PRI.SANCTIONED.AMOUNT>,\n",
       " <Feature: PRI.DISBURSED.AMOUNT * PRIMARY.INSTAL.AMT>,\n",
       " <Feature: PRI.DISBURSED.AMOUNT * SEC.ACTIVE.ACCTS>,\n",
       " <Feature: PRI.DISBURSED.AMOUNT * SEC.CURRENT.BALANCE>,\n",
       " <Feature: PRI.DISBURSED.AMOUNT * SEC.DISBURSED.AMOUNT>,\n",
       " <Feature: PRI.DISBURSED.AMOUNT * SEC.INSTAL.AMT>,\n",
       " <Feature: PRI.DISBURSED.AMOUNT * SEC.NO.OF.ACCTS>,\n",
       " <Feature: PRI.DISBURSED.AMOUNT * SEC.OVERDUE.ACCTS>,\n",
       " <Feature: PRI.DISBURSED.AMOUNT * SEC.SANCTIONED.AMOUNT>,\n",
       " <Feature: PRI.NO.OF.ACCTS * PRI.OVERDUE.ACCTS>,\n",
       " <Feature: PRI.NO.OF.ACCTS * PRI.SANCTIONED.AMOUNT>,\n",
       " <Feature: PRI.NO.OF.ACCTS * PRIMARY.INSTAL.AMT>,\n",
       " <Feature: PRI.NO.OF.ACCTS * SEC.ACTIVE.ACCTS>,\n",
       " <Feature: PRI.NO.OF.ACCTS * SEC.CURRENT.BALANCE>,\n",
       " <Feature: PRI.NO.OF.ACCTS * SEC.DISBURSED.AMOUNT>,\n",
       " <Feature: PRI.NO.OF.ACCTS * SEC.INSTAL.AMT>,\n",
       " <Feature: PRI.NO.OF.ACCTS * SEC.NO.OF.ACCTS>,\n",
       " <Feature: PRI.NO.OF.ACCTS * SEC.OVERDUE.ACCTS>,\n",
       " <Feature: PRI.NO.OF.ACCTS * SEC.SANCTIONED.AMOUNT>,\n",
       " <Feature: PRI.OVERDUE.ACCTS * PRI.SANCTIONED.AMOUNT>,\n",
       " <Feature: PRI.OVERDUE.ACCTS * PRIMARY.INSTAL.AMT>,\n",
       " <Feature: PRI.OVERDUE.ACCTS * SEC.ACTIVE.ACCTS>,\n",
       " <Feature: PRI.OVERDUE.ACCTS * SEC.CURRENT.BALANCE>,\n",
       " <Feature: PRI.OVERDUE.ACCTS * SEC.DISBURSED.AMOUNT>,\n",
       " <Feature: PRI.OVERDUE.ACCTS * SEC.INSTAL.AMT>,\n",
       " <Feature: PRI.OVERDUE.ACCTS * SEC.NO.OF.ACCTS>,\n",
       " <Feature: PRI.OVERDUE.ACCTS * SEC.OVERDUE.ACCTS>,\n",
       " <Feature: PRI.OVERDUE.ACCTS * SEC.SANCTIONED.AMOUNT>,\n",
       " <Feature: PRI.SANCTIONED.AMOUNT * PRIMARY.INSTAL.AMT>,\n",
       " <Feature: PRI.SANCTIONED.AMOUNT * SEC.ACTIVE.ACCTS>,\n",
       " <Feature: PRI.SANCTIONED.AMOUNT * SEC.CURRENT.BALANCE>,\n",
       " <Feature: PRI.SANCTIONED.AMOUNT * SEC.DISBURSED.AMOUNT>,\n",
       " <Feature: PRI.SANCTIONED.AMOUNT * SEC.INSTAL.AMT>,\n",
       " <Feature: PRI.SANCTIONED.AMOUNT * SEC.NO.OF.ACCTS>,\n",
       " <Feature: PRI.SANCTIONED.AMOUNT * SEC.OVERDUE.ACCTS>,\n",
       " <Feature: PRI.SANCTIONED.AMOUNT * SEC.SANCTIONED.AMOUNT>,\n",
       " <Feature: PRIMARY.INSTAL.AMT * SEC.ACTIVE.ACCTS>,\n",
       " <Feature: PRIMARY.INSTAL.AMT * SEC.CURRENT.BALANCE>,\n",
       " <Feature: PRIMARY.INSTAL.AMT * SEC.DISBURSED.AMOUNT>,\n",
       " <Feature: PRIMARY.INSTAL.AMT * SEC.INSTAL.AMT>,\n",
       " <Feature: PRIMARY.INSTAL.AMT * SEC.NO.OF.ACCTS>,\n",
       " <Feature: PRIMARY.INSTAL.AMT * SEC.OVERDUE.ACCTS>,\n",
       " <Feature: PRIMARY.INSTAL.AMT * SEC.SANCTIONED.AMOUNT>,\n",
       " <Feature: SEC.ACTIVE.ACCTS * SEC.CURRENT.BALANCE>,\n",
       " <Feature: SEC.ACTIVE.ACCTS * SEC.DISBURSED.AMOUNT>,\n",
       " <Feature: SEC.ACTIVE.ACCTS * SEC.INSTAL.AMT>,\n",
       " <Feature: SEC.ACTIVE.ACCTS * SEC.NO.OF.ACCTS>,\n",
       " <Feature: SEC.ACTIVE.ACCTS * SEC.OVERDUE.ACCTS>,\n",
       " <Feature: SEC.ACTIVE.ACCTS * SEC.SANCTIONED.AMOUNT>,\n",
       " <Feature: SEC.CURRENT.BALANCE * SEC.DISBURSED.AMOUNT>,\n",
       " <Feature: SEC.CURRENT.BALANCE * SEC.INSTAL.AMT>,\n",
       " <Feature: SEC.CURRENT.BALANCE * SEC.NO.OF.ACCTS>,\n",
       " <Feature: SEC.CURRENT.BALANCE * SEC.OVERDUE.ACCTS>,\n",
       " <Feature: SEC.CURRENT.BALANCE * SEC.SANCTIONED.AMOUNT>,\n",
       " <Feature: SEC.DISBURSED.AMOUNT * SEC.INSTAL.AMT>,\n",
       " <Feature: SEC.DISBURSED.AMOUNT * SEC.NO.OF.ACCTS>,\n",
       " <Feature: SEC.DISBURSED.AMOUNT * SEC.OVERDUE.ACCTS>,\n",
       " <Feature: SEC.DISBURSED.AMOUNT * SEC.SANCTIONED.AMOUNT>,\n",
       " <Feature: SEC.INSTAL.AMT * SEC.NO.OF.ACCTS>,\n",
       " <Feature: SEC.INSTAL.AMT * SEC.OVERDUE.ACCTS>,\n",
       " <Feature: SEC.INSTAL.AMT * SEC.SANCTIONED.AMOUNT>,\n",
       " <Feature: SEC.NO.OF.ACCTS * SEC.OVERDUE.ACCTS>,\n",
       " <Feature: SEC.NO.OF.ACCTS * SEC.SANCTIONED.AMOUNT>,\n",
       " <Feature: SEC.OVERDUE.ACCTS * SEC.SANCTIONED.AMOUNT>,\n",
       " <Feature: asset_cost * AVERAGE.ACCT.AGE>,\n",
       " <Feature: asset_cost * CREDIT.HISTORY.LENGTH>,\n",
       " <Feature: asset_cost * DELINQUENT.ACCTS.IN.LAST.SIX.MONTHS>,\n",
       " <Feature: asset_cost * NEW.ACCTS.IN.LAST.SIX.MONTHS>,\n",
       " <Feature: asset_cost * NO.OF_INQUIRIES>,\n",
       " <Feature: asset_cost * PERFORM_CNS.SCORE.DESCRIPTION>,\n",
       " <Feature: asset_cost * PRI.ACTIVE.ACCTS>,\n",
       " <Feature: asset_cost * PRI.CURRENT.BALANCE>,\n",
       " <Feature: asset_cost * PRI.DISBURSED.AMOUNT>,\n",
       " <Feature: asset_cost * PRI.NO.OF.ACCTS>,\n",
       " <Feature: asset_cost * PRI.OVERDUE.ACCTS>,\n",
       " <Feature: asset_cost * PRI.SANCTIONED.AMOUNT>,\n",
       " <Feature: asset_cost * PRIMARY.INSTAL.AMT>,\n",
       " <Feature: asset_cost * SEC.ACTIVE.ACCTS>,\n",
       " <Feature: asset_cost * SEC.CURRENT.BALANCE>,\n",
       " <Feature: asset_cost * SEC.DISBURSED.AMOUNT>,\n",
       " <Feature: asset_cost * SEC.INSTAL.AMT>,\n",
       " <Feature: asset_cost * SEC.NO.OF.ACCTS>,\n",
       " <Feature: asset_cost * SEC.OVERDUE.ACCTS>,\n",
       " <Feature: asset_cost * SEC.SANCTIONED.AMOUNT>,\n",
       " <Feature: asset_cost * disbursed_amount>,\n",
       " <Feature: asset_cost * ltv>,\n",
       " <Feature: disbursed_amount * NEW.ACCTS.IN.LAST.SIX.MONTHS>,\n",
       " <Feature: disbursed_amount * NO.OF_INQUIRIES>,\n",
       " <Feature: disbursed_amount * PERFORM_CNS.SCORE.DESCRIPTION>,\n",
       " <Feature: disbursed_amount * PRI.ACTIVE.ACCTS>,\n",
       " <Feature: disbursed_amount * PRI.CURRENT.BALANCE>,\n",
       " <Feature: disbursed_amount * PRI.DISBURSED.AMOUNT>,\n",
       " <Feature: disbursed_amount * PRI.NO.OF.ACCTS>,\n",
       " <Feature: disbursed_amount * PRI.OVERDUE.ACCTS>,\n",
       " <Feature: disbursed_amount * PRI.SANCTIONED.AMOUNT>,\n",
       " <Feature: disbursed_amount * PRIMARY.INSTAL.AMT>,\n",
       " <Feature: disbursed_amount * SEC.ACTIVE.ACCTS>,\n",
       " <Feature: disbursed_amount * SEC.CURRENT.BALANCE>,\n",
       " <Feature: disbursed_amount * SEC.DISBURSED.AMOUNT>,\n",
       " <Feature: disbursed_amount * SEC.INSTAL.AMT>,\n",
       " <Feature: disbursed_amount * SEC.NO.OF.ACCTS>,\n",
       " <Feature: disbursed_amount * SEC.OVERDUE.ACCTS>,\n",
       " <Feature: disbursed_amount * SEC.SANCTIONED.AMOUNT>,\n",
       " <Feature: disbursed_amount * ltv>,\n",
       " <Feature: ltv * NEW.ACCTS.IN.LAST.SIX.MONTHS>,\n",
       " <Feature: ltv * NO.OF_INQUIRIES>,\n",
       " <Feature: ltv * PERFORM_CNS.SCORE.DESCRIPTION>,\n",
       " <Feature: ltv * PRI.ACTIVE.ACCTS>,\n",
       " <Feature: ltv * PRI.CURRENT.BALANCE>,\n",
       " <Feature: ltv * PRI.DISBURSED.AMOUNT>,\n",
       " <Feature: ltv * PRI.NO.OF.ACCTS>,\n",
       " <Feature: ltv * PRI.OVERDUE.ACCTS>,\n",
       " <Feature: ltv * PRI.SANCTIONED.AMOUNT>,\n",
       " <Feature: ltv * PRIMARY.INSTAL.AMT>,\n",
       " <Feature: ltv * SEC.ACTIVE.ACCTS>,\n",
       " <Feature: ltv * SEC.CURRENT.BALANCE>,\n",
       " <Feature: ltv * SEC.DISBURSED.AMOUNT>,\n",
       " <Feature: ltv * SEC.INSTAL.AMT>,\n",
       " <Feature: ltv * SEC.NO.OF.ACCTS>,\n",
       " <Feature: ltv * SEC.OVERDUE.ACCTS>,\n",
       " <Feature: ltv * SEC.SANCTIONED.AMOUNT>]"
      ]
     },
     "execution_count": 94,
     "metadata": {},
     "output_type": "execute_result"
    }
   ],
   "source": [
    "feature_defs"
   ]
  },
  {
   "cell_type": "code",
   "execution_count": 95,
   "metadata": {},
   "outputs": [
    {
     "data": {
      "text/plain": [
       "(233154, 537)"
      ]
     },
     "execution_count": 95,
     "metadata": {},
     "output_type": "execute_result"
    }
   ],
   "source": [
    "feature_matrix.shape"
   ]
  },
  {
   "cell_type": "code",
   "execution_count": 96,
   "metadata": {},
   "outputs": [],
   "source": [
    "# 505 new features are created"
   ]
  },
  {
   "cell_type": "code",
   "execution_count": 97,
   "metadata": {},
   "outputs": [
    {
     "data": {
      "text/plain": [
       "(233154, 32)"
      ]
     },
     "execution_count": 97,
     "metadata": {},
     "output_type": "execute_result"
    }
   ],
   "source": [
    "dfc.shape"
   ]
  },
  {
   "cell_type": "code",
   "execution_count": 101,
   "metadata": {},
   "outputs": [],
   "source": [
    "# changing Employment.Type column"
   ]
  },
  {
   "cell_type": "code",
   "execution_count": 102,
   "metadata": {},
   "outputs": [
    {
     "data": {
      "text/plain": [
       "Self employed    127635\n",
       "Salaried          97858\n",
       "Name: Employment.Type, dtype: int64"
      ]
     },
     "execution_count": 102,
     "metadata": {},
     "output_type": "execute_result"
    }
   ],
   "source": [
    "dfc['Employment.Type'].value_counts()"
   ]
  },
  {
   "cell_type": "code",
   "execution_count": 104,
   "metadata": {},
   "outputs": [
    {
     "data": {
      "text/html": [
       "<div>\n",
       "<style scoped>\n",
       "    .dataframe tbody tr th:only-of-type {\n",
       "        vertical-align: middle;\n",
       "    }\n",
       "\n",
       "    .dataframe tbody tr th {\n",
       "        vertical-align: top;\n",
       "    }\n",
       "\n",
       "    .dataframe thead th {\n",
       "        text-align: right;\n",
       "    }\n",
       "</style>\n",
       "<table border=\"1\" class=\"dataframe\">\n",
       "  <thead>\n",
       "    <tr style=\"text-align: right;\">\n",
       "      <th></th>\n",
       "      <th>Salaried</th>\n",
       "      <th>Self employed</th>\n",
       "    </tr>\n",
       "  </thead>\n",
       "  <tbody>\n",
       "    <tr>\n",
       "      <th>0</th>\n",
       "      <td>1</td>\n",
       "      <td>0</td>\n",
       "    </tr>\n",
       "    <tr>\n",
       "      <th>1</th>\n",
       "      <td>0</td>\n",
       "      <td>1</td>\n",
       "    </tr>\n",
       "    <tr>\n",
       "      <th>2</th>\n",
       "      <td>0</td>\n",
       "      <td>1</td>\n",
       "    </tr>\n",
       "    <tr>\n",
       "      <th>3</th>\n",
       "      <td>0</td>\n",
       "      <td>1</td>\n",
       "    </tr>\n",
       "    <tr>\n",
       "      <th>4</th>\n",
       "      <td>0</td>\n",
       "      <td>1</td>\n",
       "    </tr>\n",
       "  </tbody>\n",
       "</table>\n",
       "</div>"
      ],
      "text/plain": [
       "   Salaried  Self employed\n",
       "0         1              0\n",
       "1         0              1\n",
       "2         0              1\n",
       "3         0              1\n",
       "4         0              1"
      ]
     },
     "execution_count": 104,
     "metadata": {},
     "output_type": "execute_result"
    }
   ],
   "source": [
    "temp = pd.get_dummies(dfc['Employment.Type'])\n",
    "temp.head()"
   ]
  },
  {
   "cell_type": "code",
   "execution_count": 106,
   "metadata": {},
   "outputs": [],
   "source": [
    "dfc[['Salaried', 'Self employed']] = temp[['Salaried', 'Self employed']]"
   ]
  },
  {
   "cell_type": "code",
   "execution_count": 107,
   "metadata": {},
   "outputs": [],
   "source": [
    "dfc.drop('Employment.Type', axis = 1, inplace = True)"
   ]
  },
  {
   "cell_type": "code",
   "execution_count": 108,
   "metadata": {},
   "outputs": [
    {
     "name": "stdout",
     "output_type": "stream",
     "text": [
      "(233154, 33)\n"
     ]
    }
   ],
   "source": [
    "print(dfc.shape)"
   ]
  },
  {
   "cell_type": "code",
   "execution_count": 150,
   "metadata": {},
   "outputs": [],
   "source": [
    "#PRI.NO.OF.ACCTS "
   ]
  },
  {
   "cell_type": "code",
   "execution_count": 145,
   "metadata": {},
   "outputs": [
    {
     "data": {
      "text/plain": [
       "0    0.501600\n",
       "1    0.150021\n",
       "2    0.084854\n",
       "3    0.055821\n",
       "4    0.039986\n",
       "5    0.030975\n",
       "6    0.023834\n",
       "7    0.018919\n",
       "8    0.015312\n",
       "9    0.012370\n",
       "Name: PRI.NO.OF.ACCTS, dtype: float64"
      ]
     },
     "execution_count": 145,
     "metadata": {},
     "output_type": "execute_result"
    }
   ],
   "source": [
    "dfc['PRI.NO.OF.ACCTS'].value_counts(normalize = True)[0:10]"
   ]
  },
  {
   "cell_type": "code",
   "execution_count": 146,
   "metadata": {},
   "outputs": [
    {
     "data": {
      "text/plain": [
       "0.9336918946275852"
      ]
     },
     "execution_count": 146,
     "metadata": {},
     "output_type": "execute_result"
    }
   ],
   "source": [
    "dfc['PRI.NO.OF.ACCTS'].value_counts(normalize = True)[0:10].sum()"
   ]
  },
  {
   "cell_type": "code",
   "execution_count": 134,
   "metadata": {},
   "outputs": [
    {
     "data": {
      "text/plain": [
       "108"
      ]
     },
     "execution_count": 134,
     "metadata": {},
     "output_type": "execute_result"
    }
   ],
   "source": [
    "len(dfc['PRI.NO.OF.ACCTS'].value_counts(normalize = True).index)"
   ]
  },
  {
   "cell_type": "code",
   "execution_count": 144,
   "metadata": {},
   "outputs": [],
   "source": [
    "# we can see top 10 values contributes to ~93% unique values"
   ]
  },
  {
   "cell_type": "code",
   "execution_count": 147,
   "metadata": {},
   "outputs": [
    {
     "data": {
      "text/plain": [
       "{0: 116950,\n",
       " 1: 34978,\n",
       " 2: 19784,\n",
       " 3: 13015,\n",
       " 4: 9323,\n",
       " 5: 7222,\n",
       " 6: 5557,\n",
       " 7: 4411,\n",
       " 8: 3570,\n",
       " 9: 2884,\n",
       " 10: 2358,\n",
       " 11: 1919,\n",
       " 12: 1567,\n",
       " 13: 1401,\n",
       " 14: 1132,\n",
       " 15: 941,\n",
       " 16: 798,\n",
       " 17: 652,\n",
       " 18: 573,\n",
       " 19: 503,\n",
       " 20: 436,\n",
       " 21: 347,\n",
       " 22: 323,\n",
       " 24: 286,\n",
       " 23: 250,\n",
       " 25: 187,\n",
       " 26: 170,\n",
       " 27: 153,\n",
       " 28: 141,\n",
       " 29: 130,\n",
       " 30: 124,\n",
       " 31: 111,\n",
       " 32: 83,\n",
       " 35: 73,\n",
       " 34: 70,\n",
       " 33: 67,\n",
       " 37: 53,\n",
       " 38: 53,\n",
       " 36: 49,\n",
       " 40: 41,\n",
       " 39: 34,\n",
       " 43: 32,\n",
       " 41: 31,\n",
       " 42: 25,\n",
       " 45: 24,\n",
       " 47: 23,\n",
       " 46: 20,\n",
       " 51: 17,\n",
       " 44: 17,\n",
       " 50: 16,\n",
       " 49: 14,\n",
       " 48: 14,\n",
       " 54: 12,\n",
       " 53: 11,\n",
       " 60: 10,\n",
       " 56: 10,\n",
       " 57: 9,\n",
       " 52: 9,\n",
       " 59: 9,\n",
       " 63: 7,\n",
       " 61: 7,\n",
       " 55: 7,\n",
       " 58: 7,\n",
       " 68: 6,\n",
       " 72: 6,\n",
       " 62: 5,\n",
       " 64: 5,\n",
       " 65: 5,\n",
       " 78: 5,\n",
       " 71: 4,\n",
       " 74: 4,\n",
       " 67: 4,\n",
       " 66: 4,\n",
       " 69: 3,\n",
       " 93: 3,\n",
       " 91: 3,\n",
       " 76: 3,\n",
       " 77: 3,\n",
       " 87: 3,\n",
       " 108: 2,\n",
       " 94: 2,\n",
       " 90: 2,\n",
       " 84: 2,\n",
       " 82: 2,\n",
       " 81: 2,\n",
       " 148: 2,\n",
       " 73: 2,\n",
       " 70: 2,\n",
       " 354: 1,\n",
       " 131: 1,\n",
       " 104: 1,\n",
       " 132: 1,\n",
       " 102: 1,\n",
       " 100: 1,\n",
       " 113: 1,\n",
       " 114: 1,\n",
       " 99: 1,\n",
       " 86: 1,\n",
       " 136: 1,\n",
       " 88: 1,\n",
       " 453: 1,\n",
       " 271: 1,\n",
       " 85: 1,\n",
       " 83: 1,\n",
       " 147: 1,\n",
       " 120: 1,\n",
       " 194: 1,\n",
       " 124: 1}"
      ]
     },
     "execution_count": 147,
     "metadata": {},
     "output_type": "execute_result"
    }
   ],
   "source": [
    "dt2 = {}\n",
    "k2 = dfc['PRI.NO.OF.ACCTS'].value_counts().index\n",
    "v2 = dfc['PRI.NO.OF.ACCTS'].value_counts().values\n",
    "dt2.update(zip(k2,v2))\n",
    "dt2"
   ]
  },
  {
   "cell_type": "code",
   "execution_count": 148,
   "metadata": {},
   "outputs": [],
   "source": [
    "dfc['PRI.CURRENT.BALANCE.COUNT'] = dfc['PRI.NO.OF.ACCTS'].map(dt2)"
   ]
  },
  {
   "cell_type": "code",
   "execution_count": 149,
   "metadata": {},
   "outputs": [
    {
     "data": {
      "text/html": [
       "<div>\n",
       "<style scoped>\n",
       "    .dataframe tbody tr th:only-of-type {\n",
       "        vertical-align: middle;\n",
       "    }\n",
       "\n",
       "    .dataframe tbody tr th {\n",
       "        vertical-align: top;\n",
       "    }\n",
       "\n",
       "    .dataframe thead th {\n",
       "        text-align: right;\n",
       "    }\n",
       "</style>\n",
       "<table border=\"1\" class=\"dataframe\">\n",
       "  <thead>\n",
       "    <tr style=\"text-align: right;\">\n",
       "      <th></th>\n",
       "      <th>disbursed_amount</th>\n",
       "      <th>asset_cost</th>\n",
       "      <th>ltv</th>\n",
       "      <th>MobileNo_Avl_Flag</th>\n",
       "      <th>Aadhar_flag</th>\n",
       "      <th>PAN_flag</th>\n",
       "      <th>VoterID_flag</th>\n",
       "      <th>Driving_flag</th>\n",
       "      <th>Passport_flag</th>\n",
       "      <th>PERFORM_CNS.SCORE</th>\n",
       "      <th>...</th>\n",
       "      <th>SEC.INSTAL.AMT</th>\n",
       "      <th>NEW.ACCTS.IN.LAST.SIX.MONTHS</th>\n",
       "      <th>DELINQUENT.ACCTS.IN.LAST.SIX.MONTHS</th>\n",
       "      <th>AVERAGE.ACCT.AGE</th>\n",
       "      <th>CREDIT.HISTORY.LENGTH</th>\n",
       "      <th>NO.OF_INQUIRIES</th>\n",
       "      <th>loan_default</th>\n",
       "      <th>Salaried</th>\n",
       "      <th>Self employed</th>\n",
       "      <th>PRI.CURRENT.BALANCE.COUNT</th>\n",
       "    </tr>\n",
       "  </thead>\n",
       "  <tbody>\n",
       "    <tr>\n",
       "      <th>0</th>\n",
       "      <td>50578</td>\n",
       "      <td>58400</td>\n",
       "      <td>89.55</td>\n",
       "      <td>1</td>\n",
       "      <td>1</td>\n",
       "      <td>0</td>\n",
       "      <td>0</td>\n",
       "      <td>0</td>\n",
       "      <td>0</td>\n",
       "      <td>0</td>\n",
       "      <td>...</td>\n",
       "      <td>0</td>\n",
       "      <td>0</td>\n",
       "      <td>0</td>\n",
       "      <td>0.00</td>\n",
       "      <td>0.00</td>\n",
       "      <td>0</td>\n",
       "      <td>0</td>\n",
       "      <td>1</td>\n",
       "      <td>0</td>\n",
       "      <td>116950</td>\n",
       "    </tr>\n",
       "    <tr>\n",
       "      <th>1</th>\n",
       "      <td>47145</td>\n",
       "      <td>65550</td>\n",
       "      <td>73.23</td>\n",
       "      <td>1</td>\n",
       "      <td>1</td>\n",
       "      <td>0</td>\n",
       "      <td>0</td>\n",
       "      <td>0</td>\n",
       "      <td>0</td>\n",
       "      <td>1</td>\n",
       "      <td>...</td>\n",
       "      <td>0</td>\n",
       "      <td>0</td>\n",
       "      <td>1</td>\n",
       "      <td>1.92</td>\n",
       "      <td>1.92</td>\n",
       "      <td>0</td>\n",
       "      <td>1</td>\n",
       "      <td>0</td>\n",
       "      <td>1</td>\n",
       "      <td>34978</td>\n",
       "    </tr>\n",
       "    <tr>\n",
       "      <th>2</th>\n",
       "      <td>53278</td>\n",
       "      <td>61360</td>\n",
       "      <td>89.63</td>\n",
       "      <td>1</td>\n",
       "      <td>1</td>\n",
       "      <td>0</td>\n",
       "      <td>0</td>\n",
       "      <td>0</td>\n",
       "      <td>0</td>\n",
       "      <td>0</td>\n",
       "      <td>...</td>\n",
       "      <td>0</td>\n",
       "      <td>0</td>\n",
       "      <td>0</td>\n",
       "      <td>0.00</td>\n",
       "      <td>0.00</td>\n",
       "      <td>0</td>\n",
       "      <td>0</td>\n",
       "      <td>0</td>\n",
       "      <td>1</td>\n",
       "      <td>116950</td>\n",
       "    </tr>\n",
       "    <tr>\n",
       "      <th>3</th>\n",
       "      <td>57513</td>\n",
       "      <td>66113</td>\n",
       "      <td>88.48</td>\n",
       "      <td>1</td>\n",
       "      <td>1</td>\n",
       "      <td>0</td>\n",
       "      <td>0</td>\n",
       "      <td>0</td>\n",
       "      <td>0</td>\n",
       "      <td>1</td>\n",
       "      <td>...</td>\n",
       "      <td>0</td>\n",
       "      <td>0</td>\n",
       "      <td>0</td>\n",
       "      <td>0.67</td>\n",
       "      <td>1.25</td>\n",
       "      <td>1</td>\n",
       "      <td>1</td>\n",
       "      <td>0</td>\n",
       "      <td>1</td>\n",
       "      <td>13015</td>\n",
       "    </tr>\n",
       "    <tr>\n",
       "      <th>4</th>\n",
       "      <td>52378</td>\n",
       "      <td>60300</td>\n",
       "      <td>88.39</td>\n",
       "      <td>1</td>\n",
       "      <td>1</td>\n",
       "      <td>0</td>\n",
       "      <td>0</td>\n",
       "      <td>0</td>\n",
       "      <td>0</td>\n",
       "      <td>0</td>\n",
       "      <td>...</td>\n",
       "      <td>0</td>\n",
       "      <td>0</td>\n",
       "      <td>0</td>\n",
       "      <td>0.00</td>\n",
       "      <td>0.00</td>\n",
       "      <td>1</td>\n",
       "      <td>1</td>\n",
       "      <td>0</td>\n",
       "      <td>1</td>\n",
       "      <td>116950</td>\n",
       "    </tr>\n",
       "  </tbody>\n",
       "</table>\n",
       "<p>5 rows × 34 columns</p>\n",
       "</div>"
      ],
      "text/plain": [
       "   disbursed_amount  asset_cost    ltv MobileNo_Avl_Flag Aadhar_flag PAN_flag  \\\n",
       "0             50578       58400  89.55                 1           1        0   \n",
       "1             47145       65550  73.23                 1           1        0   \n",
       "2             53278       61360  89.63                 1           1        0   \n",
       "3             57513       66113  88.48                 1           1        0   \n",
       "4             52378       60300  88.39                 1           1        0   \n",
       "\n",
       "  VoterID_flag Driving_flag Passport_flag PERFORM_CNS.SCORE  ...  \\\n",
       "0            0            0             0                 0  ...   \n",
       "1            0            0             0                 1  ...   \n",
       "2            0            0             0                 0  ...   \n",
       "3            0            0             0                 1  ...   \n",
       "4            0            0             0                 0  ...   \n",
       "\n",
       "   SEC.INSTAL.AMT  NEW.ACCTS.IN.LAST.SIX.MONTHS  \\\n",
       "0               0                             0   \n",
       "1               0                             0   \n",
       "2               0                             0   \n",
       "3               0                             0   \n",
       "4               0                             0   \n",
       "\n",
       "   DELINQUENT.ACCTS.IN.LAST.SIX.MONTHS  AVERAGE.ACCT.AGE  \\\n",
       "0                                    0              0.00   \n",
       "1                                    1              1.92   \n",
       "2                                    0              0.00   \n",
       "3                                    0              0.67   \n",
       "4                                    0              0.00   \n",
       "\n",
       "   CREDIT.HISTORY.LENGTH  NO.OF_INQUIRIES  loan_default  Salaried  \\\n",
       "0                   0.00                0             0         1   \n",
       "1                   1.92                0             1         0   \n",
       "2                   0.00                0             0         0   \n",
       "3                   1.25                1             1         0   \n",
       "4                   0.00                1             1         0   \n",
       "\n",
       "   Self employed  PRI.CURRENT.BALANCE.COUNT  \n",
       "0              0                     116950  \n",
       "1              1                      34978  \n",
       "2              1                     116950  \n",
       "3              1                      13015  \n",
       "4              1                     116950  \n",
       "\n",
       "[5 rows x 34 columns]"
      ]
     },
     "execution_count": 149,
     "metadata": {},
     "output_type": "execute_result"
    }
   ],
   "source": [
    "dfc.head()"
   ]
  },
  {
   "cell_type": "code",
   "execution_count": 151,
   "metadata": {},
   "outputs": [],
   "source": [
    "dfc.to_csv('dfc_wip.csv')"
   ]
  },
  {
   "cell_type": "code",
   "execution_count": 2,
   "metadata": {},
   "outputs": [],
   "source": [
    "import pandas as pd"
   ]
  },
  {
   "cell_type": "code",
   "execution_count": 4,
   "metadata": {},
   "outputs": [
    {
     "data": {
      "text/html": [
       "<div>\n",
       "<style scoped>\n",
       "    .dataframe tbody tr th:only-of-type {\n",
       "        vertical-align: middle;\n",
       "    }\n",
       "\n",
       "    .dataframe tbody tr th {\n",
       "        vertical-align: top;\n",
       "    }\n",
       "\n",
       "    .dataframe thead th {\n",
       "        text-align: right;\n",
       "    }\n",
       "</style>\n",
       "<table border=\"1\" class=\"dataframe\">\n",
       "  <thead>\n",
       "    <tr style=\"text-align: right;\">\n",
       "      <th></th>\n",
       "      <th>Unnamed: 0</th>\n",
       "      <th>disbursed_amount</th>\n",
       "      <th>asset_cost</th>\n",
       "      <th>ltv</th>\n",
       "      <th>MobileNo_Avl_Flag</th>\n",
       "      <th>Aadhar_flag</th>\n",
       "      <th>PAN_flag</th>\n",
       "      <th>VoterID_flag</th>\n",
       "      <th>Driving_flag</th>\n",
       "      <th>Passport_flag</th>\n",
       "      <th>...</th>\n",
       "      <th>SEC.INSTAL.AMT</th>\n",
       "      <th>NEW.ACCTS.IN.LAST.SIX.MONTHS</th>\n",
       "      <th>DELINQUENT.ACCTS.IN.LAST.SIX.MONTHS</th>\n",
       "      <th>AVERAGE.ACCT.AGE</th>\n",
       "      <th>CREDIT.HISTORY.LENGTH</th>\n",
       "      <th>NO.OF_INQUIRIES</th>\n",
       "      <th>loan_default</th>\n",
       "      <th>Salaried</th>\n",
       "      <th>Self employed</th>\n",
       "      <th>PRI.CURRENT.BALANCE.COUNT</th>\n",
       "    </tr>\n",
       "  </thead>\n",
       "  <tbody>\n",
       "    <tr>\n",
       "      <th>0</th>\n",
       "      <td>0</td>\n",
       "      <td>50578</td>\n",
       "      <td>58400</td>\n",
       "      <td>89.55</td>\n",
       "      <td>1</td>\n",
       "      <td>1</td>\n",
       "      <td>0</td>\n",
       "      <td>0</td>\n",
       "      <td>0</td>\n",
       "      <td>0</td>\n",
       "      <td>...</td>\n",
       "      <td>0</td>\n",
       "      <td>0</td>\n",
       "      <td>0</td>\n",
       "      <td>0.00</td>\n",
       "      <td>0.00</td>\n",
       "      <td>0</td>\n",
       "      <td>0</td>\n",
       "      <td>1</td>\n",
       "      <td>0</td>\n",
       "      <td>116950</td>\n",
       "    </tr>\n",
       "    <tr>\n",
       "      <th>1</th>\n",
       "      <td>1</td>\n",
       "      <td>47145</td>\n",
       "      <td>65550</td>\n",
       "      <td>73.23</td>\n",
       "      <td>1</td>\n",
       "      <td>1</td>\n",
       "      <td>0</td>\n",
       "      <td>0</td>\n",
       "      <td>0</td>\n",
       "      <td>0</td>\n",
       "      <td>...</td>\n",
       "      <td>0</td>\n",
       "      <td>0</td>\n",
       "      <td>1</td>\n",
       "      <td>1.92</td>\n",
       "      <td>1.92</td>\n",
       "      <td>0</td>\n",
       "      <td>1</td>\n",
       "      <td>0</td>\n",
       "      <td>1</td>\n",
       "      <td>34978</td>\n",
       "    </tr>\n",
       "    <tr>\n",
       "      <th>2</th>\n",
       "      <td>2</td>\n",
       "      <td>53278</td>\n",
       "      <td>61360</td>\n",
       "      <td>89.63</td>\n",
       "      <td>1</td>\n",
       "      <td>1</td>\n",
       "      <td>0</td>\n",
       "      <td>0</td>\n",
       "      <td>0</td>\n",
       "      <td>0</td>\n",
       "      <td>...</td>\n",
       "      <td>0</td>\n",
       "      <td>0</td>\n",
       "      <td>0</td>\n",
       "      <td>0.00</td>\n",
       "      <td>0.00</td>\n",
       "      <td>0</td>\n",
       "      <td>0</td>\n",
       "      <td>0</td>\n",
       "      <td>1</td>\n",
       "      <td>116950</td>\n",
       "    </tr>\n",
       "    <tr>\n",
       "      <th>3</th>\n",
       "      <td>3</td>\n",
       "      <td>57513</td>\n",
       "      <td>66113</td>\n",
       "      <td>88.48</td>\n",
       "      <td>1</td>\n",
       "      <td>1</td>\n",
       "      <td>0</td>\n",
       "      <td>0</td>\n",
       "      <td>0</td>\n",
       "      <td>0</td>\n",
       "      <td>...</td>\n",
       "      <td>0</td>\n",
       "      <td>0</td>\n",
       "      <td>0</td>\n",
       "      <td>0.67</td>\n",
       "      <td>1.25</td>\n",
       "      <td>1</td>\n",
       "      <td>1</td>\n",
       "      <td>0</td>\n",
       "      <td>1</td>\n",
       "      <td>13015</td>\n",
       "    </tr>\n",
       "    <tr>\n",
       "      <th>4</th>\n",
       "      <td>4</td>\n",
       "      <td>52378</td>\n",
       "      <td>60300</td>\n",
       "      <td>88.39</td>\n",
       "      <td>1</td>\n",
       "      <td>1</td>\n",
       "      <td>0</td>\n",
       "      <td>0</td>\n",
       "      <td>0</td>\n",
       "      <td>0</td>\n",
       "      <td>...</td>\n",
       "      <td>0</td>\n",
       "      <td>0</td>\n",
       "      <td>0</td>\n",
       "      <td>0.00</td>\n",
       "      <td>0.00</td>\n",
       "      <td>1</td>\n",
       "      <td>1</td>\n",
       "      <td>0</td>\n",
       "      <td>1</td>\n",
       "      <td>116950</td>\n",
       "    </tr>\n",
       "  </tbody>\n",
       "</table>\n",
       "<p>5 rows × 35 columns</p>\n",
       "</div>"
      ],
      "text/plain": [
       "   Unnamed: 0  disbursed_amount  asset_cost    ltv  MobileNo_Avl_Flag  \\\n",
       "0           0             50578       58400  89.55                  1   \n",
       "1           1             47145       65550  73.23                  1   \n",
       "2           2             53278       61360  89.63                  1   \n",
       "3           3             57513       66113  88.48                  1   \n",
       "4           4             52378       60300  88.39                  1   \n",
       "\n",
       "   Aadhar_flag  PAN_flag  VoterID_flag  Driving_flag  Passport_flag  ...  \\\n",
       "0            1         0             0             0              0  ...   \n",
       "1            1         0             0             0              0  ...   \n",
       "2            1         0             0             0              0  ...   \n",
       "3            1         0             0             0              0  ...   \n",
       "4            1         0             0             0              0  ...   \n",
       "\n",
       "   SEC.INSTAL.AMT  NEW.ACCTS.IN.LAST.SIX.MONTHS  \\\n",
       "0               0                             0   \n",
       "1               0                             0   \n",
       "2               0                             0   \n",
       "3               0                             0   \n",
       "4               0                             0   \n",
       "\n",
       "   DELINQUENT.ACCTS.IN.LAST.SIX.MONTHS  AVERAGE.ACCT.AGE  \\\n",
       "0                                    0              0.00   \n",
       "1                                    1              1.92   \n",
       "2                                    0              0.00   \n",
       "3                                    0              0.67   \n",
       "4                                    0              0.00   \n",
       "\n",
       "   CREDIT.HISTORY.LENGTH  NO.OF_INQUIRIES  loan_default  Salaried  \\\n",
       "0                   0.00                0             0         1   \n",
       "1                   1.92                0             1         0   \n",
       "2                   0.00                0             0         0   \n",
       "3                   1.25                1             1         0   \n",
       "4                   0.00                1             1         0   \n",
       "\n",
       "   Self employed  PRI.CURRENT.BALANCE.COUNT  \n",
       "0              0                     116950  \n",
       "1              1                      34978  \n",
       "2              1                     116950  \n",
       "3              1                      13015  \n",
       "4              1                     116950  \n",
       "\n",
       "[5 rows x 35 columns]"
      ]
     },
     "execution_count": 4,
     "metadata": {},
     "output_type": "execute_result"
    }
   ],
   "source": [
    "dfc = pd.read_csv('C:/Users/Tusha/OneDrive/Desktop/GL - DSE/capstone/Model Improvement/Model improvement wip/dfc_wip.csv')\n",
    "dfc.head()"
   ]
  },
  {
   "cell_type": "code",
   "execution_count": 5,
   "metadata": {},
   "outputs": [],
   "source": [
    "dfc.drop('Unnamed: 0',axis = 1, inplace = True)"
   ]
  },
  {
   "cell_type": "code",
   "execution_count": 6,
   "metadata": {},
   "outputs": [
    {
     "data": {
      "text/plain": [
       "(233154, 34)"
      ]
     },
     "execution_count": 6,
     "metadata": {},
     "output_type": "execute_result"
    }
   ],
   "source": [
    "dfc.shape"
   ]
  },
  {
   "cell_type": "code",
   "execution_count": 7,
   "metadata": {},
   "outputs": [],
   "source": [
    "#PRI.ACTIVE.ACCTS"
   ]
  },
  {
   "cell_type": "code",
   "execution_count": 8,
   "metadata": {},
   "outputs": [
    {
     "data": {
      "text/plain": [
       "0      137016\n",
       "1       42055\n",
       "2       21549\n",
       "3       12268\n",
       "4        7460\n",
       "5        4542\n",
       "6        2788\n",
       "7        1795\n",
       "8        1202\n",
       "9         756\n",
       "10        515\n",
       "11        330\n",
       "12        229\n",
       "13        177\n",
       "14        120\n",
       "15         96\n",
       "17         54\n",
       "16         53\n",
       "18         33\n",
       "19         27\n",
       "20         13\n",
       "22         10\n",
       "23         10\n",
       "24         10\n",
       "21          9\n",
       "25          7\n",
       "26          6\n",
       "28          5\n",
       "27          3\n",
       "31          2\n",
       "32          2\n",
       "34          2\n",
       "35          2\n",
       "37          2\n",
       "52          1\n",
       "144         1\n",
       "39          1\n",
       "42          1\n",
       "43          1\n",
       "65          1\n",
       "Name: PRI.ACTIVE.ACCTS, dtype: int64"
      ]
     },
     "execution_count": 8,
     "metadata": {},
     "output_type": "execute_result"
    }
   ],
   "source": [
    "dfc['PRI.ACTIVE.ACCTS'].value_counts()"
   ]
  },
  {
   "cell_type": "code",
   "execution_count": 9,
   "metadata": {},
   "outputs": [
    {
     "data": {
      "text/plain": [
       "{0: 137016,\n",
       " 1: 42055,\n",
       " 2: 21549,\n",
       " 3: 12268,\n",
       " 4: 7460,\n",
       " 5: 4542,\n",
       " 6: 2788,\n",
       " 7: 1795,\n",
       " 8: 1202,\n",
       " 9: 756,\n",
       " 10: 515,\n",
       " 11: 330,\n",
       " 12: 229,\n",
       " 13: 177,\n",
       " 14: 120,\n",
       " 15: 96,\n",
       " 17: 54,\n",
       " 16: 53,\n",
       " 18: 33,\n",
       " 19: 27,\n",
       " 20: 13,\n",
       " 22: 10,\n",
       " 23: 10,\n",
       " 24: 10,\n",
       " 21: 9,\n",
       " 25: 7,\n",
       " 26: 6,\n",
       " 28: 5,\n",
       " 27: 3,\n",
       " 31: 2,\n",
       " 32: 2,\n",
       " 34: 2,\n",
       " 35: 2,\n",
       " 37: 2,\n",
       " 52: 1,\n",
       " 144: 1,\n",
       " 39: 1,\n",
       " 42: 1,\n",
       " 43: 1,\n",
       " 65: 1}"
      ]
     },
     "execution_count": 9,
     "metadata": {},
     "output_type": "execute_result"
    }
   ],
   "source": [
    "dt3 = {}\n",
    "k3 = dfc['PRI.ACTIVE.ACCTS'].value_counts().index\n",
    "v3 = dfc['PRI.ACTIVE.ACCTS'].value_counts().values\n",
    "dt3.update(zip(k3,v3))\n",
    "dt3"
   ]
  },
  {
   "cell_type": "code",
   "execution_count": 10,
   "metadata": {},
   "outputs": [],
   "source": [
    "dfc['PRI.ACTIVE.ACCTS.COUNT'] = dfc['PRI.ACTIVE.ACCTS'].map(dt3)"
   ]
  },
  {
   "cell_type": "code",
   "execution_count": 11,
   "metadata": {},
   "outputs": [],
   "source": [
    "#PRI.OVERDUE.ACCTS"
   ]
  },
  {
   "cell_type": "code",
   "execution_count": 12,
   "metadata": {},
   "outputs": [
    {
     "data": {
      "text/plain": [
       "0     206879\n",
       "1      19970\n",
       "2       4302\n",
       "3       1202\n",
       "4        404\n",
       "5        166\n",
       "6         96\n",
       "7         38\n",
       "8         27\n",
       "9         25\n",
       "11        12\n",
       "12         8\n",
       "10         6\n",
       "13         5\n",
       "14         5\n",
       "17         2\n",
       "18         2\n",
       "23         1\n",
       "15         1\n",
       "16         1\n",
       "19         1\n",
       "25         1\n",
       "Name: PRI.OVERDUE.ACCTS, dtype: int64"
      ]
     },
     "execution_count": 12,
     "metadata": {},
     "output_type": "execute_result"
    }
   ],
   "source": [
    "dfc['PRI.OVERDUE.ACCTS'].value_counts()"
   ]
  },
  {
   "cell_type": "code",
   "execution_count": 13,
   "metadata": {},
   "outputs": [
    {
     "data": {
      "text/plain": [
       "{0: 206879,\n",
       " 1: 19970,\n",
       " 2: 4302,\n",
       " 3: 1202,\n",
       " 4: 404,\n",
       " 5: 166,\n",
       " 6: 96,\n",
       " 7: 38,\n",
       " 8: 27,\n",
       " 9: 25,\n",
       " 11: 12,\n",
       " 12: 8,\n",
       " 10: 6,\n",
       " 13: 5,\n",
       " 14: 5,\n",
       " 17: 2,\n",
       " 18: 2,\n",
       " 23: 1,\n",
       " 15: 1,\n",
       " 16: 1,\n",
       " 19: 1,\n",
       " 25: 1}"
      ]
     },
     "execution_count": 13,
     "metadata": {},
     "output_type": "execute_result"
    }
   ],
   "source": [
    "dt4 = {}\n",
    "k4 = dfc['PRI.OVERDUE.ACCTS'].value_counts().index\n",
    "v4 = dfc['PRI.OVERDUE.ACCTS'].value_counts().values\n",
    "dt4.update(zip(k4,v4))\n",
    "dt4"
   ]
  },
  {
   "cell_type": "code",
   "execution_count": 14,
   "metadata": {},
   "outputs": [],
   "source": [
    "dfc['PRI.OVERDUE.ACCTS.COUNT'] = dfc['PRI.OVERDUE.ACCTS'].map(dt4)"
   ]
  },
  {
   "cell_type": "code",
   "execution_count": 15,
   "metadata": {},
   "outputs": [
    {
     "data": {
      "text/plain": [
       "(233154, 36)"
      ]
     },
     "execution_count": 15,
     "metadata": {},
     "output_type": "execute_result"
    }
   ],
   "source": [
    "dfc.shape"
   ]
  },
  {
   "cell_type": "code",
   "execution_count": 16,
   "metadata": {},
   "outputs": [
    {
     "data": {
      "text/html": [
       "<div>\n",
       "<style scoped>\n",
       "    .dataframe tbody tr th:only-of-type {\n",
       "        vertical-align: middle;\n",
       "    }\n",
       "\n",
       "    .dataframe tbody tr th {\n",
       "        vertical-align: top;\n",
       "    }\n",
       "\n",
       "    .dataframe thead th {\n",
       "        text-align: right;\n",
       "    }\n",
       "</style>\n",
       "<table border=\"1\" class=\"dataframe\">\n",
       "  <thead>\n",
       "    <tr style=\"text-align: right;\">\n",
       "      <th></th>\n",
       "      <th>disbursed_amount</th>\n",
       "      <th>asset_cost</th>\n",
       "      <th>ltv</th>\n",
       "      <th>MobileNo_Avl_Flag</th>\n",
       "      <th>Aadhar_flag</th>\n",
       "      <th>PAN_flag</th>\n",
       "      <th>VoterID_flag</th>\n",
       "      <th>Driving_flag</th>\n",
       "      <th>Passport_flag</th>\n",
       "      <th>PERFORM_CNS.SCORE</th>\n",
       "      <th>...</th>\n",
       "      <th>DELINQUENT.ACCTS.IN.LAST.SIX.MONTHS</th>\n",
       "      <th>AVERAGE.ACCT.AGE</th>\n",
       "      <th>CREDIT.HISTORY.LENGTH</th>\n",
       "      <th>NO.OF_INQUIRIES</th>\n",
       "      <th>loan_default</th>\n",
       "      <th>Salaried</th>\n",
       "      <th>Self employed</th>\n",
       "      <th>PRI.CURRENT.BALANCE.COUNT</th>\n",
       "      <th>PRI.ACTIVE.ACCTS.COUNT</th>\n",
       "      <th>PRI.OVERDUE.ACCTS.COUNT</th>\n",
       "    </tr>\n",
       "  </thead>\n",
       "  <tbody>\n",
       "    <tr>\n",
       "      <th>0</th>\n",
       "      <td>50578</td>\n",
       "      <td>58400</td>\n",
       "      <td>89.55</td>\n",
       "      <td>1</td>\n",
       "      <td>1</td>\n",
       "      <td>0</td>\n",
       "      <td>0</td>\n",
       "      <td>0</td>\n",
       "      <td>0</td>\n",
       "      <td>0</td>\n",
       "      <td>...</td>\n",
       "      <td>0</td>\n",
       "      <td>0.00</td>\n",
       "      <td>0.00</td>\n",
       "      <td>0</td>\n",
       "      <td>0</td>\n",
       "      <td>1</td>\n",
       "      <td>0</td>\n",
       "      <td>116950</td>\n",
       "      <td>137016</td>\n",
       "      <td>206879</td>\n",
       "    </tr>\n",
       "    <tr>\n",
       "      <th>1</th>\n",
       "      <td>47145</td>\n",
       "      <td>65550</td>\n",
       "      <td>73.23</td>\n",
       "      <td>1</td>\n",
       "      <td>1</td>\n",
       "      <td>0</td>\n",
       "      <td>0</td>\n",
       "      <td>0</td>\n",
       "      <td>0</td>\n",
       "      <td>1</td>\n",
       "      <td>...</td>\n",
       "      <td>1</td>\n",
       "      <td>1.92</td>\n",
       "      <td>1.92</td>\n",
       "      <td>0</td>\n",
       "      <td>1</td>\n",
       "      <td>0</td>\n",
       "      <td>1</td>\n",
       "      <td>34978</td>\n",
       "      <td>42055</td>\n",
       "      <td>19970</td>\n",
       "    </tr>\n",
       "    <tr>\n",
       "      <th>2</th>\n",
       "      <td>53278</td>\n",
       "      <td>61360</td>\n",
       "      <td>89.63</td>\n",
       "      <td>1</td>\n",
       "      <td>1</td>\n",
       "      <td>0</td>\n",
       "      <td>0</td>\n",
       "      <td>0</td>\n",
       "      <td>0</td>\n",
       "      <td>0</td>\n",
       "      <td>...</td>\n",
       "      <td>0</td>\n",
       "      <td>0.00</td>\n",
       "      <td>0.00</td>\n",
       "      <td>0</td>\n",
       "      <td>0</td>\n",
       "      <td>0</td>\n",
       "      <td>1</td>\n",
       "      <td>116950</td>\n",
       "      <td>137016</td>\n",
       "      <td>206879</td>\n",
       "    </tr>\n",
       "    <tr>\n",
       "      <th>3</th>\n",
       "      <td>57513</td>\n",
       "      <td>66113</td>\n",
       "      <td>88.48</td>\n",
       "      <td>1</td>\n",
       "      <td>1</td>\n",
       "      <td>0</td>\n",
       "      <td>0</td>\n",
       "      <td>0</td>\n",
       "      <td>0</td>\n",
       "      <td>1</td>\n",
       "      <td>...</td>\n",
       "      <td>0</td>\n",
       "      <td>0.67</td>\n",
       "      <td>1.25</td>\n",
       "      <td>1</td>\n",
       "      <td>1</td>\n",
       "      <td>0</td>\n",
       "      <td>1</td>\n",
       "      <td>13015</td>\n",
       "      <td>137016</td>\n",
       "      <td>206879</td>\n",
       "    </tr>\n",
       "    <tr>\n",
       "      <th>4</th>\n",
       "      <td>52378</td>\n",
       "      <td>60300</td>\n",
       "      <td>88.39</td>\n",
       "      <td>1</td>\n",
       "      <td>1</td>\n",
       "      <td>0</td>\n",
       "      <td>0</td>\n",
       "      <td>0</td>\n",
       "      <td>0</td>\n",
       "      <td>0</td>\n",
       "      <td>...</td>\n",
       "      <td>0</td>\n",
       "      <td>0.00</td>\n",
       "      <td>0.00</td>\n",
       "      <td>1</td>\n",
       "      <td>1</td>\n",
       "      <td>0</td>\n",
       "      <td>1</td>\n",
       "      <td>116950</td>\n",
       "      <td>137016</td>\n",
       "      <td>206879</td>\n",
       "    </tr>\n",
       "  </tbody>\n",
       "</table>\n",
       "<p>5 rows × 36 columns</p>\n",
       "</div>"
      ],
      "text/plain": [
       "   disbursed_amount  asset_cost    ltv  MobileNo_Avl_Flag  Aadhar_flag  \\\n",
       "0             50578       58400  89.55                  1            1   \n",
       "1             47145       65550  73.23                  1            1   \n",
       "2             53278       61360  89.63                  1            1   \n",
       "3             57513       66113  88.48                  1            1   \n",
       "4             52378       60300  88.39                  1            1   \n",
       "\n",
       "   PAN_flag  VoterID_flag  Driving_flag  Passport_flag  PERFORM_CNS.SCORE  \\\n",
       "0         0             0             0              0                  0   \n",
       "1         0             0             0              0                  1   \n",
       "2         0             0             0              0                  0   \n",
       "3         0             0             0              0                  1   \n",
       "4         0             0             0              0                  0   \n",
       "\n",
       "   ...  DELINQUENT.ACCTS.IN.LAST.SIX.MONTHS  AVERAGE.ACCT.AGE  \\\n",
       "0  ...                                    0              0.00   \n",
       "1  ...                                    1              1.92   \n",
       "2  ...                                    0              0.00   \n",
       "3  ...                                    0              0.67   \n",
       "4  ...                                    0              0.00   \n",
       "\n",
       "   CREDIT.HISTORY.LENGTH  NO.OF_INQUIRIES  loan_default  Salaried  \\\n",
       "0                   0.00                0             0         1   \n",
       "1                   1.92                0             1         0   \n",
       "2                   0.00                0             0         0   \n",
       "3                   1.25                1             1         0   \n",
       "4                   0.00                1             1         0   \n",
       "\n",
       "   Self employed  PRI.CURRENT.BALANCE.COUNT  PRI.ACTIVE.ACCTS.COUNT  \\\n",
       "0              0                     116950                  137016   \n",
       "1              1                      34978                   42055   \n",
       "2              1                     116950                  137016   \n",
       "3              1                      13015                  137016   \n",
       "4              1                     116950                  137016   \n",
       "\n",
       "   PRI.OVERDUE.ACCTS.COUNT  \n",
       "0                   206879  \n",
       "1                    19970  \n",
       "2                   206879  \n",
       "3                   206879  \n",
       "4                   206879  \n",
       "\n",
       "[5 rows x 36 columns]"
      ]
     },
     "execution_count": 16,
     "metadata": {},
     "output_type": "execute_result"
    }
   ],
   "source": [
    "dfc.head()"
   ]
  },
  {
   "cell_type": "code",
   "execution_count": 17,
   "metadata": {},
   "outputs": [],
   "source": [
    "#SEC.NO.OF.ACCTS"
   ]
  },
  {
   "cell_type": "code",
   "execution_count": 18,
   "metadata": {},
   "outputs": [
    {
     "data": {
      "text/plain": [
       "0     227289\n",
       "1       3466\n",
       "2       1036\n",
       "3        444\n",
       "4        292\n",
       "5        148\n",
       "6        119\n",
       "7         75\n",
       "8         68\n",
       "9         38\n",
       "10        35\n",
       "11        29\n",
       "13        17\n",
       "12        13\n",
       "16        11\n",
       "14        11\n",
       "15        10\n",
       "18         6\n",
       "19         6\n",
       "17         5\n",
       "20         4\n",
       "22         4\n",
       "23         4\n",
       "31         4\n",
       "21         3\n",
       "46         2\n",
       "24         2\n",
       "38         2\n",
       "30         2\n",
       "34         2\n",
       "37         1\n",
       "42         1\n",
       "28         1\n",
       "35         1\n",
       "29         1\n",
       "25         1\n",
       "52         1\n",
       "Name: SEC.NO.OF.ACCTS, dtype: int64"
      ]
     },
     "execution_count": 18,
     "metadata": {},
     "output_type": "execute_result"
    }
   ],
   "source": [
    "dfc['SEC.NO.OF.ACCTS'].value_counts()"
   ]
  },
  {
   "cell_type": "code",
   "execution_count": 19,
   "metadata": {},
   "outputs": [
    {
     "data": {
      "text/plain": [
       "{0: 227289,\n",
       " 1: 3466,\n",
       " 2: 1036,\n",
       " 3: 444,\n",
       " 4: 292,\n",
       " 5: 148,\n",
       " 6: 119,\n",
       " 7: 75,\n",
       " 8: 68,\n",
       " 9: 38,\n",
       " 10: 35,\n",
       " 11: 29,\n",
       " 13: 17,\n",
       " 12: 13,\n",
       " 16: 11,\n",
       " 14: 11,\n",
       " 15: 10,\n",
       " 18: 6,\n",
       " 19: 6,\n",
       " 17: 5,\n",
       " 20: 4,\n",
       " 22: 4,\n",
       " 23: 4,\n",
       " 31: 4,\n",
       " 21: 3,\n",
       " 46: 2,\n",
       " 24: 2,\n",
       " 38: 2,\n",
       " 30: 2,\n",
       " 34: 2,\n",
       " 37: 1,\n",
       " 42: 1,\n",
       " 28: 1,\n",
       " 35: 1,\n",
       " 29: 1,\n",
       " 25: 1,\n",
       " 52: 1}"
      ]
     },
     "execution_count": 19,
     "metadata": {},
     "output_type": "execute_result"
    }
   ],
   "source": [
    "dt5 = {}\n",
    "k5 = dfc['SEC.NO.OF.ACCTS'].value_counts().index\n",
    "v5 = dfc['SEC.NO.OF.ACCTS'].value_counts().values\n",
    "dt5.update(zip(k5,v5))\n",
    "dt5"
   ]
  },
  {
   "cell_type": "code",
   "execution_count": 20,
   "metadata": {},
   "outputs": [],
   "source": [
    "dfc['SEC.NO.OF.ACCTS.COUNT'] = dfc['SEC.NO.OF.ACCTS'].map(dt5)"
   ]
  },
  {
   "cell_type": "code",
   "execution_count": 21,
   "metadata": {},
   "outputs": [
    {
     "data": {
      "text/html": [
       "<div>\n",
       "<style scoped>\n",
       "    .dataframe tbody tr th:only-of-type {\n",
       "        vertical-align: middle;\n",
       "    }\n",
       "\n",
       "    .dataframe tbody tr th {\n",
       "        vertical-align: top;\n",
       "    }\n",
       "\n",
       "    .dataframe thead th {\n",
       "        text-align: right;\n",
       "    }\n",
       "</style>\n",
       "<table border=\"1\" class=\"dataframe\">\n",
       "  <thead>\n",
       "    <tr style=\"text-align: right;\">\n",
       "      <th></th>\n",
       "      <th>disbursed_amount</th>\n",
       "      <th>asset_cost</th>\n",
       "      <th>ltv</th>\n",
       "      <th>MobileNo_Avl_Flag</th>\n",
       "      <th>Aadhar_flag</th>\n",
       "      <th>PAN_flag</th>\n",
       "      <th>VoterID_flag</th>\n",
       "      <th>Driving_flag</th>\n",
       "      <th>Passport_flag</th>\n",
       "      <th>PERFORM_CNS.SCORE</th>\n",
       "      <th>...</th>\n",
       "      <th>AVERAGE.ACCT.AGE</th>\n",
       "      <th>CREDIT.HISTORY.LENGTH</th>\n",
       "      <th>NO.OF_INQUIRIES</th>\n",
       "      <th>loan_default</th>\n",
       "      <th>Salaried</th>\n",
       "      <th>Self employed</th>\n",
       "      <th>PRI.CURRENT.BALANCE.COUNT</th>\n",
       "      <th>PRI.ACTIVE.ACCTS.COUNT</th>\n",
       "      <th>PRI.OVERDUE.ACCTS.COUNT</th>\n",
       "      <th>SEC.NO.OF.ACCTS.COUNT</th>\n",
       "    </tr>\n",
       "  </thead>\n",
       "  <tbody>\n",
       "    <tr>\n",
       "      <th>0</th>\n",
       "      <td>50578</td>\n",
       "      <td>58400</td>\n",
       "      <td>89.55</td>\n",
       "      <td>1</td>\n",
       "      <td>1</td>\n",
       "      <td>0</td>\n",
       "      <td>0</td>\n",
       "      <td>0</td>\n",
       "      <td>0</td>\n",
       "      <td>0</td>\n",
       "      <td>...</td>\n",
       "      <td>0.00</td>\n",
       "      <td>0.00</td>\n",
       "      <td>0</td>\n",
       "      <td>0</td>\n",
       "      <td>1</td>\n",
       "      <td>0</td>\n",
       "      <td>116950</td>\n",
       "      <td>137016</td>\n",
       "      <td>206879</td>\n",
       "      <td>227289</td>\n",
       "    </tr>\n",
       "    <tr>\n",
       "      <th>1</th>\n",
       "      <td>47145</td>\n",
       "      <td>65550</td>\n",
       "      <td>73.23</td>\n",
       "      <td>1</td>\n",
       "      <td>1</td>\n",
       "      <td>0</td>\n",
       "      <td>0</td>\n",
       "      <td>0</td>\n",
       "      <td>0</td>\n",
       "      <td>1</td>\n",
       "      <td>...</td>\n",
       "      <td>1.92</td>\n",
       "      <td>1.92</td>\n",
       "      <td>0</td>\n",
       "      <td>1</td>\n",
       "      <td>0</td>\n",
       "      <td>1</td>\n",
       "      <td>34978</td>\n",
       "      <td>42055</td>\n",
       "      <td>19970</td>\n",
       "      <td>227289</td>\n",
       "    </tr>\n",
       "    <tr>\n",
       "      <th>2</th>\n",
       "      <td>53278</td>\n",
       "      <td>61360</td>\n",
       "      <td>89.63</td>\n",
       "      <td>1</td>\n",
       "      <td>1</td>\n",
       "      <td>0</td>\n",
       "      <td>0</td>\n",
       "      <td>0</td>\n",
       "      <td>0</td>\n",
       "      <td>0</td>\n",
       "      <td>...</td>\n",
       "      <td>0.00</td>\n",
       "      <td>0.00</td>\n",
       "      <td>0</td>\n",
       "      <td>0</td>\n",
       "      <td>0</td>\n",
       "      <td>1</td>\n",
       "      <td>116950</td>\n",
       "      <td>137016</td>\n",
       "      <td>206879</td>\n",
       "      <td>227289</td>\n",
       "    </tr>\n",
       "    <tr>\n",
       "      <th>3</th>\n",
       "      <td>57513</td>\n",
       "      <td>66113</td>\n",
       "      <td>88.48</td>\n",
       "      <td>1</td>\n",
       "      <td>1</td>\n",
       "      <td>0</td>\n",
       "      <td>0</td>\n",
       "      <td>0</td>\n",
       "      <td>0</td>\n",
       "      <td>1</td>\n",
       "      <td>...</td>\n",
       "      <td>0.67</td>\n",
       "      <td>1.25</td>\n",
       "      <td>1</td>\n",
       "      <td>1</td>\n",
       "      <td>0</td>\n",
       "      <td>1</td>\n",
       "      <td>13015</td>\n",
       "      <td>137016</td>\n",
       "      <td>206879</td>\n",
       "      <td>227289</td>\n",
       "    </tr>\n",
       "    <tr>\n",
       "      <th>4</th>\n",
       "      <td>52378</td>\n",
       "      <td>60300</td>\n",
       "      <td>88.39</td>\n",
       "      <td>1</td>\n",
       "      <td>1</td>\n",
       "      <td>0</td>\n",
       "      <td>0</td>\n",
       "      <td>0</td>\n",
       "      <td>0</td>\n",
       "      <td>0</td>\n",
       "      <td>...</td>\n",
       "      <td>0.00</td>\n",
       "      <td>0.00</td>\n",
       "      <td>1</td>\n",
       "      <td>1</td>\n",
       "      <td>0</td>\n",
       "      <td>1</td>\n",
       "      <td>116950</td>\n",
       "      <td>137016</td>\n",
       "      <td>206879</td>\n",
       "      <td>227289</td>\n",
       "    </tr>\n",
       "  </tbody>\n",
       "</table>\n",
       "<p>5 rows × 37 columns</p>\n",
       "</div>"
      ],
      "text/plain": [
       "   disbursed_amount  asset_cost    ltv  MobileNo_Avl_Flag  Aadhar_flag  \\\n",
       "0             50578       58400  89.55                  1            1   \n",
       "1             47145       65550  73.23                  1            1   \n",
       "2             53278       61360  89.63                  1            1   \n",
       "3             57513       66113  88.48                  1            1   \n",
       "4             52378       60300  88.39                  1            1   \n",
       "\n",
       "   PAN_flag  VoterID_flag  Driving_flag  Passport_flag  PERFORM_CNS.SCORE  \\\n",
       "0         0             0             0              0                  0   \n",
       "1         0             0             0              0                  1   \n",
       "2         0             0             0              0                  0   \n",
       "3         0             0             0              0                  1   \n",
       "4         0             0             0              0                  0   \n",
       "\n",
       "   ...  AVERAGE.ACCT.AGE  CREDIT.HISTORY.LENGTH  NO.OF_INQUIRIES  \\\n",
       "0  ...              0.00                   0.00                0   \n",
       "1  ...              1.92                   1.92                0   \n",
       "2  ...              0.00                   0.00                0   \n",
       "3  ...              0.67                   1.25                1   \n",
       "4  ...              0.00                   0.00                1   \n",
       "\n",
       "   loan_default  Salaried  Self employed  PRI.CURRENT.BALANCE.COUNT  \\\n",
       "0             0         1              0                     116950   \n",
       "1             1         0              1                      34978   \n",
       "2             0         0              1                     116950   \n",
       "3             1         0              1                      13015   \n",
       "4             1         0              1                     116950   \n",
       "\n",
       "   PRI.ACTIVE.ACCTS.COUNT  PRI.OVERDUE.ACCTS.COUNT  SEC.NO.OF.ACCTS.COUNT  \n",
       "0                  137016                   206879                 227289  \n",
       "1                   42055                    19970                 227289  \n",
       "2                  137016                   206879                 227289  \n",
       "3                  137016                   206879                 227289  \n",
       "4                  137016                   206879                 227289  \n",
       "\n",
       "[5 rows x 37 columns]"
      ]
     },
     "execution_count": 21,
     "metadata": {},
     "output_type": "execute_result"
    }
   ],
   "source": [
    "dfc.head()"
   ]
  },
  {
   "cell_type": "code",
   "execution_count": 24,
   "metadata": {},
   "outputs": [],
   "source": [
    "dfc = dfc.rename(columns = {'PRI.CURRENT.BALANCE.COUNT': 'PRI.NO.OF.ACCTS.COUNT'})"
   ]
  },
  {
   "cell_type": "code",
   "execution_count": 25,
   "metadata": {},
   "outputs": [
    {
     "data": {
      "text/html": [
       "<div>\n",
       "<style scoped>\n",
       "    .dataframe tbody tr th:only-of-type {\n",
       "        vertical-align: middle;\n",
       "    }\n",
       "\n",
       "    .dataframe tbody tr th {\n",
       "        vertical-align: top;\n",
       "    }\n",
       "\n",
       "    .dataframe thead th {\n",
       "        text-align: right;\n",
       "    }\n",
       "</style>\n",
       "<table border=\"1\" class=\"dataframe\">\n",
       "  <thead>\n",
       "    <tr style=\"text-align: right;\">\n",
       "      <th></th>\n",
       "      <th>disbursed_amount</th>\n",
       "      <th>asset_cost</th>\n",
       "      <th>ltv</th>\n",
       "      <th>MobileNo_Avl_Flag</th>\n",
       "      <th>Aadhar_flag</th>\n",
       "      <th>PAN_flag</th>\n",
       "      <th>VoterID_flag</th>\n",
       "      <th>Driving_flag</th>\n",
       "      <th>Passport_flag</th>\n",
       "      <th>PERFORM_CNS.SCORE</th>\n",
       "      <th>...</th>\n",
       "      <th>AVERAGE.ACCT.AGE</th>\n",
       "      <th>CREDIT.HISTORY.LENGTH</th>\n",
       "      <th>NO.OF_INQUIRIES</th>\n",
       "      <th>loan_default</th>\n",
       "      <th>Salaried</th>\n",
       "      <th>Self employed</th>\n",
       "      <th>PRI.NO.OF.ACCTS.COUNT</th>\n",
       "      <th>PRI.ACTIVE.ACCTS.COUNT</th>\n",
       "      <th>PRI.OVERDUE.ACCTS.COUNT</th>\n",
       "      <th>SEC.NO.OF.ACCTS.COUNT</th>\n",
       "    </tr>\n",
       "  </thead>\n",
       "  <tbody>\n",
       "    <tr>\n",
       "      <th>0</th>\n",
       "      <td>50578</td>\n",
       "      <td>58400</td>\n",
       "      <td>89.55</td>\n",
       "      <td>1</td>\n",
       "      <td>1</td>\n",
       "      <td>0</td>\n",
       "      <td>0</td>\n",
       "      <td>0</td>\n",
       "      <td>0</td>\n",
       "      <td>0</td>\n",
       "      <td>...</td>\n",
       "      <td>0.00</td>\n",
       "      <td>0.00</td>\n",
       "      <td>0</td>\n",
       "      <td>0</td>\n",
       "      <td>1</td>\n",
       "      <td>0</td>\n",
       "      <td>116950</td>\n",
       "      <td>137016</td>\n",
       "      <td>206879</td>\n",
       "      <td>227289</td>\n",
       "    </tr>\n",
       "    <tr>\n",
       "      <th>1</th>\n",
       "      <td>47145</td>\n",
       "      <td>65550</td>\n",
       "      <td>73.23</td>\n",
       "      <td>1</td>\n",
       "      <td>1</td>\n",
       "      <td>0</td>\n",
       "      <td>0</td>\n",
       "      <td>0</td>\n",
       "      <td>0</td>\n",
       "      <td>1</td>\n",
       "      <td>...</td>\n",
       "      <td>1.92</td>\n",
       "      <td>1.92</td>\n",
       "      <td>0</td>\n",
       "      <td>1</td>\n",
       "      <td>0</td>\n",
       "      <td>1</td>\n",
       "      <td>34978</td>\n",
       "      <td>42055</td>\n",
       "      <td>19970</td>\n",
       "      <td>227289</td>\n",
       "    </tr>\n",
       "    <tr>\n",
       "      <th>2</th>\n",
       "      <td>53278</td>\n",
       "      <td>61360</td>\n",
       "      <td>89.63</td>\n",
       "      <td>1</td>\n",
       "      <td>1</td>\n",
       "      <td>0</td>\n",
       "      <td>0</td>\n",
       "      <td>0</td>\n",
       "      <td>0</td>\n",
       "      <td>0</td>\n",
       "      <td>...</td>\n",
       "      <td>0.00</td>\n",
       "      <td>0.00</td>\n",
       "      <td>0</td>\n",
       "      <td>0</td>\n",
       "      <td>0</td>\n",
       "      <td>1</td>\n",
       "      <td>116950</td>\n",
       "      <td>137016</td>\n",
       "      <td>206879</td>\n",
       "      <td>227289</td>\n",
       "    </tr>\n",
       "    <tr>\n",
       "      <th>3</th>\n",
       "      <td>57513</td>\n",
       "      <td>66113</td>\n",
       "      <td>88.48</td>\n",
       "      <td>1</td>\n",
       "      <td>1</td>\n",
       "      <td>0</td>\n",
       "      <td>0</td>\n",
       "      <td>0</td>\n",
       "      <td>0</td>\n",
       "      <td>1</td>\n",
       "      <td>...</td>\n",
       "      <td>0.67</td>\n",
       "      <td>1.25</td>\n",
       "      <td>1</td>\n",
       "      <td>1</td>\n",
       "      <td>0</td>\n",
       "      <td>1</td>\n",
       "      <td>13015</td>\n",
       "      <td>137016</td>\n",
       "      <td>206879</td>\n",
       "      <td>227289</td>\n",
       "    </tr>\n",
       "    <tr>\n",
       "      <th>4</th>\n",
       "      <td>52378</td>\n",
       "      <td>60300</td>\n",
       "      <td>88.39</td>\n",
       "      <td>1</td>\n",
       "      <td>1</td>\n",
       "      <td>0</td>\n",
       "      <td>0</td>\n",
       "      <td>0</td>\n",
       "      <td>0</td>\n",
       "      <td>0</td>\n",
       "      <td>...</td>\n",
       "      <td>0.00</td>\n",
       "      <td>0.00</td>\n",
       "      <td>1</td>\n",
       "      <td>1</td>\n",
       "      <td>0</td>\n",
       "      <td>1</td>\n",
       "      <td>116950</td>\n",
       "      <td>137016</td>\n",
       "      <td>206879</td>\n",
       "      <td>227289</td>\n",
       "    </tr>\n",
       "  </tbody>\n",
       "</table>\n",
       "<p>5 rows × 37 columns</p>\n",
       "</div>"
      ],
      "text/plain": [
       "   disbursed_amount  asset_cost    ltv  MobileNo_Avl_Flag  Aadhar_flag  \\\n",
       "0             50578       58400  89.55                  1            1   \n",
       "1             47145       65550  73.23                  1            1   \n",
       "2             53278       61360  89.63                  1            1   \n",
       "3             57513       66113  88.48                  1            1   \n",
       "4             52378       60300  88.39                  1            1   \n",
       "\n",
       "   PAN_flag  VoterID_flag  Driving_flag  Passport_flag  PERFORM_CNS.SCORE  \\\n",
       "0         0             0             0              0                  0   \n",
       "1         0             0             0              0                  1   \n",
       "2         0             0             0              0                  0   \n",
       "3         0             0             0              0                  1   \n",
       "4         0             0             0              0                  0   \n",
       "\n",
       "   ...  AVERAGE.ACCT.AGE  CREDIT.HISTORY.LENGTH  NO.OF_INQUIRIES  \\\n",
       "0  ...              0.00                   0.00                0   \n",
       "1  ...              1.92                   1.92                0   \n",
       "2  ...              0.00                   0.00                0   \n",
       "3  ...              0.67                   1.25                1   \n",
       "4  ...              0.00                   0.00                1   \n",
       "\n",
       "   loan_default  Salaried  Self employed  PRI.NO.OF.ACCTS.COUNT  \\\n",
       "0             0         1              0                 116950   \n",
       "1             1         0              1                  34978   \n",
       "2             0         0              1                 116950   \n",
       "3             1         0              1                  13015   \n",
       "4             1         0              1                 116950   \n",
       "\n",
       "   PRI.ACTIVE.ACCTS.COUNT  PRI.OVERDUE.ACCTS.COUNT  SEC.NO.OF.ACCTS.COUNT  \n",
       "0                  137016                   206879                 227289  \n",
       "1                   42055                    19970                 227289  \n",
       "2                  137016                   206879                 227289  \n",
       "3                  137016                   206879                 227289  \n",
       "4                  137016                   206879                 227289  \n",
       "\n",
       "[5 rows x 37 columns]"
      ]
     },
     "execution_count": 25,
     "metadata": {},
     "output_type": "execute_result"
    }
   ],
   "source": [
    "dfc.head()"
   ]
  },
  {
   "cell_type": "code",
   "execution_count": 26,
   "metadata": {},
   "outputs": [],
   "source": [
    "# SEC.ACTIVE.ACCTS"
   ]
  },
  {
   "cell_type": "code",
   "execution_count": 27,
   "metadata": {},
   "outputs": [
    {
     "data": {
      "text/plain": [
       "0     229337\n",
       "1       2684\n",
       "2        636\n",
       "3        195\n",
       "4        116\n",
       "5         65\n",
       "6         32\n",
       "7         22\n",
       "8         17\n",
       "9         11\n",
       "10         9\n",
       "11         7\n",
       "12         6\n",
       "15         4\n",
       "13         3\n",
       "16         2\n",
       "22         2\n",
       "26         1\n",
       "14         1\n",
       "17         1\n",
       "20         1\n",
       "21         1\n",
       "36         1\n",
       "Name: SEC.ACTIVE.ACCTS, dtype: int64"
      ]
     },
     "execution_count": 27,
     "metadata": {},
     "output_type": "execute_result"
    }
   ],
   "source": [
    "dfc['SEC.ACTIVE.ACCTS'].value_counts()"
   ]
  },
  {
   "cell_type": "code",
   "execution_count": 28,
   "metadata": {},
   "outputs": [
    {
     "data": {
      "text/plain": [
       "{0: 229337,\n",
       " 1: 2684,\n",
       " 2: 636,\n",
       " 3: 195,\n",
       " 4: 116,\n",
       " 5: 65,\n",
       " 6: 32,\n",
       " 7: 22,\n",
       " 8: 17,\n",
       " 9: 11,\n",
       " 10: 9,\n",
       " 11: 7,\n",
       " 12: 6,\n",
       " 15: 4,\n",
       " 13: 3,\n",
       " 16: 2,\n",
       " 22: 2,\n",
       " 26: 1,\n",
       " 14: 1,\n",
       " 17: 1,\n",
       " 20: 1,\n",
       " 21: 1,\n",
       " 36: 1}"
      ]
     },
     "execution_count": 28,
     "metadata": {},
     "output_type": "execute_result"
    }
   ],
   "source": [
    "dt6 = {}\n",
    "k6 = dfc['SEC.ACTIVE.ACCTS'].value_counts().index\n",
    "v6 = dfc['SEC.ACTIVE.ACCTS'].value_counts().values\n",
    "dt6.update(zip(k6,v6))\n",
    "dt6"
   ]
  },
  {
   "cell_type": "code",
   "execution_count": 29,
   "metadata": {},
   "outputs": [],
   "source": [
    "dfc['SEC.ACTIVE.ACCTS.COUNT'] = dfc['SEC.ACTIVE.ACCTS'].map(dt6)"
   ]
  },
  {
   "cell_type": "code",
   "execution_count": 30,
   "metadata": {},
   "outputs": [],
   "source": [
    "#SEC.OVERDUE.ACCTS"
   ]
  },
  {
   "cell_type": "code",
   "execution_count": 31,
   "metadata": {},
   "outputs": [
    {
     "data": {
      "text/plain": [
       "0    231817\n",
       "1      1129\n",
       "2       126\n",
       "3        47\n",
       "4        19\n",
       "5         8\n",
       "6         6\n",
       "8         1\n",
       "7         1\n",
       "Name: SEC.OVERDUE.ACCTS, dtype: int64"
      ]
     },
     "execution_count": 31,
     "metadata": {},
     "output_type": "execute_result"
    }
   ],
   "source": [
    "dfc['SEC.OVERDUE.ACCTS'].value_counts()"
   ]
  },
  {
   "cell_type": "code",
   "execution_count": 32,
   "metadata": {},
   "outputs": [
    {
     "data": {
      "text/plain": [
       "{0: 231817, 1: 1129, 2: 126, 3: 47, 4: 19, 5: 8, 6: 6, 8: 1, 7: 1}"
      ]
     },
     "execution_count": 32,
     "metadata": {},
     "output_type": "execute_result"
    }
   ],
   "source": [
    "dt7 = {}\n",
    "k7 = dfc['SEC.OVERDUE.ACCTS'].value_counts().index\n",
    "v7 = dfc['SEC.OVERDUE.ACCTS'].value_counts().values\n",
    "dt7.update(zip(k7,v7))\n",
    "dt7"
   ]
  },
  {
   "cell_type": "code",
   "execution_count": 33,
   "metadata": {},
   "outputs": [],
   "source": [
    "dfc['SEC.OVERDUE.ACCTS.COUNT'] = dfc['SEC.OVERDUE.ACCTS'].map(dt7)"
   ]
  },
  {
   "cell_type": "code",
   "execution_count": 34,
   "metadata": {},
   "outputs": [],
   "source": [
    "#NEW.ACCTS.IN.LAST.SIX.MONTHS"
   ]
  },
  {
   "cell_type": "code",
   "execution_count": 35,
   "metadata": {},
   "outputs": [
    {
     "data": {
      "text/plain": [
       "0     181494\n",
       "1      32099\n",
       "2      11015\n",
       "3       4458\n",
       "4       1957\n",
       "5        964\n",
       "6        480\n",
       "7        302\n",
       "8        147\n",
       "9         79\n",
       "10        55\n",
       "11        31\n",
       "12        20\n",
       "13        15\n",
       "14        11\n",
       "16         6\n",
       "17         6\n",
       "20         3\n",
       "15         2\n",
       "18         2\n",
       "19         2\n",
       "23         2\n",
       "28         1\n",
       "21         1\n",
       "22         1\n",
       "35         1\n",
       "Name: NEW.ACCTS.IN.LAST.SIX.MONTHS, dtype: int64"
      ]
     },
     "execution_count": 35,
     "metadata": {},
     "output_type": "execute_result"
    }
   ],
   "source": [
    "dfc['NEW.ACCTS.IN.LAST.SIX.MONTHS'].value_counts()"
   ]
  },
  {
   "cell_type": "code",
   "execution_count": 39,
   "metadata": {},
   "outputs": [
    {
     "data": {
      "text/plain": [
       "{0: 181494,\n",
       " 1: 32099,\n",
       " 2: 11015,\n",
       " 3: 4458,\n",
       " 4: 1957,\n",
       " 5: 964,\n",
       " 6: 480,\n",
       " 7: 302,\n",
       " 8: 147,\n",
       " 9: 79,\n",
       " 10: 55,\n",
       " 11: 31,\n",
       " 12: 20,\n",
       " 13: 15,\n",
       " 14: 11,\n",
       " 16: 6,\n",
       " 17: 6,\n",
       " 20: 3,\n",
       " 15: 2,\n",
       " 18: 2,\n",
       " 19: 2,\n",
       " 23: 2,\n",
       " 28: 1,\n",
       " 21: 1,\n",
       " 22: 1,\n",
       " 35: 1}"
      ]
     },
     "execution_count": 39,
     "metadata": {},
     "output_type": "execute_result"
    }
   ],
   "source": [
    "dt8 = {}\n",
    "k8 = dfc['NEW.ACCTS.IN.LAST.SIX.MONTHS'].value_counts().index\n",
    "v8 = dfc['NEW.ACCTS.IN.LAST.SIX.MONTHS'].value_counts().values\n",
    "dt8.update(zip(k8,v8))\n",
    "dt8"
   ]
  },
  {
   "cell_type": "code",
   "execution_count": 40,
   "metadata": {},
   "outputs": [],
   "source": [
    "dfc['NEW.ACCTS.IN.LAST.SIX.MONTHS.COUNT'] = dfc['NEW.ACCTS.IN.LAST.SIX.MONTHS'].map(dt8)"
   ]
  },
  {
   "cell_type": "code",
   "execution_count": 41,
   "metadata": {},
   "outputs": [],
   "source": [
    "#DELINQUENT.ACCTS.IN.LAST.SIX.MONTHS"
   ]
  },
  {
   "cell_type": "code",
   "execution_count": 42,
   "metadata": {},
   "outputs": [
    {
     "data": {
      "text/plain": [
       "0     214959\n",
       "1      14941\n",
       "2       2470\n",
       "3        537\n",
       "4        138\n",
       "5         58\n",
       "6         20\n",
       "7         13\n",
       "8          7\n",
       "12         3\n",
       "11         3\n",
       "10         2\n",
       "9          2\n",
       "20         1\n",
       "Name: DELINQUENT.ACCTS.IN.LAST.SIX.MONTHS, dtype: int64"
      ]
     },
     "execution_count": 42,
     "metadata": {},
     "output_type": "execute_result"
    }
   ],
   "source": [
    "dfc['DELINQUENT.ACCTS.IN.LAST.SIX.MONTHS'].value_counts()"
   ]
  },
  {
   "cell_type": "code",
   "execution_count": 43,
   "metadata": {},
   "outputs": [
    {
     "data": {
      "text/plain": [
       "{0: 214959,\n",
       " 1: 14941,\n",
       " 2: 2470,\n",
       " 3: 537,\n",
       " 4: 138,\n",
       " 5: 58,\n",
       " 6: 20,\n",
       " 7: 13,\n",
       " 8: 7,\n",
       " 12: 3,\n",
       " 11: 3,\n",
       " 10: 2,\n",
       " 9: 2,\n",
       " 20: 1}"
      ]
     },
     "execution_count": 43,
     "metadata": {},
     "output_type": "execute_result"
    }
   ],
   "source": [
    "dt9 = {}\n",
    "k9 = dfc['DELINQUENT.ACCTS.IN.LAST.SIX.MONTHS'].value_counts().index\n",
    "v9 = dfc['DELINQUENT.ACCTS.IN.LAST.SIX.MONTHS'].value_counts().values\n",
    "dt9.update(zip(k9,v9))\n",
    "dt9"
   ]
  },
  {
   "cell_type": "code",
   "execution_count": 44,
   "metadata": {},
   "outputs": [],
   "source": [
    "dfc['DELINQUENT.ACCTS.IN.LAST.SIX.MONTHS.COUNT'] = dfc['DELINQUENT.ACCTS.IN.LAST.SIX.MONTHS'].map(dt9)"
   ]
  },
  {
   "cell_type": "code",
   "execution_count": 45,
   "metadata": {},
   "outputs": [],
   "source": [
    "#NO.OF_INQUIRIES"
   ]
  },
  {
   "cell_type": "code",
   "execution_count": 46,
   "metadata": {},
   "outputs": [
    {
     "data": {
      "text/plain": [
       "0     201961\n",
       "1      22285\n",
       "2       5409\n",
       "3       1767\n",
       "4        760\n",
       "5        343\n",
       "6        239\n",
       "7        135\n",
       "8        105\n",
       "9         44\n",
       "10        34\n",
       "11        15\n",
       "12        14\n",
       "14         8\n",
       "15         7\n",
       "13         6\n",
       "19         6\n",
       "17         4\n",
       "18         4\n",
       "16         3\n",
       "28         1\n",
       "20         1\n",
       "22         1\n",
       "23         1\n",
       "36         1\n",
       "Name: NO.OF_INQUIRIES, dtype: int64"
      ]
     },
     "execution_count": 46,
     "metadata": {},
     "output_type": "execute_result"
    }
   ],
   "source": [
    "dfc['NO.OF_INQUIRIES'].value_counts()"
   ]
  },
  {
   "cell_type": "code",
   "execution_count": 47,
   "metadata": {},
   "outputs": [
    {
     "data": {
      "text/plain": [
       "{0: 201961,\n",
       " 1: 22285,\n",
       " 2: 5409,\n",
       " 3: 1767,\n",
       " 4: 760,\n",
       " 5: 343,\n",
       " 6: 239,\n",
       " 7: 135,\n",
       " 8: 105,\n",
       " 9: 44,\n",
       " 10: 34,\n",
       " 11: 15,\n",
       " 12: 14,\n",
       " 14: 8,\n",
       " 15: 7,\n",
       " 13: 6,\n",
       " 19: 6,\n",
       " 17: 4,\n",
       " 18: 4,\n",
       " 16: 3,\n",
       " 28: 1,\n",
       " 20: 1,\n",
       " 22: 1,\n",
       " 23: 1,\n",
       " 36: 1}"
      ]
     },
     "execution_count": 47,
     "metadata": {},
     "output_type": "execute_result"
    }
   ],
   "source": [
    "dt10 = {}\n",
    "k10 = dfc['NO.OF_INQUIRIES'].value_counts().index\n",
    "v10 = dfc['NO.OF_INQUIRIES'].value_counts().values\n",
    "dt10.update(zip(k10,v10))\n",
    "dt10"
   ]
  },
  {
   "cell_type": "code",
   "execution_count": 48,
   "metadata": {},
   "outputs": [],
   "source": [
    "dfc['NO.OF_INQUIRIES.COUNT'] = dfc['NO.OF_INQUIRIES'].map(dt10)"
   ]
  },
  {
   "cell_type": "code",
   "execution_count": 49,
   "metadata": {},
   "outputs": [
    {
     "data": {
      "text/plain": [
       "(233154, 42)"
      ]
     },
     "execution_count": 49,
     "metadata": {},
     "output_type": "execute_result"
    }
   ],
   "source": [
    "dfc.shape"
   ]
  },
  {
   "cell_type": "code",
   "execution_count": 50,
   "metadata": {},
   "outputs": [],
   "source": [
    "# 10 new columns added\n",
    "# 9 columns dropped\n",
    "# 1 column additionally added only"
   ]
  },
  {
   "cell_type": "code",
   "execution_count": 53,
   "metadata": {},
   "outputs": [
    {
     "data": {
      "text/html": [
       "<div>\n",
       "<style scoped>\n",
       "    .dataframe tbody tr th:only-of-type {\n",
       "        vertical-align: middle;\n",
       "    }\n",
       "\n",
       "    .dataframe tbody tr th {\n",
       "        vertical-align: top;\n",
       "    }\n",
       "\n",
       "    .dataframe thead th {\n",
       "        text-align: right;\n",
       "    }\n",
       "</style>\n",
       "<table border=\"1\" class=\"dataframe\">\n",
       "  <thead>\n",
       "    <tr style=\"text-align: right;\">\n",
       "      <th></th>\n",
       "      <th>disbursed_amount</th>\n",
       "      <th>asset_cost</th>\n",
       "      <th>ltv</th>\n",
       "      <th>MobileNo_Avl_Flag</th>\n",
       "      <th>Aadhar_flag</th>\n",
       "      <th>PAN_flag</th>\n",
       "      <th>VoterID_flag</th>\n",
       "      <th>Driving_flag</th>\n",
       "      <th>Passport_flag</th>\n",
       "      <th>PERFORM_CNS.SCORE</th>\n",
       "      <th>...</th>\n",
       "      <th>Self employed</th>\n",
       "      <th>PRI.NO.OF.ACCTS.COUNT</th>\n",
       "      <th>PRI.ACTIVE.ACCTS.COUNT</th>\n",
       "      <th>PRI.OVERDUE.ACCTS.COUNT</th>\n",
       "      <th>SEC.NO.OF.ACCTS.COUNT</th>\n",
       "      <th>SEC.ACTIVE.ACCTS.COUNT</th>\n",
       "      <th>SEC.OVERDUE.ACCTS.COUNT</th>\n",
       "      <th>NEW.ACCTS.IN.LAST.SIX.MONTHS.COUNT</th>\n",
       "      <th>DELINQUENT.ACCTS.IN.LAST.SIX.MONTHS.COUNT</th>\n",
       "      <th>NO.OF_INQUIRIES.COUNT</th>\n",
       "    </tr>\n",
       "  </thead>\n",
       "  <tbody>\n",
       "    <tr>\n",
       "      <th>0</th>\n",
       "      <td>50578</td>\n",
       "      <td>58400</td>\n",
       "      <td>89.55</td>\n",
       "      <td>1</td>\n",
       "      <td>1</td>\n",
       "      <td>0</td>\n",
       "      <td>0</td>\n",
       "      <td>0</td>\n",
       "      <td>0</td>\n",
       "      <td>0</td>\n",
       "      <td>...</td>\n",
       "      <td>0</td>\n",
       "      <td>116950</td>\n",
       "      <td>137016</td>\n",
       "      <td>206879</td>\n",
       "      <td>227289</td>\n",
       "      <td>229337</td>\n",
       "      <td>231817</td>\n",
       "      <td>181494</td>\n",
       "      <td>214959</td>\n",
       "      <td>201961</td>\n",
       "    </tr>\n",
       "    <tr>\n",
       "      <th>1</th>\n",
       "      <td>47145</td>\n",
       "      <td>65550</td>\n",
       "      <td>73.23</td>\n",
       "      <td>1</td>\n",
       "      <td>1</td>\n",
       "      <td>0</td>\n",
       "      <td>0</td>\n",
       "      <td>0</td>\n",
       "      <td>0</td>\n",
       "      <td>1</td>\n",
       "      <td>...</td>\n",
       "      <td>1</td>\n",
       "      <td>34978</td>\n",
       "      <td>42055</td>\n",
       "      <td>19970</td>\n",
       "      <td>227289</td>\n",
       "      <td>229337</td>\n",
       "      <td>231817</td>\n",
       "      <td>181494</td>\n",
       "      <td>14941</td>\n",
       "      <td>201961</td>\n",
       "    </tr>\n",
       "    <tr>\n",
       "      <th>2</th>\n",
       "      <td>53278</td>\n",
       "      <td>61360</td>\n",
       "      <td>89.63</td>\n",
       "      <td>1</td>\n",
       "      <td>1</td>\n",
       "      <td>0</td>\n",
       "      <td>0</td>\n",
       "      <td>0</td>\n",
       "      <td>0</td>\n",
       "      <td>0</td>\n",
       "      <td>...</td>\n",
       "      <td>1</td>\n",
       "      <td>116950</td>\n",
       "      <td>137016</td>\n",
       "      <td>206879</td>\n",
       "      <td>227289</td>\n",
       "      <td>229337</td>\n",
       "      <td>231817</td>\n",
       "      <td>181494</td>\n",
       "      <td>214959</td>\n",
       "      <td>201961</td>\n",
       "    </tr>\n",
       "    <tr>\n",
       "      <th>3</th>\n",
       "      <td>57513</td>\n",
       "      <td>66113</td>\n",
       "      <td>88.48</td>\n",
       "      <td>1</td>\n",
       "      <td>1</td>\n",
       "      <td>0</td>\n",
       "      <td>0</td>\n",
       "      <td>0</td>\n",
       "      <td>0</td>\n",
       "      <td>1</td>\n",
       "      <td>...</td>\n",
       "      <td>1</td>\n",
       "      <td>13015</td>\n",
       "      <td>137016</td>\n",
       "      <td>206879</td>\n",
       "      <td>227289</td>\n",
       "      <td>229337</td>\n",
       "      <td>231817</td>\n",
       "      <td>181494</td>\n",
       "      <td>214959</td>\n",
       "      <td>22285</td>\n",
       "    </tr>\n",
       "    <tr>\n",
       "      <th>4</th>\n",
       "      <td>52378</td>\n",
       "      <td>60300</td>\n",
       "      <td>88.39</td>\n",
       "      <td>1</td>\n",
       "      <td>1</td>\n",
       "      <td>0</td>\n",
       "      <td>0</td>\n",
       "      <td>0</td>\n",
       "      <td>0</td>\n",
       "      <td>0</td>\n",
       "      <td>...</td>\n",
       "      <td>1</td>\n",
       "      <td>116950</td>\n",
       "      <td>137016</td>\n",
       "      <td>206879</td>\n",
       "      <td>227289</td>\n",
       "      <td>229337</td>\n",
       "      <td>231817</td>\n",
       "      <td>181494</td>\n",
       "      <td>214959</td>\n",
       "      <td>22285</td>\n",
       "    </tr>\n",
       "  </tbody>\n",
       "</table>\n",
       "<p>5 rows × 42 columns</p>\n",
       "</div>"
      ],
      "text/plain": [
       "   disbursed_amount  asset_cost    ltv  MobileNo_Avl_Flag  Aadhar_flag  \\\n",
       "0             50578       58400  89.55                  1            1   \n",
       "1             47145       65550  73.23                  1            1   \n",
       "2             53278       61360  89.63                  1            1   \n",
       "3             57513       66113  88.48                  1            1   \n",
       "4             52378       60300  88.39                  1            1   \n",
       "\n",
       "   PAN_flag  VoterID_flag  Driving_flag  Passport_flag  PERFORM_CNS.SCORE  \\\n",
       "0         0             0             0              0                  0   \n",
       "1         0             0             0              0                  1   \n",
       "2         0             0             0              0                  0   \n",
       "3         0             0             0              0                  1   \n",
       "4         0             0             0              0                  0   \n",
       "\n",
       "   ...  Self employed  PRI.NO.OF.ACCTS.COUNT  PRI.ACTIVE.ACCTS.COUNT  \\\n",
       "0  ...              0                 116950                  137016   \n",
       "1  ...              1                  34978                   42055   \n",
       "2  ...              1                 116950                  137016   \n",
       "3  ...              1                  13015                  137016   \n",
       "4  ...              1                 116950                  137016   \n",
       "\n",
       "   PRI.OVERDUE.ACCTS.COUNT  SEC.NO.OF.ACCTS.COUNT  SEC.ACTIVE.ACCTS.COUNT  \\\n",
       "0                   206879                 227289                  229337   \n",
       "1                    19970                 227289                  229337   \n",
       "2                   206879                 227289                  229337   \n",
       "3                   206879                 227289                  229337   \n",
       "4                   206879                 227289                  229337   \n",
       "\n",
       "   SEC.OVERDUE.ACCTS.COUNT  NEW.ACCTS.IN.LAST.SIX.MONTHS.COUNT  \\\n",
       "0                   231817                              181494   \n",
       "1                   231817                              181494   \n",
       "2                   231817                              181494   \n",
       "3                   231817                              181494   \n",
       "4                   231817                              181494   \n",
       "\n",
       "   DELINQUENT.ACCTS.IN.LAST.SIX.MONTHS.COUNT  NO.OF_INQUIRIES.COUNT  \n",
       "0                                     214959                 201961  \n",
       "1                                      14941                 201961  \n",
       "2                                     214959                 201961  \n",
       "3                                     214959                  22285  \n",
       "4                                     214959                  22285  \n",
       "\n",
       "[5 rows x 42 columns]"
      ]
     },
     "execution_count": 53,
     "metadata": {},
     "output_type": "execute_result"
    }
   ],
   "source": [
    "dfc.head()"
   ]
  },
  {
   "cell_type": "code",
   "execution_count": 52,
   "metadata": {},
   "outputs": [],
   "source": [
    "dfc.to_csv('dfc_final.csv')"
   ]
  },
  {
   "cell_type": "code",
   "execution_count": 196,
   "metadata": {},
   "outputs": [
    {
     "data": {
      "text/html": [
       "<div>\n",
       "<style scoped>\n",
       "    .dataframe tbody tr th:only-of-type {\n",
       "        vertical-align: middle;\n",
       "    }\n",
       "\n",
       "    .dataframe tbody tr th {\n",
       "        vertical-align: top;\n",
       "    }\n",
       "\n",
       "    .dataframe thead th {\n",
       "        text-align: right;\n",
       "    }\n",
       "</style>\n",
       "<table border=\"1\" class=\"dataframe\">\n",
       "  <thead>\n",
       "    <tr style=\"text-align: right;\">\n",
       "      <th></th>\n",
       "      <th>Unnamed: 0</th>\n",
       "      <th>disbursed_amount</th>\n",
       "      <th>asset_cost</th>\n",
       "      <th>ltv</th>\n",
       "      <th>MobileNo_Avl_Flag</th>\n",
       "      <th>Aadhar_flag</th>\n",
       "      <th>PAN_flag</th>\n",
       "      <th>VoterID_flag</th>\n",
       "      <th>Driving_flag</th>\n",
       "      <th>Passport_flag</th>\n",
       "      <th>...</th>\n",
       "      <th>Self employed</th>\n",
       "      <th>PRI.NO.OF.ACCTS.COUNT</th>\n",
       "      <th>PRI.ACTIVE.ACCTS.COUNT</th>\n",
       "      <th>PRI.OVERDUE.ACCTS.COUNT</th>\n",
       "      <th>SEC.NO.OF.ACCTS.COUNT</th>\n",
       "      <th>SEC.ACTIVE.ACCTS.COUNT</th>\n",
       "      <th>SEC.OVERDUE.ACCTS.COUNT</th>\n",
       "      <th>NEW.ACCTS.IN.LAST.SIX.MONTHS.COUNT</th>\n",
       "      <th>DELINQUENT.ACCTS.IN.LAST.SIX.MONTHS.COUNT</th>\n",
       "      <th>NO.OF_INQUIRIES.COUNT</th>\n",
       "    </tr>\n",
       "  </thead>\n",
       "  <tbody>\n",
       "    <tr>\n",
       "      <th>0</th>\n",
       "      <td>0</td>\n",
       "      <td>50578</td>\n",
       "      <td>58400</td>\n",
       "      <td>89.55</td>\n",
       "      <td>1</td>\n",
       "      <td>1</td>\n",
       "      <td>0</td>\n",
       "      <td>0</td>\n",
       "      <td>0</td>\n",
       "      <td>0</td>\n",
       "      <td>...</td>\n",
       "      <td>0</td>\n",
       "      <td>116950</td>\n",
       "      <td>137016</td>\n",
       "      <td>206879</td>\n",
       "      <td>227289</td>\n",
       "      <td>229337</td>\n",
       "      <td>231817</td>\n",
       "      <td>181494</td>\n",
       "      <td>214959</td>\n",
       "      <td>201961</td>\n",
       "    </tr>\n",
       "    <tr>\n",
       "      <th>1</th>\n",
       "      <td>1</td>\n",
       "      <td>47145</td>\n",
       "      <td>65550</td>\n",
       "      <td>73.23</td>\n",
       "      <td>1</td>\n",
       "      <td>1</td>\n",
       "      <td>0</td>\n",
       "      <td>0</td>\n",
       "      <td>0</td>\n",
       "      <td>0</td>\n",
       "      <td>...</td>\n",
       "      <td>1</td>\n",
       "      <td>34978</td>\n",
       "      <td>42055</td>\n",
       "      <td>19970</td>\n",
       "      <td>227289</td>\n",
       "      <td>229337</td>\n",
       "      <td>231817</td>\n",
       "      <td>181494</td>\n",
       "      <td>14941</td>\n",
       "      <td>201961</td>\n",
       "    </tr>\n",
       "    <tr>\n",
       "      <th>2</th>\n",
       "      <td>2</td>\n",
       "      <td>53278</td>\n",
       "      <td>61360</td>\n",
       "      <td>89.63</td>\n",
       "      <td>1</td>\n",
       "      <td>1</td>\n",
       "      <td>0</td>\n",
       "      <td>0</td>\n",
       "      <td>0</td>\n",
       "      <td>0</td>\n",
       "      <td>...</td>\n",
       "      <td>1</td>\n",
       "      <td>116950</td>\n",
       "      <td>137016</td>\n",
       "      <td>206879</td>\n",
       "      <td>227289</td>\n",
       "      <td>229337</td>\n",
       "      <td>231817</td>\n",
       "      <td>181494</td>\n",
       "      <td>214959</td>\n",
       "      <td>201961</td>\n",
       "    </tr>\n",
       "    <tr>\n",
       "      <th>3</th>\n",
       "      <td>3</td>\n",
       "      <td>57513</td>\n",
       "      <td>66113</td>\n",
       "      <td>88.48</td>\n",
       "      <td>1</td>\n",
       "      <td>1</td>\n",
       "      <td>0</td>\n",
       "      <td>0</td>\n",
       "      <td>0</td>\n",
       "      <td>0</td>\n",
       "      <td>...</td>\n",
       "      <td>1</td>\n",
       "      <td>13015</td>\n",
       "      <td>137016</td>\n",
       "      <td>206879</td>\n",
       "      <td>227289</td>\n",
       "      <td>229337</td>\n",
       "      <td>231817</td>\n",
       "      <td>181494</td>\n",
       "      <td>214959</td>\n",
       "      <td>22285</td>\n",
       "    </tr>\n",
       "    <tr>\n",
       "      <th>4</th>\n",
       "      <td>4</td>\n",
       "      <td>52378</td>\n",
       "      <td>60300</td>\n",
       "      <td>88.39</td>\n",
       "      <td>1</td>\n",
       "      <td>1</td>\n",
       "      <td>0</td>\n",
       "      <td>0</td>\n",
       "      <td>0</td>\n",
       "      <td>0</td>\n",
       "      <td>...</td>\n",
       "      <td>1</td>\n",
       "      <td>116950</td>\n",
       "      <td>137016</td>\n",
       "      <td>206879</td>\n",
       "      <td>227289</td>\n",
       "      <td>229337</td>\n",
       "      <td>231817</td>\n",
       "      <td>181494</td>\n",
       "      <td>214959</td>\n",
       "      <td>22285</td>\n",
       "    </tr>\n",
       "  </tbody>\n",
       "</table>\n",
       "<p>5 rows × 43 columns</p>\n",
       "</div>"
      ],
      "text/plain": [
       "   Unnamed: 0  disbursed_amount  asset_cost    ltv  MobileNo_Avl_Flag  \\\n",
       "0           0             50578       58400  89.55                  1   \n",
       "1           1             47145       65550  73.23                  1   \n",
       "2           2             53278       61360  89.63                  1   \n",
       "3           3             57513       66113  88.48                  1   \n",
       "4           4             52378       60300  88.39                  1   \n",
       "\n",
       "   Aadhar_flag  PAN_flag  VoterID_flag  Driving_flag  Passport_flag  ...  \\\n",
       "0            1         0             0             0              0  ...   \n",
       "1            1         0             0             0              0  ...   \n",
       "2            1         0             0             0              0  ...   \n",
       "3            1         0             0             0              0  ...   \n",
       "4            1         0             0             0              0  ...   \n",
       "\n",
       "   Self employed  PRI.NO.OF.ACCTS.COUNT  PRI.ACTIVE.ACCTS.COUNT  \\\n",
       "0              0                 116950                  137016   \n",
       "1              1                  34978                   42055   \n",
       "2              1                 116950                  137016   \n",
       "3              1                  13015                  137016   \n",
       "4              1                 116950                  137016   \n",
       "\n",
       "   PRI.OVERDUE.ACCTS.COUNT  SEC.NO.OF.ACCTS.COUNT  SEC.ACTIVE.ACCTS.COUNT  \\\n",
       "0                   206879                 227289                  229337   \n",
       "1                    19970                 227289                  229337   \n",
       "2                   206879                 227289                  229337   \n",
       "3                   206879                 227289                  229337   \n",
       "4                   206879                 227289                  229337   \n",
       "\n",
       "   SEC.OVERDUE.ACCTS.COUNT  NEW.ACCTS.IN.LAST.SIX.MONTHS.COUNT  \\\n",
       "0                   231817                              181494   \n",
       "1                   231817                              181494   \n",
       "2                   231817                              181494   \n",
       "3                   231817                              181494   \n",
       "4                   231817                              181494   \n",
       "\n",
       "   DELINQUENT.ACCTS.IN.LAST.SIX.MONTHS.COUNT  NO.OF_INQUIRIES.COUNT  \n",
       "0                                     214959                 201961  \n",
       "1                                      14941                 201961  \n",
       "2                                     214959                 201961  \n",
       "3                                     214959                  22285  \n",
       "4                                     214959                  22285  \n",
       "\n",
       "[5 rows x 43 columns]"
      ]
     },
     "execution_count": 196,
     "metadata": {},
     "output_type": "execute_result"
    }
   ],
   "source": [
    "dfc = pd.read_csv('C:/Users/Tusha/OneDrive/Desktop/GL - DSE/capstone/Model Improvement/Final datasets/dfc_final.csv')\n",
    "dfc.head()"
   ]
  },
  {
   "cell_type": "code",
   "execution_count": 197,
   "metadata": {},
   "outputs": [],
   "source": [
    "dfc.drop('Unnamed: 0', axis = 1, inplace = True)"
   ]
  },
  {
   "cell_type": "code",
   "execution_count": 198,
   "metadata": {},
   "outputs": [
    {
     "data": {
      "text/html": [
       "<div>\n",
       "<style scoped>\n",
       "    .dataframe tbody tr th:only-of-type {\n",
       "        vertical-align: middle;\n",
       "    }\n",
       "\n",
       "    .dataframe tbody tr th {\n",
       "        vertical-align: top;\n",
       "    }\n",
       "\n",
       "    .dataframe thead th {\n",
       "        text-align: right;\n",
       "    }\n",
       "</style>\n",
       "<table border=\"1\" class=\"dataframe\">\n",
       "  <thead>\n",
       "    <tr style=\"text-align: right;\">\n",
       "      <th></th>\n",
       "      <th>disbursed_amount</th>\n",
       "      <th>asset_cost</th>\n",
       "      <th>ltv</th>\n",
       "      <th>MobileNo_Avl_Flag</th>\n",
       "      <th>Aadhar_flag</th>\n",
       "      <th>PAN_flag</th>\n",
       "      <th>VoterID_flag</th>\n",
       "      <th>Driving_flag</th>\n",
       "      <th>Passport_flag</th>\n",
       "      <th>PERFORM_CNS.SCORE</th>\n",
       "      <th>...</th>\n",
       "      <th>Self employed</th>\n",
       "      <th>PRI.NO.OF.ACCTS.COUNT</th>\n",
       "      <th>PRI.ACTIVE.ACCTS.COUNT</th>\n",
       "      <th>PRI.OVERDUE.ACCTS.COUNT</th>\n",
       "      <th>SEC.NO.OF.ACCTS.COUNT</th>\n",
       "      <th>SEC.ACTIVE.ACCTS.COUNT</th>\n",
       "      <th>SEC.OVERDUE.ACCTS.COUNT</th>\n",
       "      <th>NEW.ACCTS.IN.LAST.SIX.MONTHS.COUNT</th>\n",
       "      <th>DELINQUENT.ACCTS.IN.LAST.SIX.MONTHS.COUNT</th>\n",
       "      <th>NO.OF_INQUIRIES.COUNT</th>\n",
       "    </tr>\n",
       "  </thead>\n",
       "  <tbody>\n",
       "    <tr>\n",
       "      <th>0</th>\n",
       "      <td>50578</td>\n",
       "      <td>58400</td>\n",
       "      <td>89.55</td>\n",
       "      <td>1</td>\n",
       "      <td>1</td>\n",
       "      <td>0</td>\n",
       "      <td>0</td>\n",
       "      <td>0</td>\n",
       "      <td>0</td>\n",
       "      <td>0</td>\n",
       "      <td>...</td>\n",
       "      <td>0</td>\n",
       "      <td>116950</td>\n",
       "      <td>137016</td>\n",
       "      <td>206879</td>\n",
       "      <td>227289</td>\n",
       "      <td>229337</td>\n",
       "      <td>231817</td>\n",
       "      <td>181494</td>\n",
       "      <td>214959</td>\n",
       "      <td>201961</td>\n",
       "    </tr>\n",
       "    <tr>\n",
       "      <th>1</th>\n",
       "      <td>47145</td>\n",
       "      <td>65550</td>\n",
       "      <td>73.23</td>\n",
       "      <td>1</td>\n",
       "      <td>1</td>\n",
       "      <td>0</td>\n",
       "      <td>0</td>\n",
       "      <td>0</td>\n",
       "      <td>0</td>\n",
       "      <td>1</td>\n",
       "      <td>...</td>\n",
       "      <td>1</td>\n",
       "      <td>34978</td>\n",
       "      <td>42055</td>\n",
       "      <td>19970</td>\n",
       "      <td>227289</td>\n",
       "      <td>229337</td>\n",
       "      <td>231817</td>\n",
       "      <td>181494</td>\n",
       "      <td>14941</td>\n",
       "      <td>201961</td>\n",
       "    </tr>\n",
       "    <tr>\n",
       "      <th>2</th>\n",
       "      <td>53278</td>\n",
       "      <td>61360</td>\n",
       "      <td>89.63</td>\n",
       "      <td>1</td>\n",
       "      <td>1</td>\n",
       "      <td>0</td>\n",
       "      <td>0</td>\n",
       "      <td>0</td>\n",
       "      <td>0</td>\n",
       "      <td>0</td>\n",
       "      <td>...</td>\n",
       "      <td>1</td>\n",
       "      <td>116950</td>\n",
       "      <td>137016</td>\n",
       "      <td>206879</td>\n",
       "      <td>227289</td>\n",
       "      <td>229337</td>\n",
       "      <td>231817</td>\n",
       "      <td>181494</td>\n",
       "      <td>214959</td>\n",
       "      <td>201961</td>\n",
       "    </tr>\n",
       "    <tr>\n",
       "      <th>3</th>\n",
       "      <td>57513</td>\n",
       "      <td>66113</td>\n",
       "      <td>88.48</td>\n",
       "      <td>1</td>\n",
       "      <td>1</td>\n",
       "      <td>0</td>\n",
       "      <td>0</td>\n",
       "      <td>0</td>\n",
       "      <td>0</td>\n",
       "      <td>1</td>\n",
       "      <td>...</td>\n",
       "      <td>1</td>\n",
       "      <td>13015</td>\n",
       "      <td>137016</td>\n",
       "      <td>206879</td>\n",
       "      <td>227289</td>\n",
       "      <td>229337</td>\n",
       "      <td>231817</td>\n",
       "      <td>181494</td>\n",
       "      <td>214959</td>\n",
       "      <td>22285</td>\n",
       "    </tr>\n",
       "    <tr>\n",
       "      <th>4</th>\n",
       "      <td>52378</td>\n",
       "      <td>60300</td>\n",
       "      <td>88.39</td>\n",
       "      <td>1</td>\n",
       "      <td>1</td>\n",
       "      <td>0</td>\n",
       "      <td>0</td>\n",
       "      <td>0</td>\n",
       "      <td>0</td>\n",
       "      <td>0</td>\n",
       "      <td>...</td>\n",
       "      <td>1</td>\n",
       "      <td>116950</td>\n",
       "      <td>137016</td>\n",
       "      <td>206879</td>\n",
       "      <td>227289</td>\n",
       "      <td>229337</td>\n",
       "      <td>231817</td>\n",
       "      <td>181494</td>\n",
       "      <td>214959</td>\n",
       "      <td>22285</td>\n",
       "    </tr>\n",
       "  </tbody>\n",
       "</table>\n",
       "<p>5 rows × 42 columns</p>\n",
       "</div>"
      ],
      "text/plain": [
       "   disbursed_amount  asset_cost    ltv  MobileNo_Avl_Flag  Aadhar_flag  \\\n",
       "0             50578       58400  89.55                  1            1   \n",
       "1             47145       65550  73.23                  1            1   \n",
       "2             53278       61360  89.63                  1            1   \n",
       "3             57513       66113  88.48                  1            1   \n",
       "4             52378       60300  88.39                  1            1   \n",
       "\n",
       "   PAN_flag  VoterID_flag  Driving_flag  Passport_flag  PERFORM_CNS.SCORE  \\\n",
       "0         0             0             0              0                  0   \n",
       "1         0             0             0              0                  1   \n",
       "2         0             0             0              0                  0   \n",
       "3         0             0             0              0                  1   \n",
       "4         0             0             0              0                  0   \n",
       "\n",
       "   ...  Self employed  PRI.NO.OF.ACCTS.COUNT  PRI.ACTIVE.ACCTS.COUNT  \\\n",
       "0  ...              0                 116950                  137016   \n",
       "1  ...              1                  34978                   42055   \n",
       "2  ...              1                 116950                  137016   \n",
       "3  ...              1                  13015                  137016   \n",
       "4  ...              1                 116950                  137016   \n",
       "\n",
       "   PRI.OVERDUE.ACCTS.COUNT  SEC.NO.OF.ACCTS.COUNT  SEC.ACTIVE.ACCTS.COUNT  \\\n",
       "0                   206879                 227289                  229337   \n",
       "1                    19970                 227289                  229337   \n",
       "2                   206879                 227289                  229337   \n",
       "3                   206879                 227289                  229337   \n",
       "4                   206879                 227289                  229337   \n",
       "\n",
       "   SEC.OVERDUE.ACCTS.COUNT  NEW.ACCTS.IN.LAST.SIX.MONTHS.COUNT  \\\n",
       "0                   231817                              181494   \n",
       "1                   231817                              181494   \n",
       "2                   231817                              181494   \n",
       "3                   231817                              181494   \n",
       "4                   231817                              181494   \n",
       "\n",
       "   DELINQUENT.ACCTS.IN.LAST.SIX.MONTHS.COUNT  NO.OF_INQUIRIES.COUNT  \n",
       "0                                     214959                 201961  \n",
       "1                                      14941                 201961  \n",
       "2                                     214959                 201961  \n",
       "3                                     214959                  22285  \n",
       "4                                     214959                  22285  \n",
       "\n",
       "[5 rows x 42 columns]"
      ]
     },
     "execution_count": 198,
     "metadata": {},
     "output_type": "execute_result"
    }
   ],
   "source": [
    "dfc.head()"
   ]
  },
  {
   "cell_type": "code",
   "execution_count": 199,
   "metadata": {},
   "outputs": [],
   "source": [
    "dfc_new = dfc.copy()"
   ]
  },
  {
   "cell_type": "code",
   "execution_count": 200,
   "metadata": {},
   "outputs": [
    {
     "name": "stdout",
     "output_type": "stream",
     "text": [
      "<class 'pandas.core.frame.DataFrame'>\n",
      "RangeIndex: 233154 entries, 0 to 233153\n",
      "Data columns (total 42 columns):\n",
      " #   Column                                     Non-Null Count   Dtype  \n",
      "---  ------                                     --------------   -----  \n",
      " 0   disbursed_amount                           233154 non-null  int64  \n",
      " 1   asset_cost                                 233154 non-null  int64  \n",
      " 2   ltv                                        233154 non-null  float64\n",
      " 3   MobileNo_Avl_Flag                          233154 non-null  int64  \n",
      " 4   Aadhar_flag                                233154 non-null  int64  \n",
      " 5   PAN_flag                                   233154 non-null  int64  \n",
      " 6   VoterID_flag                               233154 non-null  int64  \n",
      " 7   Driving_flag                               233154 non-null  int64  \n",
      " 8   Passport_flag                              233154 non-null  int64  \n",
      " 9   PERFORM_CNS.SCORE                          233154 non-null  int64  \n",
      " 10  PERFORM_CNS.SCORE.DESCRIPTION              233154 non-null  int64  \n",
      " 11  PRI.NO.OF.ACCTS                            233154 non-null  int64  \n",
      " 12  PRI.ACTIVE.ACCTS                           233154 non-null  int64  \n",
      " 13  PRI.OVERDUE.ACCTS                          233154 non-null  int64  \n",
      " 14  PRI.CURRENT.BALANCE                        233154 non-null  int64  \n",
      " 15  PRI.SANCTIONED.AMOUNT                      233154 non-null  int64  \n",
      " 16  PRI.DISBURSED.AMOUNT                       233154 non-null  int64  \n",
      " 17  SEC.NO.OF.ACCTS                            233154 non-null  int64  \n",
      " 18  SEC.ACTIVE.ACCTS                           233154 non-null  int64  \n",
      " 19  SEC.OVERDUE.ACCTS                          233154 non-null  int64  \n",
      " 20  SEC.CURRENT.BALANCE                        233154 non-null  int64  \n",
      " 21  SEC.SANCTIONED.AMOUNT                      233154 non-null  int64  \n",
      " 22  SEC.DISBURSED.AMOUNT                       233154 non-null  int64  \n",
      " 23  PRIMARY.INSTAL.AMT                         233154 non-null  int64  \n",
      " 24  SEC.INSTAL.AMT                             233154 non-null  int64  \n",
      " 25  NEW.ACCTS.IN.LAST.SIX.MONTHS               233154 non-null  int64  \n",
      " 26  DELINQUENT.ACCTS.IN.LAST.SIX.MONTHS        233154 non-null  int64  \n",
      " 27  AVERAGE.ACCT.AGE                           233154 non-null  float64\n",
      " 28  CREDIT.HISTORY.LENGTH                      233154 non-null  float64\n",
      " 29  NO.OF_INQUIRIES                            233154 non-null  int64  \n",
      " 30  loan_default                               233154 non-null  int64  \n",
      " 31  Salaried                                   233154 non-null  int64  \n",
      " 32  Self employed                              233154 non-null  int64  \n",
      " 33  PRI.NO.OF.ACCTS.COUNT                      233154 non-null  int64  \n",
      " 34  PRI.ACTIVE.ACCTS.COUNT                     233154 non-null  int64  \n",
      " 35  PRI.OVERDUE.ACCTS.COUNT                    233154 non-null  int64  \n",
      " 36  SEC.NO.OF.ACCTS.COUNT                      233154 non-null  int64  \n",
      " 37  SEC.ACTIVE.ACCTS.COUNT                     233154 non-null  int64  \n",
      " 38  SEC.OVERDUE.ACCTS.COUNT                    233154 non-null  int64  \n",
      " 39  NEW.ACCTS.IN.LAST.SIX.MONTHS.COUNT         233154 non-null  int64  \n",
      " 40  DELINQUENT.ACCTS.IN.LAST.SIX.MONTHS.COUNT  233154 non-null  int64  \n",
      " 41  NO.OF_INQUIRIES.COUNT                      233154 non-null  int64  \n",
      "dtypes: float64(3), int64(39)\n",
      "memory usage: 74.7 MB\n"
     ]
    }
   ],
   "source": [
    "dfc_new.info()"
   ]
  },
  {
   "cell_type": "code",
   "execution_count": 201,
   "metadata": {},
   "outputs": [
    {
     "data": {
      "text/plain": [
       "Index(['disbursed_amount', 'asset_cost', 'ltv', 'MobileNo_Avl_Flag',\n",
       "       'Aadhar_flag', 'PAN_flag', 'VoterID_flag', 'Driving_flag',\n",
       "       'Passport_flag', 'PERFORM_CNS.SCORE', 'PERFORM_CNS.SCORE.DESCRIPTION',\n",
       "       'PRI.NO.OF.ACCTS', 'PRI.ACTIVE.ACCTS', 'PRI.OVERDUE.ACCTS',\n",
       "       'PRI.CURRENT.BALANCE', 'PRI.SANCTIONED.AMOUNT', 'PRI.DISBURSED.AMOUNT',\n",
       "       'SEC.NO.OF.ACCTS', 'SEC.ACTIVE.ACCTS', 'SEC.OVERDUE.ACCTS',\n",
       "       'SEC.CURRENT.BALANCE', 'SEC.SANCTIONED.AMOUNT', 'SEC.DISBURSED.AMOUNT',\n",
       "       'PRIMARY.INSTAL.AMT', 'SEC.INSTAL.AMT', 'NEW.ACCTS.IN.LAST.SIX.MONTHS',\n",
       "       'DELINQUENT.ACCTS.IN.LAST.SIX.MONTHS', 'AVERAGE.ACCT.AGE',\n",
       "       'CREDIT.HISTORY.LENGTH', 'NO.OF_INQUIRIES', 'loan_default', 'Salaried',\n",
       "       'Self employed', 'PRI.NO.OF.ACCTS.COUNT', 'PRI.ACTIVE.ACCTS.COUNT',\n",
       "       'PRI.OVERDUE.ACCTS.COUNT', 'SEC.NO.OF.ACCTS.COUNT',\n",
       "       'SEC.ACTIVE.ACCTS.COUNT', 'SEC.OVERDUE.ACCTS.COUNT',\n",
       "       'NEW.ACCTS.IN.LAST.SIX.MONTHS.COUNT',\n",
       "       'DELINQUENT.ACCTS.IN.LAST.SIX.MONTHS.COUNT', 'NO.OF_INQUIRIES.COUNT'],\n",
       "      dtype='object')"
      ]
     },
     "execution_count": 201,
     "metadata": {},
     "output_type": "execute_result"
    }
   ],
   "source": [
    "dfc_new.columns"
   ]
  },
  {
   "cell_type": "code",
   "execution_count": 202,
   "metadata": {},
   "outputs": [],
   "source": [
    "dfc_new.drop(['PRI.NO.OF.ACCTS.COUNT', 'PRI.ACTIVE.ACCTS.COUNT',\n",
    "       'PRI.OVERDUE.ACCTS.COUNT', 'SEC.NO.OF.ACCTS.COUNT',\n",
    "       'SEC.ACTIVE.ACCTS.COUNT', 'SEC.OVERDUE.ACCTS.COUNT',\n",
    "       'NEW.ACCTS.IN.LAST.SIX.MONTHS.COUNT',\n",
    "       'DELINQUENT.ACCTS.IN.LAST.SIX.MONTHS.COUNT', 'NO.OF_INQUIRIES.COUNT'], axis = 1, inplace = True)"
   ]
  },
  {
   "cell_type": "code",
   "execution_count": 203,
   "metadata": {},
   "outputs": [],
   "source": [
    "#secondary account values"
   ]
  },
  {
   "cell_type": "code",
   "execution_count": 204,
   "metadata": {},
   "outputs": [
    {
     "data": {
      "text/plain": [
       "0    97.484495\n",
       "1     1.486571\n",
       "Name: SEC.NO.OF.ACCTS, dtype: float64"
      ]
     },
     "execution_count": 204,
     "metadata": {},
     "output_type": "execute_result"
    }
   ],
   "source": [
    "dfc_new['SEC.NO.OF.ACCTS'].value_counts(normalize = True)[0:2]*100"
   ]
  },
  {
   "cell_type": "code",
   "execution_count": 205,
   "metadata": {},
   "outputs": [
    {
     "data": {
      "text/plain": [
       "0    98.362885\n",
       "1     1.151170\n",
       "Name: SEC.ACTIVE.ACCTS, dtype: float64"
      ]
     },
     "execution_count": 205,
     "metadata": {},
     "output_type": "execute_result"
    }
   ],
   "source": [
    "dfc_new['SEC.ACTIVE.ACCTS'].value_counts(normalize = True)[0:2]*100"
   ]
  },
  {
   "cell_type": "code",
   "execution_count": 206,
   "metadata": {},
   "outputs": [
    {
     "data": {
      "text/plain": [
       "0    99.426559\n",
       "1     0.484229\n",
       "Name: SEC.OVERDUE.ACCTS, dtype: float64"
      ]
     },
     "execution_count": 206,
     "metadata": {},
     "output_type": "execute_result"
    }
   ],
   "source": [
    "dfc_new['SEC.OVERDUE.ACCTS'].value_counts(normalize = True)[0:2]*100"
   ]
  },
  {
   "cell_type": "code",
   "execution_count": 207,
   "metadata": {},
   "outputs": [
    {
     "data": {
      "text/plain": [
       "0      98.557177\n",
       "800     0.004289\n",
       "Name: SEC.CURRENT.BALANCE, dtype: float64"
      ]
     },
     "execution_count": 207,
     "metadata": {},
     "output_type": "execute_result"
    }
   ],
   "source": [
    "dfc_new['SEC.CURRENT.BALANCE'].value_counts(normalize = True)[0:2]*100"
   ]
  },
  {
   "cell_type": "code",
   "execution_count": 208,
   "metadata": {},
   "outputs": [
    {
     "data": {
      "text/plain": [
       "0        98.397626\n",
       "50000     0.035599\n",
       "Name: SEC.SANCTIONED.AMOUNT, dtype: float64"
      ]
     },
     "execution_count": 208,
     "metadata": {},
     "output_type": "execute_result"
    }
   ],
   "source": [
    "dfc_new['SEC.SANCTIONED.AMOUNT'].value_counts(normalize = True)[0:2]*100"
   ]
  },
  {
   "cell_type": "code",
   "execution_count": 209,
   "metadata": {},
   "outputs": [
    {
     "data": {
      "text/plain": [
       "0        98.411350\n",
       "50000     0.025305\n",
       "Name: SEC.DISBURSED.AMOUNT, dtype: float64"
      ]
     },
     "execution_count": 209,
     "metadata": {},
     "output_type": "execute_result"
    }
   ],
   "source": [
    "dfc_new['SEC.DISBURSED.AMOUNT'].value_counts(normalize = True)[0:2]*100"
   ]
  },
  {
   "cell_type": "code",
   "execution_count": 210,
   "metadata": {},
   "outputs": [
    {
     "data": {
      "text/plain": [
       "0       99.049126\n",
       "2100     0.003002\n",
       "Name: SEC.INSTAL.AMT, dtype: float64"
      ]
     },
     "execution_count": 210,
     "metadata": {},
     "output_type": "execute_result"
    }
   ],
   "source": [
    "dfc_new['SEC.INSTAL.AMT'].value_counts(normalize = True)[0:2]*100"
   ]
  },
  {
   "cell_type": "code",
   "execution_count": 211,
   "metadata": {},
   "outputs": [],
   "source": [
    "# we can see that in whole secondary account features, every feature has more then 98% zero values in them.\n",
    "# therefore, it's better to drop these columns.Because these columns won't help in improving our predictions"
   ]
  },
  {
   "cell_type": "code",
   "execution_count": 212,
   "metadata": {},
   "outputs": [],
   "source": [
    "dfc_new.drop(['SEC.NO.OF.ACCTS', 'SEC.ACTIVE.ACCTS', 'SEC.OVERDUE.ACCTS',\n",
    "       'SEC.CURRENT.BALANCE', 'SEC.SANCTIONED.AMOUNT', 'SEC.DISBURSED.AMOUNT',\n",
    "              'SEC.INSTAL.AMT'], axis = 1, inplace = True)"
   ]
  },
  {
   "cell_type": "code",
   "execution_count": 213,
   "metadata": {},
   "outputs": [
    {
     "data": {
      "text/plain": [
       "(233154, 26)"
      ]
     },
     "execution_count": 213,
     "metadata": {},
     "output_type": "execute_result"
    }
   ],
   "source": [
    "dfc_new.shape"
   ]
  },
  {
   "cell_type": "code",
   "execution_count": 214,
   "metadata": {},
   "outputs": [
    {
     "data": {
      "text/plain": [
       "(233154, 42)"
      ]
     },
     "execution_count": 214,
     "metadata": {},
     "output_type": "execute_result"
    }
   ],
   "source": [
    "dfc.shape"
   ]
  },
  {
   "cell_type": "code",
   "execution_count": 215,
   "metadata": {},
   "outputs": [],
   "source": [
    "#primary account values"
   ]
  },
  {
   "cell_type": "code",
   "execution_count": 216,
   "metadata": {},
   "outputs": [
    {
     "data": {
      "text/plain": [
       "98.63609459841993"
      ]
     },
     "execution_count": 216,
     "metadata": {},
     "output_type": "execute_result"
    }
   ],
   "source": [
    "dfc_new['PRI.NO.OF.ACCTS'].value_counts(normalize = True)[0:21].sum()*100"
   ]
  },
  {
   "cell_type": "code",
   "execution_count": 217,
   "metadata": {},
   "outputs": [
    {
     "data": {
      "text/plain": [
       "99.26100345694262"
      ]
     },
     "execution_count": 217,
     "metadata": {},
     "output_type": "execute_result"
    }
   ],
   "source": [
    "dfc_new['PRI.ACTIVE.ACCTS'].value_counts(normalize = True)[0:10].sum()*100"
   ]
  },
  {
   "cell_type": "code",
   "execution_count": 218,
   "metadata": {},
   "outputs": [
    {
     "data": {
      "text/plain": [
       "99.14091115743243"
      ]
     },
     "execution_count": 218,
     "metadata": {},
     "output_type": "execute_result"
    }
   ],
   "source": [
    "dfc_new['PRI.OVERDUE.ACCTS'].value_counts(normalize = True)[0:3].sum()*100"
   ]
  },
  {
   "cell_type": "code",
   "execution_count": 219,
   "metadata": {},
   "outputs": [
    {
     "data": {
      "text/plain": [
       "62.14433378796843"
      ]
     },
     "execution_count": 219,
     "metadata": {},
     "output_type": "execute_result"
    }
   ],
   "source": [
    "dfc_new['PRI.CURRENT.BALANCE'].value_counts(normalize = True)[0:100].sum()*100"
   ]
  },
  {
   "cell_type": "code",
   "execution_count": 220,
   "metadata": {},
   "outputs": [
    {
     "data": {
      "text/plain": [
       "98.55717680159894"
      ]
     },
     "execution_count": 220,
     "metadata": {},
     "output_type": "execute_result"
    }
   ],
   "source": [
    "dfc['SEC.CURRENT.BALANCE'].value_counts(normalize = True)[0:1].sum()*100"
   ]
  },
  {
   "cell_type": "code",
   "execution_count": 221,
   "metadata": {},
   "outputs": [
    {
     "data": {
      "text/plain": [
       "69.37775032810933"
      ]
     },
     "execution_count": 221,
     "metadata": {},
     "output_type": "execute_result"
    }
   ],
   "source": [
    "dfc_new['PRI.SANCTIONED.AMOUNT'].value_counts(normalize = True)[0:100].sum()*100"
   ]
  },
  {
   "cell_type": "code",
   "execution_count": 222,
   "metadata": {},
   "outputs": [
    {
     "data": {
      "text/plain": [
       "68.54739785721027"
      ]
     },
     "execution_count": 222,
     "metadata": {},
     "output_type": "execute_result"
    }
   ],
   "source": [
    "dfc_new['PRI.DISBURSED.AMOUNT'].value_counts(normalize = True)[0:100].sum()*100"
   ]
  },
  {
   "cell_type": "code",
   "execution_count": 223,
   "metadata": {},
   "outputs": [
    {
     "data": {
      "text/plain": [
       "70.90635374044622"
      ]
     },
     "execution_count": 223,
     "metadata": {},
     "output_type": "execute_result"
    }
   ],
   "source": [
    "dfc_new['PRIMARY.INSTAL.AMT'].value_counts(normalize = True)[0:100].sum()*100"
   ]
  },
  {
   "cell_type": "code",
   "execution_count": 224,
   "metadata": {},
   "outputs": [
    {
     "data": {
      "text/plain": [
       "0     0.887306\n",
       "1     0.085652\n",
       "2     0.018451\n",
       "3     0.005155\n",
       "4     0.001733\n",
       "5     0.000712\n",
       "6     0.000412\n",
       "7     0.000163\n",
       "8     0.000116\n",
       "9     0.000107\n",
       "11    0.000051\n",
       "12    0.000034\n",
       "10    0.000026\n",
       "13    0.000021\n",
       "14    0.000021\n",
       "17    0.000009\n",
       "18    0.000009\n",
       "23    0.000004\n",
       "15    0.000004\n",
       "16    0.000004\n",
       "19    0.000004\n",
       "25    0.000004\n",
       "Name: PRI.OVERDUE.ACCTS, dtype: float64"
      ]
     },
     "execution_count": 224,
     "metadata": {},
     "output_type": "execute_result"
    }
   ],
   "source": [
    "dfc_new['PRI.OVERDUE.ACCTS'].value_counts(normalize = True)"
   ]
  },
  {
   "cell_type": "code",
   "execution_count": 226,
   "metadata": {},
   "outputs": [],
   "source": [
    "dfc_new['PRI.OVERDUE.ACCTS'] = dfc_new['PRI.OVERDUE.ACCTS'].apply(lambda x: 'ZERO.PRI.OVERDUE.ACCTS' if x ==0 else 'ATLEAST.ONE.PRI.OVERDUE.ACCTS')"
   ]
  },
  {
   "cell_type": "code",
   "execution_count": 227,
   "metadata": {},
   "outputs": [
    {
     "data": {
      "text/plain": [
       "ZERO.PRI.OVERDUE.ACCTS           0.887306\n",
       "ATLEAST.ONE.PRI.OVERDUE.ACCTS    0.112694\n",
       "Name: PRI.OVERDUE.ACCTS, dtype: float64"
      ]
     },
     "execution_count": 227,
     "metadata": {},
     "output_type": "execute_result"
    }
   ],
   "source": [
    "dfc_new['PRI.OVERDUE.ACCTS'].value_counts(normalize = True)"
   ]
  },
  {
   "cell_type": "code",
   "execution_count": 228,
   "metadata": {},
   "outputs": [
    {
     "data": {
      "text/html": [
       "<div>\n",
       "<style scoped>\n",
       "    .dataframe tbody tr th:only-of-type {\n",
       "        vertical-align: middle;\n",
       "    }\n",
       "\n",
       "    .dataframe tbody tr th {\n",
       "        vertical-align: top;\n",
       "    }\n",
       "\n",
       "    .dataframe thead th {\n",
       "        text-align: right;\n",
       "    }\n",
       "</style>\n",
       "<table border=\"1\" class=\"dataframe\">\n",
       "  <thead>\n",
       "    <tr style=\"text-align: right;\">\n",
       "      <th></th>\n",
       "      <th>ATLEAST.ONE.PRI.OVERDUE.ACCTS</th>\n",
       "      <th>ZERO.PRI.OVERDUE.ACCTS</th>\n",
       "    </tr>\n",
       "  </thead>\n",
       "  <tbody>\n",
       "    <tr>\n",
       "      <th>0</th>\n",
       "      <td>0</td>\n",
       "      <td>1</td>\n",
       "    </tr>\n",
       "    <tr>\n",
       "      <th>1</th>\n",
       "      <td>1</td>\n",
       "      <td>0</td>\n",
       "    </tr>\n",
       "    <tr>\n",
       "      <th>2</th>\n",
       "      <td>0</td>\n",
       "      <td>1</td>\n",
       "    </tr>\n",
       "    <tr>\n",
       "      <th>3</th>\n",
       "      <td>0</td>\n",
       "      <td>1</td>\n",
       "    </tr>\n",
       "    <tr>\n",
       "      <th>4</th>\n",
       "      <td>0</td>\n",
       "      <td>1</td>\n",
       "    </tr>\n",
       "  </tbody>\n",
       "</table>\n",
       "</div>"
      ],
      "text/plain": [
       "   ATLEAST.ONE.PRI.OVERDUE.ACCTS  ZERO.PRI.OVERDUE.ACCTS\n",
       "0                              0                       1\n",
       "1                              1                       0\n",
       "2                              0                       1\n",
       "3                              0                       1\n",
       "4                              0                       1"
      ]
     },
     "execution_count": 228,
     "metadata": {},
     "output_type": "execute_result"
    }
   ],
   "source": [
    "temp = pd.get_dummies(dfc_new['PRI.OVERDUE.ACCTS'])\n",
    "temp.head()"
   ]
  },
  {
   "cell_type": "code",
   "execution_count": 229,
   "metadata": {},
   "outputs": [],
   "source": [
    "dfc_new[['ATLEAST.ONE.PRI.OVERDUE.ACCTS', 'ZERO.PRI.OVERDUE.ACCTS']] = temp[['ATLEAST.ONE.PRI.OVERDUE.ACCTS', 'ZERO.PRI.OVERDUE.ACCTS']]"
   ]
  },
  {
   "cell_type": "code",
   "execution_count": 230,
   "metadata": {},
   "outputs": [
    {
     "data": {
      "text/html": [
       "<div>\n",
       "<style scoped>\n",
       "    .dataframe tbody tr th:only-of-type {\n",
       "        vertical-align: middle;\n",
       "    }\n",
       "\n",
       "    .dataframe tbody tr th {\n",
       "        vertical-align: top;\n",
       "    }\n",
       "\n",
       "    .dataframe thead th {\n",
       "        text-align: right;\n",
       "    }\n",
       "</style>\n",
       "<table border=\"1\" class=\"dataframe\">\n",
       "  <thead>\n",
       "    <tr style=\"text-align: right;\">\n",
       "      <th></th>\n",
       "      <th>disbursed_amount</th>\n",
       "      <th>asset_cost</th>\n",
       "      <th>ltv</th>\n",
       "      <th>MobileNo_Avl_Flag</th>\n",
       "      <th>Aadhar_flag</th>\n",
       "      <th>PAN_flag</th>\n",
       "      <th>VoterID_flag</th>\n",
       "      <th>Driving_flag</th>\n",
       "      <th>Passport_flag</th>\n",
       "      <th>PERFORM_CNS.SCORE</th>\n",
       "      <th>...</th>\n",
       "      <th>NEW.ACCTS.IN.LAST.SIX.MONTHS</th>\n",
       "      <th>DELINQUENT.ACCTS.IN.LAST.SIX.MONTHS</th>\n",
       "      <th>AVERAGE.ACCT.AGE</th>\n",
       "      <th>CREDIT.HISTORY.LENGTH</th>\n",
       "      <th>NO.OF_INQUIRIES</th>\n",
       "      <th>loan_default</th>\n",
       "      <th>Salaried</th>\n",
       "      <th>Self employed</th>\n",
       "      <th>ATLEAST.ONE.PRI.OVERDUE.ACCTS</th>\n",
       "      <th>ZERO.PRI.OVERDUE.ACCTS</th>\n",
       "    </tr>\n",
       "  </thead>\n",
       "  <tbody>\n",
       "    <tr>\n",
       "      <th>0</th>\n",
       "      <td>50578</td>\n",
       "      <td>58400</td>\n",
       "      <td>89.55</td>\n",
       "      <td>1</td>\n",
       "      <td>1</td>\n",
       "      <td>0</td>\n",
       "      <td>0</td>\n",
       "      <td>0</td>\n",
       "      <td>0</td>\n",
       "      <td>0</td>\n",
       "      <td>...</td>\n",
       "      <td>0</td>\n",
       "      <td>0</td>\n",
       "      <td>0.00</td>\n",
       "      <td>0.00</td>\n",
       "      <td>0</td>\n",
       "      <td>0</td>\n",
       "      <td>1</td>\n",
       "      <td>0</td>\n",
       "      <td>0</td>\n",
       "      <td>1</td>\n",
       "    </tr>\n",
       "    <tr>\n",
       "      <th>1</th>\n",
       "      <td>47145</td>\n",
       "      <td>65550</td>\n",
       "      <td>73.23</td>\n",
       "      <td>1</td>\n",
       "      <td>1</td>\n",
       "      <td>0</td>\n",
       "      <td>0</td>\n",
       "      <td>0</td>\n",
       "      <td>0</td>\n",
       "      <td>1</td>\n",
       "      <td>...</td>\n",
       "      <td>0</td>\n",
       "      <td>1</td>\n",
       "      <td>1.92</td>\n",
       "      <td>1.92</td>\n",
       "      <td>0</td>\n",
       "      <td>1</td>\n",
       "      <td>0</td>\n",
       "      <td>1</td>\n",
       "      <td>1</td>\n",
       "      <td>0</td>\n",
       "    </tr>\n",
       "    <tr>\n",
       "      <th>2</th>\n",
       "      <td>53278</td>\n",
       "      <td>61360</td>\n",
       "      <td>89.63</td>\n",
       "      <td>1</td>\n",
       "      <td>1</td>\n",
       "      <td>0</td>\n",
       "      <td>0</td>\n",
       "      <td>0</td>\n",
       "      <td>0</td>\n",
       "      <td>0</td>\n",
       "      <td>...</td>\n",
       "      <td>0</td>\n",
       "      <td>0</td>\n",
       "      <td>0.00</td>\n",
       "      <td>0.00</td>\n",
       "      <td>0</td>\n",
       "      <td>0</td>\n",
       "      <td>0</td>\n",
       "      <td>1</td>\n",
       "      <td>0</td>\n",
       "      <td>1</td>\n",
       "    </tr>\n",
       "    <tr>\n",
       "      <th>3</th>\n",
       "      <td>57513</td>\n",
       "      <td>66113</td>\n",
       "      <td>88.48</td>\n",
       "      <td>1</td>\n",
       "      <td>1</td>\n",
       "      <td>0</td>\n",
       "      <td>0</td>\n",
       "      <td>0</td>\n",
       "      <td>0</td>\n",
       "      <td>1</td>\n",
       "      <td>...</td>\n",
       "      <td>0</td>\n",
       "      <td>0</td>\n",
       "      <td>0.67</td>\n",
       "      <td>1.25</td>\n",
       "      <td>1</td>\n",
       "      <td>1</td>\n",
       "      <td>0</td>\n",
       "      <td>1</td>\n",
       "      <td>0</td>\n",
       "      <td>1</td>\n",
       "    </tr>\n",
       "    <tr>\n",
       "      <th>4</th>\n",
       "      <td>52378</td>\n",
       "      <td>60300</td>\n",
       "      <td>88.39</td>\n",
       "      <td>1</td>\n",
       "      <td>1</td>\n",
       "      <td>0</td>\n",
       "      <td>0</td>\n",
       "      <td>0</td>\n",
       "      <td>0</td>\n",
       "      <td>0</td>\n",
       "      <td>...</td>\n",
       "      <td>0</td>\n",
       "      <td>0</td>\n",
       "      <td>0.00</td>\n",
       "      <td>0.00</td>\n",
       "      <td>1</td>\n",
       "      <td>1</td>\n",
       "      <td>0</td>\n",
       "      <td>1</td>\n",
       "      <td>0</td>\n",
       "      <td>1</td>\n",
       "    </tr>\n",
       "  </tbody>\n",
       "</table>\n",
       "<p>5 rows × 28 columns</p>\n",
       "</div>"
      ],
      "text/plain": [
       "   disbursed_amount  asset_cost    ltv  MobileNo_Avl_Flag  Aadhar_flag  \\\n",
       "0             50578       58400  89.55                  1            1   \n",
       "1             47145       65550  73.23                  1            1   \n",
       "2             53278       61360  89.63                  1            1   \n",
       "3             57513       66113  88.48                  1            1   \n",
       "4             52378       60300  88.39                  1            1   \n",
       "\n",
       "   PAN_flag  VoterID_flag  Driving_flag  Passport_flag  PERFORM_CNS.SCORE  \\\n",
       "0         0             0             0              0                  0   \n",
       "1         0             0             0              0                  1   \n",
       "2         0             0             0              0                  0   \n",
       "3         0             0             0              0                  1   \n",
       "4         0             0             0              0                  0   \n",
       "\n",
       "   ...  NEW.ACCTS.IN.LAST.SIX.MONTHS  DELINQUENT.ACCTS.IN.LAST.SIX.MONTHS  \\\n",
       "0  ...                             0                                    0   \n",
       "1  ...                             0                                    1   \n",
       "2  ...                             0                                    0   \n",
       "3  ...                             0                                    0   \n",
       "4  ...                             0                                    0   \n",
       "\n",
       "   AVERAGE.ACCT.AGE CREDIT.HISTORY.LENGTH  NO.OF_INQUIRIES  loan_default  \\\n",
       "0              0.00                  0.00                0             0   \n",
       "1              1.92                  1.92                0             1   \n",
       "2              0.00                  0.00                0             0   \n",
       "3              0.67                  1.25                1             1   \n",
       "4              0.00                  0.00                1             1   \n",
       "\n",
       "   Salaried  Self employed  ATLEAST.ONE.PRI.OVERDUE.ACCTS  \\\n",
       "0         1              0                              0   \n",
       "1         0              1                              1   \n",
       "2         0              1                              0   \n",
       "3         0              1                              0   \n",
       "4         0              1                              0   \n",
       "\n",
       "   ZERO.PRI.OVERDUE.ACCTS  \n",
       "0                       1  \n",
       "1                       0  \n",
       "2                       1  \n",
       "3                       1  \n",
       "4                       1  \n",
       "\n",
       "[5 rows x 28 columns]"
      ]
     },
     "execution_count": 230,
     "metadata": {},
     "output_type": "execute_result"
    }
   ],
   "source": [
    "dfc_new.head()"
   ]
  },
  {
   "cell_type": "code",
   "execution_count": 231,
   "metadata": {},
   "outputs": [],
   "source": [
    "dfc_new.drop('PRI.OVERDUE.ACCTS', axis = 1, inplace = True)"
   ]
  },
  {
   "cell_type": "code",
   "execution_count": 232,
   "metadata": {},
   "outputs": [
    {
     "data": {
      "text/plain": [
       "(233154, 27)"
      ]
     },
     "execution_count": 232,
     "metadata": {},
     "output_type": "execute_result"
    }
   ],
   "source": [
    "dfc_new.shape"
   ]
  },
  {
   "cell_type": "code",
   "execution_count": 233,
   "metadata": {},
   "outputs": [],
   "source": [
    "#NEW.ACCTS.IN.LAST.SIX.MONTHS"
   ]
  },
  {
   "cell_type": "code",
   "execution_count": 234,
   "metadata": {},
   "outputs": [
    {
     "data": {
      "text/plain": [
       "91.61026617600385"
      ]
     },
     "execution_count": 234,
     "metadata": {},
     "output_type": "execute_result"
    }
   ],
   "source": [
    "dfc_new['NEW.ACCTS.IN.LAST.SIX.MONTHS'].value_counts(normalize = True)[0:2].sum()*100"
   ]
  },
  {
   "cell_type": "code",
   "execution_count": 235,
   "metadata": {},
   "outputs": [
    {
     "data": {
      "text/plain": [
       "0     0.778430\n",
       "1     0.137673\n",
       "2     0.047243\n",
       "3     0.019120\n",
       "4     0.008394\n",
       "5     0.004135\n",
       "6     0.002059\n",
       "7     0.001295\n",
       "8     0.000630\n",
       "9     0.000339\n",
       "10    0.000236\n",
       "11    0.000133\n",
       "12    0.000086\n",
       "13    0.000064\n",
       "14    0.000047\n",
       "16    0.000026\n",
       "17    0.000026\n",
       "20    0.000013\n",
       "15    0.000009\n",
       "18    0.000009\n",
       "19    0.000009\n",
       "23    0.000009\n",
       "28    0.000004\n",
       "21    0.000004\n",
       "22    0.000004\n",
       "35    0.000004\n",
       "Name: NEW.ACCTS.IN.LAST.SIX.MONTHS, dtype: float64"
      ]
     },
     "execution_count": 235,
     "metadata": {},
     "output_type": "execute_result"
    }
   ],
   "source": [
    "dfc_new['NEW.ACCTS.IN.LAST.SIX.MONTHS'].value_counts(normalize = True)"
   ]
  },
  {
   "cell_type": "code",
   "execution_count": 236,
   "metadata": {},
   "outputs": [],
   "source": [
    "dfc_new['NEW.ACCTS.IN.LAST.SIX.MONTHS'] = dfc_new['NEW.ACCTS.IN.LAST.SIX.MONTHS'].apply(lambda x: 'ZERO.NEW.ACCTS.IN.LAST.SIX.MONTHS' if x ==0 else 'ATLEAST.ONE.NEW.ACCTS.IN.LAST.SIX.MONTHS')"
   ]
  },
  {
   "cell_type": "code",
   "execution_count": 237,
   "metadata": {},
   "outputs": [
    {
     "data": {
      "text/plain": [
       "ZERO.NEW.ACCTS.IN.LAST.SIX.MONTHS           0.77843\n",
       "ATLEAST.ONE.NEW.ACCTS.IN.LAST.SIX.MONTHS    0.22157\n",
       "Name: NEW.ACCTS.IN.LAST.SIX.MONTHS, dtype: float64"
      ]
     },
     "execution_count": 237,
     "metadata": {},
     "output_type": "execute_result"
    }
   ],
   "source": [
    "dfc_new['NEW.ACCTS.IN.LAST.SIX.MONTHS'].value_counts(normalize = True)"
   ]
  },
  {
   "cell_type": "code",
   "execution_count": 238,
   "metadata": {},
   "outputs": [
    {
     "data": {
      "text/html": [
       "<div>\n",
       "<style scoped>\n",
       "    .dataframe tbody tr th:only-of-type {\n",
       "        vertical-align: middle;\n",
       "    }\n",
       "\n",
       "    .dataframe tbody tr th {\n",
       "        vertical-align: top;\n",
       "    }\n",
       "\n",
       "    .dataframe thead th {\n",
       "        text-align: right;\n",
       "    }\n",
       "</style>\n",
       "<table border=\"1\" class=\"dataframe\">\n",
       "  <thead>\n",
       "    <tr style=\"text-align: right;\">\n",
       "      <th></th>\n",
       "      <th>ATLEAST.ONE.NEW.ACCTS.IN.LAST.SIX.MONTHS</th>\n",
       "      <th>ZERO.NEW.ACCTS.IN.LAST.SIX.MONTHS</th>\n",
       "    </tr>\n",
       "  </thead>\n",
       "  <tbody>\n",
       "    <tr>\n",
       "      <th>0</th>\n",
       "      <td>0</td>\n",
       "      <td>1</td>\n",
       "    </tr>\n",
       "    <tr>\n",
       "      <th>1</th>\n",
       "      <td>0</td>\n",
       "      <td>1</td>\n",
       "    </tr>\n",
       "    <tr>\n",
       "      <th>2</th>\n",
       "      <td>0</td>\n",
       "      <td>1</td>\n",
       "    </tr>\n",
       "    <tr>\n",
       "      <th>3</th>\n",
       "      <td>0</td>\n",
       "      <td>1</td>\n",
       "    </tr>\n",
       "    <tr>\n",
       "      <th>4</th>\n",
       "      <td>0</td>\n",
       "      <td>1</td>\n",
       "    </tr>\n",
       "  </tbody>\n",
       "</table>\n",
       "</div>"
      ],
      "text/plain": [
       "   ATLEAST.ONE.NEW.ACCTS.IN.LAST.SIX.MONTHS  ZERO.NEW.ACCTS.IN.LAST.SIX.MONTHS\n",
       "0                                         0                                  1\n",
       "1                                         0                                  1\n",
       "2                                         0                                  1\n",
       "3                                         0                                  1\n",
       "4                                         0                                  1"
      ]
     },
     "execution_count": 238,
     "metadata": {},
     "output_type": "execute_result"
    }
   ],
   "source": [
    "temp2 = pd.get_dummies(dfc_new['NEW.ACCTS.IN.LAST.SIX.MONTHS'])\n",
    "temp2.head()\n"
   ]
  },
  {
   "cell_type": "code",
   "execution_count": 239,
   "metadata": {},
   "outputs": [],
   "source": [
    "dfc_new[['ATLEAST.ONE.NEW.ACCTS.IN.LAST.SIX.MONTHS', 'ZERO.NEW.ACCTS.IN.LAST.SIX.MONTHS']] = temp2[['ATLEAST.ONE.NEW.ACCTS.IN.LAST.SIX.MONTHS', 'ZERO.NEW.ACCTS.IN.LAST.SIX.MONTHS']]"
   ]
  },
  {
   "cell_type": "code",
   "execution_count": 240,
   "metadata": {},
   "outputs": [],
   "source": [
    "dfc_new.drop('NEW.ACCTS.IN.LAST.SIX.MONTHS', axis = 1, inplace = True)"
   ]
  },
  {
   "cell_type": "code",
   "execution_count": 241,
   "metadata": {},
   "outputs": [
    {
     "data": {
      "text/plain": [
       "(233154, 28)"
      ]
     },
     "execution_count": 241,
     "metadata": {},
     "output_type": "execute_result"
    }
   ],
   "source": [
    "dfc_new.shape"
   ]
  },
  {
   "cell_type": "code",
   "execution_count": 242,
   "metadata": {},
   "outputs": [],
   "source": [
    "#DELINQUENT.ACCTS.IN.LAST.SIX.MONTHS"
   ]
  },
  {
   "cell_type": "code",
   "execution_count": 243,
   "metadata": {},
   "outputs": [
    {
     "data": {
      "text/plain": [
       "0    0.921961\n",
       "1    0.064082\n",
       "Name: DELINQUENT.ACCTS.IN.LAST.SIX.MONTHS, dtype: float64"
      ]
     },
     "execution_count": 243,
     "metadata": {},
     "output_type": "execute_result"
    }
   ],
   "source": [
    "dfc_new['DELINQUENT.ACCTS.IN.LAST.SIX.MONTHS'].value_counts(normalize = True)[0:2]"
   ]
  },
  {
   "cell_type": "code",
   "execution_count": 244,
   "metadata": {},
   "outputs": [
    {
     "data": {
      "text/plain": [
       "0     0.921961\n",
       "1     0.064082\n",
       "2     0.010594\n",
       "3     0.002303\n",
       "4     0.000592\n",
       "5     0.000249\n",
       "6     0.000086\n",
       "7     0.000056\n",
       "8     0.000030\n",
       "12    0.000013\n",
       "11    0.000013\n",
       "10    0.000009\n",
       "9     0.000009\n",
       "20    0.000004\n",
       "Name: DELINQUENT.ACCTS.IN.LAST.SIX.MONTHS, dtype: float64"
      ]
     },
     "execution_count": 244,
     "metadata": {},
     "output_type": "execute_result"
    }
   ],
   "source": [
    "dfc_new['DELINQUENT.ACCTS.IN.LAST.SIX.MONTHS'].value_counts(normalize = True)"
   ]
  },
  {
   "cell_type": "code",
   "execution_count": 245,
   "metadata": {},
   "outputs": [],
   "source": [
    "dfc_new['DELINQUENT.ACCTS.IN.LAST.SIX.MONTHS'] = dfc_new['DELINQUENT.ACCTS.IN.LAST.SIX.MONTHS'].apply(lambda x: 'ZERO.DELINQUENT.ACCTS.IN.LAST.SIX.MONTHS' if x ==0 else 'ATLEAST.ONE.DELINQUENT.ACCTS.IN.LAST.SIX.MONTHS')"
   ]
  },
  {
   "cell_type": "code",
   "execution_count": 246,
   "metadata": {},
   "outputs": [
    {
     "data": {
      "text/plain": [
       "ZERO.DELINQUENT.ACCTS.IN.LAST.SIX.MONTHS           0.921961\n",
       "ATLEAST.ONE.DELINQUENT.ACCTS.IN.LAST.SIX.MONTHS    0.078039\n",
       "Name: DELINQUENT.ACCTS.IN.LAST.SIX.MONTHS, dtype: float64"
      ]
     },
     "execution_count": 246,
     "metadata": {},
     "output_type": "execute_result"
    }
   ],
   "source": [
    "dfc_new['DELINQUENT.ACCTS.IN.LAST.SIX.MONTHS'].value_counts(normalize = True)"
   ]
  },
  {
   "cell_type": "code",
   "execution_count": 247,
   "metadata": {},
   "outputs": [
    {
     "data": {
      "text/html": [
       "<div>\n",
       "<style scoped>\n",
       "    .dataframe tbody tr th:only-of-type {\n",
       "        vertical-align: middle;\n",
       "    }\n",
       "\n",
       "    .dataframe tbody tr th {\n",
       "        vertical-align: top;\n",
       "    }\n",
       "\n",
       "    .dataframe thead th {\n",
       "        text-align: right;\n",
       "    }\n",
       "</style>\n",
       "<table border=\"1\" class=\"dataframe\">\n",
       "  <thead>\n",
       "    <tr style=\"text-align: right;\">\n",
       "      <th></th>\n",
       "      <th>ATLEAST.ONE.DELINQUENT.ACCTS.IN.LAST.SIX.MONTHS</th>\n",
       "      <th>ZERO.DELINQUENT.ACCTS.IN.LAST.SIX.MONTHS</th>\n",
       "    </tr>\n",
       "  </thead>\n",
       "  <tbody>\n",
       "    <tr>\n",
       "      <th>0</th>\n",
       "      <td>0</td>\n",
       "      <td>1</td>\n",
       "    </tr>\n",
       "    <tr>\n",
       "      <th>1</th>\n",
       "      <td>1</td>\n",
       "      <td>0</td>\n",
       "    </tr>\n",
       "    <tr>\n",
       "      <th>2</th>\n",
       "      <td>0</td>\n",
       "      <td>1</td>\n",
       "    </tr>\n",
       "    <tr>\n",
       "      <th>3</th>\n",
       "      <td>0</td>\n",
       "      <td>1</td>\n",
       "    </tr>\n",
       "    <tr>\n",
       "      <th>4</th>\n",
       "      <td>0</td>\n",
       "      <td>1</td>\n",
       "    </tr>\n",
       "  </tbody>\n",
       "</table>\n",
       "</div>"
      ],
      "text/plain": [
       "   ATLEAST.ONE.DELINQUENT.ACCTS.IN.LAST.SIX.MONTHS  \\\n",
       "0                                                0   \n",
       "1                                                1   \n",
       "2                                                0   \n",
       "3                                                0   \n",
       "4                                                0   \n",
       "\n",
       "   ZERO.DELINQUENT.ACCTS.IN.LAST.SIX.MONTHS  \n",
       "0                                         1  \n",
       "1                                         0  \n",
       "2                                         1  \n",
       "3                                         1  \n",
       "4                                         1  "
      ]
     },
     "execution_count": 247,
     "metadata": {},
     "output_type": "execute_result"
    }
   ],
   "source": [
    "temp3 = pd.get_dummies(dfc_new['DELINQUENT.ACCTS.IN.LAST.SIX.MONTHS'])\n",
    "temp3.head()\n"
   ]
  },
  {
   "cell_type": "code",
   "execution_count": 248,
   "metadata": {},
   "outputs": [],
   "source": [
    "dfc_new[['ATLEAST.ONE.DELINQUENT.ACCTS.IN.LAST.SIX.MONTHS', 'ZERO.DELINQUENT.ACCTS.IN.LAST.SIX.MONTHS']] = temp3[['ATLEAST.ONE.DELINQUENT.ACCTS.IN.LAST.SIX.MONTHS', 'ZERO.DELINQUENT.ACCTS.IN.LAST.SIX.MONTHS']]\n",
    "\n",
    "dfc_new.drop('DELINQUENT.ACCTS.IN.LAST.SIX.MONTHS', axis = 1, inplace = True)"
   ]
  },
  {
   "cell_type": "code",
   "execution_count": 249,
   "metadata": {},
   "outputs": [
    {
     "data": {
      "text/plain": [
       "(233154, 29)"
      ]
     },
     "execution_count": 249,
     "metadata": {},
     "output_type": "execute_result"
    }
   ],
   "source": [
    "dfc_new.shape"
   ]
  },
  {
   "cell_type": "code",
   "execution_count": 250,
   "metadata": {},
   "outputs": [
    {
     "data": {
      "text/html": [
       "<div>\n",
       "<style scoped>\n",
       "    .dataframe tbody tr th:only-of-type {\n",
       "        vertical-align: middle;\n",
       "    }\n",
       "\n",
       "    .dataframe tbody tr th {\n",
       "        vertical-align: top;\n",
       "    }\n",
       "\n",
       "    .dataframe thead th {\n",
       "        text-align: right;\n",
       "    }\n",
       "</style>\n",
       "<table border=\"1\" class=\"dataframe\">\n",
       "  <thead>\n",
       "    <tr style=\"text-align: right;\">\n",
       "      <th></th>\n",
       "      <th>disbursed_amount</th>\n",
       "      <th>asset_cost</th>\n",
       "      <th>ltv</th>\n",
       "      <th>MobileNo_Avl_Flag</th>\n",
       "      <th>Aadhar_flag</th>\n",
       "      <th>PAN_flag</th>\n",
       "      <th>VoterID_flag</th>\n",
       "      <th>Driving_flag</th>\n",
       "      <th>Passport_flag</th>\n",
       "      <th>PERFORM_CNS.SCORE</th>\n",
       "      <th>...</th>\n",
       "      <th>NO.OF_INQUIRIES</th>\n",
       "      <th>loan_default</th>\n",
       "      <th>Salaried</th>\n",
       "      <th>Self employed</th>\n",
       "      <th>ATLEAST.ONE.PRI.OVERDUE.ACCTS</th>\n",
       "      <th>ZERO.PRI.OVERDUE.ACCTS</th>\n",
       "      <th>ATLEAST.ONE.NEW.ACCTS.IN.LAST.SIX.MONTHS</th>\n",
       "      <th>ZERO.NEW.ACCTS.IN.LAST.SIX.MONTHS</th>\n",
       "      <th>ATLEAST.ONE.DELINQUENT.ACCTS.IN.LAST.SIX.MONTHS</th>\n",
       "      <th>ZERO.DELINQUENT.ACCTS.IN.LAST.SIX.MONTHS</th>\n",
       "    </tr>\n",
       "  </thead>\n",
       "  <tbody>\n",
       "    <tr>\n",
       "      <th>0</th>\n",
       "      <td>50578</td>\n",
       "      <td>58400</td>\n",
       "      <td>89.55</td>\n",
       "      <td>1</td>\n",
       "      <td>1</td>\n",
       "      <td>0</td>\n",
       "      <td>0</td>\n",
       "      <td>0</td>\n",
       "      <td>0</td>\n",
       "      <td>0</td>\n",
       "      <td>...</td>\n",
       "      <td>0</td>\n",
       "      <td>0</td>\n",
       "      <td>1</td>\n",
       "      <td>0</td>\n",
       "      <td>0</td>\n",
       "      <td>1</td>\n",
       "      <td>0</td>\n",
       "      <td>1</td>\n",
       "      <td>0</td>\n",
       "      <td>1</td>\n",
       "    </tr>\n",
       "    <tr>\n",
       "      <th>1</th>\n",
       "      <td>47145</td>\n",
       "      <td>65550</td>\n",
       "      <td>73.23</td>\n",
       "      <td>1</td>\n",
       "      <td>1</td>\n",
       "      <td>0</td>\n",
       "      <td>0</td>\n",
       "      <td>0</td>\n",
       "      <td>0</td>\n",
       "      <td>1</td>\n",
       "      <td>...</td>\n",
       "      <td>0</td>\n",
       "      <td>1</td>\n",
       "      <td>0</td>\n",
       "      <td>1</td>\n",
       "      <td>1</td>\n",
       "      <td>0</td>\n",
       "      <td>0</td>\n",
       "      <td>1</td>\n",
       "      <td>1</td>\n",
       "      <td>0</td>\n",
       "    </tr>\n",
       "    <tr>\n",
       "      <th>2</th>\n",
       "      <td>53278</td>\n",
       "      <td>61360</td>\n",
       "      <td>89.63</td>\n",
       "      <td>1</td>\n",
       "      <td>1</td>\n",
       "      <td>0</td>\n",
       "      <td>0</td>\n",
       "      <td>0</td>\n",
       "      <td>0</td>\n",
       "      <td>0</td>\n",
       "      <td>...</td>\n",
       "      <td>0</td>\n",
       "      <td>0</td>\n",
       "      <td>0</td>\n",
       "      <td>1</td>\n",
       "      <td>0</td>\n",
       "      <td>1</td>\n",
       "      <td>0</td>\n",
       "      <td>1</td>\n",
       "      <td>0</td>\n",
       "      <td>1</td>\n",
       "    </tr>\n",
       "    <tr>\n",
       "      <th>3</th>\n",
       "      <td>57513</td>\n",
       "      <td>66113</td>\n",
       "      <td>88.48</td>\n",
       "      <td>1</td>\n",
       "      <td>1</td>\n",
       "      <td>0</td>\n",
       "      <td>0</td>\n",
       "      <td>0</td>\n",
       "      <td>0</td>\n",
       "      <td>1</td>\n",
       "      <td>...</td>\n",
       "      <td>1</td>\n",
       "      <td>1</td>\n",
       "      <td>0</td>\n",
       "      <td>1</td>\n",
       "      <td>0</td>\n",
       "      <td>1</td>\n",
       "      <td>0</td>\n",
       "      <td>1</td>\n",
       "      <td>0</td>\n",
       "      <td>1</td>\n",
       "    </tr>\n",
       "    <tr>\n",
       "      <th>4</th>\n",
       "      <td>52378</td>\n",
       "      <td>60300</td>\n",
       "      <td>88.39</td>\n",
       "      <td>1</td>\n",
       "      <td>1</td>\n",
       "      <td>0</td>\n",
       "      <td>0</td>\n",
       "      <td>0</td>\n",
       "      <td>0</td>\n",
       "      <td>0</td>\n",
       "      <td>...</td>\n",
       "      <td>1</td>\n",
       "      <td>1</td>\n",
       "      <td>0</td>\n",
       "      <td>1</td>\n",
       "      <td>0</td>\n",
       "      <td>1</td>\n",
       "      <td>0</td>\n",
       "      <td>1</td>\n",
       "      <td>0</td>\n",
       "      <td>1</td>\n",
       "    </tr>\n",
       "  </tbody>\n",
       "</table>\n",
       "<p>5 rows × 29 columns</p>\n",
       "</div>"
      ],
      "text/plain": [
       "   disbursed_amount  asset_cost    ltv  MobileNo_Avl_Flag  Aadhar_flag  \\\n",
       "0             50578       58400  89.55                  1            1   \n",
       "1             47145       65550  73.23                  1            1   \n",
       "2             53278       61360  89.63                  1            1   \n",
       "3             57513       66113  88.48                  1            1   \n",
       "4             52378       60300  88.39                  1            1   \n",
       "\n",
       "   PAN_flag  VoterID_flag  Driving_flag  Passport_flag  PERFORM_CNS.SCORE  \\\n",
       "0         0             0             0              0                  0   \n",
       "1         0             0             0              0                  1   \n",
       "2         0             0             0              0                  0   \n",
       "3         0             0             0              0                  1   \n",
       "4         0             0             0              0                  0   \n",
       "\n",
       "   ...  NO.OF_INQUIRIES  loan_default  Salaried  Self employed  \\\n",
       "0  ...                0             0         1              0   \n",
       "1  ...                0             1         0              1   \n",
       "2  ...                0             0         0              1   \n",
       "3  ...                1             1         0              1   \n",
       "4  ...                1             1         0              1   \n",
       "\n",
       "   ATLEAST.ONE.PRI.OVERDUE.ACCTS  ZERO.PRI.OVERDUE.ACCTS  \\\n",
       "0                              0                       1   \n",
       "1                              1                       0   \n",
       "2                              0                       1   \n",
       "3                              0                       1   \n",
       "4                              0                       1   \n",
       "\n",
       "   ATLEAST.ONE.NEW.ACCTS.IN.LAST.SIX.MONTHS  \\\n",
       "0                                         0   \n",
       "1                                         0   \n",
       "2                                         0   \n",
       "3                                         0   \n",
       "4                                         0   \n",
       "\n",
       "   ZERO.NEW.ACCTS.IN.LAST.SIX.MONTHS  \\\n",
       "0                                  1   \n",
       "1                                  1   \n",
       "2                                  1   \n",
       "3                                  1   \n",
       "4                                  1   \n",
       "\n",
       "   ATLEAST.ONE.DELINQUENT.ACCTS.IN.LAST.SIX.MONTHS  \\\n",
       "0                                                0   \n",
       "1                                                1   \n",
       "2                                                0   \n",
       "3                                                0   \n",
       "4                                                0   \n",
       "\n",
       "   ZERO.DELINQUENT.ACCTS.IN.LAST.SIX.MONTHS  \n",
       "0                                         1  \n",
       "1                                         0  \n",
       "2                                         1  \n",
       "3                                         1  \n",
       "4                                         1  \n",
       "\n",
       "[5 rows x 29 columns]"
      ]
     },
     "execution_count": 250,
     "metadata": {},
     "output_type": "execute_result"
    }
   ],
   "source": [
    "dfc_new.head()"
   ]
  },
  {
   "cell_type": "code",
   "execution_count": 251,
   "metadata": {},
   "outputs": [],
   "source": [
    "#other features"
   ]
  },
  {
   "cell_type": "code",
   "execution_count": 268,
   "metadata": {},
   "outputs": [
    {
     "data": {
      "text/plain": [
       "0    0.866213\n",
       "1    0.095581\n",
       "2    0.023199\n",
       "Name: NO.OF_INQUIRIES, dtype: float64"
      ]
     },
     "execution_count": 268,
     "metadata": {},
     "output_type": "execute_result"
    }
   ],
   "source": [
    "dfc_new['NO.OF_INQUIRIES'].value_counts(normalize = True)[0:3]"
   ]
  },
  {
   "cell_type": "code",
   "execution_count": 253,
   "metadata": {},
   "outputs": [
    {
     "data": {
      "text/plain": [
       "0    0.997873\n",
       "1    0.002127\n",
       "Name: Passport_flag, dtype: float64"
      ]
     },
     "execution_count": 253,
     "metadata": {},
     "output_type": "execute_result"
    }
   ],
   "source": [
    "dfc_new['Passport_flag'].value_counts(normalize = True)[0:2]"
   ]
  },
  {
   "cell_type": "code",
   "execution_count": 254,
   "metadata": {},
   "outputs": [],
   "source": [
    "# as ~99% values are 0. It's better to drop this feature"
   ]
  },
  {
   "cell_type": "code",
   "execution_count": 255,
   "metadata": {},
   "outputs": [
    {
     "data": {
      "text/plain": [
       "0    0.976758\n",
       "1    0.023242\n",
       "Name: Driving_flag, dtype: float64"
      ]
     },
     "execution_count": 255,
     "metadata": {},
     "output_type": "execute_result"
    }
   ],
   "source": [
    "dfc_new['Driving_flag'].value_counts(normalize = True)[0:2]"
   ]
  },
  {
   "cell_type": "code",
   "execution_count": 257,
   "metadata": {},
   "outputs": [],
   "source": [
    "# as ~97% values are 0. It's better to drop this feature"
   ]
  },
  {
   "cell_type": "code",
   "execution_count": 258,
   "metadata": {},
   "outputs": [
    {
     "data": {
      "text/plain": [
       "0    0.855057\n",
       "1    0.144943\n",
       "Name: VoterID_flag, dtype: float64"
      ]
     },
     "execution_count": 258,
     "metadata": {},
     "output_type": "execute_result"
    }
   ],
   "source": [
    "dfc_new['VoterID_flag'].value_counts(normalize = True)[0:2]"
   ]
  },
  {
   "cell_type": "code",
   "execution_count": 259,
   "metadata": {},
   "outputs": [
    {
     "data": {
      "text/plain": [
       "0    0.924423\n",
       "1    0.075577\n",
       "Name: PAN_flag, dtype: float64"
      ]
     },
     "execution_count": 259,
     "metadata": {},
     "output_type": "execute_result"
    }
   ],
   "source": [
    "dfc_new['PAN_flag'].value_counts(normalize = True)[0:2]"
   ]
  },
  {
   "cell_type": "code",
   "execution_count": 260,
   "metadata": {},
   "outputs": [],
   "source": [
    "# as ~92% values are 0. It's better to drop this feature"
   ]
  },
  {
   "cell_type": "code",
   "execution_count": 261,
   "metadata": {},
   "outputs": [
    {
     "data": {
      "text/plain": [
       "1    0.84032\n",
       "0    0.15968\n",
       "Name: Aadhar_flag, dtype: float64"
      ]
     },
     "execution_count": 261,
     "metadata": {},
     "output_type": "execute_result"
    }
   ],
   "source": [
    "dfc_new['Aadhar_flag'].value_counts(normalize = True)[0:2]"
   ]
  },
  {
   "cell_type": "code",
   "execution_count": 262,
   "metadata": {},
   "outputs": [
    {
     "data": {
      "text/plain": [
       "1    1.0\n",
       "Name: MobileNo_Avl_Flag, dtype: float64"
      ]
     },
     "execution_count": 262,
     "metadata": {},
     "output_type": "execute_result"
    }
   ],
   "source": [
    "dfc_new['MobileNo_Avl_Flag'].value_counts(normalize = True)[0:2]"
   ]
  },
  {
   "cell_type": "code",
   "execution_count": 264,
   "metadata": {},
   "outputs": [],
   "source": [
    "# as all values are 1. It's better to drop this feature"
   ]
  },
  {
   "cell_type": "code",
   "execution_count": 265,
   "metadata": {},
   "outputs": [],
   "source": [
    "dfc_new.drop(['MobileNo_Avl_Flag','PAN_flag', 'Driving_flag', 'Passport_flag'], axis = 1, inplace = True)"
   ]
  },
  {
   "cell_type": "code",
   "execution_count": 266,
   "metadata": {},
   "outputs": [
    {
     "data": {
      "text/plain": [
       "(233154, 25)"
      ]
     },
     "execution_count": 266,
     "metadata": {},
     "output_type": "execute_result"
    }
   ],
   "source": [
    "dfc_new.shape"
   ]
  },
  {
   "cell_type": "code",
   "execution_count": 267,
   "metadata": {},
   "outputs": [
    {
     "data": {
      "text/html": [
       "<div>\n",
       "<style scoped>\n",
       "    .dataframe tbody tr th:only-of-type {\n",
       "        vertical-align: middle;\n",
       "    }\n",
       "\n",
       "    .dataframe tbody tr th {\n",
       "        vertical-align: top;\n",
       "    }\n",
       "\n",
       "    .dataframe thead th {\n",
       "        text-align: right;\n",
       "    }\n",
       "</style>\n",
       "<table border=\"1\" class=\"dataframe\">\n",
       "  <thead>\n",
       "    <tr style=\"text-align: right;\">\n",
       "      <th></th>\n",
       "      <th>disbursed_amount</th>\n",
       "      <th>asset_cost</th>\n",
       "      <th>ltv</th>\n",
       "      <th>Aadhar_flag</th>\n",
       "      <th>VoterID_flag</th>\n",
       "      <th>PERFORM_CNS.SCORE</th>\n",
       "      <th>PERFORM_CNS.SCORE.DESCRIPTION</th>\n",
       "      <th>PRI.NO.OF.ACCTS</th>\n",
       "      <th>PRI.ACTIVE.ACCTS</th>\n",
       "      <th>PRI.CURRENT.BALANCE</th>\n",
       "      <th>...</th>\n",
       "      <th>NO.OF_INQUIRIES</th>\n",
       "      <th>loan_default</th>\n",
       "      <th>Salaried</th>\n",
       "      <th>Self employed</th>\n",
       "      <th>ATLEAST.ONE.PRI.OVERDUE.ACCTS</th>\n",
       "      <th>ZERO.PRI.OVERDUE.ACCTS</th>\n",
       "      <th>ATLEAST.ONE.NEW.ACCTS.IN.LAST.SIX.MONTHS</th>\n",
       "      <th>ZERO.NEW.ACCTS.IN.LAST.SIX.MONTHS</th>\n",
       "      <th>ATLEAST.ONE.DELINQUENT.ACCTS.IN.LAST.SIX.MONTHS</th>\n",
       "      <th>ZERO.DELINQUENT.ACCTS.IN.LAST.SIX.MONTHS</th>\n",
       "    </tr>\n",
       "  </thead>\n",
       "  <tbody>\n",
       "    <tr>\n",
       "      <th>0</th>\n",
       "      <td>50578</td>\n",
       "      <td>58400</td>\n",
       "      <td>89.55</td>\n",
       "      <td>1</td>\n",
       "      <td>0</td>\n",
       "      <td>0</td>\n",
       "      <td>116950</td>\n",
       "      <td>0</td>\n",
       "      <td>0</td>\n",
       "      <td>0</td>\n",
       "      <td>...</td>\n",
       "      <td>0</td>\n",
       "      <td>0</td>\n",
       "      <td>1</td>\n",
       "      <td>0</td>\n",
       "      <td>0</td>\n",
       "      <td>1</td>\n",
       "      <td>0</td>\n",
       "      <td>1</td>\n",
       "      <td>0</td>\n",
       "      <td>1</td>\n",
       "    </tr>\n",
       "    <tr>\n",
       "      <th>1</th>\n",
       "      <td>47145</td>\n",
       "      <td>65550</td>\n",
       "      <td>73.23</td>\n",
       "      <td>1</td>\n",
       "      <td>0</td>\n",
       "      <td>1</td>\n",
       "      <td>5557</td>\n",
       "      <td>1</td>\n",
       "      <td>1</td>\n",
       "      <td>27600</td>\n",
       "      <td>...</td>\n",
       "      <td>0</td>\n",
       "      <td>1</td>\n",
       "      <td>0</td>\n",
       "      <td>1</td>\n",
       "      <td>1</td>\n",
       "      <td>0</td>\n",
       "      <td>0</td>\n",
       "      <td>1</td>\n",
       "      <td>1</td>\n",
       "      <td>0</td>\n",
       "    </tr>\n",
       "    <tr>\n",
       "      <th>2</th>\n",
       "      <td>53278</td>\n",
       "      <td>61360</td>\n",
       "      <td>89.63</td>\n",
       "      <td>1</td>\n",
       "      <td>0</td>\n",
       "      <td>0</td>\n",
       "      <td>116950</td>\n",
       "      <td>0</td>\n",
       "      <td>0</td>\n",
       "      <td>0</td>\n",
       "      <td>...</td>\n",
       "      <td>0</td>\n",
       "      <td>0</td>\n",
       "      <td>0</td>\n",
       "      <td>1</td>\n",
       "      <td>0</td>\n",
       "      <td>1</td>\n",
       "      <td>0</td>\n",
       "      <td>1</td>\n",
       "      <td>0</td>\n",
       "      <td>1</td>\n",
       "    </tr>\n",
       "    <tr>\n",
       "      <th>3</th>\n",
       "      <td>57513</td>\n",
       "      <td>66113</td>\n",
       "      <td>88.48</td>\n",
       "      <td>1</td>\n",
       "      <td>0</td>\n",
       "      <td>1</td>\n",
       "      <td>1134</td>\n",
       "      <td>3</td>\n",
       "      <td>0</td>\n",
       "      <td>0</td>\n",
       "      <td>...</td>\n",
       "      <td>1</td>\n",
       "      <td>1</td>\n",
       "      <td>0</td>\n",
       "      <td>1</td>\n",
       "      <td>0</td>\n",
       "      <td>1</td>\n",
       "      <td>0</td>\n",
       "      <td>1</td>\n",
       "      <td>0</td>\n",
       "      <td>1</td>\n",
       "    </tr>\n",
       "    <tr>\n",
       "      <th>4</th>\n",
       "      <td>52378</td>\n",
       "      <td>60300</td>\n",
       "      <td>88.39</td>\n",
       "      <td>1</td>\n",
       "      <td>0</td>\n",
       "      <td>0</td>\n",
       "      <td>116950</td>\n",
       "      <td>0</td>\n",
       "      <td>0</td>\n",
       "      <td>0</td>\n",
       "      <td>...</td>\n",
       "      <td>1</td>\n",
       "      <td>1</td>\n",
       "      <td>0</td>\n",
       "      <td>1</td>\n",
       "      <td>0</td>\n",
       "      <td>1</td>\n",
       "      <td>0</td>\n",
       "      <td>1</td>\n",
       "      <td>0</td>\n",
       "      <td>1</td>\n",
       "    </tr>\n",
       "  </tbody>\n",
       "</table>\n",
       "<p>5 rows × 25 columns</p>\n",
       "</div>"
      ],
      "text/plain": [
       "   disbursed_amount  asset_cost    ltv  Aadhar_flag  VoterID_flag  \\\n",
       "0             50578       58400  89.55            1             0   \n",
       "1             47145       65550  73.23            1             0   \n",
       "2             53278       61360  89.63            1             0   \n",
       "3             57513       66113  88.48            1             0   \n",
       "4             52378       60300  88.39            1             0   \n",
       "\n",
       "   PERFORM_CNS.SCORE  PERFORM_CNS.SCORE.DESCRIPTION  PRI.NO.OF.ACCTS  \\\n",
       "0                  0                         116950                0   \n",
       "1                  1                           5557                1   \n",
       "2                  0                         116950                0   \n",
       "3                  1                           1134                3   \n",
       "4                  0                         116950                0   \n",
       "\n",
       "   PRI.ACTIVE.ACCTS  PRI.CURRENT.BALANCE  ...  NO.OF_INQUIRIES  loan_default  \\\n",
       "0                 0                    0  ...                0             0   \n",
       "1                 1                27600  ...                0             1   \n",
       "2                 0                    0  ...                0             0   \n",
       "3                 0                    0  ...                1             1   \n",
       "4                 0                    0  ...                1             1   \n",
       "\n",
       "   Salaried  Self employed  ATLEAST.ONE.PRI.OVERDUE.ACCTS  \\\n",
       "0         1              0                              0   \n",
       "1         0              1                              1   \n",
       "2         0              1                              0   \n",
       "3         0              1                              0   \n",
       "4         0              1                              0   \n",
       "\n",
       "   ZERO.PRI.OVERDUE.ACCTS  ATLEAST.ONE.NEW.ACCTS.IN.LAST.SIX.MONTHS  \\\n",
       "0                       1                                         0   \n",
       "1                       0                                         0   \n",
       "2                       1                                         0   \n",
       "3                       1                                         0   \n",
       "4                       1                                         0   \n",
       "\n",
       "   ZERO.NEW.ACCTS.IN.LAST.SIX.MONTHS  \\\n",
       "0                                  1   \n",
       "1                                  1   \n",
       "2                                  1   \n",
       "3                                  1   \n",
       "4                                  1   \n",
       "\n",
       "   ATLEAST.ONE.DELINQUENT.ACCTS.IN.LAST.SIX.MONTHS  \\\n",
       "0                                                0   \n",
       "1                                                1   \n",
       "2                                                0   \n",
       "3                                                0   \n",
       "4                                                0   \n",
       "\n",
       "   ZERO.DELINQUENT.ACCTS.IN.LAST.SIX.MONTHS  \n",
       "0                                         1  \n",
       "1                                         0  \n",
       "2                                         1  \n",
       "3                                         1  \n",
       "4                                         1  \n",
       "\n",
       "[5 rows x 25 columns]"
      ]
     },
     "execution_count": 267,
     "metadata": {},
     "output_type": "execute_result"
    }
   ],
   "source": [
    "dfc_new.head()"
   ]
  },
  {
   "cell_type": "code",
   "execution_count": 269,
   "metadata": {},
   "outputs": [],
   "source": [
    "dfc_new['NO.OF_INQUIRIES'] = dfc_new['NO.OF_INQUIRIES'].apply(lambda x: 'ZERO.NO.OF_INQUIRIES' if x ==0 else 'ATLEAST.ONE.NO.OF_INQUIRIES')\n"
   ]
  },
  {
   "cell_type": "code",
   "execution_count": 270,
   "metadata": {},
   "outputs": [
    {
     "data": {
      "text/plain": [
       "ZERO.NO.OF_INQUIRIES           0.866213\n",
       "ATLEAST.ONE.NO.OF_INQUIRIES    0.133787\n",
       "Name: NO.OF_INQUIRIES, dtype: float64"
      ]
     },
     "execution_count": 270,
     "metadata": {},
     "output_type": "execute_result"
    }
   ],
   "source": [
    "dfc_new['NO.OF_INQUIRIES'].value_counts(normalize = True)\n"
   ]
  },
  {
   "cell_type": "code",
   "execution_count": 271,
   "metadata": {},
   "outputs": [
    {
     "data": {
      "text/html": [
       "<div>\n",
       "<style scoped>\n",
       "    .dataframe tbody tr th:only-of-type {\n",
       "        vertical-align: middle;\n",
       "    }\n",
       "\n",
       "    .dataframe tbody tr th {\n",
       "        vertical-align: top;\n",
       "    }\n",
       "\n",
       "    .dataframe thead th {\n",
       "        text-align: right;\n",
       "    }\n",
       "</style>\n",
       "<table border=\"1\" class=\"dataframe\">\n",
       "  <thead>\n",
       "    <tr style=\"text-align: right;\">\n",
       "      <th></th>\n",
       "      <th>ATLEAST.ONE.NO.OF_INQUIRIES</th>\n",
       "      <th>ZERO.NO.OF_INQUIRIES</th>\n",
       "    </tr>\n",
       "  </thead>\n",
       "  <tbody>\n",
       "    <tr>\n",
       "      <th>0</th>\n",
       "      <td>0</td>\n",
       "      <td>1</td>\n",
       "    </tr>\n",
       "    <tr>\n",
       "      <th>1</th>\n",
       "      <td>0</td>\n",
       "      <td>1</td>\n",
       "    </tr>\n",
       "    <tr>\n",
       "      <th>2</th>\n",
       "      <td>0</td>\n",
       "      <td>1</td>\n",
       "    </tr>\n",
       "    <tr>\n",
       "      <th>3</th>\n",
       "      <td>1</td>\n",
       "      <td>0</td>\n",
       "    </tr>\n",
       "    <tr>\n",
       "      <th>4</th>\n",
       "      <td>1</td>\n",
       "      <td>0</td>\n",
       "    </tr>\n",
       "  </tbody>\n",
       "</table>\n",
       "</div>"
      ],
      "text/plain": [
       "   ATLEAST.ONE.NO.OF_INQUIRIES  ZERO.NO.OF_INQUIRIES\n",
       "0                            0                     1\n",
       "1                            0                     1\n",
       "2                            0                     1\n",
       "3                            1                     0\n",
       "4                            1                     0"
      ]
     },
     "execution_count": 271,
     "metadata": {},
     "output_type": "execute_result"
    }
   ],
   "source": [
    "temp5 = pd.get_dummies(dfc_new['NO.OF_INQUIRIES'])\n",
    "temp5.head()"
   ]
  },
  {
   "cell_type": "code",
   "execution_count": 273,
   "metadata": {},
   "outputs": [],
   "source": [
    "dfc_new[['ATLEAST.ONE.NO.OF_INQUIRIES', 'ZERO.NO.OF_INQUIRIES']] = temp5[['ATLEAST.ONE.NO.OF_INQUIRIES', 'ZERO.NO.OF_INQUIRIES']]\n"
   ]
  },
  {
   "cell_type": "code",
   "execution_count": 274,
   "metadata": {},
   "outputs": [],
   "source": [
    "\n",
    "dfc_new.drop('NO.OF_INQUIRIES', axis = 1, inplace = True)"
   ]
  },
  {
   "cell_type": "code",
   "execution_count": 275,
   "metadata": {},
   "outputs": [
    {
     "data": {
      "text/html": [
       "<div>\n",
       "<style scoped>\n",
       "    .dataframe tbody tr th:only-of-type {\n",
       "        vertical-align: middle;\n",
       "    }\n",
       "\n",
       "    .dataframe tbody tr th {\n",
       "        vertical-align: top;\n",
       "    }\n",
       "\n",
       "    .dataframe thead th {\n",
       "        text-align: right;\n",
       "    }\n",
       "</style>\n",
       "<table border=\"1\" class=\"dataframe\">\n",
       "  <thead>\n",
       "    <tr style=\"text-align: right;\">\n",
       "      <th></th>\n",
       "      <th>disbursed_amount</th>\n",
       "      <th>asset_cost</th>\n",
       "      <th>ltv</th>\n",
       "      <th>Aadhar_flag</th>\n",
       "      <th>VoterID_flag</th>\n",
       "      <th>PERFORM_CNS.SCORE</th>\n",
       "      <th>PERFORM_CNS.SCORE.DESCRIPTION</th>\n",
       "      <th>PRI.NO.OF.ACCTS</th>\n",
       "      <th>PRI.ACTIVE.ACCTS</th>\n",
       "      <th>PRI.CURRENT.BALANCE</th>\n",
       "      <th>...</th>\n",
       "      <th>Salaried</th>\n",
       "      <th>Self employed</th>\n",
       "      <th>ATLEAST.ONE.PRI.OVERDUE.ACCTS</th>\n",
       "      <th>ZERO.PRI.OVERDUE.ACCTS</th>\n",
       "      <th>ATLEAST.ONE.NEW.ACCTS.IN.LAST.SIX.MONTHS</th>\n",
       "      <th>ZERO.NEW.ACCTS.IN.LAST.SIX.MONTHS</th>\n",
       "      <th>ATLEAST.ONE.DELINQUENT.ACCTS.IN.LAST.SIX.MONTHS</th>\n",
       "      <th>ZERO.DELINQUENT.ACCTS.IN.LAST.SIX.MONTHS</th>\n",
       "      <th>ATLEAST.ONE.NO.OF_INQUIRIES</th>\n",
       "      <th>ZERO.NO.OF_INQUIRIES</th>\n",
       "    </tr>\n",
       "  </thead>\n",
       "  <tbody>\n",
       "    <tr>\n",
       "      <th>0</th>\n",
       "      <td>50578</td>\n",
       "      <td>58400</td>\n",
       "      <td>89.55</td>\n",
       "      <td>1</td>\n",
       "      <td>0</td>\n",
       "      <td>0</td>\n",
       "      <td>116950</td>\n",
       "      <td>0</td>\n",
       "      <td>0</td>\n",
       "      <td>0</td>\n",
       "      <td>...</td>\n",
       "      <td>1</td>\n",
       "      <td>0</td>\n",
       "      <td>0</td>\n",
       "      <td>1</td>\n",
       "      <td>0</td>\n",
       "      <td>1</td>\n",
       "      <td>0</td>\n",
       "      <td>1</td>\n",
       "      <td>0</td>\n",
       "      <td>1</td>\n",
       "    </tr>\n",
       "    <tr>\n",
       "      <th>1</th>\n",
       "      <td>47145</td>\n",
       "      <td>65550</td>\n",
       "      <td>73.23</td>\n",
       "      <td>1</td>\n",
       "      <td>0</td>\n",
       "      <td>1</td>\n",
       "      <td>5557</td>\n",
       "      <td>1</td>\n",
       "      <td>1</td>\n",
       "      <td>27600</td>\n",
       "      <td>...</td>\n",
       "      <td>0</td>\n",
       "      <td>1</td>\n",
       "      <td>1</td>\n",
       "      <td>0</td>\n",
       "      <td>0</td>\n",
       "      <td>1</td>\n",
       "      <td>1</td>\n",
       "      <td>0</td>\n",
       "      <td>0</td>\n",
       "      <td>1</td>\n",
       "    </tr>\n",
       "    <tr>\n",
       "      <th>2</th>\n",
       "      <td>53278</td>\n",
       "      <td>61360</td>\n",
       "      <td>89.63</td>\n",
       "      <td>1</td>\n",
       "      <td>0</td>\n",
       "      <td>0</td>\n",
       "      <td>116950</td>\n",
       "      <td>0</td>\n",
       "      <td>0</td>\n",
       "      <td>0</td>\n",
       "      <td>...</td>\n",
       "      <td>0</td>\n",
       "      <td>1</td>\n",
       "      <td>0</td>\n",
       "      <td>1</td>\n",
       "      <td>0</td>\n",
       "      <td>1</td>\n",
       "      <td>0</td>\n",
       "      <td>1</td>\n",
       "      <td>0</td>\n",
       "      <td>1</td>\n",
       "    </tr>\n",
       "    <tr>\n",
       "      <th>3</th>\n",
       "      <td>57513</td>\n",
       "      <td>66113</td>\n",
       "      <td>88.48</td>\n",
       "      <td>1</td>\n",
       "      <td>0</td>\n",
       "      <td>1</td>\n",
       "      <td>1134</td>\n",
       "      <td>3</td>\n",
       "      <td>0</td>\n",
       "      <td>0</td>\n",
       "      <td>...</td>\n",
       "      <td>0</td>\n",
       "      <td>1</td>\n",
       "      <td>0</td>\n",
       "      <td>1</td>\n",
       "      <td>0</td>\n",
       "      <td>1</td>\n",
       "      <td>0</td>\n",
       "      <td>1</td>\n",
       "      <td>1</td>\n",
       "      <td>0</td>\n",
       "    </tr>\n",
       "    <tr>\n",
       "      <th>4</th>\n",
       "      <td>52378</td>\n",
       "      <td>60300</td>\n",
       "      <td>88.39</td>\n",
       "      <td>1</td>\n",
       "      <td>0</td>\n",
       "      <td>0</td>\n",
       "      <td>116950</td>\n",
       "      <td>0</td>\n",
       "      <td>0</td>\n",
       "      <td>0</td>\n",
       "      <td>...</td>\n",
       "      <td>0</td>\n",
       "      <td>1</td>\n",
       "      <td>0</td>\n",
       "      <td>1</td>\n",
       "      <td>0</td>\n",
       "      <td>1</td>\n",
       "      <td>0</td>\n",
       "      <td>1</td>\n",
       "      <td>1</td>\n",
       "      <td>0</td>\n",
       "    </tr>\n",
       "  </tbody>\n",
       "</table>\n",
       "<p>5 rows × 26 columns</p>\n",
       "</div>"
      ],
      "text/plain": [
       "   disbursed_amount  asset_cost    ltv  Aadhar_flag  VoterID_flag  \\\n",
       "0             50578       58400  89.55            1             0   \n",
       "1             47145       65550  73.23            1             0   \n",
       "2             53278       61360  89.63            1             0   \n",
       "3             57513       66113  88.48            1             0   \n",
       "4             52378       60300  88.39            1             0   \n",
       "\n",
       "   PERFORM_CNS.SCORE  PERFORM_CNS.SCORE.DESCRIPTION  PRI.NO.OF.ACCTS  \\\n",
       "0                  0                         116950                0   \n",
       "1                  1                           5557                1   \n",
       "2                  0                         116950                0   \n",
       "3                  1                           1134                3   \n",
       "4                  0                         116950                0   \n",
       "\n",
       "   PRI.ACTIVE.ACCTS  PRI.CURRENT.BALANCE  ...  Salaried  Self employed  \\\n",
       "0                 0                    0  ...         1              0   \n",
       "1                 1                27600  ...         0              1   \n",
       "2                 0                    0  ...         0              1   \n",
       "3                 0                    0  ...         0              1   \n",
       "4                 0                    0  ...         0              1   \n",
       "\n",
       "   ATLEAST.ONE.PRI.OVERDUE.ACCTS  ZERO.PRI.OVERDUE.ACCTS  \\\n",
       "0                              0                       1   \n",
       "1                              1                       0   \n",
       "2                              0                       1   \n",
       "3                              0                       1   \n",
       "4                              0                       1   \n",
       "\n",
       "   ATLEAST.ONE.NEW.ACCTS.IN.LAST.SIX.MONTHS  \\\n",
       "0                                         0   \n",
       "1                                         0   \n",
       "2                                         0   \n",
       "3                                         0   \n",
       "4                                         0   \n",
       "\n",
       "   ZERO.NEW.ACCTS.IN.LAST.SIX.MONTHS  \\\n",
       "0                                  1   \n",
       "1                                  1   \n",
       "2                                  1   \n",
       "3                                  1   \n",
       "4                                  1   \n",
       "\n",
       "   ATLEAST.ONE.DELINQUENT.ACCTS.IN.LAST.SIX.MONTHS  \\\n",
       "0                                                0   \n",
       "1                                                1   \n",
       "2                                                0   \n",
       "3                                                0   \n",
       "4                                                0   \n",
       "\n",
       "   ZERO.DELINQUENT.ACCTS.IN.LAST.SIX.MONTHS  ATLEAST.ONE.NO.OF_INQUIRIES  \\\n",
       "0                                         1                            0   \n",
       "1                                         0                            0   \n",
       "2                                         1                            0   \n",
       "3                                         1                            1   \n",
       "4                                         1                            1   \n",
       "\n",
       "   ZERO.NO.OF_INQUIRIES  \n",
       "0                     1  \n",
       "1                     1  \n",
       "2                     1  \n",
       "3                     0  \n",
       "4                     0  \n",
       "\n",
       "[5 rows x 26 columns]"
      ]
     },
     "execution_count": 275,
     "metadata": {},
     "output_type": "execute_result"
    }
   ],
   "source": [
    "dfc_new.head()"
   ]
  },
  {
   "cell_type": "code",
   "execution_count": 276,
   "metadata": {},
   "outputs": [
    {
     "data": {
      "text/plain": [
       "(233154, 26)"
      ]
     },
     "execution_count": 276,
     "metadata": {},
     "output_type": "execute_result"
    }
   ],
   "source": [
    "dfc_new.shape"
   ]
  },
  {
   "cell_type": "code",
   "execution_count": 335,
   "metadata": {},
   "outputs": [],
   "source": [
    "dfc_new.to_csv('final_data.csv')"
   ]
  },
  {
   "cell_type": "code",
   "execution_count": 3,
   "metadata": {},
   "outputs": [],
   "source": [
    "dfc_new = pd.read_csv('C:/Users/Tusha/OneDrive/Desktop/GL - DSE/capstone/Model Improvement/Final datasets/final_data.csv')"
   ]
  },
  {
   "cell_type": "code",
   "execution_count": 4,
   "metadata": {},
   "outputs": [
    {
     "name": "stdout",
     "output_type": "stream",
     "text": [
      "<class 'pandas.core.frame.DataFrame'>\n",
      "RangeIndex: 233154 entries, 0 to 233153\n",
      "Data columns (total 27 columns):\n",
      " #   Column                                           Non-Null Count   Dtype  \n",
      "---  ------                                           --------------   -----  \n",
      " 0   Unnamed: 0                                       233154 non-null  int64  \n",
      " 1   disbursed_amount                                 233154 non-null  int64  \n",
      " 2   asset_cost                                       233154 non-null  int64  \n",
      " 3   ltv                                              233154 non-null  float64\n",
      " 4   Aadhar_flag                                      233154 non-null  int64  \n",
      " 5   VoterID_flag                                     233154 non-null  int64  \n",
      " 6   PERFORM_CNS.SCORE                                233154 non-null  int64  \n",
      " 7   PERFORM_CNS.SCORE.DESCRIPTION                    233154 non-null  int64  \n",
      " 8   PRI.NO.OF.ACCTS                                  233154 non-null  int64  \n",
      " 9   PRI.ACTIVE.ACCTS                                 233154 non-null  int64  \n",
      " 10  PRI.CURRENT.BALANCE                              233154 non-null  int64  \n",
      " 11  PRI.SANCTIONED.AMOUNT                            233154 non-null  int64  \n",
      " 12  PRI.DISBURSED.AMOUNT                             233154 non-null  int64  \n",
      " 13  PRIMARY.INSTAL.AMT                               233154 non-null  int64  \n",
      " 14  AVERAGE.ACCT.AGE                                 233154 non-null  float64\n",
      " 15  CREDIT.HISTORY.LENGTH                            233154 non-null  float64\n",
      " 16  loan_default                                     233154 non-null  int64  \n",
      " 17  Salaried                                         233154 non-null  int64  \n",
      " 18  Self employed                                    233154 non-null  int64  \n",
      " 19  ATLEAST.ONE.PRI.OVERDUE.ACCTS                    233154 non-null  int64  \n",
      " 20  ZERO.PRI.OVERDUE.ACCTS                           233154 non-null  int64  \n",
      " 21  ATLEAST.ONE.NEW.ACCTS.IN.LAST.SIX.MONTHS         233154 non-null  int64  \n",
      " 22  ZERO.NEW.ACCTS.IN.LAST.SIX.MONTHS                233154 non-null  int64  \n",
      " 23  ATLEAST.ONE.DELINQUENT.ACCTS.IN.LAST.SIX.MONTHS  233154 non-null  int64  \n",
      " 24  ZERO.DELINQUENT.ACCTS.IN.LAST.SIX.MONTHS         233154 non-null  int64  \n",
      " 25  ATLEAST.ONE.NO.OF_INQUIRIES                      233154 non-null  int64  \n",
      " 26  ZERO.NO.OF_INQUIRIES                             233154 non-null  int64  \n",
      "dtypes: float64(3), int64(24)\n",
      "memory usage: 48.0 MB\n"
     ]
    }
   ],
   "source": [
    "dfc_new.info()"
   ]
  },
  {
   "cell_type": "code",
   "execution_count": 5,
   "metadata": {},
   "outputs": [
    {
     "data": {
      "image/png": "[encoded data removed]",
      "text/plain": [
       "<Figure size 432x288 with 1 Axes>"
      ]
     },
     "metadata": {
      "needs_background": "light"
     },
     "output_type": "display_data"
    }
   ],
   "source": [
    "dfc_new.boxplot()\n",
    "plt.xticks(rotation = 90)\n",
    "plt.show()"
   ]
  },
  {
   "cell_type": "code",
   "execution_count": 6,
   "metadata": {},
   "outputs": [],
   "source": [
    "dfc_new.drop('Unnamed: 0', axis = 1, inplace = True)"
   ]
  },
  {
   "cell_type": "code",
   "execution_count": 7,
   "metadata": {},
   "outputs": [],
   "source": [
    "from sklearn.preprocessing import PowerTransformer"
   ]
  },
  {
   "cell_type": "code",
   "execution_count": 8,
   "metadata": {},
   "outputs": [],
   "source": [
    "from sklearn.model_selection import train_test_split"
   ]
  },
  {
   "cell_type": "code",
   "execution_count": 9,
   "metadata": {},
   "outputs": [],
   "source": [
    "x = dfc_new.drop('loan_default', axis = 1)\n",
    "y = dfc_new['loan_default']"
   ]
  },
  {
   "cell_type": "code",
   "execution_count": 10,
   "metadata": {},
   "outputs": [],
   "source": [
    "trainx, testx, trainy, testy = train_test_split(x,y, test_size = 0.3, random_state = 10, stratify = y)"
   ]
  },
  {
   "cell_type": "code",
   "execution_count": 11,
   "metadata": {},
   "outputs": [
    {
     "name": "stdout",
     "output_type": "stream",
     "text": [
      "(163207, 25)\n",
      "(69947, 25)\n"
     ]
    }
   ],
   "source": [
    "print(trainx.shape)\n",
    "print(testx.shape)"
   ]
  },
  {
   "cell_type": "code",
   "execution_count": 12,
   "metadata": {},
   "outputs": [
    {
     "name": "stdout",
     "output_type": "stream",
     "text": [
      "Int64Index([154797, 185326, 215052,  13325,  66076, 119168, 201287, 160999,\n",
      "            201410, 211542,\n",
      "            ...\n",
      "             90130, 100061,  61752, 143280, 179505,  25987,  97091, 160469,\n",
      "             32660,  25551],\n",
      "           dtype='int64', length=163207)\n"
     ]
    }
   ],
   "source": [
    "print(trainx.index)"
   ]
  },
  {
   "cell_type": "code",
   "execution_count": 13,
   "metadata": {},
   "outputs": [],
   "source": [
    "trainx.reset_index(drop = True, inplace = True)\n",
    "testx.reset_index(drop = True, inplace = True)\n",
    "trainy.reset_index(drop = True, inplace = True)\n",
    "testy.reset_index(drop = True, inplace = True)"
   ]
  },
  {
   "cell_type": "code",
   "execution_count": 14,
   "metadata": {},
   "outputs": [
    {
     "name": "stdout",
     "output_type": "stream",
     "text": [
      "RangeIndex(start=0, stop=163207, step=1)\n",
      "RangeIndex(start=0, stop=69947, step=1)\n",
      "RangeIndex(start=0, stop=163207, step=1)\n",
      "RangeIndex(start=0, stop=69947, step=1)\n"
     ]
    }
   ],
   "source": [
    "print(trainx.index)\n",
    "print(testx.index)\n",
    "print(trainy.index)\n",
    "print(testy.index)"
   ]
  },
  {
   "cell_type": "code",
   "execution_count": 353,
   "metadata": {},
   "outputs": [],
   "source": [
    "# apply Sequential feature selection"
   ]
  },
  {
   "cell_type": "code",
   "execution_count": 355,
   "metadata": {},
   "outputs": [],
   "source": [
    "from mlxtend.feature_selection import SequentialFeatureSelector as sfs"
   ]
  },
  {
   "cell_type": "code",
   "execution_count": 356,
   "metadata": {},
   "outputs": [],
   "source": [
    "from sklearn.ensemble import RandomForestClassifier"
   ]
  },
  {
   "cell_type": "code",
   "execution_count": 357,
   "metadata": {},
   "outputs": [],
   "source": [
    "rf = RandomForestClassifier()"
   ]
  },
  {
   "cell_type": "code",
   "execution_count": 362,
   "metadata": {},
   "outputs": [],
   "source": [
    "sfs_fwd = sfs(estimator = rf, k_features = 20, scoring = 'recall', verbose = 2, forward = True)"
   ]
  },
  {
   "cell_type": "code",
   "execution_count": 363,
   "metadata": {},
   "outputs": [
    {
     "name": "stderr",
     "output_type": "stream",
     "text": [
      "[Parallel(n_jobs=1)]: Using backend SequentialBackend with 1 concurrent workers.\n",
      "[Parallel(n_jobs=1)]: Done   1 out of   1 | elapsed:  2.7min remaining:    0.0s\n",
      "[Parallel(n_jobs=1)]: Done  25 out of  25 | elapsed: 19.2min finished\n",
      "\n",
      "[2021-10-22 02:30:56] Features: 1/20 -- score: 0.10003390147180591[Parallel(n_jobs=1)]: Using backend SequentialBackend with 1 concurrent workers.\n",
      "[Parallel(n_jobs=1)]: Done   1 out of   1 | elapsed:  3.1min remaining:    0.0s\n",
      "\n",
      "STOPPING EARLY DUE TO KEYBOARD INTERRUPT..."
     ]
    }
   ],
   "source": [
    "fwd = sfs_fwd.fit(trainx, trainy)"
   ]
  },
  {
   "cell_type": "code",
   "execution_count": 15,
   "metadata": {},
   "outputs": [
    {
     "data": {
      "text/plain": [
       "Index(['disbursed_amount', 'asset_cost', 'ltv', 'Aadhar_flag', 'VoterID_flag',\n",
       "       'PERFORM_CNS.SCORE', 'PERFORM_CNS.SCORE.DESCRIPTION', 'PRI.NO.OF.ACCTS',\n",
       "       'PRI.ACTIVE.ACCTS', 'PRI.CURRENT.BALANCE', 'PRI.SANCTIONED.AMOUNT',\n",
       "       'PRI.DISBURSED.AMOUNT', 'PRIMARY.INSTAL.AMT', 'AVERAGE.ACCT.AGE',\n",
       "       'CREDIT.HISTORY.LENGTH', 'Salaried', 'Self employed',\n",
       "       'ATLEAST.ONE.PRI.OVERDUE.ACCTS', 'ZERO.PRI.OVERDUE.ACCTS',\n",
       "       'ATLEAST.ONE.NEW.ACCTS.IN.LAST.SIX.MONTHS',\n",
       "       'ZERO.NEW.ACCTS.IN.LAST.SIX.MONTHS',\n",
       "       'ATLEAST.ONE.DELINQUENT.ACCTS.IN.LAST.SIX.MONTHS',\n",
       "       'ZERO.DELINQUENT.ACCTS.IN.LAST.SIX.MONTHS',\n",
       "       'ATLEAST.ONE.NO.OF_INQUIRIES', 'ZERO.NO.OF_INQUIRIES'],\n",
       "      dtype='object')"
      ]
     },
     "execution_count": 15,
     "metadata": {},
     "output_type": "execute_result"
    }
   ],
   "source": [
    "trainx.columns"
   ]
  },
  {
   "cell_type": "code",
   "execution_count": 16,
   "metadata": {},
   "outputs": [],
   "source": [
    "train_cat = trainx[['Aadhar_flag', 'VoterID_flag','Salaried', 'Self employed','ATLEAST.ONE.PRI.OVERDUE.ACCTS', 'ZERO.PRI.OVERDUE.ACCTS',\n",
    "       'ATLEAST.ONE.NEW.ACCTS.IN.LAST.SIX.MONTHS',\n",
    "       'ZERO.NEW.ACCTS.IN.LAST.SIX.MONTHS',\n",
    "       'ATLEAST.ONE.DELINQUENT.ACCTS.IN.LAST.SIX.MONTHS',\n",
    "       'ZERO.DELINQUENT.ACCTS.IN.LAST.SIX.MONTHS',\n",
    "       'ATLEAST.ONE.NO.OF_INQUIRIES', 'ZERO.NO.OF_INQUIRIES']]"
   ]
  },
  {
   "cell_type": "code",
   "execution_count": 17,
   "metadata": {},
   "outputs": [],
   "source": [
    "train_num = trainx[['disbursed_amount', 'asset_cost', 'ltv', 'PERFORM_CNS.SCORE', 'PERFORM_CNS.SCORE.DESCRIPTION', 'PRI.NO.OF.ACCTS',\n",
    "       'PRI.ACTIVE.ACCTS', 'PRI.CURRENT.BALANCE', 'PRI.SANCTIONED.AMOUNT',\n",
    "       'PRI.DISBURSED.AMOUNT', 'PRIMARY.INSTAL.AMT', 'AVERAGE.ACCT.AGE',\n",
    "       'CREDIT.HISTORY.LENGTH']]"
   ]
  },
  {
   "cell_type": "code",
   "execution_count": 18,
   "metadata": {},
   "outputs": [
    {
     "data": {
      "text/plain": [
       "RangeIndex(start=0, stop=163207, step=1)"
      ]
     },
     "execution_count": 18,
     "metadata": {},
     "output_type": "execute_result"
    }
   ],
   "source": [
    "train_num.index"
   ]
  },
  {
   "cell_type": "code",
   "execution_count": 19,
   "metadata": {},
   "outputs": [
    {
     "data": {
      "text/plain": [
       "RangeIndex(start=0, stop=163207, step=1)"
      ]
     },
     "execution_count": 19,
     "metadata": {},
     "output_type": "execute_result"
    }
   ],
   "source": [
    "train_cat.index"
   ]
  },
  {
   "cell_type": "code",
   "execution_count": 20,
   "metadata": {},
   "outputs": [],
   "source": [
    "pt = PowerTransformer()"
   ]
  },
  {
   "cell_type": "code",
   "execution_count": 21,
   "metadata": {},
   "outputs": [
    {
     "name": "stderr",
     "output_type": "stream",
     "text": [
      "C:\\Users\\Tusha\\Anaconda3\\lib\\site-packages\\sklearn\\preprocessing\\_data.py:3237: RuntimeWarning: divide by zero encountered in log\n",
      "  loglike = -n_samples / 2 * np.log(x_trans.var())\n"
     ]
    }
   ],
   "source": [
    "scaled = pt.fit_transform(train_num)"
   ]
  },
  {
   "cell_type": "code",
   "execution_count": 22,
   "metadata": {},
   "outputs": [
    {
     "data": {
      "text/html": [
       "<div>\n",
       "<style scoped>\n",
       "    .dataframe tbody tr th:only-of-type {\n",
       "        vertical-align: middle;\n",
       "    }\n",
       "\n",
       "    .dataframe tbody tr th {\n",
       "        vertical-align: top;\n",
       "    }\n",
       "\n",
       "    .dataframe thead th {\n",
       "        text-align: right;\n",
       "    }\n",
       "</style>\n",
       "<table border=\"1\" class=\"dataframe\">\n",
       "  <thead>\n",
       "    <tr style=\"text-align: right;\">\n",
       "      <th></th>\n",
       "      <th>disbursed_amount</th>\n",
       "      <th>asset_cost</th>\n",
       "      <th>ltv</th>\n",
       "      <th>PERFORM_CNS.SCORE</th>\n",
       "      <th>PERFORM_CNS.SCORE.DESCRIPTION</th>\n",
       "      <th>PRI.NO.OF.ACCTS</th>\n",
       "      <th>PRI.ACTIVE.ACCTS</th>\n",
       "      <th>PRI.CURRENT.BALANCE</th>\n",
       "      <th>PRI.SANCTIONED.AMOUNT</th>\n",
       "      <th>PRI.DISBURSED.AMOUNT</th>\n",
       "      <th>PRIMARY.INSTAL.AMT</th>\n",
       "      <th>AVERAGE.ACCT.AGE</th>\n",
       "      <th>CREDIT.HISTORY.LENGTH</th>\n",
       "    </tr>\n",
       "  </thead>\n",
       "  <tbody>\n",
       "    <tr>\n",
       "      <th>0</th>\n",
       "      <td>0.0</td>\n",
       "      <td>0.0</td>\n",
       "      <td>1.631676</td>\n",
       "      <td>0.664417</td>\n",
       "      <td>-0.979672</td>\n",
       "      <td>1.294787</td>\n",
       "      <td>1.566508</td>\n",
       "      <td>0.974860</td>\n",
       "      <td>1.386494</td>\n",
       "      <td>1.390040</td>\n",
       "      <td>1.534861</td>\n",
       "      <td>1.491849</td>\n",
       "      <td>1.569413</td>\n",
       "    </tr>\n",
       "    <tr>\n",
       "      <th>1</th>\n",
       "      <td>0.0</td>\n",
       "      <td>0.0</td>\n",
       "      <td>1.423378</td>\n",
       "      <td>-0.811049</td>\n",
       "      <td>0.971446</td>\n",
       "      <td>-0.929217</td>\n",
       "      <td>-0.815665</td>\n",
       "      <td>-0.177284</td>\n",
       "      <td>-0.823474</td>\n",
       "      <td>-0.822486</td>\n",
       "      <td>-0.678470</td>\n",
       "      <td>-0.894235</td>\n",
       "      <td>-0.890481</td>\n",
       "    </tr>\n",
       "    <tr>\n",
       "      <th>2</th>\n",
       "      <td>0.0</td>\n",
       "      <td>0.0</td>\n",
       "      <td>-0.168283</td>\n",
       "      <td>-0.811049</td>\n",
       "      <td>0.971446</td>\n",
       "      <td>-0.929217</td>\n",
       "      <td>-0.815665</td>\n",
       "      <td>-0.177284</td>\n",
       "      <td>-0.823474</td>\n",
       "      <td>-0.822486</td>\n",
       "      <td>-0.678470</td>\n",
       "      <td>-0.894235</td>\n",
       "      <td>-0.890481</td>\n",
       "    </tr>\n",
       "    <tr>\n",
       "      <th>3</th>\n",
       "      <td>0.0</td>\n",
       "      <td>0.0</td>\n",
       "      <td>-0.146445</td>\n",
       "      <td>1.333819</td>\n",
       "      <td>-0.582563</td>\n",
       "      <td>1.017100</td>\n",
       "      <td>0.803669</td>\n",
       "      <td>-0.160950</td>\n",
       "      <td>1.031563</td>\n",
       "      <td>1.036469</td>\n",
       "      <td>1.460724</td>\n",
       "      <td>0.265543</td>\n",
       "      <td>0.209034</td>\n",
       "    </tr>\n",
       "    <tr>\n",
       "      <th>4</th>\n",
       "      <td>0.0</td>\n",
       "      <td>0.0</td>\n",
       "      <td>-2.292066</td>\n",
       "      <td>1.333819</td>\n",
       "      <td>-0.796255</td>\n",
       "      <td>1.180368</td>\n",
       "      <td>1.253745</td>\n",
       "      <td>1.148136</td>\n",
       "      <td>1.412585</td>\n",
       "      <td>1.415198</td>\n",
       "      <td>1.564647</td>\n",
       "      <td>1.510670</td>\n",
       "      <td>1.539909</td>\n",
       "    </tr>\n",
       "  </tbody>\n",
       "</table>\n",
       "</div>"
      ],
      "text/plain": [
       "   disbursed_amount  asset_cost       ltv  PERFORM_CNS.SCORE  \\\n",
       "0               0.0         0.0  1.631676           0.664417   \n",
       "1               0.0         0.0  1.423378          -0.811049   \n",
       "2               0.0         0.0 -0.168283          -0.811049   \n",
       "3               0.0         0.0 -0.146445           1.333819   \n",
       "4               0.0         0.0 -2.292066           1.333819   \n",
       "\n",
       "   PERFORM_CNS.SCORE.DESCRIPTION  PRI.NO.OF.ACCTS  PRI.ACTIVE.ACCTS  \\\n",
       "0                      -0.979672         1.294787          1.566508   \n",
       "1                       0.971446        -0.929217         -0.815665   \n",
       "2                       0.971446        -0.929217         -0.815665   \n",
       "3                      -0.582563         1.017100          0.803669   \n",
       "4                      -0.796255         1.180368          1.253745   \n",
       "\n",
       "   PRI.CURRENT.BALANCE  PRI.SANCTIONED.AMOUNT  PRI.DISBURSED.AMOUNT  \\\n",
       "0             0.974860               1.386494              1.390040   \n",
       "1            -0.177284              -0.823474             -0.822486   \n",
       "2            -0.177284              -0.823474             -0.822486   \n",
       "3            -0.160950               1.031563              1.036469   \n",
       "4             1.148136               1.412585              1.415198   \n",
       "\n",
       "   PRIMARY.INSTAL.AMT  AVERAGE.ACCT.AGE  CREDIT.HISTORY.LENGTH  \n",
       "0            1.534861          1.491849               1.569413  \n",
       "1           -0.678470         -0.894235              -0.890481  \n",
       "2           -0.678470         -0.894235              -0.890481  \n",
       "3            1.460724          0.265543               0.209034  \n",
       "4            1.564647          1.510670               1.539909  "
      ]
     },
     "execution_count": 22,
     "metadata": {},
     "output_type": "execute_result"
    }
   ],
   "source": [
    "train_num = pd.DataFrame(scaled, columns = train_num.columns)\n",
    "train_num.head()"
   ]
  },
  {
   "cell_type": "code",
   "execution_count": 23,
   "metadata": {},
   "outputs": [
    {
     "data": {
      "text/plain": [
       "RangeIndex(start=0, stop=163207, step=1)"
      ]
     },
     "execution_count": 23,
     "metadata": {},
     "output_type": "execute_result"
    }
   ],
   "source": [
    "train_num.index"
   ]
  },
  {
   "cell_type": "code",
   "execution_count": 24,
   "metadata": {},
   "outputs": [
    {
     "data": {
      "text/html": [
       "<div>\n",
       "<style scoped>\n",
       "    .dataframe tbody tr th:only-of-type {\n",
       "        vertical-align: middle;\n",
       "    }\n",
       "\n",
       "    .dataframe tbody tr th {\n",
       "        vertical-align: top;\n",
       "    }\n",
       "\n",
       "    .dataframe thead th {\n",
       "        text-align: right;\n",
       "    }\n",
       "</style>\n",
       "<table border=\"1\" class=\"dataframe\">\n",
       "  <thead>\n",
       "    <tr style=\"text-align: right;\">\n",
       "      <th></th>\n",
       "      <th>disbursed_amount</th>\n",
       "      <th>asset_cost</th>\n",
       "      <th>ltv</th>\n",
       "      <th>PERFORM_CNS.SCORE</th>\n",
       "      <th>PERFORM_CNS.SCORE.DESCRIPTION</th>\n",
       "      <th>PRI.NO.OF.ACCTS</th>\n",
       "      <th>PRI.ACTIVE.ACCTS</th>\n",
       "      <th>PRI.CURRENT.BALANCE</th>\n",
       "      <th>PRI.SANCTIONED.AMOUNT</th>\n",
       "      <th>PRI.DISBURSED.AMOUNT</th>\n",
       "      <th>...</th>\n",
       "      <th>Salaried</th>\n",
       "      <th>Self employed</th>\n",
       "      <th>ATLEAST.ONE.PRI.OVERDUE.ACCTS</th>\n",
       "      <th>ZERO.PRI.OVERDUE.ACCTS</th>\n",
       "      <th>ATLEAST.ONE.NEW.ACCTS.IN.LAST.SIX.MONTHS</th>\n",
       "      <th>ZERO.NEW.ACCTS.IN.LAST.SIX.MONTHS</th>\n",
       "      <th>ATLEAST.ONE.DELINQUENT.ACCTS.IN.LAST.SIX.MONTHS</th>\n",
       "      <th>ZERO.DELINQUENT.ACCTS.IN.LAST.SIX.MONTHS</th>\n",
       "      <th>ATLEAST.ONE.NO.OF_INQUIRIES</th>\n",
       "      <th>ZERO.NO.OF_INQUIRIES</th>\n",
       "    </tr>\n",
       "  </thead>\n",
       "  <tbody>\n",
       "    <tr>\n",
       "      <th>0</th>\n",
       "      <td>0.0</td>\n",
       "      <td>0.0</td>\n",
       "      <td>1.631676</td>\n",
       "      <td>0.664417</td>\n",
       "      <td>-0.979672</td>\n",
       "      <td>1.294787</td>\n",
       "      <td>1.566508</td>\n",
       "      <td>0.974860</td>\n",
       "      <td>1.386494</td>\n",
       "      <td>1.390040</td>\n",
       "      <td>...</td>\n",
       "      <td>1</td>\n",
       "      <td>0</td>\n",
       "      <td>1</td>\n",
       "      <td>0</td>\n",
       "      <td>0</td>\n",
       "      <td>1</td>\n",
       "      <td>1</td>\n",
       "      <td>0</td>\n",
       "      <td>0</td>\n",
       "      <td>1</td>\n",
       "    </tr>\n",
       "    <tr>\n",
       "      <th>1</th>\n",
       "      <td>0.0</td>\n",
       "      <td>0.0</td>\n",
       "      <td>1.423378</td>\n",
       "      <td>-0.811049</td>\n",
       "      <td>0.971446</td>\n",
       "      <td>-0.929217</td>\n",
       "      <td>-0.815665</td>\n",
       "      <td>-0.177284</td>\n",
       "      <td>-0.823474</td>\n",
       "      <td>-0.822486</td>\n",
       "      <td>...</td>\n",
       "      <td>1</td>\n",
       "      <td>0</td>\n",
       "      <td>0</td>\n",
       "      <td>1</td>\n",
       "      <td>0</td>\n",
       "      <td>1</td>\n",
       "      <td>0</td>\n",
       "      <td>1</td>\n",
       "      <td>0</td>\n",
       "      <td>1</td>\n",
       "    </tr>\n",
       "    <tr>\n",
       "      <th>2</th>\n",
       "      <td>0.0</td>\n",
       "      <td>0.0</td>\n",
       "      <td>-0.168283</td>\n",
       "      <td>-0.811049</td>\n",
       "      <td>0.971446</td>\n",
       "      <td>-0.929217</td>\n",
       "      <td>-0.815665</td>\n",
       "      <td>-0.177284</td>\n",
       "      <td>-0.823474</td>\n",
       "      <td>-0.822486</td>\n",
       "      <td>...</td>\n",
       "      <td>0</td>\n",
       "      <td>1</td>\n",
       "      <td>0</td>\n",
       "      <td>1</td>\n",
       "      <td>0</td>\n",
       "      <td>1</td>\n",
       "      <td>0</td>\n",
       "      <td>1</td>\n",
       "      <td>1</td>\n",
       "      <td>0</td>\n",
       "    </tr>\n",
       "    <tr>\n",
       "      <th>3</th>\n",
       "      <td>0.0</td>\n",
       "      <td>0.0</td>\n",
       "      <td>-0.146445</td>\n",
       "      <td>1.333819</td>\n",
       "      <td>-0.582563</td>\n",
       "      <td>1.017100</td>\n",
       "      <td>0.803669</td>\n",
       "      <td>-0.160950</td>\n",
       "      <td>1.031563</td>\n",
       "      <td>1.036469</td>\n",
       "      <td>...</td>\n",
       "      <td>0</td>\n",
       "      <td>1</td>\n",
       "      <td>0</td>\n",
       "      <td>1</td>\n",
       "      <td>1</td>\n",
       "      <td>0</td>\n",
       "      <td>0</td>\n",
       "      <td>1</td>\n",
       "      <td>0</td>\n",
       "      <td>1</td>\n",
       "    </tr>\n",
       "    <tr>\n",
       "      <th>4</th>\n",
       "      <td>0.0</td>\n",
       "      <td>0.0</td>\n",
       "      <td>-2.292066</td>\n",
       "      <td>1.333819</td>\n",
       "      <td>-0.796255</td>\n",
       "      <td>1.180368</td>\n",
       "      <td>1.253745</td>\n",
       "      <td>1.148136</td>\n",
       "      <td>1.412585</td>\n",
       "      <td>1.415198</td>\n",
       "      <td>...</td>\n",
       "      <td>1</td>\n",
       "      <td>0</td>\n",
       "      <td>0</td>\n",
       "      <td>1</td>\n",
       "      <td>0</td>\n",
       "      <td>1</td>\n",
       "      <td>0</td>\n",
       "      <td>1</td>\n",
       "      <td>0</td>\n",
       "      <td>1</td>\n",
       "    </tr>\n",
       "    <tr>\n",
       "      <th>5</th>\n",
       "      <td>0.0</td>\n",
       "      <td>0.0</td>\n",
       "      <td>1.352329</td>\n",
       "      <td>-0.811049</td>\n",
       "      <td>0.971446</td>\n",
       "      <td>-0.929217</td>\n",
       "      <td>-0.815665</td>\n",
       "      <td>-0.177284</td>\n",
       "      <td>-0.823474</td>\n",
       "      <td>-0.822486</td>\n",
       "      <td>...</td>\n",
       "      <td>1</td>\n",
       "      <td>0</td>\n",
       "      <td>0</td>\n",
       "      <td>1</td>\n",
       "      <td>0</td>\n",
       "      <td>1</td>\n",
       "      <td>0</td>\n",
       "      <td>1</td>\n",
       "      <td>0</td>\n",
       "      <td>1</td>\n",
       "    </tr>\n",
       "    <tr>\n",
       "      <th>6</th>\n",
       "      <td>0.0</td>\n",
       "      <td>0.0</td>\n",
       "      <td>-1.562383</td>\n",
       "      <td>1.539606</td>\n",
       "      <td>-0.663133</td>\n",
       "      <td>0.761636</td>\n",
       "      <td>0.803669</td>\n",
       "      <td>0.127979</td>\n",
       "      <td>1.277624</td>\n",
       "      <td>1.281254</td>\n",
       "      <td>...</td>\n",
       "      <td>0</td>\n",
       "      <td>1</td>\n",
       "      <td>0</td>\n",
       "      <td>1</td>\n",
       "      <td>0</td>\n",
       "      <td>1</td>\n",
       "      <td>0</td>\n",
       "      <td>1</td>\n",
       "      <td>0</td>\n",
       "      <td>1</td>\n",
       "    </tr>\n",
       "    <tr>\n",
       "      <th>7</th>\n",
       "      <td>0.0</td>\n",
       "      <td>0.0</td>\n",
       "      <td>-0.584891</td>\n",
       "      <td>-0.811049</td>\n",
       "      <td>0.971446</td>\n",
       "      <td>-0.929217</td>\n",
       "      <td>-0.815665</td>\n",
       "      <td>-0.177284</td>\n",
       "      <td>-0.823474</td>\n",
       "      <td>-0.822486</td>\n",
       "      <td>...</td>\n",
       "      <td>0</td>\n",
       "      <td>1</td>\n",
       "      <td>0</td>\n",
       "      <td>1</td>\n",
       "      <td>0</td>\n",
       "      <td>1</td>\n",
       "      <td>0</td>\n",
       "      <td>1</td>\n",
       "      <td>0</td>\n",
       "      <td>1</td>\n",
       "    </tr>\n",
       "    <tr>\n",
       "      <th>8</th>\n",
       "      <td>0.0</td>\n",
       "      <td>0.0</td>\n",
       "      <td>0.616164</td>\n",
       "      <td>-0.811049</td>\n",
       "      <td>0.971446</td>\n",
       "      <td>-0.929217</td>\n",
       "      <td>-0.815665</td>\n",
       "      <td>-0.177284</td>\n",
       "      <td>-0.823474</td>\n",
       "      <td>-0.822486</td>\n",
       "      <td>...</td>\n",
       "      <td>0</td>\n",
       "      <td>1</td>\n",
       "      <td>0</td>\n",
       "      <td>1</td>\n",
       "      <td>0</td>\n",
       "      <td>1</td>\n",
       "      <td>0</td>\n",
       "      <td>1</td>\n",
       "      <td>0</td>\n",
       "      <td>1</td>\n",
       "    </tr>\n",
       "    <tr>\n",
       "      <th>9</th>\n",
       "      <td>0.0</td>\n",
       "      <td>0.0</td>\n",
       "      <td>-1.262404</td>\n",
       "      <td>1.333819</td>\n",
       "      <td>-0.582563</td>\n",
       "      <td>0.761636</td>\n",
       "      <td>1.253745</td>\n",
       "      <td>-0.136658</td>\n",
       "      <td>1.114016</td>\n",
       "      <td>1.118568</td>\n",
       "      <td>...</td>\n",
       "      <td>0</td>\n",
       "      <td>1</td>\n",
       "      <td>0</td>\n",
       "      <td>1</td>\n",
       "      <td>0</td>\n",
       "      <td>1</td>\n",
       "      <td>0</td>\n",
       "      <td>1</td>\n",
       "      <td>0</td>\n",
       "      <td>1</td>\n",
       "    </tr>\n",
       "  </tbody>\n",
       "</table>\n",
       "<p>10 rows × 25 columns</p>\n",
       "</div>"
      ],
      "text/plain": [
       "   disbursed_amount  asset_cost       ltv  PERFORM_CNS.SCORE  \\\n",
       "0               0.0         0.0  1.631676           0.664417   \n",
       "1               0.0         0.0  1.423378          -0.811049   \n",
       "2               0.0         0.0 -0.168283          -0.811049   \n",
       "3               0.0         0.0 -0.146445           1.333819   \n",
       "4               0.0         0.0 -2.292066           1.333819   \n",
       "5               0.0         0.0  1.352329          -0.811049   \n",
       "6               0.0         0.0 -1.562383           1.539606   \n",
       "7               0.0         0.0 -0.584891          -0.811049   \n",
       "8               0.0         0.0  0.616164          -0.811049   \n",
       "9               0.0         0.0 -1.262404           1.333819   \n",
       "\n",
       "   PERFORM_CNS.SCORE.DESCRIPTION  PRI.NO.OF.ACCTS  PRI.ACTIVE.ACCTS  \\\n",
       "0                      -0.979672         1.294787          1.566508   \n",
       "1                       0.971446        -0.929217         -0.815665   \n",
       "2                       0.971446        -0.929217         -0.815665   \n",
       "3                      -0.582563         1.017100          0.803669   \n",
       "4                      -0.796255         1.180368          1.253745   \n",
       "5                       0.971446        -0.929217         -0.815665   \n",
       "6                      -0.663133         0.761636          0.803669   \n",
       "7                       0.971446        -0.929217         -0.815665   \n",
       "8                       0.971446        -0.929217         -0.815665   \n",
       "9                      -0.582563         0.761636          1.253745   \n",
       "\n",
       "   PRI.CURRENT.BALANCE  PRI.SANCTIONED.AMOUNT  PRI.DISBURSED.AMOUNT  ...  \\\n",
       "0             0.974860               1.386494              1.390040  ...   \n",
       "1            -0.177284              -0.823474             -0.822486  ...   \n",
       "2            -0.177284              -0.823474             -0.822486  ...   \n",
       "3            -0.160950               1.031563              1.036469  ...   \n",
       "4             1.148136               1.412585              1.415198  ...   \n",
       "5            -0.177284              -0.823474             -0.822486  ...   \n",
       "6             0.127979               1.277624              1.281254  ...   \n",
       "7            -0.177284              -0.823474             -0.822486  ...   \n",
       "8            -0.177284              -0.823474             -0.822486  ...   \n",
       "9            -0.136658               1.114016              1.118568  ...   \n",
       "\n",
       "   Salaried  Self employed  ATLEAST.ONE.PRI.OVERDUE.ACCTS  \\\n",
       "0         1              0                              1   \n",
       "1         1              0                              0   \n",
       "2         0              1                              0   \n",
       "3         0              1                              0   \n",
       "4         1              0                              0   \n",
       "5         1              0                              0   \n",
       "6         0              1                              0   \n",
       "7         0              1                              0   \n",
       "8         0              1                              0   \n",
       "9         0              1                              0   \n",
       "\n",
       "   ZERO.PRI.OVERDUE.ACCTS  ATLEAST.ONE.NEW.ACCTS.IN.LAST.SIX.MONTHS  \\\n",
       "0                       0                                         0   \n",
       "1                       1                                         0   \n",
       "2                       1                                         0   \n",
       "3                       1                                         1   \n",
       "4                       1                                         0   \n",
       "5                       1                                         0   \n",
       "6                       1                                         0   \n",
       "7                       1                                         0   \n",
       "8                       1                                         0   \n",
       "9                       1                                         0   \n",
       "\n",
       "   ZERO.NEW.ACCTS.IN.LAST.SIX.MONTHS  \\\n",
       "0                                  1   \n",
       "1                                  1   \n",
       "2                                  1   \n",
       "3                                  0   \n",
       "4                                  1   \n",
       "5                                  1   \n",
       "6                                  1   \n",
       "7                                  1   \n",
       "8                                  1   \n",
       "9                                  1   \n",
       "\n",
       "   ATLEAST.ONE.DELINQUENT.ACCTS.IN.LAST.SIX.MONTHS  \\\n",
       "0                                                1   \n",
       "1                                                0   \n",
       "2                                                0   \n",
       "3                                                0   \n",
       "4                                                0   \n",
       "5                                                0   \n",
       "6                                                0   \n",
       "7                                                0   \n",
       "8                                                0   \n",
       "9                                                0   \n",
       "\n",
       "   ZERO.DELINQUENT.ACCTS.IN.LAST.SIX.MONTHS  ATLEAST.ONE.NO.OF_INQUIRIES  \\\n",
       "0                                         0                            0   \n",
       "1                                         1                            0   \n",
       "2                                         1                            1   \n",
       "3                                         1                            0   \n",
       "4                                         1                            0   \n",
       "5                                         1                            0   \n",
       "6                                         1                            0   \n",
       "7                                         1                            0   \n",
       "8                                         1                            0   \n",
       "9                                         1                            0   \n",
       "\n",
       "   ZERO.NO.OF_INQUIRIES  \n",
       "0                     1  \n",
       "1                     1  \n",
       "2                     0  \n",
       "3                     1  \n",
       "4                     1  \n",
       "5                     1  \n",
       "6                     1  \n",
       "7                     1  \n",
       "8                     1  \n",
       "9                     1  \n",
       "\n",
       "[10 rows x 25 columns]"
      ]
     },
     "execution_count": 24,
     "metadata": {},
     "output_type": "execute_result"
    }
   ],
   "source": [
    "trainx = pd.concat((train_num, train_cat), axis = 1)\n",
    "trainx.head(10)"
   ]
  },
  {
   "cell_type": "code",
   "execution_count": 25,
   "metadata": {},
   "outputs": [
    {
     "data": {
      "text/plain": [
       "0.0    163207\n",
       "Name: asset_cost, dtype: int64"
      ]
     },
     "execution_count": 25,
     "metadata": {},
     "output_type": "execute_result"
    }
   ],
   "source": [
    "trainx['asset_cost'].value_counts()"
   ]
  },
  {
   "cell_type": "code",
   "execution_count": 26,
   "metadata": {},
   "outputs": [
    {
     "data": {
      "text/plain": [
       "0.0    163207\n",
       "Name: disbursed_amount, dtype: int64"
      ]
     },
     "execution_count": 26,
     "metadata": {},
     "output_type": "execute_result"
    }
   ],
   "source": [
    "trainx['disbursed_amount'].value_counts()"
   ]
  },
  {
   "cell_type": "code",
   "execution_count": 27,
   "metadata": {},
   "outputs": [
    {
     "data": {
      "text/plain": [
       "RangeIndex(start=0, stop=163207, step=1)"
      ]
     },
     "execution_count": 27,
     "metadata": {},
     "output_type": "execute_result"
    }
   ],
   "source": [
    "trainx.index"
   ]
  },
  {
   "cell_type": "code",
   "execution_count": 28,
   "metadata": {},
   "outputs": [
    {
     "data": {
      "text/plain": [
       "(163207, 25)"
      ]
     },
     "execution_count": 28,
     "metadata": {},
     "output_type": "execute_result"
    }
   ],
   "source": [
    "trainx.shape"
   ]
  },
  {
   "cell_type": "code",
   "execution_count": 29,
   "metadata": {},
   "outputs": [],
   "source": [
    "test_cat = testx[['Aadhar_flag', 'VoterID_flag','Salaried', 'Self employed','ATLEAST.ONE.PRI.OVERDUE.ACCTS', 'ZERO.PRI.OVERDUE.ACCTS',\n",
    "       'ATLEAST.ONE.NEW.ACCTS.IN.LAST.SIX.MONTHS',\n",
    "       'ZERO.NEW.ACCTS.IN.LAST.SIX.MONTHS',\n",
    "       'ATLEAST.ONE.DELINQUENT.ACCTS.IN.LAST.SIX.MONTHS',\n",
    "       'ZERO.DELINQUENT.ACCTS.IN.LAST.SIX.MONTHS',\n",
    "       'ATLEAST.ONE.NO.OF_INQUIRIES', 'ZERO.NO.OF_INQUIRIES']]\n",
    "\n",
    "test_num = testx[['disbursed_amount', 'asset_cost', 'ltv', 'PERFORM_CNS.SCORE', 'PERFORM_CNS.SCORE.DESCRIPTION', 'PRI.NO.OF.ACCTS',\n",
    "       'PRI.ACTIVE.ACCTS', 'PRI.CURRENT.BALANCE', 'PRI.SANCTIONED.AMOUNT',\n",
    "       'PRI.DISBURSED.AMOUNT', 'PRIMARY.INSTAL.AMT', 'AVERAGE.ACCT.AGE',\n",
    "       'CREDIT.HISTORY.LENGTH']]"
   ]
  },
  {
   "cell_type": "code",
   "execution_count": 30,
   "metadata": {},
   "outputs": [
    {
     "data": {
      "text/plain": [
       "(69947, 25)"
      ]
     },
     "execution_count": 30,
     "metadata": {},
     "output_type": "execute_result"
    }
   ],
   "source": [
    "testx.shape"
   ]
  },
  {
   "cell_type": "code",
   "execution_count": 31,
   "metadata": {},
   "outputs": [
    {
     "data": {
      "text/plain": [
       "RangeIndex(start=0, stop=69947, step=1)"
      ]
     },
     "execution_count": 31,
     "metadata": {},
     "output_type": "execute_result"
    }
   ],
   "source": [
    "test_num.index"
   ]
  },
  {
   "cell_type": "code",
   "execution_count": 32,
   "metadata": {},
   "outputs": [
    {
     "data": {
      "text/plain": [
       "RangeIndex(start=0, stop=69947, step=1)"
      ]
     },
     "execution_count": 32,
     "metadata": {},
     "output_type": "execute_result"
    }
   ],
   "source": [
    "test_cat.index"
   ]
  },
  {
   "cell_type": "code",
   "execution_count": 33,
   "metadata": {},
   "outputs": [
    {
     "data": {
      "text/html": [
       "<div>\n",
       "<style scoped>\n",
       "    .dataframe tbody tr th:only-of-type {\n",
       "        vertical-align: middle;\n",
       "    }\n",
       "\n",
       "    .dataframe tbody tr th {\n",
       "        vertical-align: top;\n",
       "    }\n",
       "\n",
       "    .dataframe thead th {\n",
       "        text-align: right;\n",
       "    }\n",
       "</style>\n",
       "<table border=\"1\" class=\"dataframe\">\n",
       "  <thead>\n",
       "    <tr style=\"text-align: right;\">\n",
       "      <th></th>\n",
       "      <th>disbursed_amount</th>\n",
       "      <th>asset_cost</th>\n",
       "      <th>ltv</th>\n",
       "      <th>PERFORM_CNS.SCORE</th>\n",
       "      <th>PERFORM_CNS.SCORE.DESCRIPTION</th>\n",
       "      <th>PRI.NO.OF.ACCTS</th>\n",
       "      <th>PRI.ACTIVE.ACCTS</th>\n",
       "      <th>PRI.CURRENT.BALANCE</th>\n",
       "      <th>PRI.SANCTIONED.AMOUNT</th>\n",
       "      <th>PRI.DISBURSED.AMOUNT</th>\n",
       "      <th>PRIMARY.INSTAL.AMT</th>\n",
       "      <th>AVERAGE.ACCT.AGE</th>\n",
       "      <th>CREDIT.HISTORY.LENGTH</th>\n",
       "    </tr>\n",
       "  </thead>\n",
       "  <tbody>\n",
       "    <tr>\n",
       "      <th>0</th>\n",
       "      <td>0.0</td>\n",
       "      <td>0.0</td>\n",
       "      <td>1.544814</td>\n",
       "      <td>-0.811049</td>\n",
       "      <td>0.971446</td>\n",
       "      <td>-0.929217</td>\n",
       "      <td>-0.815665</td>\n",
       "      <td>-0.177284</td>\n",
       "      <td>-0.823474</td>\n",
       "      <td>-0.822486</td>\n",
       "      <td>-0.678470</td>\n",
       "      <td>-0.894235</td>\n",
       "      <td>-0.890481</td>\n",
       "    </tr>\n",
       "    <tr>\n",
       "      <th>1</th>\n",
       "      <td>0.0</td>\n",
       "      <td>0.0</td>\n",
       "      <td>0.525950</td>\n",
       "      <td>0.664417</td>\n",
       "      <td>-1.391881</td>\n",
       "      <td>1.180368</td>\n",
       "      <td>1.455105</td>\n",
       "      <td>0.890437</td>\n",
       "      <td>1.390917</td>\n",
       "      <td>1.393711</td>\n",
       "      <td>1.450984</td>\n",
       "      <td>0.719926</td>\n",
       "      <td>0.598228</td>\n",
       "    </tr>\n",
       "    <tr>\n",
       "      <th>2</th>\n",
       "      <td>0.0</td>\n",
       "      <td>0.0</td>\n",
       "      <td>-0.207620</td>\n",
       "      <td>1.333819</td>\n",
       "      <td>-0.582563</td>\n",
       "      <td>0.761636</td>\n",
       "      <td>1.253745</td>\n",
       "      <td>0.399405</td>\n",
       "      <td>1.342787</td>\n",
       "      <td>1.345958</td>\n",
       "      <td>1.504134</td>\n",
       "      <td>1.596209</td>\n",
       "      <td>1.376708</td>\n",
       "    </tr>\n",
       "    <tr>\n",
       "      <th>3</th>\n",
       "      <td>0.0</td>\n",
       "      <td>0.0</td>\n",
       "      <td>-0.206643</td>\n",
       "      <td>1.458702</td>\n",
       "      <td>-0.919593</td>\n",
       "      <td>1.017100</td>\n",
       "      <td>1.455105</td>\n",
       "      <td>0.811496</td>\n",
       "      <td>1.386596</td>\n",
       "      <td>1.389426</td>\n",
       "      <td>1.514319</td>\n",
       "      <td>1.332735</td>\n",
       "      <td>1.498708</td>\n",
       "    </tr>\n",
       "    <tr>\n",
       "      <th>4</th>\n",
       "      <td>0.0</td>\n",
       "      <td>0.0</td>\n",
       "      <td>-1.731305</td>\n",
       "      <td>-0.811049</td>\n",
       "      <td>0.971446</td>\n",
       "      <td>-0.929217</td>\n",
       "      <td>-0.815665</td>\n",
       "      <td>-0.177284</td>\n",
       "      <td>-0.823474</td>\n",
       "      <td>-0.822486</td>\n",
       "      <td>-0.678470</td>\n",
       "      <td>-0.894235</td>\n",
       "      <td>-0.890481</td>\n",
       "    </tr>\n",
       "  </tbody>\n",
       "</table>\n",
       "</div>"
      ],
      "text/plain": [
       "   disbursed_amount  asset_cost       ltv  PERFORM_CNS.SCORE  \\\n",
       "0               0.0         0.0  1.544814          -0.811049   \n",
       "1               0.0         0.0  0.525950           0.664417   \n",
       "2               0.0         0.0 -0.207620           1.333819   \n",
       "3               0.0         0.0 -0.206643           1.458702   \n",
       "4               0.0         0.0 -1.731305          -0.811049   \n",
       "\n",
       "   PERFORM_CNS.SCORE.DESCRIPTION  PRI.NO.OF.ACCTS  PRI.ACTIVE.ACCTS  \\\n",
       "0                       0.971446        -0.929217         -0.815665   \n",
       "1                      -1.391881         1.180368          1.455105   \n",
       "2                      -0.582563         0.761636          1.253745   \n",
       "3                      -0.919593         1.017100          1.455105   \n",
       "4                       0.971446        -0.929217         -0.815665   \n",
       "\n",
       "   PRI.CURRENT.BALANCE  PRI.SANCTIONED.AMOUNT  PRI.DISBURSED.AMOUNT  \\\n",
       "0            -0.177284              -0.823474             -0.822486   \n",
       "1             0.890437               1.390917              1.393711   \n",
       "2             0.399405               1.342787              1.345958   \n",
       "3             0.811496               1.386596              1.389426   \n",
       "4            -0.177284              -0.823474             -0.822486   \n",
       "\n",
       "   PRIMARY.INSTAL.AMT  AVERAGE.ACCT.AGE  CREDIT.HISTORY.LENGTH  \n",
       "0           -0.678470         -0.894235              -0.890481  \n",
       "1            1.450984          0.719926               0.598228  \n",
       "2            1.504134          1.596209               1.376708  \n",
       "3            1.514319          1.332735               1.498708  \n",
       "4           -0.678470         -0.894235              -0.890481  "
      ]
     },
     "execution_count": 33,
     "metadata": {},
     "output_type": "execute_result"
    }
   ],
   "source": [
    "scaled2 = pt.transform(test_num)\n",
    "\n",
    "test_num = pd.DataFrame(scaled2, columns = test_num.columns)\n",
    "test_num.head()"
   ]
  },
  {
   "cell_type": "code",
   "execution_count": 34,
   "metadata": {},
   "outputs": [
    {
     "data": {
      "text/plain": [
       "RangeIndex(start=0, stop=69947, step=1)"
      ]
     },
     "execution_count": 34,
     "metadata": {},
     "output_type": "execute_result"
    }
   ],
   "source": [
    "test_num.index"
   ]
  },
  {
   "cell_type": "code",
   "execution_count": 35,
   "metadata": {},
   "outputs": [
    {
     "data": {
      "text/html": [
       "<div>\n",
       "<style scoped>\n",
       "    .dataframe tbody tr th:only-of-type {\n",
       "        vertical-align: middle;\n",
       "    }\n",
       "\n",
       "    .dataframe tbody tr th {\n",
       "        vertical-align: top;\n",
       "    }\n",
       "\n",
       "    .dataframe thead th {\n",
       "        text-align: right;\n",
       "    }\n",
       "</style>\n",
       "<table border=\"1\" class=\"dataframe\">\n",
       "  <thead>\n",
       "    <tr style=\"text-align: right;\">\n",
       "      <th></th>\n",
       "      <th>disbursed_amount</th>\n",
       "      <th>asset_cost</th>\n",
       "      <th>ltv</th>\n",
       "      <th>PERFORM_CNS.SCORE</th>\n",
       "      <th>PERFORM_CNS.SCORE.DESCRIPTION</th>\n",
       "      <th>PRI.NO.OF.ACCTS</th>\n",
       "      <th>PRI.ACTIVE.ACCTS</th>\n",
       "      <th>PRI.CURRENT.BALANCE</th>\n",
       "      <th>PRI.SANCTIONED.AMOUNT</th>\n",
       "      <th>PRI.DISBURSED.AMOUNT</th>\n",
       "      <th>...</th>\n",
       "      <th>Salaried</th>\n",
       "      <th>Self employed</th>\n",
       "      <th>ATLEAST.ONE.PRI.OVERDUE.ACCTS</th>\n",
       "      <th>ZERO.PRI.OVERDUE.ACCTS</th>\n",
       "      <th>ATLEAST.ONE.NEW.ACCTS.IN.LAST.SIX.MONTHS</th>\n",
       "      <th>ZERO.NEW.ACCTS.IN.LAST.SIX.MONTHS</th>\n",
       "      <th>ATLEAST.ONE.DELINQUENT.ACCTS.IN.LAST.SIX.MONTHS</th>\n",
       "      <th>ZERO.DELINQUENT.ACCTS.IN.LAST.SIX.MONTHS</th>\n",
       "      <th>ATLEAST.ONE.NO.OF_INQUIRIES</th>\n",
       "      <th>ZERO.NO.OF_INQUIRIES</th>\n",
       "    </tr>\n",
       "  </thead>\n",
       "  <tbody>\n",
       "    <tr>\n",
       "      <th>0</th>\n",
       "      <td>0.0</td>\n",
       "      <td>0.0</td>\n",
       "      <td>1.544814</td>\n",
       "      <td>-0.811049</td>\n",
       "      <td>0.971446</td>\n",
       "      <td>-0.929217</td>\n",
       "      <td>-0.815665</td>\n",
       "      <td>-0.177284</td>\n",
       "      <td>-0.823474</td>\n",
       "      <td>-0.822486</td>\n",
       "      <td>...</td>\n",
       "      <td>1</td>\n",
       "      <td>0</td>\n",
       "      <td>0</td>\n",
       "      <td>1</td>\n",
       "      <td>0</td>\n",
       "      <td>1</td>\n",
       "      <td>0</td>\n",
       "      <td>1</td>\n",
       "      <td>0</td>\n",
       "      <td>1</td>\n",
       "    </tr>\n",
       "    <tr>\n",
       "      <th>1</th>\n",
       "      <td>0.0</td>\n",
       "      <td>0.0</td>\n",
       "      <td>0.525950</td>\n",
       "      <td>0.664417</td>\n",
       "      <td>-1.391881</td>\n",
       "      <td>1.180368</td>\n",
       "      <td>1.455105</td>\n",
       "      <td>0.890437</td>\n",
       "      <td>1.390917</td>\n",
       "      <td>1.393711</td>\n",
       "      <td>...</td>\n",
       "      <td>0</td>\n",
       "      <td>1</td>\n",
       "      <td>0</td>\n",
       "      <td>1</td>\n",
       "      <td>0</td>\n",
       "      <td>1</td>\n",
       "      <td>1</td>\n",
       "      <td>0</td>\n",
       "      <td>0</td>\n",
       "      <td>1</td>\n",
       "    </tr>\n",
       "    <tr>\n",
       "      <th>2</th>\n",
       "      <td>0.0</td>\n",
       "      <td>0.0</td>\n",
       "      <td>-0.207620</td>\n",
       "      <td>1.333819</td>\n",
       "      <td>-0.582563</td>\n",
       "      <td>0.761636</td>\n",
       "      <td>1.253745</td>\n",
       "      <td>0.399405</td>\n",
       "      <td>1.342787</td>\n",
       "      <td>1.345958</td>\n",
       "      <td>...</td>\n",
       "      <td>1</td>\n",
       "      <td>0</td>\n",
       "      <td>0</td>\n",
       "      <td>1</td>\n",
       "      <td>0</td>\n",
       "      <td>1</td>\n",
       "      <td>0</td>\n",
       "      <td>1</td>\n",
       "      <td>0</td>\n",
       "      <td>1</td>\n",
       "    </tr>\n",
       "    <tr>\n",
       "      <th>3</th>\n",
       "      <td>0.0</td>\n",
       "      <td>0.0</td>\n",
       "      <td>-0.206643</td>\n",
       "      <td>1.458702</td>\n",
       "      <td>-0.919593</td>\n",
       "      <td>1.017100</td>\n",
       "      <td>1.455105</td>\n",
       "      <td>0.811496</td>\n",
       "      <td>1.386596</td>\n",
       "      <td>1.389426</td>\n",
       "      <td>...</td>\n",
       "      <td>1</td>\n",
       "      <td>0</td>\n",
       "      <td>0</td>\n",
       "      <td>1</td>\n",
       "      <td>0</td>\n",
       "      <td>1</td>\n",
       "      <td>0</td>\n",
       "      <td>1</td>\n",
       "      <td>0</td>\n",
       "      <td>1</td>\n",
       "    </tr>\n",
       "    <tr>\n",
       "      <th>4</th>\n",
       "      <td>0.0</td>\n",
       "      <td>0.0</td>\n",
       "      <td>-1.731305</td>\n",
       "      <td>-0.811049</td>\n",
       "      <td>0.971446</td>\n",
       "      <td>-0.929217</td>\n",
       "      <td>-0.815665</td>\n",
       "      <td>-0.177284</td>\n",
       "      <td>-0.823474</td>\n",
       "      <td>-0.822486</td>\n",
       "      <td>...</td>\n",
       "      <td>0</td>\n",
       "      <td>1</td>\n",
       "      <td>0</td>\n",
       "      <td>1</td>\n",
       "      <td>0</td>\n",
       "      <td>1</td>\n",
       "      <td>0</td>\n",
       "      <td>1</td>\n",
       "      <td>0</td>\n",
       "      <td>1</td>\n",
       "    </tr>\n",
       "    <tr>\n",
       "      <th>5</th>\n",
       "      <td>0.0</td>\n",
       "      <td>0.0</td>\n",
       "      <td>-0.957908</td>\n",
       "      <td>1.539606</td>\n",
       "      <td>-0.663133</td>\n",
       "      <td>1.017100</td>\n",
       "      <td>1.253745</td>\n",
       "      <td>-0.173238</td>\n",
       "      <td>1.006747</td>\n",
       "      <td>1.009703</td>\n",
       "      <td>...</td>\n",
       "      <td>1</td>\n",
       "      <td>0</td>\n",
       "      <td>0</td>\n",
       "      <td>1</td>\n",
       "      <td>0</td>\n",
       "      <td>1</td>\n",
       "      <td>0</td>\n",
       "      <td>1</td>\n",
       "      <td>0</td>\n",
       "      <td>1</td>\n",
       "    </tr>\n",
       "    <tr>\n",
       "      <th>6</th>\n",
       "      <td>0.0</td>\n",
       "      <td>0.0</td>\n",
       "      <td>-0.363044</td>\n",
       "      <td>1.333819</td>\n",
       "      <td>-0.582563</td>\n",
       "      <td>0.761636</td>\n",
       "      <td>0.803669</td>\n",
       "      <td>-0.151376</td>\n",
       "      <td>1.032357</td>\n",
       "      <td>1.037260</td>\n",
       "      <td>...</td>\n",
       "      <td>1</td>\n",
       "      <td>0</td>\n",
       "      <td>0</td>\n",
       "      <td>1</td>\n",
       "      <td>1</td>\n",
       "      <td>0</td>\n",
       "      <td>0</td>\n",
       "      <td>1</td>\n",
       "      <td>0</td>\n",
       "      <td>1</td>\n",
       "    </tr>\n",
       "    <tr>\n",
       "      <th>7</th>\n",
       "      <td>0.0</td>\n",
       "      <td>0.0</td>\n",
       "      <td>-1.634098</td>\n",
       "      <td>-0.811049</td>\n",
       "      <td>0.971446</td>\n",
       "      <td>-0.929217</td>\n",
       "      <td>-0.815665</td>\n",
       "      <td>-0.177284</td>\n",
       "      <td>-0.823474</td>\n",
       "      <td>-0.822486</td>\n",
       "      <td>...</td>\n",
       "      <td>1</td>\n",
       "      <td>0</td>\n",
       "      <td>0</td>\n",
       "      <td>1</td>\n",
       "      <td>0</td>\n",
       "      <td>1</td>\n",
       "      <td>0</td>\n",
       "      <td>1</td>\n",
       "      <td>0</td>\n",
       "      <td>1</td>\n",
       "    </tr>\n",
       "    <tr>\n",
       "      <th>8</th>\n",
       "      <td>0.0</td>\n",
       "      <td>0.0</td>\n",
       "      <td>1.602085</td>\n",
       "      <td>1.333819</td>\n",
       "      <td>-0.796255</td>\n",
       "      <td>0.761636</td>\n",
       "      <td>0.803669</td>\n",
       "      <td>-0.155191</td>\n",
       "      <td>-0.823474</td>\n",
       "      <td>0.977209</td>\n",
       "      <td>...</td>\n",
       "      <td>0</td>\n",
       "      <td>1</td>\n",
       "      <td>0</td>\n",
       "      <td>1</td>\n",
       "      <td>1</td>\n",
       "      <td>0</td>\n",
       "      <td>0</td>\n",
       "      <td>1</td>\n",
       "      <td>0</td>\n",
       "      <td>1</td>\n",
       "    </tr>\n",
       "    <tr>\n",
       "      <th>9</th>\n",
       "      <td>0.0</td>\n",
       "      <td>0.0</td>\n",
       "      <td>0.004270</td>\n",
       "      <td>-0.811049</td>\n",
       "      <td>0.971446</td>\n",
       "      <td>-0.929217</td>\n",
       "      <td>-0.815665</td>\n",
       "      <td>-0.177284</td>\n",
       "      <td>-0.823474</td>\n",
       "      <td>-0.822486</td>\n",
       "      <td>...</td>\n",
       "      <td>1</td>\n",
       "      <td>0</td>\n",
       "      <td>0</td>\n",
       "      <td>1</td>\n",
       "      <td>0</td>\n",
       "      <td>1</td>\n",
       "      <td>0</td>\n",
       "      <td>1</td>\n",
       "      <td>0</td>\n",
       "      <td>1</td>\n",
       "    </tr>\n",
       "  </tbody>\n",
       "</table>\n",
       "<p>10 rows × 25 columns</p>\n",
       "</div>"
      ],
      "text/plain": [
       "   disbursed_amount  asset_cost       ltv  PERFORM_CNS.SCORE  \\\n",
       "0               0.0         0.0  1.544814          -0.811049   \n",
       "1               0.0         0.0  0.525950           0.664417   \n",
       "2               0.0         0.0 -0.207620           1.333819   \n",
       "3               0.0         0.0 -0.206643           1.458702   \n",
       "4               0.0         0.0 -1.731305          -0.811049   \n",
       "5               0.0         0.0 -0.957908           1.539606   \n",
       "6               0.0         0.0 -0.363044           1.333819   \n",
       "7               0.0         0.0 -1.634098          -0.811049   \n",
       "8               0.0         0.0  1.602085           1.333819   \n",
       "9               0.0         0.0  0.004270          -0.811049   \n",
       "\n",
       "   PERFORM_CNS.SCORE.DESCRIPTION  PRI.NO.OF.ACCTS  PRI.ACTIVE.ACCTS  \\\n",
       "0                       0.971446        -0.929217         -0.815665   \n",
       "1                      -1.391881         1.180368          1.455105   \n",
       "2                      -0.582563         0.761636          1.253745   \n",
       "3                      -0.919593         1.017100          1.455105   \n",
       "4                       0.971446        -0.929217         -0.815665   \n",
       "5                      -0.663133         1.017100          1.253745   \n",
       "6                      -0.582563         0.761636          0.803669   \n",
       "7                       0.971446        -0.929217         -0.815665   \n",
       "8                      -0.796255         0.761636          0.803669   \n",
       "9                       0.971446        -0.929217         -0.815665   \n",
       "\n",
       "   PRI.CURRENT.BALANCE  PRI.SANCTIONED.AMOUNT  PRI.DISBURSED.AMOUNT  ...  \\\n",
       "0            -0.177284              -0.823474             -0.822486  ...   \n",
       "1             0.890437               1.390917              1.393711  ...   \n",
       "2             0.399405               1.342787              1.345958  ...   \n",
       "3             0.811496               1.386596              1.389426  ...   \n",
       "4            -0.177284              -0.823474             -0.822486  ...   \n",
       "5            -0.173238               1.006747              1.009703  ...   \n",
       "6            -0.151376               1.032357              1.037260  ...   \n",
       "7            -0.177284              -0.823474             -0.822486  ...   \n",
       "8            -0.155191              -0.823474              0.977209  ...   \n",
       "9            -0.177284              -0.823474             -0.822486  ...   \n",
       "\n",
       "   Salaried  Self employed  ATLEAST.ONE.PRI.OVERDUE.ACCTS  \\\n",
       "0         1              0                              0   \n",
       "1         0              1                              0   \n",
       "2         1              0                              0   \n",
       "3         1              0                              0   \n",
       "4         0              1                              0   \n",
       "5         1              0                              0   \n",
       "6         1              0                              0   \n",
       "7         1              0                              0   \n",
       "8         0              1                              0   \n",
       "9         1              0                              0   \n",
       "\n",
       "   ZERO.PRI.OVERDUE.ACCTS  ATLEAST.ONE.NEW.ACCTS.IN.LAST.SIX.MONTHS  \\\n",
       "0                       1                                         0   \n",
       "1                       1                                         0   \n",
       "2                       1                                         0   \n",
       "3                       1                                         0   \n",
       "4                       1                                         0   \n",
       "5                       1                                         0   \n",
       "6                       1                                         1   \n",
       "7                       1                                         0   \n",
       "8                       1                                         1   \n",
       "9                       1                                         0   \n",
       "\n",
       "   ZERO.NEW.ACCTS.IN.LAST.SIX.MONTHS  \\\n",
       "0                                  1   \n",
       "1                                  1   \n",
       "2                                  1   \n",
       "3                                  1   \n",
       "4                                  1   \n",
       "5                                  1   \n",
       "6                                  0   \n",
       "7                                  1   \n",
       "8                                  0   \n",
       "9                                  1   \n",
       "\n",
       "   ATLEAST.ONE.DELINQUENT.ACCTS.IN.LAST.SIX.MONTHS  \\\n",
       "0                                                0   \n",
       "1                                                1   \n",
       "2                                                0   \n",
       "3                                                0   \n",
       "4                                                0   \n",
       "5                                                0   \n",
       "6                                                0   \n",
       "7                                                0   \n",
       "8                                                0   \n",
       "9                                                0   \n",
       "\n",
       "   ZERO.DELINQUENT.ACCTS.IN.LAST.SIX.MONTHS  ATLEAST.ONE.NO.OF_INQUIRIES  \\\n",
       "0                                         1                            0   \n",
       "1                                         0                            0   \n",
       "2                                         1                            0   \n",
       "3                                         1                            0   \n",
       "4                                         1                            0   \n",
       "5                                         1                            0   \n",
       "6                                         1                            0   \n",
       "7                                         1                            0   \n",
       "8                                         1                            0   \n",
       "9                                         1                            0   \n",
       "\n",
       "   ZERO.NO.OF_INQUIRIES  \n",
       "0                     1  \n",
       "1                     1  \n",
       "2                     1  \n",
       "3                     1  \n",
       "4                     1  \n",
       "5                     1  \n",
       "6                     1  \n",
       "7                     1  \n",
       "8                     1  \n",
       "9                     1  \n",
       "\n",
       "[10 rows x 25 columns]"
      ]
     },
     "execution_count": 35,
     "metadata": {},
     "output_type": "execute_result"
    }
   ],
   "source": [
    "testx = pd.concat((test_num, test_cat), axis = 1)\n",
    "testx.head(10)"
   ]
  },
  {
   "cell_type": "code",
   "execution_count": 36,
   "metadata": {},
   "outputs": [
    {
     "data": {
      "text/plain": [
       "RangeIndex(start=0, stop=69947, step=1)"
      ]
     },
     "execution_count": 36,
     "metadata": {},
     "output_type": "execute_result"
    }
   ],
   "source": [
    "testx.index"
   ]
  },
  {
   "cell_type": "code",
   "execution_count": 37,
   "metadata": {},
   "outputs": [
    {
     "data": {
      "text/plain": [
       "0.0    69947\n",
       "Name: asset_cost, dtype: int64"
      ]
     },
     "execution_count": 37,
     "metadata": {},
     "output_type": "execute_result"
    }
   ],
   "source": [
    "testx['asset_cost'].value_counts()"
   ]
  },
  {
   "cell_type": "code",
   "execution_count": 38,
   "metadata": {},
   "outputs": [
    {
     "data": {
      "text/plain": [
       "0.0    69947\n",
       "Name: disbursed_amount, dtype: int64"
      ]
     },
     "execution_count": 38,
     "metadata": {},
     "output_type": "execute_result"
    }
   ],
   "source": [
    "testx['disbursed_amount'].value_counts()"
   ]
  },
  {
   "cell_type": "markdown",
   "metadata": {},
   "source": [
    "### Predicting without applying SMOTE"
   ]
  },
  {
   "cell_type": "code",
   "execution_count": 39,
   "metadata": {},
   "outputs": [],
   "source": [
    "from sklearn.ensemble import RandomForestClassifier"
   ]
  },
  {
   "cell_type": "code",
   "execution_count": 44,
   "metadata": {},
   "outputs": [],
   "source": [
    "rf = RandomForestClassifier(n_estimators=100, criterion='gini', max_depth = 9)"
   ]
  },
  {
   "cell_type": "code",
   "execution_count": 45,
   "metadata": {},
   "outputs": [],
   "source": [
    "pred_test = rf.fit(trainx, trainy).predict(testx)"
   ]
  },
  {
   "cell_type": "code",
   "execution_count": 46,
   "metadata": {},
   "outputs": [],
   "source": [
    "from sklearn.metrics import classification_report, confusion_matrix"
   ]
  },
  {
   "cell_type": "code",
   "execution_count": 42,
   "metadata": {},
   "outputs": [],
   "source": [
    "#test performance"
   ]
  },
  {
   "cell_type": "code",
   "execution_count": 43,
   "metadata": {},
   "outputs": [
    {
     "name": "stdout",
     "output_type": "stream",
     "text": [
      "              precision    recall  f1-score   support\n",
      "\n",
      "           0       0.78      1.00      0.88     54764\n",
      "           1       0.60      0.00      0.00     15183\n",
      "\n",
      "    accuracy                           0.78     69947\n",
      "   macro avg       0.69      0.50      0.44     69947\n",
      "weighted avg       0.74      0.78      0.69     69947\n",
      "\n"
     ]
    }
   ],
   "source": [
    "print(classification_report(testy, pred_test)) #max_depth = 10"
   ]
  },
  {
   "cell_type": "code",
   "execution_count": 46,
   "metadata": {},
   "outputs": [
    {
     "name": "stdout",
     "output_type": "stream",
     "text": [
      "              precision    recall  f1-score   support\n",
      "\n",
      "           0       0.78      1.00      0.88     54764\n",
      "           1       0.60      0.00      0.00     15183\n",
      "\n",
      "    accuracy                           0.78     69947\n",
      "   macro avg       0.69      0.50      0.44     69947\n",
      "weighted avg       0.74      0.78      0.69     69947\n",
      "\n"
     ]
    }
   ],
   "source": [
    "print(classification_report(testy, pred_test)) #max depth 9"
   ]
  },
  {
   "cell_type": "code",
   "execution_count": 47,
   "metadata": {},
   "outputs": [
    {
     "data": {
      "text/plain": [
       "ltv                                                0.244497\n",
       "PERFORM_CNS.SCORE                                  0.098356\n",
       "PRI.SANCTIONED.AMOUNT                              0.067919\n",
       "PRI.DISBURSED.AMOUNT                               0.067556\n",
       "CREDIT.HISTORY.LENGTH                              0.056852\n",
       "PRI.CURRENT.BALANCE                                0.054267\n",
       "PRIMARY.INSTAL.AMT                                 0.047364\n",
       "AVERAGE.ACCT.AGE                                   0.045284\n",
       "PRI.NO.OF.ACCTS                                    0.044927\n",
       "PERFORM_CNS.SCORE.DESCRIPTION                      0.043962\n",
       "ATLEAST.ONE.PRI.OVERDUE.ACCTS                      0.023628\n",
       "ZERO.PRI.OVERDUE.ACCTS                             0.023453\n",
       "ATLEAST.ONE.NO.OF_INQUIRIES                        0.023416\n",
       "PRI.ACTIVE.ACCTS                                   0.023276\n",
       "VoterID_flag                                       0.022046\n",
       "Aadhar_flag                                        0.020367\n",
       "ZERO.NO.OF_INQUIRIES                               0.020225\n",
       "ATLEAST.ONE.DELINQUENT.ACCTS.IN.LAST.SIX.MONTHS    0.016235\n",
       "ZERO.DELINQUENT.ACCTS.IN.LAST.SIX.MONTHS           0.015844\n",
       "Self employed                                      0.014208\n",
       "Salaried                                           0.013515\n",
       "ATLEAST.ONE.NEW.ACCTS.IN.LAST.SIX.MONTHS           0.006652\n",
       "ZERO.NEW.ACCTS.IN.LAST.SIX.MONTHS                  0.006151\n",
       "asset_cost                                         0.000000\n",
       "disbursed_amount                                   0.000000\n",
       "dtype: float64"
      ]
     },
     "execution_count": 47,
     "metadata": {},
     "output_type": "execute_result"
    }
   ],
   "source": [
    "imp = pd.Series(rf.feature_importances_, index = trainx.columns)\n",
    "imp.sort_values(ascending = False)"
   ]
  },
  {
   "cell_type": "code",
   "execution_count": 48,
   "metadata": {},
   "outputs": [
    {
     "data": {
      "text/plain": [
       "Index(['ltv', 'PERFORM_CNS.SCORE', 'PRI.SANCTIONED.AMOUNT',\n",
       "       'PRI.DISBURSED.AMOUNT', 'CREDIT.HISTORY.LENGTH', 'PRI.CURRENT.BALANCE',\n",
       "       'PRIMARY.INSTAL.AMT', 'AVERAGE.ACCT.AGE', 'PRI.NO.OF.ACCTS',\n",
       "       'PERFORM_CNS.SCORE.DESCRIPTION', 'ATLEAST.ONE.PRI.OVERDUE.ACCTS',\n",
       "       'ZERO.PRI.OVERDUE.ACCTS', 'ATLEAST.ONE.NO.OF_INQUIRIES',\n",
       "       'PRI.ACTIVE.ACCTS', 'VoterID_flag', 'Aadhar_flag',\n",
       "       'ZERO.NO.OF_INQUIRIES',\n",
       "       'ATLEAST.ONE.DELINQUENT.ACCTS.IN.LAST.SIX.MONTHS',\n",
       "       'ZERO.DELINQUENT.ACCTS.IN.LAST.SIX.MONTHS', 'Self employed', 'Salaried',\n",
       "       'ATLEAST.ONE.NEW.ACCTS.IN.LAST.SIX.MONTHS',\n",
       "       'ZERO.NEW.ACCTS.IN.LAST.SIX.MONTHS', 'asset_cost', 'disbursed_amount'],\n",
       "      dtype='object')"
      ]
     },
     "execution_count": 48,
     "metadata": {},
     "output_type": "execute_result"
    }
   ],
   "source": [
    "imp.sort_values(ascending = False).index"
   ]
  },
  {
   "cell_type": "code",
   "execution_count": 49,
   "metadata": {},
   "outputs": [],
   "source": [
    "pred_train = rf.fit(trainx, trainy).predict(trainx)"
   ]
  },
  {
   "cell_type": "code",
   "execution_count": 408,
   "metadata": {},
   "outputs": [],
   "source": [
    "#train performance"
   ]
  },
  {
   "cell_type": "code",
   "execution_count": 50,
   "metadata": {},
   "outputs": [
    {
     "name": "stdout",
     "output_type": "stream",
     "text": [
      "              precision    recall  f1-score   support\n",
      "\n",
      "           0       0.78      1.00      0.88    127779\n",
      "           1       0.88      0.00      0.01     35428\n",
      "\n",
      "    accuracy                           0.78    163207\n",
      "   macro avg       0.83      0.50      0.44    163207\n",
      "weighted avg       0.80      0.78      0.69    163207\n",
      "\n"
     ]
    }
   ],
   "source": [
    "print(classification_report(trainy, pred_train)) #max depth 9"
   ]
  },
  {
   "cell_type": "code",
   "execution_count": 49,
   "metadata": {},
   "outputs": [],
   "source": [
    "trainx_imp = trainx[['ltv', 'PERFORM_CNS.SCORE', 'PRI.SANCTIONED.AMOUNT',\n",
    "       'PRI.DISBURSED.AMOUNT', 'PRI.CURRENT.BALANCE', 'CREDIT.HISTORY.LENGTH',\n",
    "       'PRIMARY.INSTAL.AMT', 'AVERAGE.ACCT.AGE', 'PRI.NO.OF.ACCTS',\n",
    "       'PERFORM_CNS.SCORE.DESCRIPTION']]\n",
    "testx_imp = testx[['ltv', 'PERFORM_CNS.SCORE', 'PRI.SANCTIONED.AMOUNT',\n",
    "       'PRI.DISBURSED.AMOUNT', 'PRI.CURRENT.BALANCE', 'CREDIT.HISTORY.LENGTH',\n",
    "       'PRIMARY.INSTAL.AMT', 'AVERAGE.ACCT.AGE', 'PRI.NO.OF.ACCTS',\n",
    "       'PERFORM_CNS.SCORE.DESCRIPTION']]"
   ]
  },
  {
   "cell_type": "code",
   "execution_count": 43,
   "metadata": {},
   "outputs": [],
   "source": [
    "rf = RandomForestClassifier(class_weight={0:.4, 1:.9}, max_depth = 9)"
   ]
  },
  {
   "cell_type": "code",
   "execution_count": 44,
   "metadata": {},
   "outputs": [],
   "source": [
    "pred_test_imp_final = rf.fit(trainx_imp, trainy).predict(testx_imp)"
   ]
  },
  {
   "cell_type": "code",
   "execution_count": 54,
   "metadata": {},
   "outputs": [
    {
     "name": "stdout",
     "output_type": "stream",
     "text": [
      "              precision    recall  f1-score   support\n",
      "\n",
      "           0       0.79      0.89      0.83     54764\n",
      "           1       0.26      0.15      0.19     15183\n",
      "\n",
      "    accuracy                           0.73     69947\n",
      "   macro avg       0.53      0.52      0.51     69947\n",
      "weighted avg       0.68      0.73      0.69     69947\n",
      "\n"
     ]
    }
   ],
   "source": [
    "print(classification_report(testy, pred_test_imp)) #0:.4, 1:.9"
   ]
  },
  {
   "cell_type": "code",
   "execution_count": 57,
   "metadata": {},
   "outputs": [
    {
     "name": "stdout",
     "output_type": "stream",
     "text": [
      "              precision    recall  f1-score   support\n",
      "\n",
      "           0       0.79      0.91      0.85     54764\n",
      "           1       0.27      0.11      0.16     15183\n",
      "\n",
      "    accuracy                           0.74     69947\n",
      "   macro avg       0.53      0.51      0.50     69947\n",
      "weighted avg       0.68      0.74      0.70     69947\n",
      "\n"
     ]
    }
   ],
   "source": [
    "print(classification_report(testy, pred_test_imp)) #0:.4, 1:.8"
   ]
  },
  {
   "cell_type": "code",
   "execution_count": 60,
   "metadata": {},
   "outputs": [
    {
     "name": "stdout",
     "output_type": "stream",
     "text": [
      "              precision    recall  f1-score   support\n",
      "\n",
      "           0       0.79      0.98      0.87     54764\n",
      "           1       0.32      0.03      0.05     15183\n",
      "\n",
      "    accuracy                           0.78     69947\n",
      "   macro avg       0.55      0.51      0.46     69947\n",
      "weighted avg       0.68      0.78      0.70     69947\n",
      "\n"
     ]
    }
   ],
   "source": [
    "print(classification_report(testy, pred_test_imp)) #0:.4, 1:.10"
   ]
  },
  {
   "cell_type": "code",
   "execution_count": 63,
   "metadata": {},
   "outputs": [
    {
     "name": "stdout",
     "output_type": "stream",
     "text": [
      "              precision    recall  f1-score   support\n",
      "\n",
      "           0       0.78      1.00      0.88     54764\n",
      "           1       0.00      0.00      0.00     15183\n",
      "\n",
      "    accuracy                           0.78     69947\n",
      "   macro avg       0.39      0.50      0.44     69947\n",
      "weighted avg       0.61      0.78      0.69     69947\n",
      "\n"
     ]
    },
    {
     "name": "stderr",
     "output_type": "stream",
     "text": [
      "C:\\Users\\Tusha\\Anaconda3\\lib\\site-packages\\sklearn\\metrics\\_classification.py:1248: UndefinedMetricWarning: Precision and F-score are ill-defined and being set to 0.0 in labels with no predicted samples. Use `zero_division` parameter to control this behavior.\n",
      "  _warn_prf(average, modifier, msg_start, len(result))\n",
      "C:\\Users\\Tusha\\Anaconda3\\lib\\site-packages\\sklearn\\metrics\\_classification.py:1248: UndefinedMetricWarning: Precision and F-score are ill-defined and being set to 0.0 in labels with no predicted samples. Use `zero_division` parameter to control this behavior.\n",
      "  _warn_prf(average, modifier, msg_start, len(result))\n",
      "C:\\Users\\Tusha\\Anaconda3\\lib\\site-packages\\sklearn\\metrics\\_classification.py:1248: UndefinedMetricWarning: Precision and F-score are ill-defined and being set to 0.0 in labels with no predicted samples. Use `zero_division` parameter to control this behavior.\n",
      "  _warn_prf(average, modifier, msg_start, len(result))\n"
     ]
    }
   ],
   "source": [
    "print(classification_report(testy, pred_test_imp)) #0:.4, 1:.10 max_depth = 9"
   ]
  },
  {
   "cell_type": "code",
   "execution_count": 66,
   "metadata": {},
   "outputs": [
    {
     "name": "stdout",
     "output_type": "stream",
     "text": [
      "              precision    recall  f1-score   support\n",
      "\n",
      "           0       0.79      0.97      0.87     54764\n",
      "           1       0.39      0.07      0.12     15183\n",
      "\n",
      "    accuracy                           0.77     69947\n",
      "   macro avg       0.59      0.52      0.50     69947\n",
      "weighted avg       0.70      0.77      0.71     69947\n",
      "\n"
     ]
    }
   ],
   "source": [
    "print(classification_report(testy, pred_test_imp)) #0:.4, 1:.9 max_depth = 9"
   ]
  },
  {
   "cell_type": "code",
   "execution_count": 69,
   "metadata": {},
   "outputs": [
    {
     "name": "stdout",
     "output_type": "stream",
     "text": [
      "              precision    recall  f1-score   support\n",
      "\n",
      "           0       0.79      0.99      0.88     54764\n",
      "           1       0.42      0.04      0.07     15183\n",
      "\n",
      "    accuracy                           0.78     69947\n",
      "   macro avg       0.61      0.51      0.47     69947\n",
      "weighted avg       0.71      0.78      0.70     69947\n",
      "\n"
     ]
    }
   ],
   "source": [
    "print(classification_report(testy, pred_test_imp)) #0:.4, 1:.8 max_depth = 9"
   ]
  },
  {
   "cell_type": "code",
   "execution_count": 72,
   "metadata": {},
   "outputs": [
    {
     "name": "stdout",
     "output_type": "stream",
     "text": [
      "              precision    recall  f1-score   support\n",
      "\n",
      "           0       0.79      0.99      0.88     54764\n",
      "           1       0.43      0.03      0.06     15183\n",
      "\n",
      "    accuracy                           0.78     69947\n",
      "   macro avg       0.61      0.51      0.47     69947\n",
      "weighted avg       0.71      0.78      0.70     69947\n",
      "\n"
     ]
    }
   ],
   "source": [
    "print(classification_report(testy, pred_test_imp)) #0:.4, 1:.8 max_depth = 8"
   ]
  },
  {
   "cell_type": "code",
   "execution_count": 75,
   "metadata": {},
   "outputs": [
    {
     "name": "stdout",
     "output_type": "stream",
     "text": [
      "              precision    recall  f1-score   support\n",
      "\n",
      "           0       0.79      0.99      0.88     54764\n",
      "           1       0.46      0.02      0.04     15183\n",
      "\n",
      "    accuracy                           0.78     69947\n",
      "   macro avg       0.62      0.51      0.46     69947\n",
      "weighted avg       0.71      0.78      0.70     69947\n",
      "\n"
     ]
    }
   ],
   "source": [
    "print(classification_report(testy, pred_test_imp)) #0:.4, 1:.8 max_depth = 7"
   ]
  },
  {
   "cell_type": "code",
   "execution_count": 78,
   "metadata": {},
   "outputs": [
    {
     "name": "stdout",
     "output_type": "stream",
     "text": [
      "              precision    recall  f1-score   support\n",
      "\n",
      "           0       0.78      1.00      0.88     54764\n",
      "           1       0.48      0.00      0.01     15183\n",
      "\n",
      "    accuracy                           0.78     69947\n",
      "   macro avg       0.63      0.50      0.44     69947\n",
      "weighted avg       0.72      0.78      0.69     69947\n",
      "\n"
     ]
    }
   ],
   "source": [
    "print(classification_report(testy, pred_test_imp)) #0:.4, 1:.7 max_depth = 7"
   ]
  },
  {
   "cell_type": "code",
   "execution_count": 79,
   "metadata": {},
   "outputs": [],
   "source": [
    "# we can see that optimal paramters of class_weight and max-depth is 0:.4, 1:.9 max_depth = 9"
   ]
  },
  {
   "cell_type": "code",
   "execution_count": 82,
   "metadata": {},
   "outputs": [
    {
     "name": "stdout",
     "output_type": "stream",
     "text": [
      "              precision    recall  f1-score   support\n",
      "\n",
      "           0       0.79      0.97      0.87     54764\n",
      "           1       0.39      0.07      0.12     15183\n",
      "\n",
      "    accuracy                           0.77     69947\n",
      "   macro avg       0.59      0.52      0.50     69947\n",
      "weighted avg       0.70      0.77      0.71     69947\n",
      "\n"
     ]
    }
   ],
   "source": [
    "print(classification_report(testy, pred_test_imp))"
   ]
  },
  {
   "cell_type": "code",
   "execution_count": 85,
   "metadata": {},
   "outputs": [
    {
     "name": "stdout",
     "output_type": "stream",
     "text": [
      "              precision    recall  f1-score   support\n",
      "\n",
      "           0       0.79      0.97      0.87     54764\n",
      "           1       0.39      0.07      0.12     15183\n",
      "\n",
      "    accuracy                           0.77     69947\n",
      "   macro avg       0.59      0.52      0.50     69947\n",
      "weighted avg       0.70      0.77      0.71     69947\n",
      "\n"
     ]
    }
   ],
   "source": [
    "print(classification_report(testy, pred_test_imp)) #0:.4, 1:.9 max_depth = 9 min_samples_split = 3"
   ]
  },
  {
   "cell_type": "code",
   "execution_count": 88,
   "metadata": {},
   "outputs": [
    {
     "name": "stdout",
     "output_type": "stream",
     "text": [
      "              precision    recall  f1-score   support\n",
      "\n",
      "           0       0.79      0.97      0.87     54764\n",
      "           1       0.39      0.07      0.12     15183\n",
      "\n",
      "    accuracy                           0.77     69947\n",
      "   macro avg       0.59      0.52      0.50     69947\n",
      "weighted avg       0.70      0.77      0.71     69947\n",
      "\n"
     ]
    }
   ],
   "source": [
    "print(classification_report(testy, pred_test_imp)) #0:.4, 1:.9 max_depth = 9 min_samples_split = 4"
   ]
  },
  {
   "cell_type": "code",
   "execution_count": 91,
   "metadata": {},
   "outputs": [
    {
     "name": "stdout",
     "output_type": "stream",
     "text": [
      "              precision    recall  f1-score   support\n",
      "\n",
      "           0       0.79      0.97      0.87     54764\n",
      "           1       0.39      0.07      0.12     15183\n",
      "\n",
      "    accuracy                           0.77     69947\n",
      "   macro avg       0.59      0.52      0.49     69947\n",
      "weighted avg       0.70      0.77      0.71     69947\n",
      "\n"
     ]
    }
   ],
   "source": [
    "print(classification_report(testy, pred_test_imp)) #0:.4, 1:.9 max_depth = 9 min_samples_split = 10"
   ]
  },
  {
   "cell_type": "code",
   "execution_count": 94,
   "metadata": {},
   "outputs": [
    {
     "name": "stdout",
     "output_type": "stream",
     "text": [
      "              precision    recall  f1-score   support\n",
      "\n",
      "           0       0.79      0.97      0.87     54764\n",
      "           1       0.39      0.07      0.12     15183\n",
      "\n",
      "    accuracy                           0.77     69947\n",
      "   macro avg       0.59      0.52      0.50     69947\n",
      "weighted avg       0.70      0.77      0.71     69947\n",
      "\n"
     ]
    }
   ],
   "source": [
    "print(classification_report(testy, pred_test_imp)) #0:.4, 1:.9 max_depth = 9 min_samples_split = 20"
   ]
  },
  {
   "cell_type": "code",
   "execution_count": 97,
   "metadata": {},
   "outputs": [
    {
     "name": "stdout",
     "output_type": "stream",
     "text": [
      "              precision    recall  f1-score   support\n",
      "\n",
      "           0       0.78      1.00      0.88     54764\n",
      "           1       0.00      0.00      0.00     15183\n",
      "\n",
      "    accuracy                           0.78     69947\n",
      "   macro avg       0.39      0.50      0.44     69947\n",
      "weighted avg       0.61      0.78      0.69     69947\n",
      "\n"
     ]
    },
    {
     "name": "stderr",
     "output_type": "stream",
     "text": [
      "C:\\Users\\Tusha\\Anaconda3\\lib\\site-packages\\sklearn\\metrics\\_classification.py:1248: UndefinedMetricWarning: Precision and F-score are ill-defined and being set to 0.0 in labels with no predicted samples. Use `zero_division` parameter to control this behavior.\n",
      "  _warn_prf(average, modifier, msg_start, len(result))\n",
      "C:\\Users\\Tusha\\Anaconda3\\lib\\site-packages\\sklearn\\metrics\\_classification.py:1248: UndefinedMetricWarning: Precision and F-score are ill-defined and being set to 0.0 in labels with no predicted samples. Use `zero_division` parameter to control this behavior.\n",
      "  _warn_prf(average, modifier, msg_start, len(result))\n",
      "C:\\Users\\Tusha\\Anaconda3\\lib\\site-packages\\sklearn\\metrics\\_classification.py:1248: UndefinedMetricWarning: Precision and F-score are ill-defined and being set to 0.0 in labels with no predicted samples. Use `zero_division` parameter to control this behavior.\n",
      "  _warn_prf(average, modifier, msg_start, len(result))\n"
     ]
    }
   ],
   "source": [
    "print(classification_report(testy, pred_test_imp)) #0:.4, 1:.9 max_depth = 9 min_samples_split = 20 max_leaf_nodes = 2"
   ]
  },
  {
   "cell_type": "code",
   "execution_count": 100,
   "metadata": {},
   "outputs": [
    {
     "name": "stdout",
     "output_type": "stream",
     "text": [
      "              precision    recall  f1-score   support\n",
      "\n",
      "           0       0.78      1.00      0.88     54764\n",
      "           1       0.00      0.00      0.00     15183\n",
      "\n",
      "    accuracy                           0.78     69947\n",
      "   macro avg       0.39      0.50      0.44     69947\n",
      "weighted avg       0.61      0.78      0.69     69947\n",
      "\n"
     ]
    },
    {
     "name": "stderr",
     "output_type": "stream",
     "text": [
      "C:\\Users\\Tusha\\Anaconda3\\lib\\site-packages\\sklearn\\metrics\\_classification.py:1248: UndefinedMetricWarning: Precision and F-score are ill-defined and being set to 0.0 in labels with no predicted samples. Use `zero_division` parameter to control this behavior.\n",
      "  _warn_prf(average, modifier, msg_start, len(result))\n",
      "C:\\Users\\Tusha\\Anaconda3\\lib\\site-packages\\sklearn\\metrics\\_classification.py:1248: UndefinedMetricWarning: Precision and F-score are ill-defined and being set to 0.0 in labels with no predicted samples. Use `zero_division` parameter to control this behavior.\n",
      "  _warn_prf(average, modifier, msg_start, len(result))\n",
      "C:\\Users\\Tusha\\Anaconda3\\lib\\site-packages\\sklearn\\metrics\\_classification.py:1248: UndefinedMetricWarning: Precision and F-score are ill-defined and being set to 0.0 in labels with no predicted samples. Use `zero_division` parameter to control this behavior.\n",
      "  _warn_prf(average, modifier, msg_start, len(result))\n"
     ]
    }
   ],
   "source": [
    "print(classification_report(testy, pred_test_imp)) #0:.4, 1:.9 max_depth = 9 min_samples_split = 20 max_leaf_nodes = 4"
   ]
  },
  {
   "cell_type": "code",
   "execution_count": 103,
   "metadata": {},
   "outputs": [
    {
     "name": "stdout",
     "output_type": "stream",
     "text": [
      "              precision    recall  f1-score   support\n",
      "\n",
      "           0       0.78      1.00      0.88     54764\n",
      "           1       0.00      0.00      0.00     15183\n",
      "\n",
      "    accuracy                           0.78     69947\n",
      "   macro avg       0.39      0.50      0.44     69947\n",
      "weighted avg       0.61      0.78      0.69     69947\n",
      "\n"
     ]
    },
    {
     "name": "stderr",
     "output_type": "stream",
     "text": [
      "C:\\Users\\Tusha\\Anaconda3\\lib\\site-packages\\sklearn\\metrics\\_classification.py:1248: UndefinedMetricWarning: Precision and F-score are ill-defined and being set to 0.0 in labels with no predicted samples. Use `zero_division` parameter to control this behavior.\n",
      "  _warn_prf(average, modifier, msg_start, len(result))\n",
      "C:\\Users\\Tusha\\Anaconda3\\lib\\site-packages\\sklearn\\metrics\\_classification.py:1248: UndefinedMetricWarning: Precision and F-score are ill-defined and being set to 0.0 in labels with no predicted samples. Use `zero_division` parameter to control this behavior.\n",
      "  _warn_prf(average, modifier, msg_start, len(result))\n",
      "C:\\Users\\Tusha\\Anaconda3\\lib\\site-packages\\sklearn\\metrics\\_classification.py:1248: UndefinedMetricWarning: Precision and F-score are ill-defined and being set to 0.0 in labels with no predicted samples. Use `zero_division` parameter to control this behavior.\n",
      "  _warn_prf(average, modifier, msg_start, len(result))\n"
     ]
    }
   ],
   "source": [
    "print(classification_report(testy, pred_test_imp)) #0:.4, 1:.9 max_depth = 9 min_samples_split = 20 max_leaf_nodes = 6"
   ]
  },
  {
   "cell_type": "code",
   "execution_count": 105,
   "metadata": {},
   "outputs": [],
   "source": [
    "#best optimal paramters are:\n",
    "# 0:.4, 1:.9 max_depth = 9"
   ]
  },
  {
   "cell_type": "code",
   "execution_count": 47,
   "metadata": {},
   "outputs": [
    {
     "name": "stdout",
     "output_type": "stream",
     "text": [
      "              precision    recall  f1-score   support\n",
      "\n",
      "           0       0.79      0.97      0.87     54764\n",
      "           1       0.38      0.07      0.12     15183\n",
      "\n",
      "    accuracy                           0.77     69947\n",
      "   macro avg       0.59      0.52      0.49     69947\n",
      "weighted avg       0.70      0.77      0.71     69947\n",
      "\n"
     ]
    }
   ],
   "source": [
    "print(classification_report(testy, pred_test_imp_final))"
   ]
  },
  {
   "cell_type": "markdown",
   "metadata": {},
   "source": [
    "### After applying smote"
   ]
  },
  {
   "cell_type": "code",
   "execution_count": 40,
   "metadata": {},
   "outputs": [],
   "source": [
    "from imblearn.over_sampling import SMOTE"
   ]
  },
  {
   "cell_type": "code",
   "execution_count": 50,
   "metadata": {},
   "outputs": [],
   "source": [
    "sm = SMOTE()\n",
    "\n",
    "train_x_sm, train_y_sm = sm.fit_resample(trainx_imp, trainy.astype('int'))"
   ]
  },
  {
   "cell_type": "code",
   "execution_count": 51,
   "metadata": {},
   "outputs": [
    {
     "name": "stdout",
     "output_type": "stream",
     "text": [
      "(255558, 10)\n"
     ]
    }
   ],
   "source": [
    "print(train_x_sm.shape)"
   ]
  },
  {
   "cell_type": "code",
   "execution_count": 52,
   "metadata": {},
   "outputs": [
    {
     "data": {
      "text/plain": [
       "1    127779\n",
       "0    127779\n",
       "Name: loan_default, dtype: int64"
      ]
     },
     "execution_count": 52,
     "metadata": {},
     "output_type": "execute_result"
    }
   ],
   "source": [
    "train_y_sm.value_counts()"
   ]
  },
  {
   "cell_type": "code",
   "execution_count": 53,
   "metadata": {},
   "outputs": [
    {
     "data": {
      "text/html": [
       "<div>\n",
       "<style scoped>\n",
       "    .dataframe tbody tr th:only-of-type {\n",
       "        vertical-align: middle;\n",
       "    }\n",
       "\n",
       "    .dataframe tbody tr th {\n",
       "        vertical-align: top;\n",
       "    }\n",
       "\n",
       "    .dataframe thead th {\n",
       "        text-align: right;\n",
       "    }\n",
       "</style>\n",
       "<table border=\"1\" class=\"dataframe\">\n",
       "  <thead>\n",
       "    <tr style=\"text-align: right;\">\n",
       "      <th></th>\n",
       "      <th>ltv</th>\n",
       "      <th>PERFORM_CNS.SCORE</th>\n",
       "      <th>PRI.SANCTIONED.AMOUNT</th>\n",
       "      <th>PRI.DISBURSED.AMOUNT</th>\n",
       "      <th>PRI.CURRENT.BALANCE</th>\n",
       "      <th>CREDIT.HISTORY.LENGTH</th>\n",
       "      <th>PRIMARY.INSTAL.AMT</th>\n",
       "      <th>AVERAGE.ACCT.AGE</th>\n",
       "      <th>PRI.NO.OF.ACCTS</th>\n",
       "      <th>PERFORM_CNS.SCORE.DESCRIPTION</th>\n",
       "    </tr>\n",
       "  </thead>\n",
       "  <tbody>\n",
       "    <tr>\n",
       "      <th>0</th>\n",
       "      <td>1.631676</td>\n",
       "      <td>0.664417</td>\n",
       "      <td>1.386494</td>\n",
       "      <td>1.390040</td>\n",
       "      <td>0.974860</td>\n",
       "      <td>1.569413</td>\n",
       "      <td>1.534861</td>\n",
       "      <td>1.491849</td>\n",
       "      <td>1.294787</td>\n",
       "      <td>-0.979672</td>\n",
       "    </tr>\n",
       "    <tr>\n",
       "      <th>1</th>\n",
       "      <td>1.423378</td>\n",
       "      <td>-0.811049</td>\n",
       "      <td>-0.823474</td>\n",
       "      <td>-0.822486</td>\n",
       "      <td>-0.177284</td>\n",
       "      <td>-0.890481</td>\n",
       "      <td>-0.678470</td>\n",
       "      <td>-0.894235</td>\n",
       "      <td>-0.929217</td>\n",
       "      <td>0.971446</td>\n",
       "    </tr>\n",
       "    <tr>\n",
       "      <th>2</th>\n",
       "      <td>-0.168283</td>\n",
       "      <td>-0.811049</td>\n",
       "      <td>-0.823474</td>\n",
       "      <td>-0.822486</td>\n",
       "      <td>-0.177284</td>\n",
       "      <td>-0.890481</td>\n",
       "      <td>-0.678470</td>\n",
       "      <td>-0.894235</td>\n",
       "      <td>-0.929217</td>\n",
       "      <td>0.971446</td>\n",
       "    </tr>\n",
       "    <tr>\n",
       "      <th>3</th>\n",
       "      <td>-0.146445</td>\n",
       "      <td>1.333819</td>\n",
       "      <td>1.031563</td>\n",
       "      <td>1.036469</td>\n",
       "      <td>-0.160950</td>\n",
       "      <td>0.209034</td>\n",
       "      <td>1.460724</td>\n",
       "      <td>0.265543</td>\n",
       "      <td>1.017100</td>\n",
       "      <td>-0.582563</td>\n",
       "    </tr>\n",
       "    <tr>\n",
       "      <th>4</th>\n",
       "      <td>-2.292066</td>\n",
       "      <td>1.333819</td>\n",
       "      <td>1.412585</td>\n",
       "      <td>1.415198</td>\n",
       "      <td>1.148136</td>\n",
       "      <td>1.539909</td>\n",
       "      <td>1.564647</td>\n",
       "      <td>1.510670</td>\n",
       "      <td>1.180368</td>\n",
       "      <td>-0.796255</td>\n",
       "    </tr>\n",
       "  </tbody>\n",
       "</table>\n",
       "</div>"
      ],
      "text/plain": [
       "        ltv  PERFORM_CNS.SCORE  PRI.SANCTIONED.AMOUNT  PRI.DISBURSED.AMOUNT  \\\n",
       "0  1.631676           0.664417               1.386494              1.390040   \n",
       "1  1.423378          -0.811049              -0.823474             -0.822486   \n",
       "2 -0.168283          -0.811049              -0.823474             -0.822486   \n",
       "3 -0.146445           1.333819               1.031563              1.036469   \n",
       "4 -2.292066           1.333819               1.412585              1.415198   \n",
       "\n",
       "   PRI.CURRENT.BALANCE  CREDIT.HISTORY.LENGTH  PRIMARY.INSTAL.AMT  \\\n",
       "0             0.974860               1.569413            1.534861   \n",
       "1            -0.177284              -0.890481           -0.678470   \n",
       "2            -0.177284              -0.890481           -0.678470   \n",
       "3            -0.160950               0.209034            1.460724   \n",
       "4             1.148136               1.539909            1.564647   \n",
       "\n",
       "   AVERAGE.ACCT.AGE  PRI.NO.OF.ACCTS  PERFORM_CNS.SCORE.DESCRIPTION  \n",
       "0          1.491849         1.294787                      -0.979672  \n",
       "1         -0.894235        -0.929217                       0.971446  \n",
       "2         -0.894235        -0.929217                       0.971446  \n",
       "3          0.265543         1.017100                      -0.582563  \n",
       "4          1.510670         1.180368                      -0.796255  "
      ]
     },
     "execution_count": 53,
     "metadata": {},
     "output_type": "execute_result"
    }
   ],
   "source": [
    "train_x_sm.head()"
   ]
  },
  {
   "cell_type": "code",
   "execution_count": 54,
   "metadata": {},
   "outputs": [],
   "source": [
    "rf_sm = RandomForestClassifier(class_weight={0:.4, 1:.9})"
   ]
  },
  {
   "cell_type": "code",
   "execution_count": 55,
   "metadata": {},
   "outputs": [],
   "source": [
    "pred_test_sm_final = rf_sm.fit(train_x_sm, train_y_sm).predict(testx_imp)"
   ]
  },
  {
   "cell_type": "code",
   "execution_count": 117,
   "metadata": {},
   "outputs": [
    {
     "name": "stdout",
     "output_type": "stream",
     "text": [
      "              precision    recall  f1-score   support\n",
      "\n",
      "           0       0.81      0.61      0.70     54764\n",
      "           1       0.26      0.50      0.34     15183\n",
      "\n",
      "    accuracy                           0.58     69947\n",
      "   macro avg       0.54      0.55      0.52     69947\n",
      "weighted avg       0.69      0.58      0.62     69947\n",
      "\n"
     ]
    }
   ],
   "source": [
    "print(classification_report(testy, pred_test_sm)) # max depth: default"
   ]
  },
  {
   "cell_type": "code",
   "execution_count": 120,
   "metadata": {},
   "outputs": [
    {
     "name": "stdout",
     "output_type": "stream",
     "text": [
      "              precision    recall  f1-score   support\n",
      "\n",
      "           0       0.90      0.12      0.21     54764\n",
      "           1       0.23      0.95      0.37     15183\n",
      "\n",
      "    accuracy                           0.30     69947\n",
      "   macro avg       0.56      0.53      0.29     69947\n",
      "weighted avg       0.75      0.30      0.25     69947\n",
      "\n"
     ]
    }
   ],
   "source": [
    "print(classification_report(testy, pred_test_sm)) #class_weight={0:.4, 1:.9} max depth 9"
   ]
  },
  {
   "cell_type": "code",
   "execution_count": 123,
   "metadata": {},
   "outputs": [
    {
     "name": "stdout",
     "output_type": "stream",
     "text": [
      "              precision    recall  f1-score   support\n",
      "\n",
      "           0       0.89      0.14      0.24     54764\n",
      "           1       0.23      0.94      0.37     15183\n",
      "\n",
      "    accuracy                           0.31     69947\n",
      "   macro avg       0.56      0.54      0.30     69947\n",
      "weighted avg       0.75      0.31      0.27     69947\n",
      "\n"
     ]
    }
   ],
   "source": [
    "print(classification_report(testy, pred_test_sm)) #class_weight={0:.4, 1:.9} max depth 10"
   ]
  },
  {
   "cell_type": "code",
   "execution_count": 126,
   "metadata": {},
   "outputs": [
    {
     "name": "stdout",
     "output_type": "stream",
     "text": [
      "              precision    recall  f1-score   support\n",
      "\n",
      "           0       0.88      0.17      0.29     54764\n",
      "           1       0.24      0.92      0.37     15183\n",
      "\n",
      "    accuracy                           0.33     69947\n",
      "   macro avg       0.56      0.55      0.33     69947\n",
      "weighted avg       0.74      0.33      0.31     69947\n",
      "\n"
     ]
    }
   ],
   "source": [
    "print(classification_report(testy, pred_test_sm)) #class_weight={0:.4, 1:.9} max depth 12"
   ]
  },
  {
   "cell_type": "code",
   "execution_count": 129,
   "metadata": {},
   "outputs": [
    {
     "name": "stdout",
     "output_type": "stream",
     "text": [
      "              precision    recall  f1-score   support\n",
      "\n",
      "           0       0.87      0.21      0.34     54764\n",
      "           1       0.24      0.89      0.38     15183\n",
      "\n",
      "    accuracy                           0.36     69947\n",
      "   macro avg       0.56      0.55      0.36     69947\n",
      "weighted avg       0.74      0.36      0.35     69947\n",
      "\n"
     ]
    }
   ],
   "source": [
    "print(classification_report(testy, pred_test_sm)) #class_weight={0:.4, 1:.9} max depth 14"
   ]
  },
  {
   "cell_type": "code",
   "execution_count": 132,
   "metadata": {},
   "outputs": [
    {
     "name": "stdout",
     "output_type": "stream",
     "text": [
      "              precision    recall  f1-score   support\n",
      "\n",
      "           0       0.86      0.25      0.39     54764\n",
      "           1       0.24      0.85      0.38     15183\n",
      "\n",
      "    accuracy                           0.38     69947\n",
      "   macro avg       0.55      0.55      0.38     69947\n",
      "weighted avg       0.73      0.38      0.39     69947\n",
      "\n"
     ]
    }
   ],
   "source": [
    "print(classification_report(testy, pred_test_sm)) #class_weight={0:.4, 1:.9} max depth 16"
   ]
  },
  {
   "cell_type": "code",
   "execution_count": 135,
   "metadata": {},
   "outputs": [
    {
     "name": "stdout",
     "output_type": "stream",
     "text": [
      "              precision    recall  f1-score   support\n",
      "\n",
      "           0       0.85      0.29      0.44     54764\n",
      "           1       0.24      0.82      0.37     15183\n",
      "\n",
      "    accuracy                           0.41     69947\n",
      "   macro avg       0.55      0.56      0.41     69947\n",
      "weighted avg       0.72      0.41      0.42     69947\n",
      "\n"
     ]
    }
   ],
   "source": [
    "print(classification_report(testy, pred_test_sm)) #class_weight={0:.4, 1:.9} max depth 18"
   ]
  },
  {
   "cell_type": "code",
   "execution_count": 138,
   "metadata": {},
   "outputs": [
    {
     "name": "stdout",
     "output_type": "stream",
     "text": [
      "              precision    recall  f1-score   support\n",
      "\n",
      "           0       0.85      0.34      0.48     54764\n",
      "           1       0.25      0.78      0.37     15183\n",
      "\n",
      "    accuracy                           0.43     69947\n",
      "   macro avg       0.55      0.56      0.43     69947\n",
      "weighted avg       0.72      0.43      0.46     69947\n",
      "\n"
     ]
    }
   ],
   "source": [
    "print(classification_report(testy, pred_test_sm)) #class_weight={0:.4, 1:.9} max depth 20"
   ]
  },
  {
   "cell_type": "code",
   "execution_count": 141,
   "metadata": {},
   "outputs": [
    {
     "name": "stdout",
     "output_type": "stream",
     "text": [
      "              precision    recall  f1-score   support\n",
      "\n",
      "           0       0.84      0.38      0.52     54764\n",
      "           1       0.25      0.74      0.37     15183\n",
      "\n",
      "    accuracy                           0.46     69947\n",
      "   macro avg       0.54      0.56      0.45     69947\n",
      "weighted avg       0.71      0.46      0.49     69947\n",
      "\n"
     ]
    }
   ],
   "source": [
    "print(classification_report(testy, pred_test_sm)) #class_weight={0:.4, 1:.9} max depth 22"
   ]
  },
  {
   "cell_type": "code",
   "execution_count": 144,
   "metadata": {},
   "outputs": [
    {
     "name": "stdout",
     "output_type": "stream",
     "text": [
      "              precision    recall  f1-score   support\n",
      "\n",
      "           0       0.83      0.44      0.57     54764\n",
      "           1       0.25      0.68      0.36     15183\n",
      "\n",
      "    accuracy                           0.49     69947\n",
      "   macro avg       0.54      0.56      0.47     69947\n",
      "weighted avg       0.70      0.49      0.53     69947\n",
      "\n"
     ]
    }
   ],
   "source": [
    "print(classification_report(testy, pred_test_sm)) #class_weight={0:.4, 1:.9} max depth 26"
   ]
  },
  {
   "cell_type": "code",
   "execution_count": 148,
   "metadata": {},
   "outputs": [
    {
     "name": "stdout",
     "output_type": "stream",
     "text": [
      "              precision    recall  f1-score   support\n",
      "\n",
      "           0       0.82      0.48      0.60     54764\n",
      "           1       0.25      0.62      0.36     15183\n",
      "\n",
      "    accuracy                           0.51     69947\n",
      "   macro avg       0.53      0.55      0.48     69947\n",
      "weighted avg       0.70      0.51      0.55     69947\n",
      "\n"
     ]
    }
   ],
   "source": [
    "print(classification_report(testy, pred_test_sm)) #class_weight={0:.4, 1:.9} max depth 30"
   ]
  },
  {
   "cell_type": "code",
   "execution_count": 151,
   "metadata": {},
   "outputs": [
    {
     "name": "stdout",
     "output_type": "stream",
     "text": [
      "              precision    recall  f1-score   support\n",
      "\n",
      "           0       0.82      0.49      0.62     54764\n",
      "           1       0.25      0.61      0.35     15183\n",
      "\n",
      "    accuracy                           0.52     69947\n",
      "   macro avg       0.53      0.55      0.48     69947\n",
      "weighted avg       0.70      0.52      0.56     69947\n",
      "\n"
     ]
    }
   ],
   "source": [
    "print(classification_report(testy, pred_test_sm)) #class_weight={0:.4, 1:.8} max depth 30"
   ]
  },
  {
   "cell_type": "code",
   "execution_count": 154,
   "metadata": {},
   "outputs": [
    {
     "name": "stdout",
     "output_type": "stream",
     "text": [
      "              precision    recall  f1-score   support\n",
      "\n",
      "           0       0.79      0.93      0.86     54764\n",
      "           1       0.31      0.11      0.16     15183\n",
      "\n",
      "    accuracy                           0.75     69947\n",
      "   macro avg       0.55      0.52      0.51     69947\n",
      "weighted avg       0.69      0.75      0.71     69947\n",
      "\n"
     ]
    }
   ],
   "source": [
    "print(classification_report(testy, pred_test_sm)) #class_weight={0:.4, 1:.10} max depth 30"
   ]
  },
  {
   "cell_type": "code",
   "execution_count": 157,
   "metadata": {},
   "outputs": [
    {
     "name": "stdout",
     "output_type": "stream",
     "text": [
      "              precision    recall  f1-score   support\n",
      "\n",
      "           0       0.82      0.53      0.64     54764\n",
      "           1       0.26      0.59      0.36     15183\n",
      "\n",
      "    accuracy                           0.54     69947\n",
      "   macro avg       0.54      0.56      0.50     69947\n",
      "weighted avg       0.70      0.54      0.58     69947\n",
      "\n"
     ]
    }
   ],
   "source": [
    "print(classification_report(testy, pred_test_sm)) #class_weight={0:.4, 1:.7} max depth 30"
   ]
  },
  {
   "cell_type": "code",
   "execution_count": 158,
   "metadata": {},
   "outputs": [],
   "source": [
    "# best optimal paramters are: \n",
    "# class_weight={0:.4, 1:.9}"
   ]
  },
  {
   "cell_type": "code",
   "execution_count": 56,
   "metadata": {},
   "outputs": [
    {
     "name": "stdout",
     "output_type": "stream",
     "text": [
      "              precision    recall  f1-score   support\n",
      "\n",
      "           0       0.81      0.61      0.70     54764\n",
      "           1       0.26      0.50      0.34     15183\n",
      "\n",
      "    accuracy                           0.58     69947\n",
      "   macro avg       0.54      0.55      0.52     69947\n",
      "weighted avg       0.69      0.58      0.62     69947\n",
      "\n"
     ]
    }
   ],
   "source": [
    "print(classification_report(testy, pred_test_sm_final)) # max depth: default"
   ]
  },
  {
   "cell_type": "markdown",
   "metadata": {},
   "source": [
    "### XGBOOST"
   ]
  },
  {
   "cell_type": "code",
   "execution_count": 57,
   "metadata": {},
   "outputs": [],
   "source": [
    "from xgboost import XGBClassifier"
   ]
  },
  {
   "cell_type": "code",
   "execution_count": 195,
   "metadata": {},
   "outputs": [],
   "source": [
    "xg = XGBClassifier(n_estimators = 500,use_label_encoder=False, learning_rate = 0.8)"
   ]
  },
  {
   "cell_type": "code",
   "execution_count": 196,
   "metadata": {},
   "outputs": [
    {
     "name": "stdout",
     "output_type": "stream",
     "text": [
      "[13:39:14] WARNING: C:/Users/Administrator/workspace/xgboost-win64_release_1.4.0/src/learner.cc:1095: Starting in XGBoost 1.3.0, the default evaluation metric used with the objective 'binary:logistic' was changed from 'error' to 'logloss'. Explicitly set eval_metric if you'd like to restore the old behavior.\n"
     ]
    }
   ],
   "source": [
    "pred_xg_test = xg.fit(trainx, trainy).predict(testx)"
   ]
  },
  {
   "cell_type": "code",
   "execution_count": 169,
   "metadata": {},
   "outputs": [
    {
     "data": {
      "text/plain": [
       "0    69549\n",
       "1      398\n",
       "dtype: int64"
      ]
     },
     "execution_count": 169,
     "metadata": {},
     "output_type": "execute_result"
    }
   ],
   "source": [
    "pd.Series(pred_xg_test).value_counts()"
   ]
  },
  {
   "cell_type": "code",
   "execution_count": 170,
   "metadata": {},
   "outputs": [
    {
     "name": "stdout",
     "output_type": "stream",
     "text": [
      "              precision    recall  f1-score   support\n",
      "\n",
      "           0       0.78      1.00      0.88     54764\n",
      "           1       0.40      0.01      0.02     15183\n",
      "\n",
      "    accuracy                           0.78     69947\n",
      "   macro avg       0.59      0.50      0.45     69947\n",
      "weighted avg       0.70      0.78      0.69     69947\n",
      "\n"
     ]
    }
   ],
   "source": [
    "print(classification_report(testy, pred_xg_test)) #default params"
   ]
  },
  {
   "cell_type": "code",
   "execution_count": 176,
   "metadata": {},
   "outputs": [
    {
     "name": "stdout",
     "output_type": "stream",
     "text": [
      "              precision    recall  f1-score   support\n",
      "\n",
      "           0       0.78      1.00      0.88     54764\n",
      "           1       0.40      0.01      0.02     15183\n",
      "\n",
      "    accuracy                           0.78     69947\n",
      "   macro avg       0.59      0.50      0.45     69947\n",
      "weighted avg       0.70      0.78      0.69     69947\n",
      "\n"
     ]
    }
   ],
   "source": [
    "print(classification_report(testy, pred_xg_test)) #n_est = 100"
   ]
  },
  {
   "cell_type": "code",
   "execution_count": 179,
   "metadata": {},
   "outputs": [
    {
     "name": "stdout",
     "output_type": "stream",
     "text": [
      "              precision    recall  f1-score   support\n",
      "\n",
      "           0       0.78      0.99      0.88     54764\n",
      "           1       0.39      0.01      0.02     15183\n",
      "\n",
      "    accuracy                           0.78     69947\n",
      "   macro avg       0.59      0.50      0.45     69947\n",
      "weighted avg       0.70      0.78      0.69     69947\n",
      "\n"
     ]
    }
   ],
   "source": [
    "print(classification_report(testy, pred_xg_test)) #n_est = 125"
   ]
  },
  {
   "cell_type": "code",
   "execution_count": 182,
   "metadata": {},
   "outputs": [
    {
     "name": "stdout",
     "output_type": "stream",
     "text": [
      "              precision    recall  f1-score   support\n",
      "\n",
      "           0       0.79      0.98      0.87     54764\n",
      "           1       0.35      0.03      0.05     15183\n",
      "\n",
      "    accuracy                           0.78     69947\n",
      "   macro avg       0.57      0.51      0.46     69947\n",
      "weighted avg       0.69      0.78      0.70     69947\n",
      "\n"
     ]
    }
   ],
   "source": [
    "print(classification_report(testy, pred_xg_test)) #n_est = 125, learning_rate = 0.6"
   ]
  },
  {
   "cell_type": "code",
   "execution_count": 185,
   "metadata": {},
   "outputs": [
    {
     "name": "stdout",
     "output_type": "stream",
     "text": [
      "              precision    recall  f1-score   support\n",
      "\n",
      "           0       0.79      0.97      0.87     54764\n",
      "           1       0.31      0.04      0.08     15183\n",
      "\n",
      "    accuracy                           0.77     69947\n",
      "   macro avg       0.55      0.51      0.47     69947\n",
      "weighted avg       0.68      0.77      0.70     69947\n",
      "\n"
     ]
    }
   ],
   "source": [
    "print(classification_report(testy, pred_xg_test)) #n_est = 125, learning_rate = 0.8"
   ]
  },
  {
   "cell_type": "code",
   "execution_count": 188,
   "metadata": {},
   "outputs": [
    {
     "name": "stdout",
     "output_type": "stream",
     "text": [
      "              precision    recall  f1-score   support\n",
      "\n",
      "           0       0.79      0.97      0.87     54764\n",
      "           1       0.32      0.05      0.09     15183\n",
      "\n",
      "    accuracy                           0.77     69947\n",
      "   macro avg       0.55      0.51      0.48     69947\n",
      "weighted avg       0.68      0.77      0.70     69947\n",
      "\n"
     ]
    }
   ],
   "source": [
    "print(classification_report(testy, pred_xg_test)) #n_est = 150, learning_rate = 0.8"
   ]
  },
  {
   "cell_type": "code",
   "execution_count": 191,
   "metadata": {},
   "outputs": [
    {
     "name": "stdout",
     "output_type": "stream",
     "text": [
      "              precision    recall  f1-score   support\n",
      "\n",
      "           0       0.79      0.97      0.87     54764\n",
      "           1       0.32      0.05      0.09     15183\n",
      "\n",
      "    accuracy                           0.77     69947\n",
      "   macro avg       0.55      0.51      0.48     69947\n",
      "weighted avg       0.69      0.77      0.70     69947\n",
      "\n"
     ]
    }
   ],
   "source": [
    "print(classification_report(testy, pred_xg_test)) #n_est = 175, learning_rate = 0.8"
   ]
  },
  {
   "cell_type": "code",
   "execution_count": 194,
   "metadata": {},
   "outputs": [
    {
     "name": "stdout",
     "output_type": "stream",
     "text": [
      "              precision    recall  f1-score   support\n",
      "\n",
      "           0       0.79      0.97      0.87     54764\n",
      "           1       0.32      0.06      0.10     15183\n",
      "\n",
      "    accuracy                           0.77     69947\n",
      "   macro avg       0.55      0.51      0.48     69947\n",
      "weighted avg       0.69      0.77      0.70     69947\n",
      "\n"
     ]
    }
   ],
   "source": [
    "print(classification_report(testy, pred_xg_test)) #n_est = 200, learning_rate = 0.8"
   ]
  },
  {
   "cell_type": "code",
   "execution_count": 197,
   "metadata": {},
   "outputs": [
    {
     "name": "stdout",
     "output_type": "stream",
     "text": [
      "              precision    recall  f1-score   support\n",
      "\n",
      "           0       0.79      0.95      0.86     54764\n",
      "           1       0.30      0.08      0.12     15183\n",
      "\n",
      "    accuracy                           0.76     69947\n",
      "   macro avg       0.55      0.51      0.49     69947\n",
      "weighted avg       0.68      0.76      0.70     69947\n",
      "\n"
     ]
    }
   ],
   "source": [
    "print(classification_report(testy, pred_xg_test)) #n_est = 500, learning_rate = 0.8"
   ]
  },
  {
   "cell_type": "code",
   "execution_count": 198,
   "metadata": {},
   "outputs": [],
   "source": [
    "#best optimal params\n",
    "#n_est = 150, learning_rate = 0.8"
   ]
  },
  {
   "cell_type": "code",
   "execution_count": 200,
   "metadata": {},
   "outputs": [
    {
     "data": {
      "text/plain": [
       "PERFORM_CNS.SCORE                                  0.094083\n",
       "VoterID_flag                                       0.065257\n",
       "ATLEAST.ONE.NO.OF_INQUIRIES                        0.060600\n",
       "ATLEAST.ONE.DELINQUENT.ACCTS.IN.LAST.SIX.MONTHS    0.059918\n",
       "Aadhar_flag                                        0.059137\n",
       "ATLEAST.ONE.PRI.OVERDUE.ACCTS                      0.056354\n",
       "PRI.SANCTIONED.AMOUNT                              0.052348\n",
       "ltv                                                0.050466\n",
       "PRI.DISBURSED.AMOUNT                               0.049401\n",
       "PRI.CURRENT.BALANCE                                0.047192\n",
       "ATLEAST.ONE.NEW.ACCTS.IN.LAST.SIX.MONTHS           0.046731\n",
       "Salaried                                           0.046549\n",
       "PRIMARY.INSTAL.AMT                                 0.046236\n",
       "PRI.NO.OF.ACCTS                                    0.046227\n",
       "CREDIT.HISTORY.LENGTH                              0.046060\n",
       "Self employed                                      0.044712\n",
       "PRI.ACTIVE.ACCTS                                   0.043758\n",
       "PERFORM_CNS.SCORE.DESCRIPTION                      0.042989\n",
       "AVERAGE.ACCT.AGE                                   0.041983\n",
       "asset_cost                                         0.000000\n",
       "ZERO.NO.OF_INQUIRIES                               0.000000\n",
       "ZERO.PRI.OVERDUE.ACCTS                             0.000000\n",
       "ZERO.NEW.ACCTS.IN.LAST.SIX.MONTHS                  0.000000\n",
       "ZERO.DELINQUENT.ACCTS.IN.LAST.SIX.MONTHS           0.000000\n",
       "disbursed_amount                                   0.000000\n",
       "dtype: float32"
      ]
     },
     "execution_count": 200,
     "metadata": {},
     "output_type": "execute_result"
    }
   ],
   "source": [
    "imp_xg = pd.Series(xg.feature_importances_, index = trainx.columns)\n",
    "imp_xg.sort_values(ascending = False)"
   ]
  },
  {
   "cell_type": "code",
   "execution_count": 201,
   "metadata": {},
   "outputs": [
    {
     "data": {
      "text/plain": [
       "Index(['PERFORM_CNS.SCORE', 'VoterID_flag', 'ATLEAST.ONE.NO.OF_INQUIRIES',\n",
       "       'ATLEAST.ONE.DELINQUENT.ACCTS.IN.LAST.SIX.MONTHS', 'Aadhar_flag',\n",
       "       'ATLEAST.ONE.PRI.OVERDUE.ACCTS', 'PRI.SANCTIONED.AMOUNT', 'ltv',\n",
       "       'PRI.DISBURSED.AMOUNT', 'PRI.CURRENT.BALANCE',\n",
       "       'ATLEAST.ONE.NEW.ACCTS.IN.LAST.SIX.MONTHS', 'Salaried',\n",
       "       'PRIMARY.INSTAL.AMT', 'PRI.NO.OF.ACCTS', 'CREDIT.HISTORY.LENGTH',\n",
       "       'Self employed', 'PRI.ACTIVE.ACCTS', 'PERFORM_CNS.SCORE.DESCRIPTION',\n",
       "       'AVERAGE.ACCT.AGE', 'asset_cost', 'ZERO.NO.OF_INQUIRIES',\n",
       "       'ZERO.PRI.OVERDUE.ACCTS', 'ZERO.NEW.ACCTS.IN.LAST.SIX.MONTHS',\n",
       "       'ZERO.DELINQUENT.ACCTS.IN.LAST.SIX.MONTHS', 'disbursed_amount'],\n",
       "      dtype='object')"
      ]
     },
     "execution_count": 201,
     "metadata": {},
     "output_type": "execute_result"
    }
   ],
   "source": [
    "imp_xg.sort_values(ascending = False).index"
   ]
  },
  {
   "cell_type": "markdown",
   "metadata": {},
   "source": [
    "### After applying SMOTE"
   ]
  },
  {
   "cell_type": "code",
   "execution_count": 58,
   "metadata": {},
   "outputs": [],
   "source": [
    "trainx_imp = trainx[['PERFORM_CNS.SCORE', 'VoterID_flag', 'ATLEAST.ONE.NO.OF_INQUIRIES',\n",
    "       'ATLEAST.ONE.DELINQUENT.ACCTS.IN.LAST.SIX.MONTHS', 'Aadhar_flag',\n",
    "       'ATLEAST.ONE.PRI.OVERDUE.ACCTS', 'PRI.SANCTIONED.AMOUNT', 'ltv',\n",
    "       'PRI.DISBURSED.AMOUNT', 'PRI.CURRENT.BALANCE',\n",
    "       'ATLEAST.ONE.NEW.ACCTS.IN.LAST.SIX.MONTHS', 'Salaried',\n",
    "       'PRIMARY.INSTAL.AMT', 'PRI.NO.OF.ACCTS', 'CREDIT.HISTORY.LENGTH',\n",
    "       'Self employed', 'PRI.ACTIVE.ACCTS', 'PERFORM_CNS.SCORE.DESCRIPTION',\n",
    "       'AVERAGE.ACCT.AGE']]\n",
    "testx_imp = testx[['PERFORM_CNS.SCORE', 'VoterID_flag', 'ATLEAST.ONE.NO.OF_INQUIRIES',\n",
    "       'ATLEAST.ONE.DELINQUENT.ACCTS.IN.LAST.SIX.MONTHS', 'Aadhar_flag',\n",
    "       'ATLEAST.ONE.PRI.OVERDUE.ACCTS', 'PRI.SANCTIONED.AMOUNT', 'ltv',\n",
    "       'PRI.DISBURSED.AMOUNT', 'PRI.CURRENT.BALANCE',\n",
    "       'ATLEAST.ONE.NEW.ACCTS.IN.LAST.SIX.MONTHS', 'Salaried',\n",
    "       'PRIMARY.INSTAL.AMT', 'PRI.NO.OF.ACCTS', 'CREDIT.HISTORY.LENGTH',\n",
    "       'Self employed', 'PRI.ACTIVE.ACCTS', 'PERFORM_CNS.SCORE.DESCRIPTION',\n",
    "       'AVERAGE.ACCT.AGE']]"
   ]
  },
  {
   "cell_type": "code",
   "execution_count": 59,
   "metadata": {},
   "outputs": [],
   "source": [
    "sm = SMOTE()\n",
    "\n",
    "train1_x_sm, train1_y_sm = sm.fit_resample(trainx_imp, trainy.astype('int'))"
   ]
  },
  {
   "cell_type": "code",
   "execution_count": 60,
   "metadata": {},
   "outputs": [
    {
     "name": "stdout",
     "output_type": "stream",
     "text": [
      "[19:58:31] WARNING: C:/Users/Administrator/workspace/xgboost-win64_release_1.4.0/src/learner.cc:1095: Starting in XGBoost 1.3.0, the default evaluation metric used with the objective 'binary:logistic' was changed from 'error' to 'logloss'. Explicitly set eval_metric if you'd like to restore the old behavior.\n"
     ]
    }
   ],
   "source": [
    "xg = XGBClassifier(use_label_encoder= False)\n",
    "\n",
    "pred_xg_test_sm = xg.fit(train1_x_sm, train1_y_sm).predict(testx_imp)"
   ]
  },
  {
   "cell_type": "code",
   "execution_count": 205,
   "metadata": {},
   "outputs": [
    {
     "name": "stdout",
     "output_type": "stream",
     "text": [
      "              precision    recall  f1-score   support\n",
      "\n",
      "           0       0.81      0.69      0.75     54764\n",
      "           1       0.28      0.43      0.34     15183\n",
      "\n",
      "    accuracy                           0.63     69947\n",
      "   macro avg       0.55      0.56      0.54     69947\n",
      "weighted avg       0.70      0.63      0.66     69947\n",
      "\n"
     ]
    }
   ],
   "source": [
    "print(classification_report(testy, pred_xg_test_sm)) #default"
   ]
  },
  {
   "cell_type": "code",
   "execution_count": 207,
   "metadata": {},
   "outputs": [
    {
     "name": "stdout",
     "output_type": "stream",
     "text": [
      "              precision    recall  f1-score   support\n",
      "\n",
      "           0       0.81      0.69      0.75     54764\n",
      "           1       0.27      0.42      0.33     15183\n",
      "\n",
      "    accuracy                           0.63     69947\n",
      "   macro avg       0.54      0.56      0.54     69947\n",
      "weighted avg       0.69      0.63      0.66     69947\n",
      "\n"
     ]
    }
   ],
   "source": [
    "print(classification_report(testy, pred_xg_test_sm)) #default #n_est = 150, learning_rate = 0.8"
   ]
  },
  {
   "cell_type": "code",
   "execution_count": 209,
   "metadata": {},
   "outputs": [
    {
     "name": "stdout",
     "output_type": "stream",
     "text": [
      "              precision    recall  f1-score   support\n",
      "\n",
      "           0       0.81      0.71      0.76     54764\n",
      "           1       0.28      0.41      0.33     15183\n",
      "\n",
      "    accuracy                           0.64     69947\n",
      "   macro avg       0.55      0.56      0.54     69947\n",
      "weighted avg       0.70      0.64      0.67     69947\n",
      "\n"
     ]
    }
   ],
   "source": [
    "print(classification_report(testy, pred_xg_test_sm)) #default #n_est = 150, learning_rate = 0.6"
   ]
  },
  {
   "cell_type": "code",
   "execution_count": 211,
   "metadata": {},
   "outputs": [
    {
     "name": "stdout",
     "output_type": "stream",
     "text": [
      "              precision    recall  f1-score   support\n",
      "\n",
      "           0       0.81      0.71      0.76     54764\n",
      "           1       0.28      0.41      0.33     15183\n",
      "\n",
      "    accuracy                           0.64     69947\n",
      "   macro avg       0.55      0.56      0.54     69947\n",
      "weighted avg       0.70      0.64      0.66     69947\n",
      "\n"
     ]
    }
   ],
   "source": [
    "print(classification_report(testy, pred_xg_test_sm)) #default #n_est = 150, learning_rate = 0.4"
   ]
  },
  {
   "cell_type": "code",
   "execution_count": 213,
   "metadata": {},
   "outputs": [
    {
     "name": "stdout",
     "output_type": "stream",
     "text": [
      "              precision    recall  f1-score   support\n",
      "\n",
      "           0       0.81      0.71      0.76     54764\n",
      "           1       0.28      0.40      0.33     15183\n",
      "\n",
      "    accuracy                           0.64     69947\n",
      "   macro avg       0.54      0.56      0.54     69947\n",
      "weighted avg       0.70      0.64      0.66     69947\n",
      "\n"
     ]
    }
   ],
   "source": [
    "print(classification_report(testy, pred_xg_test_sm)) #default #n_est = 250, learning_rate = 0.4"
   ]
  },
  {
   "cell_type": "code",
   "execution_count": 214,
   "metadata": {},
   "outputs": [],
   "source": [
    "# optimal params: default"
   ]
  },
  {
   "cell_type": "code",
   "execution_count": 61,
   "metadata": {},
   "outputs": [
    {
     "name": "stdout",
     "output_type": "stream",
     "text": [
      "              precision    recall  f1-score   support\n",
      "\n",
      "           0       0.81      0.69      0.75     54764\n",
      "           1       0.28      0.43      0.34     15183\n",
      "\n",
      "    accuracy                           0.63     69947\n",
      "   macro avg       0.55      0.56      0.54     69947\n",
      "weighted avg       0.70      0.63      0.66     69947\n",
      "\n"
     ]
    }
   ],
   "source": [
    "print(classification_report(testy, pred_xg_test_sm)) #default"
   ]
  },
  {
   "cell_type": "markdown",
   "metadata": {},
   "source": [
    "### AdaBoost"
   ]
  },
  {
   "cell_type": "code",
   "execution_count": 217,
   "metadata": {},
   "outputs": [],
   "source": [
    "from sklearn.ensemble import AdaBoostClassifier"
   ]
  },
  {
   "cell_type": "code",
   "execution_count": 242,
   "metadata": {},
   "outputs": [],
   "source": [
    "ad = AdaBoostClassifier(n_estimators=1000, learning_rate = 2)"
   ]
  },
  {
   "cell_type": "code",
   "execution_count": 243,
   "metadata": {},
   "outputs": [],
   "source": [
    "pred_ad_test = ad.fit(trainx, trainy).predict(testx)"
   ]
  },
  {
   "cell_type": "code",
   "execution_count": 220,
   "metadata": {},
   "outputs": [
    {
     "name": "stdout",
     "output_type": "stream",
     "text": [
      "              precision    recall  f1-score   support\n",
      "\n",
      "           0       0.78      1.00      0.88     54764\n",
      "           1       0.49      0.00      0.01     15183\n",
      "\n",
      "    accuracy                           0.78     69947\n",
      "   macro avg       0.64      0.50      0.44     69947\n",
      "weighted avg       0.72      0.78      0.69     69947\n",
      "\n"
     ]
    }
   ],
   "source": [
    "print(classification_report(testy, pred_ad_test)) #default"
   ]
  },
  {
   "cell_type": "code",
   "execution_count": 223,
   "metadata": {},
   "outputs": [
    {
     "name": "stdout",
     "output_type": "stream",
     "text": [
      "              precision    recall  f1-score   support\n",
      "\n",
      "           0       0.78      1.00      0.88     54764\n",
      "           1       0.45      0.00      0.01     15183\n",
      "\n",
      "    accuracy                           0.78     69947\n",
      "   macro avg       0.62      0.50      0.44     69947\n",
      "weighted avg       0.71      0.78      0.69     69947\n",
      "\n"
     ]
    }
   ],
   "source": [
    "print(classification_report(testy, pred_ad_test)) # n_est = 100"
   ]
  },
  {
   "cell_type": "code",
   "execution_count": 226,
   "metadata": {},
   "outputs": [
    {
     "name": "stdout",
     "output_type": "stream",
     "text": [
      "              precision    recall  f1-score   support\n",
      "\n",
      "           0       0.78      1.00      0.88     54764\n",
      "           1       0.45      0.01      0.01     15183\n",
      "\n",
      "    accuracy                           0.78     69947\n",
      "   macro avg       0.61      0.50      0.44     69947\n",
      "weighted avg       0.71      0.78      0.69     69947\n",
      "\n"
     ]
    }
   ],
   "source": [
    "print(classification_report(testy, pred_ad_test)) # n_est = 200"
   ]
  },
  {
   "cell_type": "code",
   "execution_count": 229,
   "metadata": {},
   "outputs": [
    {
     "name": "stdout",
     "output_type": "stream",
     "text": [
      "              precision    recall  f1-score   support\n",
      "\n",
      "           0       0.78      1.00      0.88     54764\n",
      "           1       0.44      0.01      0.01     15183\n",
      "\n",
      "    accuracy                           0.78     69947\n",
      "   macro avg       0.61      0.50      0.44     69947\n",
      "weighted avg       0.71      0.78      0.69     69947\n",
      "\n"
     ]
    }
   ],
   "source": [
    "print(classification_report(testy, pred_ad_test)) # n_est = 300"
   ]
  },
  {
   "cell_type": "code",
   "execution_count": 232,
   "metadata": {},
   "outputs": [
    {
     "name": "stdout",
     "output_type": "stream",
     "text": [
      "              precision    recall  f1-score   support\n",
      "\n",
      "           0       0.78      1.00      0.88     54764\n",
      "           1       0.43      0.01      0.01     15183\n",
      "\n",
      "    accuracy                           0.78     69947\n",
      "   macro avg       0.61      0.50      0.44     69947\n",
      "weighted avg       0.71      0.78      0.69     69947\n",
      "\n"
     ]
    }
   ],
   "source": [
    "print(classification_report(testy, pred_ad_test)) # n_est = 500"
   ]
  },
  {
   "cell_type": "code",
   "execution_count": 237,
   "metadata": {},
   "outputs": [
    {
     "name": "stdout",
     "output_type": "stream",
     "text": [
      "              precision    recall  f1-score   support\n",
      "\n",
      "           0       0.83      0.53      0.65     54764\n",
      "           1       0.26      0.60      0.37     15183\n",
      "\n",
      "    accuracy                           0.55     69947\n",
      "   macro avg       0.55      0.57      0.51     69947\n",
      "weighted avg       0.70      0.55      0.59     69947\n",
      "\n"
     ]
    }
   ],
   "source": [
    "print(classification_report(testy, pred_ad_test)) # n_est = 500 lr = 2"
   ]
  },
  {
   "cell_type": "code",
   "execution_count": 241,
   "metadata": {},
   "outputs": [
    {
     "name": "stdout",
     "output_type": "stream",
     "text": [
      "              precision    recall  f1-score   support\n",
      "\n",
      "           0       0.78      1.00      0.88     54764\n",
      "           1       0.41      0.01      0.01     15183\n",
      "\n",
      "    accuracy                           0.78     69947\n",
      "   macro avg       0.60      0.50      0.45     69947\n",
      "weighted avg       0.70      0.78      0.69     69947\n",
      "\n"
     ]
    }
   ],
   "source": [
    "print(classification_report(testy, pred_ad_test)) # n_est = 500 lr = 1.5"
   ]
  },
  {
   "cell_type": "code",
   "execution_count": 244,
   "metadata": {},
   "outputs": [
    {
     "name": "stdout",
     "output_type": "stream",
     "text": [
      "              precision    recall  f1-score   support\n",
      "\n",
      "           0       0.83      0.53      0.65     54764\n",
      "           1       0.26      0.60      0.37     15183\n",
      "\n",
      "    accuracy                           0.55     69947\n",
      "   macro avg       0.55      0.57      0.51     69947\n",
      "weighted avg       0.70      0.55      0.59     69947\n",
      "\n"
     ]
    }
   ],
   "source": [
    "print(classification_report(testy, pred_ad_test)) # n_est = 1000 lr = 2"
   ]
  },
  {
   "cell_type": "code",
   "execution_count": 245,
   "metadata": {},
   "outputs": [],
   "source": [
    "# best params:\n",
    "# n_est = 1000 lr = 2"
   ]
  },
  {
   "cell_type": "code",
   "execution_count": 246,
   "metadata": {},
   "outputs": [
    {
     "data": {
      "text/plain": [
       "PERFORM_CNS.SCORE                                  0.999\n",
       "ltv                                                0.001\n",
       "ZERO.NO.OF_INQUIRIES                               0.000\n",
       "AVERAGE.ACCT.AGE                                   0.000\n",
       "asset_cost                                         0.000\n",
       "PERFORM_CNS.SCORE.DESCRIPTION                      0.000\n",
       "PRI.NO.OF.ACCTS                                    0.000\n",
       "PRI.ACTIVE.ACCTS                                   0.000\n",
       "PRI.CURRENT.BALANCE                                0.000\n",
       "PRI.SANCTIONED.AMOUNT                              0.000\n",
       "PRI.DISBURSED.AMOUNT                               0.000\n",
       "PRIMARY.INSTAL.AMT                                 0.000\n",
       "CREDIT.HISTORY.LENGTH                              0.000\n",
       "ATLEAST.ONE.NO.OF_INQUIRIES                        0.000\n",
       "Aadhar_flag                                        0.000\n",
       "VoterID_flag                                       0.000\n",
       "Salaried                                           0.000\n",
       "Self employed                                      0.000\n",
       "ATLEAST.ONE.PRI.OVERDUE.ACCTS                      0.000\n",
       "ZERO.PRI.OVERDUE.ACCTS                             0.000\n",
       "ATLEAST.ONE.NEW.ACCTS.IN.LAST.SIX.MONTHS           0.000\n",
       "ZERO.NEW.ACCTS.IN.LAST.SIX.MONTHS                  0.000\n",
       "ATLEAST.ONE.DELINQUENT.ACCTS.IN.LAST.SIX.MONTHS    0.000\n",
       "ZERO.DELINQUENT.ACCTS.IN.LAST.SIX.MONTHS           0.000\n",
       "disbursed_amount                                   0.000\n",
       "dtype: float64"
      ]
     },
     "execution_count": 246,
     "metadata": {},
     "output_type": "execute_result"
    }
   ],
   "source": [
    "imp_xg = pd.Series(ad.feature_importances_, index = trainx.columns)\n",
    "imp_xg.sort_values(ascending = False)"
   ]
  },
  {
   "cell_type": "code",
   "execution_count": 248,
   "metadata": {},
   "outputs": [
    {
     "data": {
      "text/plain": [
       "0    35187\n",
       "1    34760\n",
       "dtype: int64"
      ]
     },
     "execution_count": 248,
     "metadata": {},
     "output_type": "execute_result"
    }
   ],
   "source": [
    "pd.Series(pred_ad_test).value_counts()"
   ]
  },
  {
   "cell_type": "markdown",
   "metadata": {},
   "source": [
    "### Gradient Boosting"
   ]
  },
  {
   "cell_type": "code",
   "execution_count": 62,
   "metadata": {},
   "outputs": [],
   "source": [
    "from sklearn.ensemble import GradientBoostingClassifier"
   ]
  },
  {
   "cell_type": "code",
   "execution_count": 259,
   "metadata": {},
   "outputs": [],
   "source": [
    "gb = GradientBoostingClassifier(n_estimators=500, learning_rate = 0.5)"
   ]
  },
  {
   "cell_type": "code",
   "execution_count": 260,
   "metadata": {},
   "outputs": [],
   "source": [
    "pred_gb_test = gb.fit(trainx, trainy).predict(testx)"
   ]
  },
  {
   "cell_type": "code",
   "execution_count": 252,
   "metadata": {},
   "outputs": [
    {
     "name": "stdout",
     "output_type": "stream",
     "text": [
      "              precision    recall  f1-score   support\n",
      "\n",
      "           0       0.78      1.00      0.88     54764\n",
      "           1       0.53      0.00      0.01     15183\n",
      "\n",
      "    accuracy                           0.78     69947\n",
      "   macro avg       0.66      0.50      0.44     69947\n",
      "weighted avg       0.73      0.78      0.69     69947\n",
      "\n"
     ]
    }
   ],
   "source": [
    "print(classification_report(testy, pred_gb_test))"
   ]
  },
  {
   "cell_type": "code",
   "execution_count": 258,
   "metadata": {},
   "outputs": [
    {
     "data": {
      "text/plain": [
       "ltv                                                0.281327\n",
       "PERFORM_CNS.SCORE                                  0.163639\n",
       "PRI.SANCTIONED.AMOUNT                              0.081543\n",
       "PRIMARY.INSTAL.AMT                                 0.053160\n",
       "CREDIT.HISTORY.LENGTH                              0.053135\n",
       "PRI.NO.OF.ACCTS                                    0.048277\n",
       "PRI.CURRENT.BALANCE                                0.038690\n",
       "Aadhar_flag                                        0.028201\n",
       "ATLEAST.ONE.NO.OF_INQUIRIES                        0.026672\n",
       "PRI.DISBURSED.AMOUNT                               0.026634\n",
       "AVERAGE.ACCT.AGE                                   0.025257\n",
       "Salaried                                           0.025124\n",
       "PERFORM_CNS.SCORE.DESCRIPTION                      0.024668\n",
       "ATLEAST.ONE.PRI.OVERDUE.ACCTS                      0.024450\n",
       "ZERO.DELINQUENT.ACCTS.IN.LAST.SIX.MONTHS           0.020914\n",
       "VoterID_flag                                       0.019883\n",
       "ATLEAST.ONE.DELINQUENT.ACCTS.IN.LAST.SIX.MONTHS    0.012324\n",
       "PRI.ACTIVE.ACCTS                                   0.012258\n",
       "ZERO.NO.OF_INQUIRIES                               0.010358\n",
       "ZERO.PRI.OVERDUE.ACCTS                             0.010142\n",
       "Self employed                                      0.006342\n",
       "ATLEAST.ONE.NEW.ACCTS.IN.LAST.SIX.MONTHS           0.003505\n",
       "ZERO.NEW.ACCTS.IN.LAST.SIX.MONTHS                  0.003498\n",
       "asset_cost                                         0.000000\n",
       "disbursed_amount                                   0.000000\n",
       "dtype: float64"
      ]
     },
     "execution_count": 258,
     "metadata": {},
     "output_type": "execute_result"
    }
   ],
   "source": [
    "imp_gb = pd.Series(gb.feature_importances_, index = trainx.columns)\n",
    "imp_gb.sort_values(ascending = False)"
   ]
  },
  {
   "cell_type": "code",
   "execution_count": 256,
   "metadata": {},
   "outputs": [
    {
     "name": "stdout",
     "output_type": "stream",
     "text": [
      "              precision    recall  f1-score   support\n",
      "\n",
      "           0       0.78      1.00      0.88     54764\n",
      "           1       0.40      0.01      0.02     15183\n",
      "\n",
      "    accuracy                           0.78     69947\n",
      "   macro avg       0.59      0.50      0.45     69947\n",
      "weighted avg       0.70      0.78      0.69     69947\n",
      "\n"
     ]
    }
   ],
   "source": [
    "print(classification_report(testy, pred_gb_test)) #learning_rate 0.5"
   ]
  },
  {
   "cell_type": "code",
   "execution_count": 261,
   "metadata": {},
   "outputs": [
    {
     "name": "stdout",
     "output_type": "stream",
     "text": [
      "              precision    recall  f1-score   support\n",
      "\n",
      "           0       0.78      0.99      0.87     54764\n",
      "           1       0.32      0.02      0.04     15183\n",
      "\n",
      "    accuracy                           0.78     69947\n",
      "   macro avg       0.55      0.50      0.46     69947\n",
      "weighted avg       0.68      0.78      0.69     69947\n",
      "\n"
     ]
    }
   ],
   "source": [
    "print(classification_report(testy, pred_gb_test)) #learning_rate 0.5, n_est = 500"
   ]
  },
  {
   "cell_type": "markdown",
   "metadata": {},
   "source": [
    "### After applying SMOTE"
   ]
  },
  {
   "cell_type": "code",
   "execution_count": 63,
   "metadata": {},
   "outputs": [],
   "source": [
    "sm2 = SMOTE()\n",
    "\n",
    "train2_x_sm, train2_y_sm = sm2.fit_resample(trainx, trainy.astype('int'))"
   ]
  },
  {
   "cell_type": "code",
   "execution_count": 64,
   "metadata": {},
   "outputs": [
    {
     "data": {
      "text/plain": [
       "(255558, 25)"
      ]
     },
     "execution_count": 64,
     "metadata": {},
     "output_type": "execute_result"
    }
   ],
   "source": [
    "train2_x_sm.shape"
   ]
  },
  {
   "cell_type": "code",
   "execution_count": 65,
   "metadata": {},
   "outputs": [
    {
     "data": {
      "text/plain": [
       "1    127779\n",
       "0    127779\n",
       "Name: loan_default, dtype: int64"
      ]
     },
     "execution_count": 65,
     "metadata": {},
     "output_type": "execute_result"
    }
   ],
   "source": [
    "train2_y_sm.value_counts()"
   ]
  },
  {
   "cell_type": "code",
   "execution_count": 66,
   "metadata": {},
   "outputs": [],
   "source": [
    "gb = GradientBoostingClassifier()"
   ]
  },
  {
   "cell_type": "code",
   "execution_count": 67,
   "metadata": {},
   "outputs": [],
   "source": [
    "pred_gb_test_sm = gb.fit(train2_x_sm, train2_y_sm).predict(testx)"
   ]
  },
  {
   "cell_type": "code",
   "execution_count": 268,
   "metadata": {},
   "outputs": [],
   "source": [
    "#GB"
   ]
  },
  {
   "cell_type": "code",
   "execution_count": 267,
   "metadata": {},
   "outputs": [
    {
     "name": "stdout",
     "output_type": "stream",
     "text": [
      "              precision    recall  f1-score   support\n",
      "\n",
      "           0       0.83      0.62      0.71     54764\n",
      "           1       0.28      0.53      0.37     15183\n",
      "\n",
      "    accuracy                           0.60     69947\n",
      "   macro avg       0.55      0.57      0.54     69947\n",
      "weighted avg       0.71      0.60      0.63     69947\n",
      "\n"
     ]
    }
   ],
   "source": [
    "print(classification_report(testy, pred_gb_test_sm)) #default"
   ]
  },
  {
   "cell_type": "code",
   "execution_count": 275,
   "metadata": {},
   "outputs": [
    {
     "name": "stdout",
     "output_type": "stream",
     "text": [
      "              precision    recall  f1-score   support\n",
      "\n",
      "           0       0.83      0.62      0.71     54764\n",
      "           1       0.28      0.53      0.37     15183\n",
      "\n",
      "    accuracy                           0.60     69947\n",
      "   macro avg       0.55      0.57      0.54     69947\n",
      "weighted avg       0.71      0.60      0.63     69947\n",
      "\n"
     ]
    }
   ],
   "source": [
    "print(classification_report(testy, pred_gb_test_sm)) #n_est = 100"
   ]
  },
  {
   "cell_type": "code",
   "execution_count": 278,
   "metadata": {},
   "outputs": [
    {
     "name": "stdout",
     "output_type": "stream",
     "text": [
      "              precision    recall  f1-score   support\n",
      "\n",
      "           0       0.82      0.67      0.74     54764\n",
      "           1       0.28      0.45      0.34     15183\n",
      "\n",
      "    accuracy                           0.63     69947\n",
      "   macro avg       0.55      0.56      0.54     69947\n",
      "weighted avg       0.70      0.63      0.65     69947\n",
      "\n"
     ]
    }
   ],
   "source": [
    "print(classification_report(testy, pred_gb_test_sm)) #n_est = 500"
   ]
  },
  {
   "cell_type": "code",
   "execution_count": 283,
   "metadata": {},
   "outputs": [
    {
     "name": "stdout",
     "output_type": "stream",
     "text": [
      "              precision    recall  f1-score   support\n",
      "\n",
      "           0       0.81      0.69      0.75     54764\n",
      "           1       0.28      0.43      0.34     15183\n",
      "\n",
      "    accuracy                           0.63     69947\n",
      "   macro avg       0.55      0.56      0.54     69947\n",
      "weighted avg       0.70      0.63      0.66     69947\n",
      "\n"
     ]
    }
   ],
   "source": [
    "print(classification_report(testy, pred_gb_test_sm)) #n_est = 200 max_depth = 9"
   ]
  },
  {
   "cell_type": "code",
   "execution_count": 286,
   "metadata": {},
   "outputs": [
    {
     "name": "stdout",
     "output_type": "stream",
     "text": [
      "              precision    recall  f1-score   support\n",
      "\n",
      "           0       0.81      0.69      0.75     54764\n",
      "           1       0.28      0.43      0.34     15183\n",
      "\n",
      "    accuracy                           0.63     69947\n",
      "   macro avg       0.55      0.56      0.54     69947\n",
      "weighted avg       0.70      0.63      0.66     69947\n",
      "\n"
     ]
    }
   ],
   "source": [
    "print(classification_report(testy, pred_gb_test_sm)) #n_est = 200 max_depth = 8"
   ]
  },
  {
   "cell_type": "code",
   "execution_count": 289,
   "metadata": {},
   "outputs": [
    {
     "name": "stdout",
     "output_type": "stream",
     "text": [
      "              precision    recall  f1-score   support\n",
      "\n",
      "           0       0.81      0.70      0.75     54764\n",
      "           1       0.28      0.43      0.34     15183\n",
      "\n",
      "    accuracy                           0.64     69947\n",
      "   macro avg       0.55      0.56      0.55     69947\n",
      "weighted avg       0.70      0.64      0.66     69947\n",
      "\n"
     ]
    }
   ],
   "source": [
    "print(classification_report(testy, pred_gb_test_sm)) #n_est = 200 max_depth = 7"
   ]
  },
  {
   "cell_type": "code",
   "execution_count": 292,
   "metadata": {},
   "outputs": [
    {
     "name": "stdout",
     "output_type": "stream",
     "text": [
      "              precision    recall  f1-score   support\n",
      "\n",
      "           0       0.82      0.68      0.74     54764\n",
      "           1       0.28      0.45      0.34     15183\n",
      "\n",
      "    accuracy                           0.63     69947\n",
      "   macro avg       0.55      0.56      0.54     69947\n",
      "weighted avg       0.70      0.63      0.66     69947\n",
      "\n"
     ]
    }
   ],
   "source": [
    "print(classification_report(testy, pred_gb_test_sm)) #n_est = 200 max_depth = 6"
   ]
  },
  {
   "cell_type": "code",
   "execution_count": 72,
   "metadata": {},
   "outputs": [],
   "source": [
    "# best model as per recall\n",
    "# default params\n",
    "# GB"
   ]
  },
  {
   "cell_type": "code",
   "execution_count": 68,
   "metadata": {},
   "outputs": [
    {
     "name": "stdout",
     "output_type": "stream",
     "text": [
      "              precision    recall  f1-score   support\n",
      "\n",
      "           0       0.83      0.61      0.70     54764\n",
      "           1       0.28      0.54      0.37     15183\n",
      "\n",
      "    accuracy                           0.59     69947\n",
      "   macro avg       0.55      0.57      0.53     69947\n",
      "weighted avg       0.71      0.59      0.63     69947\n",
      "\n"
     ]
    }
   ],
   "source": [
    "print(classification_report(testy, pred_gb_test_sm))"
   ]
  },
  {
   "cell_type": "code",
   "execution_count": 269,
   "metadata": {},
   "outputs": [],
   "source": [
    "#XGb"
   ]
  },
  {
   "cell_type": "code",
   "execution_count": 69,
   "metadata": {},
   "outputs": [
    {
     "name": "stdout",
     "output_type": "stream",
     "text": [
      "              precision    recall  f1-score   support\n",
      "\n",
      "           0       0.81      0.69      0.75     54764\n",
      "           1       0.28      0.43      0.34     15183\n",
      "\n",
      "    accuracy                           0.63     69947\n",
      "   macro avg       0.55      0.56      0.54     69947\n",
      "weighted avg       0.70      0.63      0.66     69947\n",
      "\n"
     ]
    }
   ],
   "source": [
    "print(classification_report(testy, pred_xg_test_sm))"
   ]
  },
  {
   "cell_type": "code",
   "execution_count": 271,
   "metadata": {},
   "outputs": [],
   "source": [
    "#RF"
   ]
  },
  {
   "cell_type": "code",
   "execution_count": 71,
   "metadata": {},
   "outputs": [
    {
     "name": "stdout",
     "output_type": "stream",
     "text": [
      "              precision    recall  f1-score   support\n",
      "\n",
      "           0       0.81      0.61      0.70     54764\n",
      "           1       0.26      0.50      0.34     15183\n",
      "\n",
      "    accuracy                           0.58     69947\n",
      "   macro avg       0.54      0.55      0.52     69947\n",
      "weighted avg       0.69      0.58      0.62     69947\n",
      "\n"
     ]
    }
   ],
   "source": [
    "print(classification_report(testy, pred_test_sm_final))"
   ]
  },
  {
   "cell_type": "code",
   "execution_count": 297,
   "metadata": {},
   "outputs": [
    {
     "data": {
      "text/plain": [
       "RF     [1, 0, 0, 0, 0, 0, 0, 0, 0, 1, 1, 1, 0, 0, 0, ...\n",
       "XGB    [1, 0, 0, 0, 0, 0, 0, 0, 0, 0, 0, 1, 0, 0, 0, ...\n",
       "GB     [1, 0, 0, 0, 0, 0, 0, 0, 0, 1, 1, 1, 0, 0, 0, ...\n",
       "dtype: object"
      ]
     },
     "execution_count": 297,
     "metadata": {},
     "output_type": "execute_result"
    }
   ],
   "source": [
    "pd.Series([pred_test_sm_final,pred_xg_test_sm,pred_gb_test_sm], index = ['RF', 'XGB', 'GB'])"
   ]
  },
  {
   "cell_type": "code",
   "execution_count": 302,
   "metadata": {},
   "outputs": [
    {
     "data": {
      "image/png": "[encoded data removed]",
      "text/plain": [
       "<Figure size 720x576 with 2 Axes>"
      ]
     },
     "metadata": {
      "needs_background": "light"
     },
     "output_type": "display_data"
    }
   ],
   "source": [
    "plt.figure(figsize = (10,8))\n",
    "sns.heatmap(dfc_new.corr()[dfc_new.corr()>0.5], annot = True)\n",
    "plt.show()"
   ]
  },
  {
   "cell_type": "code",
   "execution_count": 303,
   "metadata": {},
   "outputs": [],
   "source": [
    "# SVM"
   ]
  },
  {
   "cell_type": "code",
   "execution_count": 304,
   "metadata": {},
   "outputs": [],
   "source": [
    "from sklearn.svm import SVC"
   ]
  },
  {
   "cell_type": "code",
   "execution_count": 314,
   "metadata": {},
   "outputs": [],
   "source": [
    "model = SVC()"
   ]
  },
  {
   "cell_type": "code",
   "execution_count": null,
   "metadata": {},
   "outputs": [],
   "source": [
    "pred_svm = model.fit(trainx, trainy).predict(testx)"
   ]
  },
  {
   "cell_type": "code",
   "execution_count": 310,
   "metadata": {},
   "outputs": [
    {
     "name": "stdout",
     "output_type": "stream",
     "text": [
      "              precision    recall  f1-score   support\n",
      "\n",
      "           0       0.78      1.00      0.88     54764\n",
      "           1       0.53      0.00      0.01     15183\n",
      "\n",
      "    accuracy                           0.78     69947\n",
      "   macro avg       0.66      0.50      0.44     69947\n",
      "weighted avg       0.73      0.78      0.69     69947\n",
      "\n"
     ]
    }
   ],
   "source": [
    "print(classification_report(testy, pred_svm)) #default"
   ]
  },
  {
   "cell_type": "code",
   "execution_count": null,
   "metadata": {},
   "outputs": [],
   "source": [
    "print(classification_report(testy, pred_svm)) #class_weight={0:.4, 1:.9}"
   ]
  },
  {
   "cell_type": "markdown",
   "metadata": {},
   "source": [
    "### Naive Bayes"
   ]
  },
  {
   "cell_type": "code",
   "execution_count": 74,
   "metadata": {},
   "outputs": [],
   "source": [
    "from sklearn.naive_bayes import GaussianNB"
   ]
  },
  {
   "cell_type": "code",
   "execution_count": 97,
   "metadata": {},
   "outputs": [],
   "source": [
    "nb = GaussianNB(var_smoothing=1e-10)"
   ]
  },
  {
   "cell_type": "code",
   "execution_count": 98,
   "metadata": {},
   "outputs": [],
   "source": [
    "pred_nb = nb.fit(trainx, trainy).predict(testx)"
   ]
  },
  {
   "cell_type": "code",
   "execution_count": 93,
   "metadata": {},
   "outputs": [
    {
     "name": "stdout",
     "output_type": "stream",
     "text": [
      "              precision    recall  f1-score   support\n",
      "\n",
      "           0       0.80      0.82      0.81     54764\n",
      "           1       0.29      0.28      0.29     15183\n",
      "\n",
      "    accuracy                           0.70     69947\n",
      "   macro avg       0.55      0.55      0.55     69947\n",
      "weighted avg       0.69      0.70      0.70     69947\n",
      "\n"
     ]
    }
   ],
   "source": [
    "print(classification_report(testy, pred_nb)) #default"
   ]
  },
  {
   "cell_type": "code",
   "execution_count": 96,
   "metadata": {},
   "outputs": [
    {
     "name": "stdout",
     "output_type": "stream",
     "text": [
      "              precision    recall  f1-score   support\n",
      "\n",
      "           0       0.80      0.82      0.81     54764\n",
      "           1       0.29      0.28      0.29     15183\n",
      "\n",
      "    accuracy                           0.70     69947\n",
      "   macro avg       0.55      0.55      0.55     69947\n",
      "weighted avg       0.69      0.70      0.70     69947\n",
      "\n"
     ]
    }
   ],
   "source": [
    "print(classification_report(testy, pred_nb)) #var_smoothing=1e-08"
   ]
  },
  {
   "cell_type": "code",
   "execution_count": 99,
   "metadata": {},
   "outputs": [
    {
     "name": "stdout",
     "output_type": "stream",
     "text": [
      "              precision    recall  f1-score   support\n",
      "\n",
      "           0       0.80      0.82      0.81     54764\n",
      "           1       0.29      0.28      0.29     15183\n",
      "\n",
      "    accuracy                           0.70     69947\n",
      "   macro avg       0.55      0.55      0.55     69947\n",
      "weighted avg       0.69      0.70      0.70     69947\n",
      "\n"
     ]
    }
   ],
   "source": [
    "print(classification_report(testy, pred_nb)) #var_smoothing=1e-10"
   ]
  },
  {
   "cell_type": "code",
   "execution_count": 90,
   "metadata": {},
   "outputs": [
    {
     "ename": "AttributeError",
     "evalue": "'GaussianNB' object has no attribute 'feature_importances_'",
     "output_type": "error",
     "traceback": [
      "\u001b[1;31m---------------------------------------------------------------------------\u001b[0m",
      "\u001b[1;31mAttributeError\u001b[0m                            Traceback (most recent call last)",
      "\u001b[1;32m<ipython-input-90-66953cff0568>\u001b[0m in \u001b[0;36m<module>\u001b[1;34m\u001b[0m\n\u001b[1;32m----> 1\u001b[1;33m \u001b[0mimp_nb\u001b[0m \u001b[1;33m=\u001b[0m \u001b[0mpd\u001b[0m\u001b[1;33m.\u001b[0m\u001b[0mSeries\u001b[0m\u001b[1;33m(\u001b[0m\u001b[0mnb\u001b[0m\u001b[1;33m.\u001b[0m\u001b[0mfeature_importances_\u001b[0m\u001b[1;33m,\u001b[0m \u001b[0mindex\u001b[0m \u001b[1;33m=\u001b[0m \u001b[0mtrainx\u001b[0m\u001b[1;33m.\u001b[0m\u001b[0mcolumns\u001b[0m\u001b[1;33m)\u001b[0m\u001b[1;33m\u001b[0m\u001b[1;33m\u001b[0m\u001b[0m\n\u001b[0m\u001b[0;32m      2\u001b[0m \u001b[0mimp_nb\u001b[0m\u001b[1;33m.\u001b[0m\u001b[0msort_values\u001b[0m\u001b[1;33m(\u001b[0m\u001b[0mascending\u001b[0m \u001b[1;33m=\u001b[0m \u001b[1;32mFalse\u001b[0m\u001b[1;33m)\u001b[0m\u001b[1;33m\u001b[0m\u001b[1;33m\u001b[0m\u001b[0m\n",
      "\u001b[1;31mAttributeError\u001b[0m: 'GaussianNB' object has no attribute 'feature_importances_'"
     ]
    }
   ],
   "source": [
    "imp_nb = pd.Series(nb.feature_importances_, index = trainx.columns)\n",
    "imp_nb.sort_values(ascending = False)"
   ]
  },
  {
   "cell_type": "code",
   "execution_count": 85,
   "metadata": {},
   "outputs": [],
   "source": [
    "#After SMOT"
   ]
  },
  {
   "cell_type": "code",
   "execution_count": 100,
   "metadata": {},
   "outputs": [],
   "source": [
    "sm3 = SMOTE()\n",
    "\n",
    "train3_x_sm, train3_y_sm = sm3.fit_resample(trainx, trainy.astype('int'))"
   ]
  },
  {
   "cell_type": "code",
   "execution_count": 101,
   "metadata": {},
   "outputs": [
    {
     "name": "stdout",
     "output_type": "stream",
     "text": [
      "(255558, 25)\n"
     ]
    }
   ],
   "source": [
    "print(train3_x_sm.shape)"
   ]
  },
  {
   "cell_type": "code",
   "execution_count": 102,
   "metadata": {},
   "outputs": [
    {
     "data": {
      "text/plain": [
       "1    127779\n",
       "0    127779\n",
       "Name: loan_default, dtype: int64"
      ]
     },
     "execution_count": 102,
     "metadata": {},
     "output_type": "execute_result"
    }
   ],
   "source": [
    "train3_y_sm.value_counts()"
   ]
  },
  {
   "cell_type": "code",
   "execution_count": 113,
   "metadata": {},
   "outputs": [],
   "source": [
    "nb = GaussianNB()"
   ]
  },
  {
   "cell_type": "code",
   "execution_count": 114,
   "metadata": {},
   "outputs": [
    {
     "name": "stdout",
     "output_type": "stream",
     "text": [
      "              precision    recall  f1-score   support\n",
      "\n",
      "           0       0.84      0.42      0.56     54764\n",
      "           1       0.25      0.71      0.37     15183\n",
      "\n",
      "    accuracy                           0.48     69947\n",
      "   macro avg       0.55      0.57      0.47     69947\n",
      "weighted avg       0.71      0.48      0.52     69947\n",
      "\n"
     ]
    }
   ],
   "source": [
    "pred_nb_sm = nb.fit(train3_x_sm, train3_y_sm).predict(testx)\n",
    "\n",
    "print(classification_report(testy, pred_nb_sm)) #default"
   ]
  },
  {
   "cell_type": "code",
   "execution_count": 110,
   "metadata": {},
   "outputs": [],
   "source": [
    "pred_nb_sm = nb.fit(train3_x_sm, train3_y_sm).predict(testx)"
   ]
  },
  {
   "cell_type": "code",
   "execution_count": 108,
   "metadata": {},
   "outputs": [
    {
     "name": "stdout",
     "output_type": "stream",
     "text": [
      "              precision    recall  f1-score   support\n",
      "\n",
      "           0       0.84      0.42      0.56     54764\n",
      "           1       0.25      0.71      0.37     15183\n",
      "\n",
      "    accuracy                           0.48     69947\n",
      "   macro avg       0.55      0.57      0.47     69947\n",
      "weighted avg       0.71      0.48      0.52     69947\n",
      "\n"
     ]
    }
   ],
   "source": [
    "print(classification_report(testy, pred_nb_sm)) #var_smoothing=1e-10"
   ]
  },
  {
   "cell_type": "code",
   "execution_count": 112,
   "metadata": {},
   "outputs": [
    {
     "name": "stdout",
     "output_type": "stream",
     "text": [
      "              precision    recall  f1-score   support\n",
      "\n",
      "           0       0.84      0.42      0.56     54764\n",
      "           1       0.25      0.71      0.37     15183\n",
      "\n",
      "    accuracy                           0.48     69947\n",
      "   macro avg       0.55      0.57      0.47     69947\n",
      "weighted avg       0.71      0.48      0.52     69947\n",
      "\n"
     ]
    }
   ],
   "source": [
    "print(classification_report(testy, pred_nb_sm)) #var_smoothing=1e-20"
   ]
  },
  {
   "cell_type": "markdown",
   "metadata": {},
   "source": [
    "### KNNClassifier"
   ]
  },
  {
   "cell_type": "code",
   "execution_count": 117,
   "metadata": {},
   "outputs": [],
   "source": [
    "from sklearn.neighbors import KNeighborsClassifier"
   ]
  },
  {
   "cell_type": "code",
   "execution_count": 124,
   "metadata": {},
   "outputs": [],
   "source": [
    "knn = KNeighborsClassifier(weights = 'distance', n_neighbors = 10)"
   ]
  },
  {
   "cell_type": "code",
   "execution_count": 125,
   "metadata": {},
   "outputs": [],
   "source": [
    "pred_knn = knn.fit(trainx, trainy).predict(testx)"
   ]
  },
  {
   "cell_type": "code",
   "execution_count": 120,
   "metadata": {},
   "outputs": [
    {
     "name": "stdout",
     "output_type": "stream",
     "text": [
      "              precision    recall  f1-score   support\n",
      "\n",
      "           0       0.79      0.91      0.85     54764\n",
      "           1       0.28      0.12      0.17     15183\n",
      "\n",
      "    accuracy                           0.74     69947\n",
      "   macro avg       0.54      0.52      0.51     69947\n",
      "weighted avg       0.68      0.74      0.70     69947\n",
      "\n"
     ]
    }
   ],
   "source": [
    "print(classification_report(testy, pred_knn)) #default"
   ]
  },
  {
   "cell_type": "code",
   "execution_count": 123,
   "metadata": {},
   "outputs": [
    {
     "name": "stdout",
     "output_type": "stream",
     "text": [
      "              precision    recall  f1-score   support\n",
      "\n",
      "           0       0.79      0.90      0.84     54764\n",
      "           1       0.28      0.14      0.18     15183\n",
      "\n",
      "    accuracy                           0.73     69947\n",
      "   macro avg       0.53      0.52      0.51     69947\n",
      "weighted avg       0.68      0.73      0.70     69947\n",
      "\n"
     ]
    }
   ],
   "source": [
    "print(classification_report(testy, pred_knn)) #weights = 'distance'"
   ]
  },
  {
   "cell_type": "code",
   "execution_count": 126,
   "metadata": {},
   "outputs": [
    {
     "name": "stdout",
     "output_type": "stream",
     "text": [
      "              precision    recall  f1-score   support\n",
      "\n",
      "           0       0.79      0.94      0.86     54764\n",
      "           1       0.30      0.09      0.13     15183\n",
      "\n",
      "    accuracy                           0.76     69947\n",
      "   macro avg       0.54      0.51      0.50     69947\n",
      "weighted avg       0.68      0.76      0.70     69947\n",
      "\n"
     ]
    }
   ],
   "source": [
    "print(classification_report(testy, pred_knn)) #weights = 'distance', n_neighbors = 10"
   ]
  },
  {
   "cell_type": "code",
   "execution_count": 129,
   "metadata": {},
   "outputs": [
    {
     "ename": "AttributeError",
     "evalue": "'KNeighborsClassifier' object has no attribute 'feature_importances_'",
     "output_type": "error",
     "traceback": [
      "\u001b[1;31m---------------------------------------------------------------------------\u001b[0m",
      "\u001b[1;31mAttributeError\u001b[0m                            Traceback (most recent call last)",
      "\u001b[1;32m<ipython-input-129-982342076ec7>\u001b[0m in \u001b[0;36m<module>\u001b[1;34m\u001b[0m\n\u001b[1;32m----> 1\u001b[1;33m \u001b[0mknn\u001b[0m\u001b[1;33m.\u001b[0m\u001b[0mfeature_importances_\u001b[0m\u001b[1;33m\u001b[0m\u001b[1;33m\u001b[0m\u001b[0m\n\u001b[0m",
      "\u001b[1;31mAttributeError\u001b[0m: 'KNeighborsClassifier' object has no attribute 'feature_importances_'"
     ]
    }
   ],
   "source": [
    "knn.feature_importances_"
   ]
  },
  {
   "cell_type": "code",
   "execution_count": 127,
   "metadata": {},
   "outputs": [],
   "source": [
    "# distance is the optimal params"
   ]
  },
  {
   "cell_type": "code",
   "execution_count": 128,
   "metadata": {},
   "outputs": [],
   "source": [
    "# after smote"
   ]
  },
  {
   "cell_type": "code",
   "execution_count": 130,
   "metadata": {},
   "outputs": [],
   "source": [
    "knn = KNeighborsClassifier(weights = 'distance')"
   ]
  },
  {
   "cell_type": "code",
   "execution_count": 131,
   "metadata": {},
   "outputs": [],
   "source": [
    "pred_knn_sm = knn.fit(train3_x_sm, train3_y_sm).predict(testx)"
   ]
  },
  {
   "cell_type": "code",
   "execution_count": 132,
   "metadata": {},
   "outputs": [
    {
     "name": "stdout",
     "output_type": "stream",
     "text": [
      "              precision    recall  f1-score   support\n",
      "\n",
      "           0       0.80      0.67      0.73     54764\n",
      "           1       0.25      0.40      0.31     15183\n",
      "\n",
      "    accuracy                           0.61     69947\n",
      "   macro avg       0.53      0.53      0.52     69947\n",
      "weighted avg       0.68      0.61      0.64     69947\n",
      "\n"
     ]
    }
   ],
   "source": [
    "print(classification_report(testy, pred_knn_sm))"
   ]
  },
  {
   "cell_type": "markdown",
   "metadata": {},
   "source": [
    "### SGD Classifier"
   ]
  },
  {
   "cell_type": "code",
   "execution_count": 133,
   "metadata": {},
   "outputs": [],
   "source": [
    "from sklearn.linear_model import SGDClassifier"
   ]
  },
  {
   "cell_type": "code",
   "execution_count": 161,
   "metadata": {},
   "outputs": [],
   "source": [
    "sgd = SGDClassifier(penalty = 'l1', alpha = 0.05, l1_ratio = 1, class_weight={0:.4, 1:.7})"
   ]
  },
  {
   "cell_type": "code",
   "execution_count": 162,
   "metadata": {},
   "outputs": [],
   "source": [
    "pred_sgd_sm = sgd.fit(train3_x_sm, train3_y_sm).predict(testx)"
   ]
  },
  {
   "cell_type": "code",
   "execution_count": 136,
   "metadata": {},
   "outputs": [
    {
     "name": "stdout",
     "output_type": "stream",
     "text": [
      "              precision    recall  f1-score   support\n",
      "\n",
      "           0       0.83      0.55      0.66     54764\n",
      "           1       0.27      0.60      0.37     15183\n",
      "\n",
      "    accuracy                           0.56     69947\n",
      "   macro avg       0.55      0.57      0.52     69947\n",
      "weighted avg       0.71      0.56      0.60     69947\n",
      "\n"
     ]
    }
   ],
   "source": [
    "print(classification_report(testy, pred_sgd_sm)) #default"
   ]
  },
  {
   "cell_type": "code",
   "execution_count": 139,
   "metadata": {},
   "outputs": [
    {
     "name": "stdout",
     "output_type": "stream",
     "text": [
      "              precision    recall  f1-score   support\n",
      "\n",
      "           0       0.84      0.48      0.61     54764\n",
      "           1       0.27      0.68      0.38     15183\n",
      "\n",
      "    accuracy                           0.52     69947\n",
      "   macro avg       0.55      0.58      0.50     69947\n",
      "weighted avg       0.72      0.52      0.56     69947\n",
      "\n"
     ]
    }
   ],
   "source": [
    "print(classification_report(testy, pred_sgd_sm)) #penalty = 'elasticnet', alpha = 0.001, l1_ratio = 1"
   ]
  },
  {
   "cell_type": "code",
   "execution_count": 142,
   "metadata": {},
   "outputs": [
    {
     "name": "stdout",
     "output_type": "stream",
     "text": [
      "              precision    recall  f1-score   support\n",
      "\n",
      "           0       0.83      0.51      0.63     54764\n",
      "           1       0.26      0.63      0.37     15183\n",
      "\n",
      "    accuracy                           0.54     69947\n",
      "   macro avg       0.55      0.57      0.50     69947\n",
      "weighted avg       0.71      0.54      0.58     69947\n",
      "\n"
     ]
    }
   ],
   "source": [
    "print(classification_report(testy, pred_sgd_sm)) #penalty = 'elasticnet', alpha = 0.01, l1_ratio = 1"
   ]
  },
  {
   "cell_type": "code",
   "execution_count": 145,
   "metadata": {},
   "outputs": [
    {
     "name": "stdout",
     "output_type": "stream",
     "text": [
      "              precision    recall  f1-score   support\n",
      "\n",
      "           0       0.86      0.05      0.10     54764\n",
      "           1       0.22      0.97      0.36     15183\n",
      "\n",
      "    accuracy                           0.25     69947\n",
      "   macro avg       0.54      0.51      0.23     69947\n",
      "weighted avg       0.72      0.25      0.16     69947\n",
      "\n"
     ]
    }
   ],
   "source": [
    "print(classification_report(testy, pred_sgd_sm)) ##penalty = 'elasticnet', alpha = 0.1, l1_ratio = 1"
   ]
  },
  {
   "cell_type": "code",
   "execution_count": 151,
   "metadata": {},
   "outputs": [
    {
     "name": "stdout",
     "output_type": "stream",
     "text": [
      "              precision    recall  f1-score   support\n",
      "\n",
      "           0       0.83      0.51      0.63     54764\n",
      "           1       0.26      0.61      0.36     15183\n",
      "\n",
      "    accuracy                           0.53     69947\n",
      "   macro avg       0.54      0.56      0.50     69947\n",
      "weighted avg       0.70      0.53      0.57     69947\n",
      "\n"
     ]
    }
   ],
   "source": [
    "print(classification_report(testy, pred_sgd_sm)) #penalty = 'elasticnet', alpha = 0.03, l1_ratio = 1"
   ]
  },
  {
   "cell_type": "code",
   "execution_count": 154,
   "metadata": {},
   "outputs": [
    {
     "name": "stdout",
     "output_type": "stream",
     "text": [
      "              precision    recall  f1-score   support\n",
      "\n",
      "           0       0.83      0.49      0.62     54764\n",
      "           1       0.25      0.62      0.36     15183\n",
      "\n",
      "    accuracy                           0.52     69947\n",
      "   macro avg       0.54      0.56      0.49     69947\n",
      "weighted avg       0.70      0.52      0.56     69947\n",
      "\n"
     ]
    }
   ],
   "source": [
    "print(classification_report(testy, pred_sgd_sm)) #penalty = 'elasticnet', alpha = 0.05, l1_ratio = 1"
   ]
  },
  {
   "cell_type": "code",
   "execution_count": 157,
   "metadata": {},
   "outputs": [
    {
     "name": "stdout",
     "output_type": "stream",
     "text": [
      "              precision    recall  f1-score   support\n",
      "\n",
      "           0       0.83      0.49      0.62     54764\n",
      "           1       0.25      0.62      0.36     15183\n",
      "\n",
      "    accuracy                           0.52     69947\n",
      "   macro avg       0.54      0.56      0.49     69947\n",
      "weighted avg       0.70      0.52      0.56     69947\n",
      "\n"
     ]
    }
   ],
   "source": [
    "print(classification_report(testy, pred_sgd_sm)) #penalty = 'l1', alpha = 0.05, l1_ratio = 1"
   ]
  },
  {
   "cell_type": "code",
   "execution_count": 160,
   "metadata": {},
   "outputs": [
    {
     "name": "stdout",
     "output_type": "stream",
     "text": [
      "              precision    recall  f1-score   support\n",
      "\n",
      "           0       0.00      0.00      0.00     54764\n",
      "           1       0.22      1.00      0.36     15183\n",
      "\n",
      "    accuracy                           0.22     69947\n",
      "   macro avg       0.11      0.50      0.18     69947\n",
      "weighted avg       0.05      0.22      0.08     69947\n",
      "\n"
     ]
    },
    {
     "name": "stderr",
     "output_type": "stream",
     "text": [
      "C:\\Users\\Tusha\\Anaconda3\\lib\\site-packages\\sklearn\\metrics\\_classification.py:1248: UndefinedMetricWarning: Precision and F-score are ill-defined and being set to 0.0 in labels with no predicted samples. Use `zero_division` parameter to control this behavior.\n",
      "  _warn_prf(average, modifier, msg_start, len(result))\n",
      "C:\\Users\\Tusha\\Anaconda3\\lib\\site-packages\\sklearn\\metrics\\_classification.py:1248: UndefinedMetricWarning: Precision and F-score are ill-defined and being set to 0.0 in labels with no predicted samples. Use `zero_division` parameter to control this behavior.\n",
      "  _warn_prf(average, modifier, msg_start, len(result))\n",
      "C:\\Users\\Tusha\\Anaconda3\\lib\\site-packages\\sklearn\\metrics\\_classification.py:1248: UndefinedMetricWarning: Precision and F-score are ill-defined and being set to 0.0 in labels with no predicted samples. Use `zero_division` parameter to control this behavior.\n",
      "  _warn_prf(average, modifier, msg_start, len(result))\n"
     ]
    }
   ],
   "source": [
    "print(classification_report(testy, pred_sgd_sm)) #penalty = 'l1', alpha = 0.05, l1_ratio = 1, class_weight={0:.4, 1:.9}"
   ]
  },
  {
   "cell_type": "code",
   "execution_count": 163,
   "metadata": {},
   "outputs": [
    {
     "name": "stdout",
     "output_type": "stream",
     "text": [
      "              precision    recall  f1-score   support\n",
      "\n",
      "           0       0.00      0.00      0.00     54764\n",
      "           1       0.22      1.00      0.36     15183\n",
      "\n",
      "    accuracy                           0.22     69947\n",
      "   macro avg       0.11      0.50      0.18     69947\n",
      "weighted avg       0.05      0.22      0.08     69947\n",
      "\n"
     ]
    },
    {
     "name": "stderr",
     "output_type": "stream",
     "text": [
      "C:\\Users\\Tusha\\Anaconda3\\lib\\site-packages\\sklearn\\metrics\\_classification.py:1248: UndefinedMetricWarning: Precision and F-score are ill-defined and being set to 0.0 in labels with no predicted samples. Use `zero_division` parameter to control this behavior.\n",
      "  _warn_prf(average, modifier, msg_start, len(result))\n",
      "C:\\Users\\Tusha\\Anaconda3\\lib\\site-packages\\sklearn\\metrics\\_classification.py:1248: UndefinedMetricWarning: Precision and F-score are ill-defined and being set to 0.0 in labels with no predicted samples. Use `zero_division` parameter to control this behavior.\n",
      "  _warn_prf(average, modifier, msg_start, len(result))\n",
      "C:\\Users\\Tusha\\Anaconda3\\lib\\site-packages\\sklearn\\metrics\\_classification.py:1248: UndefinedMetricWarning: Precision and F-score are ill-defined and being set to 0.0 in labels with no predicted samples. Use `zero_division` parameter to control this behavior.\n",
      "  _warn_prf(average, modifier, msg_start, len(result))\n"
     ]
    }
   ],
   "source": [
    "print(classification_report(testy, pred_sgd_sm))"
   ]
  },
  {
   "cell_type": "code",
   "execution_count": 164,
   "metadata": {},
   "outputs": [],
   "source": [
    "# optimal params\n",
    "# default"
   ]
  },
  {
   "cell_type": "code",
   "execution_count": 165,
   "metadata": {},
   "outputs": [
    {
     "name": "stdout",
     "output_type": "stream",
     "text": [
      "              precision    recall  f1-score   support\n",
      "\n",
      "           0       0.84      0.56      0.67     54764\n",
      "           1       0.28      0.60      0.38     15183\n",
      "\n",
      "    accuracy                           0.57     69947\n",
      "   macro avg       0.56      0.58      0.52     69947\n",
      "weighted avg       0.71      0.57      0.61     69947\n",
      "\n"
     ]
    }
   ],
   "source": [
    "sgd = SGDClassifier()\n",
    "\n",
    "pred_sgd_smf = sgd.fit(train3_x_sm, train3_y_sm).predict(testx)\n",
    "\n",
    "print(classification_report(testy, pred_sgd_smf)) #default"
   ]
  },
  {
   "cell_type": "markdown",
   "metadata": {},
   "source": [
    "### Logistic Regression"
   ]
  },
  {
   "cell_type": "code",
   "execution_count": 166,
   "metadata": {},
   "outputs": [],
   "source": [
    "from sklearn.linear_model import LogisticRegression"
   ]
  },
  {
   "cell_type": "code",
   "execution_count": 173,
   "metadata": {},
   "outputs": [],
   "source": [
    "lr = LogisticRegression(max_iter = 1000, penalty = 'l1', solver = 'saga', C = 0.2)"
   ]
  },
  {
   "cell_type": "code",
   "execution_count": 174,
   "metadata": {},
   "outputs": [
    {
     "name": "stderr",
     "output_type": "stream",
     "text": [
      "C:\\Users\\Tusha\\Anaconda3\\lib\\site-packages\\sklearn\\linear_model\\_sag.py:329: ConvergenceWarning: The max_iter was reached which means the coef_ did not converge\n",
      "  \"the coef_ did not converge\", ConvergenceWarning)\n"
     ]
    }
   ],
   "source": [
    "pred_lr_sm = lr.fit(train3_x_sm, train3_y_sm).predict(testx)"
   ]
  },
  {
   "cell_type": "code",
   "execution_count": 169,
   "metadata": {},
   "outputs": [
    {
     "name": "stdout",
     "output_type": "stream",
     "text": [
      "              precision    recall  f1-score   support\n",
      "\n",
      "           0       0.83      0.58      0.68     54764\n",
      "           1       0.28      0.58      0.37     15183\n",
      "\n",
      "    accuracy                           0.58     69947\n",
      "   macro avg       0.55      0.58      0.53     69947\n",
      "weighted avg       0.71      0.58      0.61     69947\n",
      "\n"
     ]
    }
   ],
   "source": [
    "print(classification_report(testy, pred_lr_sm)) #default"
   ]
  },
  {
   "cell_type": "code",
   "execution_count": 172,
   "metadata": {},
   "outputs": [
    {
     "name": "stdout",
     "output_type": "stream",
     "text": [
      "              precision    recall  f1-score   support\n",
      "\n",
      "           0       0.83      0.57      0.68     54764\n",
      "           1       0.28      0.59      0.38     15183\n",
      "\n",
      "    accuracy                           0.58     69947\n",
      "   macro avg       0.56      0.58      0.53     69947\n",
      "weighted avg       0.71      0.58      0.61     69947\n",
      "\n"
     ]
    }
   ],
   "source": [
    "print(classification_report(testy, pred_lr_sm)) #max_iter = 1000, penalty = 'l1', solver = 'saga', C = 0.5"
   ]
  },
  {
   "cell_type": "code",
   "execution_count": 175,
   "metadata": {},
   "outputs": [
    {
     "name": "stdout",
     "output_type": "stream",
     "text": [
      "              precision    recall  f1-score   support\n",
      "\n",
      "           0       0.83      0.57      0.68     54764\n",
      "           1       0.28      0.59      0.38     15183\n",
      "\n",
      "    accuracy                           0.58     69947\n",
      "   macro avg       0.56      0.58      0.53     69947\n",
      "weighted avg       0.71      0.58      0.61     69947\n",
      "\n"
     ]
    }
   ],
   "source": [
    "print(classification_report(testy, pred_lr_sm))"
   ]
  },
  {
   "cell_type": "code",
   "execution_count": 176,
   "metadata": {},
   "outputs": [],
   "source": [
    "#optimal params: default"
   ]
  },
  {
   "cell_type": "code",
   "execution_count": 177,
   "metadata": {},
   "outputs": [],
   "source": [
    "lr = LogisticRegression()"
   ]
  },
  {
   "cell_type": "code",
   "execution_count": 179,
   "metadata": {},
   "outputs": [
    {
     "name": "stderr",
     "output_type": "stream",
     "text": [
      "C:\\Users\\Tusha\\Anaconda3\\lib\\site-packages\\sklearn\\linear_model\\_logistic.py:765: ConvergenceWarning: lbfgs failed to converge (status=1):\n",
      "STOP: TOTAL NO. of ITERATIONS REACHED LIMIT.\n",
      "\n",
      "Increase the number of iterations (max_iter) or scale the data as shown in:\n",
      "    https://scikit-learn.org/stable/modules/preprocessing.html\n",
      "Please also refer to the documentation for alternative solver options:\n",
      "    https://scikit-learn.org/stable/modules/linear_model.html#logistic-regression\n",
      "  extra_warning_msg=_LOGISTIC_SOLVER_CONVERGENCE_MSG)\n"
     ]
    }
   ],
   "source": [
    "pred_lr_sm_f = lr.fit(train3_x_sm, train3_y_sm).predict(testx)\n"
   ]
  },
  {
   "cell_type": "code",
   "execution_count": 180,
   "metadata": {},
   "outputs": [
    {
     "name": "stdout",
     "output_type": "stream",
     "text": [
      "              precision    recall  f1-score   support\n",
      "\n",
      "           0       0.83      0.58      0.68     54764\n",
      "           1       0.28      0.58      0.37     15183\n",
      "\n",
      "    accuracy                           0.58     69947\n",
      "   macro avg       0.55      0.58      0.53     69947\n",
      "weighted avg       0.71      0.58      0.61     69947\n",
      "\n"
     ]
    }
   ],
   "source": [
    "print(classification_report(testy, pred_lr_sm_f)) #default"
   ]
  },
  {
   "cell_type": "markdown",
   "metadata": {},
   "source": [
    "### Final Ensemble model"
   ]
  },
  {
   "cell_type": "code",
   "execution_count": 181,
   "metadata": {},
   "outputs": [
    {
     "name": "stdout",
     "output_type": "stream",
     "text": [
      "              precision    recall  f1-score   support\n",
      "\n",
      "           0       0.81      0.69      0.75     54764\n",
      "           1       0.28      0.43      0.34     15183\n",
      "\n",
      "    accuracy                           0.63     69947\n",
      "   macro avg       0.55      0.56      0.54     69947\n",
      "weighted avg       0.70      0.63      0.66     69947\n",
      "\n"
     ]
    }
   ],
   "source": [
    "print(classification_report(testy, pred_xg_test_sm)) #XGB"
   ]
  },
  {
   "cell_type": "code",
   "execution_count": 182,
   "metadata": {},
   "outputs": [
    {
     "name": "stdout",
     "output_type": "stream",
     "text": [
      "              precision    recall  f1-score   support\n",
      "\n",
      "           0       0.81      0.61      0.70     54764\n",
      "           1       0.26      0.50      0.34     15183\n",
      "\n",
      "    accuracy                           0.58     69947\n",
      "   macro avg       0.54      0.55      0.52     69947\n",
      "weighted avg       0.69      0.58      0.62     69947\n",
      "\n"
     ]
    }
   ],
   "source": [
    "print(classification_report(testy, pred_test_sm_final)) #RF"
   ]
  },
  {
   "cell_type": "code",
   "execution_count": 183,
   "metadata": {},
   "outputs": [
    {
     "name": "stdout",
     "output_type": "stream",
     "text": [
      "              precision    recall  f1-score   support\n",
      "\n",
      "           0       0.83      0.61      0.70     54764\n",
      "           1       0.28      0.54      0.37     15183\n",
      "\n",
      "    accuracy                           0.59     69947\n",
      "   macro avg       0.55      0.57      0.53     69947\n",
      "weighted avg       0.71      0.59      0.63     69947\n",
      "\n"
     ]
    }
   ],
   "source": [
    "print(classification_report(testy, pred_gb_test_sm)) #GB"
   ]
  },
  {
   "cell_type": "code",
   "execution_count": 184,
   "metadata": {},
   "outputs": [
    {
     "name": "stdout",
     "output_type": "stream",
     "text": [
      "              precision    recall  f1-score   support\n",
      "\n",
      "           0       0.84      0.42      0.56     54764\n",
      "           1       0.25      0.71      0.37     15183\n",
      "\n",
      "    accuracy                           0.48     69947\n",
      "   macro avg       0.55      0.57      0.47     69947\n",
      "weighted avg       0.71      0.48      0.52     69947\n",
      "\n"
     ]
    }
   ],
   "source": [
    "print(classification_report(testy, pred_nb_sm)) #NB"
   ]
  },
  {
   "cell_type": "code",
   "execution_count": 185,
   "metadata": {},
   "outputs": [
    {
     "name": "stdout",
     "output_type": "stream",
     "text": [
      "              precision    recall  f1-score   support\n",
      "\n",
      "           0       0.84      0.56      0.67     54764\n",
      "           1       0.28      0.60      0.38     15183\n",
      "\n",
      "    accuracy                           0.57     69947\n",
      "   macro avg       0.56      0.58      0.52     69947\n",
      "weighted avg       0.71      0.57      0.61     69947\n",
      "\n"
     ]
    }
   ],
   "source": [
    "print(classification_report(testy, pred_sgd_smf)) #SGD"
   ]
  },
  {
   "cell_type": "code",
   "execution_count": 186,
   "metadata": {},
   "outputs": [
    {
     "name": "stdout",
     "output_type": "stream",
     "text": [
      "              precision    recall  f1-score   support\n",
      "\n",
      "           0       0.83      0.58      0.68     54764\n",
      "           1       0.28      0.58      0.37     15183\n",
      "\n",
      "    accuracy                           0.58     69947\n",
      "   macro avg       0.55      0.58      0.53     69947\n",
      "weighted avg       0.71      0.58      0.61     69947\n",
      "\n"
     ]
    }
   ],
   "source": [
    "print(classification_report(testy, pred_lr_sm_f)) # LR"
   ]
  },
  {
   "cell_type": "code",
   "execution_count": 187,
   "metadata": {},
   "outputs": [],
   "source": [
    "final_df = pd.DataFrame({'XGB': pred_xg_test_sm, 'RF': pred_test_sm_final, 'GB':pred_gb_test_sm, 'NB':pred_nb_sm, 'SGD':pred_sgd_smf})"
   ]
  },
  {
   "cell_type": "code",
   "execution_count": 189,
   "metadata": {},
   "outputs": [
    {
     "data": {
      "text/html": [
       "<div>\n",
       "<style scoped>\n",
       "    .dataframe tbody tr th:only-of-type {\n",
       "        vertical-align: middle;\n",
       "    }\n",
       "\n",
       "    .dataframe tbody tr th {\n",
       "        vertical-align: top;\n",
       "    }\n",
       "\n",
       "    .dataframe thead th {\n",
       "        text-align: right;\n",
       "    }\n",
       "</style>\n",
       "<table border=\"1\" class=\"dataframe\">\n",
       "  <thead>\n",
       "    <tr style=\"text-align: right;\">\n",
       "      <th></th>\n",
       "      <th>XGB</th>\n",
       "      <th>RF</th>\n",
       "      <th>GB</th>\n",
       "      <th>NB</th>\n",
       "      <th>SGD</th>\n",
       "    </tr>\n",
       "  </thead>\n",
       "  <tbody>\n",
       "    <tr>\n",
       "      <th>0</th>\n",
       "      <td>1</td>\n",
       "      <td>1</td>\n",
       "      <td>1</td>\n",
       "      <td>1</td>\n",
       "      <td>1</td>\n",
       "    </tr>\n",
       "    <tr>\n",
       "      <th>1</th>\n",
       "      <td>0</td>\n",
       "      <td>0</td>\n",
       "      <td>0</td>\n",
       "      <td>1</td>\n",
       "      <td>1</td>\n",
       "    </tr>\n",
       "    <tr>\n",
       "      <th>2</th>\n",
       "      <td>0</td>\n",
       "      <td>0</td>\n",
       "      <td>0</td>\n",
       "      <td>0</td>\n",
       "      <td>0</td>\n",
       "    </tr>\n",
       "    <tr>\n",
       "      <th>3</th>\n",
       "      <td>0</td>\n",
       "      <td>0</td>\n",
       "      <td>0</td>\n",
       "      <td>0</td>\n",
       "      <td>0</td>\n",
       "    </tr>\n",
       "    <tr>\n",
       "      <th>4</th>\n",
       "      <td>0</td>\n",
       "      <td>0</td>\n",
       "      <td>0</td>\n",
       "      <td>1</td>\n",
       "      <td>0</td>\n",
       "    </tr>\n",
       "    <tr>\n",
       "      <th>5</th>\n",
       "      <td>0</td>\n",
       "      <td>0</td>\n",
       "      <td>0</td>\n",
       "      <td>0</td>\n",
       "      <td>0</td>\n",
       "    </tr>\n",
       "    <tr>\n",
       "      <th>6</th>\n",
       "      <td>0</td>\n",
       "      <td>0</td>\n",
       "      <td>0</td>\n",
       "      <td>0</td>\n",
       "      <td>0</td>\n",
       "    </tr>\n",
       "    <tr>\n",
       "      <th>7</th>\n",
       "      <td>0</td>\n",
       "      <td>0</td>\n",
       "      <td>0</td>\n",
       "      <td>0</td>\n",
       "      <td>0</td>\n",
       "    </tr>\n",
       "    <tr>\n",
       "      <th>8</th>\n",
       "      <td>0</td>\n",
       "      <td>0</td>\n",
       "      <td>0</td>\n",
       "      <td>0</td>\n",
       "      <td>1</td>\n",
       "    </tr>\n",
       "    <tr>\n",
       "      <th>9</th>\n",
       "      <td>0</td>\n",
       "      <td>1</td>\n",
       "      <td>1</td>\n",
       "      <td>1</td>\n",
       "      <td>0</td>\n",
       "    </tr>\n",
       "    <tr>\n",
       "      <th>10</th>\n",
       "      <td>0</td>\n",
       "      <td>1</td>\n",
       "      <td>1</td>\n",
       "      <td>1</td>\n",
       "      <td>1</td>\n",
       "    </tr>\n",
       "    <tr>\n",
       "      <th>11</th>\n",
       "      <td>1</td>\n",
       "      <td>1</td>\n",
       "      <td>1</td>\n",
       "      <td>1</td>\n",
       "      <td>1</td>\n",
       "    </tr>\n",
       "    <tr>\n",
       "      <th>12</th>\n",
       "      <td>0</td>\n",
       "      <td>0</td>\n",
       "      <td>0</td>\n",
       "      <td>0</td>\n",
       "      <td>0</td>\n",
       "    </tr>\n",
       "    <tr>\n",
       "      <th>13</th>\n",
       "      <td>0</td>\n",
       "      <td>0</td>\n",
       "      <td>0</td>\n",
       "      <td>1</td>\n",
       "      <td>0</td>\n",
       "    </tr>\n",
       "    <tr>\n",
       "      <th>14</th>\n",
       "      <td>0</td>\n",
       "      <td>0</td>\n",
       "      <td>0</td>\n",
       "      <td>0</td>\n",
       "      <td>0</td>\n",
       "    </tr>\n",
       "    <tr>\n",
       "      <th>15</th>\n",
       "      <td>1</td>\n",
       "      <td>1</td>\n",
       "      <td>1</td>\n",
       "      <td>1</td>\n",
       "      <td>1</td>\n",
       "    </tr>\n",
       "    <tr>\n",
       "      <th>16</th>\n",
       "      <td>0</td>\n",
       "      <td>0</td>\n",
       "      <td>0</td>\n",
       "      <td>0</td>\n",
       "      <td>0</td>\n",
       "    </tr>\n",
       "    <tr>\n",
       "      <th>17</th>\n",
       "      <td>0</td>\n",
       "      <td>0</td>\n",
       "      <td>0</td>\n",
       "      <td>0</td>\n",
       "      <td>0</td>\n",
       "    </tr>\n",
       "    <tr>\n",
       "      <th>18</th>\n",
       "      <td>0</td>\n",
       "      <td>0</td>\n",
       "      <td>1</td>\n",
       "      <td>1</td>\n",
       "      <td>1</td>\n",
       "    </tr>\n",
       "    <tr>\n",
       "      <th>19</th>\n",
       "      <td>0</td>\n",
       "      <td>0</td>\n",
       "      <td>0</td>\n",
       "      <td>0</td>\n",
       "      <td>0</td>\n",
       "    </tr>\n",
       "  </tbody>\n",
       "</table>\n",
       "</div>"
      ],
      "text/plain": [
       "    XGB  RF  GB  NB  SGD\n",
       "0     1   1   1   1    1\n",
       "1     0   0   0   1    1\n",
       "2     0   0   0   0    0\n",
       "3     0   0   0   0    0\n",
       "4     0   0   0   1    0\n",
       "5     0   0   0   0    0\n",
       "6     0   0   0   0    0\n",
       "7     0   0   0   0    0\n",
       "8     0   0   0   0    1\n",
       "9     0   1   1   1    0\n",
       "10    0   1   1   1    1\n",
       "11    1   1   1   1    1\n",
       "12    0   0   0   0    0\n",
       "13    0   0   0   1    0\n",
       "14    0   0   0   0    0\n",
       "15    1   1   1   1    1\n",
       "16    0   0   0   0    0\n",
       "17    0   0   0   0    0\n",
       "18    0   0   1   1    1\n",
       "19    0   0   0   0    0"
      ]
     },
     "execution_count": 189,
     "metadata": {},
     "output_type": "execute_result"
    }
   ],
   "source": [
    "final_df.head(20)"
   ]
  },
  {
   "cell_type": "code",
   "execution_count": 208,
   "metadata": {},
   "outputs": [
    {
     "data": {
      "text/plain": [
       "XGB    0\n",
       "RF     0\n",
       "GB     0\n",
       "NB     1\n",
       "SGD    1\n",
       "Name: 1, dtype: int32"
      ]
     },
     "execution_count": 208,
     "metadata": {},
     "output_type": "execute_result"
    }
   ],
   "source": [
    "final_df.iloc[1]"
   ]
  },
  {
   "cell_type": "code",
   "execution_count": 209,
   "metadata": {},
   "outputs": [
    {
     "data": {
      "text/plain": [
       "0"
      ]
     },
     "execution_count": 209,
     "metadata": {},
     "output_type": "execute_result"
    }
   ],
   "source": [
    "final_df.iloc[1].mode()[0]"
   ]
  },
  {
   "cell_type": "code",
   "execution_count": 201,
   "metadata": {},
   "outputs": [
    {
     "data": {
      "text/plain": [
       "69947"
      ]
     },
     "execution_count": 201,
     "metadata": {},
     "output_type": "execute_result"
    }
   ],
   "source": [
    "final_df.shape[0]"
   ]
  },
  {
   "cell_type": "code",
   "execution_count": 194,
   "metadata": {},
   "outputs": [
    {
     "data": {
      "text/plain": [
       "(69947,)"
      ]
     },
     "execution_count": 194,
     "metadata": {},
     "output_type": "execute_result"
    }
   ],
   "source": [
    "testy.shape"
   ]
  },
  {
   "cell_type": "code",
   "execution_count": 210,
   "metadata": {},
   "outputs": [],
   "source": [
    "final = []\n",
    "for i in range(final_df.shape[0]):\n",
    "    final.append(final_df.iloc[i].mode()[0])"
   ]
  },
  {
   "cell_type": "code",
   "execution_count": 211,
   "metadata": {},
   "outputs": [
    {
     "data": {
      "text/plain": [
       "[1,\n",
       " 0,\n",
       " 0,\n",
       " 0,\n",
       " 0,\n",
       " 0,\n",
       " 0,\n",
       " 0,\n",
       " 0,\n",
       " 1,\n",
       " 1,\n",
       " 1,\n",
       " 0,\n",
       " 0,\n",
       " 0,\n",
       " 1,\n",
       " 0,\n",
       " 0,\n",
       " 1,\n",
       " 0,\n",
       " 1,\n",
       " 0,\n",
       " 1,\n",
       " 1,\n",
       " 1,\n",
       " 0,\n",
       " 1,\n",
       " 1,\n",
       " 0,\n",
       " 0,\n",
       " 0,\n",
       " 0,\n",
       " 1,\n",
       " 1,\n",
       " 0,\n",
       " 0,\n",
       " 1,\n",
       " 0,\n",
       " 1,\n",
       " 0,\n",
       " 0,\n",
       " 1,\n",
       " 0,\n",
       " 0,\n",
       " 1,\n",
       " 1,\n",
       " 0,\n",
       " 0,\n",
       " 1,\n",
       " 0,\n",
       " 0,\n",
       " 0,\n",
       " 1,\n",
       " 0,\n",
       " 1,\n",
       " 0,\n",
       " 1,\n",
       " 0,\n",
       " 0,\n",
       " 0,\n",
       " 0,\n",
       " 0,\n",
       " 0,\n",
       " 0,\n",
       " 0,\n",
       " 1,\n",
       " 1,\n",
       " 0,\n",
       " 0,\n",
       " 0,\n",
       " 0,\n",
       " 0,\n",
       " 1,\n",
       " 1,\n",
       " 0,\n",
       " 0,\n",
       " 1,\n",
       " 1,\n",
       " 0,\n",
       " 1,\n",
       " 1,\n",
       " 0,\n",
       " 0,\n",
       " 0,\n",
       " 0,\n",
       " 0,\n",
       " 1,\n",
       " 0,\n",
       " 1,\n",
       " 1,\n",
       " 1,\n",
       " 0,\n",
       " 0,\n",
       " 0,\n",
       " 0,\n",
       " 0,\n",
       " 1,\n",
       " 0,\n",
       " 0,\n",
       " 1,\n",
       " 0,\n",
       " 0,\n",
       " 0,\n",
       " 0,\n",
       " 0,\n",
       " 0,\n",
       " 0,\n",
       " 0,\n",
       " 0,\n",
       " 0,\n",
       " 0,\n",
       " 0,\n",
       " 0,\n",
       " 1,\n",
       " 1,\n",
       " 1,\n",
       " 0,\n",
       " 0,\n",
       " 0,\n",
       " 0,\n",
       " 0,\n",
       " 0,\n",
       " 1,\n",
       " 0,\n",
       " 1,\n",
       " 1,\n",
       " 0,\n",
       " 1,\n",
       " 1,\n",
       " 0,\n",
       " 0,\n",
       " 1,\n",
       " 0,\n",
       " 0,\n",
       " 0,\n",
       " 1,\n",
       " 0,\n",
       " 1,\n",
       " 1,\n",
       " 0,\n",
       " 1,\n",
       " 0,\n",
       " 0,\n",
       " 0,\n",
       " 1,\n",
       " 0,\n",
       " 0,\n",
       " 0,\n",
       " 1,\n",
       " 0,\n",
       " 0,\n",
       " 0,\n",
       " 1,\n",
       " 0,\n",
       " 0,\n",
       " 0,\n",
       " 1,\n",
       " 0,\n",
       " 0,\n",
       " 0,\n",
       " 1,\n",
       " 1,\n",
       " 0,\n",
       " 1,\n",
       " 1,\n",
       " 0,\n",
       " 0,\n",
       " 1,\n",
       " 0,\n",
       " 0,\n",
       " 0,\n",
       " 1,\n",
       " 1,\n",
       " 1,\n",
       " 1,\n",
       " 0,\n",
       " 1,\n",
       " 0,\n",
       " 1,\n",
       " 0,\n",
       " 0,\n",
       " 0,\n",
       " 0,\n",
       " 0,\n",
       " 1,\n",
       " 1,\n",
       " 1,\n",
       " 0,\n",
       " 1,\n",
       " 0,\n",
       " 1,\n",
       " 1,\n",
       " 0,\n",
       " 0,\n",
       " 0,\n",
       " 0,\n",
       " 0,\n",
       " 0,\n",
       " 1,\n",
       " 0,\n",
       " 0,\n",
       " 0,\n",
       " 0,\n",
       " 1,\n",
       " 0,\n",
       " 0,\n",
       " 0,\n",
       " 0,\n",
       " 0,\n",
       " 1,\n",
       " 0,\n",
       " 0,\n",
       " 1,\n",
       " 1,\n",
       " 0,\n",
       " 1,\n",
       " 1,\n",
       " 1,\n",
       " 0,\n",
       " 0,\n",
       " 1,\n",
       " 1,\n",
       " 1,\n",
       " 0,\n",
       " 1,\n",
       " 0,\n",
       " 1,\n",
       " 1,\n",
       " 1,\n",
       " 0,\n",
       " 1,\n",
       " 1,\n",
       " 1,\n",
       " 0,\n",
       " 0,\n",
       " 1,\n",
       " 0,\n",
       " 1,\n",
       " 1,\n",
       " 1,\n",
       " 0,\n",
       " 1,\n",
       " 0,\n",
       " 1,\n",
       " 0,\n",
       " 1,\n",
       " 0,\n",
       " 0,\n",
       " 0,\n",
       " 0,\n",
       " 0,\n",
       " 0,\n",
       " 1,\n",
       " 0,\n",
       " 0,\n",
       " 1,\n",
       " 1,\n",
       " 1,\n",
       " 0,\n",
       " 1,\n",
       " 0,\n",
       " 0,\n",
       " 1,\n",
       " 0,\n",
       " 0,\n",
       " 1,\n",
       " 0,\n",
       " 1,\n",
       " 0,\n",
       " 0,\n",
       " 1,\n",
       " 1,\n",
       " 1,\n",
       " 1,\n",
       " 0,\n",
       " 0,\n",
       " 0,\n",
       " 0,\n",
       " 0,\n",
       " 0,\n",
       " 0,\n",
       " 0,\n",
       " 0,\n",
       " 0,\n",
       " 1,\n",
       " 1,\n",
       " 1,\n",
       " 0,\n",
       " 0,\n",
       " 0,\n",
       " 0,\n",
       " 0,\n",
       " 0,\n",
       " 1,\n",
       " 1,\n",
       " 1,\n",
       " 0,\n",
       " 0,\n",
       " 0,\n",
       " 0,\n",
       " 0,\n",
       " 1,\n",
       " 1,\n",
       " 0,\n",
       " 1,\n",
       " 0,\n",
       " 0,\n",
       " 0,\n",
       " 1,\n",
       " 1,\n",
       " 0,\n",
       " 1,\n",
       " 0,\n",
       " 0,\n",
       " 1,\n",
       " 1,\n",
       " 0,\n",
       " 0,\n",
       " 1,\n",
       " 0,\n",
       " 1,\n",
       " 0,\n",
       " 0,\n",
       " 1,\n",
       " 1,\n",
       " 1,\n",
       " 0,\n",
       " 1,\n",
       " 1,\n",
       " 0,\n",
       " 1,\n",
       " 1,\n",
       " 0,\n",
       " 0,\n",
       " 0,\n",
       " 1,\n",
       " 0,\n",
       " 0,\n",
       " 1,\n",
       " 1,\n",
       " 0,\n",
       " 0,\n",
       " 0,\n",
       " 0,\n",
       " 0,\n",
       " 1,\n",
       " 0,\n",
       " 1,\n",
       " 1,\n",
       " 0,\n",
       " 1,\n",
       " 0,\n",
       " 0,\n",
       " 0,\n",
       " 0,\n",
       " 1,\n",
       " 0,\n",
       " 1,\n",
       " 0,\n",
       " 0,\n",
       " 0,\n",
       " 0,\n",
       " 1,\n",
       " 0,\n",
       " 1,\n",
       " 1,\n",
       " 0,\n",
       " 0,\n",
       " 0,\n",
       " 1,\n",
       " 1,\n",
       " 1,\n",
       " 0,\n",
       " 0,\n",
       " 0,\n",
       " 0,\n",
       " 0,\n",
       " 1,\n",
       " 1,\n",
       " 1,\n",
       " 0,\n",
       " 1,\n",
       " 1,\n",
       " 0,\n",
       " 1,\n",
       " 0,\n",
       " 0,\n",
       " 0,\n",
       " 1,\n",
       " 1,\n",
       " 1,\n",
       " 0,\n",
       " 0,\n",
       " 0,\n",
       " 0,\n",
       " 1,\n",
       " 0,\n",
       " 0,\n",
       " 1,\n",
       " 0,\n",
       " 1,\n",
       " 1,\n",
       " 0,\n",
       " 1,\n",
       " 0,\n",
       " 0,\n",
       " 0,\n",
       " 1,\n",
       " 1,\n",
       " 1,\n",
       " 0,\n",
       " 1,\n",
       " 1,\n",
       " 0,\n",
       " 1,\n",
       " 0,\n",
       " 1,\n",
       " 1,\n",
       " 1,\n",
       " 0,\n",
       " 1,\n",
       " 0,\n",
       " 1,\n",
       " 1,\n",
       " 0,\n",
       " 0,\n",
       " 0,\n",
       " 1,\n",
       " 0,\n",
       " 1,\n",
       " 0,\n",
       " 1,\n",
       " 1,\n",
       " 1,\n",
       " 0,\n",
       " 0,\n",
       " 0,\n",
       " 0,\n",
       " 0,\n",
       " 0,\n",
       " 0,\n",
       " 0,\n",
       " 1,\n",
       " 0,\n",
       " 0,\n",
       " 0,\n",
       " 0,\n",
       " 1,\n",
       " 0,\n",
       " 1,\n",
       " 1,\n",
       " 1,\n",
       " 0,\n",
       " 0,\n",
       " 0,\n",
       " 1,\n",
       " 0,\n",
       " 0,\n",
       " 0,\n",
       " 0,\n",
       " 0,\n",
       " 1,\n",
       " 0,\n",
       " 0,\n",
       " 1,\n",
       " 1,\n",
       " 1,\n",
       " 1,\n",
       " 0,\n",
       " 0,\n",
       " 0,\n",
       " 0,\n",
       " 1,\n",
       " 1,\n",
       " 0,\n",
       " 1,\n",
       " 0,\n",
       " 0,\n",
       " 1,\n",
       " 0,\n",
       " 1,\n",
       " 1,\n",
       " 1,\n",
       " 0,\n",
       " 1,\n",
       " 1,\n",
       " 1,\n",
       " 1,\n",
       " 0,\n",
       " 0,\n",
       " 1,\n",
       " 0,\n",
       " 0,\n",
       " 1,\n",
       " 0,\n",
       " 0,\n",
       " 0,\n",
       " 0,\n",
       " 1,\n",
       " 1,\n",
       " 1,\n",
       " 1,\n",
       " 1,\n",
       " 1,\n",
       " 0,\n",
       " 0,\n",
       " 0,\n",
       " 0,\n",
       " 0,\n",
       " 0,\n",
       " 0,\n",
       " 0,\n",
       " 0,\n",
       " 0,\n",
       " 0,\n",
       " 1,\n",
       " 0,\n",
       " 0,\n",
       " 0,\n",
       " 0,\n",
       " 0,\n",
       " 1,\n",
       " 1,\n",
       " 1,\n",
       " 1,\n",
       " 1,\n",
       " 0,\n",
       " 1,\n",
       " 0,\n",
       " 0,\n",
       " 1,\n",
       " 0,\n",
       " 1,\n",
       " 0,\n",
       " 1,\n",
       " 0,\n",
       " 1,\n",
       " 1,\n",
       " 1,\n",
       " 0,\n",
       " 1,\n",
       " 0,\n",
       " 1,\n",
       " 0,\n",
       " 1,\n",
       " 0,\n",
       " 0,\n",
       " 0,\n",
       " 1,\n",
       " 1,\n",
       " 1,\n",
       " 1,\n",
       " 1,\n",
       " 0,\n",
       " 1,\n",
       " 0,\n",
       " 0,\n",
       " 1,\n",
       " 0,\n",
       " 0,\n",
       " 1,\n",
       " 1,\n",
       " 0,\n",
       " 1,\n",
       " 1,\n",
       " 1,\n",
       " 0,\n",
       " 0,\n",
       " 1,\n",
       " 1,\n",
       " 0,\n",
       " 0,\n",
       " 1,\n",
       " 0,\n",
       " 0,\n",
       " 1,\n",
       " 0,\n",
       " 1,\n",
       " 1,\n",
       " 1,\n",
       " 0,\n",
       " 1,\n",
       " 0,\n",
       " 0,\n",
       " 0,\n",
       " 0,\n",
       " 0,\n",
       " 0,\n",
       " 0,\n",
       " 1,\n",
       " 1,\n",
       " 0,\n",
       " 1,\n",
       " 0,\n",
       " 1,\n",
       " 1,\n",
       " 0,\n",
       " 0,\n",
       " 1,\n",
       " 1,\n",
       " 0,\n",
       " 0,\n",
       " 0,\n",
       " 0,\n",
       " 0,\n",
       " 0,\n",
       " 0,\n",
       " 1,\n",
       " 0,\n",
       " 1,\n",
       " 1,\n",
       " 0,\n",
       " 0,\n",
       " 0,\n",
       " 0,\n",
       " 0,\n",
       " 1,\n",
       " 1,\n",
       " 0,\n",
       " 1,\n",
       " 0,\n",
       " 1,\n",
       " 0,\n",
       " 0,\n",
       " 0,\n",
       " 0,\n",
       " 1,\n",
       " 1,\n",
       " 1,\n",
       " 1,\n",
       " 1,\n",
       " 0,\n",
       " 0,\n",
       " 0,\n",
       " 0,\n",
       " 0,\n",
       " 1,\n",
       " 1,\n",
       " 0,\n",
       " 1,\n",
       " 1,\n",
       " 0,\n",
       " 0,\n",
       " 0,\n",
       " 0,\n",
       " 1,\n",
       " 1,\n",
       " 0,\n",
       " 1,\n",
       " 0,\n",
       " 0,\n",
       " 0,\n",
       " 1,\n",
       " 1,\n",
       " 0,\n",
       " 0,\n",
       " 0,\n",
       " 1,\n",
       " 1,\n",
       " 0,\n",
       " 1,\n",
       " 1,\n",
       " 1,\n",
       " 0,\n",
       " 0,\n",
       " 1,\n",
       " 0,\n",
       " 0,\n",
       " 0,\n",
       " 0,\n",
       " 0,\n",
       " 1,\n",
       " 0,\n",
       " 0,\n",
       " 0,\n",
       " 1,\n",
       " 1,\n",
       " 0,\n",
       " 0,\n",
       " 0,\n",
       " 1,\n",
       " 1,\n",
       " 1,\n",
       " 1,\n",
       " 0,\n",
       " 1,\n",
       " 1,\n",
       " 0,\n",
       " 1,\n",
       " 0,\n",
       " 1,\n",
       " 0,\n",
       " 1,\n",
       " 0,\n",
       " 1,\n",
       " 0,\n",
       " 1,\n",
       " 0,\n",
       " 0,\n",
       " 1,\n",
       " 1,\n",
       " 0,\n",
       " 1,\n",
       " 1,\n",
       " 0,\n",
       " 0,\n",
       " 1,\n",
       " 0,\n",
       " 1,\n",
       " 0,\n",
       " 0,\n",
       " 0,\n",
       " 0,\n",
       " 0,\n",
       " 1,\n",
       " 0,\n",
       " 1,\n",
       " 0,\n",
       " 0,\n",
       " 1,\n",
       " 0,\n",
       " 1,\n",
       " 0,\n",
       " 0,\n",
       " 1,\n",
       " 0,\n",
       " 0,\n",
       " 1,\n",
       " 1,\n",
       " 0,\n",
       " 0,\n",
       " 0,\n",
       " 0,\n",
       " 0,\n",
       " 1,\n",
       " 1,\n",
       " 1,\n",
       " 1,\n",
       " 0,\n",
       " 0,\n",
       " 0,\n",
       " 1,\n",
       " 1,\n",
       " 0,\n",
       " 1,\n",
       " 0,\n",
       " 1,\n",
       " 0,\n",
       " 1,\n",
       " 0,\n",
       " 1,\n",
       " 0,\n",
       " 1,\n",
       " 0,\n",
       " 0,\n",
       " 1,\n",
       " 0,\n",
       " 1,\n",
       " 0,\n",
       " 0,\n",
       " 1,\n",
       " 1,\n",
       " 0,\n",
       " 0,\n",
       " 0,\n",
       " 0,\n",
       " 1,\n",
       " 1,\n",
       " 0,\n",
       " 1,\n",
       " 0,\n",
       " 1,\n",
       " 1,\n",
       " 1,\n",
       " 0,\n",
       " 1,\n",
       " 0,\n",
       " 0,\n",
       " 1,\n",
       " 0,\n",
       " 0,\n",
       " 0,\n",
       " 1,\n",
       " 0,\n",
       " 0,\n",
       " 0,\n",
       " 0,\n",
       " 0,\n",
       " 1,\n",
       " 0,\n",
       " 1,\n",
       " 1,\n",
       " 1,\n",
       " 1,\n",
       " 0,\n",
       " 0,\n",
       " 0,\n",
       " 1,\n",
       " 1,\n",
       " 0,\n",
       " 1,\n",
       " 1,\n",
       " 1,\n",
       " 1,\n",
       " 0,\n",
       " 0,\n",
       " 0,\n",
       " 0,\n",
       " 0,\n",
       " 0,\n",
       " 1,\n",
       " 0,\n",
       " 1,\n",
       " 0,\n",
       " 0,\n",
       " 0,\n",
       " 1,\n",
       " 1,\n",
       " 0,\n",
       " 0,\n",
       " 1,\n",
       " 0,\n",
       " 0,\n",
       " 0,\n",
       " 1,\n",
       " 0,\n",
       " 0,\n",
       " 0,\n",
       " 0,\n",
       " 1,\n",
       " 1,\n",
       " 0,\n",
       " 0,\n",
       " 0,\n",
       " 0,\n",
       " 0,\n",
       " 1,\n",
       " 0,\n",
       " 1,\n",
       " 0,\n",
       " 0,\n",
       " 0,\n",
       " 1,\n",
       " 0,\n",
       " 1,\n",
       " 1,\n",
       " 0,\n",
       " 0,\n",
       " 1,\n",
       " 0,\n",
       " 0,\n",
       " 1,\n",
       " 0,\n",
       " 0,\n",
       " 1,\n",
       " 1,\n",
       " 0,\n",
       " 0,\n",
       " 0,\n",
       " 1,\n",
       " 0,\n",
       " 1,\n",
       " 1,\n",
       " 0,\n",
       " 0,\n",
       " 0,\n",
       " 0,\n",
       " 0,\n",
       " 0,\n",
       " 0,\n",
       " 1,\n",
       " 0,\n",
       " 0,\n",
       " 0,\n",
       " 0,\n",
       " 0,\n",
       " 1,\n",
       " 1,\n",
       " 0,\n",
       " 1,\n",
       " 0,\n",
       " 1,\n",
       " 1,\n",
       " 1,\n",
       " 1,\n",
       " 1,\n",
       " 0,\n",
       " 0,\n",
       " 1,\n",
       " 0,\n",
       " 1,\n",
       " 1,\n",
       " 0,\n",
       " 1,\n",
       " 0,\n",
       " 1,\n",
       " 0,\n",
       " 0,\n",
       " 0,\n",
       " 0,\n",
       " 1,\n",
       " 0,\n",
       " 1,\n",
       " 1,\n",
       " 0,\n",
       " 0,\n",
       " 0,\n",
       " 1,\n",
       " 1,\n",
       " 0,\n",
       " 1,\n",
       " 1,\n",
       " 1,\n",
       " 1,\n",
       " 1,\n",
       " 0,\n",
       " 1,\n",
       " 0,\n",
       " 1,\n",
       " 0,\n",
       " 1,\n",
       " 0,\n",
       " 0,\n",
       " 1,\n",
       " 1,\n",
       " 0,\n",
       " 0,\n",
       " 0,\n",
       " 1,\n",
       " 1,\n",
       " 1,\n",
       " 1,\n",
       " 0,\n",
       " 1,\n",
       " 0,\n",
       " 1,\n",
       " 0,\n",
       " 0,\n",
       " 1,\n",
       " 0,\n",
       " 0,\n",
       " 0,\n",
       " 0,\n",
       " 1,\n",
       " 0,\n",
       " 0,\n",
       " 0,\n",
       " 0,\n",
       " 0,\n",
       " 0,\n",
       " 1,\n",
       " 0,\n",
       " 1,\n",
       " 0,\n",
       " 0,\n",
       " 1,\n",
       " 0,\n",
       " 1,\n",
       " 0,\n",
       " 1,\n",
       " 0,\n",
       " 1,\n",
       " 0,\n",
       " 1,\n",
       " 1,\n",
       " 0,\n",
       " 0,\n",
       " 1,\n",
       " 0,\n",
       " 1,\n",
       " 0,\n",
       " 0,\n",
       " 0,\n",
       " 1,\n",
       " 1,\n",
       " 0,\n",
       " 1,\n",
       " 1,\n",
       " 1,\n",
       " 1,\n",
       " 1,\n",
       " 1,\n",
       " 0,\n",
       " 1,\n",
       " 1,\n",
       " 0,\n",
       " 1,\n",
       " 0,\n",
       " 0,\n",
       " 0,\n",
       " 1,\n",
       " 1,\n",
       " 0,\n",
       " 1,\n",
       " 0,\n",
       " 0,\n",
       " 0,\n",
       " 1,\n",
       " 0,\n",
       " 1,\n",
       " ...]"
      ]
     },
     "execution_count": 211,
     "metadata": {},
     "output_type": "execute_result"
    }
   ],
   "source": [
    "final"
   ]
  },
  {
   "cell_type": "code",
   "execution_count": 213,
   "metadata": {},
   "outputs": [
    {
     "data": {
      "text/plain": [
       "0        1\n",
       "1        0\n",
       "2        0\n",
       "3        0\n",
       "4        0\n",
       "        ..\n",
       "69942    1\n",
       "69943    1\n",
       "69944    1\n",
       "69945    0\n",
       "69946    0\n",
       "Length: 69947, dtype: int64"
      ]
     },
     "execution_count": 213,
     "metadata": {},
     "output_type": "execute_result"
    }
   ],
   "source": [
    "final_pred = pd.Series(final)\n",
    "final_pred"
   ]
  },
  {
   "cell_type": "code",
   "execution_count": 214,
   "metadata": {},
   "outputs": [
    {
     "name": "stdout",
     "output_type": "stream",
     "text": [
      "              precision    recall  f1-score   support\n",
      "\n",
      "           0       0.83      0.61      0.70     54764\n",
      "           1       0.28      0.54      0.37     15183\n",
      "\n",
      "    accuracy                           0.59     69947\n",
      "   macro avg       0.55      0.58      0.53     69947\n",
      "weighted avg       0.71      0.59      0.63     69947\n",
      "\n"
     ]
    }
   ],
   "source": [
    "print(classification_report(testy, final_pred))"
   ]
  },
  {
   "cell_type": "code",
   "execution_count": 266,
   "metadata": {},
   "outputs": [],
   "source": [
    "final_df.to_csv('final_df.csv')"
   ]
  },
  {
   "cell_type": "code",
   "execution_count": 267,
   "metadata": {},
   "outputs": [],
   "source": [
    "train3_x_sm.to_csv('train3_x_sm.csv')\n",
    "train3_y_sm.to_csv('train3_y_sm.csv')\n",
    "testx.to_csv('testx.csv')\n",
    "testy.to_csv('testy.csv')"
   ]
  },
  {
   "cell_type": "code",
   "execution_count": 216,
   "metadata": {},
   "outputs": [],
   "source": [
    "#Perform more feature engineering"
   ]
  },
  {
   "cell_type": "code",
   "execution_count": 215,
   "metadata": {},
   "outputs": [
    {
     "data": {
      "text/html": [
       "<div>\n",
       "<style scoped>\n",
       "    .dataframe tbody tr th:only-of-type {\n",
       "        vertical-align: middle;\n",
       "    }\n",
       "\n",
       "    .dataframe tbody tr th {\n",
       "        vertical-align: top;\n",
       "    }\n",
       "\n",
       "    .dataframe thead th {\n",
       "        text-align: right;\n",
       "    }\n",
       "</style>\n",
       "<table border=\"1\" class=\"dataframe\">\n",
       "  <thead>\n",
       "    <tr style=\"text-align: right;\">\n",
       "      <th></th>\n",
       "      <th>disbursed_amount</th>\n",
       "      <th>asset_cost</th>\n",
       "      <th>ltv</th>\n",
       "      <th>Aadhar_flag</th>\n",
       "      <th>VoterID_flag</th>\n",
       "      <th>PERFORM_CNS.SCORE</th>\n",
       "      <th>PERFORM_CNS.SCORE.DESCRIPTION</th>\n",
       "      <th>PRI.NO.OF.ACCTS</th>\n",
       "      <th>PRI.ACTIVE.ACCTS</th>\n",
       "      <th>PRI.CURRENT.BALANCE</th>\n",
       "      <th>...</th>\n",
       "      <th>Salaried</th>\n",
       "      <th>Self employed</th>\n",
       "      <th>ATLEAST.ONE.PRI.OVERDUE.ACCTS</th>\n",
       "      <th>ZERO.PRI.OVERDUE.ACCTS</th>\n",
       "      <th>ATLEAST.ONE.NEW.ACCTS.IN.LAST.SIX.MONTHS</th>\n",
       "      <th>ZERO.NEW.ACCTS.IN.LAST.SIX.MONTHS</th>\n",
       "      <th>ATLEAST.ONE.DELINQUENT.ACCTS.IN.LAST.SIX.MONTHS</th>\n",
       "      <th>ZERO.DELINQUENT.ACCTS.IN.LAST.SIX.MONTHS</th>\n",
       "      <th>ATLEAST.ONE.NO.OF_INQUIRIES</th>\n",
       "      <th>ZERO.NO.OF_INQUIRIES</th>\n",
       "    </tr>\n",
       "  </thead>\n",
       "  <tbody>\n",
       "    <tr>\n",
       "      <th>0</th>\n",
       "      <td>50578</td>\n",
       "      <td>58400</td>\n",
       "      <td>89.55</td>\n",
       "      <td>1</td>\n",
       "      <td>0</td>\n",
       "      <td>0</td>\n",
       "      <td>116950</td>\n",
       "      <td>0</td>\n",
       "      <td>0</td>\n",
       "      <td>0</td>\n",
       "      <td>...</td>\n",
       "      <td>1</td>\n",
       "      <td>0</td>\n",
       "      <td>0</td>\n",
       "      <td>1</td>\n",
       "      <td>0</td>\n",
       "      <td>1</td>\n",
       "      <td>0</td>\n",
       "      <td>1</td>\n",
       "      <td>0</td>\n",
       "      <td>1</td>\n",
       "    </tr>\n",
       "    <tr>\n",
       "      <th>1</th>\n",
       "      <td>47145</td>\n",
       "      <td>65550</td>\n",
       "      <td>73.23</td>\n",
       "      <td>1</td>\n",
       "      <td>0</td>\n",
       "      <td>1</td>\n",
       "      <td>5557</td>\n",
       "      <td>1</td>\n",
       "      <td>1</td>\n",
       "      <td>27600</td>\n",
       "      <td>...</td>\n",
       "      <td>0</td>\n",
       "      <td>1</td>\n",
       "      <td>1</td>\n",
       "      <td>0</td>\n",
       "      <td>0</td>\n",
       "      <td>1</td>\n",
       "      <td>1</td>\n",
       "      <td>0</td>\n",
       "      <td>0</td>\n",
       "      <td>1</td>\n",
       "    </tr>\n",
       "    <tr>\n",
       "      <th>2</th>\n",
       "      <td>53278</td>\n",
       "      <td>61360</td>\n",
       "      <td>89.63</td>\n",
       "      <td>1</td>\n",
       "      <td>0</td>\n",
       "      <td>0</td>\n",
       "      <td>116950</td>\n",
       "      <td>0</td>\n",
       "      <td>0</td>\n",
       "      <td>0</td>\n",
       "      <td>...</td>\n",
       "      <td>0</td>\n",
       "      <td>1</td>\n",
       "      <td>0</td>\n",
       "      <td>1</td>\n",
       "      <td>0</td>\n",
       "      <td>1</td>\n",
       "      <td>0</td>\n",
       "      <td>1</td>\n",
       "      <td>0</td>\n",
       "      <td>1</td>\n",
       "    </tr>\n",
       "    <tr>\n",
       "      <th>3</th>\n",
       "      <td>57513</td>\n",
       "      <td>66113</td>\n",
       "      <td>88.48</td>\n",
       "      <td>1</td>\n",
       "      <td>0</td>\n",
       "      <td>1</td>\n",
       "      <td>1134</td>\n",
       "      <td>3</td>\n",
       "      <td>0</td>\n",
       "      <td>0</td>\n",
       "      <td>...</td>\n",
       "      <td>0</td>\n",
       "      <td>1</td>\n",
       "      <td>0</td>\n",
       "      <td>1</td>\n",
       "      <td>0</td>\n",
       "      <td>1</td>\n",
       "      <td>0</td>\n",
       "      <td>1</td>\n",
       "      <td>1</td>\n",
       "      <td>0</td>\n",
       "    </tr>\n",
       "    <tr>\n",
       "      <th>4</th>\n",
       "      <td>52378</td>\n",
       "      <td>60300</td>\n",
       "      <td>88.39</td>\n",
       "      <td>1</td>\n",
       "      <td>0</td>\n",
       "      <td>0</td>\n",
       "      <td>116950</td>\n",
       "      <td>0</td>\n",
       "      <td>0</td>\n",
       "      <td>0</td>\n",
       "      <td>...</td>\n",
       "      <td>0</td>\n",
       "      <td>1</td>\n",
       "      <td>0</td>\n",
       "      <td>1</td>\n",
       "      <td>0</td>\n",
       "      <td>1</td>\n",
       "      <td>0</td>\n",
       "      <td>1</td>\n",
       "      <td>1</td>\n",
       "      <td>0</td>\n",
       "    </tr>\n",
       "  </tbody>\n",
       "</table>\n",
       "<p>5 rows × 26 columns</p>\n",
       "</div>"
      ],
      "text/plain": [
       "   disbursed_amount  asset_cost    ltv  Aadhar_flag  VoterID_flag  \\\n",
       "0             50578       58400  89.55            1             0   \n",
       "1             47145       65550  73.23            1             0   \n",
       "2             53278       61360  89.63            1             0   \n",
       "3             57513       66113  88.48            1             0   \n",
       "4             52378       60300  88.39            1             0   \n",
       "\n",
       "   PERFORM_CNS.SCORE  PERFORM_CNS.SCORE.DESCRIPTION  PRI.NO.OF.ACCTS  \\\n",
       "0                  0                         116950                0   \n",
       "1                  1                           5557                1   \n",
       "2                  0                         116950                0   \n",
       "3                  1                           1134                3   \n",
       "4                  0                         116950                0   \n",
       "\n",
       "   PRI.ACTIVE.ACCTS  PRI.CURRENT.BALANCE  ...  Salaried  Self employed  \\\n",
       "0                 0                    0  ...         1              0   \n",
       "1                 1                27600  ...         0              1   \n",
       "2                 0                    0  ...         0              1   \n",
       "3                 0                    0  ...         0              1   \n",
       "4                 0                    0  ...         0              1   \n",
       "\n",
       "   ATLEAST.ONE.PRI.OVERDUE.ACCTS  ZERO.PRI.OVERDUE.ACCTS  \\\n",
       "0                              0                       1   \n",
       "1                              1                       0   \n",
       "2                              0                       1   \n",
       "3                              0                       1   \n",
       "4                              0                       1   \n",
       "\n",
       "   ATLEAST.ONE.NEW.ACCTS.IN.LAST.SIX.MONTHS  \\\n",
       "0                                         0   \n",
       "1                                         0   \n",
       "2                                         0   \n",
       "3                                         0   \n",
       "4                                         0   \n",
       "\n",
       "   ZERO.NEW.ACCTS.IN.LAST.SIX.MONTHS  \\\n",
       "0                                  1   \n",
       "1                                  1   \n",
       "2                                  1   \n",
       "3                                  1   \n",
       "4                                  1   \n",
       "\n",
       "   ATLEAST.ONE.DELINQUENT.ACCTS.IN.LAST.SIX.MONTHS  \\\n",
       "0                                                0   \n",
       "1                                                1   \n",
       "2                                                0   \n",
       "3                                                0   \n",
       "4                                                0   \n",
       "\n",
       "   ZERO.DELINQUENT.ACCTS.IN.LAST.SIX.MONTHS  ATLEAST.ONE.NO.OF_INQUIRIES  \\\n",
       "0                                         1                            0   \n",
       "1                                         0                            0   \n",
       "2                                         1                            0   \n",
       "3                                         1                            1   \n",
       "4                                         1                            1   \n",
       "\n",
       "   ZERO.NO.OF_INQUIRIES  \n",
       "0                     1  \n",
       "1                     1  \n",
       "2                     1  \n",
       "3                     0  \n",
       "4                     0  \n",
       "\n",
       "[5 rows x 26 columns]"
      ]
     },
     "execution_count": 215,
     "metadata": {},
     "output_type": "execute_result"
    }
   ],
   "source": [
    "dfc_new.head()"
   ]
  },
  {
   "cell_type": "code",
   "execution_count": 217,
   "metadata": {},
   "outputs": [
    {
     "data": {
      "text/plain": [
       "Index(['disbursed_amount', 'asset_cost', 'ltv', 'Aadhar_flag', 'VoterID_flag',\n",
       "       'PERFORM_CNS.SCORE', 'PERFORM_CNS.SCORE.DESCRIPTION', 'PRI.NO.OF.ACCTS',\n",
       "       'PRI.ACTIVE.ACCTS', 'PRI.CURRENT.BALANCE', 'PRI.SANCTIONED.AMOUNT',\n",
       "       'PRI.DISBURSED.AMOUNT', 'PRIMARY.INSTAL.AMT', 'AVERAGE.ACCT.AGE',\n",
       "       'CREDIT.HISTORY.LENGTH', 'loan_default', 'Salaried', 'Self employed',\n",
       "       'ATLEAST.ONE.PRI.OVERDUE.ACCTS', 'ZERO.PRI.OVERDUE.ACCTS',\n",
       "       'ATLEAST.ONE.NEW.ACCTS.IN.LAST.SIX.MONTHS',\n",
       "       'ZERO.NEW.ACCTS.IN.LAST.SIX.MONTHS',\n",
       "       'ATLEAST.ONE.DELINQUENT.ACCTS.IN.LAST.SIX.MONTHS',\n",
       "       'ZERO.DELINQUENT.ACCTS.IN.LAST.SIX.MONTHS',\n",
       "       'ATLEAST.ONE.NO.OF_INQUIRIES', 'ZERO.NO.OF_INQUIRIES'],\n",
       "      dtype='object')"
      ]
     },
     "execution_count": 217,
     "metadata": {},
     "output_type": "execute_result"
    }
   ],
   "source": [
    "dfc_new.columns"
   ]
  },
  {
   "cell_type": "code",
   "execution_count": 227,
   "metadata": {},
   "outputs": [
    {
     "data": {
      "text/plain": [
       "loan_default\n",
       "0    53826.47\n",
       "1    56270.47\n",
       "Name: disbursed_amount, dtype: float64"
      ]
     },
     "execution_count": 227,
     "metadata": {},
     "output_type": "execute_result"
    }
   ],
   "source": [
    "round(dfc_new.groupby('loan_default')['disbursed_amount'].mean(),2)"
   ]
  },
  {
   "cell_type": "code",
   "execution_count": 229,
   "metadata": {},
   "outputs": [],
   "source": [
    "a = dfc_new[dfc_new['loan_default'] == 0].index\n",
    "a = list(a)\n"
   ]
  },
  {
   "cell_type": "code",
   "execution_count": 230,
   "metadata": {},
   "outputs": [],
   "source": [
    "b = dfc_new[dfc_new['loan_default'] == 1].index\n",
    "b = list(b)\n"
   ]
  },
  {
   "cell_type": "code",
   "execution_count": 231,
   "metadata": {},
   "outputs": [],
   "source": [
    "dfc_new['Mean_Disbursed_Amount_wrt_loan_status'] = round(dfc_new.groupby('loan_default')['disbursed_amount'].mean(),2)[0]"
   ]
  },
  {
   "cell_type": "code",
   "execution_count": 232,
   "metadata": {},
   "outputs": [
    {
     "name": "stderr",
     "output_type": "stream",
     "text": [
      "C:\\Users\\Tusha\\Anaconda3\\lib\\site-packages\\pandas\\core\\indexing.py:670: SettingWithCopyWarning: \n",
      "A value is trying to be set on a copy of a slice from a DataFrame\n",
      "\n",
      "See the caveats in the documentation: https://pandas.pydata.org/pandas-docs/stable/user_guide/indexing.html#returning-a-view-versus-a-copy\n",
      "  iloc._setitem_with_indexer(indexer, value)\n"
     ]
    }
   ],
   "source": [
    "dfc_new['Mean_Disbursed_Amount_wrt_loan_status'].iloc[b] = round(dfc_new.groupby('loan_default')['disbursed_amount'].mean(),2)[1]"
   ]
  },
  {
   "cell_type": "code",
   "execution_count": 233,
   "metadata": {},
   "outputs": [
    {
     "data": {
      "text/plain": [
       "53826.47    182543\n",
       "56270.47     50611\n",
       "Name: Mean_Disbursed_Amount_wrt_loan_status, dtype: int64"
      ]
     },
     "execution_count": 233,
     "metadata": {},
     "output_type": "execute_result"
    }
   ],
   "source": [
    "dfc_new['Mean_Disbursed_Amount_wrt_loan_status'].value_counts()"
   ]
  },
  {
   "cell_type": "code",
   "execution_count": 234,
   "metadata": {},
   "outputs": [
    {
     "data": {
      "text/plain": [
       "0    182543\n",
       "1     50611\n",
       "Name: loan_default, dtype: int64"
      ]
     },
     "execution_count": 234,
     "metadata": {},
     "output_type": "execute_result"
    }
   ],
   "source": [
    "dfc_new['loan_default'].value_counts()"
   ]
  },
  {
   "cell_type": "code",
   "execution_count": 238,
   "metadata": {},
   "outputs": [
    {
     "data": {
      "image/png": "[encoded data removed]",
      "text/plain": [
       "<Figure size 800x600 with 2 Axes>"
      ]
     },
     "metadata": {
      "needs_background": "light"
     },
     "output_type": "display_data"
    }
   ],
   "source": [
    "plt.figure(figsize = (8,6),dpi = 100)\n",
    "sns.heatmap(dfc_new.corr()[dfc_new.corr() >0.5], annot = True)\n",
    "plt.show()"
   ]
  },
  {
   "cell_type": "code",
   "execution_count": 239,
   "metadata": {},
   "outputs": [
    {
     "name": "stdout",
     "output_type": "stream",
     "text": [
      "<class 'pandas.core.frame.DataFrame'>\n",
      "RangeIndex: 233154 entries, 0 to 233153\n",
      "Data columns (total 27 columns):\n",
      " #   Column                                           Non-Null Count   Dtype  \n",
      "---  ------                                           --------------   -----  \n",
      " 0   disbursed_amount                                 233154 non-null  int64  \n",
      " 1   asset_cost                                       233154 non-null  int64  \n",
      " 2   ltv                                              233154 non-null  float64\n",
      " 3   Aadhar_flag                                      233154 non-null  int64  \n",
      " 4   VoterID_flag                                     233154 non-null  int64  \n",
      " 5   PERFORM_CNS.SCORE                                233154 non-null  int64  \n",
      " 6   PERFORM_CNS.SCORE.DESCRIPTION                    233154 non-null  int64  \n",
      " 7   PRI.NO.OF.ACCTS                                  233154 non-null  int64  \n",
      " 8   PRI.ACTIVE.ACCTS                                 233154 non-null  int64  \n",
      " 9   PRI.CURRENT.BALANCE                              233154 non-null  int64  \n",
      " 10  PRI.SANCTIONED.AMOUNT                            233154 non-null  int64  \n",
      " 11  PRI.DISBURSED.AMOUNT                             233154 non-null  int64  \n",
      " 12  PRIMARY.INSTAL.AMT                               233154 non-null  int64  \n",
      " 13  AVERAGE.ACCT.AGE                                 233154 non-null  float64\n",
      " 14  CREDIT.HISTORY.LENGTH                            233154 non-null  float64\n",
      " 15  loan_default                                     233154 non-null  int64  \n",
      " 16  Salaried                                         233154 non-null  int64  \n",
      " 17  Self employed                                    233154 non-null  int64  \n",
      " 18  ATLEAST.ONE.PRI.OVERDUE.ACCTS                    233154 non-null  int64  \n",
      " 19  ZERO.PRI.OVERDUE.ACCTS                           233154 non-null  int64  \n",
      " 20  ATLEAST.ONE.NEW.ACCTS.IN.LAST.SIX.MONTHS         233154 non-null  int64  \n",
      " 21  ZERO.NEW.ACCTS.IN.LAST.SIX.MONTHS                233154 non-null  int64  \n",
      " 22  ATLEAST.ONE.DELINQUENT.ACCTS.IN.LAST.SIX.MONTHS  233154 non-null  int64  \n",
      " 23  ZERO.DELINQUENT.ACCTS.IN.LAST.SIX.MONTHS         233154 non-null  int64  \n",
      " 24  ATLEAST.ONE.NO.OF_INQUIRIES                      233154 non-null  int64  \n",
      " 25  ZERO.NO.OF_INQUIRIES                             233154 non-null  int64  \n",
      " 26  Mean_Disbursed_Amount_wrt_loan_status            233154 non-null  float64\n",
      "dtypes: float64(4), int64(23)\n",
      "memory usage: 48.0 MB\n"
     ]
    }
   ],
   "source": [
    "dfc_new.info()"
   ]
  },
  {
   "cell_type": "code",
   "execution_count": 246,
   "metadata": {},
   "outputs": [],
   "source": [
    "x = dfc_new.drop('loan_default', axis = 1)\n",
    "y = dfc_new['loan_default']"
   ]
  },
  {
   "cell_type": "code",
   "execution_count": 247,
   "metadata": {},
   "outputs": [],
   "source": [
    "trainx, testx, trainy, testy = train_test_split(x,y, test_size = 0.30, random_state = 10)"
   ]
  },
  {
   "cell_type": "code",
   "execution_count": 248,
   "metadata": {},
   "outputs": [],
   "source": [
    "rf = RandomForestClassifier()"
   ]
  },
  {
   "cell_type": "code",
   "execution_count": 251,
   "metadata": {},
   "outputs": [],
   "source": [
    "pred_test = rf.fit(trainx, trainy).predict(testx)"
   ]
  },
  {
   "cell_type": "code",
   "execution_count": 252,
   "metadata": {},
   "outputs": [
    {
     "name": "stdout",
     "output_type": "stream",
     "text": [
      "              precision    recall  f1-score   support\n",
      "\n",
      "           0       1.00      1.00      1.00     54757\n",
      "           1       1.00      1.00      1.00     15190\n",
      "\n",
      "    accuracy                           1.00     69947\n",
      "   macro avg       1.00      1.00      1.00     69947\n",
      "weighted avg       1.00      1.00      1.00     69947\n",
      "\n"
     ]
    }
   ],
   "source": [
    "print(classification_report(testy, pred_test))"
   ]
  },
  {
   "cell_type": "code",
   "execution_count": 249,
   "metadata": {},
   "outputs": [
    {
     "data": {
      "text/plain": [
       "(69947, 26)"
      ]
     },
     "execution_count": 249,
     "metadata": {},
     "output_type": "execute_result"
    }
   ],
   "source": [
    "testx.shape"
   ]
  },
  {
   "cell_type": "code",
   "execution_count": 250,
   "metadata": {},
   "outputs": [
    {
     "data": {
      "text/plain": [
       "(163207, 26)"
      ]
     },
     "execution_count": 250,
     "metadata": {},
     "output_type": "execute_result"
    }
   ],
   "source": [
    "trainx.shape"
   ]
  },
  {
   "cell_type": "code",
   "execution_count": 254,
   "metadata": {},
   "outputs": [],
   "source": [
    "dfc_new2 = dfc_new.copy()"
   ]
  },
  {
   "cell_type": "code",
   "execution_count": 255,
   "metadata": {},
   "outputs": [],
   "source": [
    "dfc_new2.drop('Mean_Disbursed_Amount_wrt_loan_status', axis = 1, inplace = True)"
   ]
  },
  {
   "cell_type": "code",
   "execution_count": 256,
   "metadata": {},
   "outputs": [
    {
     "data": {
      "text/plain": [
       "(233154, 26)"
      ]
     },
     "execution_count": 256,
     "metadata": {},
     "output_type": "execute_result"
    }
   ],
   "source": [
    "dfc_new2.shape"
   ]
  },
  {
   "cell_type": "code",
   "execution_count": 257,
   "metadata": {},
   "outputs": [
    {
     "data": {
      "text/plain": [
       "(233154, 27)"
      ]
     },
     "execution_count": 257,
     "metadata": {},
     "output_type": "execute_result"
    }
   ],
   "source": [
    "dfc_new.shape"
   ]
  },
  {
   "cell_type": "code",
   "execution_count": 258,
   "metadata": {},
   "outputs": [
    {
     "data": {
      "text/plain": [
       "Index(['disbursed_amount', 'asset_cost', 'ltv', 'Aadhar_flag', 'VoterID_flag',\n",
       "       'PERFORM_CNS.SCORE', 'PERFORM_CNS.SCORE.DESCRIPTION', 'PRI.NO.OF.ACCTS',\n",
       "       'PRI.ACTIVE.ACCTS', 'PRI.CURRENT.BALANCE', 'PRI.SANCTIONED.AMOUNT',\n",
       "       'PRI.DISBURSED.AMOUNT', 'PRIMARY.INSTAL.AMT', 'AVERAGE.ACCT.AGE',\n",
       "       'CREDIT.HISTORY.LENGTH', 'loan_default', 'Salaried', 'Self employed',\n",
       "       'ATLEAST.ONE.PRI.OVERDUE.ACCTS', 'ZERO.PRI.OVERDUE.ACCTS',\n",
       "       'ATLEAST.ONE.NEW.ACCTS.IN.LAST.SIX.MONTHS',\n",
       "       'ZERO.NEW.ACCTS.IN.LAST.SIX.MONTHS',\n",
       "       'ATLEAST.ONE.DELINQUENT.ACCTS.IN.LAST.SIX.MONTHS',\n",
       "       'ZERO.DELINQUENT.ACCTS.IN.LAST.SIX.MONTHS',\n",
       "       'ATLEAST.ONE.NO.OF_INQUIRIES', 'ZERO.NO.OF_INQUIRIES'],\n",
       "      dtype='object')"
      ]
     },
     "execution_count": 258,
     "metadata": {},
     "output_type": "execute_result"
    }
   ],
   "source": [
    "dfc_new2.columns"
   ]
  },
  {
   "cell_type": "code",
   "execution_count": 261,
   "metadata": {},
   "outputs": [],
   "source": [
    "from sklearn.cluster import KMeans\n",
    "from sklearn.metrics import silhouette_score"
   ]
  },
  {
   "cell_type": "code",
   "execution_count": 262,
   "metadata": {},
   "outputs": [],
   "source": [
    "features = dfc_new2.drop('loan_default', axis = 1)\n",
    "y = dfc_new2['loan_default']"
   ]
  },
  {
   "cell_type": "code",
   "execution_count": 265,
   "metadata": {},
   "outputs": [
    {
     "ename": "KeyboardInterrupt",
     "evalue": "",
     "output_type": "error",
     "traceback": [
      "\u001b[1;31m---------------------------------------------------------------------------\u001b[0m",
      "\u001b[1;31mKeyboardInterrupt\u001b[0m                         Traceback (most recent call last)",
      "\u001b[1;32m<ipython-input-265-69e097f5716e>\u001b[0m in \u001b[0;36m<module>\u001b[1;34m\u001b[0m\n\u001b[0;32m      6\u001b[0m     \u001b[0mkm\u001b[0m\u001b[1;33m.\u001b[0m\u001b[0mfit\u001b[0m\u001b[1;33m(\u001b[0m\u001b[0mfeatures\u001b[0m\u001b[1;33m)\u001b[0m\u001b[1;33m\u001b[0m\u001b[1;33m\u001b[0m\u001b[0m\n\u001b[0;32m      7\u001b[0m     \u001b[0merr\u001b[0m\u001b[1;33m.\u001b[0m\u001b[0mappend\u001b[0m\u001b[1;33m(\u001b[0m\u001b[0mkm\u001b[0m\u001b[1;33m.\u001b[0m\u001b[0minertia_\u001b[0m\u001b[1;33m)\u001b[0m\u001b[1;33m\u001b[0m\u001b[1;33m\u001b[0m\u001b[0m\n\u001b[1;32m----> 8\u001b[1;33m     \u001b[0mscore\u001b[0m\u001b[1;33m.\u001b[0m\u001b[0mappend\u001b[0m\u001b[1;33m(\u001b[0m\u001b[0msilhouette_score\u001b[0m\u001b[1;33m(\u001b[0m\u001b[0mfeatures\u001b[0m\u001b[1;33m,\u001b[0m \u001b[0mkm\u001b[0m\u001b[1;33m.\u001b[0m\u001b[0mlabels_\u001b[0m\u001b[1;33m)\u001b[0m\u001b[1;33m)\u001b[0m\u001b[1;33m\u001b[0m\u001b[1;33m\u001b[0m\u001b[0m\n\u001b[0m\u001b[0;32m      9\u001b[0m \u001b[1;33m\u001b[0m\u001b[0m\n",
      "\u001b[1;32m~\\Anaconda3\\lib\\site-packages\\sklearn\\utils\\validation.py\u001b[0m in \u001b[0;36minner_f\u001b[1;34m(*args, **kwargs)\u001b[0m\n\u001b[0;32m     61\u001b[0m             \u001b[0mextra_args\u001b[0m \u001b[1;33m=\u001b[0m \u001b[0mlen\u001b[0m\u001b[1;33m(\u001b[0m\u001b[0margs\u001b[0m\u001b[1;33m)\u001b[0m \u001b[1;33m-\u001b[0m \u001b[0mlen\u001b[0m\u001b[1;33m(\u001b[0m\u001b[0mall_args\u001b[0m\u001b[1;33m)\u001b[0m\u001b[1;33m\u001b[0m\u001b[1;33m\u001b[0m\u001b[0m\n\u001b[0;32m     62\u001b[0m             \u001b[1;32mif\u001b[0m \u001b[0mextra_args\u001b[0m \u001b[1;33m<=\u001b[0m \u001b[1;36m0\u001b[0m\u001b[1;33m:\u001b[0m\u001b[1;33m\u001b[0m\u001b[1;33m\u001b[0m\u001b[0m\n\u001b[1;32m---> 63\u001b[1;33m                 \u001b[1;32mreturn\u001b[0m \u001b[0mf\u001b[0m\u001b[1;33m(\u001b[0m\u001b[1;33m*\u001b[0m\u001b[0margs\u001b[0m\u001b[1;33m,\u001b[0m \u001b[1;33m**\u001b[0m\u001b[0mkwargs\u001b[0m\u001b[1;33m)\u001b[0m\u001b[1;33m\u001b[0m\u001b[1;33m\u001b[0m\u001b[0m\n\u001b[0m\u001b[0;32m     64\u001b[0m \u001b[1;33m\u001b[0m\u001b[0m\n\u001b[0;32m     65\u001b[0m             \u001b[1;31m# extra_args > 0\u001b[0m\u001b[1;33m\u001b[0m\u001b[1;33m\u001b[0m\u001b[1;33m\u001b[0m\u001b[0m\n",
      "\u001b[1;32m~\\Anaconda3\\lib\\site-packages\\sklearn\\metrics\\cluster\\_unsupervised.py\u001b[0m in \u001b[0;36msilhouette_score\u001b[1;34m(X, labels, metric, sample_size, random_state, **kwds)\u001b[0m\n\u001b[0;32m    115\u001b[0m         \u001b[1;32melse\u001b[0m\u001b[1;33m:\u001b[0m\u001b[1;33m\u001b[0m\u001b[1;33m\u001b[0m\u001b[0m\n\u001b[0;32m    116\u001b[0m             \u001b[0mX\u001b[0m\u001b[1;33m,\u001b[0m \u001b[0mlabels\u001b[0m \u001b[1;33m=\u001b[0m \u001b[0mX\u001b[0m\u001b[1;33m[\u001b[0m\u001b[0mindices\u001b[0m\u001b[1;33m]\u001b[0m\u001b[1;33m,\u001b[0m \u001b[0mlabels\u001b[0m\u001b[1;33m[\u001b[0m\u001b[0mindices\u001b[0m\u001b[1;33m]\u001b[0m\u001b[1;33m\u001b[0m\u001b[1;33m\u001b[0m\u001b[0m\n\u001b[1;32m--> 117\u001b[1;33m     \u001b[1;32mreturn\u001b[0m \u001b[0mnp\u001b[0m\u001b[1;33m.\u001b[0m\u001b[0mmean\u001b[0m\u001b[1;33m(\u001b[0m\u001b[0msilhouette_samples\u001b[0m\u001b[1;33m(\u001b[0m\u001b[0mX\u001b[0m\u001b[1;33m,\u001b[0m \u001b[0mlabels\u001b[0m\u001b[1;33m,\u001b[0m \u001b[0mmetric\u001b[0m\u001b[1;33m=\u001b[0m\u001b[0mmetric\u001b[0m\u001b[1;33m,\u001b[0m \u001b[1;33m**\u001b[0m\u001b[0mkwds\u001b[0m\u001b[1;33m)\u001b[0m\u001b[1;33m)\u001b[0m\u001b[1;33m\u001b[0m\u001b[1;33m\u001b[0m\u001b[0m\n\u001b[0m\u001b[0;32m    118\u001b[0m \u001b[1;33m\u001b[0m\u001b[0m\n\u001b[0;32m    119\u001b[0m \u001b[1;33m\u001b[0m\u001b[0m\n",
      "\u001b[1;32m~\\Anaconda3\\lib\\site-packages\\sklearn\\utils\\validation.py\u001b[0m in \u001b[0;36minner_f\u001b[1;34m(*args, **kwargs)\u001b[0m\n\u001b[0;32m     61\u001b[0m             \u001b[0mextra_args\u001b[0m \u001b[1;33m=\u001b[0m \u001b[0mlen\u001b[0m\u001b[1;33m(\u001b[0m\u001b[0margs\u001b[0m\u001b[1;33m)\u001b[0m \u001b[1;33m-\u001b[0m \u001b[0mlen\u001b[0m\u001b[1;33m(\u001b[0m\u001b[0mall_args\u001b[0m\u001b[1;33m)\u001b[0m\u001b[1;33m\u001b[0m\u001b[1;33m\u001b[0m\u001b[0m\n\u001b[0;32m     62\u001b[0m             \u001b[1;32mif\u001b[0m \u001b[0mextra_args\u001b[0m \u001b[1;33m<=\u001b[0m \u001b[1;36m0\u001b[0m\u001b[1;33m:\u001b[0m\u001b[1;33m\u001b[0m\u001b[1;33m\u001b[0m\u001b[0m\n\u001b[1;32m---> 63\u001b[1;33m                 \u001b[1;32mreturn\u001b[0m \u001b[0mf\u001b[0m\u001b[1;33m(\u001b[0m\u001b[1;33m*\u001b[0m\u001b[0margs\u001b[0m\u001b[1;33m,\u001b[0m \u001b[1;33m**\u001b[0m\u001b[0mkwargs\u001b[0m\u001b[1;33m)\u001b[0m\u001b[1;33m\u001b[0m\u001b[1;33m\u001b[0m\u001b[0m\n\u001b[0m\u001b[0;32m     64\u001b[0m \u001b[1;33m\u001b[0m\u001b[0m\n\u001b[0;32m     65\u001b[0m             \u001b[1;31m# extra_args > 0\u001b[0m\u001b[1;33m\u001b[0m\u001b[1;33m\u001b[0m\u001b[1;33m\u001b[0m\u001b[0m\n",
      "\u001b[1;32m~\\Anaconda3\\lib\\site-packages\\sklearn\\metrics\\cluster\\_unsupervised.py\u001b[0m in \u001b[0;36msilhouette_samples\u001b[1;34m(X, labels, metric, **kwds)\u001b[0m\n\u001b[0;32m    233\u001b[0m                                     labels=labels, label_freqs=label_freqs)\n\u001b[0;32m    234\u001b[0m     results = zip(*pairwise_distances_chunked(X, reduce_func=reduce_func,\n\u001b[1;32m--> 235\u001b[1;33m                                               **kwds))\n\u001b[0m\u001b[0;32m    236\u001b[0m     \u001b[0mintra_clust_dists\u001b[0m\u001b[1;33m,\u001b[0m \u001b[0minter_clust_dists\u001b[0m \u001b[1;33m=\u001b[0m \u001b[0mresults\u001b[0m\u001b[1;33m\u001b[0m\u001b[1;33m\u001b[0m\u001b[0m\n\u001b[0;32m    237\u001b[0m     \u001b[0mintra_clust_dists\u001b[0m \u001b[1;33m=\u001b[0m \u001b[0mnp\u001b[0m\u001b[1;33m.\u001b[0m\u001b[0mconcatenate\u001b[0m\u001b[1;33m(\u001b[0m\u001b[0mintra_clust_dists\u001b[0m\u001b[1;33m)\u001b[0m\u001b[1;33m\u001b[0m\u001b[1;33m\u001b[0m\u001b[0m\n",
      "\u001b[1;32m~\\Anaconda3\\lib\\site-packages\\sklearn\\metrics\\pairwise.py\u001b[0m in \u001b[0;36mpairwise_distances_chunked\u001b[1;34m(X, Y, reduce_func, metric, n_jobs, working_memory, **kwds)\u001b[0m\n\u001b[0;32m   1631\u001b[0m         \u001b[1;32mif\u001b[0m \u001b[0mreduce_func\u001b[0m \u001b[1;32mis\u001b[0m \u001b[1;32mnot\u001b[0m \u001b[1;32mNone\u001b[0m\u001b[1;33m:\u001b[0m\u001b[1;33m\u001b[0m\u001b[1;33m\u001b[0m\u001b[0m\n\u001b[0;32m   1632\u001b[0m             \u001b[0mchunk_size\u001b[0m \u001b[1;33m=\u001b[0m \u001b[0mD_chunk\u001b[0m\u001b[1;33m.\u001b[0m\u001b[0mshape\u001b[0m\u001b[1;33m[\u001b[0m\u001b[1;36m0\u001b[0m\u001b[1;33m]\u001b[0m\u001b[1;33m\u001b[0m\u001b[1;33m\u001b[0m\u001b[0m\n\u001b[1;32m-> 1633\u001b[1;33m             \u001b[0mD_chunk\u001b[0m \u001b[1;33m=\u001b[0m \u001b[0mreduce_func\u001b[0m\u001b[1;33m(\u001b[0m\u001b[0mD_chunk\u001b[0m\u001b[1;33m,\u001b[0m \u001b[0msl\u001b[0m\u001b[1;33m.\u001b[0m\u001b[0mstart\u001b[0m\u001b[1;33m)\u001b[0m\u001b[1;33m\u001b[0m\u001b[1;33m\u001b[0m\u001b[0m\n\u001b[0m\u001b[0;32m   1634\u001b[0m             \u001b[0m_check_chunk_size\u001b[0m\u001b[1;33m(\u001b[0m\u001b[0mD_chunk\u001b[0m\u001b[1;33m,\u001b[0m \u001b[0mchunk_size\u001b[0m\u001b[1;33m)\u001b[0m\u001b[1;33m\u001b[0m\u001b[1;33m\u001b[0m\u001b[0m\n\u001b[0;32m   1635\u001b[0m         \u001b[1;32myield\u001b[0m \u001b[0mD_chunk\u001b[0m\u001b[1;33m\u001b[0m\u001b[1;33m\u001b[0m\u001b[0m\n",
      "\u001b[1;32m~\\Anaconda3\\lib\\site-packages\\sklearn\\metrics\\cluster\\_unsupervised.py\u001b[0m in \u001b[0;36m_silhouette_reduce\u001b[1;34m(D_chunk, start, labels, label_freqs)\u001b[0m\n\u001b[0;32m    137\u001b[0m     \u001b[1;32mfor\u001b[0m \u001b[0mi\u001b[0m \u001b[1;32min\u001b[0m \u001b[0mrange\u001b[0m\u001b[1;33m(\u001b[0m\u001b[0mlen\u001b[0m\u001b[1;33m(\u001b[0m\u001b[0mD_chunk\u001b[0m\u001b[1;33m)\u001b[0m\u001b[1;33m)\u001b[0m\u001b[1;33m:\u001b[0m\u001b[1;33m\u001b[0m\u001b[1;33m\u001b[0m\u001b[0m\n\u001b[0;32m    138\u001b[0m         clust_dists[i] += np.bincount(labels, weights=D_chunk[i],\n\u001b[1;32m--> 139\u001b[1;33m                                       minlength=len(label_freqs))\n\u001b[0m\u001b[0;32m    140\u001b[0m \u001b[1;33m\u001b[0m\u001b[0m\n\u001b[0;32m    141\u001b[0m     \u001b[1;31m# intra_index selects intra-cluster distances within clust_dists\u001b[0m\u001b[1;33m\u001b[0m\u001b[1;33m\u001b[0m\u001b[1;33m\u001b[0m\u001b[0m\n",
      "\u001b[1;31mKeyboardInterrupt\u001b[0m: "
     ]
    }
   ],
   "source": [
    "err = []\n",
    "score = []\n",
    "\n",
    "for i in range(2,10):\n",
    "    km = KMeans(n_clusters = i)\n",
    "    km.fit(features)\n",
    "    err.append(km.inertia_)\n",
    "    score.append(silhouette_score(features, km.labels_))\n",
    "    "
   ]
  },
  {
   "cell_type": "code",
   "execution_count": null,
   "metadata": {},
   "outputs": [],
   "source": []
  }
 ],
 "metadata": {
  "kernelspec": {
   "display_name": "Python 3",
   "language": "python",
   "name": "python3"
  },
  "language_info": {
   "codemirror_mode": {
    "name": "ipython",
    "version": 3
   },
   "file_extension": ".py",
   "mimetype": "text/x-python",
   "name": "python",
   "nbconvert_exporter": "python",
   "pygments_lexer": "ipython3",
   "version": "3.7.4"
  }
 },
 "nbformat": 4,
 "nbformat_minor": 2
}
